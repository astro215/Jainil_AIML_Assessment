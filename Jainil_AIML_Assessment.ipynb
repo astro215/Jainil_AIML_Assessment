{
 "cells": [
  {
   "cell_type": "markdown",
   "metadata": {},
   "source": [
    "# A.P. Moller Maersk Case Study - DS_ML Coding Challenge Dataset\n",
    " "
   ]
  },
  {
   "cell_type": "markdown",
   "metadata": {},
   "source": [
    "**Table of contents**<a id='toc0_'></a>    \n",
    "- [Preprocessing and Feature Engineering](#toc1_)    \n",
    "  - [Reading all Sheets in Excel File and displaying them](#toc1_1_)    \n",
    "  - [Intializing the training and testing dataframes](#toc1_2_)    \n",
    "  - [About the Data](#toc1_3_)    \n",
    "  - [Changing the data types of the columns](#toc1_4_)    \n",
    "- [Exploratory Data Analysis on the Data](#toc2_)    \n",
    "  - [Training Data](#toc2_1_)    \n",
    "    - [Missing Values](#toc2_1_1_)    \n",
    "    - [Category Distribution](#toc2_1_2_)    \n",
    "    - [Date wise Distribution](#toc2_1_3_)    \n",
    "    - [Data Visualization on the Training Data (categorical features)](#toc2_1_4_)    \n",
    "    - [Extracting Quantity of the Different Products Combinations](#toc2_1_5_)    \n",
    "      - [Unique Product Combinations over Product Type , Manufacturer , Area Code , Sourcing Channel , Product Size , Product Type (Powder vs. Liquid)](#toc2_1_5_1_)    \n",
    "      - [All combination line plot over months for Quantity and Sourcing Cost](#toc2_1_5_2_)    \n",
    "    - [Adding the Quantity of the Different Products Combinations with respect to `Date` and `Sourcing Cost` to the Training Data](#toc2_1_6_)    \n",
    "      - [Saving the Training Data to a CSV file](#toc2_1_6_1_)    \n",
    "  - [Test Data](#toc2_2_)    \n",
    "    - [Data Visualization on the Testing Data (categorical features)](#toc2_2_1_)    \n",
    "- [Forecasting the Sourcing Cost](#toc3_)    \n",
    "  - [Train Test Preparation](#toc3_1_)    \n",
    "  - [Models](#toc3_2_)    \n",
    "    - [LSTM Model](#toc3_2_1_)    \n",
    "    - [XGBoost Regressor](#toc3_2_2_)    \n",
    "    - [Random Forest Regressor](#toc3_2_3_)    \n",
    "- [Forecasting the Quantity](#toc4_)    \n",
    "  - [Train Test Split](#toc4_1_)    \n",
    "  - [Models](#toc4_2_)    \n",
    "    - [LSTM Model](#toc4_2_1_)    \n",
    "    - [XGBoost Regressor](#toc4_2_2_)    \n",
    "    - [Random Forest Regressor](#toc4_2_3_)    \n",
    "- [Approach to the Problem Statement](#toc5_)    \n",
    "\n",
    "<!-- vscode-jupyter-toc-config\n",
    "\tnumbering=false\n",
    "\tanchor=true\n",
    "\tflat=false\n",
    "\tminLevel=1\n",
    "\tmaxLevel=6\n",
    "\t/vscode-jupyter-toc-config -->\n",
    "<!-- THIS CELL WILL BE REPLACED ON TOC UPDATE. DO NOT WRITE YOUR TEXT IN THIS CELL -->"
   ]
  },
  {
   "cell_type": "markdown",
   "metadata": {},
   "source": [
    "# <a id='toc1_'></a>[Preprocessing and Feature Engineering](#toc0_)"
   ]
  },
  {
   "cell_type": "markdown",
   "metadata": {},
   "source": [
    "## <a id='toc1_1_'></a>[Reading all Sheets in Excel File and displaying them](#toc0_)"
   ]
  },
  {
   "cell_type": "code",
   "execution_count": 1,
   "metadata": {},
   "outputs": [
    {
     "name": "stdout",
     "output_type": "stream",
     "text": [
      "Data from sheet: Instructions\n",
      "   Unnamed: 0 Unnamed: 1                                         Unnamed: 2\n",
      "0         1.0   Dataset:  Every row represents the sourcing of one unit ...\n",
      "1         NaN        NaN  A unique product combination comprises of attr...\n",
      "2         NaN        NaN  Since each row represents 1 unit of sourcing; ...\n",
      "3         NaN        NaN  July 20 to May 21 is your training set and Jun...\n",
      "4         NaN        NaN  June 2021 has only a single value for each com...\n",
      "\n",
      "\n",
      "Data from sheet: Training Dataset\n",
      "  ProductType Manufacturer Area Code Sourcing Channel Product Size  \\\n",
      "0        NTM3           X1       A28        WHOLESALE        Large   \n",
      "1        NTM2           X1        A9           DIRECT        Large   \n",
      "2        NTM3           X2       A20           DIRECT        Large   \n",
      "3        NTM3           X1       A18        WHOLESALE        Small   \n",
      "4        NTM2           X1       A28           DIRECT        Large   \n",
      "\n",
      "  Product Type Month of Sourcing  Sourcing Cost  \n",
      "0       Powder        2021-05-01         10.158  \n",
      "1       Powder        2020-10-01        134.281  \n",
      "2       Powder        2020-12-01         12.456  \n",
      "3       Powder        2021-02-01        107.220  \n",
      "4       Liquid        2020-11-01        197.763  \n",
      "\n",
      "\n",
      "Data from sheet: Test Dataset\n",
      "  ProductType Manufacturer Area Code Sourcing Channel Product Size  \\\n",
      "0        NTM1           X1        A1           DIRECT        Small   \n",
      "1        NTM1           X1       A10           DIRECT        Large   \n",
      "2        NTM1           X1       A10             ECOM        Large   \n",
      "3        NTM1           X1       A11           DIRECT        Large   \n",
      "4        NTM1           X1        A2           DIRECT        Large   \n",
      "\n",
      "  Product Type Month of Sourcing  Sourcing Cost  \n",
      "0       Powder        2021-06-21         103.68  \n",
      "1       Powder        2021-06-21         155.75  \n",
      "2       Powder        2021-06-21         143.02  \n",
      "3       Powder        2021-06-21         139.39  \n",
      "4       Powder        2021-06-21         169.42  \n",
      "\n",
      "\n"
     ]
    }
   ],
   "source": [
    "import pandas as pd\n",
    "\n",
    "# Path to the Excel file\n",
    "file_path = \"DS_ML Coding Challenge Dataset.xlsx\"\n",
    "\n",
    "# Load all sheets into a dictionary of DataFrames\n",
    "all_sheets = pd.read_excel(file_path, sheet_name=None)\n",
    "\n",
    "# Access each sheet using its name\n",
    "for sheet_name, df in all_sheets.items():\n",
    "    print(f\"Data from sheet: {sheet_name}\")\n",
    "    print(df.head())  # Display the first few rows of the DataFrame\n",
    "    print(\"\\n\")\n"
   ]
  },
  {
   "cell_type": "code",
   "execution_count": 2,
   "metadata": {},
   "outputs": [
    {
     "data": {
      "text/plain": [
       "dict_keys(['Instructions', 'Training Dataset', 'Test Dataset'])"
      ]
     },
     "execution_count": 2,
     "metadata": {},
     "output_type": "execute_result"
    }
   ],
   "source": [
    "all_sheets.keys()"
   ]
  },
  {
   "cell_type": "markdown",
   "metadata": {},
   "source": [
    "## <a id='toc1_2_'></a>[Intializing the training and testing dataframes](#toc0_)"
   ]
  },
  {
   "cell_type": "code",
   "execution_count": 3,
   "metadata": {},
   "outputs": [],
   "source": [
    "train_df = all_sheets['Training Dataset']\n",
    "test_df = all_sheets['Test Dataset']"
   ]
  },
  {
   "cell_type": "code",
   "execution_count": 4,
   "metadata": {},
   "outputs": [
    {
     "data": {
      "text/html": [
       "<div>\n",
       "<style scoped>\n",
       "    .dataframe tbody tr th:only-of-type {\n",
       "        vertical-align: middle;\n",
       "    }\n",
       "\n",
       "    .dataframe tbody tr th {\n",
       "        vertical-align: top;\n",
       "    }\n",
       "\n",
       "    .dataframe thead th {\n",
       "        text-align: right;\n",
       "    }\n",
       "</style>\n",
       "<table border=\"1\" class=\"dataframe\">\n",
       "  <thead>\n",
       "    <tr style=\"text-align: right;\">\n",
       "      <th></th>\n",
       "      <th>ProductType</th>\n",
       "      <th>Manufacturer</th>\n",
       "      <th>Area Code</th>\n",
       "      <th>Sourcing Channel</th>\n",
       "      <th>Product Size</th>\n",
       "      <th>Product Type</th>\n",
       "      <th>Month of Sourcing</th>\n",
       "      <th>Sourcing Cost</th>\n",
       "    </tr>\n",
       "  </thead>\n",
       "  <tbody>\n",
       "    <tr>\n",
       "      <th>0</th>\n",
       "      <td>NTM3</td>\n",
       "      <td>X1</td>\n",
       "      <td>A28</td>\n",
       "      <td>WHOLESALE</td>\n",
       "      <td>Large</td>\n",
       "      <td>Powder</td>\n",
       "      <td>2021-05-01</td>\n",
       "      <td>10.158</td>\n",
       "    </tr>\n",
       "    <tr>\n",
       "      <th>1</th>\n",
       "      <td>NTM2</td>\n",
       "      <td>X1</td>\n",
       "      <td>A9</td>\n",
       "      <td>DIRECT</td>\n",
       "      <td>Large</td>\n",
       "      <td>Powder</td>\n",
       "      <td>2020-10-01</td>\n",
       "      <td>134.281</td>\n",
       "    </tr>\n",
       "    <tr>\n",
       "      <th>2</th>\n",
       "      <td>NTM3</td>\n",
       "      <td>X2</td>\n",
       "      <td>A20</td>\n",
       "      <td>DIRECT</td>\n",
       "      <td>Large</td>\n",
       "      <td>Powder</td>\n",
       "      <td>2020-12-01</td>\n",
       "      <td>12.456</td>\n",
       "    </tr>\n",
       "    <tr>\n",
       "      <th>3</th>\n",
       "      <td>NTM3</td>\n",
       "      <td>X1</td>\n",
       "      <td>A18</td>\n",
       "      <td>WHOLESALE</td>\n",
       "      <td>Small</td>\n",
       "      <td>Powder</td>\n",
       "      <td>2021-02-01</td>\n",
       "      <td>107.220</td>\n",
       "    </tr>\n",
       "    <tr>\n",
       "      <th>4</th>\n",
       "      <td>NTM2</td>\n",
       "      <td>X1</td>\n",
       "      <td>A28</td>\n",
       "      <td>DIRECT</td>\n",
       "      <td>Large</td>\n",
       "      <td>Liquid</td>\n",
       "      <td>2020-11-01</td>\n",
       "      <td>197.763</td>\n",
       "    </tr>\n",
       "  </tbody>\n",
       "</table>\n",
       "</div>"
      ],
      "text/plain": [
       "  ProductType Manufacturer Area Code Sourcing Channel Product Size  \\\n",
       "0        NTM3           X1       A28        WHOLESALE        Large   \n",
       "1        NTM2           X1        A9           DIRECT        Large   \n",
       "2        NTM3           X2       A20           DIRECT        Large   \n",
       "3        NTM3           X1       A18        WHOLESALE        Small   \n",
       "4        NTM2           X1       A28           DIRECT        Large   \n",
       "\n",
       "  Product Type Month of Sourcing  Sourcing Cost  \n",
       "0       Powder        2021-05-01         10.158  \n",
       "1       Powder        2020-10-01        134.281  \n",
       "2       Powder        2020-12-01         12.456  \n",
       "3       Powder        2021-02-01        107.220  \n",
       "4       Liquid        2020-11-01        197.763  "
      ]
     },
     "execution_count": 4,
     "metadata": {},
     "output_type": "execute_result"
    }
   ],
   "source": [
    "train_df.head()"
   ]
  },
  {
   "cell_type": "code",
   "execution_count": 5,
   "metadata": {},
   "outputs": [
    {
     "data": {
      "text/html": [
       "<div>\n",
       "<style scoped>\n",
       "    .dataframe tbody tr th:only-of-type {\n",
       "        vertical-align: middle;\n",
       "    }\n",
       "\n",
       "    .dataframe tbody tr th {\n",
       "        vertical-align: top;\n",
       "    }\n",
       "\n",
       "    .dataframe thead th {\n",
       "        text-align: right;\n",
       "    }\n",
       "</style>\n",
       "<table border=\"1\" class=\"dataframe\">\n",
       "  <thead>\n",
       "    <tr style=\"text-align: right;\">\n",
       "      <th></th>\n",
       "      <th>ProductType</th>\n",
       "      <th>Manufacturer</th>\n",
       "      <th>Area Code</th>\n",
       "      <th>Sourcing Channel</th>\n",
       "      <th>Product Size</th>\n",
       "      <th>Product Type</th>\n",
       "      <th>Month of Sourcing</th>\n",
       "      <th>Sourcing Cost</th>\n",
       "    </tr>\n",
       "  </thead>\n",
       "  <tbody>\n",
       "    <tr>\n",
       "      <th>0</th>\n",
       "      <td>NTM1</td>\n",
       "      <td>X1</td>\n",
       "      <td>A1</td>\n",
       "      <td>DIRECT</td>\n",
       "      <td>Small</td>\n",
       "      <td>Powder</td>\n",
       "      <td>2021-06-21</td>\n",
       "      <td>103.68</td>\n",
       "    </tr>\n",
       "    <tr>\n",
       "      <th>1</th>\n",
       "      <td>NTM1</td>\n",
       "      <td>X1</td>\n",
       "      <td>A10</td>\n",
       "      <td>DIRECT</td>\n",
       "      <td>Large</td>\n",
       "      <td>Powder</td>\n",
       "      <td>2021-06-21</td>\n",
       "      <td>155.75</td>\n",
       "    </tr>\n",
       "    <tr>\n",
       "      <th>2</th>\n",
       "      <td>NTM1</td>\n",
       "      <td>X1</td>\n",
       "      <td>A10</td>\n",
       "      <td>ECOM</td>\n",
       "      <td>Large</td>\n",
       "      <td>Powder</td>\n",
       "      <td>2021-06-21</td>\n",
       "      <td>143.02</td>\n",
       "    </tr>\n",
       "    <tr>\n",
       "      <th>3</th>\n",
       "      <td>NTM1</td>\n",
       "      <td>X1</td>\n",
       "      <td>A11</td>\n",
       "      <td>DIRECT</td>\n",
       "      <td>Large</td>\n",
       "      <td>Powder</td>\n",
       "      <td>2021-06-21</td>\n",
       "      <td>139.39</td>\n",
       "    </tr>\n",
       "    <tr>\n",
       "      <th>4</th>\n",
       "      <td>NTM1</td>\n",
       "      <td>X1</td>\n",
       "      <td>A2</td>\n",
       "      <td>DIRECT</td>\n",
       "      <td>Large</td>\n",
       "      <td>Powder</td>\n",
       "      <td>2021-06-21</td>\n",
       "      <td>169.42</td>\n",
       "    </tr>\n",
       "  </tbody>\n",
       "</table>\n",
       "</div>"
      ],
      "text/plain": [
       "  ProductType Manufacturer Area Code Sourcing Channel Product Size  \\\n",
       "0        NTM1           X1        A1           DIRECT        Small   \n",
       "1        NTM1           X1       A10           DIRECT        Large   \n",
       "2        NTM1           X1       A10             ECOM        Large   \n",
       "3        NTM1           X1       A11           DIRECT        Large   \n",
       "4        NTM1           X1        A2           DIRECT        Large   \n",
       "\n",
       "  Product Type Month of Sourcing  Sourcing Cost  \n",
       "0       Powder        2021-06-21         103.68  \n",
       "1       Powder        2021-06-21         155.75  \n",
       "2       Powder        2021-06-21         143.02  \n",
       "3       Powder        2021-06-21         139.39  \n",
       "4       Powder        2021-06-21         169.42  "
      ]
     },
     "execution_count": 5,
     "metadata": {},
     "output_type": "execute_result"
    }
   ],
   "source": [
    "test_df.head()"
   ]
  },
  {
   "cell_type": "markdown",
   "metadata": {},
   "source": [
    "## <a id='toc1_3_'></a>[About the Data](#toc0_)"
   ]
  },
  {
   "cell_type": "code",
   "execution_count": 6,
   "metadata": {},
   "outputs": [
    {
     "name": "stdout",
     "output_type": "stream",
     "text": [
      "Train dataset Info\n",
      "<class 'pandas.core.frame.DataFrame'>\n",
      "RangeIndex: 550176 entries, 0 to 550175\n",
      "Data columns (total 8 columns):\n",
      " #   Column             Non-Null Count   Dtype         \n",
      "---  ------             --------------   -----         \n",
      " 0   ProductType        550176 non-null  object        \n",
      " 1   Manufacturer       550176 non-null  object        \n",
      " 2   Area Code          550176 non-null  object        \n",
      " 3   Sourcing Channel   550176 non-null  object        \n",
      " 4   Product Size       550176 non-null  object        \n",
      " 5   Product Type       550176 non-null  object        \n",
      " 6   Month of Sourcing  550176 non-null  datetime64[ns]\n",
      " 7   Sourcing Cost      550176 non-null  float64       \n",
      "dtypes: datetime64[ns](1), float64(1), object(6)\n",
      "memory usage: 33.6+ MB\n",
      "None\n",
      "\n",
      "\n",
      "Test dataset Info\n",
      "<class 'pandas.core.frame.DataFrame'>\n",
      "RangeIndex: 96 entries, 0 to 95\n",
      "Data columns (total 8 columns):\n",
      " #   Column             Non-Null Count  Dtype         \n",
      "---  ------             --------------  -----         \n",
      " 0   ProductType        96 non-null     object        \n",
      " 1   Manufacturer       96 non-null     object        \n",
      " 2   Area Code          96 non-null     object        \n",
      " 3   Sourcing Channel   96 non-null     object        \n",
      " 4   Product Size       96 non-null     object        \n",
      " 5   Product Type       96 non-null     object        \n",
      " 6   Month of Sourcing  96 non-null     datetime64[ns]\n",
      " 7   Sourcing Cost      96 non-null     float64       \n",
      "dtypes: datetime64[ns](1), float64(1), object(6)\n",
      "memory usage: 6.1+ KB\n",
      "None\n"
     ]
    }
   ],
   "source": [
    "print(\"Train dataset Info\")\n",
    "print(train_df.info())\n",
    "\n",
    "print(\"\\n\")\n",
    "\n",
    "print(\"Test dataset Info\")\n",
    "print(test_df.info())"
   ]
  },
  {
   "cell_type": "markdown",
   "metadata": {},
   "source": [
    "## <a id='toc1_4_'></a>[Changing the data types of the columns](#toc0_)"
   ]
  },
  {
   "cell_type": "code",
   "execution_count": 7,
   "metadata": {},
   "outputs": [],
   "source": [
    "import pandas as pd\n",
    "\n",
    "test_df['Month of Sourcing'] = pd.to_datetime(test_df['Month of Sourcing'], errors='coerce')\n",
    "\n",
    "test_df['Year'] = test_df['Month of Sourcing'].dt.year\n",
    "test_df['Month'] = test_df['Month of Sourcing'].dt.month\n"
   ]
  },
  {
   "cell_type": "code",
   "execution_count": 8,
   "metadata": {},
   "outputs": [],
   "source": [
    "import pandas as pd\n",
    "import calendar\n",
    "\n",
    "\n",
    "train_df['Month of Sourcing'] = pd.to_datetime(train_df['Month of Sourcing'], errors='coerce')\n",
    "\n",
    "train_df['Year'] = train_df['Month of Sourcing'].dt.year\n",
    "train_df['Month'] = train_df['Month of Sourcing'].dt.month\n",
    "\n",
    "month_to_name = {\n",
    "    1: \"January\", 2: \"February\", 3: \"March\", 4: \"April\",\n",
    "    5: \"May\", 6: \"June\", 7: \"July\", 8: \"August\",\n",
    "    9: \"September\", 10: \"October\", 11: \"November\", 12: \"December\"\n",
    "}\n",
    "\n"
   ]
  },
  {
   "cell_type": "markdown",
   "metadata": {},
   "source": [
    "# <a id='toc2_'></a>[Exploratory Data Analysis on the Data](#toc0_)"
   ]
  },
  {
   "cell_type": "markdown",
   "metadata": {},
   "source": [
    "## <a id='toc2_1_'></a>[Training Data](#toc0_)"
   ]
  },
  {
   "cell_type": "code",
   "execution_count": 9,
   "metadata": {},
   "outputs": [
    {
     "name": "stdout",
     "output_type": "stream",
     "text": [
      "Train dataset Info\n",
      "<class 'pandas.core.frame.DataFrame'>\n",
      "RangeIndex: 550176 entries, 0 to 550175\n",
      "Data columns (total 10 columns):\n",
      " #   Column             Non-Null Count   Dtype         \n",
      "---  ------             --------------   -----         \n",
      " 0   ProductType        550176 non-null  object        \n",
      " 1   Manufacturer       550176 non-null  object        \n",
      " 2   Area Code          550176 non-null  object        \n",
      " 3   Sourcing Channel   550176 non-null  object        \n",
      " 4   Product Size       550176 non-null  object        \n",
      " 5   Product Type       550176 non-null  object        \n",
      " 6   Month of Sourcing  550176 non-null  datetime64[ns]\n",
      " 7   Sourcing Cost      550176 non-null  float64       \n",
      " 8   Year               550176 non-null  int64         \n",
      " 9   Month              550176 non-null  int64         \n",
      "dtypes: datetime64[ns](1), float64(1), int64(2), object(6)\n",
      "memory usage: 42.0+ MB\n",
      "None\n"
     ]
    }
   ],
   "source": [
    "print(\"Train dataset Info\")\n",
    "print(train_df.info())"
   ]
  },
  {
   "cell_type": "code",
   "execution_count": 10,
   "metadata": {},
   "outputs": [
    {
     "data": {
      "text/html": [
       "<div>\n",
       "<style scoped>\n",
       "    .dataframe tbody tr th:only-of-type {\n",
       "        vertical-align: middle;\n",
       "    }\n",
       "\n",
       "    .dataframe tbody tr th {\n",
       "        vertical-align: top;\n",
       "    }\n",
       "\n",
       "    .dataframe thead th {\n",
       "        text-align: right;\n",
       "    }\n",
       "</style>\n",
       "<table border=\"1\" class=\"dataframe\">\n",
       "  <thead>\n",
       "    <tr style=\"text-align: right;\">\n",
       "      <th></th>\n",
       "      <th>ProductType</th>\n",
       "      <th>Manufacturer</th>\n",
       "      <th>Area Code</th>\n",
       "      <th>Sourcing Channel</th>\n",
       "      <th>Product Size</th>\n",
       "      <th>Product Type</th>\n",
       "      <th>Month of Sourcing</th>\n",
       "      <th>Sourcing Cost</th>\n",
       "      <th>Year</th>\n",
       "      <th>Month</th>\n",
       "    </tr>\n",
       "  </thead>\n",
       "  <tbody>\n",
       "    <tr>\n",
       "      <th>0</th>\n",
       "      <td>NTM3</td>\n",
       "      <td>X1</td>\n",
       "      <td>A28</td>\n",
       "      <td>WHOLESALE</td>\n",
       "      <td>Large</td>\n",
       "      <td>Powder</td>\n",
       "      <td>2021-05-01</td>\n",
       "      <td>10.158</td>\n",
       "      <td>2021</td>\n",
       "      <td>5</td>\n",
       "    </tr>\n",
       "    <tr>\n",
       "      <th>1</th>\n",
       "      <td>NTM2</td>\n",
       "      <td>X1</td>\n",
       "      <td>A9</td>\n",
       "      <td>DIRECT</td>\n",
       "      <td>Large</td>\n",
       "      <td>Powder</td>\n",
       "      <td>2020-10-01</td>\n",
       "      <td>134.281</td>\n",
       "      <td>2020</td>\n",
       "      <td>10</td>\n",
       "    </tr>\n",
       "    <tr>\n",
       "      <th>2</th>\n",
       "      <td>NTM3</td>\n",
       "      <td>X2</td>\n",
       "      <td>A20</td>\n",
       "      <td>DIRECT</td>\n",
       "      <td>Large</td>\n",
       "      <td>Powder</td>\n",
       "      <td>2020-12-01</td>\n",
       "      <td>12.456</td>\n",
       "      <td>2020</td>\n",
       "      <td>12</td>\n",
       "    </tr>\n",
       "    <tr>\n",
       "      <th>3</th>\n",
       "      <td>NTM3</td>\n",
       "      <td>X1</td>\n",
       "      <td>A18</td>\n",
       "      <td>WHOLESALE</td>\n",
       "      <td>Small</td>\n",
       "      <td>Powder</td>\n",
       "      <td>2021-02-01</td>\n",
       "      <td>107.220</td>\n",
       "      <td>2021</td>\n",
       "      <td>2</td>\n",
       "    </tr>\n",
       "    <tr>\n",
       "      <th>4</th>\n",
       "      <td>NTM2</td>\n",
       "      <td>X1</td>\n",
       "      <td>A28</td>\n",
       "      <td>DIRECT</td>\n",
       "      <td>Large</td>\n",
       "      <td>Liquid</td>\n",
       "      <td>2020-11-01</td>\n",
       "      <td>197.763</td>\n",
       "      <td>2020</td>\n",
       "      <td>11</td>\n",
       "    </tr>\n",
       "  </tbody>\n",
       "</table>\n",
       "</div>"
      ],
      "text/plain": [
       "  ProductType Manufacturer Area Code Sourcing Channel Product Size  \\\n",
       "0        NTM3           X1       A28        WHOLESALE        Large   \n",
       "1        NTM2           X1        A9           DIRECT        Large   \n",
       "2        NTM3           X2       A20           DIRECT        Large   \n",
       "3        NTM3           X1       A18        WHOLESALE        Small   \n",
       "4        NTM2           X1       A28           DIRECT        Large   \n",
       "\n",
       "  Product Type Month of Sourcing  Sourcing Cost  Year  Month  \n",
       "0       Powder        2021-05-01         10.158  2021      5  \n",
       "1       Powder        2020-10-01        134.281  2020     10  \n",
       "2       Powder        2020-12-01         12.456  2020     12  \n",
       "3       Powder        2021-02-01        107.220  2021      2  \n",
       "4       Liquid        2020-11-01        197.763  2020     11  "
      ]
     },
     "execution_count": 10,
     "metadata": {},
     "output_type": "execute_result"
    }
   ],
   "source": [
    "train_df.head()"
   ]
  },
  {
   "cell_type": "markdown",
   "metadata": {},
   "source": [
    "### <a id='toc2_1_1_'></a>[Missing Values](#toc0_)"
   ]
  },
  {
   "cell_type": "code",
   "execution_count": 11,
   "metadata": {},
   "outputs": [
    {
     "name": "stdout",
     "output_type": "stream",
     "text": [
      "ProductType          0\n",
      "Manufacturer         0\n",
      "Area Code            0\n",
      "Sourcing Channel     0\n",
      "Product Size         0\n",
      "Product Type         0\n",
      "Month of Sourcing    0\n",
      "Sourcing Cost        0\n",
      "Year                 0\n",
      "Month                0\n",
      "dtype: int64\n"
     ]
    }
   ],
   "source": [
    "# Check for missing values\n",
    "print(df.isnull().sum())"
   ]
  },
  {
   "cell_type": "markdown",
   "metadata": {},
   "source": [
    "### <a id='toc2_1_2_'></a>[Category Distribution](#toc0_)"
   ]
  },
  {
   "cell_type": "code",
   "execution_count": 12,
   "metadata": {},
   "outputs": [
    {
     "data": {
      "text/plain": [
       "NTM2    236726\n",
       "NTM1    194923\n",
       "NTM3    118527\n",
       "Name: ProductType, dtype: int64"
      ]
     },
     "execution_count": 12,
     "metadata": {},
     "output_type": "execute_result"
    }
   ],
   "source": [
    "train_df[\"ProductType\"].value_counts()"
   ]
  },
  {
   "cell_type": "code",
   "execution_count": 13,
   "metadata": {},
   "outputs": [
    {
     "data": {
      "text/plain": [
       "X1    419857\n",
       "X2    120695\n",
       "X3      9624\n",
       "Name: Manufacturer, dtype: int64"
      ]
     },
     "execution_count": 13,
     "metadata": {},
     "output_type": "execute_result"
    }
   ],
   "source": [
    "train_df[\"Manufacturer\"].value_counts()"
   ]
  },
  {
   "cell_type": "code",
   "execution_count": 14,
   "metadata": {},
   "outputs": [
    {
     "data": {
      "text/plain": [
       "A28    41925\n",
       "A7     36723\n",
       "A3     33247\n",
       "A11    31111\n",
       "A8     28772\n",
       "A44    26490\n",
       "A5     24252\n",
       "A10    22970\n",
       "A25    20422\n",
       "A31    18379\n",
       "A29    18105\n",
       "A16    15938\n",
       "A12    14547\n",
       "A40    13820\n",
       "A21    13374\n",
       "A43    13234\n",
       "A2     13145\n",
       "A1     12676\n",
       "A6     12399\n",
       "A4     11326\n",
       "A24    10725\n",
       "A18    10154\n",
       "A9     10107\n",
       "A22     9624\n",
       "A14     9424\n",
       "A35     8877\n",
       "A45     8188\n",
       "A13     7548\n",
       "A42     6470\n",
       "A33     5769\n",
       "A15     5496\n",
       "A32     5408\n",
       "A36     4843\n",
       "A34     4249\n",
       "A19     3839\n",
       "A38     3065\n",
       "A26     2360\n",
       "A30     2357\n",
       "A20     2126\n",
       "A46     1732\n",
       "A39     1702\n",
       "A37     1432\n",
       "A17     1139\n",
       "A23      569\n",
       "A41      118\n",
       "Name: Area Code, dtype: int64"
      ]
     },
     "execution_count": 14,
     "metadata": {},
     "output_type": "execute_result"
    }
   ],
   "source": [
    "train_df[\"Area Code\"].value_counts()"
   ]
  },
  {
   "cell_type": "markdown",
   "metadata": {},
   "source": [
    "### <a id='toc2_1_3_'></a>[Date wise Distribution](#toc0_)"
   ]
  },
  {
   "cell_type": "code",
   "execution_count": 15,
   "metadata": {},
   "outputs": [],
   "source": [
    "data_date = train_df[\"Month of Sourcing\"].value_counts().reset_index()\n",
    "data_date.columns = [\"Month of Sourcing\", \"Count\"]"
   ]
  },
  {
   "cell_type": "code",
   "execution_count": 16,
   "metadata": {},
   "outputs": [
    {
     "data": {
      "text/html": [
       "<div>\n",
       "<style scoped>\n",
       "    .dataframe tbody tr th:only-of-type {\n",
       "        vertical-align: middle;\n",
       "    }\n",
       "\n",
       "    .dataframe tbody tr th {\n",
       "        vertical-align: top;\n",
       "    }\n",
       "\n",
       "    .dataframe thead th {\n",
       "        text-align: right;\n",
       "    }\n",
       "</style>\n",
       "<table border=\"1\" class=\"dataframe\">\n",
       "  <thead>\n",
       "    <tr style=\"text-align: right;\">\n",
       "      <th></th>\n",
       "      <th>Month of Sourcing</th>\n",
       "      <th>Count</th>\n",
       "    </tr>\n",
       "  </thead>\n",
       "  <tbody>\n",
       "    <tr>\n",
       "      <th>0</th>\n",
       "      <td>2020-11-01</td>\n",
       "      <td>60446</td>\n",
       "    </tr>\n",
       "    <tr>\n",
       "      <th>1</th>\n",
       "      <td>2021-03-01</td>\n",
       "      <td>56643</td>\n",
       "    </tr>\n",
       "    <tr>\n",
       "      <th>2</th>\n",
       "      <td>2021-05-01</td>\n",
       "      <td>53172</td>\n",
       "    </tr>\n",
       "    <tr>\n",
       "      <th>3</th>\n",
       "      <td>2020-12-01</td>\n",
       "      <td>52752</td>\n",
       "    </tr>\n",
       "    <tr>\n",
       "      <th>4</th>\n",
       "      <td>2021-04-01</td>\n",
       "      <td>52438</td>\n",
       "    </tr>\n",
       "    <tr>\n",
       "      <th>5</th>\n",
       "      <td>2021-01-01</td>\n",
       "      <td>50844</td>\n",
       "    </tr>\n",
       "    <tr>\n",
       "      <th>6</th>\n",
       "      <td>2021-02-01</td>\n",
       "      <td>50562</td>\n",
       "    </tr>\n",
       "    <tr>\n",
       "      <th>7</th>\n",
       "      <td>2020-10-01</td>\n",
       "      <td>46215</td>\n",
       "    </tr>\n",
       "    <tr>\n",
       "      <th>8</th>\n",
       "      <td>2020-09-01</td>\n",
       "      <td>43995</td>\n",
       "    </tr>\n",
       "    <tr>\n",
       "      <th>9</th>\n",
       "      <td>2020-07-01</td>\n",
       "      <td>42469</td>\n",
       "    </tr>\n",
       "    <tr>\n",
       "      <th>10</th>\n",
       "      <td>2020-08-01</td>\n",
       "      <td>40640</td>\n",
       "    </tr>\n",
       "  </tbody>\n",
       "</table>\n",
       "</div>"
      ],
      "text/plain": [
       "   Month of Sourcing  Count\n",
       "0         2020-11-01  60446\n",
       "1         2021-03-01  56643\n",
       "2         2021-05-01  53172\n",
       "3         2020-12-01  52752\n",
       "4         2021-04-01  52438\n",
       "5         2021-01-01  50844\n",
       "6         2021-02-01  50562\n",
       "7         2020-10-01  46215\n",
       "8         2020-09-01  43995\n",
       "9         2020-07-01  42469\n",
       "10        2020-08-01  40640"
      ]
     },
     "execution_count": 16,
     "metadata": {},
     "output_type": "execute_result"
    }
   ],
   "source": [
    "data_date"
   ]
  },
  {
   "cell_type": "code",
   "execution_count": 17,
   "metadata": {},
   "outputs": [],
   "source": [
    "import pandas as pd\n",
    "import calendar\n",
    "\n",
    "data_date['Month of Sourcing'] = pd.to_datetime(data_date['Month of Sourcing'], errors='coerce')\n",
    "\n",
    "# Extracting year and month as new columns\n",
    "data_date['Year'] = data_date['Month of Sourcing'].dt.year\n",
    "data_date['Month'] = data_date['Month of Sourcing'].dt.month\n",
    "\n",
    "# Defining a dictionary mapping month numbers to names\n",
    "month_to_name = {\n",
    "    1: \"January\", 2: \"February\", 3: \"March\", 4: \"April\",\n",
    "    5: \"May\", 6: \"June\", 7: \"July\", 8: \"August\",\n",
    "    9: \"September\", 10: \"October\", 11: \"November\", 12: \"December\"\n",
    "}\n",
    "\n",
    "data_date['Month Name'] = data_date['Month'].map(month_to_name)\n"
   ]
  },
  {
   "cell_type": "code",
   "execution_count": 18,
   "metadata": {},
   "outputs": [
    {
     "data": {
      "text/html": [
       "<div>\n",
       "<style scoped>\n",
       "    .dataframe tbody tr th:only-of-type {\n",
       "        vertical-align: middle;\n",
       "    }\n",
       "\n",
       "    .dataframe tbody tr th {\n",
       "        vertical-align: top;\n",
       "    }\n",
       "\n",
       "    .dataframe thead th {\n",
       "        text-align: right;\n",
       "    }\n",
       "</style>\n",
       "<table border=\"1\" class=\"dataframe\">\n",
       "  <thead>\n",
       "    <tr style=\"text-align: right;\">\n",
       "      <th></th>\n",
       "      <th>Month of Sourcing</th>\n",
       "      <th>Count</th>\n",
       "      <th>Year</th>\n",
       "      <th>Month</th>\n",
       "      <th>Month Name</th>\n",
       "    </tr>\n",
       "  </thead>\n",
       "  <tbody>\n",
       "    <tr>\n",
       "      <th>0</th>\n",
       "      <td>2020-11-01</td>\n",
       "      <td>60446</td>\n",
       "      <td>2020</td>\n",
       "      <td>11</td>\n",
       "      <td>November</td>\n",
       "    </tr>\n",
       "    <tr>\n",
       "      <th>1</th>\n",
       "      <td>2021-03-01</td>\n",
       "      <td>56643</td>\n",
       "      <td>2021</td>\n",
       "      <td>3</td>\n",
       "      <td>March</td>\n",
       "    </tr>\n",
       "    <tr>\n",
       "      <th>2</th>\n",
       "      <td>2021-05-01</td>\n",
       "      <td>53172</td>\n",
       "      <td>2021</td>\n",
       "      <td>5</td>\n",
       "      <td>May</td>\n",
       "    </tr>\n",
       "    <tr>\n",
       "      <th>3</th>\n",
       "      <td>2020-12-01</td>\n",
       "      <td>52752</td>\n",
       "      <td>2020</td>\n",
       "      <td>12</td>\n",
       "      <td>December</td>\n",
       "    </tr>\n",
       "    <tr>\n",
       "      <th>4</th>\n",
       "      <td>2021-04-01</td>\n",
       "      <td>52438</td>\n",
       "      <td>2021</td>\n",
       "      <td>4</td>\n",
       "      <td>April</td>\n",
       "    </tr>\n",
       "    <tr>\n",
       "      <th>5</th>\n",
       "      <td>2021-01-01</td>\n",
       "      <td>50844</td>\n",
       "      <td>2021</td>\n",
       "      <td>1</td>\n",
       "      <td>January</td>\n",
       "    </tr>\n",
       "    <tr>\n",
       "      <th>6</th>\n",
       "      <td>2021-02-01</td>\n",
       "      <td>50562</td>\n",
       "      <td>2021</td>\n",
       "      <td>2</td>\n",
       "      <td>February</td>\n",
       "    </tr>\n",
       "    <tr>\n",
       "      <th>7</th>\n",
       "      <td>2020-10-01</td>\n",
       "      <td>46215</td>\n",
       "      <td>2020</td>\n",
       "      <td>10</td>\n",
       "      <td>October</td>\n",
       "    </tr>\n",
       "    <tr>\n",
       "      <th>8</th>\n",
       "      <td>2020-09-01</td>\n",
       "      <td>43995</td>\n",
       "      <td>2020</td>\n",
       "      <td>9</td>\n",
       "      <td>September</td>\n",
       "    </tr>\n",
       "    <tr>\n",
       "      <th>9</th>\n",
       "      <td>2020-07-01</td>\n",
       "      <td>42469</td>\n",
       "      <td>2020</td>\n",
       "      <td>7</td>\n",
       "      <td>July</td>\n",
       "    </tr>\n",
       "    <tr>\n",
       "      <th>10</th>\n",
       "      <td>2020-08-01</td>\n",
       "      <td>40640</td>\n",
       "      <td>2020</td>\n",
       "      <td>8</td>\n",
       "      <td>August</td>\n",
       "    </tr>\n",
       "  </tbody>\n",
       "</table>\n",
       "</div>"
      ],
      "text/plain": [
       "   Month of Sourcing  Count  Year  Month Month Name\n",
       "0         2020-11-01  60446  2020     11   November\n",
       "1         2021-03-01  56643  2021      3      March\n",
       "2         2021-05-01  53172  2021      5        May\n",
       "3         2020-12-01  52752  2020     12   December\n",
       "4         2021-04-01  52438  2021      4      April\n",
       "5         2021-01-01  50844  2021      1    January\n",
       "6         2021-02-01  50562  2021      2   February\n",
       "7         2020-10-01  46215  2020     10    October\n",
       "8         2020-09-01  43995  2020      9  September\n",
       "9         2020-07-01  42469  2020      7       July\n",
       "10        2020-08-01  40640  2020      8     August"
      ]
     },
     "execution_count": 18,
     "metadata": {},
     "output_type": "execute_result"
    }
   ],
   "source": [
    "data_date"
   ]
  },
  {
   "cell_type": "markdown",
   "metadata": {},
   "source": [
    "### <a id='toc2_1_4_'></a>[Data Visualization on the Training Data (categorical features)](#toc0_)"
   ]
  },
  {
   "cell_type": "code",
   "execution_count": 19,
   "metadata": {},
   "outputs": [
    {
     "data": {
      "text/html": [
       "        <script type=\"text/javascript\">\n",
       "        window.PlotlyConfig = {MathJaxConfig: 'local'};\n",
       "        if (window.MathJax && window.MathJax.Hub && window.MathJax.Hub.Config) {window.MathJax.Hub.Config({SVG: {font: \"STIX-Web\"}});}\n",
       "        if (typeof require !== 'undefined') {\n",
       "        require.undef(\"plotly\");\n",
       "        requirejs.config({\n",
       "            paths: {\n",
       "                'plotly': ['https://cdn.plot.ly/plotly-2.25.2.min']\n",
       "            }\n",
       "        });\n",
       "        require(['plotly'], function(Plotly) {\n",
       "            window._Plotly = Plotly;\n",
       "        });\n",
       "        }\n",
       "        </script>\n",
       "        "
      ]
     },
     "metadata": {},
     "output_type": "display_data"
    }
   ],
   "source": [
    "import pandas as pd\n",
    "import plotly.express as px  # Using Plotly Express for interactive plots\n",
    "\n",
    "# If using a Jupyter Notebook, use the following to enable interactive visuals in the notebook\n",
    "from plotly.offline import init_notebook_mode\n",
    "init_notebook_mode(connected=True)\n"
   ]
  },
  {
   "cell_type": "code",
   "execution_count": 20,
   "metadata": {},
   "outputs": [],
   "source": [
    "import plotly.express as px\n",
    "\n",
    "categorical_columns = train_df.select_dtypes(include=['object' , \"datetime64[ns]\"]).columns\n",
    "\n",
    "# Dictionary to store plot objects\n",
    "plot_objects = {}\n",
    "\n",
    "for column in categorical_columns:\n",
    "    # Prepare the data\n",
    "    data = train_df[column].value_counts().reset_index()\n",
    "    data.columns = [column, 'Counts']\n",
    "\n",
    "    # Create the plot\n",
    "    fig = px.bar(data, \n",
    "                 x=column, \n",
    "                 y='Counts', \n",
    "                 text='Counts',  # Adding text to bars\n",
    "                 labels={column: 'Category', 'Counts': 'Counts'}, \n",
    "                 title=f'Value Counts of {column}')\n",
    "    \n",
    "\n",
    "    # Customizing text position and styling\n",
    "    fig.update_traces(texttemplate='%{text:.2s}', textposition='outside')\n",
    "    \n",
    "    # Customizing layout and axes\n",
    "    fig.update_layout(\n",
    "        xaxis_title=column,\n",
    "        yaxis_title=\"Counts\",\n",
    "        title={\n",
    "            'text': f'Value Counts for {column}',\n",
    "            'y':0.9,\n",
    "            'x':0.5,\n",
    "            'xanchor': 'center',\n",
    "            'yanchor': 'top'\n",
    "        },\n",
    "        xaxis_tickangle=-45 , # Angle the x-axis labels for better readability\n",
    "        height=600,  # Set the height of the plot\n",
    "        width=1000,  # Set the width of the plot\n",
    "    )\n",
    "    \n",
    "    # Save plot object to dictionary\n",
    "    plot_objects[column] = fig\n",
    "\n",
    "\n",
    "# For example, to display the plot for a specific column:\n",
    "# column_name = 'Column_Name'\n",
    "# plot_objects[column_name].show()\n"
   ]
  },
  {
   "cell_type": "code",
   "execution_count": 21,
   "metadata": {},
   "outputs": [
    {
     "data": {
      "text/plain": [
       "dict_keys(['ProductType', 'Manufacturer', 'Area Code', 'Sourcing Channel', 'Product Size', 'Product Type', 'Month of Sourcing'])"
      ]
     },
     "execution_count": 21,
     "metadata": {},
     "output_type": "execute_result"
    }
   ],
   "source": [
    "plot_objects.keys()"
   ]
  },
  {
   "cell_type": "code",
   "execution_count": 22,
   "metadata": {},
   "outputs": [
    {
     "data": {
      "application/vnd.plotly.v1+json": {
       "config": {
        "plotlyServerURL": "https://plot.ly"
       },
       "data": [
        {
         "alignmentgroup": "True",
         "hovertemplate": "Category=%{x}<br>Counts=%{text}<extra></extra>",
         "legendgroup": "",
         "marker": {
          "color": "#636efa",
          "pattern": {
           "shape": ""
          }
         },
         "name": "",
         "offsetgroup": "",
         "orientation": "v",
         "showlegend": false,
         "text": [
          236726,
          194923,
          118527
         ],
         "textposition": "outside",
         "texttemplate": "%{text:.2s}",
         "type": "bar",
         "x": [
          "NTM2",
          "NTM1",
          "NTM3"
         ],
         "xaxis": "x",
         "y": [
          236726,
          194923,
          118527
         ],
         "yaxis": "y"
        }
       ],
       "layout": {
        "barmode": "relative",
        "height": 600,
        "legend": {
         "tracegroupgap": 0
        },
        "template": {
         "data": {
          "bar": [
           {
            "error_x": {
             "color": "#2a3f5f"
            },
            "error_y": {
             "color": "#2a3f5f"
            },
            "marker": {
             "line": {
              "color": "#E5ECF6",
              "width": 0.5
             },
             "pattern": {
              "fillmode": "overlay",
              "size": 10,
              "solidity": 0.2
             }
            },
            "type": "bar"
           }
          ],
          "barpolar": [
           {
            "marker": {
             "line": {
              "color": "#E5ECF6",
              "width": 0.5
             },
             "pattern": {
              "fillmode": "overlay",
              "size": 10,
              "solidity": 0.2
             }
            },
            "type": "barpolar"
           }
          ],
          "carpet": [
           {
            "aaxis": {
             "endlinecolor": "#2a3f5f",
             "gridcolor": "white",
             "linecolor": "white",
             "minorgridcolor": "white",
             "startlinecolor": "#2a3f5f"
            },
            "baxis": {
             "endlinecolor": "#2a3f5f",
             "gridcolor": "white",
             "linecolor": "white",
             "minorgridcolor": "white",
             "startlinecolor": "#2a3f5f"
            },
            "type": "carpet"
           }
          ],
          "choropleth": [
           {
            "colorbar": {
             "outlinewidth": 0,
             "ticks": ""
            },
            "type": "choropleth"
           }
          ],
          "contour": [
           {
            "colorbar": {
             "outlinewidth": 0,
             "ticks": ""
            },
            "colorscale": [
             [
              0,
              "#0d0887"
             ],
             [
              0.1111111111111111,
              "#46039f"
             ],
             [
              0.2222222222222222,
              "#7201a8"
             ],
             [
              0.3333333333333333,
              "#9c179e"
             ],
             [
              0.4444444444444444,
              "#bd3786"
             ],
             [
              0.5555555555555556,
              "#d8576b"
             ],
             [
              0.6666666666666666,
              "#ed7953"
             ],
             [
              0.7777777777777778,
              "#fb9f3a"
             ],
             [
              0.8888888888888888,
              "#fdca26"
             ],
             [
              1,
              "#f0f921"
             ]
            ],
            "type": "contour"
           }
          ],
          "contourcarpet": [
           {
            "colorbar": {
             "outlinewidth": 0,
             "ticks": ""
            },
            "type": "contourcarpet"
           }
          ],
          "heatmap": [
           {
            "colorbar": {
             "outlinewidth": 0,
             "ticks": ""
            },
            "colorscale": [
             [
              0,
              "#0d0887"
             ],
             [
              0.1111111111111111,
              "#46039f"
             ],
             [
              0.2222222222222222,
              "#7201a8"
             ],
             [
              0.3333333333333333,
              "#9c179e"
             ],
             [
              0.4444444444444444,
              "#bd3786"
             ],
             [
              0.5555555555555556,
              "#d8576b"
             ],
             [
              0.6666666666666666,
              "#ed7953"
             ],
             [
              0.7777777777777778,
              "#fb9f3a"
             ],
             [
              0.8888888888888888,
              "#fdca26"
             ],
             [
              1,
              "#f0f921"
             ]
            ],
            "type": "heatmap"
           }
          ],
          "heatmapgl": [
           {
            "colorbar": {
             "outlinewidth": 0,
             "ticks": ""
            },
            "colorscale": [
             [
              0,
              "#0d0887"
             ],
             [
              0.1111111111111111,
              "#46039f"
             ],
             [
              0.2222222222222222,
              "#7201a8"
             ],
             [
              0.3333333333333333,
              "#9c179e"
             ],
             [
              0.4444444444444444,
              "#bd3786"
             ],
             [
              0.5555555555555556,
              "#d8576b"
             ],
             [
              0.6666666666666666,
              "#ed7953"
             ],
             [
              0.7777777777777778,
              "#fb9f3a"
             ],
             [
              0.8888888888888888,
              "#fdca26"
             ],
             [
              1,
              "#f0f921"
             ]
            ],
            "type": "heatmapgl"
           }
          ],
          "histogram": [
           {
            "marker": {
             "pattern": {
              "fillmode": "overlay",
              "size": 10,
              "solidity": 0.2
             }
            },
            "type": "histogram"
           }
          ],
          "histogram2d": [
           {
            "colorbar": {
             "outlinewidth": 0,
             "ticks": ""
            },
            "colorscale": [
             [
              0,
              "#0d0887"
             ],
             [
              0.1111111111111111,
              "#46039f"
             ],
             [
              0.2222222222222222,
              "#7201a8"
             ],
             [
              0.3333333333333333,
              "#9c179e"
             ],
             [
              0.4444444444444444,
              "#bd3786"
             ],
             [
              0.5555555555555556,
              "#d8576b"
             ],
             [
              0.6666666666666666,
              "#ed7953"
             ],
             [
              0.7777777777777778,
              "#fb9f3a"
             ],
             [
              0.8888888888888888,
              "#fdca26"
             ],
             [
              1,
              "#f0f921"
             ]
            ],
            "type": "histogram2d"
           }
          ],
          "histogram2dcontour": [
           {
            "colorbar": {
             "outlinewidth": 0,
             "ticks": ""
            },
            "colorscale": [
             [
              0,
              "#0d0887"
             ],
             [
              0.1111111111111111,
              "#46039f"
             ],
             [
              0.2222222222222222,
              "#7201a8"
             ],
             [
              0.3333333333333333,
              "#9c179e"
             ],
             [
              0.4444444444444444,
              "#bd3786"
             ],
             [
              0.5555555555555556,
              "#d8576b"
             ],
             [
              0.6666666666666666,
              "#ed7953"
             ],
             [
              0.7777777777777778,
              "#fb9f3a"
             ],
             [
              0.8888888888888888,
              "#fdca26"
             ],
             [
              1,
              "#f0f921"
             ]
            ],
            "type": "histogram2dcontour"
           }
          ],
          "mesh3d": [
           {
            "colorbar": {
             "outlinewidth": 0,
             "ticks": ""
            },
            "type": "mesh3d"
           }
          ],
          "parcoords": [
           {
            "line": {
             "colorbar": {
              "outlinewidth": 0,
              "ticks": ""
             }
            },
            "type": "parcoords"
           }
          ],
          "pie": [
           {
            "automargin": true,
            "type": "pie"
           }
          ],
          "scatter": [
           {
            "fillpattern": {
             "fillmode": "overlay",
             "size": 10,
             "solidity": 0.2
            },
            "type": "scatter"
           }
          ],
          "scatter3d": [
           {
            "line": {
             "colorbar": {
              "outlinewidth": 0,
              "ticks": ""
             }
            },
            "marker": {
             "colorbar": {
              "outlinewidth": 0,
              "ticks": ""
             }
            },
            "type": "scatter3d"
           }
          ],
          "scattercarpet": [
           {
            "marker": {
             "colorbar": {
              "outlinewidth": 0,
              "ticks": ""
             }
            },
            "type": "scattercarpet"
           }
          ],
          "scattergeo": [
           {
            "marker": {
             "colorbar": {
              "outlinewidth": 0,
              "ticks": ""
             }
            },
            "type": "scattergeo"
           }
          ],
          "scattergl": [
           {
            "marker": {
             "colorbar": {
              "outlinewidth": 0,
              "ticks": ""
             }
            },
            "type": "scattergl"
           }
          ],
          "scattermapbox": [
           {
            "marker": {
             "colorbar": {
              "outlinewidth": 0,
              "ticks": ""
             }
            },
            "type": "scattermapbox"
           }
          ],
          "scatterpolar": [
           {
            "marker": {
             "colorbar": {
              "outlinewidth": 0,
              "ticks": ""
             }
            },
            "type": "scatterpolar"
           }
          ],
          "scatterpolargl": [
           {
            "marker": {
             "colorbar": {
              "outlinewidth": 0,
              "ticks": ""
             }
            },
            "type": "scatterpolargl"
           }
          ],
          "scatterternary": [
           {
            "marker": {
             "colorbar": {
              "outlinewidth": 0,
              "ticks": ""
             }
            },
            "type": "scatterternary"
           }
          ],
          "surface": [
           {
            "colorbar": {
             "outlinewidth": 0,
             "ticks": ""
            },
            "colorscale": [
             [
              0,
              "#0d0887"
             ],
             [
              0.1111111111111111,
              "#46039f"
             ],
             [
              0.2222222222222222,
              "#7201a8"
             ],
             [
              0.3333333333333333,
              "#9c179e"
             ],
             [
              0.4444444444444444,
              "#bd3786"
             ],
             [
              0.5555555555555556,
              "#d8576b"
             ],
             [
              0.6666666666666666,
              "#ed7953"
             ],
             [
              0.7777777777777778,
              "#fb9f3a"
             ],
             [
              0.8888888888888888,
              "#fdca26"
             ],
             [
              1,
              "#f0f921"
             ]
            ],
            "type": "surface"
           }
          ],
          "table": [
           {
            "cells": {
             "fill": {
              "color": "#EBF0F8"
             },
             "line": {
              "color": "white"
             }
            },
            "header": {
             "fill": {
              "color": "#C8D4E3"
             },
             "line": {
              "color": "white"
             }
            },
            "type": "table"
           }
          ]
         },
         "layout": {
          "annotationdefaults": {
           "arrowcolor": "#2a3f5f",
           "arrowhead": 0,
           "arrowwidth": 1
          },
          "autotypenumbers": "strict",
          "coloraxis": {
           "colorbar": {
            "outlinewidth": 0,
            "ticks": ""
           }
          },
          "colorscale": {
           "diverging": [
            [
             0,
             "#8e0152"
            ],
            [
             0.1,
             "#c51b7d"
            ],
            [
             0.2,
             "#de77ae"
            ],
            [
             0.3,
             "#f1b6da"
            ],
            [
             0.4,
             "#fde0ef"
            ],
            [
             0.5,
             "#f7f7f7"
            ],
            [
             0.6,
             "#e6f5d0"
            ],
            [
             0.7,
             "#b8e186"
            ],
            [
             0.8,
             "#7fbc41"
            ],
            [
             0.9,
             "#4d9221"
            ],
            [
             1,
             "#276419"
            ]
           ],
           "sequential": [
            [
             0,
             "#0d0887"
            ],
            [
             0.1111111111111111,
             "#46039f"
            ],
            [
             0.2222222222222222,
             "#7201a8"
            ],
            [
             0.3333333333333333,
             "#9c179e"
            ],
            [
             0.4444444444444444,
             "#bd3786"
            ],
            [
             0.5555555555555556,
             "#d8576b"
            ],
            [
             0.6666666666666666,
             "#ed7953"
            ],
            [
             0.7777777777777778,
             "#fb9f3a"
            ],
            [
             0.8888888888888888,
             "#fdca26"
            ],
            [
             1,
             "#f0f921"
            ]
           ],
           "sequentialminus": [
            [
             0,
             "#0d0887"
            ],
            [
             0.1111111111111111,
             "#46039f"
            ],
            [
             0.2222222222222222,
             "#7201a8"
            ],
            [
             0.3333333333333333,
             "#9c179e"
            ],
            [
             0.4444444444444444,
             "#bd3786"
            ],
            [
             0.5555555555555556,
             "#d8576b"
            ],
            [
             0.6666666666666666,
             "#ed7953"
            ],
            [
             0.7777777777777778,
             "#fb9f3a"
            ],
            [
             0.8888888888888888,
             "#fdca26"
            ],
            [
             1,
             "#f0f921"
            ]
           ]
          },
          "colorway": [
           "#636efa",
           "#EF553B",
           "#00cc96",
           "#ab63fa",
           "#FFA15A",
           "#19d3f3",
           "#FF6692",
           "#B6E880",
           "#FF97FF",
           "#FECB52"
          ],
          "font": {
           "color": "#2a3f5f"
          },
          "geo": {
           "bgcolor": "white",
           "lakecolor": "white",
           "landcolor": "#E5ECF6",
           "showlakes": true,
           "showland": true,
           "subunitcolor": "white"
          },
          "hoverlabel": {
           "align": "left"
          },
          "hovermode": "closest",
          "mapbox": {
           "style": "light"
          },
          "paper_bgcolor": "white",
          "plot_bgcolor": "#E5ECF6",
          "polar": {
           "angularaxis": {
            "gridcolor": "white",
            "linecolor": "white",
            "ticks": ""
           },
           "bgcolor": "#E5ECF6",
           "radialaxis": {
            "gridcolor": "white",
            "linecolor": "white",
            "ticks": ""
           }
          },
          "scene": {
           "xaxis": {
            "backgroundcolor": "#E5ECF6",
            "gridcolor": "white",
            "gridwidth": 2,
            "linecolor": "white",
            "showbackground": true,
            "ticks": "",
            "zerolinecolor": "white"
           },
           "yaxis": {
            "backgroundcolor": "#E5ECF6",
            "gridcolor": "white",
            "gridwidth": 2,
            "linecolor": "white",
            "showbackground": true,
            "ticks": "",
            "zerolinecolor": "white"
           },
           "zaxis": {
            "backgroundcolor": "#E5ECF6",
            "gridcolor": "white",
            "gridwidth": 2,
            "linecolor": "white",
            "showbackground": true,
            "ticks": "",
            "zerolinecolor": "white"
           }
          },
          "shapedefaults": {
           "line": {
            "color": "#2a3f5f"
           }
          },
          "ternary": {
           "aaxis": {
            "gridcolor": "white",
            "linecolor": "white",
            "ticks": ""
           },
           "baxis": {
            "gridcolor": "white",
            "linecolor": "white",
            "ticks": ""
           },
           "bgcolor": "#E5ECF6",
           "caxis": {
            "gridcolor": "white",
            "linecolor": "white",
            "ticks": ""
           }
          },
          "title": {
           "x": 0.05
          },
          "xaxis": {
           "automargin": true,
           "gridcolor": "white",
           "linecolor": "white",
           "ticks": "",
           "title": {
            "standoff": 15
           },
           "zerolinecolor": "white",
           "zerolinewidth": 2
          },
          "yaxis": {
           "automargin": true,
           "gridcolor": "white",
           "linecolor": "white",
           "ticks": "",
           "title": {
            "standoff": 15
           },
           "zerolinecolor": "white",
           "zerolinewidth": 2
          }
         }
        },
        "title": {
         "text": "Value Counts for ProductType",
         "x": 0.5,
         "xanchor": "center",
         "y": 0.9,
         "yanchor": "top"
        },
        "width": 1000,
        "xaxis": {
         "anchor": "y",
         "domain": [
          0,
          1
         ],
         "tickangle": -45,
         "title": {
          "text": "ProductType"
         }
        },
        "yaxis": {
         "anchor": "x",
         "domain": [
          0,
          1
         ],
         "title": {
          "text": "Counts"
         }
        }
       }
      },
      "text/html": [
       "<div>                            <div id=\"e6d37a21-3e51-4fd2-81fa-20cab1ff28f4\" class=\"plotly-graph-div\" style=\"height:600px; width:1000px;\"></div>            <script type=\"text/javascript\">                require([\"plotly\"], function(Plotly) {                    window.PLOTLYENV=window.PLOTLYENV || {};                                    if (document.getElementById(\"e6d37a21-3e51-4fd2-81fa-20cab1ff28f4\")) {                    Plotly.newPlot(                        \"e6d37a21-3e51-4fd2-81fa-20cab1ff28f4\",                        [{\"alignmentgroup\":\"True\",\"hovertemplate\":\"Category=%{x}\\u003cbr\\u003eCounts=%{text}\\u003cextra\\u003e\\u003c\\u002fextra\\u003e\",\"legendgroup\":\"\",\"marker\":{\"color\":\"#636efa\",\"pattern\":{\"shape\":\"\"}},\"name\":\"\",\"offsetgroup\":\"\",\"orientation\":\"v\",\"showlegend\":false,\"text\":[236726.0,194923.0,118527.0],\"textposition\":\"outside\",\"x\":[\"NTM2\",\"NTM1\",\"NTM3\"],\"xaxis\":\"x\",\"y\":[236726,194923,118527],\"yaxis\":\"y\",\"type\":\"bar\",\"texttemplate\":\"%{text:.2s}\"}],                        {\"template\":{\"data\":{\"histogram2dcontour\":[{\"type\":\"histogram2dcontour\",\"colorbar\":{\"outlinewidth\":0,\"ticks\":\"\"},\"colorscale\":[[0.0,\"#0d0887\"],[0.1111111111111111,\"#46039f\"],[0.2222222222222222,\"#7201a8\"],[0.3333333333333333,\"#9c179e\"],[0.4444444444444444,\"#bd3786\"],[0.5555555555555556,\"#d8576b\"],[0.6666666666666666,\"#ed7953\"],[0.7777777777777778,\"#fb9f3a\"],[0.8888888888888888,\"#fdca26\"],[1.0,\"#f0f921\"]]}],\"choropleth\":[{\"type\":\"choropleth\",\"colorbar\":{\"outlinewidth\":0,\"ticks\":\"\"}}],\"histogram2d\":[{\"type\":\"histogram2d\",\"colorbar\":{\"outlinewidth\":0,\"ticks\":\"\"},\"colorscale\":[[0.0,\"#0d0887\"],[0.1111111111111111,\"#46039f\"],[0.2222222222222222,\"#7201a8\"],[0.3333333333333333,\"#9c179e\"],[0.4444444444444444,\"#bd3786\"],[0.5555555555555556,\"#d8576b\"],[0.6666666666666666,\"#ed7953\"],[0.7777777777777778,\"#fb9f3a\"],[0.8888888888888888,\"#fdca26\"],[1.0,\"#f0f921\"]]}],\"heatmap\":[{\"type\":\"heatmap\",\"colorbar\":{\"outlinewidth\":0,\"ticks\":\"\"},\"colorscale\":[[0.0,\"#0d0887\"],[0.1111111111111111,\"#46039f\"],[0.2222222222222222,\"#7201a8\"],[0.3333333333333333,\"#9c179e\"],[0.4444444444444444,\"#bd3786\"],[0.5555555555555556,\"#d8576b\"],[0.6666666666666666,\"#ed7953\"],[0.7777777777777778,\"#fb9f3a\"],[0.8888888888888888,\"#fdca26\"],[1.0,\"#f0f921\"]]}],\"heatmapgl\":[{\"type\":\"heatmapgl\",\"colorbar\":{\"outlinewidth\":0,\"ticks\":\"\"},\"colorscale\":[[0.0,\"#0d0887\"],[0.1111111111111111,\"#46039f\"],[0.2222222222222222,\"#7201a8\"],[0.3333333333333333,\"#9c179e\"],[0.4444444444444444,\"#bd3786\"],[0.5555555555555556,\"#d8576b\"],[0.6666666666666666,\"#ed7953\"],[0.7777777777777778,\"#fb9f3a\"],[0.8888888888888888,\"#fdca26\"],[1.0,\"#f0f921\"]]}],\"contourcarpet\":[{\"type\":\"contourcarpet\",\"colorbar\":{\"outlinewidth\":0,\"ticks\":\"\"}}],\"contour\":[{\"type\":\"contour\",\"colorbar\":{\"outlinewidth\":0,\"ticks\":\"\"},\"colorscale\":[[0.0,\"#0d0887\"],[0.1111111111111111,\"#46039f\"],[0.2222222222222222,\"#7201a8\"],[0.3333333333333333,\"#9c179e\"],[0.4444444444444444,\"#bd3786\"],[0.5555555555555556,\"#d8576b\"],[0.6666666666666666,\"#ed7953\"],[0.7777777777777778,\"#fb9f3a\"],[0.8888888888888888,\"#fdca26\"],[1.0,\"#f0f921\"]]}],\"surface\":[{\"type\":\"surface\",\"colorbar\":{\"outlinewidth\":0,\"ticks\":\"\"},\"colorscale\":[[0.0,\"#0d0887\"],[0.1111111111111111,\"#46039f\"],[0.2222222222222222,\"#7201a8\"],[0.3333333333333333,\"#9c179e\"],[0.4444444444444444,\"#bd3786\"],[0.5555555555555556,\"#d8576b\"],[0.6666666666666666,\"#ed7953\"],[0.7777777777777778,\"#fb9f3a\"],[0.8888888888888888,\"#fdca26\"],[1.0,\"#f0f921\"]]}],\"mesh3d\":[{\"type\":\"mesh3d\",\"colorbar\":{\"outlinewidth\":0,\"ticks\":\"\"}}],\"scatter\":[{\"fillpattern\":{\"fillmode\":\"overlay\",\"size\":10,\"solidity\":0.2},\"type\":\"scatter\"}],\"parcoords\":[{\"type\":\"parcoords\",\"line\":{\"colorbar\":{\"outlinewidth\":0,\"ticks\":\"\"}}}],\"scatterpolargl\":[{\"type\":\"scatterpolargl\",\"marker\":{\"colorbar\":{\"outlinewidth\":0,\"ticks\":\"\"}}}],\"bar\":[{\"error_x\":{\"color\":\"#2a3f5f\"},\"error_y\":{\"color\":\"#2a3f5f\"},\"marker\":{\"line\":{\"color\":\"#E5ECF6\",\"width\":0.5},\"pattern\":{\"fillmode\":\"overlay\",\"size\":10,\"solidity\":0.2}},\"type\":\"bar\"}],\"scattergeo\":[{\"type\":\"scattergeo\",\"marker\":{\"colorbar\":{\"outlinewidth\":0,\"ticks\":\"\"}}}],\"scatterpolar\":[{\"type\":\"scatterpolar\",\"marker\":{\"colorbar\":{\"outlinewidth\":0,\"ticks\":\"\"}}}],\"histogram\":[{\"marker\":{\"pattern\":{\"fillmode\":\"overlay\",\"size\":10,\"solidity\":0.2}},\"type\":\"histogram\"}],\"scattergl\":[{\"type\":\"scattergl\",\"marker\":{\"colorbar\":{\"outlinewidth\":0,\"ticks\":\"\"}}}],\"scatter3d\":[{\"type\":\"scatter3d\",\"line\":{\"colorbar\":{\"outlinewidth\":0,\"ticks\":\"\"}},\"marker\":{\"colorbar\":{\"outlinewidth\":0,\"ticks\":\"\"}}}],\"scattermapbox\":[{\"type\":\"scattermapbox\",\"marker\":{\"colorbar\":{\"outlinewidth\":0,\"ticks\":\"\"}}}],\"scatterternary\":[{\"type\":\"scatterternary\",\"marker\":{\"colorbar\":{\"outlinewidth\":0,\"ticks\":\"\"}}}],\"scattercarpet\":[{\"type\":\"scattercarpet\",\"marker\":{\"colorbar\":{\"outlinewidth\":0,\"ticks\":\"\"}}}],\"carpet\":[{\"aaxis\":{\"endlinecolor\":\"#2a3f5f\",\"gridcolor\":\"white\",\"linecolor\":\"white\",\"minorgridcolor\":\"white\",\"startlinecolor\":\"#2a3f5f\"},\"baxis\":{\"endlinecolor\":\"#2a3f5f\",\"gridcolor\":\"white\",\"linecolor\":\"white\",\"minorgridcolor\":\"white\",\"startlinecolor\":\"#2a3f5f\"},\"type\":\"carpet\"}],\"table\":[{\"cells\":{\"fill\":{\"color\":\"#EBF0F8\"},\"line\":{\"color\":\"white\"}},\"header\":{\"fill\":{\"color\":\"#C8D4E3\"},\"line\":{\"color\":\"white\"}},\"type\":\"table\"}],\"barpolar\":[{\"marker\":{\"line\":{\"color\":\"#E5ECF6\",\"width\":0.5},\"pattern\":{\"fillmode\":\"overlay\",\"size\":10,\"solidity\":0.2}},\"type\":\"barpolar\"}],\"pie\":[{\"automargin\":true,\"type\":\"pie\"}]},\"layout\":{\"autotypenumbers\":\"strict\",\"colorway\":[\"#636efa\",\"#EF553B\",\"#00cc96\",\"#ab63fa\",\"#FFA15A\",\"#19d3f3\",\"#FF6692\",\"#B6E880\",\"#FF97FF\",\"#FECB52\"],\"font\":{\"color\":\"#2a3f5f\"},\"hovermode\":\"closest\",\"hoverlabel\":{\"align\":\"left\"},\"paper_bgcolor\":\"white\",\"plot_bgcolor\":\"#E5ECF6\",\"polar\":{\"bgcolor\":\"#E5ECF6\",\"angularaxis\":{\"gridcolor\":\"white\",\"linecolor\":\"white\",\"ticks\":\"\"},\"radialaxis\":{\"gridcolor\":\"white\",\"linecolor\":\"white\",\"ticks\":\"\"}},\"ternary\":{\"bgcolor\":\"#E5ECF6\",\"aaxis\":{\"gridcolor\":\"white\",\"linecolor\":\"white\",\"ticks\":\"\"},\"baxis\":{\"gridcolor\":\"white\",\"linecolor\":\"white\",\"ticks\":\"\"},\"caxis\":{\"gridcolor\":\"white\",\"linecolor\":\"white\",\"ticks\":\"\"}},\"coloraxis\":{\"colorbar\":{\"outlinewidth\":0,\"ticks\":\"\"}},\"colorscale\":{\"sequential\":[[0.0,\"#0d0887\"],[0.1111111111111111,\"#46039f\"],[0.2222222222222222,\"#7201a8\"],[0.3333333333333333,\"#9c179e\"],[0.4444444444444444,\"#bd3786\"],[0.5555555555555556,\"#d8576b\"],[0.6666666666666666,\"#ed7953\"],[0.7777777777777778,\"#fb9f3a\"],[0.8888888888888888,\"#fdca26\"],[1.0,\"#f0f921\"]],\"sequentialminus\":[[0.0,\"#0d0887\"],[0.1111111111111111,\"#46039f\"],[0.2222222222222222,\"#7201a8\"],[0.3333333333333333,\"#9c179e\"],[0.4444444444444444,\"#bd3786\"],[0.5555555555555556,\"#d8576b\"],[0.6666666666666666,\"#ed7953\"],[0.7777777777777778,\"#fb9f3a\"],[0.8888888888888888,\"#fdca26\"],[1.0,\"#f0f921\"]],\"diverging\":[[0,\"#8e0152\"],[0.1,\"#c51b7d\"],[0.2,\"#de77ae\"],[0.3,\"#f1b6da\"],[0.4,\"#fde0ef\"],[0.5,\"#f7f7f7\"],[0.6,\"#e6f5d0\"],[0.7,\"#b8e186\"],[0.8,\"#7fbc41\"],[0.9,\"#4d9221\"],[1,\"#276419\"]]},\"xaxis\":{\"gridcolor\":\"white\",\"linecolor\":\"white\",\"ticks\":\"\",\"title\":{\"standoff\":15},\"zerolinecolor\":\"white\",\"automargin\":true,\"zerolinewidth\":2},\"yaxis\":{\"gridcolor\":\"white\",\"linecolor\":\"white\",\"ticks\":\"\",\"title\":{\"standoff\":15},\"zerolinecolor\":\"white\",\"automargin\":true,\"zerolinewidth\":2},\"scene\":{\"xaxis\":{\"backgroundcolor\":\"#E5ECF6\",\"gridcolor\":\"white\",\"linecolor\":\"white\",\"showbackground\":true,\"ticks\":\"\",\"zerolinecolor\":\"white\",\"gridwidth\":2},\"yaxis\":{\"backgroundcolor\":\"#E5ECF6\",\"gridcolor\":\"white\",\"linecolor\":\"white\",\"showbackground\":true,\"ticks\":\"\",\"zerolinecolor\":\"white\",\"gridwidth\":2},\"zaxis\":{\"backgroundcolor\":\"#E5ECF6\",\"gridcolor\":\"white\",\"linecolor\":\"white\",\"showbackground\":true,\"ticks\":\"\",\"zerolinecolor\":\"white\",\"gridwidth\":2}},\"shapedefaults\":{\"line\":{\"color\":\"#2a3f5f\"}},\"annotationdefaults\":{\"arrowcolor\":\"#2a3f5f\",\"arrowhead\":0,\"arrowwidth\":1},\"geo\":{\"bgcolor\":\"white\",\"landcolor\":\"#E5ECF6\",\"subunitcolor\":\"white\",\"showland\":true,\"showlakes\":true,\"lakecolor\":\"white\"},\"title\":{\"x\":0.05},\"mapbox\":{\"style\":\"light\"}}},\"xaxis\":{\"anchor\":\"y\",\"domain\":[0.0,1.0],\"title\":{\"text\":\"ProductType\"},\"tickangle\":-45},\"yaxis\":{\"anchor\":\"x\",\"domain\":[0.0,1.0],\"title\":{\"text\":\"Counts\"}},\"legend\":{\"tracegroupgap\":0},\"title\":{\"text\":\"Value Counts for ProductType\",\"y\":0.9,\"x\":0.5,\"xanchor\":\"center\",\"yanchor\":\"top\"},\"barmode\":\"relative\",\"height\":600,\"width\":1000},                        {\"responsive\": true}                    ).then(function(){\n",
       "                            \n",
       "var gd = document.getElementById('e6d37a21-3e51-4fd2-81fa-20cab1ff28f4');\n",
       "var x = new MutationObserver(function (mutations, observer) {{\n",
       "        var display = window.getComputedStyle(gd).display;\n",
       "        if (!display || display === 'none') {{\n",
       "            console.log([gd, 'removed!']);\n",
       "            Plotly.purge(gd);\n",
       "            observer.disconnect();\n",
       "        }}\n",
       "}});\n",
       "\n",
       "// Listen for the removal of the full notebook cells\n",
       "var notebookContainer = gd.closest('#notebook-container');\n",
       "if (notebookContainer) {{\n",
       "    x.observe(notebookContainer, {childList: true});\n",
       "}}\n",
       "\n",
       "// Listen for the clearing of the current output cell\n",
       "var outputEl = gd.closest('.output');\n",
       "if (outputEl) {{\n",
       "    x.observe(outputEl, {childList: true});\n",
       "}}\n",
       "\n",
       "                        })                };                });            </script>        </div>"
      ]
     },
     "metadata": {},
     "output_type": "display_data"
    }
   ],
   "source": [
    "plot_objects['ProductType'].show()  # Display the plot for ProductType"
   ]
  },
  {
   "cell_type": "markdown",
   "metadata": {},
   "source": [
    "<div class=\"alert alert-block alert-info\">\n",
    "    <strong>Product Type Distribution:</strong> The distribution of product types reveals that <b>NTM2</b> is the most prevalent type, followed by <b>NTM1</b> and <b>NTM3</b>. This indicates a potential demand pattern or production focus within the market.\n",
    "</div>\n",
    "\n"
   ]
  },
  {
   "cell_type": "code",
   "execution_count": 23,
   "metadata": {},
   "outputs": [
    {
     "data": {
      "application/vnd.plotly.v1+json": {
       "config": {
        "plotlyServerURL": "https://plot.ly"
       },
       "data": [
        {
         "alignmentgroup": "True",
         "hovertemplate": "Category=%{x}<br>Counts=%{text}<extra></extra>",
         "legendgroup": "",
         "marker": {
          "color": "#636efa",
          "pattern": {
           "shape": ""
          }
         },
         "name": "",
         "offsetgroup": "",
         "orientation": "v",
         "showlegend": false,
         "text": [
          419857,
          120695,
          9624
         ],
         "textposition": "outside",
         "texttemplate": "%{text:.2s}",
         "type": "bar",
         "x": [
          "X1",
          "X2",
          "X3"
         ],
         "xaxis": "x",
         "y": [
          419857,
          120695,
          9624
         ],
         "yaxis": "y"
        }
       ],
       "layout": {
        "barmode": "relative",
        "height": 600,
        "legend": {
         "tracegroupgap": 0
        },
        "template": {
         "data": {
          "bar": [
           {
            "error_x": {
             "color": "#2a3f5f"
            },
            "error_y": {
             "color": "#2a3f5f"
            },
            "marker": {
             "line": {
              "color": "#E5ECF6",
              "width": 0.5
             },
             "pattern": {
              "fillmode": "overlay",
              "size": 10,
              "solidity": 0.2
             }
            },
            "type": "bar"
           }
          ],
          "barpolar": [
           {
            "marker": {
             "line": {
              "color": "#E5ECF6",
              "width": 0.5
             },
             "pattern": {
              "fillmode": "overlay",
              "size": 10,
              "solidity": 0.2
             }
            },
            "type": "barpolar"
           }
          ],
          "carpet": [
           {
            "aaxis": {
             "endlinecolor": "#2a3f5f",
             "gridcolor": "white",
             "linecolor": "white",
             "minorgridcolor": "white",
             "startlinecolor": "#2a3f5f"
            },
            "baxis": {
             "endlinecolor": "#2a3f5f",
             "gridcolor": "white",
             "linecolor": "white",
             "minorgridcolor": "white",
             "startlinecolor": "#2a3f5f"
            },
            "type": "carpet"
           }
          ],
          "choropleth": [
           {
            "colorbar": {
             "outlinewidth": 0,
             "ticks": ""
            },
            "type": "choropleth"
           }
          ],
          "contour": [
           {
            "colorbar": {
             "outlinewidth": 0,
             "ticks": ""
            },
            "colorscale": [
             [
              0,
              "#0d0887"
             ],
             [
              0.1111111111111111,
              "#46039f"
             ],
             [
              0.2222222222222222,
              "#7201a8"
             ],
             [
              0.3333333333333333,
              "#9c179e"
             ],
             [
              0.4444444444444444,
              "#bd3786"
             ],
             [
              0.5555555555555556,
              "#d8576b"
             ],
             [
              0.6666666666666666,
              "#ed7953"
             ],
             [
              0.7777777777777778,
              "#fb9f3a"
             ],
             [
              0.8888888888888888,
              "#fdca26"
             ],
             [
              1,
              "#f0f921"
             ]
            ],
            "type": "contour"
           }
          ],
          "contourcarpet": [
           {
            "colorbar": {
             "outlinewidth": 0,
             "ticks": ""
            },
            "type": "contourcarpet"
           }
          ],
          "heatmap": [
           {
            "colorbar": {
             "outlinewidth": 0,
             "ticks": ""
            },
            "colorscale": [
             [
              0,
              "#0d0887"
             ],
             [
              0.1111111111111111,
              "#46039f"
             ],
             [
              0.2222222222222222,
              "#7201a8"
             ],
             [
              0.3333333333333333,
              "#9c179e"
             ],
             [
              0.4444444444444444,
              "#bd3786"
             ],
             [
              0.5555555555555556,
              "#d8576b"
             ],
             [
              0.6666666666666666,
              "#ed7953"
             ],
             [
              0.7777777777777778,
              "#fb9f3a"
             ],
             [
              0.8888888888888888,
              "#fdca26"
             ],
             [
              1,
              "#f0f921"
             ]
            ],
            "type": "heatmap"
           }
          ],
          "heatmapgl": [
           {
            "colorbar": {
             "outlinewidth": 0,
             "ticks": ""
            },
            "colorscale": [
             [
              0,
              "#0d0887"
             ],
             [
              0.1111111111111111,
              "#46039f"
             ],
             [
              0.2222222222222222,
              "#7201a8"
             ],
             [
              0.3333333333333333,
              "#9c179e"
             ],
             [
              0.4444444444444444,
              "#bd3786"
             ],
             [
              0.5555555555555556,
              "#d8576b"
             ],
             [
              0.6666666666666666,
              "#ed7953"
             ],
             [
              0.7777777777777778,
              "#fb9f3a"
             ],
             [
              0.8888888888888888,
              "#fdca26"
             ],
             [
              1,
              "#f0f921"
             ]
            ],
            "type": "heatmapgl"
           }
          ],
          "histogram": [
           {
            "marker": {
             "pattern": {
              "fillmode": "overlay",
              "size": 10,
              "solidity": 0.2
             }
            },
            "type": "histogram"
           }
          ],
          "histogram2d": [
           {
            "colorbar": {
             "outlinewidth": 0,
             "ticks": ""
            },
            "colorscale": [
             [
              0,
              "#0d0887"
             ],
             [
              0.1111111111111111,
              "#46039f"
             ],
             [
              0.2222222222222222,
              "#7201a8"
             ],
             [
              0.3333333333333333,
              "#9c179e"
             ],
             [
              0.4444444444444444,
              "#bd3786"
             ],
             [
              0.5555555555555556,
              "#d8576b"
             ],
             [
              0.6666666666666666,
              "#ed7953"
             ],
             [
              0.7777777777777778,
              "#fb9f3a"
             ],
             [
              0.8888888888888888,
              "#fdca26"
             ],
             [
              1,
              "#f0f921"
             ]
            ],
            "type": "histogram2d"
           }
          ],
          "histogram2dcontour": [
           {
            "colorbar": {
             "outlinewidth": 0,
             "ticks": ""
            },
            "colorscale": [
             [
              0,
              "#0d0887"
             ],
             [
              0.1111111111111111,
              "#46039f"
             ],
             [
              0.2222222222222222,
              "#7201a8"
             ],
             [
              0.3333333333333333,
              "#9c179e"
             ],
             [
              0.4444444444444444,
              "#bd3786"
             ],
             [
              0.5555555555555556,
              "#d8576b"
             ],
             [
              0.6666666666666666,
              "#ed7953"
             ],
             [
              0.7777777777777778,
              "#fb9f3a"
             ],
             [
              0.8888888888888888,
              "#fdca26"
             ],
             [
              1,
              "#f0f921"
             ]
            ],
            "type": "histogram2dcontour"
           }
          ],
          "mesh3d": [
           {
            "colorbar": {
             "outlinewidth": 0,
             "ticks": ""
            },
            "type": "mesh3d"
           }
          ],
          "parcoords": [
           {
            "line": {
             "colorbar": {
              "outlinewidth": 0,
              "ticks": ""
             }
            },
            "type": "parcoords"
           }
          ],
          "pie": [
           {
            "automargin": true,
            "type": "pie"
           }
          ],
          "scatter": [
           {
            "fillpattern": {
             "fillmode": "overlay",
             "size": 10,
             "solidity": 0.2
            },
            "type": "scatter"
           }
          ],
          "scatter3d": [
           {
            "line": {
             "colorbar": {
              "outlinewidth": 0,
              "ticks": ""
             }
            },
            "marker": {
             "colorbar": {
              "outlinewidth": 0,
              "ticks": ""
             }
            },
            "type": "scatter3d"
           }
          ],
          "scattercarpet": [
           {
            "marker": {
             "colorbar": {
              "outlinewidth": 0,
              "ticks": ""
             }
            },
            "type": "scattercarpet"
           }
          ],
          "scattergeo": [
           {
            "marker": {
             "colorbar": {
              "outlinewidth": 0,
              "ticks": ""
             }
            },
            "type": "scattergeo"
           }
          ],
          "scattergl": [
           {
            "marker": {
             "colorbar": {
              "outlinewidth": 0,
              "ticks": ""
             }
            },
            "type": "scattergl"
           }
          ],
          "scattermapbox": [
           {
            "marker": {
             "colorbar": {
              "outlinewidth": 0,
              "ticks": ""
             }
            },
            "type": "scattermapbox"
           }
          ],
          "scatterpolar": [
           {
            "marker": {
             "colorbar": {
              "outlinewidth": 0,
              "ticks": ""
             }
            },
            "type": "scatterpolar"
           }
          ],
          "scatterpolargl": [
           {
            "marker": {
             "colorbar": {
              "outlinewidth": 0,
              "ticks": ""
             }
            },
            "type": "scatterpolargl"
           }
          ],
          "scatterternary": [
           {
            "marker": {
             "colorbar": {
              "outlinewidth": 0,
              "ticks": ""
             }
            },
            "type": "scatterternary"
           }
          ],
          "surface": [
           {
            "colorbar": {
             "outlinewidth": 0,
             "ticks": ""
            },
            "colorscale": [
             [
              0,
              "#0d0887"
             ],
             [
              0.1111111111111111,
              "#46039f"
             ],
             [
              0.2222222222222222,
              "#7201a8"
             ],
             [
              0.3333333333333333,
              "#9c179e"
             ],
             [
              0.4444444444444444,
              "#bd3786"
             ],
             [
              0.5555555555555556,
              "#d8576b"
             ],
             [
              0.6666666666666666,
              "#ed7953"
             ],
             [
              0.7777777777777778,
              "#fb9f3a"
             ],
             [
              0.8888888888888888,
              "#fdca26"
             ],
             [
              1,
              "#f0f921"
             ]
            ],
            "type": "surface"
           }
          ],
          "table": [
           {
            "cells": {
             "fill": {
              "color": "#EBF0F8"
             },
             "line": {
              "color": "white"
             }
            },
            "header": {
             "fill": {
              "color": "#C8D4E3"
             },
             "line": {
              "color": "white"
             }
            },
            "type": "table"
           }
          ]
         },
         "layout": {
          "annotationdefaults": {
           "arrowcolor": "#2a3f5f",
           "arrowhead": 0,
           "arrowwidth": 1
          },
          "autotypenumbers": "strict",
          "coloraxis": {
           "colorbar": {
            "outlinewidth": 0,
            "ticks": ""
           }
          },
          "colorscale": {
           "diverging": [
            [
             0,
             "#8e0152"
            ],
            [
             0.1,
             "#c51b7d"
            ],
            [
             0.2,
             "#de77ae"
            ],
            [
             0.3,
             "#f1b6da"
            ],
            [
             0.4,
             "#fde0ef"
            ],
            [
             0.5,
             "#f7f7f7"
            ],
            [
             0.6,
             "#e6f5d0"
            ],
            [
             0.7,
             "#b8e186"
            ],
            [
             0.8,
             "#7fbc41"
            ],
            [
             0.9,
             "#4d9221"
            ],
            [
             1,
             "#276419"
            ]
           ],
           "sequential": [
            [
             0,
             "#0d0887"
            ],
            [
             0.1111111111111111,
             "#46039f"
            ],
            [
             0.2222222222222222,
             "#7201a8"
            ],
            [
             0.3333333333333333,
             "#9c179e"
            ],
            [
             0.4444444444444444,
             "#bd3786"
            ],
            [
             0.5555555555555556,
             "#d8576b"
            ],
            [
             0.6666666666666666,
             "#ed7953"
            ],
            [
             0.7777777777777778,
             "#fb9f3a"
            ],
            [
             0.8888888888888888,
             "#fdca26"
            ],
            [
             1,
             "#f0f921"
            ]
           ],
           "sequentialminus": [
            [
             0,
             "#0d0887"
            ],
            [
             0.1111111111111111,
             "#46039f"
            ],
            [
             0.2222222222222222,
             "#7201a8"
            ],
            [
             0.3333333333333333,
             "#9c179e"
            ],
            [
             0.4444444444444444,
             "#bd3786"
            ],
            [
             0.5555555555555556,
             "#d8576b"
            ],
            [
             0.6666666666666666,
             "#ed7953"
            ],
            [
             0.7777777777777778,
             "#fb9f3a"
            ],
            [
             0.8888888888888888,
             "#fdca26"
            ],
            [
             1,
             "#f0f921"
            ]
           ]
          },
          "colorway": [
           "#636efa",
           "#EF553B",
           "#00cc96",
           "#ab63fa",
           "#FFA15A",
           "#19d3f3",
           "#FF6692",
           "#B6E880",
           "#FF97FF",
           "#FECB52"
          ],
          "font": {
           "color": "#2a3f5f"
          },
          "geo": {
           "bgcolor": "white",
           "lakecolor": "white",
           "landcolor": "#E5ECF6",
           "showlakes": true,
           "showland": true,
           "subunitcolor": "white"
          },
          "hoverlabel": {
           "align": "left"
          },
          "hovermode": "closest",
          "mapbox": {
           "style": "light"
          },
          "paper_bgcolor": "white",
          "plot_bgcolor": "#E5ECF6",
          "polar": {
           "angularaxis": {
            "gridcolor": "white",
            "linecolor": "white",
            "ticks": ""
           },
           "bgcolor": "#E5ECF6",
           "radialaxis": {
            "gridcolor": "white",
            "linecolor": "white",
            "ticks": ""
           }
          },
          "scene": {
           "xaxis": {
            "backgroundcolor": "#E5ECF6",
            "gridcolor": "white",
            "gridwidth": 2,
            "linecolor": "white",
            "showbackground": true,
            "ticks": "",
            "zerolinecolor": "white"
           },
           "yaxis": {
            "backgroundcolor": "#E5ECF6",
            "gridcolor": "white",
            "gridwidth": 2,
            "linecolor": "white",
            "showbackground": true,
            "ticks": "",
            "zerolinecolor": "white"
           },
           "zaxis": {
            "backgroundcolor": "#E5ECF6",
            "gridcolor": "white",
            "gridwidth": 2,
            "linecolor": "white",
            "showbackground": true,
            "ticks": "",
            "zerolinecolor": "white"
           }
          },
          "shapedefaults": {
           "line": {
            "color": "#2a3f5f"
           }
          },
          "ternary": {
           "aaxis": {
            "gridcolor": "white",
            "linecolor": "white",
            "ticks": ""
           },
           "baxis": {
            "gridcolor": "white",
            "linecolor": "white",
            "ticks": ""
           },
           "bgcolor": "#E5ECF6",
           "caxis": {
            "gridcolor": "white",
            "linecolor": "white",
            "ticks": ""
           }
          },
          "title": {
           "x": 0.05
          },
          "xaxis": {
           "automargin": true,
           "gridcolor": "white",
           "linecolor": "white",
           "ticks": "",
           "title": {
            "standoff": 15
           },
           "zerolinecolor": "white",
           "zerolinewidth": 2
          },
          "yaxis": {
           "automargin": true,
           "gridcolor": "white",
           "linecolor": "white",
           "ticks": "",
           "title": {
            "standoff": 15
           },
           "zerolinecolor": "white",
           "zerolinewidth": 2
          }
         }
        },
        "title": {
         "text": "Value Counts for Manufacturer",
         "x": 0.5,
         "xanchor": "center",
         "y": 0.9,
         "yanchor": "top"
        },
        "width": 1000,
        "xaxis": {
         "anchor": "y",
         "domain": [
          0,
          1
         ],
         "tickangle": -45,
         "title": {
          "text": "Manufacturer"
         }
        },
        "yaxis": {
         "anchor": "x",
         "domain": [
          0,
          1
         ],
         "title": {
          "text": "Counts"
         }
        }
       }
      },
      "text/html": [
       "<div>                            <div id=\"3cfe49e3-dd85-4078-b207-0b7564de119d\" class=\"plotly-graph-div\" style=\"height:600px; width:1000px;\"></div>            <script type=\"text/javascript\">                require([\"plotly\"], function(Plotly) {                    window.PLOTLYENV=window.PLOTLYENV || {};                                    if (document.getElementById(\"3cfe49e3-dd85-4078-b207-0b7564de119d\")) {                    Plotly.newPlot(                        \"3cfe49e3-dd85-4078-b207-0b7564de119d\",                        [{\"alignmentgroup\":\"True\",\"hovertemplate\":\"Category=%{x}\\u003cbr\\u003eCounts=%{text}\\u003cextra\\u003e\\u003c\\u002fextra\\u003e\",\"legendgroup\":\"\",\"marker\":{\"color\":\"#636efa\",\"pattern\":{\"shape\":\"\"}},\"name\":\"\",\"offsetgroup\":\"\",\"orientation\":\"v\",\"showlegend\":false,\"text\":[419857.0,120695.0,9624.0],\"textposition\":\"outside\",\"x\":[\"X1\",\"X2\",\"X3\"],\"xaxis\":\"x\",\"y\":[419857,120695,9624],\"yaxis\":\"y\",\"type\":\"bar\",\"texttemplate\":\"%{text:.2s}\"}],                        {\"template\":{\"data\":{\"histogram2dcontour\":[{\"type\":\"histogram2dcontour\",\"colorbar\":{\"outlinewidth\":0,\"ticks\":\"\"},\"colorscale\":[[0.0,\"#0d0887\"],[0.1111111111111111,\"#46039f\"],[0.2222222222222222,\"#7201a8\"],[0.3333333333333333,\"#9c179e\"],[0.4444444444444444,\"#bd3786\"],[0.5555555555555556,\"#d8576b\"],[0.6666666666666666,\"#ed7953\"],[0.7777777777777778,\"#fb9f3a\"],[0.8888888888888888,\"#fdca26\"],[1.0,\"#f0f921\"]]}],\"choropleth\":[{\"type\":\"choropleth\",\"colorbar\":{\"outlinewidth\":0,\"ticks\":\"\"}}],\"histogram2d\":[{\"type\":\"histogram2d\",\"colorbar\":{\"outlinewidth\":0,\"ticks\":\"\"},\"colorscale\":[[0.0,\"#0d0887\"],[0.1111111111111111,\"#46039f\"],[0.2222222222222222,\"#7201a8\"],[0.3333333333333333,\"#9c179e\"],[0.4444444444444444,\"#bd3786\"],[0.5555555555555556,\"#d8576b\"],[0.6666666666666666,\"#ed7953\"],[0.7777777777777778,\"#fb9f3a\"],[0.8888888888888888,\"#fdca26\"],[1.0,\"#f0f921\"]]}],\"heatmap\":[{\"type\":\"heatmap\",\"colorbar\":{\"outlinewidth\":0,\"ticks\":\"\"},\"colorscale\":[[0.0,\"#0d0887\"],[0.1111111111111111,\"#46039f\"],[0.2222222222222222,\"#7201a8\"],[0.3333333333333333,\"#9c179e\"],[0.4444444444444444,\"#bd3786\"],[0.5555555555555556,\"#d8576b\"],[0.6666666666666666,\"#ed7953\"],[0.7777777777777778,\"#fb9f3a\"],[0.8888888888888888,\"#fdca26\"],[1.0,\"#f0f921\"]]}],\"heatmapgl\":[{\"type\":\"heatmapgl\",\"colorbar\":{\"outlinewidth\":0,\"ticks\":\"\"},\"colorscale\":[[0.0,\"#0d0887\"],[0.1111111111111111,\"#46039f\"],[0.2222222222222222,\"#7201a8\"],[0.3333333333333333,\"#9c179e\"],[0.4444444444444444,\"#bd3786\"],[0.5555555555555556,\"#d8576b\"],[0.6666666666666666,\"#ed7953\"],[0.7777777777777778,\"#fb9f3a\"],[0.8888888888888888,\"#fdca26\"],[1.0,\"#f0f921\"]]}],\"contourcarpet\":[{\"type\":\"contourcarpet\",\"colorbar\":{\"outlinewidth\":0,\"ticks\":\"\"}}],\"contour\":[{\"type\":\"contour\",\"colorbar\":{\"outlinewidth\":0,\"ticks\":\"\"},\"colorscale\":[[0.0,\"#0d0887\"],[0.1111111111111111,\"#46039f\"],[0.2222222222222222,\"#7201a8\"],[0.3333333333333333,\"#9c179e\"],[0.4444444444444444,\"#bd3786\"],[0.5555555555555556,\"#d8576b\"],[0.6666666666666666,\"#ed7953\"],[0.7777777777777778,\"#fb9f3a\"],[0.8888888888888888,\"#fdca26\"],[1.0,\"#f0f921\"]]}],\"surface\":[{\"type\":\"surface\",\"colorbar\":{\"outlinewidth\":0,\"ticks\":\"\"},\"colorscale\":[[0.0,\"#0d0887\"],[0.1111111111111111,\"#46039f\"],[0.2222222222222222,\"#7201a8\"],[0.3333333333333333,\"#9c179e\"],[0.4444444444444444,\"#bd3786\"],[0.5555555555555556,\"#d8576b\"],[0.6666666666666666,\"#ed7953\"],[0.7777777777777778,\"#fb9f3a\"],[0.8888888888888888,\"#fdca26\"],[1.0,\"#f0f921\"]]}],\"mesh3d\":[{\"type\":\"mesh3d\",\"colorbar\":{\"outlinewidth\":0,\"ticks\":\"\"}}],\"scatter\":[{\"fillpattern\":{\"fillmode\":\"overlay\",\"size\":10,\"solidity\":0.2},\"type\":\"scatter\"}],\"parcoords\":[{\"type\":\"parcoords\",\"line\":{\"colorbar\":{\"outlinewidth\":0,\"ticks\":\"\"}}}],\"scatterpolargl\":[{\"type\":\"scatterpolargl\",\"marker\":{\"colorbar\":{\"outlinewidth\":0,\"ticks\":\"\"}}}],\"bar\":[{\"error_x\":{\"color\":\"#2a3f5f\"},\"error_y\":{\"color\":\"#2a3f5f\"},\"marker\":{\"line\":{\"color\":\"#E5ECF6\",\"width\":0.5},\"pattern\":{\"fillmode\":\"overlay\",\"size\":10,\"solidity\":0.2}},\"type\":\"bar\"}],\"scattergeo\":[{\"type\":\"scattergeo\",\"marker\":{\"colorbar\":{\"outlinewidth\":0,\"ticks\":\"\"}}}],\"scatterpolar\":[{\"type\":\"scatterpolar\",\"marker\":{\"colorbar\":{\"outlinewidth\":0,\"ticks\":\"\"}}}],\"histogram\":[{\"marker\":{\"pattern\":{\"fillmode\":\"overlay\",\"size\":10,\"solidity\":0.2}},\"type\":\"histogram\"}],\"scattergl\":[{\"type\":\"scattergl\",\"marker\":{\"colorbar\":{\"outlinewidth\":0,\"ticks\":\"\"}}}],\"scatter3d\":[{\"type\":\"scatter3d\",\"line\":{\"colorbar\":{\"outlinewidth\":0,\"ticks\":\"\"}},\"marker\":{\"colorbar\":{\"outlinewidth\":0,\"ticks\":\"\"}}}],\"scattermapbox\":[{\"type\":\"scattermapbox\",\"marker\":{\"colorbar\":{\"outlinewidth\":0,\"ticks\":\"\"}}}],\"scatterternary\":[{\"type\":\"scatterternary\",\"marker\":{\"colorbar\":{\"outlinewidth\":0,\"ticks\":\"\"}}}],\"scattercarpet\":[{\"type\":\"scattercarpet\",\"marker\":{\"colorbar\":{\"outlinewidth\":0,\"ticks\":\"\"}}}],\"carpet\":[{\"aaxis\":{\"endlinecolor\":\"#2a3f5f\",\"gridcolor\":\"white\",\"linecolor\":\"white\",\"minorgridcolor\":\"white\",\"startlinecolor\":\"#2a3f5f\"},\"baxis\":{\"endlinecolor\":\"#2a3f5f\",\"gridcolor\":\"white\",\"linecolor\":\"white\",\"minorgridcolor\":\"white\",\"startlinecolor\":\"#2a3f5f\"},\"type\":\"carpet\"}],\"table\":[{\"cells\":{\"fill\":{\"color\":\"#EBF0F8\"},\"line\":{\"color\":\"white\"}},\"header\":{\"fill\":{\"color\":\"#C8D4E3\"},\"line\":{\"color\":\"white\"}},\"type\":\"table\"}],\"barpolar\":[{\"marker\":{\"line\":{\"color\":\"#E5ECF6\",\"width\":0.5},\"pattern\":{\"fillmode\":\"overlay\",\"size\":10,\"solidity\":0.2}},\"type\":\"barpolar\"}],\"pie\":[{\"automargin\":true,\"type\":\"pie\"}]},\"layout\":{\"autotypenumbers\":\"strict\",\"colorway\":[\"#636efa\",\"#EF553B\",\"#00cc96\",\"#ab63fa\",\"#FFA15A\",\"#19d3f3\",\"#FF6692\",\"#B6E880\",\"#FF97FF\",\"#FECB52\"],\"font\":{\"color\":\"#2a3f5f\"},\"hovermode\":\"closest\",\"hoverlabel\":{\"align\":\"left\"},\"paper_bgcolor\":\"white\",\"plot_bgcolor\":\"#E5ECF6\",\"polar\":{\"bgcolor\":\"#E5ECF6\",\"angularaxis\":{\"gridcolor\":\"white\",\"linecolor\":\"white\",\"ticks\":\"\"},\"radialaxis\":{\"gridcolor\":\"white\",\"linecolor\":\"white\",\"ticks\":\"\"}},\"ternary\":{\"bgcolor\":\"#E5ECF6\",\"aaxis\":{\"gridcolor\":\"white\",\"linecolor\":\"white\",\"ticks\":\"\"},\"baxis\":{\"gridcolor\":\"white\",\"linecolor\":\"white\",\"ticks\":\"\"},\"caxis\":{\"gridcolor\":\"white\",\"linecolor\":\"white\",\"ticks\":\"\"}},\"coloraxis\":{\"colorbar\":{\"outlinewidth\":0,\"ticks\":\"\"}},\"colorscale\":{\"sequential\":[[0.0,\"#0d0887\"],[0.1111111111111111,\"#46039f\"],[0.2222222222222222,\"#7201a8\"],[0.3333333333333333,\"#9c179e\"],[0.4444444444444444,\"#bd3786\"],[0.5555555555555556,\"#d8576b\"],[0.6666666666666666,\"#ed7953\"],[0.7777777777777778,\"#fb9f3a\"],[0.8888888888888888,\"#fdca26\"],[1.0,\"#f0f921\"]],\"sequentialminus\":[[0.0,\"#0d0887\"],[0.1111111111111111,\"#46039f\"],[0.2222222222222222,\"#7201a8\"],[0.3333333333333333,\"#9c179e\"],[0.4444444444444444,\"#bd3786\"],[0.5555555555555556,\"#d8576b\"],[0.6666666666666666,\"#ed7953\"],[0.7777777777777778,\"#fb9f3a\"],[0.8888888888888888,\"#fdca26\"],[1.0,\"#f0f921\"]],\"diverging\":[[0,\"#8e0152\"],[0.1,\"#c51b7d\"],[0.2,\"#de77ae\"],[0.3,\"#f1b6da\"],[0.4,\"#fde0ef\"],[0.5,\"#f7f7f7\"],[0.6,\"#e6f5d0\"],[0.7,\"#b8e186\"],[0.8,\"#7fbc41\"],[0.9,\"#4d9221\"],[1,\"#276419\"]]},\"xaxis\":{\"gridcolor\":\"white\",\"linecolor\":\"white\",\"ticks\":\"\",\"title\":{\"standoff\":15},\"zerolinecolor\":\"white\",\"automargin\":true,\"zerolinewidth\":2},\"yaxis\":{\"gridcolor\":\"white\",\"linecolor\":\"white\",\"ticks\":\"\",\"title\":{\"standoff\":15},\"zerolinecolor\":\"white\",\"automargin\":true,\"zerolinewidth\":2},\"scene\":{\"xaxis\":{\"backgroundcolor\":\"#E5ECF6\",\"gridcolor\":\"white\",\"linecolor\":\"white\",\"showbackground\":true,\"ticks\":\"\",\"zerolinecolor\":\"white\",\"gridwidth\":2},\"yaxis\":{\"backgroundcolor\":\"#E5ECF6\",\"gridcolor\":\"white\",\"linecolor\":\"white\",\"showbackground\":true,\"ticks\":\"\",\"zerolinecolor\":\"white\",\"gridwidth\":2},\"zaxis\":{\"backgroundcolor\":\"#E5ECF6\",\"gridcolor\":\"white\",\"linecolor\":\"white\",\"showbackground\":true,\"ticks\":\"\",\"zerolinecolor\":\"white\",\"gridwidth\":2}},\"shapedefaults\":{\"line\":{\"color\":\"#2a3f5f\"}},\"annotationdefaults\":{\"arrowcolor\":\"#2a3f5f\",\"arrowhead\":0,\"arrowwidth\":1},\"geo\":{\"bgcolor\":\"white\",\"landcolor\":\"#E5ECF6\",\"subunitcolor\":\"white\",\"showland\":true,\"showlakes\":true,\"lakecolor\":\"white\"},\"title\":{\"x\":0.05},\"mapbox\":{\"style\":\"light\"}}},\"xaxis\":{\"anchor\":\"y\",\"domain\":[0.0,1.0],\"title\":{\"text\":\"Manufacturer\"},\"tickangle\":-45},\"yaxis\":{\"anchor\":\"x\",\"domain\":[0.0,1.0],\"title\":{\"text\":\"Counts\"}},\"legend\":{\"tracegroupgap\":0},\"title\":{\"text\":\"Value Counts for Manufacturer\",\"y\":0.9,\"x\":0.5,\"xanchor\":\"center\",\"yanchor\":\"top\"},\"barmode\":\"relative\",\"height\":600,\"width\":1000},                        {\"responsive\": true}                    ).then(function(){\n",
       "                            \n",
       "var gd = document.getElementById('3cfe49e3-dd85-4078-b207-0b7564de119d');\n",
       "var x = new MutationObserver(function (mutations, observer) {{\n",
       "        var display = window.getComputedStyle(gd).display;\n",
       "        if (!display || display === 'none') {{\n",
       "            console.log([gd, 'removed!']);\n",
       "            Plotly.purge(gd);\n",
       "            observer.disconnect();\n",
       "        }}\n",
       "}});\n",
       "\n",
       "// Listen for the removal of the full notebook cells\n",
       "var notebookContainer = gd.closest('#notebook-container');\n",
       "if (notebookContainer) {{\n",
       "    x.observe(notebookContainer, {childList: true});\n",
       "}}\n",
       "\n",
       "// Listen for the clearing of the current output cell\n",
       "var outputEl = gd.closest('.output');\n",
       "if (outputEl) {{\n",
       "    x.observe(outputEl, {childList: true});\n",
       "}}\n",
       "\n",
       "                        })                };                });            </script>        </div>"
      ]
     },
     "metadata": {},
     "output_type": "display_data"
    }
   ],
   "source": [
    "plot_objects['Manufacturer'].show()  # Display the plot for Manufacturer"
   ]
  },
  {
   "cell_type": "markdown",
   "metadata": {},
   "source": [
    "<div class=\"alert alert-block alert-info\">\n",
    "    <strong>Manufacturer Distribution:</strong> Manufacturer <b>X1</b> dominates the market with the highest count, suggesting it holds a significant share compared to <b>X2</b> and <b>X3</b>. Understanding the market dynamics between these manufacturers can provide strategic insights for stakeholders.\n",
    "</div>"
   ]
  },
  {
   "cell_type": "code",
   "execution_count": 24,
   "metadata": {},
   "outputs": [
    {
     "data": {
      "application/vnd.plotly.v1+json": {
       "config": {
        "plotlyServerURL": "https://plot.ly"
       },
       "data": [
        {
         "alignmentgroup": "True",
         "hovertemplate": "Category=%{x}<br>Counts=%{text}<extra></extra>",
         "legendgroup": "",
         "marker": {
          "color": "#636efa",
          "pattern": {
           "shape": ""
          }
         },
         "name": "",
         "offsetgroup": "",
         "orientation": "v",
         "showlegend": false,
         "text": [
          41925,
          36723,
          33247,
          31111,
          28772,
          26490,
          24252,
          22970,
          20422,
          18379,
          18105,
          15938,
          14547,
          13820,
          13374,
          13234,
          13145,
          12676,
          12399,
          11326,
          10725,
          10154,
          10107,
          9624,
          9424,
          8877,
          8188,
          7548,
          6470,
          5769,
          5496,
          5408,
          4843,
          4249,
          3839,
          3065,
          2360,
          2357,
          2126,
          1732,
          1702,
          1432,
          1139,
          569,
          118
         ],
         "textposition": "outside",
         "texttemplate": "%{text:.2s}",
         "type": "bar",
         "x": [
          "A28",
          "A7",
          "A3",
          "A11",
          "A8",
          "A44",
          "A5",
          "A10",
          "A25",
          "A31",
          "A29",
          "A16",
          "A12",
          "A40",
          "A21",
          "A43",
          "A2",
          "A1",
          "A6",
          "A4",
          "A24",
          "A18",
          "A9",
          "A22",
          "A14",
          "A35",
          "A45",
          "A13",
          "A42",
          "A33",
          "A15",
          "A32",
          "A36",
          "A34",
          "A19",
          "A38",
          "A26",
          "A30",
          "A20",
          "A46",
          "A39",
          "A37",
          "A17",
          "A23",
          "A41"
         ],
         "xaxis": "x",
         "y": [
          41925,
          36723,
          33247,
          31111,
          28772,
          26490,
          24252,
          22970,
          20422,
          18379,
          18105,
          15938,
          14547,
          13820,
          13374,
          13234,
          13145,
          12676,
          12399,
          11326,
          10725,
          10154,
          10107,
          9624,
          9424,
          8877,
          8188,
          7548,
          6470,
          5769,
          5496,
          5408,
          4843,
          4249,
          3839,
          3065,
          2360,
          2357,
          2126,
          1732,
          1702,
          1432,
          1139,
          569,
          118
         ],
         "yaxis": "y"
        }
       ],
       "layout": {
        "barmode": "relative",
        "height": 600,
        "legend": {
         "tracegroupgap": 0
        },
        "template": {
         "data": {
          "bar": [
           {
            "error_x": {
             "color": "#2a3f5f"
            },
            "error_y": {
             "color": "#2a3f5f"
            },
            "marker": {
             "line": {
              "color": "#E5ECF6",
              "width": 0.5
             },
             "pattern": {
              "fillmode": "overlay",
              "size": 10,
              "solidity": 0.2
             }
            },
            "type": "bar"
           }
          ],
          "barpolar": [
           {
            "marker": {
             "line": {
              "color": "#E5ECF6",
              "width": 0.5
             },
             "pattern": {
              "fillmode": "overlay",
              "size": 10,
              "solidity": 0.2
             }
            },
            "type": "barpolar"
           }
          ],
          "carpet": [
           {
            "aaxis": {
             "endlinecolor": "#2a3f5f",
             "gridcolor": "white",
             "linecolor": "white",
             "minorgridcolor": "white",
             "startlinecolor": "#2a3f5f"
            },
            "baxis": {
             "endlinecolor": "#2a3f5f",
             "gridcolor": "white",
             "linecolor": "white",
             "minorgridcolor": "white",
             "startlinecolor": "#2a3f5f"
            },
            "type": "carpet"
           }
          ],
          "choropleth": [
           {
            "colorbar": {
             "outlinewidth": 0,
             "ticks": ""
            },
            "type": "choropleth"
           }
          ],
          "contour": [
           {
            "colorbar": {
             "outlinewidth": 0,
             "ticks": ""
            },
            "colorscale": [
             [
              0,
              "#0d0887"
             ],
             [
              0.1111111111111111,
              "#46039f"
             ],
             [
              0.2222222222222222,
              "#7201a8"
             ],
             [
              0.3333333333333333,
              "#9c179e"
             ],
             [
              0.4444444444444444,
              "#bd3786"
             ],
             [
              0.5555555555555556,
              "#d8576b"
             ],
             [
              0.6666666666666666,
              "#ed7953"
             ],
             [
              0.7777777777777778,
              "#fb9f3a"
             ],
             [
              0.8888888888888888,
              "#fdca26"
             ],
             [
              1,
              "#f0f921"
             ]
            ],
            "type": "contour"
           }
          ],
          "contourcarpet": [
           {
            "colorbar": {
             "outlinewidth": 0,
             "ticks": ""
            },
            "type": "contourcarpet"
           }
          ],
          "heatmap": [
           {
            "colorbar": {
             "outlinewidth": 0,
             "ticks": ""
            },
            "colorscale": [
             [
              0,
              "#0d0887"
             ],
             [
              0.1111111111111111,
              "#46039f"
             ],
             [
              0.2222222222222222,
              "#7201a8"
             ],
             [
              0.3333333333333333,
              "#9c179e"
             ],
             [
              0.4444444444444444,
              "#bd3786"
             ],
             [
              0.5555555555555556,
              "#d8576b"
             ],
             [
              0.6666666666666666,
              "#ed7953"
             ],
             [
              0.7777777777777778,
              "#fb9f3a"
             ],
             [
              0.8888888888888888,
              "#fdca26"
             ],
             [
              1,
              "#f0f921"
             ]
            ],
            "type": "heatmap"
           }
          ],
          "heatmapgl": [
           {
            "colorbar": {
             "outlinewidth": 0,
             "ticks": ""
            },
            "colorscale": [
             [
              0,
              "#0d0887"
             ],
             [
              0.1111111111111111,
              "#46039f"
             ],
             [
              0.2222222222222222,
              "#7201a8"
             ],
             [
              0.3333333333333333,
              "#9c179e"
             ],
             [
              0.4444444444444444,
              "#bd3786"
             ],
             [
              0.5555555555555556,
              "#d8576b"
             ],
             [
              0.6666666666666666,
              "#ed7953"
             ],
             [
              0.7777777777777778,
              "#fb9f3a"
             ],
             [
              0.8888888888888888,
              "#fdca26"
             ],
             [
              1,
              "#f0f921"
             ]
            ],
            "type": "heatmapgl"
           }
          ],
          "histogram": [
           {
            "marker": {
             "pattern": {
              "fillmode": "overlay",
              "size": 10,
              "solidity": 0.2
             }
            },
            "type": "histogram"
           }
          ],
          "histogram2d": [
           {
            "colorbar": {
             "outlinewidth": 0,
             "ticks": ""
            },
            "colorscale": [
             [
              0,
              "#0d0887"
             ],
             [
              0.1111111111111111,
              "#46039f"
             ],
             [
              0.2222222222222222,
              "#7201a8"
             ],
             [
              0.3333333333333333,
              "#9c179e"
             ],
             [
              0.4444444444444444,
              "#bd3786"
             ],
             [
              0.5555555555555556,
              "#d8576b"
             ],
             [
              0.6666666666666666,
              "#ed7953"
             ],
             [
              0.7777777777777778,
              "#fb9f3a"
             ],
             [
              0.8888888888888888,
              "#fdca26"
             ],
             [
              1,
              "#f0f921"
             ]
            ],
            "type": "histogram2d"
           }
          ],
          "histogram2dcontour": [
           {
            "colorbar": {
             "outlinewidth": 0,
             "ticks": ""
            },
            "colorscale": [
             [
              0,
              "#0d0887"
             ],
             [
              0.1111111111111111,
              "#46039f"
             ],
             [
              0.2222222222222222,
              "#7201a8"
             ],
             [
              0.3333333333333333,
              "#9c179e"
             ],
             [
              0.4444444444444444,
              "#bd3786"
             ],
             [
              0.5555555555555556,
              "#d8576b"
             ],
             [
              0.6666666666666666,
              "#ed7953"
             ],
             [
              0.7777777777777778,
              "#fb9f3a"
             ],
             [
              0.8888888888888888,
              "#fdca26"
             ],
             [
              1,
              "#f0f921"
             ]
            ],
            "type": "histogram2dcontour"
           }
          ],
          "mesh3d": [
           {
            "colorbar": {
             "outlinewidth": 0,
             "ticks": ""
            },
            "type": "mesh3d"
           }
          ],
          "parcoords": [
           {
            "line": {
             "colorbar": {
              "outlinewidth": 0,
              "ticks": ""
             }
            },
            "type": "parcoords"
           }
          ],
          "pie": [
           {
            "automargin": true,
            "type": "pie"
           }
          ],
          "scatter": [
           {
            "fillpattern": {
             "fillmode": "overlay",
             "size": 10,
             "solidity": 0.2
            },
            "type": "scatter"
           }
          ],
          "scatter3d": [
           {
            "line": {
             "colorbar": {
              "outlinewidth": 0,
              "ticks": ""
             }
            },
            "marker": {
             "colorbar": {
              "outlinewidth": 0,
              "ticks": ""
             }
            },
            "type": "scatter3d"
           }
          ],
          "scattercarpet": [
           {
            "marker": {
             "colorbar": {
              "outlinewidth": 0,
              "ticks": ""
             }
            },
            "type": "scattercarpet"
           }
          ],
          "scattergeo": [
           {
            "marker": {
             "colorbar": {
              "outlinewidth": 0,
              "ticks": ""
             }
            },
            "type": "scattergeo"
           }
          ],
          "scattergl": [
           {
            "marker": {
             "colorbar": {
              "outlinewidth": 0,
              "ticks": ""
             }
            },
            "type": "scattergl"
           }
          ],
          "scattermapbox": [
           {
            "marker": {
             "colorbar": {
              "outlinewidth": 0,
              "ticks": ""
             }
            },
            "type": "scattermapbox"
           }
          ],
          "scatterpolar": [
           {
            "marker": {
             "colorbar": {
              "outlinewidth": 0,
              "ticks": ""
             }
            },
            "type": "scatterpolar"
           }
          ],
          "scatterpolargl": [
           {
            "marker": {
             "colorbar": {
              "outlinewidth": 0,
              "ticks": ""
             }
            },
            "type": "scatterpolargl"
           }
          ],
          "scatterternary": [
           {
            "marker": {
             "colorbar": {
              "outlinewidth": 0,
              "ticks": ""
             }
            },
            "type": "scatterternary"
           }
          ],
          "surface": [
           {
            "colorbar": {
             "outlinewidth": 0,
             "ticks": ""
            },
            "colorscale": [
             [
              0,
              "#0d0887"
             ],
             [
              0.1111111111111111,
              "#46039f"
             ],
             [
              0.2222222222222222,
              "#7201a8"
             ],
             [
              0.3333333333333333,
              "#9c179e"
             ],
             [
              0.4444444444444444,
              "#bd3786"
             ],
             [
              0.5555555555555556,
              "#d8576b"
             ],
             [
              0.6666666666666666,
              "#ed7953"
             ],
             [
              0.7777777777777778,
              "#fb9f3a"
             ],
             [
              0.8888888888888888,
              "#fdca26"
             ],
             [
              1,
              "#f0f921"
             ]
            ],
            "type": "surface"
           }
          ],
          "table": [
           {
            "cells": {
             "fill": {
              "color": "#EBF0F8"
             },
             "line": {
              "color": "white"
             }
            },
            "header": {
             "fill": {
              "color": "#C8D4E3"
             },
             "line": {
              "color": "white"
             }
            },
            "type": "table"
           }
          ]
         },
         "layout": {
          "annotationdefaults": {
           "arrowcolor": "#2a3f5f",
           "arrowhead": 0,
           "arrowwidth": 1
          },
          "autotypenumbers": "strict",
          "coloraxis": {
           "colorbar": {
            "outlinewidth": 0,
            "ticks": ""
           }
          },
          "colorscale": {
           "diverging": [
            [
             0,
             "#8e0152"
            ],
            [
             0.1,
             "#c51b7d"
            ],
            [
             0.2,
             "#de77ae"
            ],
            [
             0.3,
             "#f1b6da"
            ],
            [
             0.4,
             "#fde0ef"
            ],
            [
             0.5,
             "#f7f7f7"
            ],
            [
             0.6,
             "#e6f5d0"
            ],
            [
             0.7,
             "#b8e186"
            ],
            [
             0.8,
             "#7fbc41"
            ],
            [
             0.9,
             "#4d9221"
            ],
            [
             1,
             "#276419"
            ]
           ],
           "sequential": [
            [
             0,
             "#0d0887"
            ],
            [
             0.1111111111111111,
             "#46039f"
            ],
            [
             0.2222222222222222,
             "#7201a8"
            ],
            [
             0.3333333333333333,
             "#9c179e"
            ],
            [
             0.4444444444444444,
             "#bd3786"
            ],
            [
             0.5555555555555556,
             "#d8576b"
            ],
            [
             0.6666666666666666,
             "#ed7953"
            ],
            [
             0.7777777777777778,
             "#fb9f3a"
            ],
            [
             0.8888888888888888,
             "#fdca26"
            ],
            [
             1,
             "#f0f921"
            ]
           ],
           "sequentialminus": [
            [
             0,
             "#0d0887"
            ],
            [
             0.1111111111111111,
             "#46039f"
            ],
            [
             0.2222222222222222,
             "#7201a8"
            ],
            [
             0.3333333333333333,
             "#9c179e"
            ],
            [
             0.4444444444444444,
             "#bd3786"
            ],
            [
             0.5555555555555556,
             "#d8576b"
            ],
            [
             0.6666666666666666,
             "#ed7953"
            ],
            [
             0.7777777777777778,
             "#fb9f3a"
            ],
            [
             0.8888888888888888,
             "#fdca26"
            ],
            [
             1,
             "#f0f921"
            ]
           ]
          },
          "colorway": [
           "#636efa",
           "#EF553B",
           "#00cc96",
           "#ab63fa",
           "#FFA15A",
           "#19d3f3",
           "#FF6692",
           "#B6E880",
           "#FF97FF",
           "#FECB52"
          ],
          "font": {
           "color": "#2a3f5f"
          },
          "geo": {
           "bgcolor": "white",
           "lakecolor": "white",
           "landcolor": "#E5ECF6",
           "showlakes": true,
           "showland": true,
           "subunitcolor": "white"
          },
          "hoverlabel": {
           "align": "left"
          },
          "hovermode": "closest",
          "mapbox": {
           "style": "light"
          },
          "paper_bgcolor": "white",
          "plot_bgcolor": "#E5ECF6",
          "polar": {
           "angularaxis": {
            "gridcolor": "white",
            "linecolor": "white",
            "ticks": ""
           },
           "bgcolor": "#E5ECF6",
           "radialaxis": {
            "gridcolor": "white",
            "linecolor": "white",
            "ticks": ""
           }
          },
          "scene": {
           "xaxis": {
            "backgroundcolor": "#E5ECF6",
            "gridcolor": "white",
            "gridwidth": 2,
            "linecolor": "white",
            "showbackground": true,
            "ticks": "",
            "zerolinecolor": "white"
           },
           "yaxis": {
            "backgroundcolor": "#E5ECF6",
            "gridcolor": "white",
            "gridwidth": 2,
            "linecolor": "white",
            "showbackground": true,
            "ticks": "",
            "zerolinecolor": "white"
           },
           "zaxis": {
            "backgroundcolor": "#E5ECF6",
            "gridcolor": "white",
            "gridwidth": 2,
            "linecolor": "white",
            "showbackground": true,
            "ticks": "",
            "zerolinecolor": "white"
           }
          },
          "shapedefaults": {
           "line": {
            "color": "#2a3f5f"
           }
          },
          "ternary": {
           "aaxis": {
            "gridcolor": "white",
            "linecolor": "white",
            "ticks": ""
           },
           "baxis": {
            "gridcolor": "white",
            "linecolor": "white",
            "ticks": ""
           },
           "bgcolor": "#E5ECF6",
           "caxis": {
            "gridcolor": "white",
            "linecolor": "white",
            "ticks": ""
           }
          },
          "title": {
           "x": 0.05
          },
          "xaxis": {
           "automargin": true,
           "gridcolor": "white",
           "linecolor": "white",
           "ticks": "",
           "title": {
            "standoff": 15
           },
           "zerolinecolor": "white",
           "zerolinewidth": 2
          },
          "yaxis": {
           "automargin": true,
           "gridcolor": "white",
           "linecolor": "white",
           "ticks": "",
           "title": {
            "standoff": 15
           },
           "zerolinecolor": "white",
           "zerolinewidth": 2
          }
         }
        },
        "title": {
         "text": "Value Counts for Area Code",
         "x": 0.5,
         "xanchor": "center",
         "y": 0.9,
         "yanchor": "top"
        },
        "width": 1000,
        "xaxis": {
         "anchor": "y",
         "domain": [
          0,
          1
         ],
         "tickangle": -45,
         "title": {
          "text": "Area Code"
         }
        },
        "yaxis": {
         "anchor": "x",
         "domain": [
          0,
          1
         ],
         "title": {
          "text": "Counts"
         }
        }
       }
      },
      "text/html": [
       "<div>                            <div id=\"5400c65a-8dfd-465f-abf3-ad89b0ad73db\" class=\"plotly-graph-div\" style=\"height:600px; width:1000px;\"></div>            <script type=\"text/javascript\">                require([\"plotly\"], function(Plotly) {                    window.PLOTLYENV=window.PLOTLYENV || {};                                    if (document.getElementById(\"5400c65a-8dfd-465f-abf3-ad89b0ad73db\")) {                    Plotly.newPlot(                        \"5400c65a-8dfd-465f-abf3-ad89b0ad73db\",                        [{\"alignmentgroup\":\"True\",\"hovertemplate\":\"Category=%{x}\\u003cbr\\u003eCounts=%{text}\\u003cextra\\u003e\\u003c\\u002fextra\\u003e\",\"legendgroup\":\"\",\"marker\":{\"color\":\"#636efa\",\"pattern\":{\"shape\":\"\"}},\"name\":\"\",\"offsetgroup\":\"\",\"orientation\":\"v\",\"showlegend\":false,\"text\":[41925.0,36723.0,33247.0,31111.0,28772.0,26490.0,24252.0,22970.0,20422.0,18379.0,18105.0,15938.0,14547.0,13820.0,13374.0,13234.0,13145.0,12676.0,12399.0,11326.0,10725.0,10154.0,10107.0,9624.0,9424.0,8877.0,8188.0,7548.0,6470.0,5769.0,5496.0,5408.0,4843.0,4249.0,3839.0,3065.0,2360.0,2357.0,2126.0,1732.0,1702.0,1432.0,1139.0,569.0,118.0],\"textposition\":\"outside\",\"x\":[\"A28\",\"A7\",\"A3\",\"A11\",\"A8\",\"A44\",\"A5\",\"A10\",\"A25\",\"A31\",\"A29\",\"A16\",\"A12\",\"A40\",\"A21\",\"A43\",\"A2\",\"A1\",\"A6\",\"A4\",\"A24\",\"A18\",\"A9\",\"A22\",\"A14\",\"A35\",\"A45\",\"A13\",\"A42\",\"A33\",\"A15\",\"A32\",\"A36\",\"A34\",\"A19\",\"A38\",\"A26\",\"A30\",\"A20\",\"A46\",\"A39\",\"A37\",\"A17\",\"A23\",\"A41\"],\"xaxis\":\"x\",\"y\":[41925,36723,33247,31111,28772,26490,24252,22970,20422,18379,18105,15938,14547,13820,13374,13234,13145,12676,12399,11326,10725,10154,10107,9624,9424,8877,8188,7548,6470,5769,5496,5408,4843,4249,3839,3065,2360,2357,2126,1732,1702,1432,1139,569,118],\"yaxis\":\"y\",\"type\":\"bar\",\"texttemplate\":\"%{text:.2s}\"}],                        {\"template\":{\"data\":{\"histogram2dcontour\":[{\"type\":\"histogram2dcontour\",\"colorbar\":{\"outlinewidth\":0,\"ticks\":\"\"},\"colorscale\":[[0.0,\"#0d0887\"],[0.1111111111111111,\"#46039f\"],[0.2222222222222222,\"#7201a8\"],[0.3333333333333333,\"#9c179e\"],[0.4444444444444444,\"#bd3786\"],[0.5555555555555556,\"#d8576b\"],[0.6666666666666666,\"#ed7953\"],[0.7777777777777778,\"#fb9f3a\"],[0.8888888888888888,\"#fdca26\"],[1.0,\"#f0f921\"]]}],\"choropleth\":[{\"type\":\"choropleth\",\"colorbar\":{\"outlinewidth\":0,\"ticks\":\"\"}}],\"histogram2d\":[{\"type\":\"histogram2d\",\"colorbar\":{\"outlinewidth\":0,\"ticks\":\"\"},\"colorscale\":[[0.0,\"#0d0887\"],[0.1111111111111111,\"#46039f\"],[0.2222222222222222,\"#7201a8\"],[0.3333333333333333,\"#9c179e\"],[0.4444444444444444,\"#bd3786\"],[0.5555555555555556,\"#d8576b\"],[0.6666666666666666,\"#ed7953\"],[0.7777777777777778,\"#fb9f3a\"],[0.8888888888888888,\"#fdca26\"],[1.0,\"#f0f921\"]]}],\"heatmap\":[{\"type\":\"heatmap\",\"colorbar\":{\"outlinewidth\":0,\"ticks\":\"\"},\"colorscale\":[[0.0,\"#0d0887\"],[0.1111111111111111,\"#46039f\"],[0.2222222222222222,\"#7201a8\"],[0.3333333333333333,\"#9c179e\"],[0.4444444444444444,\"#bd3786\"],[0.5555555555555556,\"#d8576b\"],[0.6666666666666666,\"#ed7953\"],[0.7777777777777778,\"#fb9f3a\"],[0.8888888888888888,\"#fdca26\"],[1.0,\"#f0f921\"]]}],\"heatmapgl\":[{\"type\":\"heatmapgl\",\"colorbar\":{\"outlinewidth\":0,\"ticks\":\"\"},\"colorscale\":[[0.0,\"#0d0887\"],[0.1111111111111111,\"#46039f\"],[0.2222222222222222,\"#7201a8\"],[0.3333333333333333,\"#9c179e\"],[0.4444444444444444,\"#bd3786\"],[0.5555555555555556,\"#d8576b\"],[0.6666666666666666,\"#ed7953\"],[0.7777777777777778,\"#fb9f3a\"],[0.8888888888888888,\"#fdca26\"],[1.0,\"#f0f921\"]]}],\"contourcarpet\":[{\"type\":\"contourcarpet\",\"colorbar\":{\"outlinewidth\":0,\"ticks\":\"\"}}],\"contour\":[{\"type\":\"contour\",\"colorbar\":{\"outlinewidth\":0,\"ticks\":\"\"},\"colorscale\":[[0.0,\"#0d0887\"],[0.1111111111111111,\"#46039f\"],[0.2222222222222222,\"#7201a8\"],[0.3333333333333333,\"#9c179e\"],[0.4444444444444444,\"#bd3786\"],[0.5555555555555556,\"#d8576b\"],[0.6666666666666666,\"#ed7953\"],[0.7777777777777778,\"#fb9f3a\"],[0.8888888888888888,\"#fdca26\"],[1.0,\"#f0f921\"]]}],\"surface\":[{\"type\":\"surface\",\"colorbar\":{\"outlinewidth\":0,\"ticks\":\"\"},\"colorscale\":[[0.0,\"#0d0887\"],[0.1111111111111111,\"#46039f\"],[0.2222222222222222,\"#7201a8\"],[0.3333333333333333,\"#9c179e\"],[0.4444444444444444,\"#bd3786\"],[0.5555555555555556,\"#d8576b\"],[0.6666666666666666,\"#ed7953\"],[0.7777777777777778,\"#fb9f3a\"],[0.8888888888888888,\"#fdca26\"],[1.0,\"#f0f921\"]]}],\"mesh3d\":[{\"type\":\"mesh3d\",\"colorbar\":{\"outlinewidth\":0,\"ticks\":\"\"}}],\"scatter\":[{\"fillpattern\":{\"fillmode\":\"overlay\",\"size\":10,\"solidity\":0.2},\"type\":\"scatter\"}],\"parcoords\":[{\"type\":\"parcoords\",\"line\":{\"colorbar\":{\"outlinewidth\":0,\"ticks\":\"\"}}}],\"scatterpolargl\":[{\"type\":\"scatterpolargl\",\"marker\":{\"colorbar\":{\"outlinewidth\":0,\"ticks\":\"\"}}}],\"bar\":[{\"error_x\":{\"color\":\"#2a3f5f\"},\"error_y\":{\"color\":\"#2a3f5f\"},\"marker\":{\"line\":{\"color\":\"#E5ECF6\",\"width\":0.5},\"pattern\":{\"fillmode\":\"overlay\",\"size\":10,\"solidity\":0.2}},\"type\":\"bar\"}],\"scattergeo\":[{\"type\":\"scattergeo\",\"marker\":{\"colorbar\":{\"outlinewidth\":0,\"ticks\":\"\"}}}],\"scatterpolar\":[{\"type\":\"scatterpolar\",\"marker\":{\"colorbar\":{\"outlinewidth\":0,\"ticks\":\"\"}}}],\"histogram\":[{\"marker\":{\"pattern\":{\"fillmode\":\"overlay\",\"size\":10,\"solidity\":0.2}},\"type\":\"histogram\"}],\"scattergl\":[{\"type\":\"scattergl\",\"marker\":{\"colorbar\":{\"outlinewidth\":0,\"ticks\":\"\"}}}],\"scatter3d\":[{\"type\":\"scatter3d\",\"line\":{\"colorbar\":{\"outlinewidth\":0,\"ticks\":\"\"}},\"marker\":{\"colorbar\":{\"outlinewidth\":0,\"ticks\":\"\"}}}],\"scattermapbox\":[{\"type\":\"scattermapbox\",\"marker\":{\"colorbar\":{\"outlinewidth\":0,\"ticks\":\"\"}}}],\"scatterternary\":[{\"type\":\"scatterternary\",\"marker\":{\"colorbar\":{\"outlinewidth\":0,\"ticks\":\"\"}}}],\"scattercarpet\":[{\"type\":\"scattercarpet\",\"marker\":{\"colorbar\":{\"outlinewidth\":0,\"ticks\":\"\"}}}],\"carpet\":[{\"aaxis\":{\"endlinecolor\":\"#2a3f5f\",\"gridcolor\":\"white\",\"linecolor\":\"white\",\"minorgridcolor\":\"white\",\"startlinecolor\":\"#2a3f5f\"},\"baxis\":{\"endlinecolor\":\"#2a3f5f\",\"gridcolor\":\"white\",\"linecolor\":\"white\",\"minorgridcolor\":\"white\",\"startlinecolor\":\"#2a3f5f\"},\"type\":\"carpet\"}],\"table\":[{\"cells\":{\"fill\":{\"color\":\"#EBF0F8\"},\"line\":{\"color\":\"white\"}},\"header\":{\"fill\":{\"color\":\"#C8D4E3\"},\"line\":{\"color\":\"white\"}},\"type\":\"table\"}],\"barpolar\":[{\"marker\":{\"line\":{\"color\":\"#E5ECF6\",\"width\":0.5},\"pattern\":{\"fillmode\":\"overlay\",\"size\":10,\"solidity\":0.2}},\"type\":\"barpolar\"}],\"pie\":[{\"automargin\":true,\"type\":\"pie\"}]},\"layout\":{\"autotypenumbers\":\"strict\",\"colorway\":[\"#636efa\",\"#EF553B\",\"#00cc96\",\"#ab63fa\",\"#FFA15A\",\"#19d3f3\",\"#FF6692\",\"#B6E880\",\"#FF97FF\",\"#FECB52\"],\"font\":{\"color\":\"#2a3f5f\"},\"hovermode\":\"closest\",\"hoverlabel\":{\"align\":\"left\"},\"paper_bgcolor\":\"white\",\"plot_bgcolor\":\"#E5ECF6\",\"polar\":{\"bgcolor\":\"#E5ECF6\",\"angularaxis\":{\"gridcolor\":\"white\",\"linecolor\":\"white\",\"ticks\":\"\"},\"radialaxis\":{\"gridcolor\":\"white\",\"linecolor\":\"white\",\"ticks\":\"\"}},\"ternary\":{\"bgcolor\":\"#E5ECF6\",\"aaxis\":{\"gridcolor\":\"white\",\"linecolor\":\"white\",\"ticks\":\"\"},\"baxis\":{\"gridcolor\":\"white\",\"linecolor\":\"white\",\"ticks\":\"\"},\"caxis\":{\"gridcolor\":\"white\",\"linecolor\":\"white\",\"ticks\":\"\"}},\"coloraxis\":{\"colorbar\":{\"outlinewidth\":0,\"ticks\":\"\"}},\"colorscale\":{\"sequential\":[[0.0,\"#0d0887\"],[0.1111111111111111,\"#46039f\"],[0.2222222222222222,\"#7201a8\"],[0.3333333333333333,\"#9c179e\"],[0.4444444444444444,\"#bd3786\"],[0.5555555555555556,\"#d8576b\"],[0.6666666666666666,\"#ed7953\"],[0.7777777777777778,\"#fb9f3a\"],[0.8888888888888888,\"#fdca26\"],[1.0,\"#f0f921\"]],\"sequentialminus\":[[0.0,\"#0d0887\"],[0.1111111111111111,\"#46039f\"],[0.2222222222222222,\"#7201a8\"],[0.3333333333333333,\"#9c179e\"],[0.4444444444444444,\"#bd3786\"],[0.5555555555555556,\"#d8576b\"],[0.6666666666666666,\"#ed7953\"],[0.7777777777777778,\"#fb9f3a\"],[0.8888888888888888,\"#fdca26\"],[1.0,\"#f0f921\"]],\"diverging\":[[0,\"#8e0152\"],[0.1,\"#c51b7d\"],[0.2,\"#de77ae\"],[0.3,\"#f1b6da\"],[0.4,\"#fde0ef\"],[0.5,\"#f7f7f7\"],[0.6,\"#e6f5d0\"],[0.7,\"#b8e186\"],[0.8,\"#7fbc41\"],[0.9,\"#4d9221\"],[1,\"#276419\"]]},\"xaxis\":{\"gridcolor\":\"white\",\"linecolor\":\"white\",\"ticks\":\"\",\"title\":{\"standoff\":15},\"zerolinecolor\":\"white\",\"automargin\":true,\"zerolinewidth\":2},\"yaxis\":{\"gridcolor\":\"white\",\"linecolor\":\"white\",\"ticks\":\"\",\"title\":{\"standoff\":15},\"zerolinecolor\":\"white\",\"automargin\":true,\"zerolinewidth\":2},\"scene\":{\"xaxis\":{\"backgroundcolor\":\"#E5ECF6\",\"gridcolor\":\"white\",\"linecolor\":\"white\",\"showbackground\":true,\"ticks\":\"\",\"zerolinecolor\":\"white\",\"gridwidth\":2},\"yaxis\":{\"backgroundcolor\":\"#E5ECF6\",\"gridcolor\":\"white\",\"linecolor\":\"white\",\"showbackground\":true,\"ticks\":\"\",\"zerolinecolor\":\"white\",\"gridwidth\":2},\"zaxis\":{\"backgroundcolor\":\"#E5ECF6\",\"gridcolor\":\"white\",\"linecolor\":\"white\",\"showbackground\":true,\"ticks\":\"\",\"zerolinecolor\":\"white\",\"gridwidth\":2}},\"shapedefaults\":{\"line\":{\"color\":\"#2a3f5f\"}},\"annotationdefaults\":{\"arrowcolor\":\"#2a3f5f\",\"arrowhead\":0,\"arrowwidth\":1},\"geo\":{\"bgcolor\":\"white\",\"landcolor\":\"#E5ECF6\",\"subunitcolor\":\"white\",\"showland\":true,\"showlakes\":true,\"lakecolor\":\"white\"},\"title\":{\"x\":0.05},\"mapbox\":{\"style\":\"light\"}}},\"xaxis\":{\"anchor\":\"y\",\"domain\":[0.0,1.0],\"title\":{\"text\":\"Area Code\"},\"tickangle\":-45},\"yaxis\":{\"anchor\":\"x\",\"domain\":[0.0,1.0],\"title\":{\"text\":\"Counts\"}},\"legend\":{\"tracegroupgap\":0},\"title\":{\"text\":\"Value Counts for Area Code\",\"y\":0.9,\"x\":0.5,\"xanchor\":\"center\",\"yanchor\":\"top\"},\"barmode\":\"relative\",\"height\":600,\"width\":1000},                        {\"responsive\": true}                    ).then(function(){\n",
       "                            \n",
       "var gd = document.getElementById('5400c65a-8dfd-465f-abf3-ad89b0ad73db');\n",
       "var x = new MutationObserver(function (mutations, observer) {{\n",
       "        var display = window.getComputedStyle(gd).display;\n",
       "        if (!display || display === 'none') {{\n",
       "            console.log([gd, 'removed!']);\n",
       "            Plotly.purge(gd);\n",
       "            observer.disconnect();\n",
       "        }}\n",
       "}});\n",
       "\n",
       "// Listen for the removal of the full notebook cells\n",
       "var notebookContainer = gd.closest('#notebook-container');\n",
       "if (notebookContainer) {{\n",
       "    x.observe(notebookContainer, {childList: true});\n",
       "}}\n",
       "\n",
       "// Listen for the clearing of the current output cell\n",
       "var outputEl = gd.closest('.output');\n",
       "if (outputEl) {{\n",
       "    x.observe(outputEl, {childList: true});\n",
       "}}\n",
       "\n",
       "                        })                };                });            </script>        </div>"
      ]
     },
     "metadata": {},
     "output_type": "display_data"
    }
   ],
   "source": [
    "plot_objects['Area Code'].show()  # Display the plot for Area Code"
   ]
  },
  {
   "cell_type": "markdown",
   "metadata": {},
   "source": [
    "<div class=\"alert alert-block alert-info\">\n",
    "    <strong>Area Code Distribution:</strong> Area code <b>A28</b> has the highest count, indicating a potential concentration of customers or demand in that area. Analyzing the demographics and preferences of customers in this area could help tailor marketing or distribution strategies.\n",
    "</div>"
   ]
  },
  {
   "cell_type": "code",
   "execution_count": 25,
   "metadata": {},
   "outputs": [
    {
     "data": {
      "application/vnd.plotly.v1+json": {
       "config": {
        "plotlyServerURL": "https://plot.ly"
       },
       "data": [
        {
         "alignmentgroup": "True",
         "hovertemplate": "Category=%{x}<br>Counts=%{text}<extra></extra>",
         "legendgroup": "",
         "marker": {
          "color": "#636efa",
          "pattern": {
           "shape": ""
          }
         },
         "name": "",
         "offsetgroup": "",
         "orientation": "v",
         "showlegend": false,
         "text": [
          453617,
          60011,
          31106,
          5442
         ],
         "textposition": "outside",
         "texttemplate": "%{text:.2s}",
         "type": "bar",
         "x": [
          "DIRECT",
          "RETAIL",
          "ECOM",
          "WHOLESALE"
         ],
         "xaxis": "x",
         "y": [
          453617,
          60011,
          31106,
          5442
         ],
         "yaxis": "y"
        }
       ],
       "layout": {
        "barmode": "relative",
        "height": 600,
        "legend": {
         "tracegroupgap": 0
        },
        "template": {
         "data": {
          "bar": [
           {
            "error_x": {
             "color": "#2a3f5f"
            },
            "error_y": {
             "color": "#2a3f5f"
            },
            "marker": {
             "line": {
              "color": "#E5ECF6",
              "width": 0.5
             },
             "pattern": {
              "fillmode": "overlay",
              "size": 10,
              "solidity": 0.2
             }
            },
            "type": "bar"
           }
          ],
          "barpolar": [
           {
            "marker": {
             "line": {
              "color": "#E5ECF6",
              "width": 0.5
             },
             "pattern": {
              "fillmode": "overlay",
              "size": 10,
              "solidity": 0.2
             }
            },
            "type": "barpolar"
           }
          ],
          "carpet": [
           {
            "aaxis": {
             "endlinecolor": "#2a3f5f",
             "gridcolor": "white",
             "linecolor": "white",
             "minorgridcolor": "white",
             "startlinecolor": "#2a3f5f"
            },
            "baxis": {
             "endlinecolor": "#2a3f5f",
             "gridcolor": "white",
             "linecolor": "white",
             "minorgridcolor": "white",
             "startlinecolor": "#2a3f5f"
            },
            "type": "carpet"
           }
          ],
          "choropleth": [
           {
            "colorbar": {
             "outlinewidth": 0,
             "ticks": ""
            },
            "type": "choropleth"
           }
          ],
          "contour": [
           {
            "colorbar": {
             "outlinewidth": 0,
             "ticks": ""
            },
            "colorscale": [
             [
              0,
              "#0d0887"
             ],
             [
              0.1111111111111111,
              "#46039f"
             ],
             [
              0.2222222222222222,
              "#7201a8"
             ],
             [
              0.3333333333333333,
              "#9c179e"
             ],
             [
              0.4444444444444444,
              "#bd3786"
             ],
             [
              0.5555555555555556,
              "#d8576b"
             ],
             [
              0.6666666666666666,
              "#ed7953"
             ],
             [
              0.7777777777777778,
              "#fb9f3a"
             ],
             [
              0.8888888888888888,
              "#fdca26"
             ],
             [
              1,
              "#f0f921"
             ]
            ],
            "type": "contour"
           }
          ],
          "contourcarpet": [
           {
            "colorbar": {
             "outlinewidth": 0,
             "ticks": ""
            },
            "type": "contourcarpet"
           }
          ],
          "heatmap": [
           {
            "colorbar": {
             "outlinewidth": 0,
             "ticks": ""
            },
            "colorscale": [
             [
              0,
              "#0d0887"
             ],
             [
              0.1111111111111111,
              "#46039f"
             ],
             [
              0.2222222222222222,
              "#7201a8"
             ],
             [
              0.3333333333333333,
              "#9c179e"
             ],
             [
              0.4444444444444444,
              "#bd3786"
             ],
             [
              0.5555555555555556,
              "#d8576b"
             ],
             [
              0.6666666666666666,
              "#ed7953"
             ],
             [
              0.7777777777777778,
              "#fb9f3a"
             ],
             [
              0.8888888888888888,
              "#fdca26"
             ],
             [
              1,
              "#f0f921"
             ]
            ],
            "type": "heatmap"
           }
          ],
          "heatmapgl": [
           {
            "colorbar": {
             "outlinewidth": 0,
             "ticks": ""
            },
            "colorscale": [
             [
              0,
              "#0d0887"
             ],
             [
              0.1111111111111111,
              "#46039f"
             ],
             [
              0.2222222222222222,
              "#7201a8"
             ],
             [
              0.3333333333333333,
              "#9c179e"
             ],
             [
              0.4444444444444444,
              "#bd3786"
             ],
             [
              0.5555555555555556,
              "#d8576b"
             ],
             [
              0.6666666666666666,
              "#ed7953"
             ],
             [
              0.7777777777777778,
              "#fb9f3a"
             ],
             [
              0.8888888888888888,
              "#fdca26"
             ],
             [
              1,
              "#f0f921"
             ]
            ],
            "type": "heatmapgl"
           }
          ],
          "histogram": [
           {
            "marker": {
             "pattern": {
              "fillmode": "overlay",
              "size": 10,
              "solidity": 0.2
             }
            },
            "type": "histogram"
           }
          ],
          "histogram2d": [
           {
            "colorbar": {
             "outlinewidth": 0,
             "ticks": ""
            },
            "colorscale": [
             [
              0,
              "#0d0887"
             ],
             [
              0.1111111111111111,
              "#46039f"
             ],
             [
              0.2222222222222222,
              "#7201a8"
             ],
             [
              0.3333333333333333,
              "#9c179e"
             ],
             [
              0.4444444444444444,
              "#bd3786"
             ],
             [
              0.5555555555555556,
              "#d8576b"
             ],
             [
              0.6666666666666666,
              "#ed7953"
             ],
             [
              0.7777777777777778,
              "#fb9f3a"
             ],
             [
              0.8888888888888888,
              "#fdca26"
             ],
             [
              1,
              "#f0f921"
             ]
            ],
            "type": "histogram2d"
           }
          ],
          "histogram2dcontour": [
           {
            "colorbar": {
             "outlinewidth": 0,
             "ticks": ""
            },
            "colorscale": [
             [
              0,
              "#0d0887"
             ],
             [
              0.1111111111111111,
              "#46039f"
             ],
             [
              0.2222222222222222,
              "#7201a8"
             ],
             [
              0.3333333333333333,
              "#9c179e"
             ],
             [
              0.4444444444444444,
              "#bd3786"
             ],
             [
              0.5555555555555556,
              "#d8576b"
             ],
             [
              0.6666666666666666,
              "#ed7953"
             ],
             [
              0.7777777777777778,
              "#fb9f3a"
             ],
             [
              0.8888888888888888,
              "#fdca26"
             ],
             [
              1,
              "#f0f921"
             ]
            ],
            "type": "histogram2dcontour"
           }
          ],
          "mesh3d": [
           {
            "colorbar": {
             "outlinewidth": 0,
             "ticks": ""
            },
            "type": "mesh3d"
           }
          ],
          "parcoords": [
           {
            "line": {
             "colorbar": {
              "outlinewidth": 0,
              "ticks": ""
             }
            },
            "type": "parcoords"
           }
          ],
          "pie": [
           {
            "automargin": true,
            "type": "pie"
           }
          ],
          "scatter": [
           {
            "fillpattern": {
             "fillmode": "overlay",
             "size": 10,
             "solidity": 0.2
            },
            "type": "scatter"
           }
          ],
          "scatter3d": [
           {
            "line": {
             "colorbar": {
              "outlinewidth": 0,
              "ticks": ""
             }
            },
            "marker": {
             "colorbar": {
              "outlinewidth": 0,
              "ticks": ""
             }
            },
            "type": "scatter3d"
           }
          ],
          "scattercarpet": [
           {
            "marker": {
             "colorbar": {
              "outlinewidth": 0,
              "ticks": ""
             }
            },
            "type": "scattercarpet"
           }
          ],
          "scattergeo": [
           {
            "marker": {
             "colorbar": {
              "outlinewidth": 0,
              "ticks": ""
             }
            },
            "type": "scattergeo"
           }
          ],
          "scattergl": [
           {
            "marker": {
             "colorbar": {
              "outlinewidth": 0,
              "ticks": ""
             }
            },
            "type": "scattergl"
           }
          ],
          "scattermapbox": [
           {
            "marker": {
             "colorbar": {
              "outlinewidth": 0,
              "ticks": ""
             }
            },
            "type": "scattermapbox"
           }
          ],
          "scatterpolar": [
           {
            "marker": {
             "colorbar": {
              "outlinewidth": 0,
              "ticks": ""
             }
            },
            "type": "scatterpolar"
           }
          ],
          "scatterpolargl": [
           {
            "marker": {
             "colorbar": {
              "outlinewidth": 0,
              "ticks": ""
             }
            },
            "type": "scatterpolargl"
           }
          ],
          "scatterternary": [
           {
            "marker": {
             "colorbar": {
              "outlinewidth": 0,
              "ticks": ""
             }
            },
            "type": "scatterternary"
           }
          ],
          "surface": [
           {
            "colorbar": {
             "outlinewidth": 0,
             "ticks": ""
            },
            "colorscale": [
             [
              0,
              "#0d0887"
             ],
             [
              0.1111111111111111,
              "#46039f"
             ],
             [
              0.2222222222222222,
              "#7201a8"
             ],
             [
              0.3333333333333333,
              "#9c179e"
             ],
             [
              0.4444444444444444,
              "#bd3786"
             ],
             [
              0.5555555555555556,
              "#d8576b"
             ],
             [
              0.6666666666666666,
              "#ed7953"
             ],
             [
              0.7777777777777778,
              "#fb9f3a"
             ],
             [
              0.8888888888888888,
              "#fdca26"
             ],
             [
              1,
              "#f0f921"
             ]
            ],
            "type": "surface"
           }
          ],
          "table": [
           {
            "cells": {
             "fill": {
              "color": "#EBF0F8"
             },
             "line": {
              "color": "white"
             }
            },
            "header": {
             "fill": {
              "color": "#C8D4E3"
             },
             "line": {
              "color": "white"
             }
            },
            "type": "table"
           }
          ]
         },
         "layout": {
          "annotationdefaults": {
           "arrowcolor": "#2a3f5f",
           "arrowhead": 0,
           "arrowwidth": 1
          },
          "autotypenumbers": "strict",
          "coloraxis": {
           "colorbar": {
            "outlinewidth": 0,
            "ticks": ""
           }
          },
          "colorscale": {
           "diverging": [
            [
             0,
             "#8e0152"
            ],
            [
             0.1,
             "#c51b7d"
            ],
            [
             0.2,
             "#de77ae"
            ],
            [
             0.3,
             "#f1b6da"
            ],
            [
             0.4,
             "#fde0ef"
            ],
            [
             0.5,
             "#f7f7f7"
            ],
            [
             0.6,
             "#e6f5d0"
            ],
            [
             0.7,
             "#b8e186"
            ],
            [
             0.8,
             "#7fbc41"
            ],
            [
             0.9,
             "#4d9221"
            ],
            [
             1,
             "#276419"
            ]
           ],
           "sequential": [
            [
             0,
             "#0d0887"
            ],
            [
             0.1111111111111111,
             "#46039f"
            ],
            [
             0.2222222222222222,
             "#7201a8"
            ],
            [
             0.3333333333333333,
             "#9c179e"
            ],
            [
             0.4444444444444444,
             "#bd3786"
            ],
            [
             0.5555555555555556,
             "#d8576b"
            ],
            [
             0.6666666666666666,
             "#ed7953"
            ],
            [
             0.7777777777777778,
             "#fb9f3a"
            ],
            [
             0.8888888888888888,
             "#fdca26"
            ],
            [
             1,
             "#f0f921"
            ]
           ],
           "sequentialminus": [
            [
             0,
             "#0d0887"
            ],
            [
             0.1111111111111111,
             "#46039f"
            ],
            [
             0.2222222222222222,
             "#7201a8"
            ],
            [
             0.3333333333333333,
             "#9c179e"
            ],
            [
             0.4444444444444444,
             "#bd3786"
            ],
            [
             0.5555555555555556,
             "#d8576b"
            ],
            [
             0.6666666666666666,
             "#ed7953"
            ],
            [
             0.7777777777777778,
             "#fb9f3a"
            ],
            [
             0.8888888888888888,
             "#fdca26"
            ],
            [
             1,
             "#f0f921"
            ]
           ]
          },
          "colorway": [
           "#636efa",
           "#EF553B",
           "#00cc96",
           "#ab63fa",
           "#FFA15A",
           "#19d3f3",
           "#FF6692",
           "#B6E880",
           "#FF97FF",
           "#FECB52"
          ],
          "font": {
           "color": "#2a3f5f"
          },
          "geo": {
           "bgcolor": "white",
           "lakecolor": "white",
           "landcolor": "#E5ECF6",
           "showlakes": true,
           "showland": true,
           "subunitcolor": "white"
          },
          "hoverlabel": {
           "align": "left"
          },
          "hovermode": "closest",
          "mapbox": {
           "style": "light"
          },
          "paper_bgcolor": "white",
          "plot_bgcolor": "#E5ECF6",
          "polar": {
           "angularaxis": {
            "gridcolor": "white",
            "linecolor": "white",
            "ticks": ""
           },
           "bgcolor": "#E5ECF6",
           "radialaxis": {
            "gridcolor": "white",
            "linecolor": "white",
            "ticks": ""
           }
          },
          "scene": {
           "xaxis": {
            "backgroundcolor": "#E5ECF6",
            "gridcolor": "white",
            "gridwidth": 2,
            "linecolor": "white",
            "showbackground": true,
            "ticks": "",
            "zerolinecolor": "white"
           },
           "yaxis": {
            "backgroundcolor": "#E5ECF6",
            "gridcolor": "white",
            "gridwidth": 2,
            "linecolor": "white",
            "showbackground": true,
            "ticks": "",
            "zerolinecolor": "white"
           },
           "zaxis": {
            "backgroundcolor": "#E5ECF6",
            "gridcolor": "white",
            "gridwidth": 2,
            "linecolor": "white",
            "showbackground": true,
            "ticks": "",
            "zerolinecolor": "white"
           }
          },
          "shapedefaults": {
           "line": {
            "color": "#2a3f5f"
           }
          },
          "ternary": {
           "aaxis": {
            "gridcolor": "white",
            "linecolor": "white",
            "ticks": ""
           },
           "baxis": {
            "gridcolor": "white",
            "linecolor": "white",
            "ticks": ""
           },
           "bgcolor": "#E5ECF6",
           "caxis": {
            "gridcolor": "white",
            "linecolor": "white",
            "ticks": ""
           }
          },
          "title": {
           "x": 0.05
          },
          "xaxis": {
           "automargin": true,
           "gridcolor": "white",
           "linecolor": "white",
           "ticks": "",
           "title": {
            "standoff": 15
           },
           "zerolinecolor": "white",
           "zerolinewidth": 2
          },
          "yaxis": {
           "automargin": true,
           "gridcolor": "white",
           "linecolor": "white",
           "ticks": "",
           "title": {
            "standoff": 15
           },
           "zerolinecolor": "white",
           "zerolinewidth": 2
          }
         }
        },
        "title": {
         "text": "Value Counts for Sourcing Channel",
         "x": 0.5,
         "xanchor": "center",
         "y": 0.9,
         "yanchor": "top"
        },
        "width": 1000,
        "xaxis": {
         "anchor": "y",
         "domain": [
          0,
          1
         ],
         "tickangle": -45,
         "title": {
          "text": "Sourcing Channel"
         }
        },
        "yaxis": {
         "anchor": "x",
         "domain": [
          0,
          1
         ],
         "title": {
          "text": "Counts"
         }
        }
       }
      },
      "text/html": [
       "<div>                            <div id=\"6b4017a6-850a-4fbc-90a4-24f9f6e67d64\" class=\"plotly-graph-div\" style=\"height:600px; width:1000px;\"></div>            <script type=\"text/javascript\">                require([\"plotly\"], function(Plotly) {                    window.PLOTLYENV=window.PLOTLYENV || {};                                    if (document.getElementById(\"6b4017a6-850a-4fbc-90a4-24f9f6e67d64\")) {                    Plotly.newPlot(                        \"6b4017a6-850a-4fbc-90a4-24f9f6e67d64\",                        [{\"alignmentgroup\":\"True\",\"hovertemplate\":\"Category=%{x}\\u003cbr\\u003eCounts=%{text}\\u003cextra\\u003e\\u003c\\u002fextra\\u003e\",\"legendgroup\":\"\",\"marker\":{\"color\":\"#636efa\",\"pattern\":{\"shape\":\"\"}},\"name\":\"\",\"offsetgroup\":\"\",\"orientation\":\"v\",\"showlegend\":false,\"text\":[453617.0,60011.0,31106.0,5442.0],\"textposition\":\"outside\",\"x\":[\"DIRECT\",\"RETAIL\",\"ECOM\",\"WHOLESALE\"],\"xaxis\":\"x\",\"y\":[453617,60011,31106,5442],\"yaxis\":\"y\",\"type\":\"bar\",\"texttemplate\":\"%{text:.2s}\"}],                        {\"template\":{\"data\":{\"histogram2dcontour\":[{\"type\":\"histogram2dcontour\",\"colorbar\":{\"outlinewidth\":0,\"ticks\":\"\"},\"colorscale\":[[0.0,\"#0d0887\"],[0.1111111111111111,\"#46039f\"],[0.2222222222222222,\"#7201a8\"],[0.3333333333333333,\"#9c179e\"],[0.4444444444444444,\"#bd3786\"],[0.5555555555555556,\"#d8576b\"],[0.6666666666666666,\"#ed7953\"],[0.7777777777777778,\"#fb9f3a\"],[0.8888888888888888,\"#fdca26\"],[1.0,\"#f0f921\"]]}],\"choropleth\":[{\"type\":\"choropleth\",\"colorbar\":{\"outlinewidth\":0,\"ticks\":\"\"}}],\"histogram2d\":[{\"type\":\"histogram2d\",\"colorbar\":{\"outlinewidth\":0,\"ticks\":\"\"},\"colorscale\":[[0.0,\"#0d0887\"],[0.1111111111111111,\"#46039f\"],[0.2222222222222222,\"#7201a8\"],[0.3333333333333333,\"#9c179e\"],[0.4444444444444444,\"#bd3786\"],[0.5555555555555556,\"#d8576b\"],[0.6666666666666666,\"#ed7953\"],[0.7777777777777778,\"#fb9f3a\"],[0.8888888888888888,\"#fdca26\"],[1.0,\"#f0f921\"]]}],\"heatmap\":[{\"type\":\"heatmap\",\"colorbar\":{\"outlinewidth\":0,\"ticks\":\"\"},\"colorscale\":[[0.0,\"#0d0887\"],[0.1111111111111111,\"#46039f\"],[0.2222222222222222,\"#7201a8\"],[0.3333333333333333,\"#9c179e\"],[0.4444444444444444,\"#bd3786\"],[0.5555555555555556,\"#d8576b\"],[0.6666666666666666,\"#ed7953\"],[0.7777777777777778,\"#fb9f3a\"],[0.8888888888888888,\"#fdca26\"],[1.0,\"#f0f921\"]]}],\"heatmapgl\":[{\"type\":\"heatmapgl\",\"colorbar\":{\"outlinewidth\":0,\"ticks\":\"\"},\"colorscale\":[[0.0,\"#0d0887\"],[0.1111111111111111,\"#46039f\"],[0.2222222222222222,\"#7201a8\"],[0.3333333333333333,\"#9c179e\"],[0.4444444444444444,\"#bd3786\"],[0.5555555555555556,\"#d8576b\"],[0.6666666666666666,\"#ed7953\"],[0.7777777777777778,\"#fb9f3a\"],[0.8888888888888888,\"#fdca26\"],[1.0,\"#f0f921\"]]}],\"contourcarpet\":[{\"type\":\"contourcarpet\",\"colorbar\":{\"outlinewidth\":0,\"ticks\":\"\"}}],\"contour\":[{\"type\":\"contour\",\"colorbar\":{\"outlinewidth\":0,\"ticks\":\"\"},\"colorscale\":[[0.0,\"#0d0887\"],[0.1111111111111111,\"#46039f\"],[0.2222222222222222,\"#7201a8\"],[0.3333333333333333,\"#9c179e\"],[0.4444444444444444,\"#bd3786\"],[0.5555555555555556,\"#d8576b\"],[0.6666666666666666,\"#ed7953\"],[0.7777777777777778,\"#fb9f3a\"],[0.8888888888888888,\"#fdca26\"],[1.0,\"#f0f921\"]]}],\"surface\":[{\"type\":\"surface\",\"colorbar\":{\"outlinewidth\":0,\"ticks\":\"\"},\"colorscale\":[[0.0,\"#0d0887\"],[0.1111111111111111,\"#46039f\"],[0.2222222222222222,\"#7201a8\"],[0.3333333333333333,\"#9c179e\"],[0.4444444444444444,\"#bd3786\"],[0.5555555555555556,\"#d8576b\"],[0.6666666666666666,\"#ed7953\"],[0.7777777777777778,\"#fb9f3a\"],[0.8888888888888888,\"#fdca26\"],[1.0,\"#f0f921\"]]}],\"mesh3d\":[{\"type\":\"mesh3d\",\"colorbar\":{\"outlinewidth\":0,\"ticks\":\"\"}}],\"scatter\":[{\"fillpattern\":{\"fillmode\":\"overlay\",\"size\":10,\"solidity\":0.2},\"type\":\"scatter\"}],\"parcoords\":[{\"type\":\"parcoords\",\"line\":{\"colorbar\":{\"outlinewidth\":0,\"ticks\":\"\"}}}],\"scatterpolargl\":[{\"type\":\"scatterpolargl\",\"marker\":{\"colorbar\":{\"outlinewidth\":0,\"ticks\":\"\"}}}],\"bar\":[{\"error_x\":{\"color\":\"#2a3f5f\"},\"error_y\":{\"color\":\"#2a3f5f\"},\"marker\":{\"line\":{\"color\":\"#E5ECF6\",\"width\":0.5},\"pattern\":{\"fillmode\":\"overlay\",\"size\":10,\"solidity\":0.2}},\"type\":\"bar\"}],\"scattergeo\":[{\"type\":\"scattergeo\",\"marker\":{\"colorbar\":{\"outlinewidth\":0,\"ticks\":\"\"}}}],\"scatterpolar\":[{\"type\":\"scatterpolar\",\"marker\":{\"colorbar\":{\"outlinewidth\":0,\"ticks\":\"\"}}}],\"histogram\":[{\"marker\":{\"pattern\":{\"fillmode\":\"overlay\",\"size\":10,\"solidity\":0.2}},\"type\":\"histogram\"}],\"scattergl\":[{\"type\":\"scattergl\",\"marker\":{\"colorbar\":{\"outlinewidth\":0,\"ticks\":\"\"}}}],\"scatter3d\":[{\"type\":\"scatter3d\",\"line\":{\"colorbar\":{\"outlinewidth\":0,\"ticks\":\"\"}},\"marker\":{\"colorbar\":{\"outlinewidth\":0,\"ticks\":\"\"}}}],\"scattermapbox\":[{\"type\":\"scattermapbox\",\"marker\":{\"colorbar\":{\"outlinewidth\":0,\"ticks\":\"\"}}}],\"scatterternary\":[{\"type\":\"scatterternary\",\"marker\":{\"colorbar\":{\"outlinewidth\":0,\"ticks\":\"\"}}}],\"scattercarpet\":[{\"type\":\"scattercarpet\",\"marker\":{\"colorbar\":{\"outlinewidth\":0,\"ticks\":\"\"}}}],\"carpet\":[{\"aaxis\":{\"endlinecolor\":\"#2a3f5f\",\"gridcolor\":\"white\",\"linecolor\":\"white\",\"minorgridcolor\":\"white\",\"startlinecolor\":\"#2a3f5f\"},\"baxis\":{\"endlinecolor\":\"#2a3f5f\",\"gridcolor\":\"white\",\"linecolor\":\"white\",\"minorgridcolor\":\"white\",\"startlinecolor\":\"#2a3f5f\"},\"type\":\"carpet\"}],\"table\":[{\"cells\":{\"fill\":{\"color\":\"#EBF0F8\"},\"line\":{\"color\":\"white\"}},\"header\":{\"fill\":{\"color\":\"#C8D4E3\"},\"line\":{\"color\":\"white\"}},\"type\":\"table\"}],\"barpolar\":[{\"marker\":{\"line\":{\"color\":\"#E5ECF6\",\"width\":0.5},\"pattern\":{\"fillmode\":\"overlay\",\"size\":10,\"solidity\":0.2}},\"type\":\"barpolar\"}],\"pie\":[{\"automargin\":true,\"type\":\"pie\"}]},\"layout\":{\"autotypenumbers\":\"strict\",\"colorway\":[\"#636efa\",\"#EF553B\",\"#00cc96\",\"#ab63fa\",\"#FFA15A\",\"#19d3f3\",\"#FF6692\",\"#B6E880\",\"#FF97FF\",\"#FECB52\"],\"font\":{\"color\":\"#2a3f5f\"},\"hovermode\":\"closest\",\"hoverlabel\":{\"align\":\"left\"},\"paper_bgcolor\":\"white\",\"plot_bgcolor\":\"#E5ECF6\",\"polar\":{\"bgcolor\":\"#E5ECF6\",\"angularaxis\":{\"gridcolor\":\"white\",\"linecolor\":\"white\",\"ticks\":\"\"},\"radialaxis\":{\"gridcolor\":\"white\",\"linecolor\":\"white\",\"ticks\":\"\"}},\"ternary\":{\"bgcolor\":\"#E5ECF6\",\"aaxis\":{\"gridcolor\":\"white\",\"linecolor\":\"white\",\"ticks\":\"\"},\"baxis\":{\"gridcolor\":\"white\",\"linecolor\":\"white\",\"ticks\":\"\"},\"caxis\":{\"gridcolor\":\"white\",\"linecolor\":\"white\",\"ticks\":\"\"}},\"coloraxis\":{\"colorbar\":{\"outlinewidth\":0,\"ticks\":\"\"}},\"colorscale\":{\"sequential\":[[0.0,\"#0d0887\"],[0.1111111111111111,\"#46039f\"],[0.2222222222222222,\"#7201a8\"],[0.3333333333333333,\"#9c179e\"],[0.4444444444444444,\"#bd3786\"],[0.5555555555555556,\"#d8576b\"],[0.6666666666666666,\"#ed7953\"],[0.7777777777777778,\"#fb9f3a\"],[0.8888888888888888,\"#fdca26\"],[1.0,\"#f0f921\"]],\"sequentialminus\":[[0.0,\"#0d0887\"],[0.1111111111111111,\"#46039f\"],[0.2222222222222222,\"#7201a8\"],[0.3333333333333333,\"#9c179e\"],[0.4444444444444444,\"#bd3786\"],[0.5555555555555556,\"#d8576b\"],[0.6666666666666666,\"#ed7953\"],[0.7777777777777778,\"#fb9f3a\"],[0.8888888888888888,\"#fdca26\"],[1.0,\"#f0f921\"]],\"diverging\":[[0,\"#8e0152\"],[0.1,\"#c51b7d\"],[0.2,\"#de77ae\"],[0.3,\"#f1b6da\"],[0.4,\"#fde0ef\"],[0.5,\"#f7f7f7\"],[0.6,\"#e6f5d0\"],[0.7,\"#b8e186\"],[0.8,\"#7fbc41\"],[0.9,\"#4d9221\"],[1,\"#276419\"]]},\"xaxis\":{\"gridcolor\":\"white\",\"linecolor\":\"white\",\"ticks\":\"\",\"title\":{\"standoff\":15},\"zerolinecolor\":\"white\",\"automargin\":true,\"zerolinewidth\":2},\"yaxis\":{\"gridcolor\":\"white\",\"linecolor\":\"white\",\"ticks\":\"\",\"title\":{\"standoff\":15},\"zerolinecolor\":\"white\",\"automargin\":true,\"zerolinewidth\":2},\"scene\":{\"xaxis\":{\"backgroundcolor\":\"#E5ECF6\",\"gridcolor\":\"white\",\"linecolor\":\"white\",\"showbackground\":true,\"ticks\":\"\",\"zerolinecolor\":\"white\",\"gridwidth\":2},\"yaxis\":{\"backgroundcolor\":\"#E5ECF6\",\"gridcolor\":\"white\",\"linecolor\":\"white\",\"showbackground\":true,\"ticks\":\"\",\"zerolinecolor\":\"white\",\"gridwidth\":2},\"zaxis\":{\"backgroundcolor\":\"#E5ECF6\",\"gridcolor\":\"white\",\"linecolor\":\"white\",\"showbackground\":true,\"ticks\":\"\",\"zerolinecolor\":\"white\",\"gridwidth\":2}},\"shapedefaults\":{\"line\":{\"color\":\"#2a3f5f\"}},\"annotationdefaults\":{\"arrowcolor\":\"#2a3f5f\",\"arrowhead\":0,\"arrowwidth\":1},\"geo\":{\"bgcolor\":\"white\",\"landcolor\":\"#E5ECF6\",\"subunitcolor\":\"white\",\"showland\":true,\"showlakes\":true,\"lakecolor\":\"white\"},\"title\":{\"x\":0.05},\"mapbox\":{\"style\":\"light\"}}},\"xaxis\":{\"anchor\":\"y\",\"domain\":[0.0,1.0],\"title\":{\"text\":\"Sourcing Channel\"},\"tickangle\":-45},\"yaxis\":{\"anchor\":\"x\",\"domain\":[0.0,1.0],\"title\":{\"text\":\"Counts\"}},\"legend\":{\"tracegroupgap\":0},\"title\":{\"text\":\"Value Counts for Sourcing Channel\",\"y\":0.9,\"x\":0.5,\"xanchor\":\"center\",\"yanchor\":\"top\"},\"barmode\":\"relative\",\"height\":600,\"width\":1000},                        {\"responsive\": true}                    ).then(function(){\n",
       "                            \n",
       "var gd = document.getElementById('6b4017a6-850a-4fbc-90a4-24f9f6e67d64');\n",
       "var x = new MutationObserver(function (mutations, observer) {{\n",
       "        var display = window.getComputedStyle(gd).display;\n",
       "        if (!display || display === 'none') {{\n",
       "            console.log([gd, 'removed!']);\n",
       "            Plotly.purge(gd);\n",
       "            observer.disconnect();\n",
       "        }}\n",
       "}});\n",
       "\n",
       "// Listen for the removal of the full notebook cells\n",
       "var notebookContainer = gd.closest('#notebook-container');\n",
       "if (notebookContainer) {{\n",
       "    x.observe(notebookContainer, {childList: true});\n",
       "}}\n",
       "\n",
       "// Listen for the clearing of the current output cell\n",
       "var outputEl = gd.closest('.output');\n",
       "if (outputEl) {{\n",
       "    x.observe(outputEl, {childList: true});\n",
       "}}\n",
       "\n",
       "                        })                };                });            </script>        </div>"
      ]
     },
     "metadata": {},
     "output_type": "display_data"
    }
   ],
   "source": [
    "plot_objects['Sourcing Channel'].show()  # Display the plot for Sourcing Channel"
   ]
  },
  {
   "cell_type": "markdown",
   "metadata": {},
   "source": [
    "\n",
    "<div class=\"alert alert-block alert-info\">\n",
    "    <strong>Sourcing Channel Distribution:</strong> <b>Direct</b> sourcing channel leads by a substantial margin, indicating a preference for direct transactions. Understanding the factors driving this preference can help optimize channel strategies and enhance customer satisfaction.\n",
    "</div>\n",
    "\n"
   ]
  },
  {
   "cell_type": "code",
   "execution_count": 26,
   "metadata": {},
   "outputs": [
    {
     "data": {
      "application/vnd.plotly.v1+json": {
       "config": {
        "plotlyServerURL": "https://plot.ly"
       },
       "data": [
        {
         "alignmentgroup": "True",
         "hovertemplate": "Category=%{x}<br>Counts=%{text}<extra></extra>",
         "legendgroup": "",
         "marker": {
          "color": "#636efa",
          "pattern": {
           "shape": ""
          }
         },
         "name": "",
         "offsetgroup": "",
         "orientation": "v",
         "showlegend": false,
         "text": [
          325566,
          220462,
          4148
         ],
         "textposition": "outside",
         "texttemplate": "%{text:.2s}",
         "type": "bar",
         "x": [
          "Large",
          "Small",
          "ExtraLarge"
         ],
         "xaxis": "x",
         "y": [
          325566,
          220462,
          4148
         ],
         "yaxis": "y"
        }
       ],
       "layout": {
        "barmode": "relative",
        "height": 600,
        "legend": {
         "tracegroupgap": 0
        },
        "template": {
         "data": {
          "bar": [
           {
            "error_x": {
             "color": "#2a3f5f"
            },
            "error_y": {
             "color": "#2a3f5f"
            },
            "marker": {
             "line": {
              "color": "#E5ECF6",
              "width": 0.5
             },
             "pattern": {
              "fillmode": "overlay",
              "size": 10,
              "solidity": 0.2
             }
            },
            "type": "bar"
           }
          ],
          "barpolar": [
           {
            "marker": {
             "line": {
              "color": "#E5ECF6",
              "width": 0.5
             },
             "pattern": {
              "fillmode": "overlay",
              "size": 10,
              "solidity": 0.2
             }
            },
            "type": "barpolar"
           }
          ],
          "carpet": [
           {
            "aaxis": {
             "endlinecolor": "#2a3f5f",
             "gridcolor": "white",
             "linecolor": "white",
             "minorgridcolor": "white",
             "startlinecolor": "#2a3f5f"
            },
            "baxis": {
             "endlinecolor": "#2a3f5f",
             "gridcolor": "white",
             "linecolor": "white",
             "minorgridcolor": "white",
             "startlinecolor": "#2a3f5f"
            },
            "type": "carpet"
           }
          ],
          "choropleth": [
           {
            "colorbar": {
             "outlinewidth": 0,
             "ticks": ""
            },
            "type": "choropleth"
           }
          ],
          "contour": [
           {
            "colorbar": {
             "outlinewidth": 0,
             "ticks": ""
            },
            "colorscale": [
             [
              0,
              "#0d0887"
             ],
             [
              0.1111111111111111,
              "#46039f"
             ],
             [
              0.2222222222222222,
              "#7201a8"
             ],
             [
              0.3333333333333333,
              "#9c179e"
             ],
             [
              0.4444444444444444,
              "#bd3786"
             ],
             [
              0.5555555555555556,
              "#d8576b"
             ],
             [
              0.6666666666666666,
              "#ed7953"
             ],
             [
              0.7777777777777778,
              "#fb9f3a"
             ],
             [
              0.8888888888888888,
              "#fdca26"
             ],
             [
              1,
              "#f0f921"
             ]
            ],
            "type": "contour"
           }
          ],
          "contourcarpet": [
           {
            "colorbar": {
             "outlinewidth": 0,
             "ticks": ""
            },
            "type": "contourcarpet"
           }
          ],
          "heatmap": [
           {
            "colorbar": {
             "outlinewidth": 0,
             "ticks": ""
            },
            "colorscale": [
             [
              0,
              "#0d0887"
             ],
             [
              0.1111111111111111,
              "#46039f"
             ],
             [
              0.2222222222222222,
              "#7201a8"
             ],
             [
              0.3333333333333333,
              "#9c179e"
             ],
             [
              0.4444444444444444,
              "#bd3786"
             ],
             [
              0.5555555555555556,
              "#d8576b"
             ],
             [
              0.6666666666666666,
              "#ed7953"
             ],
             [
              0.7777777777777778,
              "#fb9f3a"
             ],
             [
              0.8888888888888888,
              "#fdca26"
             ],
             [
              1,
              "#f0f921"
             ]
            ],
            "type": "heatmap"
           }
          ],
          "heatmapgl": [
           {
            "colorbar": {
             "outlinewidth": 0,
             "ticks": ""
            },
            "colorscale": [
             [
              0,
              "#0d0887"
             ],
             [
              0.1111111111111111,
              "#46039f"
             ],
             [
              0.2222222222222222,
              "#7201a8"
             ],
             [
              0.3333333333333333,
              "#9c179e"
             ],
             [
              0.4444444444444444,
              "#bd3786"
             ],
             [
              0.5555555555555556,
              "#d8576b"
             ],
             [
              0.6666666666666666,
              "#ed7953"
             ],
             [
              0.7777777777777778,
              "#fb9f3a"
             ],
             [
              0.8888888888888888,
              "#fdca26"
             ],
             [
              1,
              "#f0f921"
             ]
            ],
            "type": "heatmapgl"
           }
          ],
          "histogram": [
           {
            "marker": {
             "pattern": {
              "fillmode": "overlay",
              "size": 10,
              "solidity": 0.2
             }
            },
            "type": "histogram"
           }
          ],
          "histogram2d": [
           {
            "colorbar": {
             "outlinewidth": 0,
             "ticks": ""
            },
            "colorscale": [
             [
              0,
              "#0d0887"
             ],
             [
              0.1111111111111111,
              "#46039f"
             ],
             [
              0.2222222222222222,
              "#7201a8"
             ],
             [
              0.3333333333333333,
              "#9c179e"
             ],
             [
              0.4444444444444444,
              "#bd3786"
             ],
             [
              0.5555555555555556,
              "#d8576b"
             ],
             [
              0.6666666666666666,
              "#ed7953"
             ],
             [
              0.7777777777777778,
              "#fb9f3a"
             ],
             [
              0.8888888888888888,
              "#fdca26"
             ],
             [
              1,
              "#f0f921"
             ]
            ],
            "type": "histogram2d"
           }
          ],
          "histogram2dcontour": [
           {
            "colorbar": {
             "outlinewidth": 0,
             "ticks": ""
            },
            "colorscale": [
             [
              0,
              "#0d0887"
             ],
             [
              0.1111111111111111,
              "#46039f"
             ],
             [
              0.2222222222222222,
              "#7201a8"
             ],
             [
              0.3333333333333333,
              "#9c179e"
             ],
             [
              0.4444444444444444,
              "#bd3786"
             ],
             [
              0.5555555555555556,
              "#d8576b"
             ],
             [
              0.6666666666666666,
              "#ed7953"
             ],
             [
              0.7777777777777778,
              "#fb9f3a"
             ],
             [
              0.8888888888888888,
              "#fdca26"
             ],
             [
              1,
              "#f0f921"
             ]
            ],
            "type": "histogram2dcontour"
           }
          ],
          "mesh3d": [
           {
            "colorbar": {
             "outlinewidth": 0,
             "ticks": ""
            },
            "type": "mesh3d"
           }
          ],
          "parcoords": [
           {
            "line": {
             "colorbar": {
              "outlinewidth": 0,
              "ticks": ""
             }
            },
            "type": "parcoords"
           }
          ],
          "pie": [
           {
            "automargin": true,
            "type": "pie"
           }
          ],
          "scatter": [
           {
            "fillpattern": {
             "fillmode": "overlay",
             "size": 10,
             "solidity": 0.2
            },
            "type": "scatter"
           }
          ],
          "scatter3d": [
           {
            "line": {
             "colorbar": {
              "outlinewidth": 0,
              "ticks": ""
             }
            },
            "marker": {
             "colorbar": {
              "outlinewidth": 0,
              "ticks": ""
             }
            },
            "type": "scatter3d"
           }
          ],
          "scattercarpet": [
           {
            "marker": {
             "colorbar": {
              "outlinewidth": 0,
              "ticks": ""
             }
            },
            "type": "scattercarpet"
           }
          ],
          "scattergeo": [
           {
            "marker": {
             "colorbar": {
              "outlinewidth": 0,
              "ticks": ""
             }
            },
            "type": "scattergeo"
           }
          ],
          "scattergl": [
           {
            "marker": {
             "colorbar": {
              "outlinewidth": 0,
              "ticks": ""
             }
            },
            "type": "scattergl"
           }
          ],
          "scattermapbox": [
           {
            "marker": {
             "colorbar": {
              "outlinewidth": 0,
              "ticks": ""
             }
            },
            "type": "scattermapbox"
           }
          ],
          "scatterpolar": [
           {
            "marker": {
             "colorbar": {
              "outlinewidth": 0,
              "ticks": ""
             }
            },
            "type": "scatterpolar"
           }
          ],
          "scatterpolargl": [
           {
            "marker": {
             "colorbar": {
              "outlinewidth": 0,
              "ticks": ""
             }
            },
            "type": "scatterpolargl"
           }
          ],
          "scatterternary": [
           {
            "marker": {
             "colorbar": {
              "outlinewidth": 0,
              "ticks": ""
             }
            },
            "type": "scatterternary"
           }
          ],
          "surface": [
           {
            "colorbar": {
             "outlinewidth": 0,
             "ticks": ""
            },
            "colorscale": [
             [
              0,
              "#0d0887"
             ],
             [
              0.1111111111111111,
              "#46039f"
             ],
             [
              0.2222222222222222,
              "#7201a8"
             ],
             [
              0.3333333333333333,
              "#9c179e"
             ],
             [
              0.4444444444444444,
              "#bd3786"
             ],
             [
              0.5555555555555556,
              "#d8576b"
             ],
             [
              0.6666666666666666,
              "#ed7953"
             ],
             [
              0.7777777777777778,
              "#fb9f3a"
             ],
             [
              0.8888888888888888,
              "#fdca26"
             ],
             [
              1,
              "#f0f921"
             ]
            ],
            "type": "surface"
           }
          ],
          "table": [
           {
            "cells": {
             "fill": {
              "color": "#EBF0F8"
             },
             "line": {
              "color": "white"
             }
            },
            "header": {
             "fill": {
              "color": "#C8D4E3"
             },
             "line": {
              "color": "white"
             }
            },
            "type": "table"
           }
          ]
         },
         "layout": {
          "annotationdefaults": {
           "arrowcolor": "#2a3f5f",
           "arrowhead": 0,
           "arrowwidth": 1
          },
          "autotypenumbers": "strict",
          "coloraxis": {
           "colorbar": {
            "outlinewidth": 0,
            "ticks": ""
           }
          },
          "colorscale": {
           "diverging": [
            [
             0,
             "#8e0152"
            ],
            [
             0.1,
             "#c51b7d"
            ],
            [
             0.2,
             "#de77ae"
            ],
            [
             0.3,
             "#f1b6da"
            ],
            [
             0.4,
             "#fde0ef"
            ],
            [
             0.5,
             "#f7f7f7"
            ],
            [
             0.6,
             "#e6f5d0"
            ],
            [
             0.7,
             "#b8e186"
            ],
            [
             0.8,
             "#7fbc41"
            ],
            [
             0.9,
             "#4d9221"
            ],
            [
             1,
             "#276419"
            ]
           ],
           "sequential": [
            [
             0,
             "#0d0887"
            ],
            [
             0.1111111111111111,
             "#46039f"
            ],
            [
             0.2222222222222222,
             "#7201a8"
            ],
            [
             0.3333333333333333,
             "#9c179e"
            ],
            [
             0.4444444444444444,
             "#bd3786"
            ],
            [
             0.5555555555555556,
             "#d8576b"
            ],
            [
             0.6666666666666666,
             "#ed7953"
            ],
            [
             0.7777777777777778,
             "#fb9f3a"
            ],
            [
             0.8888888888888888,
             "#fdca26"
            ],
            [
             1,
             "#f0f921"
            ]
           ],
           "sequentialminus": [
            [
             0,
             "#0d0887"
            ],
            [
             0.1111111111111111,
             "#46039f"
            ],
            [
             0.2222222222222222,
             "#7201a8"
            ],
            [
             0.3333333333333333,
             "#9c179e"
            ],
            [
             0.4444444444444444,
             "#bd3786"
            ],
            [
             0.5555555555555556,
             "#d8576b"
            ],
            [
             0.6666666666666666,
             "#ed7953"
            ],
            [
             0.7777777777777778,
             "#fb9f3a"
            ],
            [
             0.8888888888888888,
             "#fdca26"
            ],
            [
             1,
             "#f0f921"
            ]
           ]
          },
          "colorway": [
           "#636efa",
           "#EF553B",
           "#00cc96",
           "#ab63fa",
           "#FFA15A",
           "#19d3f3",
           "#FF6692",
           "#B6E880",
           "#FF97FF",
           "#FECB52"
          ],
          "font": {
           "color": "#2a3f5f"
          },
          "geo": {
           "bgcolor": "white",
           "lakecolor": "white",
           "landcolor": "#E5ECF6",
           "showlakes": true,
           "showland": true,
           "subunitcolor": "white"
          },
          "hoverlabel": {
           "align": "left"
          },
          "hovermode": "closest",
          "mapbox": {
           "style": "light"
          },
          "paper_bgcolor": "white",
          "plot_bgcolor": "#E5ECF6",
          "polar": {
           "angularaxis": {
            "gridcolor": "white",
            "linecolor": "white",
            "ticks": ""
           },
           "bgcolor": "#E5ECF6",
           "radialaxis": {
            "gridcolor": "white",
            "linecolor": "white",
            "ticks": ""
           }
          },
          "scene": {
           "xaxis": {
            "backgroundcolor": "#E5ECF6",
            "gridcolor": "white",
            "gridwidth": 2,
            "linecolor": "white",
            "showbackground": true,
            "ticks": "",
            "zerolinecolor": "white"
           },
           "yaxis": {
            "backgroundcolor": "#E5ECF6",
            "gridcolor": "white",
            "gridwidth": 2,
            "linecolor": "white",
            "showbackground": true,
            "ticks": "",
            "zerolinecolor": "white"
           },
           "zaxis": {
            "backgroundcolor": "#E5ECF6",
            "gridcolor": "white",
            "gridwidth": 2,
            "linecolor": "white",
            "showbackground": true,
            "ticks": "",
            "zerolinecolor": "white"
           }
          },
          "shapedefaults": {
           "line": {
            "color": "#2a3f5f"
           }
          },
          "ternary": {
           "aaxis": {
            "gridcolor": "white",
            "linecolor": "white",
            "ticks": ""
           },
           "baxis": {
            "gridcolor": "white",
            "linecolor": "white",
            "ticks": ""
           },
           "bgcolor": "#E5ECF6",
           "caxis": {
            "gridcolor": "white",
            "linecolor": "white",
            "ticks": ""
           }
          },
          "title": {
           "x": 0.05
          },
          "xaxis": {
           "automargin": true,
           "gridcolor": "white",
           "linecolor": "white",
           "ticks": "",
           "title": {
            "standoff": 15
           },
           "zerolinecolor": "white",
           "zerolinewidth": 2
          },
          "yaxis": {
           "automargin": true,
           "gridcolor": "white",
           "linecolor": "white",
           "ticks": "",
           "title": {
            "standoff": 15
           },
           "zerolinecolor": "white",
           "zerolinewidth": 2
          }
         }
        },
        "title": {
         "text": "Value Counts for Product Size",
         "x": 0.5,
         "xanchor": "center",
         "y": 0.9,
         "yanchor": "top"
        },
        "width": 1000,
        "xaxis": {
         "anchor": "y",
         "domain": [
          0,
          1
         ],
         "tickangle": -45,
         "title": {
          "text": "Product Size"
         }
        },
        "yaxis": {
         "anchor": "x",
         "domain": [
          0,
          1
         ],
         "title": {
          "text": "Counts"
         }
        }
       }
      },
      "text/html": [
       "<div>                            <div id=\"ea2b7e76-47f2-4c05-8117-825f411b86c0\" class=\"plotly-graph-div\" style=\"height:600px; width:1000px;\"></div>            <script type=\"text/javascript\">                require([\"plotly\"], function(Plotly) {                    window.PLOTLYENV=window.PLOTLYENV || {};                                    if (document.getElementById(\"ea2b7e76-47f2-4c05-8117-825f411b86c0\")) {                    Plotly.newPlot(                        \"ea2b7e76-47f2-4c05-8117-825f411b86c0\",                        [{\"alignmentgroup\":\"True\",\"hovertemplate\":\"Category=%{x}\\u003cbr\\u003eCounts=%{text}\\u003cextra\\u003e\\u003c\\u002fextra\\u003e\",\"legendgroup\":\"\",\"marker\":{\"color\":\"#636efa\",\"pattern\":{\"shape\":\"\"}},\"name\":\"\",\"offsetgroup\":\"\",\"orientation\":\"v\",\"showlegend\":false,\"text\":[325566.0,220462.0,4148.0],\"textposition\":\"outside\",\"x\":[\"Large\",\"Small\",\"ExtraLarge\"],\"xaxis\":\"x\",\"y\":[325566,220462,4148],\"yaxis\":\"y\",\"type\":\"bar\",\"texttemplate\":\"%{text:.2s}\"}],                        {\"template\":{\"data\":{\"histogram2dcontour\":[{\"type\":\"histogram2dcontour\",\"colorbar\":{\"outlinewidth\":0,\"ticks\":\"\"},\"colorscale\":[[0.0,\"#0d0887\"],[0.1111111111111111,\"#46039f\"],[0.2222222222222222,\"#7201a8\"],[0.3333333333333333,\"#9c179e\"],[0.4444444444444444,\"#bd3786\"],[0.5555555555555556,\"#d8576b\"],[0.6666666666666666,\"#ed7953\"],[0.7777777777777778,\"#fb9f3a\"],[0.8888888888888888,\"#fdca26\"],[1.0,\"#f0f921\"]]}],\"choropleth\":[{\"type\":\"choropleth\",\"colorbar\":{\"outlinewidth\":0,\"ticks\":\"\"}}],\"histogram2d\":[{\"type\":\"histogram2d\",\"colorbar\":{\"outlinewidth\":0,\"ticks\":\"\"},\"colorscale\":[[0.0,\"#0d0887\"],[0.1111111111111111,\"#46039f\"],[0.2222222222222222,\"#7201a8\"],[0.3333333333333333,\"#9c179e\"],[0.4444444444444444,\"#bd3786\"],[0.5555555555555556,\"#d8576b\"],[0.6666666666666666,\"#ed7953\"],[0.7777777777777778,\"#fb9f3a\"],[0.8888888888888888,\"#fdca26\"],[1.0,\"#f0f921\"]]}],\"heatmap\":[{\"type\":\"heatmap\",\"colorbar\":{\"outlinewidth\":0,\"ticks\":\"\"},\"colorscale\":[[0.0,\"#0d0887\"],[0.1111111111111111,\"#46039f\"],[0.2222222222222222,\"#7201a8\"],[0.3333333333333333,\"#9c179e\"],[0.4444444444444444,\"#bd3786\"],[0.5555555555555556,\"#d8576b\"],[0.6666666666666666,\"#ed7953\"],[0.7777777777777778,\"#fb9f3a\"],[0.8888888888888888,\"#fdca26\"],[1.0,\"#f0f921\"]]}],\"heatmapgl\":[{\"type\":\"heatmapgl\",\"colorbar\":{\"outlinewidth\":0,\"ticks\":\"\"},\"colorscale\":[[0.0,\"#0d0887\"],[0.1111111111111111,\"#46039f\"],[0.2222222222222222,\"#7201a8\"],[0.3333333333333333,\"#9c179e\"],[0.4444444444444444,\"#bd3786\"],[0.5555555555555556,\"#d8576b\"],[0.6666666666666666,\"#ed7953\"],[0.7777777777777778,\"#fb9f3a\"],[0.8888888888888888,\"#fdca26\"],[1.0,\"#f0f921\"]]}],\"contourcarpet\":[{\"type\":\"contourcarpet\",\"colorbar\":{\"outlinewidth\":0,\"ticks\":\"\"}}],\"contour\":[{\"type\":\"contour\",\"colorbar\":{\"outlinewidth\":0,\"ticks\":\"\"},\"colorscale\":[[0.0,\"#0d0887\"],[0.1111111111111111,\"#46039f\"],[0.2222222222222222,\"#7201a8\"],[0.3333333333333333,\"#9c179e\"],[0.4444444444444444,\"#bd3786\"],[0.5555555555555556,\"#d8576b\"],[0.6666666666666666,\"#ed7953\"],[0.7777777777777778,\"#fb9f3a\"],[0.8888888888888888,\"#fdca26\"],[1.0,\"#f0f921\"]]}],\"surface\":[{\"type\":\"surface\",\"colorbar\":{\"outlinewidth\":0,\"ticks\":\"\"},\"colorscale\":[[0.0,\"#0d0887\"],[0.1111111111111111,\"#46039f\"],[0.2222222222222222,\"#7201a8\"],[0.3333333333333333,\"#9c179e\"],[0.4444444444444444,\"#bd3786\"],[0.5555555555555556,\"#d8576b\"],[0.6666666666666666,\"#ed7953\"],[0.7777777777777778,\"#fb9f3a\"],[0.8888888888888888,\"#fdca26\"],[1.0,\"#f0f921\"]]}],\"mesh3d\":[{\"type\":\"mesh3d\",\"colorbar\":{\"outlinewidth\":0,\"ticks\":\"\"}}],\"scatter\":[{\"fillpattern\":{\"fillmode\":\"overlay\",\"size\":10,\"solidity\":0.2},\"type\":\"scatter\"}],\"parcoords\":[{\"type\":\"parcoords\",\"line\":{\"colorbar\":{\"outlinewidth\":0,\"ticks\":\"\"}}}],\"scatterpolargl\":[{\"type\":\"scatterpolargl\",\"marker\":{\"colorbar\":{\"outlinewidth\":0,\"ticks\":\"\"}}}],\"bar\":[{\"error_x\":{\"color\":\"#2a3f5f\"},\"error_y\":{\"color\":\"#2a3f5f\"},\"marker\":{\"line\":{\"color\":\"#E5ECF6\",\"width\":0.5},\"pattern\":{\"fillmode\":\"overlay\",\"size\":10,\"solidity\":0.2}},\"type\":\"bar\"}],\"scattergeo\":[{\"type\":\"scattergeo\",\"marker\":{\"colorbar\":{\"outlinewidth\":0,\"ticks\":\"\"}}}],\"scatterpolar\":[{\"type\":\"scatterpolar\",\"marker\":{\"colorbar\":{\"outlinewidth\":0,\"ticks\":\"\"}}}],\"histogram\":[{\"marker\":{\"pattern\":{\"fillmode\":\"overlay\",\"size\":10,\"solidity\":0.2}},\"type\":\"histogram\"}],\"scattergl\":[{\"type\":\"scattergl\",\"marker\":{\"colorbar\":{\"outlinewidth\":0,\"ticks\":\"\"}}}],\"scatter3d\":[{\"type\":\"scatter3d\",\"line\":{\"colorbar\":{\"outlinewidth\":0,\"ticks\":\"\"}},\"marker\":{\"colorbar\":{\"outlinewidth\":0,\"ticks\":\"\"}}}],\"scattermapbox\":[{\"type\":\"scattermapbox\",\"marker\":{\"colorbar\":{\"outlinewidth\":0,\"ticks\":\"\"}}}],\"scatterternary\":[{\"type\":\"scatterternary\",\"marker\":{\"colorbar\":{\"outlinewidth\":0,\"ticks\":\"\"}}}],\"scattercarpet\":[{\"type\":\"scattercarpet\",\"marker\":{\"colorbar\":{\"outlinewidth\":0,\"ticks\":\"\"}}}],\"carpet\":[{\"aaxis\":{\"endlinecolor\":\"#2a3f5f\",\"gridcolor\":\"white\",\"linecolor\":\"white\",\"minorgridcolor\":\"white\",\"startlinecolor\":\"#2a3f5f\"},\"baxis\":{\"endlinecolor\":\"#2a3f5f\",\"gridcolor\":\"white\",\"linecolor\":\"white\",\"minorgridcolor\":\"white\",\"startlinecolor\":\"#2a3f5f\"},\"type\":\"carpet\"}],\"table\":[{\"cells\":{\"fill\":{\"color\":\"#EBF0F8\"},\"line\":{\"color\":\"white\"}},\"header\":{\"fill\":{\"color\":\"#C8D4E3\"},\"line\":{\"color\":\"white\"}},\"type\":\"table\"}],\"barpolar\":[{\"marker\":{\"line\":{\"color\":\"#E5ECF6\",\"width\":0.5},\"pattern\":{\"fillmode\":\"overlay\",\"size\":10,\"solidity\":0.2}},\"type\":\"barpolar\"}],\"pie\":[{\"automargin\":true,\"type\":\"pie\"}]},\"layout\":{\"autotypenumbers\":\"strict\",\"colorway\":[\"#636efa\",\"#EF553B\",\"#00cc96\",\"#ab63fa\",\"#FFA15A\",\"#19d3f3\",\"#FF6692\",\"#B6E880\",\"#FF97FF\",\"#FECB52\"],\"font\":{\"color\":\"#2a3f5f\"},\"hovermode\":\"closest\",\"hoverlabel\":{\"align\":\"left\"},\"paper_bgcolor\":\"white\",\"plot_bgcolor\":\"#E5ECF6\",\"polar\":{\"bgcolor\":\"#E5ECF6\",\"angularaxis\":{\"gridcolor\":\"white\",\"linecolor\":\"white\",\"ticks\":\"\"},\"radialaxis\":{\"gridcolor\":\"white\",\"linecolor\":\"white\",\"ticks\":\"\"}},\"ternary\":{\"bgcolor\":\"#E5ECF6\",\"aaxis\":{\"gridcolor\":\"white\",\"linecolor\":\"white\",\"ticks\":\"\"},\"baxis\":{\"gridcolor\":\"white\",\"linecolor\":\"white\",\"ticks\":\"\"},\"caxis\":{\"gridcolor\":\"white\",\"linecolor\":\"white\",\"ticks\":\"\"}},\"coloraxis\":{\"colorbar\":{\"outlinewidth\":0,\"ticks\":\"\"}},\"colorscale\":{\"sequential\":[[0.0,\"#0d0887\"],[0.1111111111111111,\"#46039f\"],[0.2222222222222222,\"#7201a8\"],[0.3333333333333333,\"#9c179e\"],[0.4444444444444444,\"#bd3786\"],[0.5555555555555556,\"#d8576b\"],[0.6666666666666666,\"#ed7953\"],[0.7777777777777778,\"#fb9f3a\"],[0.8888888888888888,\"#fdca26\"],[1.0,\"#f0f921\"]],\"sequentialminus\":[[0.0,\"#0d0887\"],[0.1111111111111111,\"#46039f\"],[0.2222222222222222,\"#7201a8\"],[0.3333333333333333,\"#9c179e\"],[0.4444444444444444,\"#bd3786\"],[0.5555555555555556,\"#d8576b\"],[0.6666666666666666,\"#ed7953\"],[0.7777777777777778,\"#fb9f3a\"],[0.8888888888888888,\"#fdca26\"],[1.0,\"#f0f921\"]],\"diverging\":[[0,\"#8e0152\"],[0.1,\"#c51b7d\"],[0.2,\"#de77ae\"],[0.3,\"#f1b6da\"],[0.4,\"#fde0ef\"],[0.5,\"#f7f7f7\"],[0.6,\"#e6f5d0\"],[0.7,\"#b8e186\"],[0.8,\"#7fbc41\"],[0.9,\"#4d9221\"],[1,\"#276419\"]]},\"xaxis\":{\"gridcolor\":\"white\",\"linecolor\":\"white\",\"ticks\":\"\",\"title\":{\"standoff\":15},\"zerolinecolor\":\"white\",\"automargin\":true,\"zerolinewidth\":2},\"yaxis\":{\"gridcolor\":\"white\",\"linecolor\":\"white\",\"ticks\":\"\",\"title\":{\"standoff\":15},\"zerolinecolor\":\"white\",\"automargin\":true,\"zerolinewidth\":2},\"scene\":{\"xaxis\":{\"backgroundcolor\":\"#E5ECF6\",\"gridcolor\":\"white\",\"linecolor\":\"white\",\"showbackground\":true,\"ticks\":\"\",\"zerolinecolor\":\"white\",\"gridwidth\":2},\"yaxis\":{\"backgroundcolor\":\"#E5ECF6\",\"gridcolor\":\"white\",\"linecolor\":\"white\",\"showbackground\":true,\"ticks\":\"\",\"zerolinecolor\":\"white\",\"gridwidth\":2},\"zaxis\":{\"backgroundcolor\":\"#E5ECF6\",\"gridcolor\":\"white\",\"linecolor\":\"white\",\"showbackground\":true,\"ticks\":\"\",\"zerolinecolor\":\"white\",\"gridwidth\":2}},\"shapedefaults\":{\"line\":{\"color\":\"#2a3f5f\"}},\"annotationdefaults\":{\"arrowcolor\":\"#2a3f5f\",\"arrowhead\":0,\"arrowwidth\":1},\"geo\":{\"bgcolor\":\"white\",\"landcolor\":\"#E5ECF6\",\"subunitcolor\":\"white\",\"showland\":true,\"showlakes\":true,\"lakecolor\":\"white\"},\"title\":{\"x\":0.05},\"mapbox\":{\"style\":\"light\"}}},\"xaxis\":{\"anchor\":\"y\",\"domain\":[0.0,1.0],\"title\":{\"text\":\"Product Size\"},\"tickangle\":-45},\"yaxis\":{\"anchor\":\"x\",\"domain\":[0.0,1.0],\"title\":{\"text\":\"Counts\"}},\"legend\":{\"tracegroupgap\":0},\"title\":{\"text\":\"Value Counts for Product Size\",\"y\":0.9,\"x\":0.5,\"xanchor\":\"center\",\"yanchor\":\"top\"},\"barmode\":\"relative\",\"height\":600,\"width\":1000},                        {\"responsive\": true}                    ).then(function(){\n",
       "                            \n",
       "var gd = document.getElementById('ea2b7e76-47f2-4c05-8117-825f411b86c0');\n",
       "var x = new MutationObserver(function (mutations, observer) {{\n",
       "        var display = window.getComputedStyle(gd).display;\n",
       "        if (!display || display === 'none') {{\n",
       "            console.log([gd, 'removed!']);\n",
       "            Plotly.purge(gd);\n",
       "            observer.disconnect();\n",
       "        }}\n",
       "}});\n",
       "\n",
       "// Listen for the removal of the full notebook cells\n",
       "var notebookContainer = gd.closest('#notebook-container');\n",
       "if (notebookContainer) {{\n",
       "    x.observe(notebookContainer, {childList: true});\n",
       "}}\n",
       "\n",
       "// Listen for the clearing of the current output cell\n",
       "var outputEl = gd.closest('.output');\n",
       "if (outputEl) {{\n",
       "    x.observe(outputEl, {childList: true});\n",
       "}}\n",
       "\n",
       "                        })                };                });            </script>        </div>"
      ]
     },
     "metadata": {},
     "output_type": "display_data"
    }
   ],
   "source": [
    "plot_objects['Product Size'].show()  # Display the plot for Product Size"
   ]
  },
  {
   "cell_type": "markdown",
   "metadata": {},
   "source": [
    "<div class=\"alert alert-block alert-info\">\n",
    "    <strong>Product Size Distribution:</strong> <b>Large</b>-sized products dominate the market, followed by <b>small</b>-sized products. This suggests a preference for larger product sizes among consumers or perhaps a strategic emphasis on producing larger variants.\n",
    "</div>\n",
    "\n"
   ]
  },
  {
   "cell_type": "code",
   "execution_count": 27,
   "metadata": {},
   "outputs": [
    {
     "data": {
      "application/vnd.plotly.v1+json": {
       "config": {
        "plotlyServerURL": "https://plot.ly"
       },
       "data": [
        {
         "alignmentgroup": "True",
         "hovertemplate": "Category=%{x}<br>Counts=%{text}<extra></extra>",
         "legendgroup": "",
         "marker": {
          "color": "#636efa",
          "pattern": {
           "shape": ""
          }
         },
         "name": "",
         "offsetgroup": "",
         "orientation": "v",
         "showlegend": false,
         "text": [
          471593,
          78583
         ],
         "textposition": "outside",
         "texttemplate": "%{text:.2s}",
         "type": "bar",
         "x": [
          "Powder",
          "Liquid"
         ],
         "xaxis": "x",
         "y": [
          471593,
          78583
         ],
         "yaxis": "y"
        }
       ],
       "layout": {
        "barmode": "relative",
        "height": 600,
        "legend": {
         "tracegroupgap": 0
        },
        "template": {
         "data": {
          "bar": [
           {
            "error_x": {
             "color": "#2a3f5f"
            },
            "error_y": {
             "color": "#2a3f5f"
            },
            "marker": {
             "line": {
              "color": "#E5ECF6",
              "width": 0.5
             },
             "pattern": {
              "fillmode": "overlay",
              "size": 10,
              "solidity": 0.2
             }
            },
            "type": "bar"
           }
          ],
          "barpolar": [
           {
            "marker": {
             "line": {
              "color": "#E5ECF6",
              "width": 0.5
             },
             "pattern": {
              "fillmode": "overlay",
              "size": 10,
              "solidity": 0.2
             }
            },
            "type": "barpolar"
           }
          ],
          "carpet": [
           {
            "aaxis": {
             "endlinecolor": "#2a3f5f",
             "gridcolor": "white",
             "linecolor": "white",
             "minorgridcolor": "white",
             "startlinecolor": "#2a3f5f"
            },
            "baxis": {
             "endlinecolor": "#2a3f5f",
             "gridcolor": "white",
             "linecolor": "white",
             "minorgridcolor": "white",
             "startlinecolor": "#2a3f5f"
            },
            "type": "carpet"
           }
          ],
          "choropleth": [
           {
            "colorbar": {
             "outlinewidth": 0,
             "ticks": ""
            },
            "type": "choropleth"
           }
          ],
          "contour": [
           {
            "colorbar": {
             "outlinewidth": 0,
             "ticks": ""
            },
            "colorscale": [
             [
              0,
              "#0d0887"
             ],
             [
              0.1111111111111111,
              "#46039f"
             ],
             [
              0.2222222222222222,
              "#7201a8"
             ],
             [
              0.3333333333333333,
              "#9c179e"
             ],
             [
              0.4444444444444444,
              "#bd3786"
             ],
             [
              0.5555555555555556,
              "#d8576b"
             ],
             [
              0.6666666666666666,
              "#ed7953"
             ],
             [
              0.7777777777777778,
              "#fb9f3a"
             ],
             [
              0.8888888888888888,
              "#fdca26"
             ],
             [
              1,
              "#f0f921"
             ]
            ],
            "type": "contour"
           }
          ],
          "contourcarpet": [
           {
            "colorbar": {
             "outlinewidth": 0,
             "ticks": ""
            },
            "type": "contourcarpet"
           }
          ],
          "heatmap": [
           {
            "colorbar": {
             "outlinewidth": 0,
             "ticks": ""
            },
            "colorscale": [
             [
              0,
              "#0d0887"
             ],
             [
              0.1111111111111111,
              "#46039f"
             ],
             [
              0.2222222222222222,
              "#7201a8"
             ],
             [
              0.3333333333333333,
              "#9c179e"
             ],
             [
              0.4444444444444444,
              "#bd3786"
             ],
             [
              0.5555555555555556,
              "#d8576b"
             ],
             [
              0.6666666666666666,
              "#ed7953"
             ],
             [
              0.7777777777777778,
              "#fb9f3a"
             ],
             [
              0.8888888888888888,
              "#fdca26"
             ],
             [
              1,
              "#f0f921"
             ]
            ],
            "type": "heatmap"
           }
          ],
          "heatmapgl": [
           {
            "colorbar": {
             "outlinewidth": 0,
             "ticks": ""
            },
            "colorscale": [
             [
              0,
              "#0d0887"
             ],
             [
              0.1111111111111111,
              "#46039f"
             ],
             [
              0.2222222222222222,
              "#7201a8"
             ],
             [
              0.3333333333333333,
              "#9c179e"
             ],
             [
              0.4444444444444444,
              "#bd3786"
             ],
             [
              0.5555555555555556,
              "#d8576b"
             ],
             [
              0.6666666666666666,
              "#ed7953"
             ],
             [
              0.7777777777777778,
              "#fb9f3a"
             ],
             [
              0.8888888888888888,
              "#fdca26"
             ],
             [
              1,
              "#f0f921"
             ]
            ],
            "type": "heatmapgl"
           }
          ],
          "histogram": [
           {
            "marker": {
             "pattern": {
              "fillmode": "overlay",
              "size": 10,
              "solidity": 0.2
             }
            },
            "type": "histogram"
           }
          ],
          "histogram2d": [
           {
            "colorbar": {
             "outlinewidth": 0,
             "ticks": ""
            },
            "colorscale": [
             [
              0,
              "#0d0887"
             ],
             [
              0.1111111111111111,
              "#46039f"
             ],
             [
              0.2222222222222222,
              "#7201a8"
             ],
             [
              0.3333333333333333,
              "#9c179e"
             ],
             [
              0.4444444444444444,
              "#bd3786"
             ],
             [
              0.5555555555555556,
              "#d8576b"
             ],
             [
              0.6666666666666666,
              "#ed7953"
             ],
             [
              0.7777777777777778,
              "#fb9f3a"
             ],
             [
              0.8888888888888888,
              "#fdca26"
             ],
             [
              1,
              "#f0f921"
             ]
            ],
            "type": "histogram2d"
           }
          ],
          "histogram2dcontour": [
           {
            "colorbar": {
             "outlinewidth": 0,
             "ticks": ""
            },
            "colorscale": [
             [
              0,
              "#0d0887"
             ],
             [
              0.1111111111111111,
              "#46039f"
             ],
             [
              0.2222222222222222,
              "#7201a8"
             ],
             [
              0.3333333333333333,
              "#9c179e"
             ],
             [
              0.4444444444444444,
              "#bd3786"
             ],
             [
              0.5555555555555556,
              "#d8576b"
             ],
             [
              0.6666666666666666,
              "#ed7953"
             ],
             [
              0.7777777777777778,
              "#fb9f3a"
             ],
             [
              0.8888888888888888,
              "#fdca26"
             ],
             [
              1,
              "#f0f921"
             ]
            ],
            "type": "histogram2dcontour"
           }
          ],
          "mesh3d": [
           {
            "colorbar": {
             "outlinewidth": 0,
             "ticks": ""
            },
            "type": "mesh3d"
           }
          ],
          "parcoords": [
           {
            "line": {
             "colorbar": {
              "outlinewidth": 0,
              "ticks": ""
             }
            },
            "type": "parcoords"
           }
          ],
          "pie": [
           {
            "automargin": true,
            "type": "pie"
           }
          ],
          "scatter": [
           {
            "fillpattern": {
             "fillmode": "overlay",
             "size": 10,
             "solidity": 0.2
            },
            "type": "scatter"
           }
          ],
          "scatter3d": [
           {
            "line": {
             "colorbar": {
              "outlinewidth": 0,
              "ticks": ""
             }
            },
            "marker": {
             "colorbar": {
              "outlinewidth": 0,
              "ticks": ""
             }
            },
            "type": "scatter3d"
           }
          ],
          "scattercarpet": [
           {
            "marker": {
             "colorbar": {
              "outlinewidth": 0,
              "ticks": ""
             }
            },
            "type": "scattercarpet"
           }
          ],
          "scattergeo": [
           {
            "marker": {
             "colorbar": {
              "outlinewidth": 0,
              "ticks": ""
             }
            },
            "type": "scattergeo"
           }
          ],
          "scattergl": [
           {
            "marker": {
             "colorbar": {
              "outlinewidth": 0,
              "ticks": ""
             }
            },
            "type": "scattergl"
           }
          ],
          "scattermapbox": [
           {
            "marker": {
             "colorbar": {
              "outlinewidth": 0,
              "ticks": ""
             }
            },
            "type": "scattermapbox"
           }
          ],
          "scatterpolar": [
           {
            "marker": {
             "colorbar": {
              "outlinewidth": 0,
              "ticks": ""
             }
            },
            "type": "scatterpolar"
           }
          ],
          "scatterpolargl": [
           {
            "marker": {
             "colorbar": {
              "outlinewidth": 0,
              "ticks": ""
             }
            },
            "type": "scatterpolargl"
           }
          ],
          "scatterternary": [
           {
            "marker": {
             "colorbar": {
              "outlinewidth": 0,
              "ticks": ""
             }
            },
            "type": "scatterternary"
           }
          ],
          "surface": [
           {
            "colorbar": {
             "outlinewidth": 0,
             "ticks": ""
            },
            "colorscale": [
             [
              0,
              "#0d0887"
             ],
             [
              0.1111111111111111,
              "#46039f"
             ],
             [
              0.2222222222222222,
              "#7201a8"
             ],
             [
              0.3333333333333333,
              "#9c179e"
             ],
             [
              0.4444444444444444,
              "#bd3786"
             ],
             [
              0.5555555555555556,
              "#d8576b"
             ],
             [
              0.6666666666666666,
              "#ed7953"
             ],
             [
              0.7777777777777778,
              "#fb9f3a"
             ],
             [
              0.8888888888888888,
              "#fdca26"
             ],
             [
              1,
              "#f0f921"
             ]
            ],
            "type": "surface"
           }
          ],
          "table": [
           {
            "cells": {
             "fill": {
              "color": "#EBF0F8"
             },
             "line": {
              "color": "white"
             }
            },
            "header": {
             "fill": {
              "color": "#C8D4E3"
             },
             "line": {
              "color": "white"
             }
            },
            "type": "table"
           }
          ]
         },
         "layout": {
          "annotationdefaults": {
           "arrowcolor": "#2a3f5f",
           "arrowhead": 0,
           "arrowwidth": 1
          },
          "autotypenumbers": "strict",
          "coloraxis": {
           "colorbar": {
            "outlinewidth": 0,
            "ticks": ""
           }
          },
          "colorscale": {
           "diverging": [
            [
             0,
             "#8e0152"
            ],
            [
             0.1,
             "#c51b7d"
            ],
            [
             0.2,
             "#de77ae"
            ],
            [
             0.3,
             "#f1b6da"
            ],
            [
             0.4,
             "#fde0ef"
            ],
            [
             0.5,
             "#f7f7f7"
            ],
            [
             0.6,
             "#e6f5d0"
            ],
            [
             0.7,
             "#b8e186"
            ],
            [
             0.8,
             "#7fbc41"
            ],
            [
             0.9,
             "#4d9221"
            ],
            [
             1,
             "#276419"
            ]
           ],
           "sequential": [
            [
             0,
             "#0d0887"
            ],
            [
             0.1111111111111111,
             "#46039f"
            ],
            [
             0.2222222222222222,
             "#7201a8"
            ],
            [
             0.3333333333333333,
             "#9c179e"
            ],
            [
             0.4444444444444444,
             "#bd3786"
            ],
            [
             0.5555555555555556,
             "#d8576b"
            ],
            [
             0.6666666666666666,
             "#ed7953"
            ],
            [
             0.7777777777777778,
             "#fb9f3a"
            ],
            [
             0.8888888888888888,
             "#fdca26"
            ],
            [
             1,
             "#f0f921"
            ]
           ],
           "sequentialminus": [
            [
             0,
             "#0d0887"
            ],
            [
             0.1111111111111111,
             "#46039f"
            ],
            [
             0.2222222222222222,
             "#7201a8"
            ],
            [
             0.3333333333333333,
             "#9c179e"
            ],
            [
             0.4444444444444444,
             "#bd3786"
            ],
            [
             0.5555555555555556,
             "#d8576b"
            ],
            [
             0.6666666666666666,
             "#ed7953"
            ],
            [
             0.7777777777777778,
             "#fb9f3a"
            ],
            [
             0.8888888888888888,
             "#fdca26"
            ],
            [
             1,
             "#f0f921"
            ]
           ]
          },
          "colorway": [
           "#636efa",
           "#EF553B",
           "#00cc96",
           "#ab63fa",
           "#FFA15A",
           "#19d3f3",
           "#FF6692",
           "#B6E880",
           "#FF97FF",
           "#FECB52"
          ],
          "font": {
           "color": "#2a3f5f"
          },
          "geo": {
           "bgcolor": "white",
           "lakecolor": "white",
           "landcolor": "#E5ECF6",
           "showlakes": true,
           "showland": true,
           "subunitcolor": "white"
          },
          "hoverlabel": {
           "align": "left"
          },
          "hovermode": "closest",
          "mapbox": {
           "style": "light"
          },
          "paper_bgcolor": "white",
          "plot_bgcolor": "#E5ECF6",
          "polar": {
           "angularaxis": {
            "gridcolor": "white",
            "linecolor": "white",
            "ticks": ""
           },
           "bgcolor": "#E5ECF6",
           "radialaxis": {
            "gridcolor": "white",
            "linecolor": "white",
            "ticks": ""
           }
          },
          "scene": {
           "xaxis": {
            "backgroundcolor": "#E5ECF6",
            "gridcolor": "white",
            "gridwidth": 2,
            "linecolor": "white",
            "showbackground": true,
            "ticks": "",
            "zerolinecolor": "white"
           },
           "yaxis": {
            "backgroundcolor": "#E5ECF6",
            "gridcolor": "white",
            "gridwidth": 2,
            "linecolor": "white",
            "showbackground": true,
            "ticks": "",
            "zerolinecolor": "white"
           },
           "zaxis": {
            "backgroundcolor": "#E5ECF6",
            "gridcolor": "white",
            "gridwidth": 2,
            "linecolor": "white",
            "showbackground": true,
            "ticks": "",
            "zerolinecolor": "white"
           }
          },
          "shapedefaults": {
           "line": {
            "color": "#2a3f5f"
           }
          },
          "ternary": {
           "aaxis": {
            "gridcolor": "white",
            "linecolor": "white",
            "ticks": ""
           },
           "baxis": {
            "gridcolor": "white",
            "linecolor": "white",
            "ticks": ""
           },
           "bgcolor": "#E5ECF6",
           "caxis": {
            "gridcolor": "white",
            "linecolor": "white",
            "ticks": ""
           }
          },
          "title": {
           "x": 0.05
          },
          "xaxis": {
           "automargin": true,
           "gridcolor": "white",
           "linecolor": "white",
           "ticks": "",
           "title": {
            "standoff": 15
           },
           "zerolinecolor": "white",
           "zerolinewidth": 2
          },
          "yaxis": {
           "automargin": true,
           "gridcolor": "white",
           "linecolor": "white",
           "ticks": "",
           "title": {
            "standoff": 15
           },
           "zerolinecolor": "white",
           "zerolinewidth": 2
          }
         }
        },
        "title": {
         "text": "Value Counts for Product Type",
         "x": 0.5,
         "xanchor": "center",
         "y": 0.9,
         "yanchor": "top"
        },
        "width": 1000,
        "xaxis": {
         "anchor": "y",
         "domain": [
          0,
          1
         ],
         "tickangle": -45,
         "title": {
          "text": "Product Type"
         }
        },
        "yaxis": {
         "anchor": "x",
         "domain": [
          0,
          1
         ],
         "title": {
          "text": "Counts"
         }
        }
       }
      },
      "text/html": [
       "<div>                            <div id=\"a9974458-2f6f-4df5-8285-ff920ca70c15\" class=\"plotly-graph-div\" style=\"height:600px; width:1000px;\"></div>            <script type=\"text/javascript\">                require([\"plotly\"], function(Plotly) {                    window.PLOTLYENV=window.PLOTLYENV || {};                                    if (document.getElementById(\"a9974458-2f6f-4df5-8285-ff920ca70c15\")) {                    Plotly.newPlot(                        \"a9974458-2f6f-4df5-8285-ff920ca70c15\",                        [{\"alignmentgroup\":\"True\",\"hovertemplate\":\"Category=%{x}\\u003cbr\\u003eCounts=%{text}\\u003cextra\\u003e\\u003c\\u002fextra\\u003e\",\"legendgroup\":\"\",\"marker\":{\"color\":\"#636efa\",\"pattern\":{\"shape\":\"\"}},\"name\":\"\",\"offsetgroup\":\"\",\"orientation\":\"v\",\"showlegend\":false,\"text\":[471593.0,78583.0],\"textposition\":\"outside\",\"x\":[\"Powder\",\"Liquid\"],\"xaxis\":\"x\",\"y\":[471593,78583],\"yaxis\":\"y\",\"type\":\"bar\",\"texttemplate\":\"%{text:.2s}\"}],                        {\"template\":{\"data\":{\"histogram2dcontour\":[{\"type\":\"histogram2dcontour\",\"colorbar\":{\"outlinewidth\":0,\"ticks\":\"\"},\"colorscale\":[[0.0,\"#0d0887\"],[0.1111111111111111,\"#46039f\"],[0.2222222222222222,\"#7201a8\"],[0.3333333333333333,\"#9c179e\"],[0.4444444444444444,\"#bd3786\"],[0.5555555555555556,\"#d8576b\"],[0.6666666666666666,\"#ed7953\"],[0.7777777777777778,\"#fb9f3a\"],[0.8888888888888888,\"#fdca26\"],[1.0,\"#f0f921\"]]}],\"choropleth\":[{\"type\":\"choropleth\",\"colorbar\":{\"outlinewidth\":0,\"ticks\":\"\"}}],\"histogram2d\":[{\"type\":\"histogram2d\",\"colorbar\":{\"outlinewidth\":0,\"ticks\":\"\"},\"colorscale\":[[0.0,\"#0d0887\"],[0.1111111111111111,\"#46039f\"],[0.2222222222222222,\"#7201a8\"],[0.3333333333333333,\"#9c179e\"],[0.4444444444444444,\"#bd3786\"],[0.5555555555555556,\"#d8576b\"],[0.6666666666666666,\"#ed7953\"],[0.7777777777777778,\"#fb9f3a\"],[0.8888888888888888,\"#fdca26\"],[1.0,\"#f0f921\"]]}],\"heatmap\":[{\"type\":\"heatmap\",\"colorbar\":{\"outlinewidth\":0,\"ticks\":\"\"},\"colorscale\":[[0.0,\"#0d0887\"],[0.1111111111111111,\"#46039f\"],[0.2222222222222222,\"#7201a8\"],[0.3333333333333333,\"#9c179e\"],[0.4444444444444444,\"#bd3786\"],[0.5555555555555556,\"#d8576b\"],[0.6666666666666666,\"#ed7953\"],[0.7777777777777778,\"#fb9f3a\"],[0.8888888888888888,\"#fdca26\"],[1.0,\"#f0f921\"]]}],\"heatmapgl\":[{\"type\":\"heatmapgl\",\"colorbar\":{\"outlinewidth\":0,\"ticks\":\"\"},\"colorscale\":[[0.0,\"#0d0887\"],[0.1111111111111111,\"#46039f\"],[0.2222222222222222,\"#7201a8\"],[0.3333333333333333,\"#9c179e\"],[0.4444444444444444,\"#bd3786\"],[0.5555555555555556,\"#d8576b\"],[0.6666666666666666,\"#ed7953\"],[0.7777777777777778,\"#fb9f3a\"],[0.8888888888888888,\"#fdca26\"],[1.0,\"#f0f921\"]]}],\"contourcarpet\":[{\"type\":\"contourcarpet\",\"colorbar\":{\"outlinewidth\":0,\"ticks\":\"\"}}],\"contour\":[{\"type\":\"contour\",\"colorbar\":{\"outlinewidth\":0,\"ticks\":\"\"},\"colorscale\":[[0.0,\"#0d0887\"],[0.1111111111111111,\"#46039f\"],[0.2222222222222222,\"#7201a8\"],[0.3333333333333333,\"#9c179e\"],[0.4444444444444444,\"#bd3786\"],[0.5555555555555556,\"#d8576b\"],[0.6666666666666666,\"#ed7953\"],[0.7777777777777778,\"#fb9f3a\"],[0.8888888888888888,\"#fdca26\"],[1.0,\"#f0f921\"]]}],\"surface\":[{\"type\":\"surface\",\"colorbar\":{\"outlinewidth\":0,\"ticks\":\"\"},\"colorscale\":[[0.0,\"#0d0887\"],[0.1111111111111111,\"#46039f\"],[0.2222222222222222,\"#7201a8\"],[0.3333333333333333,\"#9c179e\"],[0.4444444444444444,\"#bd3786\"],[0.5555555555555556,\"#d8576b\"],[0.6666666666666666,\"#ed7953\"],[0.7777777777777778,\"#fb9f3a\"],[0.8888888888888888,\"#fdca26\"],[1.0,\"#f0f921\"]]}],\"mesh3d\":[{\"type\":\"mesh3d\",\"colorbar\":{\"outlinewidth\":0,\"ticks\":\"\"}}],\"scatter\":[{\"fillpattern\":{\"fillmode\":\"overlay\",\"size\":10,\"solidity\":0.2},\"type\":\"scatter\"}],\"parcoords\":[{\"type\":\"parcoords\",\"line\":{\"colorbar\":{\"outlinewidth\":0,\"ticks\":\"\"}}}],\"scatterpolargl\":[{\"type\":\"scatterpolargl\",\"marker\":{\"colorbar\":{\"outlinewidth\":0,\"ticks\":\"\"}}}],\"bar\":[{\"error_x\":{\"color\":\"#2a3f5f\"},\"error_y\":{\"color\":\"#2a3f5f\"},\"marker\":{\"line\":{\"color\":\"#E5ECF6\",\"width\":0.5},\"pattern\":{\"fillmode\":\"overlay\",\"size\":10,\"solidity\":0.2}},\"type\":\"bar\"}],\"scattergeo\":[{\"type\":\"scattergeo\",\"marker\":{\"colorbar\":{\"outlinewidth\":0,\"ticks\":\"\"}}}],\"scatterpolar\":[{\"type\":\"scatterpolar\",\"marker\":{\"colorbar\":{\"outlinewidth\":0,\"ticks\":\"\"}}}],\"histogram\":[{\"marker\":{\"pattern\":{\"fillmode\":\"overlay\",\"size\":10,\"solidity\":0.2}},\"type\":\"histogram\"}],\"scattergl\":[{\"type\":\"scattergl\",\"marker\":{\"colorbar\":{\"outlinewidth\":0,\"ticks\":\"\"}}}],\"scatter3d\":[{\"type\":\"scatter3d\",\"line\":{\"colorbar\":{\"outlinewidth\":0,\"ticks\":\"\"}},\"marker\":{\"colorbar\":{\"outlinewidth\":0,\"ticks\":\"\"}}}],\"scattermapbox\":[{\"type\":\"scattermapbox\",\"marker\":{\"colorbar\":{\"outlinewidth\":0,\"ticks\":\"\"}}}],\"scatterternary\":[{\"type\":\"scatterternary\",\"marker\":{\"colorbar\":{\"outlinewidth\":0,\"ticks\":\"\"}}}],\"scattercarpet\":[{\"type\":\"scattercarpet\",\"marker\":{\"colorbar\":{\"outlinewidth\":0,\"ticks\":\"\"}}}],\"carpet\":[{\"aaxis\":{\"endlinecolor\":\"#2a3f5f\",\"gridcolor\":\"white\",\"linecolor\":\"white\",\"minorgridcolor\":\"white\",\"startlinecolor\":\"#2a3f5f\"},\"baxis\":{\"endlinecolor\":\"#2a3f5f\",\"gridcolor\":\"white\",\"linecolor\":\"white\",\"minorgridcolor\":\"white\",\"startlinecolor\":\"#2a3f5f\"},\"type\":\"carpet\"}],\"table\":[{\"cells\":{\"fill\":{\"color\":\"#EBF0F8\"},\"line\":{\"color\":\"white\"}},\"header\":{\"fill\":{\"color\":\"#C8D4E3\"},\"line\":{\"color\":\"white\"}},\"type\":\"table\"}],\"barpolar\":[{\"marker\":{\"line\":{\"color\":\"#E5ECF6\",\"width\":0.5},\"pattern\":{\"fillmode\":\"overlay\",\"size\":10,\"solidity\":0.2}},\"type\":\"barpolar\"}],\"pie\":[{\"automargin\":true,\"type\":\"pie\"}]},\"layout\":{\"autotypenumbers\":\"strict\",\"colorway\":[\"#636efa\",\"#EF553B\",\"#00cc96\",\"#ab63fa\",\"#FFA15A\",\"#19d3f3\",\"#FF6692\",\"#B6E880\",\"#FF97FF\",\"#FECB52\"],\"font\":{\"color\":\"#2a3f5f\"},\"hovermode\":\"closest\",\"hoverlabel\":{\"align\":\"left\"},\"paper_bgcolor\":\"white\",\"plot_bgcolor\":\"#E5ECF6\",\"polar\":{\"bgcolor\":\"#E5ECF6\",\"angularaxis\":{\"gridcolor\":\"white\",\"linecolor\":\"white\",\"ticks\":\"\"},\"radialaxis\":{\"gridcolor\":\"white\",\"linecolor\":\"white\",\"ticks\":\"\"}},\"ternary\":{\"bgcolor\":\"#E5ECF6\",\"aaxis\":{\"gridcolor\":\"white\",\"linecolor\":\"white\",\"ticks\":\"\"},\"baxis\":{\"gridcolor\":\"white\",\"linecolor\":\"white\",\"ticks\":\"\"},\"caxis\":{\"gridcolor\":\"white\",\"linecolor\":\"white\",\"ticks\":\"\"}},\"coloraxis\":{\"colorbar\":{\"outlinewidth\":0,\"ticks\":\"\"}},\"colorscale\":{\"sequential\":[[0.0,\"#0d0887\"],[0.1111111111111111,\"#46039f\"],[0.2222222222222222,\"#7201a8\"],[0.3333333333333333,\"#9c179e\"],[0.4444444444444444,\"#bd3786\"],[0.5555555555555556,\"#d8576b\"],[0.6666666666666666,\"#ed7953\"],[0.7777777777777778,\"#fb9f3a\"],[0.8888888888888888,\"#fdca26\"],[1.0,\"#f0f921\"]],\"sequentialminus\":[[0.0,\"#0d0887\"],[0.1111111111111111,\"#46039f\"],[0.2222222222222222,\"#7201a8\"],[0.3333333333333333,\"#9c179e\"],[0.4444444444444444,\"#bd3786\"],[0.5555555555555556,\"#d8576b\"],[0.6666666666666666,\"#ed7953\"],[0.7777777777777778,\"#fb9f3a\"],[0.8888888888888888,\"#fdca26\"],[1.0,\"#f0f921\"]],\"diverging\":[[0,\"#8e0152\"],[0.1,\"#c51b7d\"],[0.2,\"#de77ae\"],[0.3,\"#f1b6da\"],[0.4,\"#fde0ef\"],[0.5,\"#f7f7f7\"],[0.6,\"#e6f5d0\"],[0.7,\"#b8e186\"],[0.8,\"#7fbc41\"],[0.9,\"#4d9221\"],[1,\"#276419\"]]},\"xaxis\":{\"gridcolor\":\"white\",\"linecolor\":\"white\",\"ticks\":\"\",\"title\":{\"standoff\":15},\"zerolinecolor\":\"white\",\"automargin\":true,\"zerolinewidth\":2},\"yaxis\":{\"gridcolor\":\"white\",\"linecolor\":\"white\",\"ticks\":\"\",\"title\":{\"standoff\":15},\"zerolinecolor\":\"white\",\"automargin\":true,\"zerolinewidth\":2},\"scene\":{\"xaxis\":{\"backgroundcolor\":\"#E5ECF6\",\"gridcolor\":\"white\",\"linecolor\":\"white\",\"showbackground\":true,\"ticks\":\"\",\"zerolinecolor\":\"white\",\"gridwidth\":2},\"yaxis\":{\"backgroundcolor\":\"#E5ECF6\",\"gridcolor\":\"white\",\"linecolor\":\"white\",\"showbackground\":true,\"ticks\":\"\",\"zerolinecolor\":\"white\",\"gridwidth\":2},\"zaxis\":{\"backgroundcolor\":\"#E5ECF6\",\"gridcolor\":\"white\",\"linecolor\":\"white\",\"showbackground\":true,\"ticks\":\"\",\"zerolinecolor\":\"white\",\"gridwidth\":2}},\"shapedefaults\":{\"line\":{\"color\":\"#2a3f5f\"}},\"annotationdefaults\":{\"arrowcolor\":\"#2a3f5f\",\"arrowhead\":0,\"arrowwidth\":1},\"geo\":{\"bgcolor\":\"white\",\"landcolor\":\"#E5ECF6\",\"subunitcolor\":\"white\",\"showland\":true,\"showlakes\":true,\"lakecolor\":\"white\"},\"title\":{\"x\":0.05},\"mapbox\":{\"style\":\"light\"}}},\"xaxis\":{\"anchor\":\"y\",\"domain\":[0.0,1.0],\"title\":{\"text\":\"Product Type\"},\"tickangle\":-45},\"yaxis\":{\"anchor\":\"x\",\"domain\":[0.0,1.0],\"title\":{\"text\":\"Counts\"}},\"legend\":{\"tracegroupgap\":0},\"title\":{\"text\":\"Value Counts for Product Type\",\"y\":0.9,\"x\":0.5,\"xanchor\":\"center\",\"yanchor\":\"top\"},\"barmode\":\"relative\",\"height\":600,\"width\":1000},                        {\"responsive\": true}                    ).then(function(){\n",
       "                            \n",
       "var gd = document.getElementById('a9974458-2f6f-4df5-8285-ff920ca70c15');\n",
       "var x = new MutationObserver(function (mutations, observer) {{\n",
       "        var display = window.getComputedStyle(gd).display;\n",
       "        if (!display || display === 'none') {{\n",
       "            console.log([gd, 'removed!']);\n",
       "            Plotly.purge(gd);\n",
       "            observer.disconnect();\n",
       "        }}\n",
       "}});\n",
       "\n",
       "// Listen for the removal of the full notebook cells\n",
       "var notebookContainer = gd.closest('#notebook-container');\n",
       "if (notebookContainer) {{\n",
       "    x.observe(notebookContainer, {childList: true});\n",
       "}}\n",
       "\n",
       "// Listen for the clearing of the current output cell\n",
       "var outputEl = gd.closest('.output');\n",
       "if (outputEl) {{\n",
       "    x.observe(outputEl, {childList: true});\n",
       "}}\n",
       "\n",
       "                        })                };                });            </script>        </div>"
      ]
     },
     "metadata": {},
     "output_type": "display_data"
    }
   ],
   "source": [
    "plot_objects['Product Type'].show()  # Display the plot for Product Type"
   ]
  },
  {
   "cell_type": "markdown",
   "metadata": {},
   "source": [
    "<div class=\"alert alert-block alert-info\">\n",
    "    <strong>Product Type (Powder vs. Liquid) Distribution:</strong> <b>Powder</b> products significantly out<b>liquid products</b>, indicating a higher demand or production volume for powder-based items. Understanding the factors driving this preference can inform product development and marketing strategies.\n",
    "</div>\n"
   ]
  },
  {
   "cell_type": "code",
   "execution_count": 28,
   "metadata": {},
   "outputs": [
    {
     "data": {
      "application/vnd.plotly.v1+json": {
       "config": {
        "plotlyServerURL": "https://plot.ly"
       },
       "data": [
        {
         "alignmentgroup": "True",
         "hovertemplate": "Category=%{x}<br>Counts=%{text}<extra></extra>",
         "legendgroup": "",
         "marker": {
          "color": "#636efa",
          "pattern": {
           "shape": ""
          }
         },
         "name": "",
         "offsetgroup": "",
         "orientation": "v",
         "showlegend": false,
         "text": [
          60446,
          56643,
          53172,
          52752,
          52438,
          50844,
          50562,
          46215,
          43995,
          42469,
          40640
         ],
         "textposition": "outside",
         "texttemplate": "%{text:.2s}",
         "type": "bar",
         "x": [
          "2020-11-01T00:00:00",
          "2021-03-01T00:00:00",
          "2021-05-01T00:00:00",
          "2020-12-01T00:00:00",
          "2021-04-01T00:00:00",
          "2021-01-01T00:00:00",
          "2021-02-01T00:00:00",
          "2020-10-01T00:00:00",
          "2020-09-01T00:00:00",
          "2020-07-01T00:00:00",
          "2020-08-01T00:00:00"
         ],
         "xaxis": "x",
         "y": [
          60446,
          56643,
          53172,
          52752,
          52438,
          50844,
          50562,
          46215,
          43995,
          42469,
          40640
         ],
         "yaxis": "y"
        }
       ],
       "layout": {
        "barmode": "relative",
        "height": 600,
        "legend": {
         "tracegroupgap": 0
        },
        "template": {
         "data": {
          "bar": [
           {
            "error_x": {
             "color": "#2a3f5f"
            },
            "error_y": {
             "color": "#2a3f5f"
            },
            "marker": {
             "line": {
              "color": "#E5ECF6",
              "width": 0.5
             },
             "pattern": {
              "fillmode": "overlay",
              "size": 10,
              "solidity": 0.2
             }
            },
            "type": "bar"
           }
          ],
          "barpolar": [
           {
            "marker": {
             "line": {
              "color": "#E5ECF6",
              "width": 0.5
             },
             "pattern": {
              "fillmode": "overlay",
              "size": 10,
              "solidity": 0.2
             }
            },
            "type": "barpolar"
           }
          ],
          "carpet": [
           {
            "aaxis": {
             "endlinecolor": "#2a3f5f",
             "gridcolor": "white",
             "linecolor": "white",
             "minorgridcolor": "white",
             "startlinecolor": "#2a3f5f"
            },
            "baxis": {
             "endlinecolor": "#2a3f5f",
             "gridcolor": "white",
             "linecolor": "white",
             "minorgridcolor": "white",
             "startlinecolor": "#2a3f5f"
            },
            "type": "carpet"
           }
          ],
          "choropleth": [
           {
            "colorbar": {
             "outlinewidth": 0,
             "ticks": ""
            },
            "type": "choropleth"
           }
          ],
          "contour": [
           {
            "colorbar": {
             "outlinewidth": 0,
             "ticks": ""
            },
            "colorscale": [
             [
              0,
              "#0d0887"
             ],
             [
              0.1111111111111111,
              "#46039f"
             ],
             [
              0.2222222222222222,
              "#7201a8"
             ],
             [
              0.3333333333333333,
              "#9c179e"
             ],
             [
              0.4444444444444444,
              "#bd3786"
             ],
             [
              0.5555555555555556,
              "#d8576b"
             ],
             [
              0.6666666666666666,
              "#ed7953"
             ],
             [
              0.7777777777777778,
              "#fb9f3a"
             ],
             [
              0.8888888888888888,
              "#fdca26"
             ],
             [
              1,
              "#f0f921"
             ]
            ],
            "type": "contour"
           }
          ],
          "contourcarpet": [
           {
            "colorbar": {
             "outlinewidth": 0,
             "ticks": ""
            },
            "type": "contourcarpet"
           }
          ],
          "heatmap": [
           {
            "colorbar": {
             "outlinewidth": 0,
             "ticks": ""
            },
            "colorscale": [
             [
              0,
              "#0d0887"
             ],
             [
              0.1111111111111111,
              "#46039f"
             ],
             [
              0.2222222222222222,
              "#7201a8"
             ],
             [
              0.3333333333333333,
              "#9c179e"
             ],
             [
              0.4444444444444444,
              "#bd3786"
             ],
             [
              0.5555555555555556,
              "#d8576b"
             ],
             [
              0.6666666666666666,
              "#ed7953"
             ],
             [
              0.7777777777777778,
              "#fb9f3a"
             ],
             [
              0.8888888888888888,
              "#fdca26"
             ],
             [
              1,
              "#f0f921"
             ]
            ],
            "type": "heatmap"
           }
          ],
          "heatmapgl": [
           {
            "colorbar": {
             "outlinewidth": 0,
             "ticks": ""
            },
            "colorscale": [
             [
              0,
              "#0d0887"
             ],
             [
              0.1111111111111111,
              "#46039f"
             ],
             [
              0.2222222222222222,
              "#7201a8"
             ],
             [
              0.3333333333333333,
              "#9c179e"
             ],
             [
              0.4444444444444444,
              "#bd3786"
             ],
             [
              0.5555555555555556,
              "#d8576b"
             ],
             [
              0.6666666666666666,
              "#ed7953"
             ],
             [
              0.7777777777777778,
              "#fb9f3a"
             ],
             [
              0.8888888888888888,
              "#fdca26"
             ],
             [
              1,
              "#f0f921"
             ]
            ],
            "type": "heatmapgl"
           }
          ],
          "histogram": [
           {
            "marker": {
             "pattern": {
              "fillmode": "overlay",
              "size": 10,
              "solidity": 0.2
             }
            },
            "type": "histogram"
           }
          ],
          "histogram2d": [
           {
            "colorbar": {
             "outlinewidth": 0,
             "ticks": ""
            },
            "colorscale": [
             [
              0,
              "#0d0887"
             ],
             [
              0.1111111111111111,
              "#46039f"
             ],
             [
              0.2222222222222222,
              "#7201a8"
             ],
             [
              0.3333333333333333,
              "#9c179e"
             ],
             [
              0.4444444444444444,
              "#bd3786"
             ],
             [
              0.5555555555555556,
              "#d8576b"
             ],
             [
              0.6666666666666666,
              "#ed7953"
             ],
             [
              0.7777777777777778,
              "#fb9f3a"
             ],
             [
              0.8888888888888888,
              "#fdca26"
             ],
             [
              1,
              "#f0f921"
             ]
            ],
            "type": "histogram2d"
           }
          ],
          "histogram2dcontour": [
           {
            "colorbar": {
             "outlinewidth": 0,
             "ticks": ""
            },
            "colorscale": [
             [
              0,
              "#0d0887"
             ],
             [
              0.1111111111111111,
              "#46039f"
             ],
             [
              0.2222222222222222,
              "#7201a8"
             ],
             [
              0.3333333333333333,
              "#9c179e"
             ],
             [
              0.4444444444444444,
              "#bd3786"
             ],
             [
              0.5555555555555556,
              "#d8576b"
             ],
             [
              0.6666666666666666,
              "#ed7953"
             ],
             [
              0.7777777777777778,
              "#fb9f3a"
             ],
             [
              0.8888888888888888,
              "#fdca26"
             ],
             [
              1,
              "#f0f921"
             ]
            ],
            "type": "histogram2dcontour"
           }
          ],
          "mesh3d": [
           {
            "colorbar": {
             "outlinewidth": 0,
             "ticks": ""
            },
            "type": "mesh3d"
           }
          ],
          "parcoords": [
           {
            "line": {
             "colorbar": {
              "outlinewidth": 0,
              "ticks": ""
             }
            },
            "type": "parcoords"
           }
          ],
          "pie": [
           {
            "automargin": true,
            "type": "pie"
           }
          ],
          "scatter": [
           {
            "fillpattern": {
             "fillmode": "overlay",
             "size": 10,
             "solidity": 0.2
            },
            "type": "scatter"
           }
          ],
          "scatter3d": [
           {
            "line": {
             "colorbar": {
              "outlinewidth": 0,
              "ticks": ""
             }
            },
            "marker": {
             "colorbar": {
              "outlinewidth": 0,
              "ticks": ""
             }
            },
            "type": "scatter3d"
           }
          ],
          "scattercarpet": [
           {
            "marker": {
             "colorbar": {
              "outlinewidth": 0,
              "ticks": ""
             }
            },
            "type": "scattercarpet"
           }
          ],
          "scattergeo": [
           {
            "marker": {
             "colorbar": {
              "outlinewidth": 0,
              "ticks": ""
             }
            },
            "type": "scattergeo"
           }
          ],
          "scattergl": [
           {
            "marker": {
             "colorbar": {
              "outlinewidth": 0,
              "ticks": ""
             }
            },
            "type": "scattergl"
           }
          ],
          "scattermapbox": [
           {
            "marker": {
             "colorbar": {
              "outlinewidth": 0,
              "ticks": ""
             }
            },
            "type": "scattermapbox"
           }
          ],
          "scatterpolar": [
           {
            "marker": {
             "colorbar": {
              "outlinewidth": 0,
              "ticks": ""
             }
            },
            "type": "scatterpolar"
           }
          ],
          "scatterpolargl": [
           {
            "marker": {
             "colorbar": {
              "outlinewidth": 0,
              "ticks": ""
             }
            },
            "type": "scatterpolargl"
           }
          ],
          "scatterternary": [
           {
            "marker": {
             "colorbar": {
              "outlinewidth": 0,
              "ticks": ""
             }
            },
            "type": "scatterternary"
           }
          ],
          "surface": [
           {
            "colorbar": {
             "outlinewidth": 0,
             "ticks": ""
            },
            "colorscale": [
             [
              0,
              "#0d0887"
             ],
             [
              0.1111111111111111,
              "#46039f"
             ],
             [
              0.2222222222222222,
              "#7201a8"
             ],
             [
              0.3333333333333333,
              "#9c179e"
             ],
             [
              0.4444444444444444,
              "#bd3786"
             ],
             [
              0.5555555555555556,
              "#d8576b"
             ],
             [
              0.6666666666666666,
              "#ed7953"
             ],
             [
              0.7777777777777778,
              "#fb9f3a"
             ],
             [
              0.8888888888888888,
              "#fdca26"
             ],
             [
              1,
              "#f0f921"
             ]
            ],
            "type": "surface"
           }
          ],
          "table": [
           {
            "cells": {
             "fill": {
              "color": "#EBF0F8"
             },
             "line": {
              "color": "white"
             }
            },
            "header": {
             "fill": {
              "color": "#C8D4E3"
             },
             "line": {
              "color": "white"
             }
            },
            "type": "table"
           }
          ]
         },
         "layout": {
          "annotationdefaults": {
           "arrowcolor": "#2a3f5f",
           "arrowhead": 0,
           "arrowwidth": 1
          },
          "autotypenumbers": "strict",
          "coloraxis": {
           "colorbar": {
            "outlinewidth": 0,
            "ticks": ""
           }
          },
          "colorscale": {
           "diverging": [
            [
             0,
             "#8e0152"
            ],
            [
             0.1,
             "#c51b7d"
            ],
            [
             0.2,
             "#de77ae"
            ],
            [
             0.3,
             "#f1b6da"
            ],
            [
             0.4,
             "#fde0ef"
            ],
            [
             0.5,
             "#f7f7f7"
            ],
            [
             0.6,
             "#e6f5d0"
            ],
            [
             0.7,
             "#b8e186"
            ],
            [
             0.8,
             "#7fbc41"
            ],
            [
             0.9,
             "#4d9221"
            ],
            [
             1,
             "#276419"
            ]
           ],
           "sequential": [
            [
             0,
             "#0d0887"
            ],
            [
             0.1111111111111111,
             "#46039f"
            ],
            [
             0.2222222222222222,
             "#7201a8"
            ],
            [
             0.3333333333333333,
             "#9c179e"
            ],
            [
             0.4444444444444444,
             "#bd3786"
            ],
            [
             0.5555555555555556,
             "#d8576b"
            ],
            [
             0.6666666666666666,
             "#ed7953"
            ],
            [
             0.7777777777777778,
             "#fb9f3a"
            ],
            [
             0.8888888888888888,
             "#fdca26"
            ],
            [
             1,
             "#f0f921"
            ]
           ],
           "sequentialminus": [
            [
             0,
             "#0d0887"
            ],
            [
             0.1111111111111111,
             "#46039f"
            ],
            [
             0.2222222222222222,
             "#7201a8"
            ],
            [
             0.3333333333333333,
             "#9c179e"
            ],
            [
             0.4444444444444444,
             "#bd3786"
            ],
            [
             0.5555555555555556,
             "#d8576b"
            ],
            [
             0.6666666666666666,
             "#ed7953"
            ],
            [
             0.7777777777777778,
             "#fb9f3a"
            ],
            [
             0.8888888888888888,
             "#fdca26"
            ],
            [
             1,
             "#f0f921"
            ]
           ]
          },
          "colorway": [
           "#636efa",
           "#EF553B",
           "#00cc96",
           "#ab63fa",
           "#FFA15A",
           "#19d3f3",
           "#FF6692",
           "#B6E880",
           "#FF97FF",
           "#FECB52"
          ],
          "font": {
           "color": "#2a3f5f"
          },
          "geo": {
           "bgcolor": "white",
           "lakecolor": "white",
           "landcolor": "#E5ECF6",
           "showlakes": true,
           "showland": true,
           "subunitcolor": "white"
          },
          "hoverlabel": {
           "align": "left"
          },
          "hovermode": "closest",
          "mapbox": {
           "style": "light"
          },
          "paper_bgcolor": "white",
          "plot_bgcolor": "#E5ECF6",
          "polar": {
           "angularaxis": {
            "gridcolor": "white",
            "linecolor": "white",
            "ticks": ""
           },
           "bgcolor": "#E5ECF6",
           "radialaxis": {
            "gridcolor": "white",
            "linecolor": "white",
            "ticks": ""
           }
          },
          "scene": {
           "xaxis": {
            "backgroundcolor": "#E5ECF6",
            "gridcolor": "white",
            "gridwidth": 2,
            "linecolor": "white",
            "showbackground": true,
            "ticks": "",
            "zerolinecolor": "white"
           },
           "yaxis": {
            "backgroundcolor": "#E5ECF6",
            "gridcolor": "white",
            "gridwidth": 2,
            "linecolor": "white",
            "showbackground": true,
            "ticks": "",
            "zerolinecolor": "white"
           },
           "zaxis": {
            "backgroundcolor": "#E5ECF6",
            "gridcolor": "white",
            "gridwidth": 2,
            "linecolor": "white",
            "showbackground": true,
            "ticks": "",
            "zerolinecolor": "white"
           }
          },
          "shapedefaults": {
           "line": {
            "color": "#2a3f5f"
           }
          },
          "ternary": {
           "aaxis": {
            "gridcolor": "white",
            "linecolor": "white",
            "ticks": ""
           },
           "baxis": {
            "gridcolor": "white",
            "linecolor": "white",
            "ticks": ""
           },
           "bgcolor": "#E5ECF6",
           "caxis": {
            "gridcolor": "white",
            "linecolor": "white",
            "ticks": ""
           }
          },
          "title": {
           "x": 0.05
          },
          "xaxis": {
           "automargin": true,
           "gridcolor": "white",
           "linecolor": "white",
           "ticks": "",
           "title": {
            "standoff": 15
           },
           "zerolinecolor": "white",
           "zerolinewidth": 2
          },
          "yaxis": {
           "automargin": true,
           "gridcolor": "white",
           "linecolor": "white",
           "ticks": "",
           "title": {
            "standoff": 15
           },
           "zerolinecolor": "white",
           "zerolinewidth": 2
          }
         }
        },
        "title": {
         "text": "Value Counts for Month of Sourcing",
         "x": 0.5,
         "xanchor": "center",
         "y": 0.9,
         "yanchor": "top"
        },
        "width": 1000,
        "xaxis": {
         "anchor": "y",
         "domain": [
          0,
          1
         ],
         "tickangle": -45,
         "title": {
          "text": "Month of Sourcing"
         }
        },
        "yaxis": {
         "anchor": "x",
         "domain": [
          0,
          1
         ],
         "title": {
          "text": "Counts"
         }
        }
       }
      },
      "text/html": [
       "<div>                            <div id=\"7083a465-c512-4cd0-aa73-017530f98e70\" class=\"plotly-graph-div\" style=\"height:600px; width:1000px;\"></div>            <script type=\"text/javascript\">                require([\"plotly\"], function(Plotly) {                    window.PLOTLYENV=window.PLOTLYENV || {};                                    if (document.getElementById(\"7083a465-c512-4cd0-aa73-017530f98e70\")) {                    Plotly.newPlot(                        \"7083a465-c512-4cd0-aa73-017530f98e70\",                        [{\"alignmentgroup\":\"True\",\"hovertemplate\":\"Category=%{x}\\u003cbr\\u003eCounts=%{text}\\u003cextra\\u003e\\u003c\\u002fextra\\u003e\",\"legendgroup\":\"\",\"marker\":{\"color\":\"#636efa\",\"pattern\":{\"shape\":\"\"}},\"name\":\"\",\"offsetgroup\":\"\",\"orientation\":\"v\",\"showlegend\":false,\"text\":[60446.0,56643.0,53172.0,52752.0,52438.0,50844.0,50562.0,46215.0,43995.0,42469.0,40640.0],\"textposition\":\"outside\",\"x\":[\"2020-11-01T00:00:00\",\"2021-03-01T00:00:00\",\"2021-05-01T00:00:00\",\"2020-12-01T00:00:00\",\"2021-04-01T00:00:00\",\"2021-01-01T00:00:00\",\"2021-02-01T00:00:00\",\"2020-10-01T00:00:00\",\"2020-09-01T00:00:00\",\"2020-07-01T00:00:00\",\"2020-08-01T00:00:00\"],\"xaxis\":\"x\",\"y\":[60446,56643,53172,52752,52438,50844,50562,46215,43995,42469,40640],\"yaxis\":\"y\",\"type\":\"bar\",\"texttemplate\":\"%{text:.2s}\"}],                        {\"template\":{\"data\":{\"histogram2dcontour\":[{\"type\":\"histogram2dcontour\",\"colorbar\":{\"outlinewidth\":0,\"ticks\":\"\"},\"colorscale\":[[0.0,\"#0d0887\"],[0.1111111111111111,\"#46039f\"],[0.2222222222222222,\"#7201a8\"],[0.3333333333333333,\"#9c179e\"],[0.4444444444444444,\"#bd3786\"],[0.5555555555555556,\"#d8576b\"],[0.6666666666666666,\"#ed7953\"],[0.7777777777777778,\"#fb9f3a\"],[0.8888888888888888,\"#fdca26\"],[1.0,\"#f0f921\"]]}],\"choropleth\":[{\"type\":\"choropleth\",\"colorbar\":{\"outlinewidth\":0,\"ticks\":\"\"}}],\"histogram2d\":[{\"type\":\"histogram2d\",\"colorbar\":{\"outlinewidth\":0,\"ticks\":\"\"},\"colorscale\":[[0.0,\"#0d0887\"],[0.1111111111111111,\"#46039f\"],[0.2222222222222222,\"#7201a8\"],[0.3333333333333333,\"#9c179e\"],[0.4444444444444444,\"#bd3786\"],[0.5555555555555556,\"#d8576b\"],[0.6666666666666666,\"#ed7953\"],[0.7777777777777778,\"#fb9f3a\"],[0.8888888888888888,\"#fdca26\"],[1.0,\"#f0f921\"]]}],\"heatmap\":[{\"type\":\"heatmap\",\"colorbar\":{\"outlinewidth\":0,\"ticks\":\"\"},\"colorscale\":[[0.0,\"#0d0887\"],[0.1111111111111111,\"#46039f\"],[0.2222222222222222,\"#7201a8\"],[0.3333333333333333,\"#9c179e\"],[0.4444444444444444,\"#bd3786\"],[0.5555555555555556,\"#d8576b\"],[0.6666666666666666,\"#ed7953\"],[0.7777777777777778,\"#fb9f3a\"],[0.8888888888888888,\"#fdca26\"],[1.0,\"#f0f921\"]]}],\"heatmapgl\":[{\"type\":\"heatmapgl\",\"colorbar\":{\"outlinewidth\":0,\"ticks\":\"\"},\"colorscale\":[[0.0,\"#0d0887\"],[0.1111111111111111,\"#46039f\"],[0.2222222222222222,\"#7201a8\"],[0.3333333333333333,\"#9c179e\"],[0.4444444444444444,\"#bd3786\"],[0.5555555555555556,\"#d8576b\"],[0.6666666666666666,\"#ed7953\"],[0.7777777777777778,\"#fb9f3a\"],[0.8888888888888888,\"#fdca26\"],[1.0,\"#f0f921\"]]}],\"contourcarpet\":[{\"type\":\"contourcarpet\",\"colorbar\":{\"outlinewidth\":0,\"ticks\":\"\"}}],\"contour\":[{\"type\":\"contour\",\"colorbar\":{\"outlinewidth\":0,\"ticks\":\"\"},\"colorscale\":[[0.0,\"#0d0887\"],[0.1111111111111111,\"#46039f\"],[0.2222222222222222,\"#7201a8\"],[0.3333333333333333,\"#9c179e\"],[0.4444444444444444,\"#bd3786\"],[0.5555555555555556,\"#d8576b\"],[0.6666666666666666,\"#ed7953\"],[0.7777777777777778,\"#fb9f3a\"],[0.8888888888888888,\"#fdca26\"],[1.0,\"#f0f921\"]]}],\"surface\":[{\"type\":\"surface\",\"colorbar\":{\"outlinewidth\":0,\"ticks\":\"\"},\"colorscale\":[[0.0,\"#0d0887\"],[0.1111111111111111,\"#46039f\"],[0.2222222222222222,\"#7201a8\"],[0.3333333333333333,\"#9c179e\"],[0.4444444444444444,\"#bd3786\"],[0.5555555555555556,\"#d8576b\"],[0.6666666666666666,\"#ed7953\"],[0.7777777777777778,\"#fb9f3a\"],[0.8888888888888888,\"#fdca26\"],[1.0,\"#f0f921\"]]}],\"mesh3d\":[{\"type\":\"mesh3d\",\"colorbar\":{\"outlinewidth\":0,\"ticks\":\"\"}}],\"scatter\":[{\"fillpattern\":{\"fillmode\":\"overlay\",\"size\":10,\"solidity\":0.2},\"type\":\"scatter\"}],\"parcoords\":[{\"type\":\"parcoords\",\"line\":{\"colorbar\":{\"outlinewidth\":0,\"ticks\":\"\"}}}],\"scatterpolargl\":[{\"type\":\"scatterpolargl\",\"marker\":{\"colorbar\":{\"outlinewidth\":0,\"ticks\":\"\"}}}],\"bar\":[{\"error_x\":{\"color\":\"#2a3f5f\"},\"error_y\":{\"color\":\"#2a3f5f\"},\"marker\":{\"line\":{\"color\":\"#E5ECF6\",\"width\":0.5},\"pattern\":{\"fillmode\":\"overlay\",\"size\":10,\"solidity\":0.2}},\"type\":\"bar\"}],\"scattergeo\":[{\"type\":\"scattergeo\",\"marker\":{\"colorbar\":{\"outlinewidth\":0,\"ticks\":\"\"}}}],\"scatterpolar\":[{\"type\":\"scatterpolar\",\"marker\":{\"colorbar\":{\"outlinewidth\":0,\"ticks\":\"\"}}}],\"histogram\":[{\"marker\":{\"pattern\":{\"fillmode\":\"overlay\",\"size\":10,\"solidity\":0.2}},\"type\":\"histogram\"}],\"scattergl\":[{\"type\":\"scattergl\",\"marker\":{\"colorbar\":{\"outlinewidth\":0,\"ticks\":\"\"}}}],\"scatter3d\":[{\"type\":\"scatter3d\",\"line\":{\"colorbar\":{\"outlinewidth\":0,\"ticks\":\"\"}},\"marker\":{\"colorbar\":{\"outlinewidth\":0,\"ticks\":\"\"}}}],\"scattermapbox\":[{\"type\":\"scattermapbox\",\"marker\":{\"colorbar\":{\"outlinewidth\":0,\"ticks\":\"\"}}}],\"scatterternary\":[{\"type\":\"scatterternary\",\"marker\":{\"colorbar\":{\"outlinewidth\":0,\"ticks\":\"\"}}}],\"scattercarpet\":[{\"type\":\"scattercarpet\",\"marker\":{\"colorbar\":{\"outlinewidth\":0,\"ticks\":\"\"}}}],\"carpet\":[{\"aaxis\":{\"endlinecolor\":\"#2a3f5f\",\"gridcolor\":\"white\",\"linecolor\":\"white\",\"minorgridcolor\":\"white\",\"startlinecolor\":\"#2a3f5f\"},\"baxis\":{\"endlinecolor\":\"#2a3f5f\",\"gridcolor\":\"white\",\"linecolor\":\"white\",\"minorgridcolor\":\"white\",\"startlinecolor\":\"#2a3f5f\"},\"type\":\"carpet\"}],\"table\":[{\"cells\":{\"fill\":{\"color\":\"#EBF0F8\"},\"line\":{\"color\":\"white\"}},\"header\":{\"fill\":{\"color\":\"#C8D4E3\"},\"line\":{\"color\":\"white\"}},\"type\":\"table\"}],\"barpolar\":[{\"marker\":{\"line\":{\"color\":\"#E5ECF6\",\"width\":0.5},\"pattern\":{\"fillmode\":\"overlay\",\"size\":10,\"solidity\":0.2}},\"type\":\"barpolar\"}],\"pie\":[{\"automargin\":true,\"type\":\"pie\"}]},\"layout\":{\"autotypenumbers\":\"strict\",\"colorway\":[\"#636efa\",\"#EF553B\",\"#00cc96\",\"#ab63fa\",\"#FFA15A\",\"#19d3f3\",\"#FF6692\",\"#B6E880\",\"#FF97FF\",\"#FECB52\"],\"font\":{\"color\":\"#2a3f5f\"},\"hovermode\":\"closest\",\"hoverlabel\":{\"align\":\"left\"},\"paper_bgcolor\":\"white\",\"plot_bgcolor\":\"#E5ECF6\",\"polar\":{\"bgcolor\":\"#E5ECF6\",\"angularaxis\":{\"gridcolor\":\"white\",\"linecolor\":\"white\",\"ticks\":\"\"},\"radialaxis\":{\"gridcolor\":\"white\",\"linecolor\":\"white\",\"ticks\":\"\"}},\"ternary\":{\"bgcolor\":\"#E5ECF6\",\"aaxis\":{\"gridcolor\":\"white\",\"linecolor\":\"white\",\"ticks\":\"\"},\"baxis\":{\"gridcolor\":\"white\",\"linecolor\":\"white\",\"ticks\":\"\"},\"caxis\":{\"gridcolor\":\"white\",\"linecolor\":\"white\",\"ticks\":\"\"}},\"coloraxis\":{\"colorbar\":{\"outlinewidth\":0,\"ticks\":\"\"}},\"colorscale\":{\"sequential\":[[0.0,\"#0d0887\"],[0.1111111111111111,\"#46039f\"],[0.2222222222222222,\"#7201a8\"],[0.3333333333333333,\"#9c179e\"],[0.4444444444444444,\"#bd3786\"],[0.5555555555555556,\"#d8576b\"],[0.6666666666666666,\"#ed7953\"],[0.7777777777777778,\"#fb9f3a\"],[0.8888888888888888,\"#fdca26\"],[1.0,\"#f0f921\"]],\"sequentialminus\":[[0.0,\"#0d0887\"],[0.1111111111111111,\"#46039f\"],[0.2222222222222222,\"#7201a8\"],[0.3333333333333333,\"#9c179e\"],[0.4444444444444444,\"#bd3786\"],[0.5555555555555556,\"#d8576b\"],[0.6666666666666666,\"#ed7953\"],[0.7777777777777778,\"#fb9f3a\"],[0.8888888888888888,\"#fdca26\"],[1.0,\"#f0f921\"]],\"diverging\":[[0,\"#8e0152\"],[0.1,\"#c51b7d\"],[0.2,\"#de77ae\"],[0.3,\"#f1b6da\"],[0.4,\"#fde0ef\"],[0.5,\"#f7f7f7\"],[0.6,\"#e6f5d0\"],[0.7,\"#b8e186\"],[0.8,\"#7fbc41\"],[0.9,\"#4d9221\"],[1,\"#276419\"]]},\"xaxis\":{\"gridcolor\":\"white\",\"linecolor\":\"white\",\"ticks\":\"\",\"title\":{\"standoff\":15},\"zerolinecolor\":\"white\",\"automargin\":true,\"zerolinewidth\":2},\"yaxis\":{\"gridcolor\":\"white\",\"linecolor\":\"white\",\"ticks\":\"\",\"title\":{\"standoff\":15},\"zerolinecolor\":\"white\",\"automargin\":true,\"zerolinewidth\":2},\"scene\":{\"xaxis\":{\"backgroundcolor\":\"#E5ECF6\",\"gridcolor\":\"white\",\"linecolor\":\"white\",\"showbackground\":true,\"ticks\":\"\",\"zerolinecolor\":\"white\",\"gridwidth\":2},\"yaxis\":{\"backgroundcolor\":\"#E5ECF6\",\"gridcolor\":\"white\",\"linecolor\":\"white\",\"showbackground\":true,\"ticks\":\"\",\"zerolinecolor\":\"white\",\"gridwidth\":2},\"zaxis\":{\"backgroundcolor\":\"#E5ECF6\",\"gridcolor\":\"white\",\"linecolor\":\"white\",\"showbackground\":true,\"ticks\":\"\",\"zerolinecolor\":\"white\",\"gridwidth\":2}},\"shapedefaults\":{\"line\":{\"color\":\"#2a3f5f\"}},\"annotationdefaults\":{\"arrowcolor\":\"#2a3f5f\",\"arrowhead\":0,\"arrowwidth\":1},\"geo\":{\"bgcolor\":\"white\",\"landcolor\":\"#E5ECF6\",\"subunitcolor\":\"white\",\"showland\":true,\"showlakes\":true,\"lakecolor\":\"white\"},\"title\":{\"x\":0.05},\"mapbox\":{\"style\":\"light\"}}},\"xaxis\":{\"anchor\":\"y\",\"domain\":[0.0,1.0],\"title\":{\"text\":\"Month of Sourcing\"},\"tickangle\":-45},\"yaxis\":{\"anchor\":\"x\",\"domain\":[0.0,1.0],\"title\":{\"text\":\"Counts\"}},\"legend\":{\"tracegroupgap\":0},\"title\":{\"text\":\"Value Counts for Month of Sourcing\",\"y\":0.9,\"x\":0.5,\"xanchor\":\"center\",\"yanchor\":\"top\"},\"barmode\":\"relative\",\"height\":600,\"width\":1000},                        {\"responsive\": true}                    ).then(function(){\n",
       "                            \n",
       "var gd = document.getElementById('7083a465-c512-4cd0-aa73-017530f98e70');\n",
       "var x = new MutationObserver(function (mutations, observer) {{\n",
       "        var display = window.getComputedStyle(gd).display;\n",
       "        if (!display || display === 'none') {{\n",
       "            console.log([gd, 'removed!']);\n",
       "            Plotly.purge(gd);\n",
       "            observer.disconnect();\n",
       "        }}\n",
       "}});\n",
       "\n",
       "// Listen for the removal of the full notebook cells\n",
       "var notebookContainer = gd.closest('#notebook-container');\n",
       "if (notebookContainer) {{\n",
       "    x.observe(notebookContainer, {childList: true});\n",
       "}}\n",
       "\n",
       "// Listen for the clearing of the current output cell\n",
       "var outputEl = gd.closest('.output');\n",
       "if (outputEl) {{\n",
       "    x.observe(outputEl, {childList: true});\n",
       "}}\n",
       "\n",
       "                        })                };                });            </script>        </div>"
      ]
     },
     "metadata": {},
     "output_type": "display_data"
    }
   ],
   "source": [
    "plot_objects['Month of Sourcing'].show()  # Display the plot for Month of Sourcing"
   ]
  },
  {
   "cell_type": "markdown",
   "metadata": {},
   "source": [
    "<div class=\"alert alert-block alert-info\">\n",
    "    <strong>Month of Sourcing Distribution:</strong> The distribution of sourcing across months highlights fluctuations in sourcing activity over time. Peaks and troughs in counts can be analyzed in conjunction with external factors such as seasonal demand, economic conditions, or marketing campaigns to identify patterns and optimize sourcing strategies.\n",
    "</div>"
   ]
  },
  {
   "cell_type": "code",
   "execution_count": 29,
   "metadata": {},
   "outputs": [
    {
     "name": "stdout",
     "output_type": "stream",
     "text": [
      "<class 'pandas.core.frame.DataFrame'>\n",
      "RangeIndex: 550176 entries, 0 to 550175\n",
      "Data columns (total 10 columns):\n",
      " #   Column             Non-Null Count   Dtype         \n",
      "---  ------             --------------   -----         \n",
      " 0   ProductType        550176 non-null  object        \n",
      " 1   Manufacturer       550176 non-null  object        \n",
      " 2   Area Code          550176 non-null  object        \n",
      " 3   Sourcing Channel   550176 non-null  object        \n",
      " 4   Product Size       550176 non-null  object        \n",
      " 5   Product Type       550176 non-null  object        \n",
      " 6   Month of Sourcing  550176 non-null  datetime64[ns]\n",
      " 7   Sourcing Cost      550176 non-null  float64       \n",
      " 8   Year               550176 non-null  int64         \n",
      " 9   Month              550176 non-null  int64         \n",
      "dtypes: datetime64[ns](1), float64(1), int64(2), object(6)\n",
      "memory usage: 42.0+ MB\n"
     ]
    }
   ],
   "source": [
    "train_df.info()"
   ]
  },
  {
   "cell_type": "markdown",
   "metadata": {},
   "source": [
    "### <a id='toc2_1_5_'></a>[Extracting Quantity of the Different Products Combinations](#toc0_)"
   ]
  },
  {
   "cell_type": "markdown",
   "metadata": {},
   "source": [
    "#### <a id='toc2_1_5_1_'></a>[Unique Product Combinations over Product Type , Manufacturer , Area Code , Sourcing Channel , Product Size , Product Type (Powder vs. Liquid)](#toc0_)"
   ]
  },
  {
   "cell_type": "code",
   "execution_count": 30,
   "metadata": {},
   "outputs": [
    {
     "data": {
      "text/html": [
       "<div>\n",
       "<style scoped>\n",
       "    .dataframe tbody tr th:only-of-type {\n",
       "        vertical-align: middle;\n",
       "    }\n",
       "\n",
       "    .dataframe tbody tr th {\n",
       "        vertical-align: top;\n",
       "    }\n",
       "\n",
       "    .dataframe thead th {\n",
       "        text-align: right;\n",
       "    }\n",
       "</style>\n",
       "<table border=\"1\" class=\"dataframe\">\n",
       "  <thead>\n",
       "    <tr style=\"text-align: right;\">\n",
       "      <th></th>\n",
       "      <th>ProductType</th>\n",
       "      <th>Manufacturer</th>\n",
       "      <th>Area Code</th>\n",
       "      <th>Sourcing Channel</th>\n",
       "      <th>Product Size</th>\n",
       "      <th>Product Type</th>\n",
       "    </tr>\n",
       "  </thead>\n",
       "  <tbody>\n",
       "    <tr>\n",
       "      <th>0</th>\n",
       "      <td>NTM3</td>\n",
       "      <td>X1</td>\n",
       "      <td>A28</td>\n",
       "      <td>WHOLESALE</td>\n",
       "      <td>Large</td>\n",
       "      <td>Powder</td>\n",
       "    </tr>\n",
       "    <tr>\n",
       "      <th>1</th>\n",
       "      <td>NTM2</td>\n",
       "      <td>X1</td>\n",
       "      <td>A9</td>\n",
       "      <td>DIRECT</td>\n",
       "      <td>Large</td>\n",
       "      <td>Powder</td>\n",
       "    </tr>\n",
       "    <tr>\n",
       "      <th>2</th>\n",
       "      <td>NTM3</td>\n",
       "      <td>X2</td>\n",
       "      <td>A20</td>\n",
       "      <td>DIRECT</td>\n",
       "      <td>Large</td>\n",
       "      <td>Powder</td>\n",
       "    </tr>\n",
       "    <tr>\n",
       "      <th>3</th>\n",
       "      <td>NTM3</td>\n",
       "      <td>X1</td>\n",
       "      <td>A18</td>\n",
       "      <td>WHOLESALE</td>\n",
       "      <td>Small</td>\n",
       "      <td>Powder</td>\n",
       "    </tr>\n",
       "    <tr>\n",
       "      <th>4</th>\n",
       "      <td>NTM2</td>\n",
       "      <td>X1</td>\n",
       "      <td>A28</td>\n",
       "      <td>DIRECT</td>\n",
       "      <td>Large</td>\n",
       "      <td>Liquid</td>\n",
       "    </tr>\n",
       "    <tr>\n",
       "      <th>...</th>\n",
       "      <td>...</td>\n",
       "      <td>...</td>\n",
       "      <td>...</td>\n",
       "      <td>...</td>\n",
       "      <td>...</td>\n",
       "      <td>...</td>\n",
       "    </tr>\n",
       "    <tr>\n",
       "      <th>138809</th>\n",
       "      <td>NTM2</td>\n",
       "      <td>X1</td>\n",
       "      <td>A23</td>\n",
       "      <td>RETAIL</td>\n",
       "      <td>Large</td>\n",
       "      <td>Powder</td>\n",
       "    </tr>\n",
       "    <tr>\n",
       "      <th>138815</th>\n",
       "      <td>NTM1</td>\n",
       "      <td>X1</td>\n",
       "      <td>A3</td>\n",
       "      <td>DIRECT</td>\n",
       "      <td>Small</td>\n",
       "      <td>Powder</td>\n",
       "    </tr>\n",
       "    <tr>\n",
       "      <th>138819</th>\n",
       "      <td>NTM2</td>\n",
       "      <td>X1</td>\n",
       "      <td>A26</td>\n",
       "      <td>DIRECT</td>\n",
       "      <td>Small</td>\n",
       "      <td>Powder</td>\n",
       "    </tr>\n",
       "    <tr>\n",
       "      <th>138864</th>\n",
       "      <td>NTM1</td>\n",
       "      <td>X2</td>\n",
       "      <td>A42</td>\n",
       "      <td>DIRECT</td>\n",
       "      <td>Large</td>\n",
       "      <td>Powder</td>\n",
       "    </tr>\n",
       "    <tr>\n",
       "      <th>139034</th>\n",
       "      <td>NTM2</td>\n",
       "      <td>X1</td>\n",
       "      <td>A38</td>\n",
       "      <td>DIRECT</td>\n",
       "      <td>Small</td>\n",
       "      <td>Powder</td>\n",
       "    </tr>\n",
       "  </tbody>\n",
       "</table>\n",
       "<p>96 rows × 6 columns</p>\n",
       "</div>"
      ],
      "text/plain": [
       "       ProductType Manufacturer Area Code Sourcing Channel Product Size  \\\n",
       "0             NTM3           X1       A28        WHOLESALE        Large   \n",
       "1             NTM2           X1        A9           DIRECT        Large   \n",
       "2             NTM3           X2       A20           DIRECT        Large   \n",
       "3             NTM3           X1       A18        WHOLESALE        Small   \n",
       "4             NTM2           X1       A28           DIRECT        Large   \n",
       "...            ...          ...       ...              ...          ...   \n",
       "138809        NTM2           X1       A23           RETAIL        Large   \n",
       "138815        NTM1           X1        A3           DIRECT        Small   \n",
       "138819        NTM2           X1       A26           DIRECT        Small   \n",
       "138864        NTM1           X2       A42           DIRECT        Large   \n",
       "139034        NTM2           X1       A38           DIRECT        Small   \n",
       "\n",
       "       Product Type  \n",
       "0            Powder  \n",
       "1            Powder  \n",
       "2            Powder  \n",
       "3            Powder  \n",
       "4            Liquid  \n",
       "...             ...  \n",
       "138809       Powder  \n",
       "138815       Powder  \n",
       "138819       Powder  \n",
       "138864       Powder  \n",
       "139034       Powder  \n",
       "\n",
       "[96 rows x 6 columns]"
      ]
     },
     "execution_count": 30,
     "metadata": {},
     "output_type": "execute_result"
    }
   ],
   "source": [
    "grouping_columns_unique = ['ProductType', 'Manufacturer', 'Area Code', 'Sourcing Channel', \n",
    "                    'Product Size', 'Product Type']\n",
    "\n",
    "\n",
    "import pandas as pd\n",
    "\n",
    "unique_combinations = train_df[grouping_columns_unique].drop_duplicates()\n",
    "unique_combinations"
   ]
  },
  {
   "cell_type": "markdown",
   "metadata": {},
   "source": [
    "<div class=\"alert alert-block alert-warning\">\n",
    "    <strong>Insights:</strong> The unique product combinations provide a comprehensive view of the market landscape, highlighting the diversity of offerings across different categories. Analyzing the distribution of these combinations can reveal patterns in consumer preferences, market trends, and strategic opportunities for product development and marketing.<br>\n",
    "    Also the test data has exact same unique product combinations which are equal to <b>96</b> as the training data mean the model can be trained on the training data and tested on the test data.\n",
    "</div>"
   ]
  },
  {
   "cell_type": "markdown",
   "metadata": {},
   "source": [
    "#### <a id='toc2_1_5_2_'></a>[All combination line plot over months for Quantity and Sourcing Cost](#toc0_)"
   ]
  },
  {
   "cell_type": "code",
   "execution_count": 31,
   "metadata": {},
   "outputs": [
    {
     "name": "stdout",
     "output_type": "stream",
     "text": [
      "<class 'pandas.core.frame.DataFrame'>\n",
      "RangeIndex: 1021 entries, 0 to 1020\n",
      "Data columns (total 11 columns):\n",
      " #   Column             Non-Null Count  Dtype  \n",
      "---  ------             --------------  -----  \n",
      " 0   ProductType        1021 non-null   object \n",
      " 1   Manufacturer       1021 non-null   object \n",
      " 2   Area Code          1021 non-null   object \n",
      " 3   Sourcing Channel   1021 non-null   object \n",
      " 4   Product Size       1021 non-null   object \n",
      " 5   Product Type       1021 non-null   object \n",
      " 6   Month of Sourcing  1021 non-null   object \n",
      " 7   Sourcing Cost      1021 non-null   float64\n",
      " 8   Year               1021 non-null   int64  \n",
      " 9   Month              1021 non-null   int64  \n",
      " 10  Quantity           1021 non-null   int64  \n",
      "dtypes: float64(1), int64(3), object(7)\n",
      "memory usage: 87.9+ KB\n"
     ]
    }
   ],
   "source": [
    "data2 = pd.read_csv(\"train_df_quantify.csv\") \n",
    "\n",
    "\n",
    "data2.info()"
   ]
  },
  {
   "cell_type": "code",
   "execution_count": 32,
   "metadata": {},
   "outputs": [
    {
     "data": {
      "text/html": [
       "<div>\n",
       "<style scoped>\n",
       "    .dataframe tbody tr th:only-of-type {\n",
       "        vertical-align: middle;\n",
       "    }\n",
       "\n",
       "    .dataframe tbody tr th {\n",
       "        vertical-align: top;\n",
       "    }\n",
       "\n",
       "    .dataframe thead th {\n",
       "        text-align: right;\n",
       "    }\n",
       "</style>\n",
       "<table border=\"1\" class=\"dataframe\">\n",
       "  <thead>\n",
       "    <tr style=\"text-align: right;\">\n",
       "      <th></th>\n",
       "      <th>ProductType</th>\n",
       "      <th>Manufacturer</th>\n",
       "      <th>Area Code</th>\n",
       "      <th>Sourcing Channel</th>\n",
       "      <th>Product Size</th>\n",
       "      <th>Product Type</th>\n",
       "      <th>Month of Sourcing</th>\n",
       "      <th>Sourcing Cost</th>\n",
       "      <th>Year</th>\n",
       "      <th>Month</th>\n",
       "      <th>Quantity</th>\n",
       "    </tr>\n",
       "  </thead>\n",
       "  <tbody>\n",
       "    <tr>\n",
       "      <th>0</th>\n",
       "      <td>NTM3</td>\n",
       "      <td>X1</td>\n",
       "      <td>A28</td>\n",
       "      <td>WHOLESALE</td>\n",
       "      <td>Large</td>\n",
       "      <td>Powder</td>\n",
       "      <td>2021-05-01</td>\n",
       "      <td>10.158</td>\n",
       "      <td>2021</td>\n",
       "      <td>5</td>\n",
       "      <td>79</td>\n",
       "    </tr>\n",
       "    <tr>\n",
       "      <th>1</th>\n",
       "      <td>NTM2</td>\n",
       "      <td>X1</td>\n",
       "      <td>A9</td>\n",
       "      <td>DIRECT</td>\n",
       "      <td>Large</td>\n",
       "      <td>Powder</td>\n",
       "      <td>2020-10-01</td>\n",
       "      <td>134.281</td>\n",
       "      <td>2020</td>\n",
       "      <td>10</td>\n",
       "      <td>135</td>\n",
       "    </tr>\n",
       "    <tr>\n",
       "      <th>2</th>\n",
       "      <td>NTM3</td>\n",
       "      <td>X2</td>\n",
       "      <td>A20</td>\n",
       "      <td>DIRECT</td>\n",
       "      <td>Large</td>\n",
       "      <td>Powder</td>\n",
       "      <td>2020-12-01</td>\n",
       "      <td>12.456</td>\n",
       "      <td>2020</td>\n",
       "      <td>12</td>\n",
       "      <td>197</td>\n",
       "    </tr>\n",
       "    <tr>\n",
       "      <th>3</th>\n",
       "      <td>NTM3</td>\n",
       "      <td>X1</td>\n",
       "      <td>A18</td>\n",
       "      <td>WHOLESALE</td>\n",
       "      <td>Small</td>\n",
       "      <td>Powder</td>\n",
       "      <td>2021-02-01</td>\n",
       "      <td>107.220</td>\n",
       "      <td>2021</td>\n",
       "      <td>2</td>\n",
       "      <td>768</td>\n",
       "    </tr>\n",
       "    <tr>\n",
       "      <th>4</th>\n",
       "      <td>NTM2</td>\n",
       "      <td>X1</td>\n",
       "      <td>A28</td>\n",
       "      <td>DIRECT</td>\n",
       "      <td>Large</td>\n",
       "      <td>Liquid</td>\n",
       "      <td>2020-11-01</td>\n",
       "      <td>197.763</td>\n",
       "      <td>2020</td>\n",
       "      <td>11</td>\n",
       "      <td>271</td>\n",
       "    </tr>\n",
       "  </tbody>\n",
       "</table>\n",
       "</div>"
      ],
      "text/plain": [
       "  ProductType Manufacturer Area Code Sourcing Channel Product Size  \\\n",
       "0        NTM3           X1       A28        WHOLESALE        Large   \n",
       "1        NTM2           X1        A9           DIRECT        Large   \n",
       "2        NTM3           X2       A20           DIRECT        Large   \n",
       "3        NTM3           X1       A18        WHOLESALE        Small   \n",
       "4        NTM2           X1       A28           DIRECT        Large   \n",
       "\n",
       "  Product Type Month of Sourcing  Sourcing Cost  Year  Month  Quantity  \n",
       "0       Powder        2021-05-01         10.158  2021      5        79  \n",
       "1       Powder        2020-10-01        134.281  2020     10       135  \n",
       "2       Powder        2020-12-01         12.456  2020     12       197  \n",
       "3       Powder        2021-02-01        107.220  2021      2       768  \n",
       "4       Liquid        2020-11-01        197.763  2020     11       271  "
      ]
     },
     "execution_count": 32,
     "metadata": {},
     "output_type": "execute_result"
    }
   ],
   "source": [
    "data2.head()"
   ]
  },
  {
   "cell_type": "code",
   "execution_count": 33,
   "metadata": {},
   "outputs": [],
   "source": [
    "df = data2"
   ]
  },
  {
   "cell_type": "code",
   "execution_count": 34,
   "metadata": {},
   "outputs": [
    {
     "data": {
      "application/vnd.plotly.v1+json": {
       "config": {
        "plotlyServerURL": "https://plot.ly"
       },
       "data": [
        {
         "mode": "lines+markers",
         "name": "NTM1 - X1 - A1 - DIRECT - Small - Powder - Sourcing Cost",
         "text": [
          "114.349",
          "80.803",
          "108.227",
          "58.333",
          "110.675",
          "114.899",
          "114.898",
          "46.581",
          "112.002",
          "57.058",
          "114.096"
         ],
         "textposition": "top center",
         "type": "scatter",
         "x": [
          "July",
          "August",
          "September",
          "October",
          "November",
          "December",
          "January",
          "February",
          "March",
          "April",
          "May"
         ],
         "y": [
          114.349,
          80.803,
          108.227,
          58.333,
          110.675,
          114.899,
          114.898,
          46.581,
          112.002,
          57.058,
          114.096
         ]
        },
        {
         "mode": "lines+markers",
         "name": "NTM1 - X1 - A1 - DIRECT - Small - Powder - Quantity",
         "text": [
          "1604",
          "1447",
          "1219",
          "1627",
          "1098",
          "1253",
          "1208",
          "741",
          "1017",
          "633",
          "829"
         ],
         "textposition": "top center",
         "type": "scatter",
         "x": [
          "July",
          "August",
          "September",
          "October",
          "November",
          "December",
          "January",
          "February",
          "March",
          "April",
          "May"
         ],
         "y": [
          1604,
          1447,
          1219,
          1627,
          1098,
          1253,
          1208,
          741,
          1017,
          633,
          829
         ]
        },
        {
         "mode": "lines+markers",
         "name": "NTM1 - X1 - A10 - DIRECT - Large - Powder - Sourcing Cost",
         "text": [
          "135.291",
          "138.064",
          "137.932",
          "136.56",
          "138.953",
          "149.708",
          "164.333",
          "176.93",
          "147.209",
          "149.485",
          "156.789"
         ],
         "textposition": "top center",
         "type": "scatter",
         "x": [
          "July",
          "August",
          "September",
          "October",
          "November",
          "December",
          "January",
          "February",
          "March",
          "April",
          "May"
         ],
         "y": [
          135.291,
          138.064,
          137.932,
          136.56,
          138.953,
          149.708,
          164.333,
          176.93,
          147.209,
          149.485,
          156.789
         ]
        },
        {
         "mode": "lines+markers",
         "name": "NTM1 - X1 - A10 - DIRECT - Large - Powder - Quantity",
         "text": [
          "1109",
          "1041",
          "585",
          "403",
          "385",
          "304",
          "251",
          "391",
          "338",
          "431",
          "520"
         ],
         "textposition": "top center",
         "type": "scatter",
         "x": [
          "July",
          "August",
          "September",
          "October",
          "November",
          "December",
          "January",
          "February",
          "March",
          "April",
          "May"
         ],
         "y": [
          1109,
          1041,
          585,
          403,
          385,
          304,
          251,
          391,
          338,
          431,
          520
         ]
        },
        {
         "mode": "lines+markers",
         "name": "NTM1 - X1 - A10 - ECOM - Large - Powder - Sourcing Cost",
         "text": [
          "173.29",
          "145.677",
          "143.851",
          "148.065",
          "150.599",
          "149.624",
          "152.161",
          "149.964"
         ],
         "textposition": "top center",
         "type": "scatter",
         "x": [
          "September",
          "November",
          "December",
          "January",
          "February",
          "March",
          "April",
          "May"
         ],
         "y": [
          173.29,
          145.677,
          143.851,
          148.065,
          150.599,
          149.624,
          152.161,
          149.964
         ]
        },
        {
         "mode": "lines+markers",
         "name": "NTM1 - X1 - A10 - ECOM - Large - Powder - Quantity",
         "text": [
          "4",
          "90",
          "499",
          "451",
          "386",
          "420",
          "298",
          "172"
         ],
         "textposition": "top center",
         "type": "scatter",
         "x": [
          "September",
          "November",
          "December",
          "January",
          "February",
          "March",
          "April",
          "May"
         ],
         "y": [
          4,
          90,
          499,
          451,
          386,
          420,
          298,
          172
         ]
        },
        {
         "mode": "lines+markers",
         "name": "NTM1 - X1 - A11 - DIRECT - Large - Powder - Sourcing Cost",
         "text": [
          "131.363",
          "135.867",
          "140.337",
          "134.673",
          "147.244",
          "147.393",
          "142.904",
          "140.745",
          "144.754",
          "143.969",
          "144.373"
         ],
         "textposition": "top center",
         "type": "scatter",
         "x": [
          "July",
          "August",
          "September",
          "October",
          "November",
          "December",
          "January",
          "February",
          "March",
          "April",
          "May"
         ],
         "y": [
          131.363,
          135.867,
          140.337,
          134.673,
          147.244,
          147.393,
          142.904,
          140.745,
          144.754,
          143.969,
          144.373
         ]
        },
        {
         "mode": "lines+markers",
         "name": "NTM1 - X1 - A11 - DIRECT - Large - Powder - Quantity",
         "text": [
          "312",
          "206",
          "213",
          "1276",
          "1591",
          "1383",
          "1600",
          "1075",
          "1775",
          "1087",
          "1580"
         ],
         "textposition": "top center",
         "type": "scatter",
         "x": [
          "July",
          "August",
          "September",
          "October",
          "November",
          "December",
          "January",
          "February",
          "March",
          "April",
          "May"
         ],
         "y": [
          312,
          206,
          213,
          1276,
          1591,
          1383,
          1600,
          1075,
          1775,
          1087,
          1580
         ]
        },
        {
         "mode": "lines+markers",
         "name": "NTM1 - X1 - A2 - DIRECT - Large - Powder - Sourcing Cost",
         "text": [
          "156.951",
          "161.123",
          "157.858",
          "159.436",
          "120.682",
          "149.928",
          "173.44",
          "174.502",
          "171.28",
          "157.044",
          "158.528"
         ],
         "textposition": "top center",
         "type": "scatter",
         "x": [
          "July",
          "August",
          "September",
          "October",
          "November",
          "December",
          "January",
          "February",
          "March",
          "April",
          "May"
         ],
         "y": [
          156.951,
          161.123,
          157.858,
          159.436,
          120.682,
          149.928,
          173.44,
          174.502,
          171.28,
          157.044,
          158.528
         ]
        },
        {
         "mode": "lines+markers",
         "name": "NTM1 - X1 - A2 - DIRECT - Large - Powder - Quantity",
         "text": [
          "149",
          "244",
          "454",
          "244",
          "609",
          "525",
          "362",
          "474",
          "371",
          "390",
          "473"
         ],
         "textposition": "top center",
         "type": "scatter",
         "x": [
          "July",
          "August",
          "September",
          "October",
          "November",
          "December",
          "January",
          "February",
          "March",
          "April",
          "May"
         ],
         "y": [
          149,
          244,
          454,
          244,
          609,
          525,
          362,
          474,
          371,
          390,
          473
         ]
        },
        {
         "mode": "lines+markers",
         "name": "NTM1 - X1 - A2 - ECOM - Small - Powder - Sourcing Cost",
         "text": [
          "123.675",
          "173.159",
          "173.082",
          "174.994",
          "171.563",
          "175.446",
          "174.828"
         ],
         "textposition": "top center",
         "type": "scatter",
         "x": [
          "November",
          "December",
          "January",
          "February",
          "March",
          "April",
          "May"
         ],
         "y": [
          123.675,
          173.159,
          173.082,
          174.994,
          171.563,
          175.446,
          174.828
         ]
        },
        {
         "mode": "lines+markers",
         "name": "NTM1 - X1 - A2 - ECOM - Small - Powder - Quantity",
         "text": [
          "342",
          "507",
          "237",
          "294",
          "344",
          "251",
          "169"
         ],
         "textposition": "top center",
         "type": "scatter",
         "x": [
          "November",
          "December",
          "January",
          "February",
          "March",
          "April",
          "May"
         ],
         "y": [
          342,
          507,
          237,
          294,
          344,
          251,
          169
         ]
        },
        {
         "mode": "lines+markers",
         "name": "NTM1 - X1 - A28 - DIRECT - Small - Powder - Sourcing Cost",
         "text": [
          "0.0",
          "0.0",
          "0.0",
          "0.0",
          "49.936",
          "49.181",
          "49.004",
          "44.367",
          "48.88"
         ],
         "textposition": "top center",
         "type": "scatter",
         "x": [
          "August",
          "October",
          "November",
          "December",
          "January",
          "February",
          "March",
          "April",
          "May"
         ],
         "y": [
          0,
          0,
          0,
          0,
          49.936,
          49.181,
          49.004,
          44.367,
          48.88
         ]
        },
        {
         "mode": "lines+markers",
         "name": "NTM1 - X1 - A28 - DIRECT - Small - Powder - Quantity",
         "text": [
          "5",
          "45",
          "370",
          "50",
          "415",
          "363",
          "227",
          "263",
          "488"
         ],
         "textposition": "top center",
         "type": "scatter",
         "x": [
          "August",
          "October",
          "November",
          "December",
          "January",
          "February",
          "March",
          "April",
          "May"
         ],
         "y": [
          5,
          45,
          370,
          50,
          415,
          363,
          227,
          263,
          488
         ]
        },
        {
         "mode": "lines+markers",
         "name": "NTM1 - X1 - A29 - DIRECT - Small - Powder - Sourcing Cost",
         "text": [
          "56.52",
          "56.52",
          "56.519",
          "56.517",
          "56.519",
          "71.106",
          "772.44",
          "427.937",
          "108.33",
          "56.52",
          "56.52"
         ],
         "textposition": "top center",
         "type": "scatter",
         "x": [
          "July",
          "August",
          "September",
          "October",
          "November",
          "December",
          "January",
          "February",
          "March",
          "April",
          "May"
         ],
         "y": [
          56.52,
          56.52,
          56.519,
          56.517,
          56.519,
          71.106,
          772.44,
          427.937,
          108.33,
          56.52,
          56.52
         ]
        },
        {
         "mode": "lines+markers",
         "name": "NTM1 - X1 - A29 - DIRECT - Small - Powder - Quantity",
         "text": [
          "93",
          "55",
          "75",
          "40",
          "44",
          "65",
          "40",
          "56",
          "75",
          "107",
          "107"
         ],
         "textposition": "top center",
         "type": "scatter",
         "x": [
          "July",
          "August",
          "September",
          "October",
          "November",
          "December",
          "January",
          "February",
          "March",
          "April",
          "May"
         ],
         "y": [
          93,
          55,
          75,
          40,
          44,
          65,
          40,
          56,
          75,
          107,
          107
         ]
        },
        {
         "mode": "lines+markers",
         "name": "NTM1 - X1 - A3 - DIRECT - Large - Liquid - Sourcing Cost",
         "text": [
          "131.999",
          "136.031",
          "154.601",
          "135.764",
          "79.552",
          "143.641",
          "149.709",
          "147.696",
          "148.836",
          "149.416",
          "149.319"
         ],
         "textposition": "top center",
         "type": "scatter",
         "x": [
          "July",
          "August",
          "September",
          "October",
          "November",
          "December",
          "January",
          "February",
          "March",
          "April",
          "May"
         ],
         "y": [
          131.999,
          136.031,
          154.601,
          135.764,
          79.552,
          143.641,
          149.709,
          147.696,
          148.836,
          149.416,
          149.319
         ]
        },
        {
         "mode": "lines+markers",
         "name": "NTM1 - X1 - A3 - DIRECT - Large - Liquid - Quantity",
         "text": [
          "420",
          "371",
          "292",
          "502",
          "778",
          "468",
          "362",
          "556",
          "455",
          "592",
          "507"
         ],
         "textposition": "top center",
         "type": "scatter",
         "x": [
          "July",
          "August",
          "September",
          "October",
          "November",
          "December",
          "January",
          "February",
          "March",
          "April",
          "May"
         ],
         "y": [
          420,
          371,
          292,
          502,
          778,
          468,
          362,
          556,
          455,
          592,
          507
         ]
        },
        {
         "mode": "lines+markers",
         "name": "NTM1 - X1 - A3 - DIRECT - Large - Powder - Sourcing Cost",
         "text": [
          "134.215",
          "110.889",
          "135.236",
          "135.52",
          "139.093",
          "142.13",
          "135.386",
          "154.141",
          "149.552",
          "149.416",
          "149.996"
         ],
         "textposition": "top center",
         "type": "scatter",
         "x": [
          "July",
          "August",
          "September",
          "October",
          "November",
          "December",
          "January",
          "February",
          "March",
          "April",
          "May"
         ],
         "y": [
          134.215,
          110.889,
          135.236,
          135.52,
          139.093,
          142.13,
          135.386,
          154.141,
          149.552,
          149.416,
          149.996
         ]
        },
        {
         "mode": "lines+markers",
         "name": "NTM1 - X1 - A3 - DIRECT - Large - Powder - Quantity",
         "text": [
          "981",
          "1084",
          "761",
          "566",
          "821",
          "519",
          "491",
          "669",
          "612",
          "632",
          "792"
         ],
         "textposition": "top center",
         "type": "scatter",
         "x": [
          "July",
          "August",
          "September",
          "October",
          "November",
          "December",
          "January",
          "February",
          "March",
          "April",
          "May"
         ],
         "y": [
          981,
          1084,
          761,
          566,
          821,
          519,
          491,
          669,
          612,
          632,
          792
         ]
        },
        {
         "mode": "lines+markers",
         "name": "NTM1 - X1 - A3 - DIRECT - Small - Powder - Sourcing Cost",
         "text": [
          "131.999",
          "136.091",
          "135.235",
          "137.035",
          "138.158",
          "143.592",
          "149.149",
          "150.599",
          "147.202",
          "150.54",
          "148.568"
         ],
         "textposition": "top center",
         "type": "scatter",
         "x": [
          "July",
          "August",
          "September",
          "October",
          "November",
          "December",
          "January",
          "February",
          "March",
          "April",
          "May"
         ],
         "y": [
          131.999,
          136.091,
          135.235,
          137.035,
          138.158,
          143.592,
          149.149,
          150.599,
          147.202,
          150.54,
          148.568
         ]
        },
        {
         "mode": "lines+markers",
         "name": "NTM1 - X1 - A3 - DIRECT - Small - Powder - Quantity",
         "text": [
          "661",
          "440",
          "522",
          "419",
          "1313",
          "1089",
          "724",
          "888",
          "919",
          "1096",
          "1076"
         ],
         "textposition": "top center",
         "type": "scatter",
         "x": [
          "July",
          "August",
          "September",
          "October",
          "November",
          "December",
          "January",
          "February",
          "March",
          "April",
          "May"
         ],
         "y": [
          661,
          440,
          522,
          419,
          1313,
          1089,
          724,
          888,
          919,
          1096,
          1076
         ]
        },
        {
         "mode": "lines+markers",
         "name": "NTM1 - X1 - A33 - DIRECT - Large - Powder - Sourcing Cost",
         "text": [
          "133.635",
          "133.3",
          "133.3",
          "133.3",
          "133.3",
          "133.3",
          "150.289",
          "133.3",
          "133.3",
          "133.3",
          "133.303"
         ],
         "textposition": "top center",
         "type": "scatter",
         "x": [
          "July",
          "August",
          "September",
          "October",
          "November",
          "December",
          "January",
          "February",
          "March",
          "April",
          "May"
         ],
         "y": [
          133.635,
          133.3,
          133.3,
          133.3,
          133.3,
          133.3,
          150.289,
          133.3,
          133.3,
          133.3,
          133.303
         ]
        },
        {
         "mode": "lines+markers",
         "name": "NTM1 - X1 - A33 - DIRECT - Large - Powder - Quantity",
         "text": [
          "1114",
          "543",
          "457",
          "380",
          "6",
          "318",
          "230",
          "520",
          "467",
          "722",
          "1012"
         ],
         "textposition": "top center",
         "type": "scatter",
         "x": [
          "July",
          "August",
          "September",
          "October",
          "November",
          "December",
          "January",
          "February",
          "March",
          "April",
          "May"
         ],
         "y": [
          1114,
          543,
          457,
          380,
          6,
          318,
          230,
          520,
          467,
          722,
          1012
         ]
        },
        {
         "mode": "lines+markers",
         "name": "NTM1 - X1 - A34 - DIRECT - Small - Powder - Sourcing Cost",
         "text": [
          "95.0",
          "94.699",
          "95.0",
          "95.0",
          "95.0",
          "95.0",
          "91.95",
          "89.242",
          "95.0",
          "93.967",
          "95.0"
         ],
         "textposition": "top center",
         "type": "scatter",
         "x": [
          "July",
          "August",
          "September",
          "October",
          "November",
          "December",
          "January",
          "February",
          "March",
          "April",
          "May"
         ],
         "y": [
          95,
          94.699,
          95,
          95,
          95,
          95,
          91.95,
          89.242,
          95,
          93.967,
          95
         ]
        },
        {
         "mode": "lines+markers",
         "name": "NTM1 - X1 - A34 - DIRECT - Small - Powder - Quantity",
         "text": [
          "474",
          "612",
          "516",
          "323",
          "94",
          "208",
          "343",
          "209",
          "444",
          "414",
          "612"
         ],
         "textposition": "top center",
         "type": "scatter",
         "x": [
          "July",
          "August",
          "September",
          "October",
          "November",
          "December",
          "January",
          "February",
          "March",
          "April",
          "May"
         ],
         "y": [
          474,
          612,
          516,
          323,
          94,
          208,
          343,
          209,
          444,
          414,
          612
         ]
        },
        {
         "mode": "lines+markers",
         "name": "NTM1 - X1 - A4 - DIRECT - Large - Powder - Sourcing Cost",
         "text": [
          "137.457",
          "135.867",
          "134.369",
          "133.445",
          "138.165",
          "147.773",
          "141.906",
          "147.635",
          "141.583",
          "143.918",
          "144.391"
         ],
         "textposition": "top center",
         "type": "scatter",
         "x": [
          "July",
          "August",
          "September",
          "October",
          "November",
          "December",
          "January",
          "February",
          "March",
          "April",
          "May"
         ],
         "y": [
          137.457,
          135.867,
          134.369,
          133.445,
          138.165,
          147.773,
          141.906,
          147.635,
          141.583,
          143.918,
          144.391
         ]
        },
        {
         "mode": "lines+markers",
         "name": "NTM1 - X1 - A4 - DIRECT - Large - Powder - Quantity",
         "text": [
          "271",
          "324",
          "366",
          "305",
          "678",
          "560",
          "332",
          "168",
          "648",
          "279",
          "427"
         ],
         "textposition": "top center",
         "type": "scatter",
         "x": [
          "July",
          "August",
          "September",
          "October",
          "November",
          "December",
          "January",
          "February",
          "March",
          "April",
          "May"
         ],
         "y": [
          271,
          324,
          366,
          305,
          678,
          560,
          332,
          168,
          648,
          279,
          427
         ]
        },
        {
         "mode": "lines+markers",
         "name": "NTM1 - X1 - A6 - DIRECT - Large - Powder - Sourcing Cost",
         "text": [
          "132.119",
          "136.829",
          "135.457",
          "135.457",
          "138.701",
          "146.461",
          "146.614",
          "142.608",
          "143.919",
          "143.918",
          "137.724"
         ],
         "textposition": "top center",
         "type": "scatter",
         "x": [
          "July",
          "August",
          "September",
          "October",
          "November",
          "December",
          "January",
          "February",
          "March",
          "April",
          "May"
         ],
         "y": [
          132.119,
          136.829,
          135.457,
          135.457,
          138.701,
          146.461,
          146.614,
          142.608,
          143.919,
          143.918,
          137.724
         ]
        },
        {
         "mode": "lines+markers",
         "name": "NTM1 - X1 - A6 - DIRECT - Large - Powder - Quantity",
         "text": [
          "417",
          "306",
          "633",
          "404",
          "687",
          "208",
          "851",
          "983",
          "300",
          "716",
          "743"
         ],
         "textposition": "top center",
         "type": "scatter",
         "x": [
          "July",
          "August",
          "September",
          "October",
          "November",
          "December",
          "January",
          "February",
          "March",
          "April",
          "May"
         ],
         "y": [
          417,
          306,
          633,
          404,
          687,
          208,
          851,
          983,
          300,
          716,
          743
         ]
        },
        {
         "mode": "lines+markers",
         "name": "NTM1 - X1 - A7 - DIRECT - Large - Liquid - Sourcing Cost",
         "text": [
          "133.0",
          "136.09",
          "133.632",
          "136.02",
          "168.72",
          "151.616",
          "168.215",
          "149.566",
          "152.378",
          "141.22",
          "143.734"
         ],
         "textposition": "top center",
         "type": "scatter",
         "x": [
          "July",
          "August",
          "September",
          "October",
          "November",
          "December",
          "January",
          "February",
          "March",
          "April",
          "May"
         ],
         "y": [
          133,
          136.09,
          133.632,
          136.02,
          168.72,
          151.616,
          168.215,
          149.566,
          152.378,
          141.22,
          143.734
         ]
        },
        {
         "mode": "lines+markers",
         "name": "NTM1 - X1 - A7 - DIRECT - Large - Liquid - Quantity",
         "text": [
          "10",
          "7",
          "13",
          "21",
          "207",
          "208",
          "80",
          "214",
          "211",
          "275",
          "133"
         ],
         "textposition": "top center",
         "type": "scatter",
         "x": [
          "July",
          "August",
          "September",
          "October",
          "November",
          "December",
          "January",
          "February",
          "March",
          "April",
          "May"
         ],
         "y": [
          10,
          7,
          13,
          21,
          207,
          208,
          80,
          214,
          211,
          275,
          133
         ]
        },
        {
         "mode": "lines+markers",
         "name": "NTM1 - X1 - A7 - DIRECT - Large - Powder - Sourcing Cost",
         "text": [
          "133.002",
          "137.515",
          "133.632",
          "136.021",
          "162.075",
          "151.032",
          "164.076",
          "150.005",
          "157.481",
          "143.464",
          "142.365"
         ],
         "textposition": "top center",
         "type": "scatter",
         "x": [
          "July",
          "August",
          "September",
          "October",
          "November",
          "December",
          "January",
          "February",
          "March",
          "April",
          "May"
         ],
         "y": [
          133.002,
          137.515,
          133.632,
          136.021,
          162.075,
          151.032,
          164.076,
          150.005,
          157.481,
          143.464,
          142.365
         ]
        },
        {
         "mode": "lines+markers",
         "name": "NTM1 - X1 - A7 - DIRECT - Large - Powder - Quantity",
         "text": [
          "150",
          "22",
          "355",
          "542",
          "475",
          "1083",
          "203",
          "604",
          "260",
          "346",
          "107"
         ],
         "textposition": "top center",
         "type": "scatter",
         "x": [
          "July",
          "August",
          "September",
          "October",
          "November",
          "December",
          "January",
          "February",
          "March",
          "April",
          "May"
         ],
         "y": [
          150,
          22,
          355,
          542,
          475,
          1083,
          203,
          604,
          260,
          346,
          107
         ]
        },
        {
         "mode": "lines+markers",
         "name": "NTM1 - X1 - A7 - ECOM - Large - Powder - Sourcing Cost",
         "text": [
          "136.256",
          "137.515",
          "138.404",
          "136.021",
          "298.826",
          "146.766",
          "143.126",
          "145.918",
          "142.609",
          "139.777",
          "144.391"
         ],
         "textposition": "top center",
         "type": "scatter",
         "x": [
          "July",
          "August",
          "September",
          "October",
          "November",
          "December",
          "January",
          "February",
          "March",
          "April",
          "May"
         ],
         "y": [
          136.256,
          137.515,
          138.404,
          136.021,
          298.826,
          146.766,
          143.126,
          145.918,
          142.609,
          139.777,
          144.391
         ]
        },
        {
         "mode": "lines+markers",
         "name": "NTM1 - X1 - A7 - ECOM - Large - Powder - Quantity",
         "text": [
          "205",
          "353",
          "268",
          "129",
          "1312",
          "445",
          "866",
          "697",
          "1146",
          "549",
          "1032"
         ],
         "textposition": "top center",
         "type": "scatter",
         "x": [
          "July",
          "August",
          "September",
          "October",
          "November",
          "December",
          "January",
          "February",
          "March",
          "April",
          "May"
         ],
         "y": [
          205,
          353,
          268,
          129,
          1312,
          445,
          866,
          697,
          1146,
          549,
          1032
         ]
        },
        {
         "mode": "lines+markers",
         "name": "NTM1 - X1 - A7 - ECOM - Small - Powder - Sourcing Cost",
         "text": [
          "136.256",
          "136.83",
          "138.404",
          "136.021",
          "145.569",
          "170.205",
          "142.755",
          "145.787",
          "141.465",
          "141.22",
          "142.365"
         ],
         "textposition": "top center",
         "type": "scatter",
         "x": [
          "July",
          "August",
          "September",
          "October",
          "November",
          "December",
          "January",
          "February",
          "March",
          "April",
          "May"
         ],
         "y": [
          136.256,
          136.83,
          138.404,
          136.021,
          145.569,
          170.205,
          142.755,
          145.787,
          141.465,
          141.22,
          142.365
         ]
        },
        {
         "mode": "lines+markers",
         "name": "NTM1 - X1 - A7 - ECOM - Small - Powder - Quantity",
         "text": [
          "163",
          "201",
          "173",
          "95",
          "612",
          "348",
          "345",
          "361",
          "482",
          "290",
          "488"
         ],
         "textposition": "top center",
         "type": "scatter",
         "x": [
          "July",
          "August",
          "September",
          "October",
          "November",
          "December",
          "January",
          "February",
          "March",
          "April",
          "May"
         ],
         "y": [
          163,
          201,
          173,
          95,
          612,
          348,
          345,
          361,
          482,
          290,
          488
         ]
        },
        {
         "mode": "lines+markers",
         "name": "NTM1 - X1 - A8 - DIRECT - Large - Liquid - Sourcing Cost",
         "text": [
          "133.002",
          "136.091",
          "139.415",
          "135.764",
          "141.576",
          "143.851",
          "154.795",
          "151.666",
          "149.256",
          "149.359",
          "153.327"
         ],
         "textposition": "top center",
         "type": "scatter",
         "x": [
          "July",
          "August",
          "September",
          "October",
          "November",
          "December",
          "January",
          "February",
          "March",
          "April",
          "May"
         ],
         "y": [
          133.002,
          136.091,
          139.415,
          135.764,
          141.576,
          143.851,
          154.795,
          151.666,
          149.256,
          149.359,
          153.327
         ]
        },
        {
         "mode": "lines+markers",
         "name": "NTM1 - X1 - A8 - DIRECT - Large - Liquid - Quantity",
         "text": [
          "286",
          "267",
          "284",
          "319",
          "431",
          "278",
          "274",
          "419",
          "469",
          "485",
          "410"
         ],
         "textposition": "top center",
         "type": "scatter",
         "x": [
          "July",
          "August",
          "September",
          "October",
          "November",
          "December",
          "January",
          "February",
          "March",
          "April",
          "May"
         ],
         "y": [
          286,
          267,
          284,
          319,
          431,
          278,
          274,
          419,
          469,
          485,
          410
         ]
        },
        {
         "mode": "lines+markers",
         "name": "NTM1 - X1 - A8 - DIRECT - Large - Powder - Sourcing Cost",
         "text": [
          "132.649",
          "135.481",
          "138.218",
          "134.361",
          "139.722",
          "149.991",
          "158.568",
          "149.052",
          "152.065",
          "154.621",
          "149.319"
         ],
         "textposition": "top center",
         "type": "scatter",
         "x": [
          "July",
          "August",
          "September",
          "October",
          "November",
          "December",
          "January",
          "February",
          "March",
          "April",
          "May"
         ],
         "y": [
          132.649,
          135.481,
          138.218,
          134.361,
          139.722,
          149.991,
          158.568,
          149.052,
          152.065,
          154.621,
          149.319
         ]
        },
        {
         "mode": "lines+markers",
         "name": "NTM1 - X1 - A8 - DIRECT - Large - Powder - Quantity",
         "text": [
          "1142",
          "1289",
          "1273",
          "1133",
          "1616",
          "1130",
          "916",
          "1581",
          "1343",
          "1616",
          "1245"
         ],
         "textposition": "top center",
         "type": "scatter",
         "x": [
          "July",
          "August",
          "September",
          "October",
          "November",
          "December",
          "January",
          "February",
          "March",
          "April",
          "May"
         ],
         "y": [
          1142,
          1289,
          1273,
          1133,
          1616,
          1130,
          916,
          1581,
          1343,
          1616,
          1245
         ]
        },
        {
         "mode": "lines+markers",
         "name": "NTM1 - X1 - A9 - DIRECT - Large - Liquid - Sourcing Cost",
         "text": [
          "137.644",
          "136.582",
          "140.149",
          "136.192",
          "138.391",
          "143.727",
          "146.295",
          "150.062",
          "145.397",
          "145.705",
          "149.075"
         ],
         "textposition": "top center",
         "type": "scatter",
         "x": [
          "July",
          "August",
          "September",
          "October",
          "November",
          "December",
          "January",
          "February",
          "March",
          "April",
          "May"
         ],
         "y": [
          137.644,
          136.582,
          140.149,
          136.192,
          138.391,
          143.727,
          146.295,
          150.062,
          145.397,
          145.705,
          149.075
         ]
        },
        {
         "mode": "lines+markers",
         "name": "NTM1 - X1 - A9 - DIRECT - Large - Liquid - Quantity",
         "text": [
          "132",
          "129",
          "113",
          "176",
          "186",
          "149",
          "93",
          "125",
          "75",
          "179",
          "136"
         ],
         "textposition": "top center",
         "type": "scatter",
         "x": [
          "July",
          "August",
          "September",
          "October",
          "November",
          "December",
          "January",
          "February",
          "March",
          "April",
          "May"
         ],
         "y": [
          132,
          129,
          113,
          176,
          186,
          149,
          93,
          125,
          75,
          179,
          136
         ]
        },
        {
         "mode": "lines+markers",
         "name": "NTM1 - X1 - A9 - DIRECT - Large - Powder - Sourcing Cost",
         "text": [
          "137.48",
          "152.832",
          "135.381",
          "134.282",
          "139.728",
          "145.234",
          "190.438",
          "150.062",
          "146.72",
          "151.533",
          "146.982"
         ],
         "textposition": "top center",
         "type": "scatter",
         "x": [
          "July",
          "August",
          "September",
          "October",
          "November",
          "December",
          "January",
          "February",
          "March",
          "April",
          "May"
         ],
         "y": [
          137.48,
          152.832,
          135.381,
          134.282,
          139.728,
          145.234,
          190.438,
          150.062,
          146.72,
          151.533,
          146.982
         ]
        },
        {
         "mode": "lines+markers",
         "name": "NTM1 - X1 - A9 - DIRECT - Large - Powder - Quantity",
         "text": [
          "290",
          "274",
          "96",
          "168",
          "305",
          "315",
          "183",
          "776",
          "246",
          "382",
          "258"
         ],
         "textposition": "top center",
         "type": "scatter",
         "x": [
          "July",
          "August",
          "September",
          "October",
          "November",
          "December",
          "January",
          "February",
          "March",
          "April",
          "May"
         ],
         "y": [
          290,
          274,
          96,
          168,
          305,
          315,
          183,
          776,
          246,
          382,
          258
         ]
        },
        {
         "mode": "lines+markers",
         "name": "NTM1 - X2 - A12 - DIRECT - Large - Powder - Sourcing Cost",
         "text": [
          "28.651",
          "50.253",
          "70.567",
          "36.87",
          "13.751",
          "28.505",
          "7.347",
          "56.882",
          "28.41",
          "26.209",
          "3.853"
         ],
         "textposition": "top center",
         "type": "scatter",
         "x": [
          "July",
          "August",
          "September",
          "October",
          "November",
          "December",
          "January",
          "February",
          "March",
          "April",
          "May"
         ],
         "y": [
          28.651,
          50.253,
          70.567,
          36.87,
          13.751,
          28.505,
          7.347,
          56.882,
          28.41,
          26.209,
          3.853
         ]
        },
        {
         "mode": "lines+markers",
         "name": "NTM1 - X2 - A12 - DIRECT - Large - Powder - Quantity",
         "text": [
          "1570",
          "986",
          "1263",
          "1126",
          "2090",
          "1455",
          "936",
          "948",
          "1294",
          "741",
          "2138"
         ],
         "textposition": "top center",
         "type": "scatter",
         "x": [
          "July",
          "August",
          "September",
          "October",
          "November",
          "December",
          "January",
          "February",
          "March",
          "April",
          "May"
         ],
         "y": [
          1570,
          986,
          1263,
          1126,
          2090,
          1455,
          936,
          948,
          1294,
          741,
          2138
         ]
        },
        {
         "mode": "lines+markers",
         "name": "NTM1 - X2 - A21 - DIRECT - Small - Powder - Sourcing Cost",
         "text": [
          "72.129",
          "73.33",
          "74.248",
          "74.767",
          "76.787",
          "79.713",
          "81.022",
          "82.439",
          "77.306",
          "78.501",
          "77.928"
         ],
         "textposition": "top center",
         "type": "scatter",
         "x": [
          "July",
          "August",
          "September",
          "October",
          "November",
          "December",
          "January",
          "February",
          "March",
          "April",
          "May"
         ],
         "y": [
          72.129,
          73.33,
          74.248,
          74.767,
          76.787,
          79.713,
          81.022,
          82.439,
          77.306,
          78.501,
          77.928
         ]
        },
        {
         "mode": "lines+markers",
         "name": "NTM1 - X2 - A21 - DIRECT - Small - Powder - Quantity",
         "text": [
          "798",
          "925",
          "826",
          "846",
          "979",
          "1127",
          "1211",
          "821",
          "949",
          "956",
          "691"
         ],
         "textposition": "top center",
         "type": "scatter",
         "x": [
          "July",
          "August",
          "September",
          "October",
          "November",
          "December",
          "January",
          "February",
          "March",
          "April",
          "May"
         ],
         "y": [
          798,
          925,
          826,
          846,
          979,
          1127,
          1211,
          821,
          949,
          956,
          691
         ]
        },
        {
         "mode": "lines+markers",
         "name": "NTM1 - X2 - A30 - RETAIL - Small - Powder - Sourcing Cost",
         "text": [
          "42.021",
          "42.103",
          "42.329",
          "42.452",
          "43.103",
          "40.191",
          "18.01",
          "31.587",
          "35.763",
          "16.74",
          "41.04"
         ],
         "textposition": "top center",
         "type": "scatter",
         "x": [
          "July",
          "August",
          "September",
          "October",
          "November",
          "December",
          "January",
          "February",
          "March",
          "April",
          "May"
         ],
         "y": [
          42.021,
          42.103,
          42.329,
          42.452,
          43.103,
          40.191,
          18.01,
          31.587,
          35.763,
          16.74,
          41.04
         ]
        },
        {
         "mode": "lines+markers",
         "name": "NTM1 - X2 - A30 - RETAIL - Small - Powder - Quantity",
         "text": [
          "173",
          "271",
          "238",
          "94",
          "142",
          "95",
          "88",
          "231",
          "441",
          "319",
          "265"
         ],
         "textposition": "top center",
         "type": "scatter",
         "x": [
          "July",
          "August",
          "September",
          "October",
          "November",
          "December",
          "January",
          "February",
          "March",
          "April",
          "May"
         ],
         "y": [
          173,
          271,
          238,
          94,
          142,
          95,
          88,
          231,
          441,
          319,
          265
         ]
        },
        {
         "mode": "lines+markers",
         "name": "NTM1 - X2 - A31 - DIRECT - Large - Liquid - Sourcing Cost",
         "text": [
          "107.744",
          "0.0",
          "-7.105427357601e-15",
          "2.0435042547006803e-15",
          "-0.0010000000000116",
          "0.0",
          "25.989",
          "0.0",
          "-0.0009999999999994",
          "102.953",
          "86.672"
         ],
         "textposition": "top center",
         "type": "scatter",
         "x": [
          "July",
          "August",
          "September",
          "October",
          "November",
          "December",
          "January",
          "February",
          "March",
          "April",
          "May"
         ],
         "y": [
          107.744,
          0,
          -7.105427357601e-15,
          2.0435042547006803e-15,
          -0.0010000000000116,
          0,
          25.989,
          0,
          -0.0009999999999994,
          102.953,
          86.672
         ]
        },
        {
         "mode": "lines+markers",
         "name": "NTM1 - X2 - A31 - DIRECT - Large - Liquid - Quantity",
         "text": [
          "135",
          "128",
          "139",
          "139",
          "143",
          "142",
          "58",
          "114",
          "238",
          "122",
          "121"
         ],
         "textposition": "top center",
         "type": "scatter",
         "x": [
          "July",
          "August",
          "September",
          "October",
          "November",
          "December",
          "January",
          "February",
          "March",
          "April",
          "May"
         ],
         "y": [
          135,
          128,
          139,
          139,
          143,
          142,
          58,
          114,
          238,
          122,
          121
         ]
        },
        {
         "mode": "lines+markers",
         "name": "NTM1 - X2 - A39 - DIRECT - Large - Liquid - Sourcing Cost",
         "text": [
          "31.178",
          "31.471",
          "31.438",
          "31.454",
          "31.38",
          "31.776",
          "31.513",
          "31.476",
          "31.38",
          "31.871",
          "31.516"
         ],
         "textposition": "top center",
         "type": "scatter",
         "x": [
          "July",
          "August",
          "September",
          "October",
          "November",
          "December",
          "January",
          "February",
          "March",
          "April",
          "May"
         ],
         "y": [
          31.178,
          31.471,
          31.438,
          31.454,
          31.38,
          31.776,
          31.513,
          31.476,
          31.38,
          31.871,
          31.516
         ]
        },
        {
         "mode": "lines+markers",
         "name": "NTM1 - X2 - A39 - DIRECT - Large - Liquid - Quantity",
         "text": [
          "160",
          "121",
          "133",
          "161",
          "177",
          "143",
          "40",
          "142",
          "307",
          "190",
          "128"
         ],
         "textposition": "top center",
         "type": "scatter",
         "x": [
          "July",
          "August",
          "September",
          "October",
          "November",
          "December",
          "January",
          "February",
          "March",
          "April",
          "May"
         ],
         "y": [
          160,
          121,
          133,
          161,
          177,
          143,
          40,
          142,
          307,
          190,
          128
         ]
        },
        {
         "mode": "lines+markers",
         "name": "NTM1 - X2 - A40 - DIRECT - Large - Liquid - Sourcing Cost",
         "text": [
          "13.977",
          "24.156",
          "24.178",
          "24.191",
          "24.376",
          "24.376",
          "24.871",
          "24.606",
          "24.871",
          "24.871",
          "24.479"
         ],
         "textposition": "top center",
         "type": "scatter",
         "x": [
          "July",
          "August",
          "September",
          "October",
          "November",
          "December",
          "January",
          "February",
          "March",
          "April",
          "May"
         ],
         "y": [
          13.977,
          24.156,
          24.178,
          24.191,
          24.376,
          24.376,
          24.871,
          24.606,
          24.871,
          24.871,
          24.479
         ]
        },
        {
         "mode": "lines+markers",
         "name": "NTM1 - X2 - A40 - DIRECT - Large - Liquid - Quantity",
         "text": [
          "964",
          "952",
          "823",
          "1163",
          "1910",
          "1698",
          "1146",
          "1167",
          "1335",
          "1328",
          "1334"
         ],
         "textposition": "top center",
         "type": "scatter",
         "x": [
          "July",
          "August",
          "September",
          "October",
          "November",
          "December",
          "January",
          "February",
          "March",
          "April",
          "May"
         ],
         "y": [
          964,
          952,
          823,
          1163,
          1910,
          1698,
          1146,
          1167,
          1335,
          1328,
          1334
         ]
        },
        {
         "mode": "lines+markers",
         "name": "NTM1 - X2 - A42 - DIRECT - Large - Powder - Sourcing Cost",
         "text": [
          "266.901",
          "270.665",
          "192.384",
          "195.17",
          "204.205",
          "205.946",
          "240.314",
          "194.099",
          "228.733",
          "247.143",
          "175.611"
         ],
         "textposition": "top center",
         "type": "scatter",
         "x": [
          "July",
          "August",
          "September",
          "October",
          "November",
          "December",
          "January",
          "February",
          "March",
          "April",
          "May"
         ],
         "y": [
          266.901,
          270.665,
          192.384,
          195.17,
          204.205,
          205.946,
          240.314,
          194.099,
          228.733,
          247.143,
          175.611
         ]
        },
        {
         "mode": "lines+markers",
         "name": "NTM1 - X2 - A42 - DIRECT - Large - Powder - Quantity",
         "text": [
          "277",
          "133",
          "213",
          "131",
          "191",
          "222",
          "246",
          "290",
          "718",
          "563",
          "346"
         ],
         "textposition": "top center",
         "type": "scatter",
         "x": [
          "July",
          "August",
          "September",
          "October",
          "November",
          "December",
          "January",
          "February",
          "March",
          "April",
          "May"
         ],
         "y": [
          277,
          133,
          213,
          131,
          191,
          222,
          246,
          290,
          718,
          563,
          346
         ]
        },
        {
         "mode": "lines+markers",
         "name": "NTM1 - X2 - A42 - DIRECT - Small - Powder - Sourcing Cost",
         "text": [
          "196.001",
          "157.34",
          "139.142",
          "141.156",
          "152.965",
          "211.289",
          "175.999",
          "173.816",
          "231.621",
          "169.979",
          "207.68"
         ],
         "textposition": "top center",
         "type": "scatter",
         "x": [
          "July",
          "August",
          "September",
          "October",
          "November",
          "December",
          "January",
          "February",
          "March",
          "April",
          "May"
         ],
         "y": [
          196.001,
          157.34,
          139.142,
          141.156,
          152.965,
          211.289,
          175.999,
          173.816,
          231.621,
          169.979,
          207.68
         ]
        },
        {
         "mode": "lines+markers",
         "name": "NTM1 - X2 - A42 - DIRECT - Small - Powder - Quantity",
         "text": [
          "285",
          "105",
          "74",
          "203",
          "205",
          "267",
          "166",
          "131",
          "570",
          "637",
          "497"
         ],
         "textposition": "top center",
         "type": "scatter",
         "x": [
          "July",
          "August",
          "September",
          "October",
          "November",
          "December",
          "January",
          "February",
          "March",
          "April",
          "May"
         ],
         "y": [
          285,
          105,
          74,
          203,
          205,
          267,
          166,
          131,
          570,
          637,
          497
         ]
        },
        {
         "mode": "lines+markers",
         "name": "NTM1 - X2 - A43 - DIRECT - Small - Powder - Sourcing Cost",
         "text": [
          "157.093",
          "152.779",
          "161.915",
          "163.967",
          "168.814",
          "169.056",
          "168.013",
          "167.312",
          "167.439",
          "165.271",
          "169.087"
         ],
         "textposition": "top center",
         "type": "scatter",
         "x": [
          "July",
          "August",
          "September",
          "October",
          "November",
          "December",
          "January",
          "February",
          "March",
          "April",
          "May"
         ],
         "y": [
          157.093,
          152.779,
          161.915,
          163.967,
          168.814,
          169.056,
          168.013,
          167.312,
          167.439,
          165.271,
          169.087
         ]
        },
        {
         "mode": "lines+markers",
         "name": "NTM1 - X2 - A43 - DIRECT - Small - Powder - Quantity",
         "text": [
          "1325",
          "922",
          "1413",
          "591",
          "1343",
          "944",
          "1080",
          "2202",
          "1452",
          "1034",
          "928"
         ],
         "textposition": "top center",
         "type": "scatter",
         "x": [
          "July",
          "August",
          "September",
          "October",
          "November",
          "December",
          "January",
          "February",
          "March",
          "April",
          "May"
         ],
         "y": [
          1325,
          922,
          1413,
          591,
          1343,
          944,
          1080,
          2202,
          1452,
          1034,
          928
         ]
        },
        {
         "mode": "lines+markers",
         "name": "NTM1 - X2 - A44 - DIRECT - Large - Liquid - Sourcing Cost",
         "text": [
          "0.0",
          "38.638",
          "13.55",
          "11.254",
          "29.257",
          "11.649",
          "4.841",
          "133.122",
          "3.455",
          "10.494",
          "21.559"
         ],
         "textposition": "top center",
         "type": "scatter",
         "x": [
          "July",
          "August",
          "September",
          "October",
          "November",
          "December",
          "January",
          "February",
          "March",
          "April",
          "May"
         ],
         "y": [
          0,
          38.638,
          13.55,
          11.254,
          29.257,
          11.649,
          4.841,
          133.122,
          3.455,
          10.494,
          21.559
         ]
        },
        {
         "mode": "lines+markers",
         "name": "NTM1 - X2 - A44 - DIRECT - Large - Liquid - Quantity",
         "text": [
          "162",
          "70",
          "126",
          "117",
          "155",
          "225",
          "191",
          "181",
          "314",
          "265",
          "248"
         ],
         "textposition": "top center",
         "type": "scatter",
         "x": [
          "July",
          "August",
          "September",
          "October",
          "November",
          "December",
          "January",
          "February",
          "March",
          "April",
          "May"
         ],
         "y": [
          162,
          70,
          126,
          117,
          155,
          225,
          191,
          181,
          314,
          265,
          248
         ]
        },
        {
         "mode": "lines+markers",
         "name": "NTM1 - X2 - A45 - DIRECT - Large - Powder - Sourcing Cost",
         "text": [
          "26.04",
          "25.863",
          "25.836",
          "26.202",
          "26.935",
          "27.215",
          "12.504",
          "26.506",
          "26.137",
          "26.132",
          "25.464"
         ],
         "textposition": "top center",
         "type": "scatter",
         "x": [
          "July",
          "August",
          "September",
          "October",
          "November",
          "December",
          "January",
          "February",
          "March",
          "April",
          "May"
         ],
         "y": [
          26.04,
          25.863,
          25.836,
          26.202,
          26.935,
          27.215,
          12.504,
          26.506,
          26.137,
          26.132,
          25.464
         ]
        },
        {
         "mode": "lines+markers",
         "name": "NTM1 - X2 - A45 - DIRECT - Large - Powder - Quantity",
         "text": [
          "83",
          "151",
          "182",
          "216",
          "370",
          "329",
          "325",
          "147",
          "426",
          "519",
          "297"
         ],
         "textposition": "top center",
         "type": "scatter",
         "x": [
          "July",
          "August",
          "September",
          "October",
          "November",
          "December",
          "January",
          "February",
          "March",
          "April",
          "May"
         ],
         "y": [
          83,
          151,
          182,
          216,
          370,
          329,
          325,
          147,
          426,
          519,
          297
         ]
        },
        {
         "mode": "lines+markers",
         "name": "NTM1 - X2 - A46 - RETAIL - Large - Powder - Sourcing Cost",
         "text": [
          "68.0",
          "68.0",
          "68.0",
          "68.0",
          "68.0",
          "68.0",
          "70.0",
          "70.0",
          "70.0",
          "65.139",
          "70.0"
         ],
         "textposition": "top center",
         "type": "scatter",
         "x": [
          "July",
          "August",
          "September",
          "October",
          "November",
          "December",
          "January",
          "February",
          "March",
          "April",
          "May"
         ],
         "y": [
          68,
          68,
          68,
          68,
          68,
          68,
          70,
          70,
          70,
          65.139,
          70
         ]
        },
        {
         "mode": "lines+markers",
         "name": "NTM1 - X2 - A46 - RETAIL - Large - Powder - Quantity",
         "text": [
          "47",
          "82",
          "80",
          "157",
          "158",
          "284",
          "216",
          "58",
          "311",
          "148",
          "191"
         ],
         "textposition": "top center",
         "type": "scatter",
         "x": [
          "July",
          "August",
          "September",
          "October",
          "November",
          "December",
          "January",
          "February",
          "March",
          "April",
          "May"
         ],
         "y": [
          47,
          82,
          80,
          157,
          158,
          284,
          216,
          58,
          311,
          148,
          191
         ]
        },
        {
         "mode": "lines+markers",
         "name": "NTM2 - X1 - A10 - DIRECT - Small - Powder - Sourcing Cost",
         "text": [
          "135.291",
          "137.515",
          "138.856",
          "134.973",
          "140.645",
          "145.677",
          "147.182",
          "147.639",
          "146.965",
          "149.703",
          "148.534"
         ],
         "textposition": "top center",
         "type": "scatter",
         "x": [
          "July",
          "August",
          "September",
          "October",
          "November",
          "December",
          "January",
          "February",
          "March",
          "April",
          "May"
         ],
         "y": [
          135.291,
          137.515,
          138.856,
          134.973,
          140.645,
          145.677,
          147.182,
          147.639,
          146.965,
          149.703,
          148.534
         ]
        },
        {
         "mode": "lines+markers",
         "name": "NTM2 - X1 - A10 - DIRECT - Small - Powder - Quantity",
         "text": [
          "1028",
          "1324",
          "700",
          "371",
          "705",
          "369",
          "621",
          "1183",
          "883",
          "1204",
          "893"
         ],
         "textposition": "top center",
         "type": "scatter",
         "x": [
          "July",
          "August",
          "September",
          "October",
          "November",
          "December",
          "January",
          "February",
          "March",
          "April",
          "May"
         ],
         "y": [
          1028,
          1324,
          700,
          371,
          705,
          369,
          621,
          1183,
          883,
          1204,
          893
         ]
        },
        {
         "mode": "lines+markers",
         "name": "NTM2 - X1 - A10 - ECOM - Large - Powder - Sourcing Cost",
         "text": [
          "136.925",
          "136.09",
          "138.632",
          "134.326",
          "150.357",
          "152.724",
          "152.79",
          "150.599",
          "160.042",
          "150.631",
          "151.283"
         ],
         "textposition": "top center",
         "type": "scatter",
         "x": [
          "July",
          "August",
          "September",
          "October",
          "November",
          "December",
          "January",
          "February",
          "March",
          "April",
          "May"
         ],
         "y": [
          136.925,
          136.09,
          138.632,
          134.326,
          150.357,
          152.724,
          152.79,
          150.599,
          160.042,
          150.631,
          151.283
         ]
        },
        {
         "mode": "lines+markers",
         "name": "NTM2 - X1 - A10 - ECOM - Large - Powder - Quantity",
         "text": [
          "10",
          "8",
          "10",
          "33",
          "458",
          "664",
          "741",
          "718",
          "472",
          "561",
          "588"
         ],
         "textposition": "top center",
         "type": "scatter",
         "x": [
          "July",
          "August",
          "September",
          "October",
          "November",
          "December",
          "January",
          "February",
          "March",
          "April",
          "May"
         ],
         "y": [
          10,
          8,
          10,
          33,
          458,
          664,
          741,
          718,
          472,
          561,
          588
         ]
        },
        {
         "mode": "lines+markers",
         "name": "NTM2 - X1 - A11 - DIRECT - Large - Liquid - Sourcing Cost",
         "text": [
          "137.243",
          "232.057",
          "136.493",
          "134.636",
          "153.295",
          "143.641",
          "143.884",
          "146.548",
          "141.583",
          "143.464",
          "156.81"
         ],
         "textposition": "top center",
         "type": "scatter",
         "x": [
          "July",
          "August",
          "September",
          "October",
          "November",
          "December",
          "January",
          "February",
          "March",
          "April",
          "May"
         ],
         "y": [
          137.243,
          232.057,
          136.493,
          134.636,
          153.295,
          143.641,
          143.884,
          146.548,
          141.583,
          143.464,
          156.81
         ]
        },
        {
         "mode": "lines+markers",
         "name": "NTM2 - X1 - A11 - DIRECT - Large - Liquid - Quantity",
         "text": [
          "147",
          "107",
          "181",
          "729",
          "737",
          "940",
          "1055",
          "604",
          "693",
          "713",
          "623"
         ],
         "textposition": "top center",
         "type": "scatter",
         "x": [
          "July",
          "August",
          "September",
          "October",
          "November",
          "December",
          "January",
          "February",
          "March",
          "April",
          "May"
         ],
         "y": [
          147,
          107,
          181,
          729,
          737,
          940,
          1055,
          604,
          693,
          713,
          623
         ]
        },
        {
         "mode": "lines+markers",
         "name": "NTM2 - X1 - A11 - DIRECT - Small - Powder - Sourcing Cost",
         "text": [
          "137.243",
          "140.23",
          "136.493",
          "136.021",
          "145.677",
          "144.655",
          "143.884",
          "140.745",
          "141.583",
          "164.404",
          "138.839"
         ],
         "textposition": "top center",
         "type": "scatter",
         "x": [
          "July",
          "August",
          "September",
          "October",
          "November",
          "December",
          "January",
          "February",
          "March",
          "April",
          "May"
         ],
         "y": [
          137.243,
          140.23,
          136.493,
          136.021,
          145.677,
          144.655,
          143.884,
          140.745,
          141.583,
          164.404,
          138.839
         ]
        },
        {
         "mode": "lines+markers",
         "name": "NTM2 - X1 - A11 - DIRECT - Small - Powder - Quantity",
         "text": [
          "357",
          "266",
          "397",
          "956",
          "1165",
          "1142",
          "1329",
          "1185",
          "1281",
          "1387",
          "1526"
         ],
         "textposition": "top center",
         "type": "scatter",
         "x": [
          "July",
          "August",
          "September",
          "October",
          "November",
          "December",
          "January",
          "February",
          "March",
          "April",
          "May"
         ],
         "y": [
          357,
          266,
          397,
          956,
          1165,
          1142,
          1329,
          1185,
          1281,
          1387,
          1526
         ]
        },
        {
         "mode": "lines+markers",
         "name": "NTM2 - X1 - A16 - DIRECT - Small - Powder - Sourcing Cost",
         "text": [
          "85.036",
          "224.175",
          "96.161",
          "97.126",
          "96.839",
          "99.849",
          "98.004",
          "98.37",
          "95.801",
          "104.16",
          "95.873"
         ],
         "textposition": "top center",
         "type": "scatter",
         "x": [
          "July",
          "August",
          "September",
          "October",
          "November",
          "December",
          "January",
          "February",
          "March",
          "April",
          "May"
         ],
         "y": [
          85.036,
          224.175,
          96.161,
          97.126,
          96.839,
          99.849,
          98.004,
          98.37,
          95.801,
          104.16,
          95.873
         ]
        },
        {
         "mode": "lines+markers",
         "name": "NTM2 - X1 - A16 - DIRECT - Small - Powder - Quantity",
         "text": [
          "947",
          "1064",
          "1500",
          "1756",
          "1888",
          "1984",
          "928",
          "2043",
          "2090",
          "886",
          "852"
         ],
         "textposition": "top center",
         "type": "scatter",
         "x": [
          "July",
          "August",
          "September",
          "October",
          "November",
          "December",
          "January",
          "February",
          "March",
          "April",
          "May"
         ],
         "y": [
          947,
          1064,
          1500,
          1756,
          1888,
          1984,
          928,
          2043,
          2090,
          886,
          852
         ]
        },
        {
         "mode": "lines+markers",
         "name": "NTM2 - X1 - A17 - ECOM - Large - Powder - Sourcing Cost",
         "text": [
          "67.099",
          "74.84",
          "65.43",
          "65.0",
          "60.549",
          "62.864",
          "65.398"
         ],
         "textposition": "top center",
         "type": "scatter",
         "x": [
          "November",
          "December",
          "January",
          "February",
          "March",
          "April",
          "May"
         ],
         "y": [
          67.099,
          74.84,
          65.43,
          65,
          60.549,
          62.864,
          65.398
         ]
        },
        {
         "mode": "lines+markers",
         "name": "NTM2 - X1 - A17 - ECOM - Large - Powder - Quantity",
         "text": [
          "129",
          "127",
          "159",
          "136",
          "178",
          "203",
          "207"
         ],
         "textposition": "top center",
         "type": "scatter",
         "x": [
          "November",
          "December",
          "January",
          "February",
          "March",
          "April",
          "May"
         ],
         "y": [
          129,
          127,
          159,
          136,
          178,
          203,
          207
         ]
        },
        {
         "mode": "lines+markers",
         "name": "NTM2 - X1 - A19 - DIRECT - Large - Powder - Sourcing Cost",
         "text": [
          "104.098",
          "109.492",
          "105.589",
          "109.583",
          "125.077",
          "110.065",
          "144.54",
          "144.713",
          "179.003",
          "111.765",
          "143.895"
         ],
         "textposition": "top center",
         "type": "scatter",
         "x": [
          "July",
          "August",
          "September",
          "October",
          "November",
          "December",
          "January",
          "February",
          "March",
          "April",
          "May"
         ],
         "y": [
          104.098,
          109.492,
          105.589,
          109.583,
          125.077,
          110.065,
          144.54,
          144.713,
          179.003,
          111.765,
          143.895
         ]
        },
        {
         "mode": "lines+markers",
         "name": "NTM2 - X1 - A19 - DIRECT - Large - Powder - Quantity",
         "text": [
          "863",
          "880",
          "724",
          "745",
          "193",
          "88",
          "13",
          "50",
          "65",
          "124",
          "94"
         ],
         "textposition": "top center",
         "type": "scatter",
         "x": [
          "July",
          "August",
          "September",
          "October",
          "November",
          "December",
          "January",
          "February",
          "March",
          "April",
          "May"
         ],
         "y": [
          863,
          880,
          724,
          745,
          193,
          88,
          13,
          50,
          65,
          124,
          94
         ]
        },
        {
         "mode": "lines+markers",
         "name": "NTM2 - X1 - A2 - DIRECT - Large - Liquid - Sourcing Cost",
         "text": [
          "160.534",
          "161.446",
          "163.899",
          "163.617",
          "173.906",
          "171.301",
          "173.443",
          "174.196",
          "175.446",
          "174.543",
          "168.859"
         ],
         "textposition": "top center",
         "type": "scatter",
         "x": [
          "July",
          "August",
          "September",
          "October",
          "November",
          "December",
          "January",
          "February",
          "March",
          "April",
          "May"
         ],
         "y": [
          160.534,
          161.446,
          163.899,
          163.617,
          173.906,
          171.301,
          173.443,
          174.196,
          175.446,
          174.543,
          168.859
         ]
        },
        {
         "mode": "lines+markers",
         "name": "NTM2 - X1 - A2 - DIRECT - Large - Liquid - Quantity",
         "text": [
          "25",
          "28",
          "33",
          "21",
          "33",
          "31",
          "50",
          "48",
          "168",
          "316",
          "122"
         ],
         "textposition": "top center",
         "type": "scatter",
         "x": [
          "July",
          "August",
          "September",
          "October",
          "November",
          "December",
          "January",
          "February",
          "March",
          "April",
          "May"
         ],
         "y": [
          25,
          28,
          33,
          21,
          33,
          31,
          50,
          48,
          168,
          316,
          122
         ]
        },
        {
         "mode": "lines+markers",
         "name": "NTM2 - X1 - A2 - DIRECT - Large - Powder - Sourcing Cost",
         "text": [
          "157.216",
          "160.804",
          "154.485",
          "160.409",
          "172.512",
          "171.302",
          "173.443",
          "174.502",
          "171.452",
          "160.67",
          "178.889"
         ],
         "textposition": "top center",
         "type": "scatter",
         "x": [
          "July",
          "August",
          "September",
          "October",
          "November",
          "December",
          "January",
          "February",
          "March",
          "April",
          "May"
         ],
         "y": [
          157.216,
          160.804,
          154.485,
          160.409,
          172.512,
          171.302,
          173.443,
          174.502,
          171.452,
          160.67,
          178.889
         ]
        },
        {
         "mode": "lines+markers",
         "name": "NTM2 - X1 - A2 - DIRECT - Large - Powder - Quantity",
         "text": [
          "540",
          "379",
          "568",
          "589",
          "601",
          "504",
          "585",
          "500",
          "694",
          "457",
          "414"
         ],
         "textposition": "top center",
         "type": "scatter",
         "x": [
          "July",
          "August",
          "September",
          "October",
          "November",
          "December",
          "January",
          "February",
          "March",
          "April",
          "May"
         ],
         "y": [
          540,
          379,
          568,
          589,
          601,
          504,
          585,
          500,
          694,
          457,
          414
         ]
        },
        {
         "mode": "lines+markers",
         "name": "NTM2 - X1 - A23 - RETAIL - Large - Powder - Sourcing Cost",
         "text": [
          "2412.38",
          "309.645",
          "4175.805",
          "27.29",
          "4.43299999999999",
          "128.6",
          "1.2",
          "726.784",
          "1.18100000000001",
          "1.22200000000002",
          "124.888"
         ],
         "textposition": "top center",
         "type": "scatter",
         "x": [
          "July",
          "August",
          "September",
          "October",
          "November",
          "December",
          "January",
          "February",
          "March",
          "April",
          "May"
         ],
         "y": [
          2412.38,
          309.645,
          4175.805,
          27.29,
          4.43299999999999,
          128.6,
          1.2,
          726.784,
          1.18100000000001,
          1.22200000000002,
          124.888
         ]
        },
        {
         "mode": "lines+markers",
         "name": "NTM2 - X1 - A23 - RETAIL - Large - Powder - Quantity",
         "text": [
          "5",
          "3",
          "5",
          "1",
          "13",
          "9",
          "5",
          "54",
          "27",
          "24",
          "423"
         ],
         "textposition": "top center",
         "type": "scatter",
         "x": [
          "July",
          "August",
          "September",
          "October",
          "November",
          "December",
          "January",
          "February",
          "March",
          "April",
          "May"
         ],
         "y": [
          5,
          3,
          5,
          1,
          13,
          9,
          5,
          54,
          27,
          24,
          423
         ]
        },
        {
         "mode": "lines+markers",
         "name": "NTM2 - X1 - A26 - DIRECT - Small - Powder - Sourcing Cost",
         "text": [
          "41.19",
          "51.009",
          "38.568",
          "38.836",
          "43.001",
          "39.205",
          "38.311",
          "38.391",
          "37.854",
          "37.788",
          "39.175"
         ],
         "textposition": "top center",
         "type": "scatter",
         "x": [
          "July",
          "August",
          "September",
          "October",
          "November",
          "December",
          "January",
          "February",
          "March",
          "April",
          "May"
         ],
         "y": [
          41.19,
          51.009,
          38.568,
          38.836,
          43.001,
          39.205,
          38.311,
          38.391,
          37.854,
          37.788,
          39.175
         ]
        },
        {
         "mode": "lines+markers",
         "name": "NTM2 - X1 - A26 - DIRECT - Small - Powder - Quantity",
         "text": [
          "220",
          "166",
          "192",
          "221",
          "199",
          "206",
          "158",
          "321",
          "269",
          "261",
          "147"
         ],
         "textposition": "top center",
         "type": "scatter",
         "x": [
          "July",
          "August",
          "September",
          "October",
          "November",
          "December",
          "January",
          "February",
          "March",
          "April",
          "May"
         ],
         "y": [
          220,
          166,
          192,
          221,
          199,
          206,
          158,
          321,
          269,
          261,
          147
         ]
        },
        {
         "mode": "lines+markers",
         "name": "NTM2 - X1 - A28 - DIRECT - Large - Liquid - Sourcing Cost",
         "text": [
          "237.674",
          "196.828",
          "196.685",
          "195.794",
          "197.763",
          "196.773",
          "212.905",
          "218.258",
          "212.984",
          "216.108",
          "216.429"
         ],
         "textposition": "top center",
         "type": "scatter",
         "x": [
          "July",
          "August",
          "September",
          "October",
          "November",
          "December",
          "January",
          "February",
          "March",
          "April",
          "May"
         ],
         "y": [
          237.674,
          196.828,
          196.685,
          195.794,
          197.763,
          196.773,
          212.905,
          218.258,
          212.984,
          216.108,
          216.429
         ]
        },
        {
         "mode": "lines+markers",
         "name": "NTM2 - X1 - A28 - DIRECT - Large - Liquid - Quantity",
         "text": [
          "171",
          "217",
          "335",
          "329",
          "271",
          "210",
          "312",
          "315",
          "184",
          "378",
          "338"
         ],
         "textposition": "top center",
         "type": "scatter",
         "x": [
          "July",
          "August",
          "September",
          "October",
          "November",
          "December",
          "January",
          "February",
          "March",
          "April",
          "May"
         ],
         "y": [
          171,
          217,
          335,
          329,
          271,
          210,
          312,
          315,
          184,
          378,
          338
         ]
        },
        {
         "mode": "lines+markers",
         "name": "NTM2 - X1 - A28 - DIRECT - Large - Powder - Sourcing Cost",
         "text": [
          "197.217",
          "196.828",
          "198.179",
          "197.119",
          "197.363",
          "197.217",
          "217.072",
          "217.003",
          "215.64",
          "215.103",
          "216.429"
         ],
         "textposition": "top center",
         "type": "scatter",
         "x": [
          "July",
          "August",
          "September",
          "October",
          "November",
          "December",
          "January",
          "February",
          "March",
          "April",
          "May"
         ],
         "y": [
          197.217,
          196.828,
          198.179,
          197.119,
          197.363,
          197.217,
          217.072,
          217.003,
          215.64,
          215.103,
          216.429
         ]
        },
        {
         "mode": "lines+markers",
         "name": "NTM2 - X1 - A28 - DIRECT - Large - Powder - Quantity",
         "text": [
          "835",
          "928",
          "801",
          "843",
          "987",
          "1028",
          "702",
          "860",
          "856",
          "645",
          "624"
         ],
         "textposition": "top center",
         "type": "scatter",
         "x": [
          "July",
          "August",
          "September",
          "October",
          "November",
          "December",
          "January",
          "February",
          "March",
          "April",
          "May"
         ],
         "y": [
          835,
          928,
          801,
          843,
          987,
          1028,
          702,
          860,
          856,
          645,
          624
         ]
        },
        {
         "mode": "lines+markers",
         "name": "NTM2 - X1 - A28 - DIRECT - Small - Powder - Sourcing Cost",
         "text": [
          "100.454",
          "98.49",
          "98.192",
          "97.897",
          "98.311",
          "99.82",
          "108.531",
          "108.06",
          "106.487",
          "106.225",
          "108.209"
         ],
         "textposition": "top center",
         "type": "scatter",
         "x": [
          "July",
          "August",
          "September",
          "October",
          "November",
          "December",
          "January",
          "February",
          "March",
          "April",
          "May"
         ],
         "y": [
          100.454,
          98.49,
          98.192,
          97.897,
          98.311,
          99.82,
          108.531,
          108.06,
          106.487,
          106.225,
          108.209
         ]
        },
        {
         "mode": "lines+markers",
         "name": "NTM2 - X1 - A28 - DIRECT - Small - Powder - Quantity",
         "text": [
          "1107",
          "1032",
          "872",
          "773",
          "1050",
          "1410",
          "1086",
          "1052",
          "823",
          "553",
          "787"
         ],
         "textposition": "top center",
         "type": "scatter",
         "x": [
          "July",
          "August",
          "September",
          "October",
          "November",
          "December",
          "January",
          "February",
          "March",
          "April",
          "May"
         ],
         "y": [
          1107,
          1032,
          872,
          773,
          1050,
          1410,
          1086,
          1052,
          823,
          553,
          787
         ]
        },
        {
         "mode": "lines+markers",
         "name": "NTM2 - X1 - A29 - DIRECT - Large - Powder - Sourcing Cost",
         "text": [
          "56.52",
          "56.52",
          "56.52",
          "56.52",
          "56.521",
          "106.968",
          "71.345",
          "80.528",
          "87.575",
          "56.52",
          "56.52"
         ],
         "textposition": "top center",
         "type": "scatter",
         "x": [
          "July",
          "August",
          "September",
          "October",
          "November",
          "December",
          "January",
          "February",
          "March",
          "April",
          "May"
         ],
         "y": [
          56.52,
          56.52,
          56.52,
          56.52,
          56.521,
          106.968,
          71.345,
          80.528,
          87.575,
          56.52,
          56.52
         ]
        },
        {
         "mode": "lines+markers",
         "name": "NTM2 - X1 - A29 - DIRECT - Large - Powder - Quantity",
         "text": [
          "1040",
          "1240",
          "946",
          "1294",
          "844",
          "1247",
          "1116",
          "938",
          "936",
          "907",
          "932"
         ],
         "textposition": "top center",
         "type": "scatter",
         "x": [
          "July",
          "August",
          "September",
          "October",
          "November",
          "December",
          "January",
          "February",
          "March",
          "April",
          "May"
         ],
         "y": [
          1040,
          1240,
          946,
          1294,
          844,
          1247,
          1116,
          938,
          936,
          907,
          932
         ]
        },
        {
         "mode": "lines+markers",
         "name": "NTM2 - X1 - A29 - DIRECT - Small - Powder - Sourcing Cost",
         "text": [
          "56.52",
          "56.52",
          "56.52",
          "56.52",
          "56.52",
          "76.378",
          "80.635",
          "83.693",
          "90.775",
          "56.52",
          "56.522"
         ],
         "textposition": "top center",
         "type": "scatter",
         "x": [
          "July",
          "August",
          "September",
          "October",
          "November",
          "December",
          "January",
          "February",
          "March",
          "April",
          "May"
         ],
         "y": [
          56.52,
          56.52,
          56.52,
          56.52,
          56.52,
          76.378,
          80.635,
          83.693,
          90.775,
          56.52,
          56.522
         ]
        },
        {
         "mode": "lines+markers",
         "name": "NTM2 - X1 - A29 - DIRECT - Small - Powder - Quantity",
         "text": [
          "421",
          "510",
          "592",
          "615",
          "585",
          "684",
          "474",
          "557",
          "590",
          "535",
          "345"
         ],
         "textposition": "top center",
         "type": "scatter",
         "x": [
          "July",
          "August",
          "September",
          "October",
          "November",
          "December",
          "January",
          "February",
          "March",
          "April",
          "May"
         ],
         "y": [
          421,
          510,
          592,
          615,
          585,
          684,
          474,
          557,
          590,
          535,
          345
         ]
        },
        {
         "mode": "lines+markers",
         "name": "NTM2 - X1 - A3 - DIRECT - Small - Powder - Sourcing Cost",
         "text": [
          "132.761",
          "137.515",
          "135.236",
          "135.52",
          "139.9",
          "150.407",
          "152.181",
          "149.572",
          "145.74",
          "150.54",
          "150.598"
         ],
         "textposition": "top center",
         "type": "scatter",
         "x": [
          "July",
          "August",
          "September",
          "October",
          "November",
          "December",
          "January",
          "February",
          "March",
          "April",
          "May"
         ],
         "y": [
          132.761,
          137.515,
          135.236,
          135.52,
          139.9,
          150.407,
          152.181,
          149.572,
          145.74,
          150.54,
          150.598
         ]
        },
        {
         "mode": "lines+markers",
         "name": "NTM2 - X1 - A3 - DIRECT - Small - Powder - Quantity",
         "text": [
          "777",
          "758",
          "395",
          "874",
          "1189",
          "861",
          "1239",
          "1020",
          "1184",
          "1230",
          "1342"
         ],
         "textposition": "top center",
         "type": "scatter",
         "x": [
          "July",
          "August",
          "September",
          "October",
          "November",
          "December",
          "January",
          "February",
          "March",
          "April",
          "May"
         ],
         "y": [
          777,
          758,
          395,
          874,
          1189,
          861,
          1239,
          1020,
          1184,
          1230,
          1342
         ]
        },
        {
         "mode": "lines+markers",
         "name": "NTM2 - X1 - A32 - RETAIL - Large - Powder - Sourcing Cost",
         "text": [
          "93.635",
          "1.4210854715202e-14",
          "95.56",
          "95.296",
          "98.277",
          "0.0",
          "100.184"
         ],
         "textposition": "top center",
         "type": "scatter",
         "x": [
          "July",
          "August",
          "September",
          "October",
          "February",
          "April",
          "May"
         ],
         "y": [
          93.635,
          1.4210854715202e-14,
          95.56,
          95.296,
          98.277,
          0,
          100.184
         ]
        },
        {
         "mode": "lines+markers",
         "name": "NTM2 - X1 - A32 - RETAIL - Large - Powder - Quantity",
         "text": [
          "2",
          "23",
          "2",
          "3",
          "3",
          "1",
          "84"
         ],
         "textposition": "top center",
         "type": "scatter",
         "x": [
          "July",
          "August",
          "September",
          "October",
          "February",
          "April",
          "May"
         ],
         "y": [
          2,
          23,
          2,
          3,
          3,
          1,
          84
         ]
        },
        {
         "mode": "lines+markers",
         "name": "NTM2 - X1 - A32 - RETAIL - Small - Powder - Sourcing Cost",
         "text": [
          "310.62",
          "-3.0253577421035504e-15",
          "63.847",
          "57.399",
          "64.761",
          "65.405",
          "65.55",
          "65.56",
          "127.68",
          "0.0"
         ],
         "textposition": "top center",
         "type": "scatter",
         "x": [
          "July",
          "August",
          "September",
          "October",
          "November",
          "December",
          "January",
          "February",
          "March",
          "May"
         ],
         "y": [
          310.62,
          -3.0253577421035504e-15,
          63.847,
          57.399,
          64.761,
          65.405,
          65.55,
          65.56,
          127.68,
          0
         ]
        },
        {
         "mode": "lines+markers",
         "name": "NTM2 - X1 - A32 - RETAIL - Small - Powder - Quantity",
         "text": [
          "12",
          "6",
          "30",
          "10",
          "22",
          "9",
          "1",
          "1",
          "6",
          "46"
         ],
         "textposition": "top center",
         "type": "scatter",
         "x": [
          "July",
          "August",
          "September",
          "October",
          "November",
          "December",
          "January",
          "February",
          "March",
          "May"
         ],
         "y": [
          12,
          6,
          30,
          10,
          22,
          9,
          1,
          1,
          6,
          46
         ]
        },
        {
         "mode": "lines+markers",
         "name": "NTM2 - X1 - A36 - DIRECT - Small - Powder - Sourcing Cost",
         "text": [
          "184.098",
          "184.316",
          "186.62",
          "162.278",
          "186.62",
          "186.62",
          "186.62",
          "186.62",
          "186.62",
          "180.072",
          "186.62"
         ],
         "textposition": "top center",
         "type": "scatter",
         "x": [
          "July",
          "August",
          "September",
          "October",
          "November",
          "December",
          "January",
          "February",
          "March",
          "April",
          "May"
         ],
         "y": [
          184.098,
          184.316,
          186.62,
          162.278,
          186.62,
          186.62,
          186.62,
          186.62,
          186.62,
          180.072,
          186.62
         ]
        },
        {
         "mode": "lines+markers",
         "name": "NTM2 - X1 - A36 - DIRECT - Small - Powder - Quantity",
         "text": [
          "334",
          "350",
          "333",
          "472",
          "556",
          "711",
          "443",
          "414",
          "387",
          "379",
          "464"
         ],
         "textposition": "top center",
         "type": "scatter",
         "x": [
          "July",
          "August",
          "September",
          "October",
          "November",
          "December",
          "January",
          "February",
          "March",
          "April",
          "May"
         ],
         "y": [
          334,
          350,
          333,
          472,
          556,
          711,
          443,
          414,
          387,
          379,
          464
         ]
        },
        {
         "mode": "lines+markers",
         "name": "NTM2 - X1 - A37 - DIRECT - Large - Powder - Sourcing Cost",
         "text": [
          "180.0",
          "180.0",
          "85.7139999999999",
          "193.846",
          "180.0",
          "150.0",
          "180.0",
          "180.0",
          "180.0",
          "24.0"
         ],
         "textposition": "top center",
         "type": "scatter",
         "x": [
          "July",
          "August",
          "October",
          "November",
          "December",
          "January",
          "February",
          "March",
          "April",
          "May"
         ],
         "y": [
          180,
          180,
          85.7139999999999,
          193.846,
          180,
          150,
          180,
          180,
          180,
          24
         ]
        },
        {
         "mode": "lines+markers",
         "name": "NTM2 - X1 - A37 - DIRECT - Large - Powder - Quantity",
         "text": [
          "90",
          "2",
          "88",
          "118",
          "91",
          "179",
          "108",
          "139",
          "98",
          "116"
         ],
         "textposition": "top center",
         "type": "scatter",
         "x": [
          "July",
          "August",
          "October",
          "November",
          "December",
          "January",
          "February",
          "March",
          "April",
          "May"
         ],
         "y": [
          90,
          2,
          88,
          118,
          91,
          179,
          108,
          139,
          98,
          116
         ]
        },
        {
         "mode": "lines+markers",
         "name": "NTM2 - X1 - A37 - DIRECT - Small - Powder - Sourcing Cost",
         "text": [
          "180.0",
          "180.0",
          "180.0",
          "180.0",
          "190.0",
          "180.0",
          "180.0",
          "180.0",
          "118.286",
          "180.0",
          "180.0"
         ],
         "textposition": "top center",
         "type": "scatter",
         "x": [
          "July",
          "August",
          "September",
          "October",
          "November",
          "December",
          "January",
          "February",
          "March",
          "April",
          "May"
         ],
         "y": [
          180,
          180,
          180,
          180,
          190,
          180,
          180,
          180,
          118.286,
          180,
          180
         ]
        },
        {
         "mode": "lines+markers",
         "name": "NTM2 - X1 - A37 - DIRECT - Small - Powder - Quantity",
         "text": [
          "7",
          "3",
          "9",
          "31",
          "45",
          "50",
          "46",
          "53",
          "76",
          "52",
          "31"
         ],
         "textposition": "top center",
         "type": "scatter",
         "x": [
          "July",
          "August",
          "September",
          "October",
          "November",
          "December",
          "January",
          "February",
          "March",
          "April",
          "May"
         ],
         "y": [
          7,
          3,
          9,
          31,
          45,
          50,
          46,
          53,
          76,
          52,
          31
         ]
        },
        {
         "mode": "lines+markers",
         "name": "NTM2 - X1 - A38 - DIRECT - Small - Powder - Sourcing Cost",
         "text": [
          "200.0",
          "200.0",
          "200.0",
          "457.143",
          "200.0",
          "200.0",
          "200.0",
          "169.231",
          "191.157",
          "201.49",
          "201.491"
         ],
         "textposition": "top center",
         "type": "scatter",
         "x": [
          "July",
          "August",
          "September",
          "October",
          "November",
          "December",
          "January",
          "February",
          "March",
          "April",
          "May"
         ],
         "y": [
          200,
          200,
          200,
          457.143,
          200,
          200,
          200,
          169.231,
          191.157,
          201.49,
          201.491
         ]
        },
        {
         "mode": "lines+markers",
         "name": "NTM2 - X1 - A38 - DIRECT - Small - Powder - Quantity",
         "text": [
          "175",
          "87",
          "148",
          "297",
          "385",
          "367",
          "264",
          "182",
          "291",
          "217",
          "271"
         ],
         "textposition": "top center",
         "type": "scatter",
         "x": [
          "July",
          "August",
          "September",
          "October",
          "November",
          "December",
          "January",
          "February",
          "March",
          "April",
          "May"
         ],
         "y": [
          175,
          87,
          148,
          297,
          385,
          367,
          264,
          182,
          291,
          217,
          271
         ]
        },
        {
         "mode": "lines+markers",
         "name": "NTM2 - X1 - A38 - RETAIL - Large - Powder - Sourcing Cost",
         "text": [
          "200.0",
          "200.0",
          "200.0",
          "200.0",
          "88.889",
          "160.0",
          "146.538",
          "268.653",
          "201.49"
         ],
         "textposition": "top center",
         "type": "scatter",
         "x": [
          "August",
          "October",
          "November",
          "December",
          "January",
          "February",
          "March",
          "April",
          "May"
         ],
         "y": [
          200,
          200,
          200,
          200,
          88.889,
          160,
          146.538,
          268.653,
          201.49
         ]
        },
        {
         "mode": "lines+markers",
         "name": "NTM2 - X1 - A38 - RETAIL - Large - Powder - Quantity",
         "text": [
          "2",
          "31",
          "25",
          "65",
          "23",
          "43",
          "81",
          "90",
          "21"
         ],
         "textposition": "top center",
         "type": "scatter",
         "x": [
          "August",
          "October",
          "November",
          "December",
          "January",
          "February",
          "March",
          "April",
          "May"
         ],
         "y": [
          2,
          31,
          25,
          65,
          23,
          43,
          81,
          90,
          21
         ]
        },
        {
         "mode": "lines+markers",
         "name": "NTM2 - X1 - A4 - DIRECT - Large - Powder - Sourcing Cost",
         "text": [
          "134.528",
          "135.867",
          "139.26",
          "133.445",
          "139.421",
          "143.592",
          "141.906",
          "142.609",
          "142.111",
          "143.918",
          "142.365"
         ],
         "textposition": "top center",
         "type": "scatter",
         "x": [
          "July",
          "August",
          "September",
          "October",
          "November",
          "December",
          "January",
          "February",
          "March",
          "April",
          "May"
         ],
         "y": [
          134.528,
          135.867,
          139.26,
          133.445,
          139.421,
          143.592,
          141.906,
          142.609,
          142.111,
          143.918,
          142.365
         ]
        },
        {
         "mode": "lines+markers",
         "name": "NTM2 - X1 - A4 - DIRECT - Large - Powder - Quantity",
         "text": [
          "553",
          "448",
          "703",
          "647",
          "1110",
          "725",
          "763",
          "510",
          "557",
          "406",
          "546"
         ],
         "textposition": "top center",
         "type": "scatter",
         "x": [
          "July",
          "August",
          "September",
          "October",
          "November",
          "December",
          "January",
          "February",
          "March",
          "April",
          "May"
         ],
         "y": [
          553,
          448,
          703,
          647,
          1110,
          725,
          763,
          510,
          557,
          406,
          546
         ]
        },
        {
         "mode": "lines+markers",
         "name": "NTM2 - X1 - A41 - WHOLESALE - Small - Powder - Sourcing Cost",
         "text": [
          "122.95",
          "0.0",
          "142.233",
          "141.78",
          "138.85",
          "134.002"
         ],
         "textposition": "top center",
         "type": "scatter",
         "x": [
          "November",
          "December",
          "January",
          "February",
          "March",
          "May"
         ],
         "y": [
          122.95,
          0,
          142.233,
          141.78,
          138.85,
          134.002
         ]
        },
        {
         "mode": "lines+markers",
         "name": "NTM2 - X1 - A41 - WHOLESALE - Small - Powder - Quantity",
         "text": [
          "3",
          "2",
          "3",
          "2",
          "2",
          "106"
         ],
         "textposition": "top center",
         "type": "scatter",
         "x": [
          "November",
          "December",
          "January",
          "February",
          "March",
          "May"
         ],
         "y": [
          3,
          2,
          3,
          2,
          2,
          106
         ]
        },
        {
         "mode": "lines+markers",
         "name": "NTM2 - X1 - A5 - DIRECT - Large - Powder - Sourcing Cost",
         "text": [
          "135.867",
          "137.515",
          "134.317",
          "133.785",
          "137.667",
          "144.949",
          "147.874",
          "149.555",
          "158.522",
          "149.533",
          "144.888"
         ],
         "textposition": "top center",
         "type": "scatter",
         "x": [
          "July",
          "August",
          "September",
          "October",
          "November",
          "December",
          "January",
          "February",
          "March",
          "April",
          "May"
         ],
         "y": [
          135.867,
          137.515,
          134.317,
          133.785,
          137.667,
          144.949,
          147.874,
          149.555,
          158.522,
          149.533,
          144.888
         ]
        },
        {
         "mode": "lines+markers",
         "name": "NTM2 - X1 - A5 - DIRECT - Large - Powder - Quantity",
         "text": [
          "1868",
          "1178",
          "1366",
          "1617",
          "1058",
          "1769",
          "1753",
          "734",
          "1701",
          "1529",
          "1305"
         ],
         "textposition": "top center",
         "type": "scatter",
         "x": [
          "July",
          "August",
          "September",
          "October",
          "November",
          "December",
          "January",
          "February",
          "March",
          "April",
          "May"
         ],
         "y": [
          1868,
          1178,
          1366,
          1617,
          1058,
          1769,
          1753,
          734,
          1701,
          1529,
          1305
         ]
        },
        {
         "mode": "lines+markers",
         "name": "NTM2 - X1 - A5 - DIRECT - Small - Powder - Sourcing Cost",
         "text": [
          "136.256",
          "138.064",
          "135.976",
          "133.786",
          "137.667",
          "143.133",
          "149.89",
          "149.87",
          "147.639",
          "149.715",
          "148.568"
         ],
         "textposition": "top center",
         "type": "scatter",
         "x": [
          "July",
          "August",
          "September",
          "October",
          "November",
          "December",
          "January",
          "February",
          "March",
          "April",
          "May"
         ],
         "y": [
          136.256,
          138.064,
          135.976,
          133.786,
          137.667,
          143.133,
          149.89,
          149.87,
          147.639,
          149.715,
          148.568
         ]
        },
        {
         "mode": "lines+markers",
         "name": "NTM2 - X1 - A5 - DIRECT - Small - Powder - Quantity",
         "text": [
          "856",
          "557",
          "749",
          "658",
          "435",
          "979",
          "1221",
          "446",
          "1024",
          "907",
          "542"
         ],
         "textposition": "top center",
         "type": "scatter",
         "x": [
          "July",
          "August",
          "September",
          "October",
          "November",
          "December",
          "January",
          "February",
          "March",
          "April",
          "May"
         ],
         "y": [
          856,
          557,
          749,
          658,
          435,
          979,
          1221,
          446,
          1024,
          907,
          542
         ]
        },
        {
         "mode": "lines+markers",
         "name": "NTM2 - X1 - A6 - DIRECT - Large - Liquid - Sourcing Cost",
         "text": [
          "134.53",
          "140.23",
          "138.403",
          "136.022",
          "143.64",
          "142.706",
          "142.609",
          "142.111",
          "143.918",
          "144.391"
         ],
         "textposition": "top center",
         "type": "scatter",
         "x": [
          "July",
          "August",
          "September",
          "October",
          "November",
          "January",
          "February",
          "March",
          "April",
          "May"
         ],
         "y": [
          134.53,
          140.23,
          138.403,
          136.022,
          143.64,
          142.706,
          142.609,
          142.111,
          143.918,
          144.391
         ]
        },
        {
         "mode": "lines+markers",
         "name": "NTM2 - X1 - A6 - DIRECT - Large - Liquid - Quantity",
         "text": [
          "13",
          "25",
          "20",
          "46",
          "235",
          "87",
          "122",
          "140",
          "200",
          "118"
         ],
         "textposition": "top center",
         "type": "scatter",
         "x": [
          "July",
          "August",
          "September",
          "October",
          "November",
          "January",
          "February",
          "March",
          "April",
          "May"
         ],
         "y": [
          13,
          25,
          20,
          46,
          235,
          87,
          122,
          140,
          200,
          118
         ]
        },
        {
         "mode": "lines+markers",
         "name": "NTM2 - X1 - A6 - DIRECT - Large - Powder - Sourcing Cost",
         "text": [
          "136.469",
          "136.091",
          "138.632",
          "135.101",
          "150.016",
          "141.906",
          "142.608",
          "142.112",
          "145.195",
          "144.391"
         ],
         "textposition": "top center",
         "type": "scatter",
         "x": [
          "July",
          "August",
          "September",
          "October",
          "November",
          "January",
          "February",
          "March",
          "April",
          "May"
         ],
         "y": [
          136.469,
          136.091,
          138.632,
          135.101,
          150.016,
          141.906,
          142.608,
          142.112,
          145.195,
          144.391
         ]
        },
        {
         "mode": "lines+markers",
         "name": "NTM2 - X1 - A6 - DIRECT - Large - Powder - Quantity",
         "text": [
          "488",
          "501",
          "322",
          "536",
          "1083",
          "505",
          "566",
          "325",
          "510",
          "309"
         ],
         "textposition": "top center",
         "type": "scatter",
         "x": [
          "July",
          "August",
          "September",
          "October",
          "November",
          "January",
          "February",
          "March",
          "April",
          "May"
         ],
         "y": [
          488,
          501,
          322,
          536,
          1083,
          505,
          566,
          325,
          510,
          309
         ]
        },
        {
         "mode": "lines+markers",
         "name": "NTM2 - X1 - A7 - DIRECT - Large - Liquid - Sourcing Cost",
         "text": [
          "133.002",
          "136.091",
          "133.632",
          "136.021",
          "137.889",
          "146.613",
          "143.884",
          "145.918",
          "141.583",
          "143.734",
          "142.365"
         ],
         "textposition": "top center",
         "type": "scatter",
         "x": [
          "July",
          "August",
          "September",
          "October",
          "November",
          "December",
          "January",
          "February",
          "March",
          "April",
          "May"
         ],
         "y": [
          133.002,
          136.091,
          133.632,
          136.021,
          137.889,
          146.613,
          143.884,
          145.918,
          141.583,
          143.734,
          142.365
         ]
        },
        {
         "mode": "lines+markers",
         "name": "NTM2 - X1 - A7 - DIRECT - Large - Liquid - Quantity",
         "text": [
          "133",
          "137",
          "161",
          "76",
          "169",
          "270",
          "309",
          "227",
          "83",
          "104",
          "73"
         ],
         "textposition": "top center",
         "type": "scatter",
         "x": [
          "July",
          "August",
          "September",
          "October",
          "November",
          "December",
          "January",
          "February",
          "March",
          "April",
          "May"
         ],
         "y": [
          133,
          137,
          161,
          76,
          169,
          270,
          309,
          227,
          83,
          104,
          73
         ]
        },
        {
         "mode": "lines+markers",
         "name": "NTM2 - X1 - A7 - DIRECT - Small - Powder - Sourcing Cost",
         "text": [
          "136.571",
          "137.516",
          "166.513",
          "134.673",
          "139.829",
          "144.949",
          "143.126",
          "150.044",
          "143.143",
          "141.219",
          "142.365"
         ],
         "textposition": "top center",
         "type": "scatter",
         "x": [
          "July",
          "August",
          "September",
          "October",
          "November",
          "December",
          "January",
          "February",
          "March",
          "April",
          "May"
         ],
         "y": [
          136.571,
          137.516,
          166.513,
          134.673,
          139.829,
          144.949,
          143.126,
          150.044,
          143.143,
          141.219,
          142.365
         ]
        },
        {
         "mode": "lines+markers",
         "name": "NTM2 - X1 - A7 - DIRECT - Small - Powder - Quantity",
         "text": [
          "693",
          "803",
          "1122",
          "582",
          "1165",
          "1582",
          "952",
          "1195",
          "434",
          "730",
          "305"
         ],
         "textposition": "top center",
         "type": "scatter",
         "x": [
          "July",
          "August",
          "September",
          "October",
          "November",
          "December",
          "January",
          "February",
          "March",
          "April",
          "May"
         ],
         "y": [
          693,
          803,
          1122,
          582,
          1165,
          1582,
          952,
          1195,
          434,
          730,
          305
         ]
        },
        {
         "mode": "lines+markers",
         "name": "NTM2 - X1 - A7 - ECOM - Large - Powder - Sourcing Cost",
         "text": [
          "136.256",
          "136.09",
          "138.623",
          "137.035",
          "140.449",
          "144.28",
          "142.754",
          "141.394",
          "144.211",
          "141.812",
          "143.734"
         ],
         "textposition": "top center",
         "type": "scatter",
         "x": [
          "July",
          "August",
          "September",
          "October",
          "November",
          "December",
          "January",
          "February",
          "March",
          "April",
          "May"
         ],
         "y": [
          136.256,
          136.09,
          138.623,
          137.035,
          140.449,
          144.28,
          142.754,
          141.394,
          144.211,
          141.812,
          143.734
         ]
        },
        {
         "mode": "lines+markers",
         "name": "NTM2 - X1 - A7 - ECOM - Large - Powder - Quantity",
         "text": [
          "7",
          "15",
          "8",
          "8",
          "1906",
          "608",
          "813",
          "919",
          "1067",
          "672",
          "790"
         ],
         "textposition": "top center",
         "type": "scatter",
         "x": [
          "July",
          "August",
          "September",
          "October",
          "November",
          "December",
          "January",
          "February",
          "March",
          "April",
          "May"
         ],
         "y": [
          7,
          15,
          8,
          8,
          1906,
          608,
          813,
          919,
          1067,
          672,
          790
         ]
        },
        {
         "mode": "lines+markers",
         "name": "NTM2 - X1 - A7 - ECOM - Small - Powder - Sourcing Cost",
         "text": [
          "135.48",
          "137.515",
          "138.62",
          "136.023",
          "220.581",
          "148.076",
          "140.83",
          "140.746",
          "141.582",
          "143.969",
          "144.391"
         ],
         "textposition": "top center",
         "type": "scatter",
         "x": [
          "July",
          "August",
          "September",
          "October",
          "November",
          "December",
          "January",
          "February",
          "March",
          "April",
          "May"
         ],
         "y": [
          135.48,
          137.515,
          138.62,
          136.023,
          220.581,
          148.076,
          140.83,
          140.746,
          141.582,
          143.969,
          144.391
         ]
        },
        {
         "mode": "lines+markers",
         "name": "NTM2 - X1 - A7 - ECOM - Small - Powder - Quantity",
         "text": [
          "6",
          "9",
          "8",
          "10",
          "850",
          "258",
          "239",
          "232",
          "410",
          "197",
          "300"
         ],
         "textposition": "top center",
         "type": "scatter",
         "x": [
          "July",
          "August",
          "September",
          "October",
          "November",
          "December",
          "January",
          "February",
          "March",
          "April",
          "May"
         ],
         "y": [
          6,
          9,
          8,
          10,
          850,
          258,
          239,
          232,
          410,
          197,
          300
         ]
        },
        {
         "mode": "lines+markers",
         "name": "NTM2 - X1 - A8 - DIRECT - Large - Liquid - Sourcing Cost",
         "text": [
          "132.537",
          "153.842",
          "136.848",
          "144.488",
          "160.283",
          "151.627",
          "153.762",
          "148.339",
          "154.184",
          "159.111",
          "156.939"
         ],
         "textposition": "top center",
         "type": "scatter",
         "x": [
          "July",
          "August",
          "September",
          "October",
          "November",
          "December",
          "January",
          "February",
          "March",
          "April",
          "May"
         ],
         "y": [
          132.537,
          153.842,
          136.848,
          144.488,
          160.283,
          151.627,
          153.762,
          148.339,
          154.184,
          159.111,
          156.939
         ]
        },
        {
         "mode": "lines+markers",
         "name": "NTM2 - X1 - A8 - DIRECT - Large - Liquid - Quantity",
         "text": [
          "125",
          "160",
          "106",
          "155",
          "389",
          "469",
          "337",
          "280",
          "396",
          "367",
          "348"
         ],
         "textposition": "top center",
         "type": "scatter",
         "x": [
          "July",
          "August",
          "September",
          "October",
          "November",
          "December",
          "January",
          "February",
          "March",
          "April",
          "May"
         ],
         "y": [
          125,
          160,
          106,
          155,
          389,
          469,
          337,
          280,
          396,
          367,
          348
         ]
        },
        {
         "mode": "lines+markers",
         "name": "NTM2 - X1 - A9 - DIRECT - Large - Powder - Sourcing Cost",
         "text": [
          "138.284",
          "137.549",
          "135.975",
          "134.281",
          "140.833",
          "144.397",
          "146.437",
          "155.839",
          "145.397",
          "158.548",
          "148.396"
         ],
         "textposition": "top center",
         "type": "scatter",
         "x": [
          "July",
          "August",
          "September",
          "October",
          "November",
          "December",
          "January",
          "February",
          "March",
          "April",
          "May"
         ],
         "y": [
          138.284,
          137.549,
          135.975,
          134.281,
          140.833,
          144.397,
          146.437,
          155.839,
          145.397,
          158.548,
          148.396
         ]
        },
        {
         "mode": "lines+markers",
         "name": "NTM2 - X1 - A9 - DIRECT - Large - Powder - Quantity",
         "text": [
          "512",
          "309",
          "691",
          "135",
          "550",
          "498",
          "262",
          "548",
          "370",
          "428",
          "1018"
         ],
         "textposition": "top center",
         "type": "scatter",
         "x": [
          "July",
          "August",
          "September",
          "October",
          "November",
          "December",
          "January",
          "February",
          "March",
          "April",
          "May"
         ],
         "y": [
          512,
          309,
          691,
          135,
          550,
          498,
          262,
          548,
          370,
          428,
          1018
         ]
        },
        {
         "mode": "lines+markers",
         "name": "NTM2 - X2 - A21 - RETAIL - Large - Powder - Sourcing Cost",
         "text": [
          "114.929",
          "114.032",
          "60.448",
          "116.791",
          "42.603",
          "106.658",
          "116.527",
          "99.573",
          "112.441"
         ],
         "textposition": "top center",
         "type": "scatter",
         "x": [
          "September",
          "October",
          "November",
          "December",
          "January",
          "February",
          "March",
          "April",
          "May"
         ],
         "y": [
          114.929,
          114.032,
          60.448,
          116.791,
          42.603,
          106.658,
          116.527,
          99.573,
          112.441
         ]
        },
        {
         "mode": "lines+markers",
         "name": "NTM2 - X2 - A21 - RETAIL - Large - Powder - Quantity",
         "text": [
          "87",
          "174",
          "242",
          "66",
          "240",
          "454",
          "697",
          "589",
          "696"
         ],
         "textposition": "top center",
         "type": "scatter",
         "x": [
          "September",
          "October",
          "November",
          "December",
          "January",
          "February",
          "March",
          "April",
          "May"
         ],
         "y": [
          87,
          174,
          242,
          66,
          240,
          454,
          697,
          589,
          696
         ]
        },
        {
         "mode": "lines+markers",
         "name": "NTM2 - X2 - A25 - DIRECT - Small - Powder - Sourcing Cost",
         "text": [
          "128.709",
          "0.008",
          "7.683",
          "58.977",
          "6.773",
          "64.33",
          "128.67",
          "64.324",
          "45.036",
          "40.154",
          "71.087"
         ],
         "textposition": "top center",
         "type": "scatter",
         "x": [
          "July",
          "August",
          "September",
          "October",
          "November",
          "December",
          "January",
          "February",
          "March",
          "April",
          "May"
         ],
         "y": [
          128.709,
          0.008,
          7.683,
          58.977,
          6.773,
          64.33,
          128.67,
          64.324,
          45.036,
          40.154,
          71.087
         ]
        },
        {
         "mode": "lines+markers",
         "name": "NTM2 - X2 - A25 - DIRECT - Small - Powder - Quantity",
         "text": [
          "461",
          "309",
          "380",
          "282",
          "356",
          "335",
          "328",
          "289",
          "410",
          "327",
          "308"
         ],
         "textposition": "top center",
         "type": "scatter",
         "x": [
          "July",
          "August",
          "September",
          "October",
          "November",
          "December",
          "January",
          "February",
          "March",
          "April",
          "May"
         ],
         "y": [
          461,
          309,
          380,
          282,
          356,
          335,
          328,
          289,
          410,
          327,
          308
         ]
        },
        {
         "mode": "lines+markers",
         "name": "NTM2 - X2 - A31 - DIRECT - Large - Powder - Sourcing Cost",
         "text": [
          "17.444",
          "104.137",
          "-1.2628786905111201e-15",
          "110.633",
          "113.671",
          "111.149",
          "110.908",
          "136.249",
          "0.0",
          "-0.0010000000000001",
          "0.037"
         ],
         "textposition": "top center",
         "type": "scatter",
         "x": [
          "July",
          "August",
          "September",
          "October",
          "November",
          "December",
          "January",
          "February",
          "March",
          "April",
          "May"
         ],
         "y": [
          17.444,
          104.137,
          -1.2628786905111201e-15,
          110.633,
          113.671,
          111.149,
          110.908,
          136.249,
          0,
          -0.0010000000000001,
          0.037
         ]
        },
        {
         "mode": "lines+markers",
         "name": "NTM2 - X2 - A31 - DIRECT - Large - Powder - Quantity",
         "text": [
          "2329",
          "2026",
          "2260",
          "2364",
          "2750",
          "970",
          "351",
          "279",
          "1098",
          "781",
          "1692"
         ],
         "textposition": "top center",
         "type": "scatter",
         "x": [
          "July",
          "August",
          "September",
          "October",
          "November",
          "December",
          "January",
          "February",
          "March",
          "April",
          "May"
         ],
         "y": [
          2329,
          2026,
          2260,
          2364,
          2750,
          970,
          351,
          279,
          1098,
          781,
          1692
         ]
        },
        {
         "mode": "lines+markers",
         "name": "NTM2 - X2 - A32 - RETAIL - Small - Powder - Sourcing Cost",
         "text": [
          "0.0",
          "42.573",
          "38.152",
          "21.248",
          "4.14945855453652e-15",
          "27.162",
          "3.04699999999999",
          "5.00207514297912e-15",
          "63.838",
          "64.031",
          "63.986"
         ],
         "textposition": "top center",
         "type": "scatter",
         "x": [
          "July",
          "August",
          "September",
          "October",
          "November",
          "December",
          "January",
          "February",
          "March",
          "April",
          "May"
         ],
         "y": [
          0,
          42.573,
          38.152,
          21.248,
          4.14945855453652e-15,
          27.162,
          3.04699999999999,
          5.00207514297912e-15,
          63.838,
          64.031,
          63.986
         ]
        },
        {
         "mode": "lines+markers",
         "name": "NTM2 - X2 - A32 - RETAIL - Small - Powder - Quantity",
         "text": [
          "523",
          "354",
          "406",
          "419",
          "315",
          "452",
          "453",
          "495",
          "842",
          "420",
          "468"
         ],
         "textposition": "top center",
         "type": "scatter",
         "x": [
          "July",
          "August",
          "September",
          "October",
          "November",
          "December",
          "January",
          "February",
          "March",
          "April",
          "May"
         ],
         "y": [
          523,
          354,
          406,
          419,
          315,
          452,
          453,
          495,
          842,
          420,
          468
         ]
        },
        {
         "mode": "lines+markers",
         "name": "NTM2 - X2 - A44 - RETAIL - Large - Powder - Sourcing Cost",
         "text": [
          "21.451",
          "-2.0261570199409103e-15",
          "8.169",
          "8.036",
          "24.89",
          "79.157",
          "54.716",
          "88.979",
          "91.272",
          "135.179",
          "133.111"
         ],
         "textposition": "top center",
         "type": "scatter",
         "x": [
          "July",
          "August",
          "September",
          "October",
          "November",
          "December",
          "January",
          "February",
          "March",
          "April",
          "May"
         ],
         "y": [
          21.451,
          -2.0261570199409103e-15,
          8.169,
          8.036,
          24.89,
          79.157,
          54.716,
          88.979,
          91.272,
          135.179,
          133.111
         ]
        },
        {
         "mode": "lines+markers",
         "name": "NTM2 - X2 - A44 - RETAIL - Large - Powder - Quantity",
         "text": [
          "1216",
          "1008",
          "1180",
          "1478",
          "1194",
          "1119",
          "960",
          "1172",
          "1342",
          "1327",
          "1784"
         ],
         "textposition": "top center",
         "type": "scatter",
         "x": [
          "July",
          "August",
          "September",
          "October",
          "November",
          "December",
          "January",
          "February",
          "March",
          "April",
          "May"
         ],
         "y": [
          1216,
          1008,
          1180,
          1478,
          1194,
          1119,
          960,
          1172,
          1342,
          1327,
          1784
         ]
        },
        {
         "mode": "lines+markers",
         "name": "NTM2 - X2 - A45 - DIRECT - Large - Powder - Sourcing Cost",
         "text": [
          "26.191",
          "26.254",
          "25.832",
          "26.11",
          "26.935",
          "27.494",
          "27.159",
          "26.506",
          "26.137",
          "26.132",
          "25.464"
         ],
         "textposition": "top center",
         "type": "scatter",
         "x": [
          "July",
          "August",
          "September",
          "October",
          "November",
          "December",
          "January",
          "February",
          "March",
          "April",
          "May"
         ],
         "y": [
          26.191,
          26.254,
          25.832,
          26.11,
          26.935,
          27.494,
          27.159,
          26.506,
          26.137,
          26.132,
          25.464
         ]
        },
        {
         "mode": "lines+markers",
         "name": "NTM2 - X2 - A45 - DIRECT - Large - Powder - Quantity",
         "text": [
          "526",
          "490",
          "401",
          "328",
          "601",
          "485",
          "628",
          "282",
          "450",
          "599",
          "353"
         ],
         "textposition": "top center",
         "type": "scatter",
         "x": [
          "July",
          "August",
          "September",
          "October",
          "November",
          "December",
          "January",
          "February",
          "March",
          "April",
          "May"
         ],
         "y": [
          526,
          490,
          401,
          328,
          601,
          485,
          628,
          282,
          450,
          599,
          353
         ]
        },
        {
         "mode": "lines+markers",
         "name": "NTM3 - X1 - A10 - ECOM - Large - Powder - Sourcing Cost",
         "text": [
          "131.5",
          "132.509",
          "134.032",
          "114.497",
          "131.807",
          "135.718",
          "143.45",
          "115.469",
          "139.446",
          "140.826"
         ],
         "textposition": "top center",
         "type": "scatter",
         "x": [
          "July",
          "August",
          "September",
          "November",
          "December",
          "January",
          "February",
          "March",
          "April",
          "May"
         ],
         "y": [
          131.5,
          132.509,
          134.032,
          114.497,
          131.807,
          135.718,
          143.45,
          115.469,
          139.446,
          140.826
         ]
        },
        {
         "mode": "lines+markers",
         "name": "NTM3 - X1 - A10 - ECOM - Large - Powder - Quantity",
         "text": [
          "6",
          "13",
          "10",
          "69",
          "206",
          "257",
          "136",
          "205",
          "279",
          "167"
         ],
         "textposition": "top center",
         "type": "scatter",
         "x": [
          "July",
          "August",
          "September",
          "November",
          "December",
          "January",
          "February",
          "March",
          "April",
          "May"
         ],
         "y": [
          6,
          13,
          10,
          69,
          206,
          257,
          136,
          205,
          279,
          167
         ]
        },
        {
         "mode": "lines+markers",
         "name": "NTM3 - X1 - A11 - DIRECT - Large - Powder - Sourcing Cost",
         "text": [
          "132.193",
          "134.431",
          "130.101",
          "132.442",
          "112.357",
          "22.299",
          "39.052",
          "141.975",
          "138.271",
          "140.139",
          "50.857"
         ],
         "textposition": "top center",
         "type": "scatter",
         "x": [
          "July",
          "August",
          "September",
          "October",
          "November",
          "December",
          "January",
          "February",
          "March",
          "April",
          "May"
         ],
         "y": [
          132.193,
          134.431,
          130.101,
          132.442,
          112.357,
          22.299,
          39.052,
          141.975,
          138.271,
          140.139,
          50.857
         ]
        },
        {
         "mode": "lines+markers",
         "name": "NTM3 - X1 - A11 - DIRECT - Large - Powder - Quantity",
         "text": [
          "109",
          "109",
          "115",
          "139",
          "236",
          "160",
          "208",
          "85",
          "50",
          "158",
          "124"
         ],
         "textposition": "top center",
         "type": "scatter",
         "x": [
          "July",
          "August",
          "September",
          "October",
          "November",
          "December",
          "January",
          "February",
          "March",
          "April",
          "May"
         ],
         "y": [
          109,
          109,
          115,
          139,
          236,
          160,
          208,
          85,
          50,
          158,
          124
         ]
        },
        {
         "mode": "lines+markers",
         "name": "NTM3 - X1 - A13 - DIRECT - Large - Powder - Sourcing Cost",
         "text": [
          "68.959",
          "60.817",
          "29.794",
          "28.591",
          "17.044",
          "22.481",
          "26.347",
          "65.151",
          "14.783",
          "63.0",
          "9.584"
         ],
         "textposition": "top center",
         "type": "scatter",
         "x": [
          "July",
          "August",
          "September",
          "October",
          "November",
          "December",
          "January",
          "February",
          "March",
          "April",
          "May"
         ],
         "y": [
          68.959,
          60.817,
          29.794,
          28.591,
          17.044,
          22.481,
          26.347,
          65.151,
          14.783,
          63,
          9.584
         ]
        },
        {
         "mode": "lines+markers",
         "name": "NTM3 - X1 - A13 - DIRECT - Large - Powder - Quantity",
         "text": [
          "496",
          "437",
          "900",
          "816",
          "658",
          "625",
          "1003",
          "558",
          "603",
          "1314",
          "138"
         ],
         "textposition": "top center",
         "type": "scatter",
         "x": [
          "July",
          "August",
          "September",
          "October",
          "November",
          "December",
          "January",
          "February",
          "March",
          "April",
          "May"
         ],
         "y": [
          496,
          437,
          900,
          816,
          658,
          625,
          1003,
          558,
          603,
          1314,
          138
         ]
        },
        {
         "mode": "lines+markers",
         "name": "NTM3 - X1 - A14 - DIRECT - Large - Liquid - Sourcing Cost",
         "text": [
          "9.169",
          "13.524",
          "0.0",
          "72.559",
          "0.0",
          "14.458",
          "0.0",
          "0.0",
          "0.0009999999999972",
          "2.4980018054066002e-15",
          "33.766"
         ],
         "textposition": "top center",
         "type": "scatter",
         "x": [
          "July",
          "August",
          "September",
          "October",
          "November",
          "December",
          "January",
          "February",
          "March",
          "April",
          "May"
         ],
         "y": [
          9.169,
          13.524,
          0,
          72.559,
          0,
          14.458,
          0,
          0,
          0.0009999999999972,
          2.4980018054066002e-15,
          33.766
         ]
        },
        {
         "mode": "lines+markers",
         "name": "NTM3 - X1 - A14 - DIRECT - Large - Liquid - Quantity",
         "text": [
          "876",
          "737",
          "912",
          "1277",
          "950",
          "1012",
          "1075",
          "655",
          "672",
          "660",
          "598"
         ],
         "textposition": "top center",
         "type": "scatter",
         "x": [
          "July",
          "August",
          "September",
          "October",
          "November",
          "December",
          "January",
          "February",
          "March",
          "April",
          "May"
         ],
         "y": [
          876,
          737,
          912,
          1277,
          950,
          1012,
          1075,
          655,
          672,
          660,
          598
         ]
        },
        {
         "mode": "lines+markers",
         "name": "NTM3 - X1 - A15 - DIRECT - Large - Powder - Sourcing Cost",
         "text": [
          "8.568",
          "52.21",
          "71.358",
          "66.661",
          "73.397",
          "6.455",
          "66.562",
          "0.0",
          "46.325",
          "18.985",
          "15.323"
         ],
         "textposition": "top center",
         "type": "scatter",
         "x": [
          "July",
          "August",
          "September",
          "October",
          "November",
          "December",
          "January",
          "February",
          "March",
          "April",
          "May"
         ],
         "y": [
          8.568,
          52.21,
          71.358,
          66.661,
          73.397,
          6.455,
          66.562,
          0,
          46.325,
          18.985,
          15.323
         ]
        },
        {
         "mode": "lines+markers",
         "name": "NTM3 - X1 - A15 - DIRECT - Large - Powder - Quantity",
         "text": [
          "213",
          "335",
          "657",
          "642",
          "285",
          "650",
          "1207",
          "338",
          "437",
          "583",
          "149"
         ],
         "textposition": "top center",
         "type": "scatter",
         "x": [
          "July",
          "August",
          "September",
          "October",
          "November",
          "December",
          "January",
          "February",
          "March",
          "April",
          "May"
         ],
         "y": [
          213,
          335,
          657,
          642,
          285,
          650,
          1207,
          338,
          437,
          583,
          149
         ]
        },
        {
         "mode": "lines+markers",
         "name": "NTM3 - X1 - A18 - RETAIL - Large - Liquid - Sourcing Cost",
         "text": [
          "149.682",
          "153.15",
          "154.971",
          "152.432",
          "154.042",
          "159.106",
          "159.092",
          "157.47",
          "153.525",
          "157.494",
          "158.594"
         ],
         "textposition": "top center",
         "type": "scatter",
         "x": [
          "July",
          "August",
          "September",
          "October",
          "November",
          "December",
          "January",
          "February",
          "March",
          "April",
          "May"
         ],
         "y": [
          149.682,
          153.15,
          154.971,
          152.432,
          154.042,
          159.106,
          159.092,
          157.47,
          153.525,
          157.494,
          158.594
         ]
        },
        {
         "mode": "lines+markers",
         "name": "NTM3 - X1 - A18 - RETAIL - Large - Liquid - Quantity",
         "text": [
          "606",
          "480",
          "547",
          "618",
          "707",
          "402",
          "553",
          "713",
          "449",
          "742",
          "461"
         ],
         "textposition": "top center",
         "type": "scatter",
         "x": [
          "July",
          "August",
          "September",
          "October",
          "November",
          "December",
          "January",
          "February",
          "March",
          "April",
          "May"
         ],
         "y": [
          606,
          480,
          547,
          618,
          707,
          402,
          553,
          713,
          449,
          742,
          461
         ]
        },
        {
         "mode": "lines+markers",
         "name": "NTM3 - X1 - A18 - WHOLESALE - Small - Powder - Sourcing Cost",
         "text": [
          "103.989",
          "103.352",
          "104.165",
          "104.897",
          "104.529",
          "107.619",
          "106.875",
          "107.22",
          "105.583",
          "105.303",
          "108.151"
         ],
         "textposition": "top center",
         "type": "scatter",
         "x": [
          "July",
          "August",
          "September",
          "October",
          "November",
          "December",
          "January",
          "February",
          "March",
          "April",
          "May"
         ],
         "y": [
          103.989,
          103.352,
          104.165,
          104.897,
          104.529,
          107.619,
          106.875,
          107.22,
          105.583,
          105.303,
          108.151
         ]
        },
        {
         "mode": "lines+markers",
         "name": "NTM3 - X1 - A18 - WHOLESALE - Small - Powder - Quantity",
         "text": [
          "59",
          "214",
          "33",
          "105",
          "130",
          "174",
          "348",
          "768",
          "1172",
          "470",
          "403"
         ],
         "textposition": "top center",
         "type": "scatter",
         "x": [
          "July",
          "August",
          "September",
          "October",
          "November",
          "December",
          "January",
          "February",
          "March",
          "April",
          "May"
         ],
         "y": [
          59,
          214,
          33,
          105,
          130,
          174,
          348,
          768,
          1172,
          470,
          403
         ]
        },
        {
         "mode": "lines+markers",
         "name": "NTM3 - X1 - A24 - DIRECT - Small - Powder - Sourcing Cost",
         "text": [
          "93.675",
          "97.21",
          "3.947",
          "0.793999999999997",
          "47.584",
          "86.871",
          "0.0",
          "49.958",
          "206.859",
          "0.0",
          "42.134"
         ],
         "textposition": "top center",
         "type": "scatter",
         "x": [
          "July",
          "August",
          "September",
          "October",
          "November",
          "December",
          "January",
          "February",
          "March",
          "April",
          "May"
         ],
         "y": [
          93.675,
          97.21,
          3.947,
          0.793999999999997,
          47.584,
          86.871,
          0,
          49.958,
          206.859,
          0,
          42.134
         ]
        },
        {
         "mode": "lines+markers",
         "name": "NTM3 - X1 - A24 - DIRECT - Small - Powder - Quantity",
         "text": [
          "390",
          "641",
          "502",
          "615",
          "869",
          "594",
          "2014",
          "1163",
          "1461",
          "912",
          "1564"
         ],
         "textposition": "top center",
         "type": "scatter",
         "x": [
          "July",
          "August",
          "September",
          "October",
          "November",
          "December",
          "January",
          "February",
          "March",
          "April",
          "May"
         ],
         "y": [
          390,
          641,
          502,
          615,
          869,
          594,
          2014,
          1163,
          1461,
          912,
          1564
         ]
        },
        {
         "mode": "lines+markers",
         "name": "NTM3 - X1 - A25 - RETAIL - Large - Powder - Sourcing Cost",
         "text": [
          "128.704",
          "128.667",
          "128.689",
          "127.911",
          "128.665",
          "128.458",
          "128.334",
          "128.433",
          "130.694"
         ],
         "textposition": "top center",
         "type": "scatter",
         "x": [
          "September",
          "October",
          "November",
          "December",
          "January",
          "February",
          "March",
          "April",
          "May"
         ],
         "y": [
          128.704,
          128.667,
          128.689,
          127.911,
          128.665,
          128.458,
          128.334,
          128.433,
          130.694
         ]
        },
        {
         "mode": "lines+markers",
         "name": "NTM3 - X1 - A25 - RETAIL - Large - Powder - Quantity",
         "text": [
          "671",
          "1038",
          "1203",
          "1144",
          "1114",
          "1200",
          "1499",
          "1387",
          "1344"
         ],
         "textposition": "top center",
         "type": "scatter",
         "x": [
          "September",
          "October",
          "November",
          "December",
          "January",
          "February",
          "March",
          "April",
          "May"
         ],
         "y": [
          671,
          1038,
          1203,
          1144,
          1114,
          1200,
          1499,
          1387,
          1344
         ]
        },
        {
         "mode": "lines+markers",
         "name": "NTM3 - X1 - A25 - RETAIL - Small - Powder - Sourcing Cost",
         "text": [
          "64.356",
          "64.355",
          "64.319",
          "64.33",
          "64.32",
          "64.228",
          "64.218",
          "64.247",
          "64.254"
         ],
         "textposition": "top center",
         "type": "scatter",
         "x": [
          "September",
          "October",
          "November",
          "December",
          "January",
          "February",
          "March",
          "April",
          "May"
         ],
         "y": [
          64.356,
          64.355,
          64.319,
          64.33,
          64.32,
          64.228,
          64.218,
          64.247,
          64.254
         ]
        },
        {
         "mode": "lines+markers",
         "name": "NTM3 - X1 - A25 - RETAIL - Small - Powder - Quantity",
         "text": [
          "405",
          "801",
          "723",
          "687",
          "728",
          "753",
          "639",
          "715",
          "586"
         ],
         "textposition": "top center",
         "type": "scatter",
         "x": [
          "September",
          "October",
          "November",
          "December",
          "January",
          "February",
          "March",
          "April",
          "May"
         ],
         "y": [
          405,
          801,
          723,
          687,
          728,
          753,
          639,
          715,
          586
         ]
        },
        {
         "mode": "lines+markers",
         "name": "NTM3 - X1 - A28 - DIRECT - Small - Powder - Sourcing Cost",
         "text": [
          "50.897",
          "47.495",
          "0.308",
          "14.33",
          "0.627000000000002",
          "35.235",
          "50.806",
          "47.881",
          "53.271",
          "52.319",
          "48.428"
         ],
         "textposition": "top center",
         "type": "scatter",
         "x": [
          "July",
          "August",
          "September",
          "October",
          "November",
          "December",
          "January",
          "February",
          "March",
          "April",
          "May"
         ],
         "y": [
          50.897,
          47.495,
          0.308,
          14.33,
          0.627000000000002,
          35.235,
          50.806,
          47.881,
          53.271,
          52.319,
          48.428
         ]
        },
        {
         "mode": "lines+markers",
         "name": "NTM3 - X1 - A28 - DIRECT - Small - Powder - Quantity",
         "text": [
          "967",
          "2772",
          "3352",
          "2012",
          "1612",
          "692",
          "711",
          "973",
          "766",
          "738",
          "942"
         ],
         "textposition": "top center",
         "type": "scatter",
         "x": [
          "July",
          "August",
          "September",
          "October",
          "November",
          "December",
          "January",
          "February",
          "March",
          "April",
          "May"
         ],
         "y": [
          967,
          2772,
          3352,
          2012,
          1612,
          692,
          711,
          973,
          766,
          738,
          942
         ]
        },
        {
         "mode": "lines+markers",
         "name": "NTM3 - X1 - A28 - WHOLESALE - Large - Powder - Sourcing Cost",
         "text": [
          "5.553",
          "15.899",
          "30.884",
          "50.157",
          "11.0",
          "16.693",
          "4.814",
          "102.4",
          "42.356",
          "10.503",
          "10.158"
         ],
         "textposition": "top center",
         "type": "scatter",
         "x": [
          "July",
          "August",
          "September",
          "October",
          "November",
          "December",
          "January",
          "February",
          "March",
          "April",
          "May"
         ],
         "y": [
          5.553,
          15.899,
          30.884,
          50.157,
          11,
          16.693,
          4.814,
          102.4,
          42.356,
          10.503,
          10.158
         ]
        },
        {
         "mode": "lines+markers",
         "name": "NTM3 - X1 - A28 - WHOLESALE - Large - Powder - Quantity",
         "text": [
          "60",
          "233",
          "193",
          "39",
          "188",
          "231",
          "91",
          "45",
          "125",
          "164",
          "79"
         ],
         "textposition": "top center",
         "type": "scatter",
         "x": [
          "July",
          "August",
          "September",
          "October",
          "November",
          "December",
          "January",
          "February",
          "March",
          "April",
          "May"
         ],
         "y": [
          60,
          233,
          193,
          39,
          188,
          231,
          91,
          45,
          125,
          164,
          79
         ]
        },
        {
         "mode": "lines+markers",
         "name": "NTM3 - X1 - A35 - DIRECT - ExtraLarge - Powder - Sourcing Cost",
         "text": [
          "57.0",
          "57.0",
          "66.5",
          "57.0",
          "57.0",
          "57.0",
          "42.75",
          "57.0",
          "57.0",
          "57.0",
          "57.0"
         ],
         "textposition": "top center",
         "type": "scatter",
         "x": [
          "July",
          "August",
          "September",
          "October",
          "November",
          "December",
          "January",
          "February",
          "March",
          "April",
          "May"
         ],
         "y": [
          57,
          57,
          66.5,
          57,
          57,
          57,
          42.75,
          57,
          57,
          57,
          57
         ]
        },
        {
         "mode": "lines+markers",
         "name": "NTM3 - X1 - A35 - DIRECT - ExtraLarge - Powder - Quantity",
         "text": [
          "660",
          "358",
          "195",
          "206",
          "256",
          "523",
          "192",
          "346",
          "570",
          "540",
          "302"
         ],
         "textposition": "top center",
         "type": "scatter",
         "x": [
          "July",
          "August",
          "September",
          "October",
          "November",
          "December",
          "January",
          "February",
          "March",
          "April",
          "May"
         ],
         "y": [
          660,
          358,
          195,
          206,
          256,
          523,
          192,
          346,
          570,
          540,
          302
         ]
        },
        {
         "mode": "lines+markers",
         "name": "NTM3 - X1 - A35 - DIRECT - Small - Liquid - Sourcing Cost",
         "text": [
          "42.8",
          "42.8",
          "42.8",
          "214.0",
          "73.371",
          "57.906",
          "42.8",
          "42.8",
          "198.894",
          "25.68",
          "38.52"
         ],
         "textposition": "top center",
         "type": "scatter",
         "x": [
          "July",
          "August",
          "September",
          "October",
          "November",
          "December",
          "January",
          "February",
          "March",
          "April",
          "May"
         ],
         "y": [
          42.8,
          42.8,
          42.8,
          214,
          73.371,
          57.906,
          42.8,
          42.8,
          198.894,
          25.68,
          38.52
         ]
        },
        {
         "mode": "lines+markers",
         "name": "NTM3 - X1 - A35 - DIRECT - Small - Liquid - Quantity",
         "text": [
          "454",
          "436",
          "344",
          "437",
          "463",
          "459",
          "443",
          "385",
          "492",
          "463",
          "353"
         ],
         "textposition": "top center",
         "type": "scatter",
         "x": [
          "July",
          "August",
          "September",
          "October",
          "November",
          "December",
          "January",
          "February",
          "March",
          "April",
          "May"
         ],
         "y": [
          454,
          436,
          344,
          437,
          463,
          459,
          443,
          385,
          492,
          463,
          353
         ]
        },
        {
         "mode": "lines+markers",
         "name": "NTM3 - X1 - A44 - DIRECT - Small - Liquid - Sourcing Cost",
         "text": [
          "62.432",
          "63.538",
          "64.905",
          "64.866",
          "65.566",
          "66.396",
          "67.249",
          "66.879",
          "65.88",
          "66.42",
          "66.93"
         ],
         "textposition": "top center",
         "type": "scatter",
         "x": [
          "July",
          "August",
          "September",
          "October",
          "November",
          "December",
          "January",
          "February",
          "March",
          "April",
          "May"
         ],
         "y": [
          62.432,
          63.538,
          64.905,
          64.866,
          65.566,
          66.396,
          67.249,
          66.879,
          65.88,
          66.42,
          66.93
         ]
        },
        {
         "mode": "lines+markers",
         "name": "NTM3 - X1 - A44 - DIRECT - Small - Liquid - Quantity",
         "text": [
          "1110",
          "953",
          "907",
          "1041",
          "1397",
          "1212",
          "836",
          "530",
          "927",
          "989",
          "754"
         ],
         "textposition": "top center",
         "type": "scatter",
         "x": [
          "July",
          "August",
          "September",
          "October",
          "November",
          "December",
          "January",
          "February",
          "March",
          "April",
          "May"
         ],
         "y": [
          1110,
          953,
          907,
          1041,
          1397,
          1212,
          836,
          530,
          927,
          989,
          754
         ]
        },
        {
         "mode": "lines+markers",
         "name": "NTM3 - X1 - A8 - DIRECT - Large - Powder - Sourcing Cost",
         "text": [
          "128.802",
          "134.946",
          "134.245",
          "59.203",
          "73.391",
          "128.694",
          "128.824",
          "144.017",
          "141.291",
          "122.212",
          "125.005"
         ],
         "textposition": "top center",
         "type": "scatter",
         "x": [
          "July",
          "August",
          "September",
          "October",
          "November",
          "December",
          "January",
          "February",
          "March",
          "April",
          "May"
         ],
         "y": [
          128.802,
          134.946,
          134.245,
          59.203,
          73.391,
          128.694,
          128.824,
          144.017,
          141.291,
          122.212,
          125.005
         ]
        },
        {
         "mode": "lines+markers",
         "name": "NTM3 - X1 - A8 - DIRECT - Large - Powder - Quantity",
         "text": [
          "89",
          "211",
          "426",
          "580",
          "794",
          "664",
          "645",
          "531",
          "579",
          "629",
          "472"
         ],
         "textposition": "top center",
         "type": "scatter",
         "x": [
          "July",
          "August",
          "September",
          "October",
          "November",
          "December",
          "January",
          "February",
          "March",
          "April",
          "May"
         ],
         "y": [
          89,
          211,
          426,
          580,
          794,
          664,
          645,
          531,
          579,
          629,
          472
         ]
        },
        {
         "mode": "lines+markers",
         "name": "NTM3 - X1 - A8 - DIRECT - Small - Powder - Sourcing Cost",
         "text": [
          "132.909",
          "131.793",
          "134.245",
          "80.891",
          "48.412",
          "68.67",
          "51.351",
          "97.697",
          "113.808",
          "145.495",
          "102.628"
         ],
         "textposition": "top center",
         "type": "scatter",
         "x": [
          "July",
          "August",
          "September",
          "October",
          "November",
          "December",
          "January",
          "February",
          "March",
          "April",
          "May"
         ],
         "y": [
          132.909,
          131.793,
          134.245,
          80.891,
          48.412,
          68.67,
          51.351,
          97.697,
          113.808,
          145.495,
          102.628
         ]
        },
        {
         "mode": "lines+markers",
         "name": "NTM3 - X1 - A8 - DIRECT - Small - Powder - Quantity",
         "text": [
          "68",
          "76",
          "143",
          "165",
          "251",
          "200",
          "162",
          "172",
          "187",
          "203",
          "187"
         ],
         "textposition": "top center",
         "type": "scatter",
         "x": [
          "July",
          "August",
          "September",
          "October",
          "November",
          "December",
          "January",
          "February",
          "March",
          "April",
          "May"
         ],
         "y": [
          68,
          76,
          143,
          165,
          251,
          200,
          162,
          172,
          187,
          203,
          187
         ]
        },
        {
         "mode": "lines+markers",
         "name": "NTM3 - X2 - A20 - DIRECT - Large - Powder - Sourcing Cost",
         "text": [
          "101.966",
          "117.413",
          "21.956",
          "117.626",
          "91.185",
          "12.456",
          "47.165",
          "23.593",
          "85.706",
          "56.125",
          "8.299"
         ],
         "textposition": "top center",
         "type": "scatter",
         "x": [
          "July",
          "August",
          "September",
          "October",
          "November",
          "December",
          "January",
          "February",
          "March",
          "April",
          "May"
         ],
         "y": [
          101.966,
          117.413,
          21.956,
          117.626,
          91.185,
          12.456,
          47.165,
          23.593,
          85.706,
          56.125,
          8.299
         ]
        },
        {
         "mode": "lines+markers",
         "name": "NTM3 - X2 - A20 - DIRECT - Large - Powder - Quantity",
         "text": [
          "156",
          "123",
          "132",
          "90",
          "244",
          "197",
          "151",
          "296",
          "197",
          "344",
          "196"
         ],
         "textposition": "top center",
         "type": "scatter",
         "x": [
          "July",
          "August",
          "September",
          "October",
          "November",
          "December",
          "January",
          "February",
          "March",
          "April",
          "May"
         ],
         "y": [
          156,
          123,
          132,
          90,
          244,
          197,
          151,
          296,
          197,
          344,
          196
         ]
        },
        {
         "mode": "lines+markers",
         "name": "NTM3 - X3 - A22 - RETAIL - Large - Powder - Sourcing Cost",
         "text": [
          "50.906",
          "54.562",
          "50.616",
          "52.006",
          "53.249",
          "52.045",
          "48.711",
          "35.782",
          "55.404",
          "55.315",
          "72.0"
         ],
         "textposition": "top center",
         "type": "scatter",
         "x": [
          "July",
          "August",
          "September",
          "October",
          "November",
          "December",
          "January",
          "February",
          "March",
          "April",
          "May"
         ],
         "y": [
          50.906,
          54.562,
          50.616,
          52.006,
          53.249,
          52.045,
          48.711,
          35.782,
          55.404,
          55.315,
          72
         ]
        },
        {
         "mode": "lines+markers",
         "name": "NTM3 - X3 - A22 - RETAIL - Large - Powder - Quantity",
         "text": [
          "766",
          "734",
          "626",
          "936",
          "889",
          "693",
          "813",
          "793",
          "893",
          "979",
          "1502"
         ],
         "textposition": "top center",
         "type": "scatter",
         "x": [
          "July",
          "August",
          "September",
          "October",
          "November",
          "December",
          "January",
          "February",
          "March",
          "April",
          "May"
         ],
         "y": [
          766,
          734,
          626,
          936,
          889,
          693,
          813,
          793,
          893,
          979,
          1502
         ]
        }
       ],
       "layout": {
        "hovermode": "closest",
        "legend": {
         "title": {
          "text": "Product Combinations"
         }
        },
        "template": {
         "data": {
          "bar": [
           {
            "error_x": {
             "color": "#2a3f5f"
            },
            "error_y": {
             "color": "#2a3f5f"
            },
            "marker": {
             "line": {
              "color": "#E5ECF6",
              "width": 0.5
             },
             "pattern": {
              "fillmode": "overlay",
              "size": 10,
              "solidity": 0.2
             }
            },
            "type": "bar"
           }
          ],
          "barpolar": [
           {
            "marker": {
             "line": {
              "color": "#E5ECF6",
              "width": 0.5
             },
             "pattern": {
              "fillmode": "overlay",
              "size": 10,
              "solidity": 0.2
             }
            },
            "type": "barpolar"
           }
          ],
          "carpet": [
           {
            "aaxis": {
             "endlinecolor": "#2a3f5f",
             "gridcolor": "white",
             "linecolor": "white",
             "minorgridcolor": "white",
             "startlinecolor": "#2a3f5f"
            },
            "baxis": {
             "endlinecolor": "#2a3f5f",
             "gridcolor": "white",
             "linecolor": "white",
             "minorgridcolor": "white",
             "startlinecolor": "#2a3f5f"
            },
            "type": "carpet"
           }
          ],
          "choropleth": [
           {
            "colorbar": {
             "outlinewidth": 0,
             "ticks": ""
            },
            "type": "choropleth"
           }
          ],
          "contour": [
           {
            "colorbar": {
             "outlinewidth": 0,
             "ticks": ""
            },
            "colorscale": [
             [
              0,
              "#0d0887"
             ],
             [
              0.1111111111111111,
              "#46039f"
             ],
             [
              0.2222222222222222,
              "#7201a8"
             ],
             [
              0.3333333333333333,
              "#9c179e"
             ],
             [
              0.4444444444444444,
              "#bd3786"
             ],
             [
              0.5555555555555556,
              "#d8576b"
             ],
             [
              0.6666666666666666,
              "#ed7953"
             ],
             [
              0.7777777777777778,
              "#fb9f3a"
             ],
             [
              0.8888888888888888,
              "#fdca26"
             ],
             [
              1,
              "#f0f921"
             ]
            ],
            "type": "contour"
           }
          ],
          "contourcarpet": [
           {
            "colorbar": {
             "outlinewidth": 0,
             "ticks": ""
            },
            "type": "contourcarpet"
           }
          ],
          "heatmap": [
           {
            "colorbar": {
             "outlinewidth": 0,
             "ticks": ""
            },
            "colorscale": [
             [
              0,
              "#0d0887"
             ],
             [
              0.1111111111111111,
              "#46039f"
             ],
             [
              0.2222222222222222,
              "#7201a8"
             ],
             [
              0.3333333333333333,
              "#9c179e"
             ],
             [
              0.4444444444444444,
              "#bd3786"
             ],
             [
              0.5555555555555556,
              "#d8576b"
             ],
             [
              0.6666666666666666,
              "#ed7953"
             ],
             [
              0.7777777777777778,
              "#fb9f3a"
             ],
             [
              0.8888888888888888,
              "#fdca26"
             ],
             [
              1,
              "#f0f921"
             ]
            ],
            "type": "heatmap"
           }
          ],
          "heatmapgl": [
           {
            "colorbar": {
             "outlinewidth": 0,
             "ticks": ""
            },
            "colorscale": [
             [
              0,
              "#0d0887"
             ],
             [
              0.1111111111111111,
              "#46039f"
             ],
             [
              0.2222222222222222,
              "#7201a8"
             ],
             [
              0.3333333333333333,
              "#9c179e"
             ],
             [
              0.4444444444444444,
              "#bd3786"
             ],
             [
              0.5555555555555556,
              "#d8576b"
             ],
             [
              0.6666666666666666,
              "#ed7953"
             ],
             [
              0.7777777777777778,
              "#fb9f3a"
             ],
             [
              0.8888888888888888,
              "#fdca26"
             ],
             [
              1,
              "#f0f921"
             ]
            ],
            "type": "heatmapgl"
           }
          ],
          "histogram": [
           {
            "marker": {
             "pattern": {
              "fillmode": "overlay",
              "size": 10,
              "solidity": 0.2
             }
            },
            "type": "histogram"
           }
          ],
          "histogram2d": [
           {
            "colorbar": {
             "outlinewidth": 0,
             "ticks": ""
            },
            "colorscale": [
             [
              0,
              "#0d0887"
             ],
             [
              0.1111111111111111,
              "#46039f"
             ],
             [
              0.2222222222222222,
              "#7201a8"
             ],
             [
              0.3333333333333333,
              "#9c179e"
             ],
             [
              0.4444444444444444,
              "#bd3786"
             ],
             [
              0.5555555555555556,
              "#d8576b"
             ],
             [
              0.6666666666666666,
              "#ed7953"
             ],
             [
              0.7777777777777778,
              "#fb9f3a"
             ],
             [
              0.8888888888888888,
              "#fdca26"
             ],
             [
              1,
              "#f0f921"
             ]
            ],
            "type": "histogram2d"
           }
          ],
          "histogram2dcontour": [
           {
            "colorbar": {
             "outlinewidth": 0,
             "ticks": ""
            },
            "colorscale": [
             [
              0,
              "#0d0887"
             ],
             [
              0.1111111111111111,
              "#46039f"
             ],
             [
              0.2222222222222222,
              "#7201a8"
             ],
             [
              0.3333333333333333,
              "#9c179e"
             ],
             [
              0.4444444444444444,
              "#bd3786"
             ],
             [
              0.5555555555555556,
              "#d8576b"
             ],
             [
              0.6666666666666666,
              "#ed7953"
             ],
             [
              0.7777777777777778,
              "#fb9f3a"
             ],
             [
              0.8888888888888888,
              "#fdca26"
             ],
             [
              1,
              "#f0f921"
             ]
            ],
            "type": "histogram2dcontour"
           }
          ],
          "mesh3d": [
           {
            "colorbar": {
             "outlinewidth": 0,
             "ticks": ""
            },
            "type": "mesh3d"
           }
          ],
          "parcoords": [
           {
            "line": {
             "colorbar": {
              "outlinewidth": 0,
              "ticks": ""
             }
            },
            "type": "parcoords"
           }
          ],
          "pie": [
           {
            "automargin": true,
            "type": "pie"
           }
          ],
          "scatter": [
           {
            "fillpattern": {
             "fillmode": "overlay",
             "size": 10,
             "solidity": 0.2
            },
            "type": "scatter"
           }
          ],
          "scatter3d": [
           {
            "line": {
             "colorbar": {
              "outlinewidth": 0,
              "ticks": ""
             }
            },
            "marker": {
             "colorbar": {
              "outlinewidth": 0,
              "ticks": ""
             }
            },
            "type": "scatter3d"
           }
          ],
          "scattercarpet": [
           {
            "marker": {
             "colorbar": {
              "outlinewidth": 0,
              "ticks": ""
             }
            },
            "type": "scattercarpet"
           }
          ],
          "scattergeo": [
           {
            "marker": {
             "colorbar": {
              "outlinewidth": 0,
              "ticks": ""
             }
            },
            "type": "scattergeo"
           }
          ],
          "scattergl": [
           {
            "marker": {
             "colorbar": {
              "outlinewidth": 0,
              "ticks": ""
             }
            },
            "type": "scattergl"
           }
          ],
          "scattermapbox": [
           {
            "marker": {
             "colorbar": {
              "outlinewidth": 0,
              "ticks": ""
             }
            },
            "type": "scattermapbox"
           }
          ],
          "scatterpolar": [
           {
            "marker": {
             "colorbar": {
              "outlinewidth": 0,
              "ticks": ""
             }
            },
            "type": "scatterpolar"
           }
          ],
          "scatterpolargl": [
           {
            "marker": {
             "colorbar": {
              "outlinewidth": 0,
              "ticks": ""
             }
            },
            "type": "scatterpolargl"
           }
          ],
          "scatterternary": [
           {
            "marker": {
             "colorbar": {
              "outlinewidth": 0,
              "ticks": ""
             }
            },
            "type": "scatterternary"
           }
          ],
          "surface": [
           {
            "colorbar": {
             "outlinewidth": 0,
             "ticks": ""
            },
            "colorscale": [
             [
              0,
              "#0d0887"
             ],
             [
              0.1111111111111111,
              "#46039f"
             ],
             [
              0.2222222222222222,
              "#7201a8"
             ],
             [
              0.3333333333333333,
              "#9c179e"
             ],
             [
              0.4444444444444444,
              "#bd3786"
             ],
             [
              0.5555555555555556,
              "#d8576b"
             ],
             [
              0.6666666666666666,
              "#ed7953"
             ],
             [
              0.7777777777777778,
              "#fb9f3a"
             ],
             [
              0.8888888888888888,
              "#fdca26"
             ],
             [
              1,
              "#f0f921"
             ]
            ],
            "type": "surface"
           }
          ],
          "table": [
           {
            "cells": {
             "fill": {
              "color": "#EBF0F8"
             },
             "line": {
              "color": "white"
             }
            },
            "header": {
             "fill": {
              "color": "#C8D4E3"
             },
             "line": {
              "color": "white"
             }
            },
            "type": "table"
           }
          ]
         },
         "layout": {
          "annotationdefaults": {
           "arrowcolor": "#2a3f5f",
           "arrowhead": 0,
           "arrowwidth": 1
          },
          "autotypenumbers": "strict",
          "coloraxis": {
           "colorbar": {
            "outlinewidth": 0,
            "ticks": ""
           }
          },
          "colorscale": {
           "diverging": [
            [
             0,
             "#8e0152"
            ],
            [
             0.1,
             "#c51b7d"
            ],
            [
             0.2,
             "#de77ae"
            ],
            [
             0.3,
             "#f1b6da"
            ],
            [
             0.4,
             "#fde0ef"
            ],
            [
             0.5,
             "#f7f7f7"
            ],
            [
             0.6,
             "#e6f5d0"
            ],
            [
             0.7,
             "#b8e186"
            ],
            [
             0.8,
             "#7fbc41"
            ],
            [
             0.9,
             "#4d9221"
            ],
            [
             1,
             "#276419"
            ]
           ],
           "sequential": [
            [
             0,
             "#0d0887"
            ],
            [
             0.1111111111111111,
             "#46039f"
            ],
            [
             0.2222222222222222,
             "#7201a8"
            ],
            [
             0.3333333333333333,
             "#9c179e"
            ],
            [
             0.4444444444444444,
             "#bd3786"
            ],
            [
             0.5555555555555556,
             "#d8576b"
            ],
            [
             0.6666666666666666,
             "#ed7953"
            ],
            [
             0.7777777777777778,
             "#fb9f3a"
            ],
            [
             0.8888888888888888,
             "#fdca26"
            ],
            [
             1,
             "#f0f921"
            ]
           ],
           "sequentialminus": [
            [
             0,
             "#0d0887"
            ],
            [
             0.1111111111111111,
             "#46039f"
            ],
            [
             0.2222222222222222,
             "#7201a8"
            ],
            [
             0.3333333333333333,
             "#9c179e"
            ],
            [
             0.4444444444444444,
             "#bd3786"
            ],
            [
             0.5555555555555556,
             "#d8576b"
            ],
            [
             0.6666666666666666,
             "#ed7953"
            ],
            [
             0.7777777777777778,
             "#fb9f3a"
            ],
            [
             0.8888888888888888,
             "#fdca26"
            ],
            [
             1,
             "#f0f921"
            ]
           ]
          },
          "colorway": [
           "#636efa",
           "#EF553B",
           "#00cc96",
           "#ab63fa",
           "#FFA15A",
           "#19d3f3",
           "#FF6692",
           "#B6E880",
           "#FF97FF",
           "#FECB52"
          ],
          "font": {
           "color": "#2a3f5f"
          },
          "geo": {
           "bgcolor": "white",
           "lakecolor": "white",
           "landcolor": "#E5ECF6",
           "showlakes": true,
           "showland": true,
           "subunitcolor": "white"
          },
          "hoverlabel": {
           "align": "left"
          },
          "hovermode": "closest",
          "mapbox": {
           "style": "light"
          },
          "paper_bgcolor": "white",
          "plot_bgcolor": "#E5ECF6",
          "polar": {
           "angularaxis": {
            "gridcolor": "white",
            "linecolor": "white",
            "ticks": ""
           },
           "bgcolor": "#E5ECF6",
           "radialaxis": {
            "gridcolor": "white",
            "linecolor": "white",
            "ticks": ""
           }
          },
          "scene": {
           "xaxis": {
            "backgroundcolor": "#E5ECF6",
            "gridcolor": "white",
            "gridwidth": 2,
            "linecolor": "white",
            "showbackground": true,
            "ticks": "",
            "zerolinecolor": "white"
           },
           "yaxis": {
            "backgroundcolor": "#E5ECF6",
            "gridcolor": "white",
            "gridwidth": 2,
            "linecolor": "white",
            "showbackground": true,
            "ticks": "",
            "zerolinecolor": "white"
           },
           "zaxis": {
            "backgroundcolor": "#E5ECF6",
            "gridcolor": "white",
            "gridwidth": 2,
            "linecolor": "white",
            "showbackground": true,
            "ticks": "",
            "zerolinecolor": "white"
           }
          },
          "shapedefaults": {
           "line": {
            "color": "#2a3f5f"
           }
          },
          "ternary": {
           "aaxis": {
            "gridcolor": "white",
            "linecolor": "white",
            "ticks": ""
           },
           "baxis": {
            "gridcolor": "white",
            "linecolor": "white",
            "ticks": ""
           },
           "bgcolor": "#E5ECF6",
           "caxis": {
            "gridcolor": "white",
            "linecolor": "white",
            "ticks": ""
           }
          },
          "title": {
           "x": 0.05
          },
          "xaxis": {
           "automargin": true,
           "gridcolor": "white",
           "linecolor": "white",
           "ticks": "",
           "title": {
            "standoff": 15
           },
           "zerolinecolor": "white",
           "zerolinewidth": 2
          },
          "yaxis": {
           "automargin": true,
           "gridcolor": "white",
           "linecolor": "white",
           "ticks": "",
           "title": {
            "standoff": 15
           },
           "zerolinecolor": "white",
           "zerolinewidth": 2
          }
         }
        },
        "title": {
         "text": "Change in Sourcing Cost and Quantity Over Months for Unique Product Combinations"
        },
        "xaxis": {
         "title": {
          "text": "Month"
         }
        },
        "yaxis": {
         "title": {
          "text": "Value"
         }
        }
       }
      },
      "text/html": [
       "<div>                            <div id=\"ee959da5-810f-4fca-b028-47159d2ee43c\" class=\"plotly-graph-div\" style=\"height:525px; width:100%;\"></div>            <script type=\"text/javascript\">                require([\"plotly\"], function(Plotly) {                    window.PLOTLYENV=window.PLOTLYENV || {};                                    if (document.getElementById(\"ee959da5-810f-4fca-b028-47159d2ee43c\")) {                    Plotly.newPlot(                        \"ee959da5-810f-4fca-b028-47159d2ee43c\",                        [{\"mode\":\"lines+markers\",\"name\":\"NTM1 - X1 - A1 - DIRECT - Small - Powder - Sourcing Cost\",\"text\":[\"114.349\",\"80.803\",\"108.227\",\"58.333\",\"110.675\",\"114.899\",\"114.898\",\"46.581\",\"112.002\",\"57.058\",\"114.096\"],\"textposition\":\"top center\",\"x\":[\"July\",\"August\",\"September\",\"October\",\"November\",\"December\",\"January\",\"February\",\"March\",\"April\",\"May\"],\"y\":[114.349,80.803,108.227,58.333,110.675,114.899,114.898,46.581,112.002,57.058,114.096],\"type\":\"scatter\"},{\"mode\":\"lines+markers\",\"name\":\"NTM1 - X1 - A1 - DIRECT - Small - Powder - Quantity\",\"text\":[\"1604\",\"1447\",\"1219\",\"1627\",\"1098\",\"1253\",\"1208\",\"741\",\"1017\",\"633\",\"829\"],\"textposition\":\"top center\",\"x\":[\"July\",\"August\",\"September\",\"October\",\"November\",\"December\",\"January\",\"February\",\"March\",\"April\",\"May\"],\"y\":[1604,1447,1219,1627,1098,1253,1208,741,1017,633,829],\"type\":\"scatter\"},{\"mode\":\"lines+markers\",\"name\":\"NTM1 - X1 - A10 - DIRECT - Large - Powder - Sourcing Cost\",\"text\":[\"135.291\",\"138.064\",\"137.932\",\"136.56\",\"138.953\",\"149.708\",\"164.333\",\"176.93\",\"147.209\",\"149.485\",\"156.789\"],\"textposition\":\"top center\",\"x\":[\"July\",\"August\",\"September\",\"October\",\"November\",\"December\",\"January\",\"February\",\"March\",\"April\",\"May\"],\"y\":[135.291,138.064,137.932,136.56,138.953,149.708,164.333,176.93,147.209,149.485,156.789],\"type\":\"scatter\"},{\"mode\":\"lines+markers\",\"name\":\"NTM1 - X1 - A10 - DIRECT - Large - Powder - Quantity\",\"text\":[\"1109\",\"1041\",\"585\",\"403\",\"385\",\"304\",\"251\",\"391\",\"338\",\"431\",\"520\"],\"textposition\":\"top center\",\"x\":[\"July\",\"August\",\"September\",\"October\",\"November\",\"December\",\"January\",\"February\",\"March\",\"April\",\"May\"],\"y\":[1109,1041,585,403,385,304,251,391,338,431,520],\"type\":\"scatter\"},{\"mode\":\"lines+markers\",\"name\":\"NTM1 - X1 - A10 - ECOM - Large - Powder - Sourcing Cost\",\"text\":[\"173.29\",\"145.677\",\"143.851\",\"148.065\",\"150.599\",\"149.624\",\"152.161\",\"149.964\"],\"textposition\":\"top center\",\"x\":[\"September\",\"November\",\"December\",\"January\",\"February\",\"March\",\"April\",\"May\"],\"y\":[173.29,145.677,143.851,148.065,150.599,149.624,152.161,149.964],\"type\":\"scatter\"},{\"mode\":\"lines+markers\",\"name\":\"NTM1 - X1 - A10 - ECOM - Large - Powder - Quantity\",\"text\":[\"4\",\"90\",\"499\",\"451\",\"386\",\"420\",\"298\",\"172\"],\"textposition\":\"top center\",\"x\":[\"September\",\"November\",\"December\",\"January\",\"February\",\"March\",\"April\",\"May\"],\"y\":[4,90,499,451,386,420,298,172],\"type\":\"scatter\"},{\"mode\":\"lines+markers\",\"name\":\"NTM1 - X1 - A11 - DIRECT - Large - Powder - Sourcing Cost\",\"text\":[\"131.363\",\"135.867\",\"140.337\",\"134.673\",\"147.244\",\"147.393\",\"142.904\",\"140.745\",\"144.754\",\"143.969\",\"144.373\"],\"textposition\":\"top center\",\"x\":[\"July\",\"August\",\"September\",\"October\",\"November\",\"December\",\"January\",\"February\",\"March\",\"April\",\"May\"],\"y\":[131.363,135.867,140.337,134.673,147.244,147.393,142.904,140.745,144.754,143.969,144.373],\"type\":\"scatter\"},{\"mode\":\"lines+markers\",\"name\":\"NTM1 - X1 - A11 - DIRECT - Large - Powder - Quantity\",\"text\":[\"312\",\"206\",\"213\",\"1276\",\"1591\",\"1383\",\"1600\",\"1075\",\"1775\",\"1087\",\"1580\"],\"textposition\":\"top center\",\"x\":[\"July\",\"August\",\"September\",\"October\",\"November\",\"December\",\"January\",\"February\",\"March\",\"April\",\"May\"],\"y\":[312,206,213,1276,1591,1383,1600,1075,1775,1087,1580],\"type\":\"scatter\"},{\"mode\":\"lines+markers\",\"name\":\"NTM1 - X1 - A2 - DIRECT - Large - Powder - Sourcing Cost\",\"text\":[\"156.951\",\"161.123\",\"157.858\",\"159.436\",\"120.682\",\"149.928\",\"173.44\",\"174.502\",\"171.28\",\"157.044\",\"158.528\"],\"textposition\":\"top center\",\"x\":[\"July\",\"August\",\"September\",\"October\",\"November\",\"December\",\"January\",\"February\",\"March\",\"April\",\"May\"],\"y\":[156.951,161.123,157.858,159.436,120.682,149.928,173.44,174.502,171.28,157.044,158.528],\"type\":\"scatter\"},{\"mode\":\"lines+markers\",\"name\":\"NTM1 - X1 - A2 - DIRECT - Large - Powder - Quantity\",\"text\":[\"149\",\"244\",\"454\",\"244\",\"609\",\"525\",\"362\",\"474\",\"371\",\"390\",\"473\"],\"textposition\":\"top center\",\"x\":[\"July\",\"August\",\"September\",\"October\",\"November\",\"December\",\"January\",\"February\",\"March\",\"April\",\"May\"],\"y\":[149,244,454,244,609,525,362,474,371,390,473],\"type\":\"scatter\"},{\"mode\":\"lines+markers\",\"name\":\"NTM1 - X1 - A2 - ECOM - Small - Powder - Sourcing Cost\",\"text\":[\"123.675\",\"173.159\",\"173.082\",\"174.994\",\"171.563\",\"175.446\",\"174.828\"],\"textposition\":\"top center\",\"x\":[\"November\",\"December\",\"January\",\"February\",\"March\",\"April\",\"May\"],\"y\":[123.675,173.159,173.082,174.994,171.563,175.446,174.828],\"type\":\"scatter\"},{\"mode\":\"lines+markers\",\"name\":\"NTM1 - X1 - A2 - ECOM - Small - Powder - Quantity\",\"text\":[\"342\",\"507\",\"237\",\"294\",\"344\",\"251\",\"169\"],\"textposition\":\"top center\",\"x\":[\"November\",\"December\",\"January\",\"February\",\"March\",\"April\",\"May\"],\"y\":[342,507,237,294,344,251,169],\"type\":\"scatter\"},{\"mode\":\"lines+markers\",\"name\":\"NTM1 - X1 - A28 - DIRECT - Small - Powder - Sourcing Cost\",\"text\":[\"0.0\",\"0.0\",\"0.0\",\"0.0\",\"49.936\",\"49.181\",\"49.004\",\"44.367\",\"48.88\"],\"textposition\":\"top center\",\"x\":[\"August\",\"October\",\"November\",\"December\",\"January\",\"February\",\"March\",\"April\",\"May\"],\"y\":[0.0,0.0,0.0,0.0,49.936,49.181,49.004,44.367,48.88],\"type\":\"scatter\"},{\"mode\":\"lines+markers\",\"name\":\"NTM1 - X1 - A28 - DIRECT - Small - Powder - Quantity\",\"text\":[\"5\",\"45\",\"370\",\"50\",\"415\",\"363\",\"227\",\"263\",\"488\"],\"textposition\":\"top center\",\"x\":[\"August\",\"October\",\"November\",\"December\",\"January\",\"February\",\"March\",\"April\",\"May\"],\"y\":[5,45,370,50,415,363,227,263,488],\"type\":\"scatter\"},{\"mode\":\"lines+markers\",\"name\":\"NTM1 - X1 - A29 - DIRECT - Small - Powder - Sourcing Cost\",\"text\":[\"56.52\",\"56.52\",\"56.519\",\"56.517\",\"56.519\",\"71.106\",\"772.44\",\"427.937\",\"108.33\",\"56.52\",\"56.52\"],\"textposition\":\"top center\",\"x\":[\"July\",\"August\",\"September\",\"October\",\"November\",\"December\",\"January\",\"February\",\"March\",\"April\",\"May\"],\"y\":[56.52,56.52,56.519,56.517,56.519,71.106,772.44,427.937,108.33,56.52,56.52],\"type\":\"scatter\"},{\"mode\":\"lines+markers\",\"name\":\"NTM1 - X1 - A29 - DIRECT - Small - Powder - Quantity\",\"text\":[\"93\",\"55\",\"75\",\"40\",\"44\",\"65\",\"40\",\"56\",\"75\",\"107\",\"107\"],\"textposition\":\"top center\",\"x\":[\"July\",\"August\",\"September\",\"October\",\"November\",\"December\",\"January\",\"February\",\"March\",\"April\",\"May\"],\"y\":[93,55,75,40,44,65,40,56,75,107,107],\"type\":\"scatter\"},{\"mode\":\"lines+markers\",\"name\":\"NTM1 - X1 - A3 - DIRECT - Large - Liquid - Sourcing Cost\",\"text\":[\"131.999\",\"136.031\",\"154.601\",\"135.764\",\"79.552\",\"143.641\",\"149.709\",\"147.696\",\"148.836\",\"149.416\",\"149.319\"],\"textposition\":\"top center\",\"x\":[\"July\",\"August\",\"September\",\"October\",\"November\",\"December\",\"January\",\"February\",\"March\",\"April\",\"May\"],\"y\":[131.999,136.031,154.601,135.764,79.552,143.641,149.709,147.696,148.836,149.416,149.319],\"type\":\"scatter\"},{\"mode\":\"lines+markers\",\"name\":\"NTM1 - X1 - A3 - DIRECT - Large - Liquid - Quantity\",\"text\":[\"420\",\"371\",\"292\",\"502\",\"778\",\"468\",\"362\",\"556\",\"455\",\"592\",\"507\"],\"textposition\":\"top center\",\"x\":[\"July\",\"August\",\"September\",\"October\",\"November\",\"December\",\"January\",\"February\",\"March\",\"April\",\"May\"],\"y\":[420,371,292,502,778,468,362,556,455,592,507],\"type\":\"scatter\"},{\"mode\":\"lines+markers\",\"name\":\"NTM1 - X1 - A3 - DIRECT - Large - Powder - Sourcing Cost\",\"text\":[\"134.215\",\"110.889\",\"135.236\",\"135.52\",\"139.093\",\"142.13\",\"135.386\",\"154.141\",\"149.552\",\"149.416\",\"149.996\"],\"textposition\":\"top center\",\"x\":[\"July\",\"August\",\"September\",\"October\",\"November\",\"December\",\"January\",\"February\",\"March\",\"April\",\"May\"],\"y\":[134.215,110.889,135.236,135.52,139.093,142.13,135.386,154.141,149.552,149.416,149.996],\"type\":\"scatter\"},{\"mode\":\"lines+markers\",\"name\":\"NTM1 - X1 - A3 - DIRECT - Large - Powder - Quantity\",\"text\":[\"981\",\"1084\",\"761\",\"566\",\"821\",\"519\",\"491\",\"669\",\"612\",\"632\",\"792\"],\"textposition\":\"top center\",\"x\":[\"July\",\"August\",\"September\",\"October\",\"November\",\"December\",\"January\",\"February\",\"March\",\"April\",\"May\"],\"y\":[981,1084,761,566,821,519,491,669,612,632,792],\"type\":\"scatter\"},{\"mode\":\"lines+markers\",\"name\":\"NTM1 - X1 - A3 - DIRECT - Small - Powder - Sourcing Cost\",\"text\":[\"131.999\",\"136.091\",\"135.235\",\"137.035\",\"138.158\",\"143.592\",\"149.149\",\"150.599\",\"147.202\",\"150.54\",\"148.568\"],\"textposition\":\"top center\",\"x\":[\"July\",\"August\",\"September\",\"October\",\"November\",\"December\",\"January\",\"February\",\"March\",\"April\",\"May\"],\"y\":[131.999,136.091,135.235,137.035,138.158,143.592,149.149,150.599,147.202,150.54,148.568],\"type\":\"scatter\"},{\"mode\":\"lines+markers\",\"name\":\"NTM1 - X1 - A3 - DIRECT - Small - Powder - Quantity\",\"text\":[\"661\",\"440\",\"522\",\"419\",\"1313\",\"1089\",\"724\",\"888\",\"919\",\"1096\",\"1076\"],\"textposition\":\"top center\",\"x\":[\"July\",\"August\",\"September\",\"October\",\"November\",\"December\",\"January\",\"February\",\"March\",\"April\",\"May\"],\"y\":[661,440,522,419,1313,1089,724,888,919,1096,1076],\"type\":\"scatter\"},{\"mode\":\"lines+markers\",\"name\":\"NTM1 - X1 - A33 - DIRECT - Large - Powder - Sourcing Cost\",\"text\":[\"133.635\",\"133.3\",\"133.3\",\"133.3\",\"133.3\",\"133.3\",\"150.289\",\"133.3\",\"133.3\",\"133.3\",\"133.303\"],\"textposition\":\"top center\",\"x\":[\"July\",\"August\",\"September\",\"October\",\"November\",\"December\",\"January\",\"February\",\"March\",\"April\",\"May\"],\"y\":[133.635,133.3,133.3,133.3,133.3,133.3,150.289,133.3,133.3,133.3,133.303],\"type\":\"scatter\"},{\"mode\":\"lines+markers\",\"name\":\"NTM1 - X1 - A33 - DIRECT - Large - Powder - Quantity\",\"text\":[\"1114\",\"543\",\"457\",\"380\",\"6\",\"318\",\"230\",\"520\",\"467\",\"722\",\"1012\"],\"textposition\":\"top center\",\"x\":[\"July\",\"August\",\"September\",\"October\",\"November\",\"December\",\"January\",\"February\",\"March\",\"April\",\"May\"],\"y\":[1114,543,457,380,6,318,230,520,467,722,1012],\"type\":\"scatter\"},{\"mode\":\"lines+markers\",\"name\":\"NTM1 - X1 - A34 - DIRECT - Small - Powder - Sourcing Cost\",\"text\":[\"95.0\",\"94.699\",\"95.0\",\"95.0\",\"95.0\",\"95.0\",\"91.95\",\"89.242\",\"95.0\",\"93.967\",\"95.0\"],\"textposition\":\"top center\",\"x\":[\"July\",\"August\",\"September\",\"October\",\"November\",\"December\",\"January\",\"February\",\"March\",\"April\",\"May\"],\"y\":[95.0,94.699,95.0,95.0,95.0,95.0,91.95,89.242,95.0,93.967,95.0],\"type\":\"scatter\"},{\"mode\":\"lines+markers\",\"name\":\"NTM1 - X1 - A34 - DIRECT - Small - Powder - Quantity\",\"text\":[\"474\",\"612\",\"516\",\"323\",\"94\",\"208\",\"343\",\"209\",\"444\",\"414\",\"612\"],\"textposition\":\"top center\",\"x\":[\"July\",\"August\",\"September\",\"October\",\"November\",\"December\",\"January\",\"February\",\"March\",\"April\",\"May\"],\"y\":[474,612,516,323,94,208,343,209,444,414,612],\"type\":\"scatter\"},{\"mode\":\"lines+markers\",\"name\":\"NTM1 - X1 - A4 - DIRECT - Large - Powder - Sourcing Cost\",\"text\":[\"137.457\",\"135.867\",\"134.369\",\"133.445\",\"138.165\",\"147.773\",\"141.906\",\"147.635\",\"141.583\",\"143.918\",\"144.391\"],\"textposition\":\"top center\",\"x\":[\"July\",\"August\",\"September\",\"October\",\"November\",\"December\",\"January\",\"February\",\"March\",\"April\",\"May\"],\"y\":[137.457,135.867,134.369,133.445,138.165,147.773,141.906,147.635,141.583,143.918,144.391],\"type\":\"scatter\"},{\"mode\":\"lines+markers\",\"name\":\"NTM1 - X1 - A4 - DIRECT - Large - Powder - Quantity\",\"text\":[\"271\",\"324\",\"366\",\"305\",\"678\",\"560\",\"332\",\"168\",\"648\",\"279\",\"427\"],\"textposition\":\"top center\",\"x\":[\"July\",\"August\",\"September\",\"October\",\"November\",\"December\",\"January\",\"February\",\"March\",\"April\",\"May\"],\"y\":[271,324,366,305,678,560,332,168,648,279,427],\"type\":\"scatter\"},{\"mode\":\"lines+markers\",\"name\":\"NTM1 - X1 - A6 - DIRECT - Large - Powder - Sourcing Cost\",\"text\":[\"132.119\",\"136.829\",\"135.457\",\"135.457\",\"138.701\",\"146.461\",\"146.614\",\"142.608\",\"143.919\",\"143.918\",\"137.724\"],\"textposition\":\"top center\",\"x\":[\"July\",\"August\",\"September\",\"October\",\"November\",\"December\",\"January\",\"February\",\"March\",\"April\",\"May\"],\"y\":[132.119,136.829,135.457,135.457,138.701,146.461,146.614,142.608,143.919,143.918,137.724],\"type\":\"scatter\"},{\"mode\":\"lines+markers\",\"name\":\"NTM1 - X1 - A6 - DIRECT - Large - Powder - Quantity\",\"text\":[\"417\",\"306\",\"633\",\"404\",\"687\",\"208\",\"851\",\"983\",\"300\",\"716\",\"743\"],\"textposition\":\"top center\",\"x\":[\"July\",\"August\",\"September\",\"October\",\"November\",\"December\",\"January\",\"February\",\"March\",\"April\",\"May\"],\"y\":[417,306,633,404,687,208,851,983,300,716,743],\"type\":\"scatter\"},{\"mode\":\"lines+markers\",\"name\":\"NTM1 - X1 - A7 - DIRECT - Large - Liquid - Sourcing Cost\",\"text\":[\"133.0\",\"136.09\",\"133.632\",\"136.02\",\"168.72\",\"151.616\",\"168.215\",\"149.566\",\"152.378\",\"141.22\",\"143.734\"],\"textposition\":\"top center\",\"x\":[\"July\",\"August\",\"September\",\"October\",\"November\",\"December\",\"January\",\"February\",\"March\",\"April\",\"May\"],\"y\":[133.0,136.09,133.632,136.02,168.72,151.616,168.215,149.566,152.378,141.22,143.734],\"type\":\"scatter\"},{\"mode\":\"lines+markers\",\"name\":\"NTM1 - X1 - A7 - DIRECT - Large - Liquid - Quantity\",\"text\":[\"10\",\"7\",\"13\",\"21\",\"207\",\"208\",\"80\",\"214\",\"211\",\"275\",\"133\"],\"textposition\":\"top center\",\"x\":[\"July\",\"August\",\"September\",\"October\",\"November\",\"December\",\"January\",\"February\",\"March\",\"April\",\"May\"],\"y\":[10,7,13,21,207,208,80,214,211,275,133],\"type\":\"scatter\"},{\"mode\":\"lines+markers\",\"name\":\"NTM1 - X1 - A7 - DIRECT - Large - Powder - Sourcing Cost\",\"text\":[\"133.002\",\"137.515\",\"133.632\",\"136.021\",\"162.075\",\"151.032\",\"164.076\",\"150.005\",\"157.481\",\"143.464\",\"142.365\"],\"textposition\":\"top center\",\"x\":[\"July\",\"August\",\"September\",\"October\",\"November\",\"December\",\"January\",\"February\",\"March\",\"April\",\"May\"],\"y\":[133.002,137.515,133.632,136.021,162.075,151.032,164.076,150.005,157.481,143.464,142.365],\"type\":\"scatter\"},{\"mode\":\"lines+markers\",\"name\":\"NTM1 - X1 - A7 - DIRECT - Large - Powder - Quantity\",\"text\":[\"150\",\"22\",\"355\",\"542\",\"475\",\"1083\",\"203\",\"604\",\"260\",\"346\",\"107\"],\"textposition\":\"top center\",\"x\":[\"July\",\"August\",\"September\",\"October\",\"November\",\"December\",\"January\",\"February\",\"March\",\"April\",\"May\"],\"y\":[150,22,355,542,475,1083,203,604,260,346,107],\"type\":\"scatter\"},{\"mode\":\"lines+markers\",\"name\":\"NTM1 - X1 - A7 - ECOM - Large - Powder - Sourcing Cost\",\"text\":[\"136.256\",\"137.515\",\"138.404\",\"136.021\",\"298.826\",\"146.766\",\"143.126\",\"145.918\",\"142.609\",\"139.777\",\"144.391\"],\"textposition\":\"top center\",\"x\":[\"July\",\"August\",\"September\",\"October\",\"November\",\"December\",\"January\",\"February\",\"March\",\"April\",\"May\"],\"y\":[136.256,137.515,138.404,136.021,298.826,146.766,143.126,145.918,142.609,139.777,144.391],\"type\":\"scatter\"},{\"mode\":\"lines+markers\",\"name\":\"NTM1 - X1 - A7 - ECOM - Large - Powder - Quantity\",\"text\":[\"205\",\"353\",\"268\",\"129\",\"1312\",\"445\",\"866\",\"697\",\"1146\",\"549\",\"1032\"],\"textposition\":\"top center\",\"x\":[\"July\",\"August\",\"September\",\"October\",\"November\",\"December\",\"January\",\"February\",\"March\",\"April\",\"May\"],\"y\":[205,353,268,129,1312,445,866,697,1146,549,1032],\"type\":\"scatter\"},{\"mode\":\"lines+markers\",\"name\":\"NTM1 - X1 - A7 - ECOM - Small - Powder - Sourcing Cost\",\"text\":[\"136.256\",\"136.83\",\"138.404\",\"136.021\",\"145.569\",\"170.205\",\"142.755\",\"145.787\",\"141.465\",\"141.22\",\"142.365\"],\"textposition\":\"top center\",\"x\":[\"July\",\"August\",\"September\",\"October\",\"November\",\"December\",\"January\",\"February\",\"March\",\"April\",\"May\"],\"y\":[136.256,136.83,138.404,136.021,145.569,170.205,142.755,145.787,141.465,141.22,142.365],\"type\":\"scatter\"},{\"mode\":\"lines+markers\",\"name\":\"NTM1 - X1 - A7 - ECOM - Small - Powder - Quantity\",\"text\":[\"163\",\"201\",\"173\",\"95\",\"612\",\"348\",\"345\",\"361\",\"482\",\"290\",\"488\"],\"textposition\":\"top center\",\"x\":[\"July\",\"August\",\"September\",\"October\",\"November\",\"December\",\"January\",\"February\",\"March\",\"April\",\"May\"],\"y\":[163,201,173,95,612,348,345,361,482,290,488],\"type\":\"scatter\"},{\"mode\":\"lines+markers\",\"name\":\"NTM1 - X1 - A8 - DIRECT - Large - Liquid - Sourcing Cost\",\"text\":[\"133.002\",\"136.091\",\"139.415\",\"135.764\",\"141.576\",\"143.851\",\"154.795\",\"151.666\",\"149.256\",\"149.359\",\"153.327\"],\"textposition\":\"top center\",\"x\":[\"July\",\"August\",\"September\",\"October\",\"November\",\"December\",\"January\",\"February\",\"March\",\"April\",\"May\"],\"y\":[133.002,136.091,139.415,135.764,141.576,143.851,154.795,151.666,149.256,149.359,153.327],\"type\":\"scatter\"},{\"mode\":\"lines+markers\",\"name\":\"NTM1 - X1 - A8 - DIRECT - Large - Liquid - Quantity\",\"text\":[\"286\",\"267\",\"284\",\"319\",\"431\",\"278\",\"274\",\"419\",\"469\",\"485\",\"410\"],\"textposition\":\"top center\",\"x\":[\"July\",\"August\",\"September\",\"October\",\"November\",\"December\",\"January\",\"February\",\"March\",\"April\",\"May\"],\"y\":[286,267,284,319,431,278,274,419,469,485,410],\"type\":\"scatter\"},{\"mode\":\"lines+markers\",\"name\":\"NTM1 - X1 - A8 - DIRECT - Large - Powder - Sourcing Cost\",\"text\":[\"132.649\",\"135.481\",\"138.218\",\"134.361\",\"139.722\",\"149.991\",\"158.568\",\"149.052\",\"152.065\",\"154.621\",\"149.319\"],\"textposition\":\"top center\",\"x\":[\"July\",\"August\",\"September\",\"October\",\"November\",\"December\",\"January\",\"February\",\"March\",\"April\",\"May\"],\"y\":[132.649,135.481,138.218,134.361,139.722,149.991,158.568,149.052,152.065,154.621,149.319],\"type\":\"scatter\"},{\"mode\":\"lines+markers\",\"name\":\"NTM1 - X1 - A8 - DIRECT - Large - Powder - Quantity\",\"text\":[\"1142\",\"1289\",\"1273\",\"1133\",\"1616\",\"1130\",\"916\",\"1581\",\"1343\",\"1616\",\"1245\"],\"textposition\":\"top center\",\"x\":[\"July\",\"August\",\"September\",\"October\",\"November\",\"December\",\"January\",\"February\",\"March\",\"April\",\"May\"],\"y\":[1142,1289,1273,1133,1616,1130,916,1581,1343,1616,1245],\"type\":\"scatter\"},{\"mode\":\"lines+markers\",\"name\":\"NTM1 - X1 - A9 - DIRECT - Large - Liquid - Sourcing Cost\",\"text\":[\"137.644\",\"136.582\",\"140.149\",\"136.192\",\"138.391\",\"143.727\",\"146.295\",\"150.062\",\"145.397\",\"145.705\",\"149.075\"],\"textposition\":\"top center\",\"x\":[\"July\",\"August\",\"September\",\"October\",\"November\",\"December\",\"January\",\"February\",\"March\",\"April\",\"May\"],\"y\":[137.644,136.582,140.149,136.192,138.391,143.727,146.295,150.062,145.397,145.705,149.075],\"type\":\"scatter\"},{\"mode\":\"lines+markers\",\"name\":\"NTM1 - X1 - A9 - DIRECT - Large - Liquid - Quantity\",\"text\":[\"132\",\"129\",\"113\",\"176\",\"186\",\"149\",\"93\",\"125\",\"75\",\"179\",\"136\"],\"textposition\":\"top center\",\"x\":[\"July\",\"August\",\"September\",\"October\",\"November\",\"December\",\"January\",\"February\",\"March\",\"April\",\"May\"],\"y\":[132,129,113,176,186,149,93,125,75,179,136],\"type\":\"scatter\"},{\"mode\":\"lines+markers\",\"name\":\"NTM1 - X1 - A9 - DIRECT - Large - Powder - Sourcing Cost\",\"text\":[\"137.48\",\"152.832\",\"135.381\",\"134.282\",\"139.728\",\"145.234\",\"190.438\",\"150.062\",\"146.72\",\"151.533\",\"146.982\"],\"textposition\":\"top center\",\"x\":[\"July\",\"August\",\"September\",\"October\",\"November\",\"December\",\"January\",\"February\",\"March\",\"April\",\"May\"],\"y\":[137.48,152.832,135.381,134.282,139.728,145.234,190.438,150.062,146.72,151.533,146.982],\"type\":\"scatter\"},{\"mode\":\"lines+markers\",\"name\":\"NTM1 - X1 - A9 - DIRECT - Large - Powder - Quantity\",\"text\":[\"290\",\"274\",\"96\",\"168\",\"305\",\"315\",\"183\",\"776\",\"246\",\"382\",\"258\"],\"textposition\":\"top center\",\"x\":[\"July\",\"August\",\"September\",\"October\",\"November\",\"December\",\"January\",\"February\",\"March\",\"April\",\"May\"],\"y\":[290,274,96,168,305,315,183,776,246,382,258],\"type\":\"scatter\"},{\"mode\":\"lines+markers\",\"name\":\"NTM1 - X2 - A12 - DIRECT - Large - Powder - Sourcing Cost\",\"text\":[\"28.651\",\"50.253\",\"70.567\",\"36.87\",\"13.751\",\"28.505\",\"7.347\",\"56.882\",\"28.41\",\"26.209\",\"3.853\"],\"textposition\":\"top center\",\"x\":[\"July\",\"August\",\"September\",\"October\",\"November\",\"December\",\"January\",\"February\",\"March\",\"April\",\"May\"],\"y\":[28.651,50.253,70.567,36.87,13.751,28.505,7.347,56.882,28.41,26.209,3.853],\"type\":\"scatter\"},{\"mode\":\"lines+markers\",\"name\":\"NTM1 - X2 - A12 - DIRECT - Large - Powder - Quantity\",\"text\":[\"1570\",\"986\",\"1263\",\"1126\",\"2090\",\"1455\",\"936\",\"948\",\"1294\",\"741\",\"2138\"],\"textposition\":\"top center\",\"x\":[\"July\",\"August\",\"September\",\"October\",\"November\",\"December\",\"January\",\"February\",\"March\",\"April\",\"May\"],\"y\":[1570,986,1263,1126,2090,1455,936,948,1294,741,2138],\"type\":\"scatter\"},{\"mode\":\"lines+markers\",\"name\":\"NTM1 - X2 - A21 - DIRECT - Small - Powder - Sourcing Cost\",\"text\":[\"72.129\",\"73.33\",\"74.248\",\"74.767\",\"76.787\",\"79.713\",\"81.022\",\"82.439\",\"77.306\",\"78.501\",\"77.928\"],\"textposition\":\"top center\",\"x\":[\"July\",\"August\",\"September\",\"October\",\"November\",\"December\",\"January\",\"February\",\"March\",\"April\",\"May\"],\"y\":[72.129,73.33,74.248,74.767,76.787,79.713,81.022,82.439,77.306,78.501,77.928],\"type\":\"scatter\"},{\"mode\":\"lines+markers\",\"name\":\"NTM1 - X2 - A21 - DIRECT - Small - Powder - Quantity\",\"text\":[\"798\",\"925\",\"826\",\"846\",\"979\",\"1127\",\"1211\",\"821\",\"949\",\"956\",\"691\"],\"textposition\":\"top center\",\"x\":[\"July\",\"August\",\"September\",\"October\",\"November\",\"December\",\"January\",\"February\",\"March\",\"April\",\"May\"],\"y\":[798,925,826,846,979,1127,1211,821,949,956,691],\"type\":\"scatter\"},{\"mode\":\"lines+markers\",\"name\":\"NTM1 - X2 - A30 - RETAIL - Small - Powder - Sourcing Cost\",\"text\":[\"42.021\",\"42.103\",\"42.329\",\"42.452\",\"43.103\",\"40.191\",\"18.01\",\"31.587\",\"35.763\",\"16.74\",\"41.04\"],\"textposition\":\"top center\",\"x\":[\"July\",\"August\",\"September\",\"October\",\"November\",\"December\",\"January\",\"February\",\"March\",\"April\",\"May\"],\"y\":[42.021,42.103,42.329,42.452,43.103,40.191,18.01,31.587,35.763,16.74,41.04],\"type\":\"scatter\"},{\"mode\":\"lines+markers\",\"name\":\"NTM1 - X2 - A30 - RETAIL - Small - Powder - Quantity\",\"text\":[\"173\",\"271\",\"238\",\"94\",\"142\",\"95\",\"88\",\"231\",\"441\",\"319\",\"265\"],\"textposition\":\"top center\",\"x\":[\"July\",\"August\",\"September\",\"October\",\"November\",\"December\",\"January\",\"February\",\"March\",\"April\",\"May\"],\"y\":[173,271,238,94,142,95,88,231,441,319,265],\"type\":\"scatter\"},{\"mode\":\"lines+markers\",\"name\":\"NTM1 - X2 - A31 - DIRECT - Large - Liquid - Sourcing Cost\",\"text\":[\"107.744\",\"0.0\",\"-7.105427357601e-15\",\"2.0435042547006803e-15\",\"-0.0010000000000116\",\"0.0\",\"25.989\",\"0.0\",\"-0.0009999999999994\",\"102.953\",\"86.672\"],\"textposition\":\"top center\",\"x\":[\"July\",\"August\",\"September\",\"October\",\"November\",\"December\",\"January\",\"February\",\"March\",\"April\",\"May\"],\"y\":[107.744,0.0,-7.105427357601e-15,2.0435042547006803e-15,-0.0010000000000116,0.0,25.989,0.0,-0.0009999999999994,102.953,86.672],\"type\":\"scatter\"},{\"mode\":\"lines+markers\",\"name\":\"NTM1 - X2 - A31 - DIRECT - Large - Liquid - Quantity\",\"text\":[\"135\",\"128\",\"139\",\"139\",\"143\",\"142\",\"58\",\"114\",\"238\",\"122\",\"121\"],\"textposition\":\"top center\",\"x\":[\"July\",\"August\",\"September\",\"October\",\"November\",\"December\",\"January\",\"February\",\"March\",\"April\",\"May\"],\"y\":[135,128,139,139,143,142,58,114,238,122,121],\"type\":\"scatter\"},{\"mode\":\"lines+markers\",\"name\":\"NTM1 - X2 - A39 - DIRECT - Large - Liquid - Sourcing Cost\",\"text\":[\"31.178\",\"31.471\",\"31.438\",\"31.454\",\"31.38\",\"31.776\",\"31.513\",\"31.476\",\"31.38\",\"31.871\",\"31.516\"],\"textposition\":\"top center\",\"x\":[\"July\",\"August\",\"September\",\"October\",\"November\",\"December\",\"January\",\"February\",\"March\",\"April\",\"May\"],\"y\":[31.178,31.471,31.438,31.454,31.38,31.776,31.513,31.476,31.38,31.871,31.516],\"type\":\"scatter\"},{\"mode\":\"lines+markers\",\"name\":\"NTM1 - X2 - A39 - DIRECT - Large - Liquid - Quantity\",\"text\":[\"160\",\"121\",\"133\",\"161\",\"177\",\"143\",\"40\",\"142\",\"307\",\"190\",\"128\"],\"textposition\":\"top center\",\"x\":[\"July\",\"August\",\"September\",\"October\",\"November\",\"December\",\"January\",\"February\",\"March\",\"April\",\"May\"],\"y\":[160,121,133,161,177,143,40,142,307,190,128],\"type\":\"scatter\"},{\"mode\":\"lines+markers\",\"name\":\"NTM1 - X2 - A40 - DIRECT - Large - Liquid - Sourcing Cost\",\"text\":[\"13.977\",\"24.156\",\"24.178\",\"24.191\",\"24.376\",\"24.376\",\"24.871\",\"24.606\",\"24.871\",\"24.871\",\"24.479\"],\"textposition\":\"top center\",\"x\":[\"July\",\"August\",\"September\",\"October\",\"November\",\"December\",\"January\",\"February\",\"March\",\"April\",\"May\"],\"y\":[13.977,24.156,24.178,24.191,24.376,24.376,24.871,24.606,24.871,24.871,24.479],\"type\":\"scatter\"},{\"mode\":\"lines+markers\",\"name\":\"NTM1 - X2 - A40 - DIRECT - Large - Liquid - Quantity\",\"text\":[\"964\",\"952\",\"823\",\"1163\",\"1910\",\"1698\",\"1146\",\"1167\",\"1335\",\"1328\",\"1334\"],\"textposition\":\"top center\",\"x\":[\"July\",\"August\",\"September\",\"October\",\"November\",\"December\",\"January\",\"February\",\"March\",\"April\",\"May\"],\"y\":[964,952,823,1163,1910,1698,1146,1167,1335,1328,1334],\"type\":\"scatter\"},{\"mode\":\"lines+markers\",\"name\":\"NTM1 - X2 - A42 - DIRECT - Large - Powder - Sourcing Cost\",\"text\":[\"266.901\",\"270.665\",\"192.384\",\"195.17\",\"204.205\",\"205.946\",\"240.314\",\"194.099\",\"228.733\",\"247.143\",\"175.611\"],\"textposition\":\"top center\",\"x\":[\"July\",\"August\",\"September\",\"October\",\"November\",\"December\",\"January\",\"February\",\"March\",\"April\",\"May\"],\"y\":[266.901,270.665,192.384,195.17,204.205,205.946,240.314,194.099,228.733,247.143,175.611],\"type\":\"scatter\"},{\"mode\":\"lines+markers\",\"name\":\"NTM1 - X2 - A42 - DIRECT - Large - Powder - Quantity\",\"text\":[\"277\",\"133\",\"213\",\"131\",\"191\",\"222\",\"246\",\"290\",\"718\",\"563\",\"346\"],\"textposition\":\"top center\",\"x\":[\"July\",\"August\",\"September\",\"October\",\"November\",\"December\",\"January\",\"February\",\"March\",\"April\",\"May\"],\"y\":[277,133,213,131,191,222,246,290,718,563,346],\"type\":\"scatter\"},{\"mode\":\"lines+markers\",\"name\":\"NTM1 - X2 - A42 - DIRECT - Small - Powder - Sourcing Cost\",\"text\":[\"196.001\",\"157.34\",\"139.142\",\"141.156\",\"152.965\",\"211.289\",\"175.999\",\"173.816\",\"231.621\",\"169.979\",\"207.68\"],\"textposition\":\"top center\",\"x\":[\"July\",\"August\",\"September\",\"October\",\"November\",\"December\",\"January\",\"February\",\"March\",\"April\",\"May\"],\"y\":[196.001,157.34,139.142,141.156,152.965,211.289,175.999,173.816,231.621,169.979,207.68],\"type\":\"scatter\"},{\"mode\":\"lines+markers\",\"name\":\"NTM1 - X2 - A42 - DIRECT - Small - Powder - Quantity\",\"text\":[\"285\",\"105\",\"74\",\"203\",\"205\",\"267\",\"166\",\"131\",\"570\",\"637\",\"497\"],\"textposition\":\"top center\",\"x\":[\"July\",\"August\",\"September\",\"October\",\"November\",\"December\",\"January\",\"February\",\"March\",\"April\",\"May\"],\"y\":[285,105,74,203,205,267,166,131,570,637,497],\"type\":\"scatter\"},{\"mode\":\"lines+markers\",\"name\":\"NTM1 - X2 - A43 - DIRECT - Small - Powder - Sourcing Cost\",\"text\":[\"157.093\",\"152.779\",\"161.915\",\"163.967\",\"168.814\",\"169.056\",\"168.013\",\"167.312\",\"167.439\",\"165.271\",\"169.087\"],\"textposition\":\"top center\",\"x\":[\"July\",\"August\",\"September\",\"October\",\"November\",\"December\",\"January\",\"February\",\"March\",\"April\",\"May\"],\"y\":[157.093,152.779,161.915,163.967,168.814,169.056,168.013,167.312,167.439,165.271,169.087],\"type\":\"scatter\"},{\"mode\":\"lines+markers\",\"name\":\"NTM1 - X2 - A43 - DIRECT - Small - Powder - Quantity\",\"text\":[\"1325\",\"922\",\"1413\",\"591\",\"1343\",\"944\",\"1080\",\"2202\",\"1452\",\"1034\",\"928\"],\"textposition\":\"top center\",\"x\":[\"July\",\"August\",\"September\",\"October\",\"November\",\"December\",\"January\",\"February\",\"March\",\"April\",\"May\"],\"y\":[1325,922,1413,591,1343,944,1080,2202,1452,1034,928],\"type\":\"scatter\"},{\"mode\":\"lines+markers\",\"name\":\"NTM1 - X2 - A44 - DIRECT - Large - Liquid - Sourcing Cost\",\"text\":[\"0.0\",\"38.638\",\"13.55\",\"11.254\",\"29.257\",\"11.649\",\"4.841\",\"133.122\",\"3.455\",\"10.494\",\"21.559\"],\"textposition\":\"top center\",\"x\":[\"July\",\"August\",\"September\",\"October\",\"November\",\"December\",\"January\",\"February\",\"March\",\"April\",\"May\"],\"y\":[0.0,38.638,13.55,11.254,29.257,11.649,4.841,133.122,3.455,10.494,21.559],\"type\":\"scatter\"},{\"mode\":\"lines+markers\",\"name\":\"NTM1 - X2 - A44 - DIRECT - Large - Liquid - Quantity\",\"text\":[\"162\",\"70\",\"126\",\"117\",\"155\",\"225\",\"191\",\"181\",\"314\",\"265\",\"248\"],\"textposition\":\"top center\",\"x\":[\"July\",\"August\",\"September\",\"October\",\"November\",\"December\",\"January\",\"February\",\"March\",\"April\",\"May\"],\"y\":[162,70,126,117,155,225,191,181,314,265,248],\"type\":\"scatter\"},{\"mode\":\"lines+markers\",\"name\":\"NTM1 - X2 - A45 - DIRECT - Large - Powder - Sourcing Cost\",\"text\":[\"26.04\",\"25.863\",\"25.836\",\"26.202\",\"26.935\",\"27.215\",\"12.504\",\"26.506\",\"26.137\",\"26.132\",\"25.464\"],\"textposition\":\"top center\",\"x\":[\"July\",\"August\",\"September\",\"October\",\"November\",\"December\",\"January\",\"February\",\"March\",\"April\",\"May\"],\"y\":[26.04,25.863,25.836,26.202,26.935,27.215,12.504,26.506,26.137,26.132,25.464],\"type\":\"scatter\"},{\"mode\":\"lines+markers\",\"name\":\"NTM1 - X2 - A45 - DIRECT - Large - Powder - Quantity\",\"text\":[\"83\",\"151\",\"182\",\"216\",\"370\",\"329\",\"325\",\"147\",\"426\",\"519\",\"297\"],\"textposition\":\"top center\",\"x\":[\"July\",\"August\",\"September\",\"October\",\"November\",\"December\",\"January\",\"February\",\"March\",\"April\",\"May\"],\"y\":[83,151,182,216,370,329,325,147,426,519,297],\"type\":\"scatter\"},{\"mode\":\"lines+markers\",\"name\":\"NTM1 - X2 - A46 - RETAIL - Large - Powder - Sourcing Cost\",\"text\":[\"68.0\",\"68.0\",\"68.0\",\"68.0\",\"68.0\",\"68.0\",\"70.0\",\"70.0\",\"70.0\",\"65.139\",\"70.0\"],\"textposition\":\"top center\",\"x\":[\"July\",\"August\",\"September\",\"October\",\"November\",\"December\",\"January\",\"February\",\"March\",\"April\",\"May\"],\"y\":[68.0,68.0,68.0,68.0,68.0,68.0,70.0,70.0,70.0,65.139,70.0],\"type\":\"scatter\"},{\"mode\":\"lines+markers\",\"name\":\"NTM1 - X2 - A46 - RETAIL - Large - Powder - Quantity\",\"text\":[\"47\",\"82\",\"80\",\"157\",\"158\",\"284\",\"216\",\"58\",\"311\",\"148\",\"191\"],\"textposition\":\"top center\",\"x\":[\"July\",\"August\",\"September\",\"October\",\"November\",\"December\",\"January\",\"February\",\"March\",\"April\",\"May\"],\"y\":[47,82,80,157,158,284,216,58,311,148,191],\"type\":\"scatter\"},{\"mode\":\"lines+markers\",\"name\":\"NTM2 - X1 - A10 - DIRECT - Small - Powder - Sourcing Cost\",\"text\":[\"135.291\",\"137.515\",\"138.856\",\"134.973\",\"140.645\",\"145.677\",\"147.182\",\"147.639\",\"146.965\",\"149.703\",\"148.534\"],\"textposition\":\"top center\",\"x\":[\"July\",\"August\",\"September\",\"October\",\"November\",\"December\",\"January\",\"February\",\"March\",\"April\",\"May\"],\"y\":[135.291,137.515,138.856,134.973,140.645,145.677,147.182,147.639,146.965,149.703,148.534],\"type\":\"scatter\"},{\"mode\":\"lines+markers\",\"name\":\"NTM2 - X1 - A10 - DIRECT - Small - Powder - Quantity\",\"text\":[\"1028\",\"1324\",\"700\",\"371\",\"705\",\"369\",\"621\",\"1183\",\"883\",\"1204\",\"893\"],\"textposition\":\"top center\",\"x\":[\"July\",\"August\",\"September\",\"October\",\"November\",\"December\",\"January\",\"February\",\"March\",\"April\",\"May\"],\"y\":[1028,1324,700,371,705,369,621,1183,883,1204,893],\"type\":\"scatter\"},{\"mode\":\"lines+markers\",\"name\":\"NTM2 - X1 - A10 - ECOM - Large - Powder - Sourcing Cost\",\"text\":[\"136.925\",\"136.09\",\"138.632\",\"134.326\",\"150.357\",\"152.724\",\"152.79\",\"150.599\",\"160.042\",\"150.631\",\"151.283\"],\"textposition\":\"top center\",\"x\":[\"July\",\"August\",\"September\",\"October\",\"November\",\"December\",\"January\",\"February\",\"March\",\"April\",\"May\"],\"y\":[136.925,136.09,138.632,134.326,150.357,152.724,152.79,150.599,160.042,150.631,151.283],\"type\":\"scatter\"},{\"mode\":\"lines+markers\",\"name\":\"NTM2 - X1 - A10 - ECOM - Large - Powder - Quantity\",\"text\":[\"10\",\"8\",\"10\",\"33\",\"458\",\"664\",\"741\",\"718\",\"472\",\"561\",\"588\"],\"textposition\":\"top center\",\"x\":[\"July\",\"August\",\"September\",\"October\",\"November\",\"December\",\"January\",\"February\",\"March\",\"April\",\"May\"],\"y\":[10,8,10,33,458,664,741,718,472,561,588],\"type\":\"scatter\"},{\"mode\":\"lines+markers\",\"name\":\"NTM2 - X1 - A11 - DIRECT - Large - Liquid - Sourcing Cost\",\"text\":[\"137.243\",\"232.057\",\"136.493\",\"134.636\",\"153.295\",\"143.641\",\"143.884\",\"146.548\",\"141.583\",\"143.464\",\"156.81\"],\"textposition\":\"top center\",\"x\":[\"July\",\"August\",\"September\",\"October\",\"November\",\"December\",\"January\",\"February\",\"March\",\"April\",\"May\"],\"y\":[137.243,232.057,136.493,134.636,153.295,143.641,143.884,146.548,141.583,143.464,156.81],\"type\":\"scatter\"},{\"mode\":\"lines+markers\",\"name\":\"NTM2 - X1 - A11 - DIRECT - Large - Liquid - Quantity\",\"text\":[\"147\",\"107\",\"181\",\"729\",\"737\",\"940\",\"1055\",\"604\",\"693\",\"713\",\"623\"],\"textposition\":\"top center\",\"x\":[\"July\",\"August\",\"September\",\"October\",\"November\",\"December\",\"January\",\"February\",\"March\",\"April\",\"May\"],\"y\":[147,107,181,729,737,940,1055,604,693,713,623],\"type\":\"scatter\"},{\"mode\":\"lines+markers\",\"name\":\"NTM2 - X1 - A11 - DIRECT - Small - Powder - Sourcing Cost\",\"text\":[\"137.243\",\"140.23\",\"136.493\",\"136.021\",\"145.677\",\"144.655\",\"143.884\",\"140.745\",\"141.583\",\"164.404\",\"138.839\"],\"textposition\":\"top center\",\"x\":[\"July\",\"August\",\"September\",\"October\",\"November\",\"December\",\"January\",\"February\",\"March\",\"April\",\"May\"],\"y\":[137.243,140.23,136.493,136.021,145.677,144.655,143.884,140.745,141.583,164.404,138.839],\"type\":\"scatter\"},{\"mode\":\"lines+markers\",\"name\":\"NTM2 - X1 - A11 - DIRECT - Small - Powder - Quantity\",\"text\":[\"357\",\"266\",\"397\",\"956\",\"1165\",\"1142\",\"1329\",\"1185\",\"1281\",\"1387\",\"1526\"],\"textposition\":\"top center\",\"x\":[\"July\",\"August\",\"September\",\"October\",\"November\",\"December\",\"January\",\"February\",\"March\",\"April\",\"May\"],\"y\":[357,266,397,956,1165,1142,1329,1185,1281,1387,1526],\"type\":\"scatter\"},{\"mode\":\"lines+markers\",\"name\":\"NTM2 - X1 - A16 - DIRECT - Small - Powder - Sourcing Cost\",\"text\":[\"85.036\",\"224.175\",\"96.161\",\"97.126\",\"96.839\",\"99.849\",\"98.004\",\"98.37\",\"95.801\",\"104.16\",\"95.873\"],\"textposition\":\"top center\",\"x\":[\"July\",\"August\",\"September\",\"October\",\"November\",\"December\",\"January\",\"February\",\"March\",\"April\",\"May\"],\"y\":[85.036,224.175,96.161,97.126,96.839,99.849,98.004,98.37,95.801,104.16,95.873],\"type\":\"scatter\"},{\"mode\":\"lines+markers\",\"name\":\"NTM2 - X1 - A16 - DIRECT - Small - Powder - Quantity\",\"text\":[\"947\",\"1064\",\"1500\",\"1756\",\"1888\",\"1984\",\"928\",\"2043\",\"2090\",\"886\",\"852\"],\"textposition\":\"top center\",\"x\":[\"July\",\"August\",\"September\",\"October\",\"November\",\"December\",\"January\",\"February\",\"March\",\"April\",\"May\"],\"y\":[947,1064,1500,1756,1888,1984,928,2043,2090,886,852],\"type\":\"scatter\"},{\"mode\":\"lines+markers\",\"name\":\"NTM2 - X1 - A17 - ECOM - Large - Powder - Sourcing Cost\",\"text\":[\"67.099\",\"74.84\",\"65.43\",\"65.0\",\"60.549\",\"62.864\",\"65.398\"],\"textposition\":\"top center\",\"x\":[\"November\",\"December\",\"January\",\"February\",\"March\",\"April\",\"May\"],\"y\":[67.099,74.84,65.43,65.0,60.549,62.864,65.398],\"type\":\"scatter\"},{\"mode\":\"lines+markers\",\"name\":\"NTM2 - X1 - A17 - ECOM - Large - Powder - Quantity\",\"text\":[\"129\",\"127\",\"159\",\"136\",\"178\",\"203\",\"207\"],\"textposition\":\"top center\",\"x\":[\"November\",\"December\",\"January\",\"February\",\"March\",\"April\",\"May\"],\"y\":[129,127,159,136,178,203,207],\"type\":\"scatter\"},{\"mode\":\"lines+markers\",\"name\":\"NTM2 - X1 - A19 - DIRECT - Large - Powder - Sourcing Cost\",\"text\":[\"104.098\",\"109.492\",\"105.589\",\"109.583\",\"125.077\",\"110.065\",\"144.54\",\"144.713\",\"179.003\",\"111.765\",\"143.895\"],\"textposition\":\"top center\",\"x\":[\"July\",\"August\",\"September\",\"October\",\"November\",\"December\",\"January\",\"February\",\"March\",\"April\",\"May\"],\"y\":[104.098,109.492,105.589,109.583,125.077,110.065,144.54,144.713,179.003,111.765,143.895],\"type\":\"scatter\"},{\"mode\":\"lines+markers\",\"name\":\"NTM2 - X1 - A19 - DIRECT - Large - Powder - Quantity\",\"text\":[\"863\",\"880\",\"724\",\"745\",\"193\",\"88\",\"13\",\"50\",\"65\",\"124\",\"94\"],\"textposition\":\"top center\",\"x\":[\"July\",\"August\",\"September\",\"October\",\"November\",\"December\",\"January\",\"February\",\"March\",\"April\",\"May\"],\"y\":[863,880,724,745,193,88,13,50,65,124,94],\"type\":\"scatter\"},{\"mode\":\"lines+markers\",\"name\":\"NTM2 - X1 - A2 - DIRECT - Large - Liquid - Sourcing Cost\",\"text\":[\"160.534\",\"161.446\",\"163.899\",\"163.617\",\"173.906\",\"171.301\",\"173.443\",\"174.196\",\"175.446\",\"174.543\",\"168.859\"],\"textposition\":\"top center\",\"x\":[\"July\",\"August\",\"September\",\"October\",\"November\",\"December\",\"January\",\"February\",\"March\",\"April\",\"May\"],\"y\":[160.534,161.446,163.899,163.617,173.906,171.301,173.443,174.196,175.446,174.543,168.859],\"type\":\"scatter\"},{\"mode\":\"lines+markers\",\"name\":\"NTM2 - X1 - A2 - DIRECT - Large - Liquid - Quantity\",\"text\":[\"25\",\"28\",\"33\",\"21\",\"33\",\"31\",\"50\",\"48\",\"168\",\"316\",\"122\"],\"textposition\":\"top center\",\"x\":[\"July\",\"August\",\"September\",\"October\",\"November\",\"December\",\"January\",\"February\",\"March\",\"April\",\"May\"],\"y\":[25,28,33,21,33,31,50,48,168,316,122],\"type\":\"scatter\"},{\"mode\":\"lines+markers\",\"name\":\"NTM2 - X1 - A2 - DIRECT - Large - Powder - Sourcing Cost\",\"text\":[\"157.216\",\"160.804\",\"154.485\",\"160.409\",\"172.512\",\"171.302\",\"173.443\",\"174.502\",\"171.452\",\"160.67\",\"178.889\"],\"textposition\":\"top center\",\"x\":[\"July\",\"August\",\"September\",\"October\",\"November\",\"December\",\"January\",\"February\",\"March\",\"April\",\"May\"],\"y\":[157.216,160.804,154.485,160.409,172.512,171.302,173.443,174.502,171.452,160.67,178.889],\"type\":\"scatter\"},{\"mode\":\"lines+markers\",\"name\":\"NTM2 - X1 - A2 - DIRECT - Large - Powder - Quantity\",\"text\":[\"540\",\"379\",\"568\",\"589\",\"601\",\"504\",\"585\",\"500\",\"694\",\"457\",\"414\"],\"textposition\":\"top center\",\"x\":[\"July\",\"August\",\"September\",\"October\",\"November\",\"December\",\"January\",\"February\",\"March\",\"April\",\"May\"],\"y\":[540,379,568,589,601,504,585,500,694,457,414],\"type\":\"scatter\"},{\"mode\":\"lines+markers\",\"name\":\"NTM2 - X1 - A23 - RETAIL - Large - Powder - Sourcing Cost\",\"text\":[\"2412.38\",\"309.645\",\"4175.805\",\"27.29\",\"4.43299999999999\",\"128.6\",\"1.2\",\"726.784\",\"1.18100000000001\",\"1.22200000000002\",\"124.888\"],\"textposition\":\"top center\",\"x\":[\"July\",\"August\",\"September\",\"October\",\"November\",\"December\",\"January\",\"February\",\"March\",\"April\",\"May\"],\"y\":[2412.38,309.645,4175.805,27.29,4.43299999999999,128.6,1.2,726.784,1.18100000000001,1.22200000000002,124.888],\"type\":\"scatter\"},{\"mode\":\"lines+markers\",\"name\":\"NTM2 - X1 - A23 - RETAIL - Large - Powder - Quantity\",\"text\":[\"5\",\"3\",\"5\",\"1\",\"13\",\"9\",\"5\",\"54\",\"27\",\"24\",\"423\"],\"textposition\":\"top center\",\"x\":[\"July\",\"August\",\"September\",\"October\",\"November\",\"December\",\"January\",\"February\",\"March\",\"April\",\"May\"],\"y\":[5,3,5,1,13,9,5,54,27,24,423],\"type\":\"scatter\"},{\"mode\":\"lines+markers\",\"name\":\"NTM2 - X1 - A26 - DIRECT - Small - Powder - Sourcing Cost\",\"text\":[\"41.19\",\"51.009\",\"38.568\",\"38.836\",\"43.001\",\"39.205\",\"38.311\",\"38.391\",\"37.854\",\"37.788\",\"39.175\"],\"textposition\":\"top center\",\"x\":[\"July\",\"August\",\"September\",\"October\",\"November\",\"December\",\"January\",\"February\",\"March\",\"April\",\"May\"],\"y\":[41.19,51.009,38.568,38.836,43.001,39.205,38.311,38.391,37.854,37.788,39.175],\"type\":\"scatter\"},{\"mode\":\"lines+markers\",\"name\":\"NTM2 - X1 - A26 - DIRECT - Small - Powder - Quantity\",\"text\":[\"220\",\"166\",\"192\",\"221\",\"199\",\"206\",\"158\",\"321\",\"269\",\"261\",\"147\"],\"textposition\":\"top center\",\"x\":[\"July\",\"August\",\"September\",\"October\",\"November\",\"December\",\"January\",\"February\",\"March\",\"April\",\"May\"],\"y\":[220,166,192,221,199,206,158,321,269,261,147],\"type\":\"scatter\"},{\"mode\":\"lines+markers\",\"name\":\"NTM2 - X1 - A28 - DIRECT - Large - Liquid - Sourcing Cost\",\"text\":[\"237.674\",\"196.828\",\"196.685\",\"195.794\",\"197.763\",\"196.773\",\"212.905\",\"218.258\",\"212.984\",\"216.108\",\"216.429\"],\"textposition\":\"top center\",\"x\":[\"July\",\"August\",\"September\",\"October\",\"November\",\"December\",\"January\",\"February\",\"March\",\"April\",\"May\"],\"y\":[237.674,196.828,196.685,195.794,197.763,196.773,212.905,218.258,212.984,216.108,216.429],\"type\":\"scatter\"},{\"mode\":\"lines+markers\",\"name\":\"NTM2 - X1 - A28 - DIRECT - Large - Liquid - Quantity\",\"text\":[\"171\",\"217\",\"335\",\"329\",\"271\",\"210\",\"312\",\"315\",\"184\",\"378\",\"338\"],\"textposition\":\"top center\",\"x\":[\"July\",\"August\",\"September\",\"October\",\"November\",\"December\",\"January\",\"February\",\"March\",\"April\",\"May\"],\"y\":[171,217,335,329,271,210,312,315,184,378,338],\"type\":\"scatter\"},{\"mode\":\"lines+markers\",\"name\":\"NTM2 - X1 - A28 - DIRECT - Large - Powder - Sourcing Cost\",\"text\":[\"197.217\",\"196.828\",\"198.179\",\"197.119\",\"197.363\",\"197.217\",\"217.072\",\"217.003\",\"215.64\",\"215.103\",\"216.429\"],\"textposition\":\"top center\",\"x\":[\"July\",\"August\",\"September\",\"October\",\"November\",\"December\",\"January\",\"February\",\"March\",\"April\",\"May\"],\"y\":[197.217,196.828,198.179,197.119,197.363,197.217,217.072,217.003,215.64,215.103,216.429],\"type\":\"scatter\"},{\"mode\":\"lines+markers\",\"name\":\"NTM2 - X1 - A28 - DIRECT - Large - Powder - Quantity\",\"text\":[\"835\",\"928\",\"801\",\"843\",\"987\",\"1028\",\"702\",\"860\",\"856\",\"645\",\"624\"],\"textposition\":\"top center\",\"x\":[\"July\",\"August\",\"September\",\"October\",\"November\",\"December\",\"January\",\"February\",\"March\",\"April\",\"May\"],\"y\":[835,928,801,843,987,1028,702,860,856,645,624],\"type\":\"scatter\"},{\"mode\":\"lines+markers\",\"name\":\"NTM2 - X1 - A28 - DIRECT - Small - Powder - Sourcing Cost\",\"text\":[\"100.454\",\"98.49\",\"98.192\",\"97.897\",\"98.311\",\"99.82\",\"108.531\",\"108.06\",\"106.487\",\"106.225\",\"108.209\"],\"textposition\":\"top center\",\"x\":[\"July\",\"August\",\"September\",\"October\",\"November\",\"December\",\"January\",\"February\",\"March\",\"April\",\"May\"],\"y\":[100.454,98.49,98.192,97.897,98.311,99.82,108.531,108.06,106.487,106.225,108.209],\"type\":\"scatter\"},{\"mode\":\"lines+markers\",\"name\":\"NTM2 - X1 - A28 - DIRECT - Small - Powder - Quantity\",\"text\":[\"1107\",\"1032\",\"872\",\"773\",\"1050\",\"1410\",\"1086\",\"1052\",\"823\",\"553\",\"787\"],\"textposition\":\"top center\",\"x\":[\"July\",\"August\",\"September\",\"October\",\"November\",\"December\",\"January\",\"February\",\"March\",\"April\",\"May\"],\"y\":[1107,1032,872,773,1050,1410,1086,1052,823,553,787],\"type\":\"scatter\"},{\"mode\":\"lines+markers\",\"name\":\"NTM2 - X1 - A29 - DIRECT - Large - Powder - Sourcing Cost\",\"text\":[\"56.52\",\"56.52\",\"56.52\",\"56.52\",\"56.521\",\"106.968\",\"71.345\",\"80.528\",\"87.575\",\"56.52\",\"56.52\"],\"textposition\":\"top center\",\"x\":[\"July\",\"August\",\"September\",\"October\",\"November\",\"December\",\"January\",\"February\",\"March\",\"April\",\"May\"],\"y\":[56.52,56.52,56.52,56.52,56.521,106.968,71.345,80.528,87.575,56.52,56.52],\"type\":\"scatter\"},{\"mode\":\"lines+markers\",\"name\":\"NTM2 - X1 - A29 - DIRECT - Large - Powder - Quantity\",\"text\":[\"1040\",\"1240\",\"946\",\"1294\",\"844\",\"1247\",\"1116\",\"938\",\"936\",\"907\",\"932\"],\"textposition\":\"top center\",\"x\":[\"July\",\"August\",\"September\",\"October\",\"November\",\"December\",\"January\",\"February\",\"March\",\"April\",\"May\"],\"y\":[1040,1240,946,1294,844,1247,1116,938,936,907,932],\"type\":\"scatter\"},{\"mode\":\"lines+markers\",\"name\":\"NTM2 - X1 - A29 - DIRECT - Small - Powder - Sourcing Cost\",\"text\":[\"56.52\",\"56.52\",\"56.52\",\"56.52\",\"56.52\",\"76.378\",\"80.635\",\"83.693\",\"90.775\",\"56.52\",\"56.522\"],\"textposition\":\"top center\",\"x\":[\"July\",\"August\",\"September\",\"October\",\"November\",\"December\",\"January\",\"February\",\"March\",\"April\",\"May\"],\"y\":[56.52,56.52,56.52,56.52,56.52,76.378,80.635,83.693,90.775,56.52,56.522],\"type\":\"scatter\"},{\"mode\":\"lines+markers\",\"name\":\"NTM2 - X1 - A29 - DIRECT - Small - Powder - Quantity\",\"text\":[\"421\",\"510\",\"592\",\"615\",\"585\",\"684\",\"474\",\"557\",\"590\",\"535\",\"345\"],\"textposition\":\"top center\",\"x\":[\"July\",\"August\",\"September\",\"October\",\"November\",\"December\",\"January\",\"February\",\"March\",\"April\",\"May\"],\"y\":[421,510,592,615,585,684,474,557,590,535,345],\"type\":\"scatter\"},{\"mode\":\"lines+markers\",\"name\":\"NTM2 - X1 - A3 - DIRECT - Small - Powder - Sourcing Cost\",\"text\":[\"132.761\",\"137.515\",\"135.236\",\"135.52\",\"139.9\",\"150.407\",\"152.181\",\"149.572\",\"145.74\",\"150.54\",\"150.598\"],\"textposition\":\"top center\",\"x\":[\"July\",\"August\",\"September\",\"October\",\"November\",\"December\",\"January\",\"February\",\"March\",\"April\",\"May\"],\"y\":[132.761,137.515,135.236,135.52,139.9,150.407,152.181,149.572,145.74,150.54,150.598],\"type\":\"scatter\"},{\"mode\":\"lines+markers\",\"name\":\"NTM2 - X1 - A3 - DIRECT - Small - Powder - Quantity\",\"text\":[\"777\",\"758\",\"395\",\"874\",\"1189\",\"861\",\"1239\",\"1020\",\"1184\",\"1230\",\"1342\"],\"textposition\":\"top center\",\"x\":[\"July\",\"August\",\"September\",\"October\",\"November\",\"December\",\"January\",\"February\",\"March\",\"April\",\"May\"],\"y\":[777,758,395,874,1189,861,1239,1020,1184,1230,1342],\"type\":\"scatter\"},{\"mode\":\"lines+markers\",\"name\":\"NTM2 - X1 - A32 - RETAIL - Large - Powder - Sourcing Cost\",\"text\":[\"93.635\",\"1.4210854715202e-14\",\"95.56\",\"95.296\",\"98.277\",\"0.0\",\"100.184\"],\"textposition\":\"top center\",\"x\":[\"July\",\"August\",\"September\",\"October\",\"February\",\"April\",\"May\"],\"y\":[93.635,1.4210854715202e-14,95.56,95.296,98.277,0.0,100.184],\"type\":\"scatter\"},{\"mode\":\"lines+markers\",\"name\":\"NTM2 - X1 - A32 - RETAIL - Large - Powder - Quantity\",\"text\":[\"2\",\"23\",\"2\",\"3\",\"3\",\"1\",\"84\"],\"textposition\":\"top center\",\"x\":[\"July\",\"August\",\"September\",\"October\",\"February\",\"April\",\"May\"],\"y\":[2,23,2,3,3,1,84],\"type\":\"scatter\"},{\"mode\":\"lines+markers\",\"name\":\"NTM2 - X1 - A32 - RETAIL - Small - Powder - Sourcing Cost\",\"text\":[\"310.62\",\"-3.0253577421035504e-15\",\"63.847\",\"57.399\",\"64.761\",\"65.405\",\"65.55\",\"65.56\",\"127.68\",\"0.0\"],\"textposition\":\"top center\",\"x\":[\"July\",\"August\",\"September\",\"October\",\"November\",\"December\",\"January\",\"February\",\"March\",\"May\"],\"y\":[310.62,-3.0253577421035504e-15,63.847,57.399,64.761,65.405,65.55,65.56,127.68,0.0],\"type\":\"scatter\"},{\"mode\":\"lines+markers\",\"name\":\"NTM2 - X1 - A32 - RETAIL - Small - Powder - Quantity\",\"text\":[\"12\",\"6\",\"30\",\"10\",\"22\",\"9\",\"1\",\"1\",\"6\",\"46\"],\"textposition\":\"top center\",\"x\":[\"July\",\"August\",\"September\",\"October\",\"November\",\"December\",\"January\",\"February\",\"March\",\"May\"],\"y\":[12,6,30,10,22,9,1,1,6,46],\"type\":\"scatter\"},{\"mode\":\"lines+markers\",\"name\":\"NTM2 - X1 - A36 - DIRECT - Small - Powder - Sourcing Cost\",\"text\":[\"184.098\",\"184.316\",\"186.62\",\"162.278\",\"186.62\",\"186.62\",\"186.62\",\"186.62\",\"186.62\",\"180.072\",\"186.62\"],\"textposition\":\"top center\",\"x\":[\"July\",\"August\",\"September\",\"October\",\"November\",\"December\",\"January\",\"February\",\"March\",\"April\",\"May\"],\"y\":[184.098,184.316,186.62,162.278,186.62,186.62,186.62,186.62,186.62,180.072,186.62],\"type\":\"scatter\"},{\"mode\":\"lines+markers\",\"name\":\"NTM2 - X1 - A36 - DIRECT - Small - Powder - Quantity\",\"text\":[\"334\",\"350\",\"333\",\"472\",\"556\",\"711\",\"443\",\"414\",\"387\",\"379\",\"464\"],\"textposition\":\"top center\",\"x\":[\"July\",\"August\",\"September\",\"October\",\"November\",\"December\",\"January\",\"February\",\"March\",\"April\",\"May\"],\"y\":[334,350,333,472,556,711,443,414,387,379,464],\"type\":\"scatter\"},{\"mode\":\"lines+markers\",\"name\":\"NTM2 - X1 - A37 - DIRECT - Large - Powder - Sourcing Cost\",\"text\":[\"180.0\",\"180.0\",\"85.7139999999999\",\"193.846\",\"180.0\",\"150.0\",\"180.0\",\"180.0\",\"180.0\",\"24.0\"],\"textposition\":\"top center\",\"x\":[\"July\",\"August\",\"October\",\"November\",\"December\",\"January\",\"February\",\"March\",\"April\",\"May\"],\"y\":[180.0,180.0,85.7139999999999,193.846,180.0,150.0,180.0,180.0,180.0,24.0],\"type\":\"scatter\"},{\"mode\":\"lines+markers\",\"name\":\"NTM2 - X1 - A37 - DIRECT - Large - Powder - Quantity\",\"text\":[\"90\",\"2\",\"88\",\"118\",\"91\",\"179\",\"108\",\"139\",\"98\",\"116\"],\"textposition\":\"top center\",\"x\":[\"July\",\"August\",\"October\",\"November\",\"December\",\"January\",\"February\",\"March\",\"April\",\"May\"],\"y\":[90,2,88,118,91,179,108,139,98,116],\"type\":\"scatter\"},{\"mode\":\"lines+markers\",\"name\":\"NTM2 - X1 - A37 - DIRECT - Small - Powder - Sourcing Cost\",\"text\":[\"180.0\",\"180.0\",\"180.0\",\"180.0\",\"190.0\",\"180.0\",\"180.0\",\"180.0\",\"118.286\",\"180.0\",\"180.0\"],\"textposition\":\"top center\",\"x\":[\"July\",\"August\",\"September\",\"October\",\"November\",\"December\",\"January\",\"February\",\"March\",\"April\",\"May\"],\"y\":[180.0,180.0,180.0,180.0,190.0,180.0,180.0,180.0,118.286,180.0,180.0],\"type\":\"scatter\"},{\"mode\":\"lines+markers\",\"name\":\"NTM2 - X1 - A37 - DIRECT - Small - Powder - Quantity\",\"text\":[\"7\",\"3\",\"9\",\"31\",\"45\",\"50\",\"46\",\"53\",\"76\",\"52\",\"31\"],\"textposition\":\"top center\",\"x\":[\"July\",\"August\",\"September\",\"October\",\"November\",\"December\",\"January\",\"February\",\"March\",\"April\",\"May\"],\"y\":[7,3,9,31,45,50,46,53,76,52,31],\"type\":\"scatter\"},{\"mode\":\"lines+markers\",\"name\":\"NTM2 - X1 - A38 - DIRECT - Small - Powder - Sourcing Cost\",\"text\":[\"200.0\",\"200.0\",\"200.0\",\"457.143\",\"200.0\",\"200.0\",\"200.0\",\"169.231\",\"191.157\",\"201.49\",\"201.491\"],\"textposition\":\"top center\",\"x\":[\"July\",\"August\",\"September\",\"October\",\"November\",\"December\",\"January\",\"February\",\"March\",\"April\",\"May\"],\"y\":[200.0,200.0,200.0,457.143,200.0,200.0,200.0,169.231,191.157,201.49,201.491],\"type\":\"scatter\"},{\"mode\":\"lines+markers\",\"name\":\"NTM2 - X1 - A38 - DIRECT - Small - Powder - Quantity\",\"text\":[\"175\",\"87\",\"148\",\"297\",\"385\",\"367\",\"264\",\"182\",\"291\",\"217\",\"271\"],\"textposition\":\"top center\",\"x\":[\"July\",\"August\",\"September\",\"October\",\"November\",\"December\",\"January\",\"February\",\"March\",\"April\",\"May\"],\"y\":[175,87,148,297,385,367,264,182,291,217,271],\"type\":\"scatter\"},{\"mode\":\"lines+markers\",\"name\":\"NTM2 - X1 - A38 - RETAIL - Large - Powder - Sourcing Cost\",\"text\":[\"200.0\",\"200.0\",\"200.0\",\"200.0\",\"88.889\",\"160.0\",\"146.538\",\"268.653\",\"201.49\"],\"textposition\":\"top center\",\"x\":[\"August\",\"October\",\"November\",\"December\",\"January\",\"February\",\"March\",\"April\",\"May\"],\"y\":[200.0,200.0,200.0,200.0,88.889,160.0,146.538,268.653,201.49],\"type\":\"scatter\"},{\"mode\":\"lines+markers\",\"name\":\"NTM2 - X1 - A38 - RETAIL - Large - Powder - Quantity\",\"text\":[\"2\",\"31\",\"25\",\"65\",\"23\",\"43\",\"81\",\"90\",\"21\"],\"textposition\":\"top center\",\"x\":[\"August\",\"October\",\"November\",\"December\",\"January\",\"February\",\"March\",\"April\",\"May\"],\"y\":[2,31,25,65,23,43,81,90,21],\"type\":\"scatter\"},{\"mode\":\"lines+markers\",\"name\":\"NTM2 - X1 - A4 - DIRECT - Large - Powder - Sourcing Cost\",\"text\":[\"134.528\",\"135.867\",\"139.26\",\"133.445\",\"139.421\",\"143.592\",\"141.906\",\"142.609\",\"142.111\",\"143.918\",\"142.365\"],\"textposition\":\"top center\",\"x\":[\"July\",\"August\",\"September\",\"October\",\"November\",\"December\",\"January\",\"February\",\"March\",\"April\",\"May\"],\"y\":[134.528,135.867,139.26,133.445,139.421,143.592,141.906,142.609,142.111,143.918,142.365],\"type\":\"scatter\"},{\"mode\":\"lines+markers\",\"name\":\"NTM2 - X1 - A4 - DIRECT - Large - Powder - Quantity\",\"text\":[\"553\",\"448\",\"703\",\"647\",\"1110\",\"725\",\"763\",\"510\",\"557\",\"406\",\"546\"],\"textposition\":\"top center\",\"x\":[\"July\",\"August\",\"September\",\"October\",\"November\",\"December\",\"January\",\"February\",\"March\",\"April\",\"May\"],\"y\":[553,448,703,647,1110,725,763,510,557,406,546],\"type\":\"scatter\"},{\"mode\":\"lines+markers\",\"name\":\"NTM2 - X1 - A41 - WHOLESALE - Small - Powder - Sourcing Cost\",\"text\":[\"122.95\",\"0.0\",\"142.233\",\"141.78\",\"138.85\",\"134.002\"],\"textposition\":\"top center\",\"x\":[\"November\",\"December\",\"January\",\"February\",\"March\",\"May\"],\"y\":[122.95,0.0,142.233,141.78,138.85,134.002],\"type\":\"scatter\"},{\"mode\":\"lines+markers\",\"name\":\"NTM2 - X1 - A41 - WHOLESALE - Small - Powder - Quantity\",\"text\":[\"3\",\"2\",\"3\",\"2\",\"2\",\"106\"],\"textposition\":\"top center\",\"x\":[\"November\",\"December\",\"January\",\"February\",\"March\",\"May\"],\"y\":[3,2,3,2,2,106],\"type\":\"scatter\"},{\"mode\":\"lines+markers\",\"name\":\"NTM2 - X1 - A5 - DIRECT - Large - Powder - Sourcing Cost\",\"text\":[\"135.867\",\"137.515\",\"134.317\",\"133.785\",\"137.667\",\"144.949\",\"147.874\",\"149.555\",\"158.522\",\"149.533\",\"144.888\"],\"textposition\":\"top center\",\"x\":[\"July\",\"August\",\"September\",\"October\",\"November\",\"December\",\"January\",\"February\",\"March\",\"April\",\"May\"],\"y\":[135.867,137.515,134.317,133.785,137.667,144.949,147.874,149.555,158.522,149.533,144.888],\"type\":\"scatter\"},{\"mode\":\"lines+markers\",\"name\":\"NTM2 - X1 - A5 - DIRECT - Large - Powder - Quantity\",\"text\":[\"1868\",\"1178\",\"1366\",\"1617\",\"1058\",\"1769\",\"1753\",\"734\",\"1701\",\"1529\",\"1305\"],\"textposition\":\"top center\",\"x\":[\"July\",\"August\",\"September\",\"October\",\"November\",\"December\",\"January\",\"February\",\"March\",\"April\",\"May\"],\"y\":[1868,1178,1366,1617,1058,1769,1753,734,1701,1529,1305],\"type\":\"scatter\"},{\"mode\":\"lines+markers\",\"name\":\"NTM2 - X1 - A5 - DIRECT - Small - Powder - Sourcing Cost\",\"text\":[\"136.256\",\"138.064\",\"135.976\",\"133.786\",\"137.667\",\"143.133\",\"149.89\",\"149.87\",\"147.639\",\"149.715\",\"148.568\"],\"textposition\":\"top center\",\"x\":[\"July\",\"August\",\"September\",\"October\",\"November\",\"December\",\"January\",\"February\",\"March\",\"April\",\"May\"],\"y\":[136.256,138.064,135.976,133.786,137.667,143.133,149.89,149.87,147.639,149.715,148.568],\"type\":\"scatter\"},{\"mode\":\"lines+markers\",\"name\":\"NTM2 - X1 - A5 - DIRECT - Small - Powder - Quantity\",\"text\":[\"856\",\"557\",\"749\",\"658\",\"435\",\"979\",\"1221\",\"446\",\"1024\",\"907\",\"542\"],\"textposition\":\"top center\",\"x\":[\"July\",\"August\",\"September\",\"October\",\"November\",\"December\",\"January\",\"February\",\"March\",\"April\",\"May\"],\"y\":[856,557,749,658,435,979,1221,446,1024,907,542],\"type\":\"scatter\"},{\"mode\":\"lines+markers\",\"name\":\"NTM2 - X1 - A6 - DIRECT - Large - Liquid - Sourcing Cost\",\"text\":[\"134.53\",\"140.23\",\"138.403\",\"136.022\",\"143.64\",\"142.706\",\"142.609\",\"142.111\",\"143.918\",\"144.391\"],\"textposition\":\"top center\",\"x\":[\"July\",\"August\",\"September\",\"October\",\"November\",\"January\",\"February\",\"March\",\"April\",\"May\"],\"y\":[134.53,140.23,138.403,136.022,143.64,142.706,142.609,142.111,143.918,144.391],\"type\":\"scatter\"},{\"mode\":\"lines+markers\",\"name\":\"NTM2 - X1 - A6 - DIRECT - Large - Liquid - Quantity\",\"text\":[\"13\",\"25\",\"20\",\"46\",\"235\",\"87\",\"122\",\"140\",\"200\",\"118\"],\"textposition\":\"top center\",\"x\":[\"July\",\"August\",\"September\",\"October\",\"November\",\"January\",\"February\",\"March\",\"April\",\"May\"],\"y\":[13,25,20,46,235,87,122,140,200,118],\"type\":\"scatter\"},{\"mode\":\"lines+markers\",\"name\":\"NTM2 - X1 - A6 - DIRECT - Large - Powder - Sourcing Cost\",\"text\":[\"136.469\",\"136.091\",\"138.632\",\"135.101\",\"150.016\",\"141.906\",\"142.608\",\"142.112\",\"145.195\",\"144.391\"],\"textposition\":\"top center\",\"x\":[\"July\",\"August\",\"September\",\"October\",\"November\",\"January\",\"February\",\"March\",\"April\",\"May\"],\"y\":[136.469,136.091,138.632,135.101,150.016,141.906,142.608,142.112,145.195,144.391],\"type\":\"scatter\"},{\"mode\":\"lines+markers\",\"name\":\"NTM2 - X1 - A6 - DIRECT - Large - Powder - Quantity\",\"text\":[\"488\",\"501\",\"322\",\"536\",\"1083\",\"505\",\"566\",\"325\",\"510\",\"309\"],\"textposition\":\"top center\",\"x\":[\"July\",\"August\",\"September\",\"October\",\"November\",\"January\",\"February\",\"March\",\"April\",\"May\"],\"y\":[488,501,322,536,1083,505,566,325,510,309],\"type\":\"scatter\"},{\"mode\":\"lines+markers\",\"name\":\"NTM2 - X1 - A7 - DIRECT - Large - Liquid - Sourcing Cost\",\"text\":[\"133.002\",\"136.091\",\"133.632\",\"136.021\",\"137.889\",\"146.613\",\"143.884\",\"145.918\",\"141.583\",\"143.734\",\"142.365\"],\"textposition\":\"top center\",\"x\":[\"July\",\"August\",\"September\",\"October\",\"November\",\"December\",\"January\",\"February\",\"March\",\"April\",\"May\"],\"y\":[133.002,136.091,133.632,136.021,137.889,146.613,143.884,145.918,141.583,143.734,142.365],\"type\":\"scatter\"},{\"mode\":\"lines+markers\",\"name\":\"NTM2 - X1 - A7 - DIRECT - Large - Liquid - Quantity\",\"text\":[\"133\",\"137\",\"161\",\"76\",\"169\",\"270\",\"309\",\"227\",\"83\",\"104\",\"73\"],\"textposition\":\"top center\",\"x\":[\"July\",\"August\",\"September\",\"October\",\"November\",\"December\",\"January\",\"February\",\"March\",\"April\",\"May\"],\"y\":[133,137,161,76,169,270,309,227,83,104,73],\"type\":\"scatter\"},{\"mode\":\"lines+markers\",\"name\":\"NTM2 - X1 - A7 - DIRECT - Small - Powder - Sourcing Cost\",\"text\":[\"136.571\",\"137.516\",\"166.513\",\"134.673\",\"139.829\",\"144.949\",\"143.126\",\"150.044\",\"143.143\",\"141.219\",\"142.365\"],\"textposition\":\"top center\",\"x\":[\"July\",\"August\",\"September\",\"October\",\"November\",\"December\",\"January\",\"February\",\"March\",\"April\",\"May\"],\"y\":[136.571,137.516,166.513,134.673,139.829,144.949,143.126,150.044,143.143,141.219,142.365],\"type\":\"scatter\"},{\"mode\":\"lines+markers\",\"name\":\"NTM2 - X1 - A7 - DIRECT - Small - Powder - Quantity\",\"text\":[\"693\",\"803\",\"1122\",\"582\",\"1165\",\"1582\",\"952\",\"1195\",\"434\",\"730\",\"305\"],\"textposition\":\"top center\",\"x\":[\"July\",\"August\",\"September\",\"October\",\"November\",\"December\",\"January\",\"February\",\"March\",\"April\",\"May\"],\"y\":[693,803,1122,582,1165,1582,952,1195,434,730,305],\"type\":\"scatter\"},{\"mode\":\"lines+markers\",\"name\":\"NTM2 - X1 - A7 - ECOM - Large - Powder - Sourcing Cost\",\"text\":[\"136.256\",\"136.09\",\"138.623\",\"137.035\",\"140.449\",\"144.28\",\"142.754\",\"141.394\",\"144.211\",\"141.812\",\"143.734\"],\"textposition\":\"top center\",\"x\":[\"July\",\"August\",\"September\",\"October\",\"November\",\"December\",\"January\",\"February\",\"March\",\"April\",\"May\"],\"y\":[136.256,136.09,138.623,137.035,140.449,144.28,142.754,141.394,144.211,141.812,143.734],\"type\":\"scatter\"},{\"mode\":\"lines+markers\",\"name\":\"NTM2 - X1 - A7 - ECOM - Large - Powder - Quantity\",\"text\":[\"7\",\"15\",\"8\",\"8\",\"1906\",\"608\",\"813\",\"919\",\"1067\",\"672\",\"790\"],\"textposition\":\"top center\",\"x\":[\"July\",\"August\",\"September\",\"October\",\"November\",\"December\",\"January\",\"February\",\"March\",\"April\",\"May\"],\"y\":[7,15,8,8,1906,608,813,919,1067,672,790],\"type\":\"scatter\"},{\"mode\":\"lines+markers\",\"name\":\"NTM2 - X1 - A7 - ECOM - Small - Powder - Sourcing Cost\",\"text\":[\"135.48\",\"137.515\",\"138.62\",\"136.023\",\"220.581\",\"148.076\",\"140.83\",\"140.746\",\"141.582\",\"143.969\",\"144.391\"],\"textposition\":\"top center\",\"x\":[\"July\",\"August\",\"September\",\"October\",\"November\",\"December\",\"January\",\"February\",\"March\",\"April\",\"May\"],\"y\":[135.48,137.515,138.62,136.023,220.581,148.076,140.83,140.746,141.582,143.969,144.391],\"type\":\"scatter\"},{\"mode\":\"lines+markers\",\"name\":\"NTM2 - X1 - A7 - ECOM - Small - Powder - Quantity\",\"text\":[\"6\",\"9\",\"8\",\"10\",\"850\",\"258\",\"239\",\"232\",\"410\",\"197\",\"300\"],\"textposition\":\"top center\",\"x\":[\"July\",\"August\",\"September\",\"October\",\"November\",\"December\",\"January\",\"February\",\"March\",\"April\",\"May\"],\"y\":[6,9,8,10,850,258,239,232,410,197,300],\"type\":\"scatter\"},{\"mode\":\"lines+markers\",\"name\":\"NTM2 - X1 - A8 - DIRECT - Large - Liquid - Sourcing Cost\",\"text\":[\"132.537\",\"153.842\",\"136.848\",\"144.488\",\"160.283\",\"151.627\",\"153.762\",\"148.339\",\"154.184\",\"159.111\",\"156.939\"],\"textposition\":\"top center\",\"x\":[\"July\",\"August\",\"September\",\"October\",\"November\",\"December\",\"January\",\"February\",\"March\",\"April\",\"May\"],\"y\":[132.537,153.842,136.848,144.488,160.283,151.627,153.762,148.339,154.184,159.111,156.939],\"type\":\"scatter\"},{\"mode\":\"lines+markers\",\"name\":\"NTM2 - X1 - A8 - DIRECT - Large - Liquid - Quantity\",\"text\":[\"125\",\"160\",\"106\",\"155\",\"389\",\"469\",\"337\",\"280\",\"396\",\"367\",\"348\"],\"textposition\":\"top center\",\"x\":[\"July\",\"August\",\"September\",\"October\",\"November\",\"December\",\"January\",\"February\",\"March\",\"April\",\"May\"],\"y\":[125,160,106,155,389,469,337,280,396,367,348],\"type\":\"scatter\"},{\"mode\":\"lines+markers\",\"name\":\"NTM2 - X1 - A9 - DIRECT - Large - Powder - Sourcing Cost\",\"text\":[\"138.284\",\"137.549\",\"135.975\",\"134.281\",\"140.833\",\"144.397\",\"146.437\",\"155.839\",\"145.397\",\"158.548\",\"148.396\"],\"textposition\":\"top center\",\"x\":[\"July\",\"August\",\"September\",\"October\",\"November\",\"December\",\"January\",\"February\",\"March\",\"April\",\"May\"],\"y\":[138.284,137.549,135.975,134.281,140.833,144.397,146.437,155.839,145.397,158.548,148.396],\"type\":\"scatter\"},{\"mode\":\"lines+markers\",\"name\":\"NTM2 - X1 - A9 - DIRECT - Large - Powder - Quantity\",\"text\":[\"512\",\"309\",\"691\",\"135\",\"550\",\"498\",\"262\",\"548\",\"370\",\"428\",\"1018\"],\"textposition\":\"top center\",\"x\":[\"July\",\"August\",\"September\",\"October\",\"November\",\"December\",\"January\",\"February\",\"March\",\"April\",\"May\"],\"y\":[512,309,691,135,550,498,262,548,370,428,1018],\"type\":\"scatter\"},{\"mode\":\"lines+markers\",\"name\":\"NTM2 - X2 - A21 - RETAIL - Large - Powder - Sourcing Cost\",\"text\":[\"114.929\",\"114.032\",\"60.448\",\"116.791\",\"42.603\",\"106.658\",\"116.527\",\"99.573\",\"112.441\"],\"textposition\":\"top center\",\"x\":[\"September\",\"October\",\"November\",\"December\",\"January\",\"February\",\"March\",\"April\",\"May\"],\"y\":[114.929,114.032,60.448,116.791,42.603,106.658,116.527,99.573,112.441],\"type\":\"scatter\"},{\"mode\":\"lines+markers\",\"name\":\"NTM2 - X2 - A21 - RETAIL - Large - Powder - Quantity\",\"text\":[\"87\",\"174\",\"242\",\"66\",\"240\",\"454\",\"697\",\"589\",\"696\"],\"textposition\":\"top center\",\"x\":[\"September\",\"October\",\"November\",\"December\",\"January\",\"February\",\"March\",\"April\",\"May\"],\"y\":[87,174,242,66,240,454,697,589,696],\"type\":\"scatter\"},{\"mode\":\"lines+markers\",\"name\":\"NTM2 - X2 - A25 - DIRECT - Small - Powder - Sourcing Cost\",\"text\":[\"128.709\",\"0.008\",\"7.683\",\"58.977\",\"6.773\",\"64.33\",\"128.67\",\"64.324\",\"45.036\",\"40.154\",\"71.087\"],\"textposition\":\"top center\",\"x\":[\"July\",\"August\",\"September\",\"October\",\"November\",\"December\",\"January\",\"February\",\"March\",\"April\",\"May\"],\"y\":[128.709,0.008,7.683,58.977,6.773,64.33,128.67,64.324,45.036,40.154,71.087],\"type\":\"scatter\"},{\"mode\":\"lines+markers\",\"name\":\"NTM2 - X2 - A25 - DIRECT - Small - Powder - Quantity\",\"text\":[\"461\",\"309\",\"380\",\"282\",\"356\",\"335\",\"328\",\"289\",\"410\",\"327\",\"308\"],\"textposition\":\"top center\",\"x\":[\"July\",\"August\",\"September\",\"October\",\"November\",\"December\",\"January\",\"February\",\"March\",\"April\",\"May\"],\"y\":[461,309,380,282,356,335,328,289,410,327,308],\"type\":\"scatter\"},{\"mode\":\"lines+markers\",\"name\":\"NTM2 - X2 - A31 - DIRECT - Large - Powder - Sourcing Cost\",\"text\":[\"17.444\",\"104.137\",\"-1.2628786905111201e-15\",\"110.633\",\"113.671\",\"111.149\",\"110.908\",\"136.249\",\"0.0\",\"-0.0010000000000001\",\"0.037\"],\"textposition\":\"top center\",\"x\":[\"July\",\"August\",\"September\",\"October\",\"November\",\"December\",\"January\",\"February\",\"March\",\"April\",\"May\"],\"y\":[17.444,104.137,-1.2628786905111201e-15,110.633,113.671,111.149,110.908,136.249,0.0,-0.0010000000000001,0.037],\"type\":\"scatter\"},{\"mode\":\"lines+markers\",\"name\":\"NTM2 - X2 - A31 - DIRECT - Large - Powder - Quantity\",\"text\":[\"2329\",\"2026\",\"2260\",\"2364\",\"2750\",\"970\",\"351\",\"279\",\"1098\",\"781\",\"1692\"],\"textposition\":\"top center\",\"x\":[\"July\",\"August\",\"September\",\"October\",\"November\",\"December\",\"January\",\"February\",\"March\",\"April\",\"May\"],\"y\":[2329,2026,2260,2364,2750,970,351,279,1098,781,1692],\"type\":\"scatter\"},{\"mode\":\"lines+markers\",\"name\":\"NTM2 - X2 - A32 - RETAIL - Small - Powder - Sourcing Cost\",\"text\":[\"0.0\",\"42.573\",\"38.152\",\"21.248\",\"4.14945855453652e-15\",\"27.162\",\"3.04699999999999\",\"5.00207514297912e-15\",\"63.838\",\"64.031\",\"63.986\"],\"textposition\":\"top center\",\"x\":[\"July\",\"August\",\"September\",\"October\",\"November\",\"December\",\"January\",\"February\",\"March\",\"April\",\"May\"],\"y\":[0.0,42.573,38.152,21.248,4.14945855453652e-15,27.162,3.04699999999999,5.00207514297912e-15,63.838,64.031,63.986],\"type\":\"scatter\"},{\"mode\":\"lines+markers\",\"name\":\"NTM2 - X2 - A32 - RETAIL - Small - Powder - Quantity\",\"text\":[\"523\",\"354\",\"406\",\"419\",\"315\",\"452\",\"453\",\"495\",\"842\",\"420\",\"468\"],\"textposition\":\"top center\",\"x\":[\"July\",\"August\",\"September\",\"October\",\"November\",\"December\",\"January\",\"February\",\"March\",\"April\",\"May\"],\"y\":[523,354,406,419,315,452,453,495,842,420,468],\"type\":\"scatter\"},{\"mode\":\"lines+markers\",\"name\":\"NTM2 - X2 - A44 - RETAIL - Large - Powder - Sourcing Cost\",\"text\":[\"21.451\",\"-2.0261570199409103e-15\",\"8.169\",\"8.036\",\"24.89\",\"79.157\",\"54.716\",\"88.979\",\"91.272\",\"135.179\",\"133.111\"],\"textposition\":\"top center\",\"x\":[\"July\",\"August\",\"September\",\"October\",\"November\",\"December\",\"January\",\"February\",\"March\",\"April\",\"May\"],\"y\":[21.451,-2.0261570199409103e-15,8.169,8.036,24.89,79.157,54.716,88.979,91.272,135.179,133.111],\"type\":\"scatter\"},{\"mode\":\"lines+markers\",\"name\":\"NTM2 - X2 - A44 - RETAIL - Large - Powder - Quantity\",\"text\":[\"1216\",\"1008\",\"1180\",\"1478\",\"1194\",\"1119\",\"960\",\"1172\",\"1342\",\"1327\",\"1784\"],\"textposition\":\"top center\",\"x\":[\"July\",\"August\",\"September\",\"October\",\"November\",\"December\",\"January\",\"February\",\"March\",\"April\",\"May\"],\"y\":[1216,1008,1180,1478,1194,1119,960,1172,1342,1327,1784],\"type\":\"scatter\"},{\"mode\":\"lines+markers\",\"name\":\"NTM2 - X2 - A45 - DIRECT - Large - Powder - Sourcing Cost\",\"text\":[\"26.191\",\"26.254\",\"25.832\",\"26.11\",\"26.935\",\"27.494\",\"27.159\",\"26.506\",\"26.137\",\"26.132\",\"25.464\"],\"textposition\":\"top center\",\"x\":[\"July\",\"August\",\"September\",\"October\",\"November\",\"December\",\"January\",\"February\",\"March\",\"April\",\"May\"],\"y\":[26.191,26.254,25.832,26.11,26.935,27.494,27.159,26.506,26.137,26.132,25.464],\"type\":\"scatter\"},{\"mode\":\"lines+markers\",\"name\":\"NTM2 - X2 - A45 - DIRECT - Large - Powder - Quantity\",\"text\":[\"526\",\"490\",\"401\",\"328\",\"601\",\"485\",\"628\",\"282\",\"450\",\"599\",\"353\"],\"textposition\":\"top center\",\"x\":[\"July\",\"August\",\"September\",\"October\",\"November\",\"December\",\"January\",\"February\",\"March\",\"April\",\"May\"],\"y\":[526,490,401,328,601,485,628,282,450,599,353],\"type\":\"scatter\"},{\"mode\":\"lines+markers\",\"name\":\"NTM3 - X1 - A10 - ECOM - Large - Powder - Sourcing Cost\",\"text\":[\"131.5\",\"132.509\",\"134.032\",\"114.497\",\"131.807\",\"135.718\",\"143.45\",\"115.469\",\"139.446\",\"140.826\"],\"textposition\":\"top center\",\"x\":[\"July\",\"August\",\"September\",\"November\",\"December\",\"January\",\"February\",\"March\",\"April\",\"May\"],\"y\":[131.5,132.509,134.032,114.497,131.807,135.718,143.45,115.469,139.446,140.826],\"type\":\"scatter\"},{\"mode\":\"lines+markers\",\"name\":\"NTM3 - X1 - A10 - ECOM - Large - Powder - Quantity\",\"text\":[\"6\",\"13\",\"10\",\"69\",\"206\",\"257\",\"136\",\"205\",\"279\",\"167\"],\"textposition\":\"top center\",\"x\":[\"July\",\"August\",\"September\",\"November\",\"December\",\"January\",\"February\",\"March\",\"April\",\"May\"],\"y\":[6,13,10,69,206,257,136,205,279,167],\"type\":\"scatter\"},{\"mode\":\"lines+markers\",\"name\":\"NTM3 - X1 - A11 - DIRECT - Large - Powder - Sourcing Cost\",\"text\":[\"132.193\",\"134.431\",\"130.101\",\"132.442\",\"112.357\",\"22.299\",\"39.052\",\"141.975\",\"138.271\",\"140.139\",\"50.857\"],\"textposition\":\"top center\",\"x\":[\"July\",\"August\",\"September\",\"October\",\"November\",\"December\",\"January\",\"February\",\"March\",\"April\",\"May\"],\"y\":[132.193,134.431,130.101,132.442,112.357,22.299,39.052,141.975,138.271,140.139,50.857],\"type\":\"scatter\"},{\"mode\":\"lines+markers\",\"name\":\"NTM3 - X1 - A11 - DIRECT - Large - Powder - Quantity\",\"text\":[\"109\",\"109\",\"115\",\"139\",\"236\",\"160\",\"208\",\"85\",\"50\",\"158\",\"124\"],\"textposition\":\"top center\",\"x\":[\"July\",\"August\",\"September\",\"October\",\"November\",\"December\",\"January\",\"February\",\"March\",\"April\",\"May\"],\"y\":[109,109,115,139,236,160,208,85,50,158,124],\"type\":\"scatter\"},{\"mode\":\"lines+markers\",\"name\":\"NTM3 - X1 - A13 - DIRECT - Large - Powder - Sourcing Cost\",\"text\":[\"68.959\",\"60.817\",\"29.794\",\"28.591\",\"17.044\",\"22.481\",\"26.347\",\"65.151\",\"14.783\",\"63.0\",\"9.584\"],\"textposition\":\"top center\",\"x\":[\"July\",\"August\",\"September\",\"October\",\"November\",\"December\",\"January\",\"February\",\"March\",\"April\",\"May\"],\"y\":[68.959,60.817,29.794,28.591,17.044,22.481,26.347,65.151,14.783,63.0,9.584],\"type\":\"scatter\"},{\"mode\":\"lines+markers\",\"name\":\"NTM3 - X1 - A13 - DIRECT - Large - Powder - Quantity\",\"text\":[\"496\",\"437\",\"900\",\"816\",\"658\",\"625\",\"1003\",\"558\",\"603\",\"1314\",\"138\"],\"textposition\":\"top center\",\"x\":[\"July\",\"August\",\"September\",\"October\",\"November\",\"December\",\"January\",\"February\",\"March\",\"April\",\"May\"],\"y\":[496,437,900,816,658,625,1003,558,603,1314,138],\"type\":\"scatter\"},{\"mode\":\"lines+markers\",\"name\":\"NTM3 - X1 - A14 - DIRECT - Large - Liquid - Sourcing Cost\",\"text\":[\"9.169\",\"13.524\",\"0.0\",\"72.559\",\"0.0\",\"14.458\",\"0.0\",\"0.0\",\"0.0009999999999972\",\"2.4980018054066002e-15\",\"33.766\"],\"textposition\":\"top center\",\"x\":[\"July\",\"August\",\"September\",\"October\",\"November\",\"December\",\"January\",\"February\",\"March\",\"April\",\"May\"],\"y\":[9.169,13.524,0.0,72.559,0.0,14.458,0.0,0.0,0.0009999999999972,2.4980018054066002e-15,33.766],\"type\":\"scatter\"},{\"mode\":\"lines+markers\",\"name\":\"NTM3 - X1 - A14 - DIRECT - Large - Liquid - Quantity\",\"text\":[\"876\",\"737\",\"912\",\"1277\",\"950\",\"1012\",\"1075\",\"655\",\"672\",\"660\",\"598\"],\"textposition\":\"top center\",\"x\":[\"July\",\"August\",\"September\",\"October\",\"November\",\"December\",\"January\",\"February\",\"March\",\"April\",\"May\"],\"y\":[876,737,912,1277,950,1012,1075,655,672,660,598],\"type\":\"scatter\"},{\"mode\":\"lines+markers\",\"name\":\"NTM3 - X1 - A15 - DIRECT - Large - Powder - Sourcing Cost\",\"text\":[\"8.568\",\"52.21\",\"71.358\",\"66.661\",\"73.397\",\"6.455\",\"66.562\",\"0.0\",\"46.325\",\"18.985\",\"15.323\"],\"textposition\":\"top center\",\"x\":[\"July\",\"August\",\"September\",\"October\",\"November\",\"December\",\"January\",\"February\",\"March\",\"April\",\"May\"],\"y\":[8.568,52.21,71.358,66.661,73.397,6.455,66.562,0.0,46.325,18.985,15.323],\"type\":\"scatter\"},{\"mode\":\"lines+markers\",\"name\":\"NTM3 - X1 - A15 - DIRECT - Large - Powder - Quantity\",\"text\":[\"213\",\"335\",\"657\",\"642\",\"285\",\"650\",\"1207\",\"338\",\"437\",\"583\",\"149\"],\"textposition\":\"top center\",\"x\":[\"July\",\"August\",\"September\",\"October\",\"November\",\"December\",\"January\",\"February\",\"March\",\"April\",\"May\"],\"y\":[213,335,657,642,285,650,1207,338,437,583,149],\"type\":\"scatter\"},{\"mode\":\"lines+markers\",\"name\":\"NTM3 - X1 - A18 - RETAIL - Large - Liquid - Sourcing Cost\",\"text\":[\"149.682\",\"153.15\",\"154.971\",\"152.432\",\"154.042\",\"159.106\",\"159.092\",\"157.47\",\"153.525\",\"157.494\",\"158.594\"],\"textposition\":\"top center\",\"x\":[\"July\",\"August\",\"September\",\"October\",\"November\",\"December\",\"January\",\"February\",\"March\",\"April\",\"May\"],\"y\":[149.682,153.15,154.971,152.432,154.042,159.106,159.092,157.47,153.525,157.494,158.594],\"type\":\"scatter\"},{\"mode\":\"lines+markers\",\"name\":\"NTM3 - X1 - A18 - RETAIL - Large - Liquid - Quantity\",\"text\":[\"606\",\"480\",\"547\",\"618\",\"707\",\"402\",\"553\",\"713\",\"449\",\"742\",\"461\"],\"textposition\":\"top center\",\"x\":[\"July\",\"August\",\"September\",\"October\",\"November\",\"December\",\"January\",\"February\",\"March\",\"April\",\"May\"],\"y\":[606,480,547,618,707,402,553,713,449,742,461],\"type\":\"scatter\"},{\"mode\":\"lines+markers\",\"name\":\"NTM3 - X1 - A18 - WHOLESALE - Small - Powder - Sourcing Cost\",\"text\":[\"103.989\",\"103.352\",\"104.165\",\"104.897\",\"104.529\",\"107.619\",\"106.875\",\"107.22\",\"105.583\",\"105.303\",\"108.151\"],\"textposition\":\"top center\",\"x\":[\"July\",\"August\",\"September\",\"October\",\"November\",\"December\",\"January\",\"February\",\"March\",\"April\",\"May\"],\"y\":[103.989,103.352,104.165,104.897,104.529,107.619,106.875,107.22,105.583,105.303,108.151],\"type\":\"scatter\"},{\"mode\":\"lines+markers\",\"name\":\"NTM3 - X1 - A18 - WHOLESALE - Small - Powder - Quantity\",\"text\":[\"59\",\"214\",\"33\",\"105\",\"130\",\"174\",\"348\",\"768\",\"1172\",\"470\",\"403\"],\"textposition\":\"top center\",\"x\":[\"July\",\"August\",\"September\",\"October\",\"November\",\"December\",\"January\",\"February\",\"March\",\"April\",\"May\"],\"y\":[59,214,33,105,130,174,348,768,1172,470,403],\"type\":\"scatter\"},{\"mode\":\"lines+markers\",\"name\":\"NTM3 - X1 - A24 - DIRECT - Small - Powder - Sourcing Cost\",\"text\":[\"93.675\",\"97.21\",\"3.947\",\"0.793999999999997\",\"47.584\",\"86.871\",\"0.0\",\"49.958\",\"206.859\",\"0.0\",\"42.134\"],\"textposition\":\"top center\",\"x\":[\"July\",\"August\",\"September\",\"October\",\"November\",\"December\",\"January\",\"February\",\"March\",\"April\",\"May\"],\"y\":[93.675,97.21,3.947,0.793999999999997,47.584,86.871,0.0,49.958,206.859,0.0,42.134],\"type\":\"scatter\"},{\"mode\":\"lines+markers\",\"name\":\"NTM3 - X1 - A24 - DIRECT - Small - Powder - Quantity\",\"text\":[\"390\",\"641\",\"502\",\"615\",\"869\",\"594\",\"2014\",\"1163\",\"1461\",\"912\",\"1564\"],\"textposition\":\"top center\",\"x\":[\"July\",\"August\",\"September\",\"October\",\"November\",\"December\",\"January\",\"February\",\"March\",\"April\",\"May\"],\"y\":[390,641,502,615,869,594,2014,1163,1461,912,1564],\"type\":\"scatter\"},{\"mode\":\"lines+markers\",\"name\":\"NTM3 - X1 - A25 - RETAIL - Large - Powder - Sourcing Cost\",\"text\":[\"128.704\",\"128.667\",\"128.689\",\"127.911\",\"128.665\",\"128.458\",\"128.334\",\"128.433\",\"130.694\"],\"textposition\":\"top center\",\"x\":[\"September\",\"October\",\"November\",\"December\",\"January\",\"February\",\"March\",\"April\",\"May\"],\"y\":[128.704,128.667,128.689,127.911,128.665,128.458,128.334,128.433,130.694],\"type\":\"scatter\"},{\"mode\":\"lines+markers\",\"name\":\"NTM3 - X1 - A25 - RETAIL - Large - Powder - Quantity\",\"text\":[\"671\",\"1038\",\"1203\",\"1144\",\"1114\",\"1200\",\"1499\",\"1387\",\"1344\"],\"textposition\":\"top center\",\"x\":[\"September\",\"October\",\"November\",\"December\",\"January\",\"February\",\"March\",\"April\",\"May\"],\"y\":[671,1038,1203,1144,1114,1200,1499,1387,1344],\"type\":\"scatter\"},{\"mode\":\"lines+markers\",\"name\":\"NTM3 - X1 - A25 - RETAIL - Small - Powder - Sourcing Cost\",\"text\":[\"64.356\",\"64.355\",\"64.319\",\"64.33\",\"64.32\",\"64.228\",\"64.218\",\"64.247\",\"64.254\"],\"textposition\":\"top center\",\"x\":[\"September\",\"October\",\"November\",\"December\",\"January\",\"February\",\"March\",\"April\",\"May\"],\"y\":[64.356,64.355,64.319,64.33,64.32,64.228,64.218,64.247,64.254],\"type\":\"scatter\"},{\"mode\":\"lines+markers\",\"name\":\"NTM3 - X1 - A25 - RETAIL - Small - Powder - Quantity\",\"text\":[\"405\",\"801\",\"723\",\"687\",\"728\",\"753\",\"639\",\"715\",\"586\"],\"textposition\":\"top center\",\"x\":[\"September\",\"October\",\"November\",\"December\",\"January\",\"February\",\"March\",\"April\",\"May\"],\"y\":[405,801,723,687,728,753,639,715,586],\"type\":\"scatter\"},{\"mode\":\"lines+markers\",\"name\":\"NTM3 - X1 - A28 - DIRECT - Small - Powder - Sourcing Cost\",\"text\":[\"50.897\",\"47.495\",\"0.308\",\"14.33\",\"0.627000000000002\",\"35.235\",\"50.806\",\"47.881\",\"53.271\",\"52.319\",\"48.428\"],\"textposition\":\"top center\",\"x\":[\"July\",\"August\",\"September\",\"October\",\"November\",\"December\",\"January\",\"February\",\"March\",\"April\",\"May\"],\"y\":[50.897,47.495,0.308,14.33,0.627000000000002,35.235,50.806,47.881,53.271,52.319,48.428],\"type\":\"scatter\"},{\"mode\":\"lines+markers\",\"name\":\"NTM3 - X1 - A28 - DIRECT - Small - Powder - Quantity\",\"text\":[\"967\",\"2772\",\"3352\",\"2012\",\"1612\",\"692\",\"711\",\"973\",\"766\",\"738\",\"942\"],\"textposition\":\"top center\",\"x\":[\"July\",\"August\",\"September\",\"October\",\"November\",\"December\",\"January\",\"February\",\"March\",\"April\",\"May\"],\"y\":[967,2772,3352,2012,1612,692,711,973,766,738,942],\"type\":\"scatter\"},{\"mode\":\"lines+markers\",\"name\":\"NTM3 - X1 - A28 - WHOLESALE - Large - Powder - Sourcing Cost\",\"text\":[\"5.553\",\"15.899\",\"30.884\",\"50.157\",\"11.0\",\"16.693\",\"4.814\",\"102.4\",\"42.356\",\"10.503\",\"10.158\"],\"textposition\":\"top center\",\"x\":[\"July\",\"August\",\"September\",\"October\",\"November\",\"December\",\"January\",\"February\",\"March\",\"April\",\"May\"],\"y\":[5.553,15.899,30.884,50.157,11.0,16.693,4.814,102.4,42.356,10.503,10.158],\"type\":\"scatter\"},{\"mode\":\"lines+markers\",\"name\":\"NTM3 - X1 - A28 - WHOLESALE - Large - Powder - Quantity\",\"text\":[\"60\",\"233\",\"193\",\"39\",\"188\",\"231\",\"91\",\"45\",\"125\",\"164\",\"79\"],\"textposition\":\"top center\",\"x\":[\"July\",\"August\",\"September\",\"October\",\"November\",\"December\",\"January\",\"February\",\"March\",\"April\",\"May\"],\"y\":[60,233,193,39,188,231,91,45,125,164,79],\"type\":\"scatter\"},{\"mode\":\"lines+markers\",\"name\":\"NTM3 - X1 - A35 - DIRECT - ExtraLarge - Powder - Sourcing Cost\",\"text\":[\"57.0\",\"57.0\",\"66.5\",\"57.0\",\"57.0\",\"57.0\",\"42.75\",\"57.0\",\"57.0\",\"57.0\",\"57.0\"],\"textposition\":\"top center\",\"x\":[\"July\",\"August\",\"September\",\"October\",\"November\",\"December\",\"January\",\"February\",\"March\",\"April\",\"May\"],\"y\":[57.0,57.0,66.5,57.0,57.0,57.0,42.75,57.0,57.0,57.0,57.0],\"type\":\"scatter\"},{\"mode\":\"lines+markers\",\"name\":\"NTM3 - X1 - A35 - DIRECT - ExtraLarge - Powder - Quantity\",\"text\":[\"660\",\"358\",\"195\",\"206\",\"256\",\"523\",\"192\",\"346\",\"570\",\"540\",\"302\"],\"textposition\":\"top center\",\"x\":[\"July\",\"August\",\"September\",\"October\",\"November\",\"December\",\"January\",\"February\",\"March\",\"April\",\"May\"],\"y\":[660,358,195,206,256,523,192,346,570,540,302],\"type\":\"scatter\"},{\"mode\":\"lines+markers\",\"name\":\"NTM3 - X1 - A35 - DIRECT - Small - Liquid - Sourcing Cost\",\"text\":[\"42.8\",\"42.8\",\"42.8\",\"214.0\",\"73.371\",\"57.906\",\"42.8\",\"42.8\",\"198.894\",\"25.68\",\"38.52\"],\"textposition\":\"top center\",\"x\":[\"July\",\"August\",\"September\",\"October\",\"November\",\"December\",\"January\",\"February\",\"March\",\"April\",\"May\"],\"y\":[42.8,42.8,42.8,214.0,73.371,57.906,42.8,42.8,198.894,25.68,38.52],\"type\":\"scatter\"},{\"mode\":\"lines+markers\",\"name\":\"NTM3 - X1 - A35 - DIRECT - Small - Liquid - Quantity\",\"text\":[\"454\",\"436\",\"344\",\"437\",\"463\",\"459\",\"443\",\"385\",\"492\",\"463\",\"353\"],\"textposition\":\"top center\",\"x\":[\"July\",\"August\",\"September\",\"October\",\"November\",\"December\",\"January\",\"February\",\"March\",\"April\",\"May\"],\"y\":[454,436,344,437,463,459,443,385,492,463,353],\"type\":\"scatter\"},{\"mode\":\"lines+markers\",\"name\":\"NTM3 - X1 - A44 - DIRECT - Small - Liquid - Sourcing Cost\",\"text\":[\"62.432\",\"63.538\",\"64.905\",\"64.866\",\"65.566\",\"66.396\",\"67.249\",\"66.879\",\"65.88\",\"66.42\",\"66.93\"],\"textposition\":\"top center\",\"x\":[\"July\",\"August\",\"September\",\"October\",\"November\",\"December\",\"January\",\"February\",\"March\",\"April\",\"May\"],\"y\":[62.432,63.538,64.905,64.866,65.566,66.396,67.249,66.879,65.88,66.42,66.93],\"type\":\"scatter\"},{\"mode\":\"lines+markers\",\"name\":\"NTM3 - X1 - A44 - DIRECT - Small - Liquid - Quantity\",\"text\":[\"1110\",\"953\",\"907\",\"1041\",\"1397\",\"1212\",\"836\",\"530\",\"927\",\"989\",\"754\"],\"textposition\":\"top center\",\"x\":[\"July\",\"August\",\"September\",\"October\",\"November\",\"December\",\"January\",\"February\",\"March\",\"April\",\"May\"],\"y\":[1110,953,907,1041,1397,1212,836,530,927,989,754],\"type\":\"scatter\"},{\"mode\":\"lines+markers\",\"name\":\"NTM3 - X1 - A8 - DIRECT - Large - Powder - Sourcing Cost\",\"text\":[\"128.802\",\"134.946\",\"134.245\",\"59.203\",\"73.391\",\"128.694\",\"128.824\",\"144.017\",\"141.291\",\"122.212\",\"125.005\"],\"textposition\":\"top center\",\"x\":[\"July\",\"August\",\"September\",\"October\",\"November\",\"December\",\"January\",\"February\",\"March\",\"April\",\"May\"],\"y\":[128.802,134.946,134.245,59.203,73.391,128.694,128.824,144.017,141.291,122.212,125.005],\"type\":\"scatter\"},{\"mode\":\"lines+markers\",\"name\":\"NTM3 - X1 - A8 - DIRECT - Large - Powder - Quantity\",\"text\":[\"89\",\"211\",\"426\",\"580\",\"794\",\"664\",\"645\",\"531\",\"579\",\"629\",\"472\"],\"textposition\":\"top center\",\"x\":[\"July\",\"August\",\"September\",\"October\",\"November\",\"December\",\"January\",\"February\",\"March\",\"April\",\"May\"],\"y\":[89,211,426,580,794,664,645,531,579,629,472],\"type\":\"scatter\"},{\"mode\":\"lines+markers\",\"name\":\"NTM3 - X1 - A8 - DIRECT - Small - Powder - Sourcing Cost\",\"text\":[\"132.909\",\"131.793\",\"134.245\",\"80.891\",\"48.412\",\"68.67\",\"51.351\",\"97.697\",\"113.808\",\"145.495\",\"102.628\"],\"textposition\":\"top center\",\"x\":[\"July\",\"August\",\"September\",\"October\",\"November\",\"December\",\"January\",\"February\",\"March\",\"April\",\"May\"],\"y\":[132.909,131.793,134.245,80.891,48.412,68.67,51.351,97.697,113.808,145.495,102.628],\"type\":\"scatter\"},{\"mode\":\"lines+markers\",\"name\":\"NTM3 - X1 - A8 - DIRECT - Small - Powder - Quantity\",\"text\":[\"68\",\"76\",\"143\",\"165\",\"251\",\"200\",\"162\",\"172\",\"187\",\"203\",\"187\"],\"textposition\":\"top center\",\"x\":[\"July\",\"August\",\"September\",\"October\",\"November\",\"December\",\"January\",\"February\",\"March\",\"April\",\"May\"],\"y\":[68,76,143,165,251,200,162,172,187,203,187],\"type\":\"scatter\"},{\"mode\":\"lines+markers\",\"name\":\"NTM3 - X2 - A20 - DIRECT - Large - Powder - Sourcing Cost\",\"text\":[\"101.966\",\"117.413\",\"21.956\",\"117.626\",\"91.185\",\"12.456\",\"47.165\",\"23.593\",\"85.706\",\"56.125\",\"8.299\"],\"textposition\":\"top center\",\"x\":[\"July\",\"August\",\"September\",\"October\",\"November\",\"December\",\"January\",\"February\",\"March\",\"April\",\"May\"],\"y\":[101.966,117.413,21.956,117.626,91.185,12.456,47.165,23.593,85.706,56.125,8.299],\"type\":\"scatter\"},{\"mode\":\"lines+markers\",\"name\":\"NTM3 - X2 - A20 - DIRECT - Large - Powder - Quantity\",\"text\":[\"156\",\"123\",\"132\",\"90\",\"244\",\"197\",\"151\",\"296\",\"197\",\"344\",\"196\"],\"textposition\":\"top center\",\"x\":[\"July\",\"August\",\"September\",\"October\",\"November\",\"December\",\"January\",\"February\",\"March\",\"April\",\"May\"],\"y\":[156,123,132,90,244,197,151,296,197,344,196],\"type\":\"scatter\"},{\"mode\":\"lines+markers\",\"name\":\"NTM3 - X3 - A22 - RETAIL - Large - Powder - Sourcing Cost\",\"text\":[\"50.906\",\"54.562\",\"50.616\",\"52.006\",\"53.249\",\"52.045\",\"48.711\",\"35.782\",\"55.404\",\"55.315\",\"72.0\"],\"textposition\":\"top center\",\"x\":[\"July\",\"August\",\"September\",\"October\",\"November\",\"December\",\"January\",\"February\",\"March\",\"April\",\"May\"],\"y\":[50.906,54.562,50.616,52.006,53.249,52.045,48.711,35.782,55.404,55.315,72.0],\"type\":\"scatter\"},{\"mode\":\"lines+markers\",\"name\":\"NTM3 - X3 - A22 - RETAIL - Large - Powder - Quantity\",\"text\":[\"766\",\"734\",\"626\",\"936\",\"889\",\"693\",\"813\",\"793\",\"893\",\"979\",\"1502\"],\"textposition\":\"top center\",\"x\":[\"July\",\"August\",\"September\",\"October\",\"November\",\"December\",\"January\",\"February\",\"March\",\"April\",\"May\"],\"y\":[766,734,626,936,889,693,813,793,893,979,1502],\"type\":\"scatter\"}],                        {\"template\":{\"data\":{\"histogram2dcontour\":[{\"type\":\"histogram2dcontour\",\"colorbar\":{\"outlinewidth\":0,\"ticks\":\"\"},\"colorscale\":[[0.0,\"#0d0887\"],[0.1111111111111111,\"#46039f\"],[0.2222222222222222,\"#7201a8\"],[0.3333333333333333,\"#9c179e\"],[0.4444444444444444,\"#bd3786\"],[0.5555555555555556,\"#d8576b\"],[0.6666666666666666,\"#ed7953\"],[0.7777777777777778,\"#fb9f3a\"],[0.8888888888888888,\"#fdca26\"],[1.0,\"#f0f921\"]]}],\"choropleth\":[{\"type\":\"choropleth\",\"colorbar\":{\"outlinewidth\":0,\"ticks\":\"\"}}],\"histogram2d\":[{\"type\":\"histogram2d\",\"colorbar\":{\"outlinewidth\":0,\"ticks\":\"\"},\"colorscale\":[[0.0,\"#0d0887\"],[0.1111111111111111,\"#46039f\"],[0.2222222222222222,\"#7201a8\"],[0.3333333333333333,\"#9c179e\"],[0.4444444444444444,\"#bd3786\"],[0.5555555555555556,\"#d8576b\"],[0.6666666666666666,\"#ed7953\"],[0.7777777777777778,\"#fb9f3a\"],[0.8888888888888888,\"#fdca26\"],[1.0,\"#f0f921\"]]}],\"heatmap\":[{\"type\":\"heatmap\",\"colorbar\":{\"outlinewidth\":0,\"ticks\":\"\"},\"colorscale\":[[0.0,\"#0d0887\"],[0.1111111111111111,\"#46039f\"],[0.2222222222222222,\"#7201a8\"],[0.3333333333333333,\"#9c179e\"],[0.4444444444444444,\"#bd3786\"],[0.5555555555555556,\"#d8576b\"],[0.6666666666666666,\"#ed7953\"],[0.7777777777777778,\"#fb9f3a\"],[0.8888888888888888,\"#fdca26\"],[1.0,\"#f0f921\"]]}],\"heatmapgl\":[{\"type\":\"heatmapgl\",\"colorbar\":{\"outlinewidth\":0,\"ticks\":\"\"},\"colorscale\":[[0.0,\"#0d0887\"],[0.1111111111111111,\"#46039f\"],[0.2222222222222222,\"#7201a8\"],[0.3333333333333333,\"#9c179e\"],[0.4444444444444444,\"#bd3786\"],[0.5555555555555556,\"#d8576b\"],[0.6666666666666666,\"#ed7953\"],[0.7777777777777778,\"#fb9f3a\"],[0.8888888888888888,\"#fdca26\"],[1.0,\"#f0f921\"]]}],\"contourcarpet\":[{\"type\":\"contourcarpet\",\"colorbar\":{\"outlinewidth\":0,\"ticks\":\"\"}}],\"contour\":[{\"type\":\"contour\",\"colorbar\":{\"outlinewidth\":0,\"ticks\":\"\"},\"colorscale\":[[0.0,\"#0d0887\"],[0.1111111111111111,\"#46039f\"],[0.2222222222222222,\"#7201a8\"],[0.3333333333333333,\"#9c179e\"],[0.4444444444444444,\"#bd3786\"],[0.5555555555555556,\"#d8576b\"],[0.6666666666666666,\"#ed7953\"],[0.7777777777777778,\"#fb9f3a\"],[0.8888888888888888,\"#fdca26\"],[1.0,\"#f0f921\"]]}],\"surface\":[{\"type\":\"surface\",\"colorbar\":{\"outlinewidth\":0,\"ticks\":\"\"},\"colorscale\":[[0.0,\"#0d0887\"],[0.1111111111111111,\"#46039f\"],[0.2222222222222222,\"#7201a8\"],[0.3333333333333333,\"#9c179e\"],[0.4444444444444444,\"#bd3786\"],[0.5555555555555556,\"#d8576b\"],[0.6666666666666666,\"#ed7953\"],[0.7777777777777778,\"#fb9f3a\"],[0.8888888888888888,\"#fdca26\"],[1.0,\"#f0f921\"]]}],\"mesh3d\":[{\"type\":\"mesh3d\",\"colorbar\":{\"outlinewidth\":0,\"ticks\":\"\"}}],\"scatter\":[{\"fillpattern\":{\"fillmode\":\"overlay\",\"size\":10,\"solidity\":0.2},\"type\":\"scatter\"}],\"parcoords\":[{\"type\":\"parcoords\",\"line\":{\"colorbar\":{\"outlinewidth\":0,\"ticks\":\"\"}}}],\"scatterpolargl\":[{\"type\":\"scatterpolargl\",\"marker\":{\"colorbar\":{\"outlinewidth\":0,\"ticks\":\"\"}}}],\"bar\":[{\"error_x\":{\"color\":\"#2a3f5f\"},\"error_y\":{\"color\":\"#2a3f5f\"},\"marker\":{\"line\":{\"color\":\"#E5ECF6\",\"width\":0.5},\"pattern\":{\"fillmode\":\"overlay\",\"size\":10,\"solidity\":0.2}},\"type\":\"bar\"}],\"scattergeo\":[{\"type\":\"scattergeo\",\"marker\":{\"colorbar\":{\"outlinewidth\":0,\"ticks\":\"\"}}}],\"scatterpolar\":[{\"type\":\"scatterpolar\",\"marker\":{\"colorbar\":{\"outlinewidth\":0,\"ticks\":\"\"}}}],\"histogram\":[{\"marker\":{\"pattern\":{\"fillmode\":\"overlay\",\"size\":10,\"solidity\":0.2}},\"type\":\"histogram\"}],\"scattergl\":[{\"type\":\"scattergl\",\"marker\":{\"colorbar\":{\"outlinewidth\":0,\"ticks\":\"\"}}}],\"scatter3d\":[{\"type\":\"scatter3d\",\"line\":{\"colorbar\":{\"outlinewidth\":0,\"ticks\":\"\"}},\"marker\":{\"colorbar\":{\"outlinewidth\":0,\"ticks\":\"\"}}}],\"scattermapbox\":[{\"type\":\"scattermapbox\",\"marker\":{\"colorbar\":{\"outlinewidth\":0,\"ticks\":\"\"}}}],\"scatterternary\":[{\"type\":\"scatterternary\",\"marker\":{\"colorbar\":{\"outlinewidth\":0,\"ticks\":\"\"}}}],\"scattercarpet\":[{\"type\":\"scattercarpet\",\"marker\":{\"colorbar\":{\"outlinewidth\":0,\"ticks\":\"\"}}}],\"carpet\":[{\"aaxis\":{\"endlinecolor\":\"#2a3f5f\",\"gridcolor\":\"white\",\"linecolor\":\"white\",\"minorgridcolor\":\"white\",\"startlinecolor\":\"#2a3f5f\"},\"baxis\":{\"endlinecolor\":\"#2a3f5f\",\"gridcolor\":\"white\",\"linecolor\":\"white\",\"minorgridcolor\":\"white\",\"startlinecolor\":\"#2a3f5f\"},\"type\":\"carpet\"}],\"table\":[{\"cells\":{\"fill\":{\"color\":\"#EBF0F8\"},\"line\":{\"color\":\"white\"}},\"header\":{\"fill\":{\"color\":\"#C8D4E3\"},\"line\":{\"color\":\"white\"}},\"type\":\"table\"}],\"barpolar\":[{\"marker\":{\"line\":{\"color\":\"#E5ECF6\",\"width\":0.5},\"pattern\":{\"fillmode\":\"overlay\",\"size\":10,\"solidity\":0.2}},\"type\":\"barpolar\"}],\"pie\":[{\"automargin\":true,\"type\":\"pie\"}]},\"layout\":{\"autotypenumbers\":\"strict\",\"colorway\":[\"#636efa\",\"#EF553B\",\"#00cc96\",\"#ab63fa\",\"#FFA15A\",\"#19d3f3\",\"#FF6692\",\"#B6E880\",\"#FF97FF\",\"#FECB52\"],\"font\":{\"color\":\"#2a3f5f\"},\"hovermode\":\"closest\",\"hoverlabel\":{\"align\":\"left\"},\"paper_bgcolor\":\"white\",\"plot_bgcolor\":\"#E5ECF6\",\"polar\":{\"bgcolor\":\"#E5ECF6\",\"angularaxis\":{\"gridcolor\":\"white\",\"linecolor\":\"white\",\"ticks\":\"\"},\"radialaxis\":{\"gridcolor\":\"white\",\"linecolor\":\"white\",\"ticks\":\"\"}},\"ternary\":{\"bgcolor\":\"#E5ECF6\",\"aaxis\":{\"gridcolor\":\"white\",\"linecolor\":\"white\",\"ticks\":\"\"},\"baxis\":{\"gridcolor\":\"white\",\"linecolor\":\"white\",\"ticks\":\"\"},\"caxis\":{\"gridcolor\":\"white\",\"linecolor\":\"white\",\"ticks\":\"\"}},\"coloraxis\":{\"colorbar\":{\"outlinewidth\":0,\"ticks\":\"\"}},\"colorscale\":{\"sequential\":[[0.0,\"#0d0887\"],[0.1111111111111111,\"#46039f\"],[0.2222222222222222,\"#7201a8\"],[0.3333333333333333,\"#9c179e\"],[0.4444444444444444,\"#bd3786\"],[0.5555555555555556,\"#d8576b\"],[0.6666666666666666,\"#ed7953\"],[0.7777777777777778,\"#fb9f3a\"],[0.8888888888888888,\"#fdca26\"],[1.0,\"#f0f921\"]],\"sequentialminus\":[[0.0,\"#0d0887\"],[0.1111111111111111,\"#46039f\"],[0.2222222222222222,\"#7201a8\"],[0.3333333333333333,\"#9c179e\"],[0.4444444444444444,\"#bd3786\"],[0.5555555555555556,\"#d8576b\"],[0.6666666666666666,\"#ed7953\"],[0.7777777777777778,\"#fb9f3a\"],[0.8888888888888888,\"#fdca26\"],[1.0,\"#f0f921\"]],\"diverging\":[[0,\"#8e0152\"],[0.1,\"#c51b7d\"],[0.2,\"#de77ae\"],[0.3,\"#f1b6da\"],[0.4,\"#fde0ef\"],[0.5,\"#f7f7f7\"],[0.6,\"#e6f5d0\"],[0.7,\"#b8e186\"],[0.8,\"#7fbc41\"],[0.9,\"#4d9221\"],[1,\"#276419\"]]},\"xaxis\":{\"gridcolor\":\"white\",\"linecolor\":\"white\",\"ticks\":\"\",\"title\":{\"standoff\":15},\"zerolinecolor\":\"white\",\"automargin\":true,\"zerolinewidth\":2},\"yaxis\":{\"gridcolor\":\"white\",\"linecolor\":\"white\",\"ticks\":\"\",\"title\":{\"standoff\":15},\"zerolinecolor\":\"white\",\"automargin\":true,\"zerolinewidth\":2},\"scene\":{\"xaxis\":{\"backgroundcolor\":\"#E5ECF6\",\"gridcolor\":\"white\",\"linecolor\":\"white\",\"showbackground\":true,\"ticks\":\"\",\"zerolinecolor\":\"white\",\"gridwidth\":2},\"yaxis\":{\"backgroundcolor\":\"#E5ECF6\",\"gridcolor\":\"white\",\"linecolor\":\"white\",\"showbackground\":true,\"ticks\":\"\",\"zerolinecolor\":\"white\",\"gridwidth\":2},\"zaxis\":{\"backgroundcolor\":\"#E5ECF6\",\"gridcolor\":\"white\",\"linecolor\":\"white\",\"showbackground\":true,\"ticks\":\"\",\"zerolinecolor\":\"white\",\"gridwidth\":2}},\"shapedefaults\":{\"line\":{\"color\":\"#2a3f5f\"}},\"annotationdefaults\":{\"arrowcolor\":\"#2a3f5f\",\"arrowhead\":0,\"arrowwidth\":1},\"geo\":{\"bgcolor\":\"white\",\"landcolor\":\"#E5ECF6\",\"subunitcolor\":\"white\",\"showland\":true,\"showlakes\":true,\"lakecolor\":\"white\"},\"title\":{\"x\":0.05},\"mapbox\":{\"style\":\"light\"}}},\"title\":{\"text\":\"Change in Sourcing Cost and Quantity Over Months for Unique Product Combinations\"},\"xaxis\":{\"title\":{\"text\":\"Month\"}},\"yaxis\":{\"title\":{\"text\":\"Value\"}},\"legend\":{\"title\":{\"text\":\"Product Combinations\"}},\"hovermode\":\"closest\"},                        {\"responsive\": true}                    ).then(function(){\n",
       "                            \n",
       "var gd = document.getElementById('ee959da5-810f-4fca-b028-47159d2ee43c');\n",
       "var x = new MutationObserver(function (mutations, observer) {{\n",
       "        var display = window.getComputedStyle(gd).display;\n",
       "        if (!display || display === 'none') {{\n",
       "            console.log([gd, 'removed!']);\n",
       "            Plotly.purge(gd);\n",
       "            observer.disconnect();\n",
       "        }}\n",
       "}});\n",
       "\n",
       "// Listen for the removal of the full notebook cells\n",
       "var notebookContainer = gd.closest('#notebook-container');\n",
       "if (notebookContainer) {{\n",
       "    x.observe(notebookContainer, {childList: true});\n",
       "}}\n",
       "\n",
       "// Listen for the clearing of the current output cell\n",
       "var outputEl = gd.closest('.output');\n",
       "if (outputEl) {{\n",
       "    x.observe(outputEl, {childList: true});\n",
       "}}\n",
       "\n",
       "                        })                };                });            </script>        </div>"
      ]
     },
     "metadata": {},
     "output_type": "display_data"
    }
   ],
   "source": [
    "import pandas as pd\n",
    "import calendar\n",
    "import plotly.graph_objs as go\n",
    "\n",
    "grouping_columns_unique = ['ProductType', 'Manufacturer', 'Area Code', 'Sourcing Channel', 'Product Size', 'Product Type']\n",
    "\n",
    "# Group by unique combinations and aggregate mean Sourcing Cost and sum Quantity\n",
    "grouped = df.groupby(grouping_columns_unique + ['Year', 'Month']).agg({'Sourcing Cost':'mean', 'Quantity':'sum'}).reset_index()\n",
    "\n",
    "# Merge with unique_combinations to retain only those combinations\n",
    "merged = pd.merge(grouped, unique_combinations, on=grouping_columns_unique, how='inner')\n",
    "\n",
    "# Initialize a dictionary to store monthly data for each unique product combination\n",
    "product_data = {}\n",
    "\n",
    "# Iterate over unique combinations\n",
    "for index, row in merged.iterrows():\n",
    "    product_label = f\"{row['ProductType']} - {row['Manufacturer']} - {row['Area Code']} - {row['Sourcing Channel']} - {row['Product Size']} - {row['Product Type']}\"\n",
    "    if product_label not in product_data:\n",
    "        product_data[product_label] = []\n",
    "    \n",
    "    monthly_data = {\n",
    "        'Month': calendar.month_name[row['Month']],\n",
    "        'Year': str(row['Year']),\n",
    "        'Sourcing Cost': row['Sourcing Cost'],\n",
    "        'Quantity': row['Quantity']\n",
    "    }\n",
    "    \n",
    "    product_data[product_label].append(monthly_data)\n",
    "\n",
    "# Create a Plotly figure to hold the plots\n",
    "fig = go.Figure()\n",
    "\n",
    "# Iterate over each unique product combination\n",
    "for product_label, monthly_data in product_data.items():\n",
    "    # Extract data for each metric (Sourcing Cost and Quantity)\n",
    "    months = [data['Month'] for data in monthly_data]\n",
    "    sourcing_cost = [data['Sourcing Cost'] for data in monthly_data]\n",
    "    quantity = [data['Quantity'] for data in monthly_data]\n",
    "    \n",
    "    # Add traces for Sourcing Cost and Quantity\n",
    "    fig.add_trace(go.Scatter(x=months, y=sourcing_cost, mode='lines+markers', name=f'{product_label} - Sourcing Cost', text=sourcing_cost, textposition='top center'))\n",
    "    fig.add_trace(go.Scatter(x=months, y=quantity, mode='lines+markers', name=f'{product_label} - Quantity', text=quantity, textposition='top center'))\n",
    "\n",
    "# Update layout for better readability\n",
    "fig.update_layout(title='Change in Sourcing Cost and Quantity Over Months for Unique Product Combinations',\n",
    "                  xaxis_title='Month',\n",
    "                  yaxis_title='Value',\n",
    "                  legend_title='Product Combinations',\n",
    "                  hovermode='closest',\n",
    "                  \n",
    "                  )\n",
    "\n",
    "# Show the plot\n",
    "fig.show()\n",
    "\n",
    "fig.write_html('sourcing_cost_quantity_plot.html', full_html=False, include_plotlyjs='cdn')\n",
    "\n"
   ]
  },
  {
   "cell_type": "markdown",
   "metadata": {},
   "source": [
    "<div class=\"alert alert-block alert-info\">\n",
    "    Interactive plot for visualizing the unique product combinations and their corresponding quantities and Sourcing Cost. The plot allows users to explore the distribution of product combinations across different categories and identify patterns or trends in the data.\n",
    "    \n",
    "</div>\n"
   ]
  },
  {
   "cell_type": "markdown",
   "metadata": {},
   "source": [
    "<div class=\"alert alert-block alert-info\">\n",
    "    <b>Note : Double click on the combination to see the individual plot in legend on right side. Then single click for comparison two or more combinations.</b>\n",
    "</div>\n"
   ]
  },
  {
   "cell_type": "code",
   "execution_count": 35,
   "metadata": {},
   "outputs": [
    {
     "data": {
      "text/plain": [
       "96"
      ]
     },
     "execution_count": 35,
     "metadata": {},
     "output_type": "execute_result"
    }
   ],
   "source": [
    "len(product_data)"
   ]
  },
  {
   "cell_type": "markdown",
   "metadata": {},
   "source": [
    "### <a id='toc2_1_6_'></a>[Adding the Quantity of the Different Products Combinations with respect to `Date` and `Sourcing Cost` to the Training Data](#toc0_)"
   ]
  },
  {
   "cell_type": "code",
   "execution_count": 36,
   "metadata": {},
   "outputs": [],
   "source": [
    "train_df_quantify = train_df.copy()"
   ]
  },
  {
   "cell_type": "code",
   "execution_count": 37,
   "metadata": {},
   "outputs": [],
   "source": [
    "import pandas as pd\n",
    "\n",
    "# Columns to group by\n",
    "grouping_columns = ['ProductType', 'Manufacturer', 'Area Code', 'Sourcing Channel', \n",
    "                    'Product Size', 'Product Type', 'Month of Sourcing']\n",
    "\n",
    "# Create a groupby object and count the number of occurrences in each group\n",
    "train_df_quantify['Quantity'] = train_df_quantify.groupby(grouping_columns)['Sourcing Cost'].transform('count')\n",
    "\n",
    "train_df_quantify = train_df_quantify.drop_duplicates(subset=grouping_columns)\n",
    "\n"
   ]
  },
  {
   "cell_type": "code",
   "execution_count": 38,
   "metadata": {},
   "outputs": [
    {
     "name": "stdout",
     "output_type": "stream",
     "text": [
      "<class 'pandas.core.frame.DataFrame'>\n",
      "Int64Index: 1021 entries, 0 to 422767\n",
      "Data columns (total 11 columns):\n",
      " #   Column             Non-Null Count  Dtype         \n",
      "---  ------             --------------  -----         \n",
      " 0   ProductType        1021 non-null   object        \n",
      " 1   Manufacturer       1021 non-null   object        \n",
      " 2   Area Code          1021 non-null   object        \n",
      " 3   Sourcing Channel   1021 non-null   object        \n",
      " 4   Product Size       1021 non-null   object        \n",
      " 5   Product Type       1021 non-null   object        \n",
      " 6   Month of Sourcing  1021 non-null   datetime64[ns]\n",
      " 7   Sourcing Cost      1021 non-null   float64       \n",
      " 8   Year               1021 non-null   int64         \n",
      " 9   Month              1021 non-null   int64         \n",
      " 10  Quantity           1021 non-null   int64         \n",
      "dtypes: datetime64[ns](1), float64(1), int64(3), object(6)\n",
      "memory usage: 95.7+ KB\n"
     ]
    }
   ],
   "source": [
    "train_df_quantify.info()"
   ]
  },
  {
   "cell_type": "code",
   "execution_count": 39,
   "metadata": {},
   "outputs": [
    {
     "data": {
      "text/html": [
       "<div>\n",
       "<style scoped>\n",
       "    .dataframe tbody tr th:only-of-type {\n",
       "        vertical-align: middle;\n",
       "    }\n",
       "\n",
       "    .dataframe tbody tr th {\n",
       "        vertical-align: top;\n",
       "    }\n",
       "\n",
       "    .dataframe thead th {\n",
       "        text-align: right;\n",
       "    }\n",
       "</style>\n",
       "<table border=\"1\" class=\"dataframe\">\n",
       "  <thead>\n",
       "    <tr style=\"text-align: right;\">\n",
       "      <th></th>\n",
       "      <th>ProductType</th>\n",
       "      <th>Manufacturer</th>\n",
       "      <th>Area Code</th>\n",
       "      <th>Sourcing Channel</th>\n",
       "      <th>Product Size</th>\n",
       "      <th>Product Type</th>\n",
       "      <th>Month of Sourcing</th>\n",
       "      <th>Sourcing Cost</th>\n",
       "      <th>Year</th>\n",
       "      <th>Month</th>\n",
       "      <th>Quantity</th>\n",
       "    </tr>\n",
       "  </thead>\n",
       "  <tbody>\n",
       "    <tr>\n",
       "      <th>0</th>\n",
       "      <td>NTM3</td>\n",
       "      <td>X1</td>\n",
       "      <td>A28</td>\n",
       "      <td>WHOLESALE</td>\n",
       "      <td>Large</td>\n",
       "      <td>Powder</td>\n",
       "      <td>2021-05-01</td>\n",
       "      <td>10.158</td>\n",
       "      <td>2021</td>\n",
       "      <td>5</td>\n",
       "      <td>79</td>\n",
       "    </tr>\n",
       "    <tr>\n",
       "      <th>1</th>\n",
       "      <td>NTM2</td>\n",
       "      <td>X1</td>\n",
       "      <td>A9</td>\n",
       "      <td>DIRECT</td>\n",
       "      <td>Large</td>\n",
       "      <td>Powder</td>\n",
       "      <td>2020-10-01</td>\n",
       "      <td>134.281</td>\n",
       "      <td>2020</td>\n",
       "      <td>10</td>\n",
       "      <td>135</td>\n",
       "    </tr>\n",
       "    <tr>\n",
       "      <th>2</th>\n",
       "      <td>NTM3</td>\n",
       "      <td>X2</td>\n",
       "      <td>A20</td>\n",
       "      <td>DIRECT</td>\n",
       "      <td>Large</td>\n",
       "      <td>Powder</td>\n",
       "      <td>2020-12-01</td>\n",
       "      <td>12.456</td>\n",
       "      <td>2020</td>\n",
       "      <td>12</td>\n",
       "      <td>197</td>\n",
       "    </tr>\n",
       "    <tr>\n",
       "      <th>3</th>\n",
       "      <td>NTM3</td>\n",
       "      <td>X1</td>\n",
       "      <td>A18</td>\n",
       "      <td>WHOLESALE</td>\n",
       "      <td>Small</td>\n",
       "      <td>Powder</td>\n",
       "      <td>2021-02-01</td>\n",
       "      <td>107.220</td>\n",
       "      <td>2021</td>\n",
       "      <td>2</td>\n",
       "      <td>768</td>\n",
       "    </tr>\n",
       "    <tr>\n",
       "      <th>4</th>\n",
       "      <td>NTM2</td>\n",
       "      <td>X1</td>\n",
       "      <td>A28</td>\n",
       "      <td>DIRECT</td>\n",
       "      <td>Large</td>\n",
       "      <td>Liquid</td>\n",
       "      <td>2020-11-01</td>\n",
       "      <td>197.763</td>\n",
       "      <td>2020</td>\n",
       "      <td>11</td>\n",
       "      <td>271</td>\n",
       "    </tr>\n",
       "  </tbody>\n",
       "</table>\n",
       "</div>"
      ],
      "text/plain": [
       "  ProductType Manufacturer Area Code Sourcing Channel Product Size  \\\n",
       "0        NTM3           X1       A28        WHOLESALE        Large   \n",
       "1        NTM2           X1        A9           DIRECT        Large   \n",
       "2        NTM3           X2       A20           DIRECT        Large   \n",
       "3        NTM3           X1       A18        WHOLESALE        Small   \n",
       "4        NTM2           X1       A28           DIRECT        Large   \n",
       "\n",
       "  Product Type Month of Sourcing  Sourcing Cost  Year  Month  Quantity  \n",
       "0       Powder        2021-05-01         10.158  2021      5        79  \n",
       "1       Powder        2020-10-01        134.281  2020     10       135  \n",
       "2       Powder        2020-12-01         12.456  2020     12       197  \n",
       "3       Powder        2021-02-01        107.220  2021      2       768  \n",
       "4       Liquid        2020-11-01        197.763  2020     11       271  "
      ]
     },
     "execution_count": 39,
     "metadata": {},
     "output_type": "execute_result"
    }
   ],
   "source": [
    "train_df_quantify.head()"
   ]
  },
  {
   "cell_type": "code",
   "execution_count": 40,
   "metadata": {},
   "outputs": [
    {
     "data": {
      "text/plain": [
       "550176"
      ]
     },
     "execution_count": 40,
     "metadata": {},
     "output_type": "execute_result"
    }
   ],
   "source": [
    "train_df_quantify['Quantity'].sum()"
   ]
  },
  {
   "cell_type": "markdown",
   "metadata": {},
   "source": [
    "Total Quantity is equal to the sum of the quantity of the different product combinations. ( as the dataset has single entry as one unit)"
   ]
  },
  {
   "cell_type": "code",
   "execution_count": 41,
   "metadata": {},
   "outputs": [
    {
     "data": {
      "text/plain": [
       "2020    545\n",
       "2021    476\n",
       "Name: Year, dtype: int64"
      ]
     },
     "execution_count": 41,
     "metadata": {},
     "output_type": "execute_result"
    }
   ],
   "source": [
    "train_df_quantify['Year'].value_counts()"
   ]
  },
  {
   "cell_type": "code",
   "execution_count": 42,
   "metadata": {},
   "outputs": [
    {
     "data": {
      "text/plain": [
       "5     96\n",
       "2     96\n",
       "11    95\n",
       "3     95\n",
       "1     95\n",
       "4     94\n",
       "12    93\n",
       "10    91\n",
       "9     90\n",
       "8     89\n",
       "7     87\n",
       "Name: Month, dtype: int64"
      ]
     },
     "execution_count": 42,
     "metadata": {},
     "output_type": "execute_result"
    }
   ],
   "source": [
    "train_df_quantify['Month'].value_counts()"
   ]
  },
  {
   "cell_type": "code",
   "execution_count": 43,
   "metadata": {},
   "outputs": [],
   "source": [
    "sorted_df = train_df_quantify[['Month', 'Year']].value_counts().reset_index(name='Count').sort_values(by=['Year', 'Month'])\n"
   ]
  },
  {
   "cell_type": "code",
   "execution_count": 44,
   "metadata": {},
   "outputs": [
    {
     "data": {
      "text/html": [
       "<div>\n",
       "<style scoped>\n",
       "    .dataframe tbody tr th:only-of-type {\n",
       "        vertical-align: middle;\n",
       "    }\n",
       "\n",
       "    .dataframe tbody tr th {\n",
       "        vertical-align: top;\n",
       "    }\n",
       "\n",
       "    .dataframe thead th {\n",
       "        text-align: right;\n",
       "    }\n",
       "</style>\n",
       "<table border=\"1\" class=\"dataframe\">\n",
       "  <thead>\n",
       "    <tr style=\"text-align: right;\">\n",
       "      <th></th>\n",
       "      <th>Month</th>\n",
       "      <th>Year</th>\n",
       "      <th>Count</th>\n",
       "    </tr>\n",
       "  </thead>\n",
       "  <tbody>\n",
       "    <tr>\n",
       "      <th>10</th>\n",
       "      <td>7</td>\n",
       "      <td>2020</td>\n",
       "      <td>87</td>\n",
       "    </tr>\n",
       "    <tr>\n",
       "      <th>9</th>\n",
       "      <td>8</td>\n",
       "      <td>2020</td>\n",
       "      <td>89</td>\n",
       "    </tr>\n",
       "    <tr>\n",
       "      <th>8</th>\n",
       "      <td>9</td>\n",
       "      <td>2020</td>\n",
       "      <td>90</td>\n",
       "    </tr>\n",
       "    <tr>\n",
       "      <th>7</th>\n",
       "      <td>10</td>\n",
       "      <td>2020</td>\n",
       "      <td>91</td>\n",
       "    </tr>\n",
       "    <tr>\n",
       "      <th>4</th>\n",
       "      <td>11</td>\n",
       "      <td>2020</td>\n",
       "      <td>95</td>\n",
       "    </tr>\n",
       "    <tr>\n",
       "      <th>6</th>\n",
       "      <td>12</td>\n",
       "      <td>2020</td>\n",
       "      <td>93</td>\n",
       "    </tr>\n",
       "    <tr>\n",
       "      <th>2</th>\n",
       "      <td>1</td>\n",
       "      <td>2021</td>\n",
       "      <td>95</td>\n",
       "    </tr>\n",
       "    <tr>\n",
       "      <th>0</th>\n",
       "      <td>2</td>\n",
       "      <td>2021</td>\n",
       "      <td>96</td>\n",
       "    </tr>\n",
       "    <tr>\n",
       "      <th>3</th>\n",
       "      <td>3</td>\n",
       "      <td>2021</td>\n",
       "      <td>95</td>\n",
       "    </tr>\n",
       "    <tr>\n",
       "      <th>5</th>\n",
       "      <td>4</td>\n",
       "      <td>2021</td>\n",
       "      <td>94</td>\n",
       "    </tr>\n",
       "    <tr>\n",
       "      <th>1</th>\n",
       "      <td>5</td>\n",
       "      <td>2021</td>\n",
       "      <td>96</td>\n",
       "    </tr>\n",
       "  </tbody>\n",
       "</table>\n",
       "</div>"
      ],
      "text/plain": [
       "    Month  Year  Count\n",
       "10      7  2020     87\n",
       "9       8  2020     89\n",
       "8       9  2020     90\n",
       "7      10  2020     91\n",
       "4      11  2020     95\n",
       "6      12  2020     93\n",
       "2       1  2021     95\n",
       "0       2  2021     96\n",
       "3       3  2021     95\n",
       "5       4  2021     94\n",
       "1       5  2021     96"
      ]
     },
     "execution_count": 44,
     "metadata": {},
     "output_type": "execute_result"
    }
   ],
   "source": [
    "sorted_df"
   ]
  },
  {
   "cell_type": "code",
   "execution_count": 45,
   "metadata": {},
   "outputs": [],
   "source": [
    "sorted_df_quantity = train_df_quantify.groupby(['Year', 'Month']).agg({'Quantity': 'sum'}).reset_index().sort_values(by=['Year', 'Month'])\n"
   ]
  },
  {
   "cell_type": "code",
   "execution_count": 46,
   "metadata": {},
   "outputs": [
    {
     "data": {
      "text/html": [
       "<div>\n",
       "<style scoped>\n",
       "    .dataframe tbody tr th:only-of-type {\n",
       "        vertical-align: middle;\n",
       "    }\n",
       "\n",
       "    .dataframe tbody tr th {\n",
       "        vertical-align: top;\n",
       "    }\n",
       "\n",
       "    .dataframe thead th {\n",
       "        text-align: right;\n",
       "    }\n",
       "</style>\n",
       "<table border=\"1\" class=\"dataframe\">\n",
       "  <thead>\n",
       "    <tr style=\"text-align: right;\">\n",
       "      <th></th>\n",
       "      <th>Year</th>\n",
       "      <th>Month</th>\n",
       "      <th>Quantity</th>\n",
       "    </tr>\n",
       "  </thead>\n",
       "  <tbody>\n",
       "    <tr>\n",
       "      <th>0</th>\n",
       "      <td>2020</td>\n",
       "      <td>7</td>\n",
       "      <td>42469</td>\n",
       "    </tr>\n",
       "    <tr>\n",
       "      <th>1</th>\n",
       "      <td>2020</td>\n",
       "      <td>8</td>\n",
       "      <td>40640</td>\n",
       "    </tr>\n",
       "    <tr>\n",
       "      <th>2</th>\n",
       "      <td>2020</td>\n",
       "      <td>9</td>\n",
       "      <td>43995</td>\n",
       "    </tr>\n",
       "    <tr>\n",
       "      <th>3</th>\n",
       "      <td>2020</td>\n",
       "      <td>10</td>\n",
       "      <td>46215</td>\n",
       "    </tr>\n",
       "    <tr>\n",
       "      <th>4</th>\n",
       "      <td>2020</td>\n",
       "      <td>11</td>\n",
       "      <td>60446</td>\n",
       "    </tr>\n",
       "    <tr>\n",
       "      <th>5</th>\n",
       "      <td>2020</td>\n",
       "      <td>12</td>\n",
       "      <td>52752</td>\n",
       "    </tr>\n",
       "    <tr>\n",
       "      <th>6</th>\n",
       "      <td>2021</td>\n",
       "      <td>1</td>\n",
       "      <td>50844</td>\n",
       "    </tr>\n",
       "    <tr>\n",
       "      <th>7</th>\n",
       "      <td>2021</td>\n",
       "      <td>2</td>\n",
       "      <td>50562</td>\n",
       "    </tr>\n",
       "    <tr>\n",
       "      <th>8</th>\n",
       "      <td>2021</td>\n",
       "      <td>3</td>\n",
       "      <td>56643</td>\n",
       "    </tr>\n",
       "    <tr>\n",
       "      <th>9</th>\n",
       "      <td>2021</td>\n",
       "      <td>4</td>\n",
       "      <td>52438</td>\n",
       "    </tr>\n",
       "    <tr>\n",
       "      <th>10</th>\n",
       "      <td>2021</td>\n",
       "      <td>5</td>\n",
       "      <td>53172</td>\n",
       "    </tr>\n",
       "  </tbody>\n",
       "</table>\n",
       "</div>"
      ],
      "text/plain": [
       "    Year  Month  Quantity\n",
       "0   2020      7     42469\n",
       "1   2020      8     40640\n",
       "2   2020      9     43995\n",
       "3   2020     10     46215\n",
       "4   2020     11     60446\n",
       "5   2020     12     52752\n",
       "6   2021      1     50844\n",
       "7   2021      2     50562\n",
       "8   2021      3     56643\n",
       "9   2021      4     52438\n",
       "10  2021      5     53172"
      ]
     },
     "execution_count": 46,
     "metadata": {},
     "output_type": "execute_result"
    }
   ],
   "source": [
    "sorted_df_quantity"
   ]
  },
  {
   "cell_type": "markdown",
   "metadata": {},
   "source": [
    "#### <a id='toc2_1_6_1_'></a>[Saving the Training Data to a CSV file](#toc0_)"
   ]
  },
  {
   "cell_type": "code",
   "execution_count": 47,
   "metadata": {},
   "outputs": [],
   "source": [
    "# train_df_quantify.to_csv('train_df_quantify.csv', index=False)"
   ]
  },
  {
   "cell_type": "code",
   "execution_count": 48,
   "metadata": {},
   "outputs": [
    {
     "name": "stdout",
     "output_type": "stream",
     "text": [
      "<class 'pandas.core.frame.DataFrame'>\n",
      "Int64Index: 96 entries, 0 to 139034\n",
      "Data columns (total 6 columns):\n",
      " #   Column            Non-Null Count  Dtype \n",
      "---  ------            --------------  ----- \n",
      " 0   ProductType       96 non-null     object\n",
      " 1   Manufacturer      96 non-null     object\n",
      " 2   Area Code         96 non-null     object\n",
      " 3   Sourcing Channel  96 non-null     object\n",
      " 4   Product Size      96 non-null     object\n",
      " 5   Product Type      96 non-null     object\n",
      "dtypes: object(6)\n",
      "memory usage: 5.2+ KB\n"
     ]
    }
   ],
   "source": [
    "unique_combinations.info()"
   ]
  },
  {
   "cell_type": "markdown",
   "metadata": {},
   "source": [
    "## <a id='toc2_2_'></a>[Test Data](#toc0_)"
   ]
  },
  {
   "cell_type": "code",
   "execution_count": 49,
   "metadata": {},
   "outputs": [
    {
     "name": "stdout",
     "output_type": "stream",
     "text": [
      "<class 'pandas.core.frame.DataFrame'>\n",
      "RangeIndex: 96 entries, 0 to 95\n",
      "Data columns (total 10 columns):\n",
      " #   Column             Non-Null Count  Dtype         \n",
      "---  ------             --------------  -----         \n",
      " 0   ProductType        96 non-null     object        \n",
      " 1   Manufacturer       96 non-null     object        \n",
      " 2   Area Code          96 non-null     object        \n",
      " 3   Sourcing Channel   96 non-null     object        \n",
      " 4   Product Size       96 non-null     object        \n",
      " 5   Product Type       96 non-null     object        \n",
      " 6   Month of Sourcing  96 non-null     datetime64[ns]\n",
      " 7   Sourcing Cost      96 non-null     float64       \n",
      " 8   Year               96 non-null     int64         \n",
      " 9   Month              96 non-null     int64         \n",
      "dtypes: datetime64[ns](1), float64(1), int64(2), object(6)\n",
      "memory usage: 7.6+ KB\n"
     ]
    }
   ],
   "source": [
    "test_df.info()"
   ]
  },
  {
   "cell_type": "markdown",
   "metadata": {},
   "source": [
    "### <a id='toc2_2_1_'></a>[Data Visualization on the Testing Data (categorical features)](#toc0_)"
   ]
  },
  {
   "cell_type": "code",
   "execution_count": 50,
   "metadata": {},
   "outputs": [
    {
     "data": {
      "application/vnd.plotly.v1+json": {
       "config": {
        "plotlyServerURL": "https://plot.ly"
       },
       "data": [
        {
         "alignmentgroup": "True",
         "hovertemplate": "Category=%{x}<br>Counts=%{text}<extra></extra>",
         "legendgroup": "",
         "marker": {
          "color": "#636efa",
          "pattern": {
           "shape": ""
          }
         },
         "name": "",
         "offsetgroup": "",
         "orientation": "v",
         "showlegend": false,
         "text": [
          42,
          35,
          19
         ],
         "textposition": "outside",
         "texttemplate": "%{text:.2s}",
         "type": "bar",
         "x": [
          "NTM2",
          "NTM1",
          "NTM3"
         ],
         "xaxis": "x",
         "y": [
          42,
          35,
          19
         ],
         "yaxis": "y"
        }
       ],
       "layout": {
        "barmode": "relative",
        "height": 600,
        "legend": {
         "tracegroupgap": 0
        },
        "template": {
         "data": {
          "bar": [
           {
            "error_x": {
             "color": "#2a3f5f"
            },
            "error_y": {
             "color": "#2a3f5f"
            },
            "marker": {
             "line": {
              "color": "#E5ECF6",
              "width": 0.5
             },
             "pattern": {
              "fillmode": "overlay",
              "size": 10,
              "solidity": 0.2
             }
            },
            "type": "bar"
           }
          ],
          "barpolar": [
           {
            "marker": {
             "line": {
              "color": "#E5ECF6",
              "width": 0.5
             },
             "pattern": {
              "fillmode": "overlay",
              "size": 10,
              "solidity": 0.2
             }
            },
            "type": "barpolar"
           }
          ],
          "carpet": [
           {
            "aaxis": {
             "endlinecolor": "#2a3f5f",
             "gridcolor": "white",
             "linecolor": "white",
             "minorgridcolor": "white",
             "startlinecolor": "#2a3f5f"
            },
            "baxis": {
             "endlinecolor": "#2a3f5f",
             "gridcolor": "white",
             "linecolor": "white",
             "minorgridcolor": "white",
             "startlinecolor": "#2a3f5f"
            },
            "type": "carpet"
           }
          ],
          "choropleth": [
           {
            "colorbar": {
             "outlinewidth": 0,
             "ticks": ""
            },
            "type": "choropleth"
           }
          ],
          "contour": [
           {
            "colorbar": {
             "outlinewidth": 0,
             "ticks": ""
            },
            "colorscale": [
             [
              0,
              "#0d0887"
             ],
             [
              0.1111111111111111,
              "#46039f"
             ],
             [
              0.2222222222222222,
              "#7201a8"
             ],
             [
              0.3333333333333333,
              "#9c179e"
             ],
             [
              0.4444444444444444,
              "#bd3786"
             ],
             [
              0.5555555555555556,
              "#d8576b"
             ],
             [
              0.6666666666666666,
              "#ed7953"
             ],
             [
              0.7777777777777778,
              "#fb9f3a"
             ],
             [
              0.8888888888888888,
              "#fdca26"
             ],
             [
              1,
              "#f0f921"
             ]
            ],
            "type": "contour"
           }
          ],
          "contourcarpet": [
           {
            "colorbar": {
             "outlinewidth": 0,
             "ticks": ""
            },
            "type": "contourcarpet"
           }
          ],
          "heatmap": [
           {
            "colorbar": {
             "outlinewidth": 0,
             "ticks": ""
            },
            "colorscale": [
             [
              0,
              "#0d0887"
             ],
             [
              0.1111111111111111,
              "#46039f"
             ],
             [
              0.2222222222222222,
              "#7201a8"
             ],
             [
              0.3333333333333333,
              "#9c179e"
             ],
             [
              0.4444444444444444,
              "#bd3786"
             ],
             [
              0.5555555555555556,
              "#d8576b"
             ],
             [
              0.6666666666666666,
              "#ed7953"
             ],
             [
              0.7777777777777778,
              "#fb9f3a"
             ],
             [
              0.8888888888888888,
              "#fdca26"
             ],
             [
              1,
              "#f0f921"
             ]
            ],
            "type": "heatmap"
           }
          ],
          "heatmapgl": [
           {
            "colorbar": {
             "outlinewidth": 0,
             "ticks": ""
            },
            "colorscale": [
             [
              0,
              "#0d0887"
             ],
             [
              0.1111111111111111,
              "#46039f"
             ],
             [
              0.2222222222222222,
              "#7201a8"
             ],
             [
              0.3333333333333333,
              "#9c179e"
             ],
             [
              0.4444444444444444,
              "#bd3786"
             ],
             [
              0.5555555555555556,
              "#d8576b"
             ],
             [
              0.6666666666666666,
              "#ed7953"
             ],
             [
              0.7777777777777778,
              "#fb9f3a"
             ],
             [
              0.8888888888888888,
              "#fdca26"
             ],
             [
              1,
              "#f0f921"
             ]
            ],
            "type": "heatmapgl"
           }
          ],
          "histogram": [
           {
            "marker": {
             "pattern": {
              "fillmode": "overlay",
              "size": 10,
              "solidity": 0.2
             }
            },
            "type": "histogram"
           }
          ],
          "histogram2d": [
           {
            "colorbar": {
             "outlinewidth": 0,
             "ticks": ""
            },
            "colorscale": [
             [
              0,
              "#0d0887"
             ],
             [
              0.1111111111111111,
              "#46039f"
             ],
             [
              0.2222222222222222,
              "#7201a8"
             ],
             [
              0.3333333333333333,
              "#9c179e"
             ],
             [
              0.4444444444444444,
              "#bd3786"
             ],
             [
              0.5555555555555556,
              "#d8576b"
             ],
             [
              0.6666666666666666,
              "#ed7953"
             ],
             [
              0.7777777777777778,
              "#fb9f3a"
             ],
             [
              0.8888888888888888,
              "#fdca26"
             ],
             [
              1,
              "#f0f921"
             ]
            ],
            "type": "histogram2d"
           }
          ],
          "histogram2dcontour": [
           {
            "colorbar": {
             "outlinewidth": 0,
             "ticks": ""
            },
            "colorscale": [
             [
              0,
              "#0d0887"
             ],
             [
              0.1111111111111111,
              "#46039f"
             ],
             [
              0.2222222222222222,
              "#7201a8"
             ],
             [
              0.3333333333333333,
              "#9c179e"
             ],
             [
              0.4444444444444444,
              "#bd3786"
             ],
             [
              0.5555555555555556,
              "#d8576b"
             ],
             [
              0.6666666666666666,
              "#ed7953"
             ],
             [
              0.7777777777777778,
              "#fb9f3a"
             ],
             [
              0.8888888888888888,
              "#fdca26"
             ],
             [
              1,
              "#f0f921"
             ]
            ],
            "type": "histogram2dcontour"
           }
          ],
          "mesh3d": [
           {
            "colorbar": {
             "outlinewidth": 0,
             "ticks": ""
            },
            "type": "mesh3d"
           }
          ],
          "parcoords": [
           {
            "line": {
             "colorbar": {
              "outlinewidth": 0,
              "ticks": ""
             }
            },
            "type": "parcoords"
           }
          ],
          "pie": [
           {
            "automargin": true,
            "type": "pie"
           }
          ],
          "scatter": [
           {
            "fillpattern": {
             "fillmode": "overlay",
             "size": 10,
             "solidity": 0.2
            },
            "type": "scatter"
           }
          ],
          "scatter3d": [
           {
            "line": {
             "colorbar": {
              "outlinewidth": 0,
              "ticks": ""
             }
            },
            "marker": {
             "colorbar": {
              "outlinewidth": 0,
              "ticks": ""
             }
            },
            "type": "scatter3d"
           }
          ],
          "scattercarpet": [
           {
            "marker": {
             "colorbar": {
              "outlinewidth": 0,
              "ticks": ""
             }
            },
            "type": "scattercarpet"
           }
          ],
          "scattergeo": [
           {
            "marker": {
             "colorbar": {
              "outlinewidth": 0,
              "ticks": ""
             }
            },
            "type": "scattergeo"
           }
          ],
          "scattergl": [
           {
            "marker": {
             "colorbar": {
              "outlinewidth": 0,
              "ticks": ""
             }
            },
            "type": "scattergl"
           }
          ],
          "scattermapbox": [
           {
            "marker": {
             "colorbar": {
              "outlinewidth": 0,
              "ticks": ""
             }
            },
            "type": "scattermapbox"
           }
          ],
          "scatterpolar": [
           {
            "marker": {
             "colorbar": {
              "outlinewidth": 0,
              "ticks": ""
             }
            },
            "type": "scatterpolar"
           }
          ],
          "scatterpolargl": [
           {
            "marker": {
             "colorbar": {
              "outlinewidth": 0,
              "ticks": ""
             }
            },
            "type": "scatterpolargl"
           }
          ],
          "scatterternary": [
           {
            "marker": {
             "colorbar": {
              "outlinewidth": 0,
              "ticks": ""
             }
            },
            "type": "scatterternary"
           }
          ],
          "surface": [
           {
            "colorbar": {
             "outlinewidth": 0,
             "ticks": ""
            },
            "colorscale": [
             [
              0,
              "#0d0887"
             ],
             [
              0.1111111111111111,
              "#46039f"
             ],
             [
              0.2222222222222222,
              "#7201a8"
             ],
             [
              0.3333333333333333,
              "#9c179e"
             ],
             [
              0.4444444444444444,
              "#bd3786"
             ],
             [
              0.5555555555555556,
              "#d8576b"
             ],
             [
              0.6666666666666666,
              "#ed7953"
             ],
             [
              0.7777777777777778,
              "#fb9f3a"
             ],
             [
              0.8888888888888888,
              "#fdca26"
             ],
             [
              1,
              "#f0f921"
             ]
            ],
            "type": "surface"
           }
          ],
          "table": [
           {
            "cells": {
             "fill": {
              "color": "#EBF0F8"
             },
             "line": {
              "color": "white"
             }
            },
            "header": {
             "fill": {
              "color": "#C8D4E3"
             },
             "line": {
              "color": "white"
             }
            },
            "type": "table"
           }
          ]
         },
         "layout": {
          "annotationdefaults": {
           "arrowcolor": "#2a3f5f",
           "arrowhead": 0,
           "arrowwidth": 1
          },
          "autotypenumbers": "strict",
          "coloraxis": {
           "colorbar": {
            "outlinewidth": 0,
            "ticks": ""
           }
          },
          "colorscale": {
           "diverging": [
            [
             0,
             "#8e0152"
            ],
            [
             0.1,
             "#c51b7d"
            ],
            [
             0.2,
             "#de77ae"
            ],
            [
             0.3,
             "#f1b6da"
            ],
            [
             0.4,
             "#fde0ef"
            ],
            [
             0.5,
             "#f7f7f7"
            ],
            [
             0.6,
             "#e6f5d0"
            ],
            [
             0.7,
             "#b8e186"
            ],
            [
             0.8,
             "#7fbc41"
            ],
            [
             0.9,
             "#4d9221"
            ],
            [
             1,
             "#276419"
            ]
           ],
           "sequential": [
            [
             0,
             "#0d0887"
            ],
            [
             0.1111111111111111,
             "#46039f"
            ],
            [
             0.2222222222222222,
             "#7201a8"
            ],
            [
             0.3333333333333333,
             "#9c179e"
            ],
            [
             0.4444444444444444,
             "#bd3786"
            ],
            [
             0.5555555555555556,
             "#d8576b"
            ],
            [
             0.6666666666666666,
             "#ed7953"
            ],
            [
             0.7777777777777778,
             "#fb9f3a"
            ],
            [
             0.8888888888888888,
             "#fdca26"
            ],
            [
             1,
             "#f0f921"
            ]
           ],
           "sequentialminus": [
            [
             0,
             "#0d0887"
            ],
            [
             0.1111111111111111,
             "#46039f"
            ],
            [
             0.2222222222222222,
             "#7201a8"
            ],
            [
             0.3333333333333333,
             "#9c179e"
            ],
            [
             0.4444444444444444,
             "#bd3786"
            ],
            [
             0.5555555555555556,
             "#d8576b"
            ],
            [
             0.6666666666666666,
             "#ed7953"
            ],
            [
             0.7777777777777778,
             "#fb9f3a"
            ],
            [
             0.8888888888888888,
             "#fdca26"
            ],
            [
             1,
             "#f0f921"
            ]
           ]
          },
          "colorway": [
           "#636efa",
           "#EF553B",
           "#00cc96",
           "#ab63fa",
           "#FFA15A",
           "#19d3f3",
           "#FF6692",
           "#B6E880",
           "#FF97FF",
           "#FECB52"
          ],
          "font": {
           "color": "#2a3f5f"
          },
          "geo": {
           "bgcolor": "white",
           "lakecolor": "white",
           "landcolor": "#E5ECF6",
           "showlakes": true,
           "showland": true,
           "subunitcolor": "white"
          },
          "hoverlabel": {
           "align": "left"
          },
          "hovermode": "closest",
          "mapbox": {
           "style": "light"
          },
          "paper_bgcolor": "white",
          "plot_bgcolor": "#E5ECF6",
          "polar": {
           "angularaxis": {
            "gridcolor": "white",
            "linecolor": "white",
            "ticks": ""
           },
           "bgcolor": "#E5ECF6",
           "radialaxis": {
            "gridcolor": "white",
            "linecolor": "white",
            "ticks": ""
           }
          },
          "scene": {
           "xaxis": {
            "backgroundcolor": "#E5ECF6",
            "gridcolor": "white",
            "gridwidth": 2,
            "linecolor": "white",
            "showbackground": true,
            "ticks": "",
            "zerolinecolor": "white"
           },
           "yaxis": {
            "backgroundcolor": "#E5ECF6",
            "gridcolor": "white",
            "gridwidth": 2,
            "linecolor": "white",
            "showbackground": true,
            "ticks": "",
            "zerolinecolor": "white"
           },
           "zaxis": {
            "backgroundcolor": "#E5ECF6",
            "gridcolor": "white",
            "gridwidth": 2,
            "linecolor": "white",
            "showbackground": true,
            "ticks": "",
            "zerolinecolor": "white"
           }
          },
          "shapedefaults": {
           "line": {
            "color": "#2a3f5f"
           }
          },
          "ternary": {
           "aaxis": {
            "gridcolor": "white",
            "linecolor": "white",
            "ticks": ""
           },
           "baxis": {
            "gridcolor": "white",
            "linecolor": "white",
            "ticks": ""
           },
           "bgcolor": "#E5ECF6",
           "caxis": {
            "gridcolor": "white",
            "linecolor": "white",
            "ticks": ""
           }
          },
          "title": {
           "x": 0.05
          },
          "xaxis": {
           "automargin": true,
           "gridcolor": "white",
           "linecolor": "white",
           "ticks": "",
           "title": {
            "standoff": 15
           },
           "zerolinecolor": "white",
           "zerolinewidth": 2
          },
          "yaxis": {
           "automargin": true,
           "gridcolor": "white",
           "linecolor": "white",
           "ticks": "",
           "title": {
            "standoff": 15
           },
           "zerolinecolor": "white",
           "zerolinewidth": 2
          }
         }
        },
        "title": {
         "text": "Value Counts for ProductType",
         "x": 0.5,
         "xanchor": "center",
         "y": 0.9,
         "yanchor": "top"
        },
        "width": 1000,
        "xaxis": {
         "anchor": "y",
         "domain": [
          0,
          1
         ],
         "tickangle": -45,
         "title": {
          "text": "ProductType"
         }
        },
        "yaxis": {
         "anchor": "x",
         "domain": [
          0,
          1
         ],
         "title": {
          "text": "Counts"
         }
        }
       }
      },
      "text/html": [
       "<div>                            <div id=\"80a0c5cf-b2c3-483a-b01d-7b8bc0898b03\" class=\"plotly-graph-div\" style=\"height:600px; width:1000px;\"></div>            <script type=\"text/javascript\">                require([\"plotly\"], function(Plotly) {                    window.PLOTLYENV=window.PLOTLYENV || {};                                    if (document.getElementById(\"80a0c5cf-b2c3-483a-b01d-7b8bc0898b03\")) {                    Plotly.newPlot(                        \"80a0c5cf-b2c3-483a-b01d-7b8bc0898b03\",                        [{\"alignmentgroup\":\"True\",\"hovertemplate\":\"Category=%{x}\\u003cbr\\u003eCounts=%{text}\\u003cextra\\u003e\\u003c\\u002fextra\\u003e\",\"legendgroup\":\"\",\"marker\":{\"color\":\"#636efa\",\"pattern\":{\"shape\":\"\"}},\"name\":\"\",\"offsetgroup\":\"\",\"orientation\":\"v\",\"showlegend\":false,\"text\":[42.0,35.0,19.0],\"textposition\":\"outside\",\"x\":[\"NTM2\",\"NTM1\",\"NTM3\"],\"xaxis\":\"x\",\"y\":[42,35,19],\"yaxis\":\"y\",\"type\":\"bar\",\"texttemplate\":\"%{text:.2s}\"}],                        {\"template\":{\"data\":{\"histogram2dcontour\":[{\"type\":\"histogram2dcontour\",\"colorbar\":{\"outlinewidth\":0,\"ticks\":\"\"},\"colorscale\":[[0.0,\"#0d0887\"],[0.1111111111111111,\"#46039f\"],[0.2222222222222222,\"#7201a8\"],[0.3333333333333333,\"#9c179e\"],[0.4444444444444444,\"#bd3786\"],[0.5555555555555556,\"#d8576b\"],[0.6666666666666666,\"#ed7953\"],[0.7777777777777778,\"#fb9f3a\"],[0.8888888888888888,\"#fdca26\"],[1.0,\"#f0f921\"]]}],\"choropleth\":[{\"type\":\"choropleth\",\"colorbar\":{\"outlinewidth\":0,\"ticks\":\"\"}}],\"histogram2d\":[{\"type\":\"histogram2d\",\"colorbar\":{\"outlinewidth\":0,\"ticks\":\"\"},\"colorscale\":[[0.0,\"#0d0887\"],[0.1111111111111111,\"#46039f\"],[0.2222222222222222,\"#7201a8\"],[0.3333333333333333,\"#9c179e\"],[0.4444444444444444,\"#bd3786\"],[0.5555555555555556,\"#d8576b\"],[0.6666666666666666,\"#ed7953\"],[0.7777777777777778,\"#fb9f3a\"],[0.8888888888888888,\"#fdca26\"],[1.0,\"#f0f921\"]]}],\"heatmap\":[{\"type\":\"heatmap\",\"colorbar\":{\"outlinewidth\":0,\"ticks\":\"\"},\"colorscale\":[[0.0,\"#0d0887\"],[0.1111111111111111,\"#46039f\"],[0.2222222222222222,\"#7201a8\"],[0.3333333333333333,\"#9c179e\"],[0.4444444444444444,\"#bd3786\"],[0.5555555555555556,\"#d8576b\"],[0.6666666666666666,\"#ed7953\"],[0.7777777777777778,\"#fb9f3a\"],[0.8888888888888888,\"#fdca26\"],[1.0,\"#f0f921\"]]}],\"heatmapgl\":[{\"type\":\"heatmapgl\",\"colorbar\":{\"outlinewidth\":0,\"ticks\":\"\"},\"colorscale\":[[0.0,\"#0d0887\"],[0.1111111111111111,\"#46039f\"],[0.2222222222222222,\"#7201a8\"],[0.3333333333333333,\"#9c179e\"],[0.4444444444444444,\"#bd3786\"],[0.5555555555555556,\"#d8576b\"],[0.6666666666666666,\"#ed7953\"],[0.7777777777777778,\"#fb9f3a\"],[0.8888888888888888,\"#fdca26\"],[1.0,\"#f0f921\"]]}],\"contourcarpet\":[{\"type\":\"contourcarpet\",\"colorbar\":{\"outlinewidth\":0,\"ticks\":\"\"}}],\"contour\":[{\"type\":\"contour\",\"colorbar\":{\"outlinewidth\":0,\"ticks\":\"\"},\"colorscale\":[[0.0,\"#0d0887\"],[0.1111111111111111,\"#46039f\"],[0.2222222222222222,\"#7201a8\"],[0.3333333333333333,\"#9c179e\"],[0.4444444444444444,\"#bd3786\"],[0.5555555555555556,\"#d8576b\"],[0.6666666666666666,\"#ed7953\"],[0.7777777777777778,\"#fb9f3a\"],[0.8888888888888888,\"#fdca26\"],[1.0,\"#f0f921\"]]}],\"surface\":[{\"type\":\"surface\",\"colorbar\":{\"outlinewidth\":0,\"ticks\":\"\"},\"colorscale\":[[0.0,\"#0d0887\"],[0.1111111111111111,\"#46039f\"],[0.2222222222222222,\"#7201a8\"],[0.3333333333333333,\"#9c179e\"],[0.4444444444444444,\"#bd3786\"],[0.5555555555555556,\"#d8576b\"],[0.6666666666666666,\"#ed7953\"],[0.7777777777777778,\"#fb9f3a\"],[0.8888888888888888,\"#fdca26\"],[1.0,\"#f0f921\"]]}],\"mesh3d\":[{\"type\":\"mesh3d\",\"colorbar\":{\"outlinewidth\":0,\"ticks\":\"\"}}],\"scatter\":[{\"fillpattern\":{\"fillmode\":\"overlay\",\"size\":10,\"solidity\":0.2},\"type\":\"scatter\"}],\"parcoords\":[{\"type\":\"parcoords\",\"line\":{\"colorbar\":{\"outlinewidth\":0,\"ticks\":\"\"}}}],\"scatterpolargl\":[{\"type\":\"scatterpolargl\",\"marker\":{\"colorbar\":{\"outlinewidth\":0,\"ticks\":\"\"}}}],\"bar\":[{\"error_x\":{\"color\":\"#2a3f5f\"},\"error_y\":{\"color\":\"#2a3f5f\"},\"marker\":{\"line\":{\"color\":\"#E5ECF6\",\"width\":0.5},\"pattern\":{\"fillmode\":\"overlay\",\"size\":10,\"solidity\":0.2}},\"type\":\"bar\"}],\"scattergeo\":[{\"type\":\"scattergeo\",\"marker\":{\"colorbar\":{\"outlinewidth\":0,\"ticks\":\"\"}}}],\"scatterpolar\":[{\"type\":\"scatterpolar\",\"marker\":{\"colorbar\":{\"outlinewidth\":0,\"ticks\":\"\"}}}],\"histogram\":[{\"marker\":{\"pattern\":{\"fillmode\":\"overlay\",\"size\":10,\"solidity\":0.2}},\"type\":\"histogram\"}],\"scattergl\":[{\"type\":\"scattergl\",\"marker\":{\"colorbar\":{\"outlinewidth\":0,\"ticks\":\"\"}}}],\"scatter3d\":[{\"type\":\"scatter3d\",\"line\":{\"colorbar\":{\"outlinewidth\":0,\"ticks\":\"\"}},\"marker\":{\"colorbar\":{\"outlinewidth\":0,\"ticks\":\"\"}}}],\"scattermapbox\":[{\"type\":\"scattermapbox\",\"marker\":{\"colorbar\":{\"outlinewidth\":0,\"ticks\":\"\"}}}],\"scatterternary\":[{\"type\":\"scatterternary\",\"marker\":{\"colorbar\":{\"outlinewidth\":0,\"ticks\":\"\"}}}],\"scattercarpet\":[{\"type\":\"scattercarpet\",\"marker\":{\"colorbar\":{\"outlinewidth\":0,\"ticks\":\"\"}}}],\"carpet\":[{\"aaxis\":{\"endlinecolor\":\"#2a3f5f\",\"gridcolor\":\"white\",\"linecolor\":\"white\",\"minorgridcolor\":\"white\",\"startlinecolor\":\"#2a3f5f\"},\"baxis\":{\"endlinecolor\":\"#2a3f5f\",\"gridcolor\":\"white\",\"linecolor\":\"white\",\"minorgridcolor\":\"white\",\"startlinecolor\":\"#2a3f5f\"},\"type\":\"carpet\"}],\"table\":[{\"cells\":{\"fill\":{\"color\":\"#EBF0F8\"},\"line\":{\"color\":\"white\"}},\"header\":{\"fill\":{\"color\":\"#C8D4E3\"},\"line\":{\"color\":\"white\"}},\"type\":\"table\"}],\"barpolar\":[{\"marker\":{\"line\":{\"color\":\"#E5ECF6\",\"width\":0.5},\"pattern\":{\"fillmode\":\"overlay\",\"size\":10,\"solidity\":0.2}},\"type\":\"barpolar\"}],\"pie\":[{\"automargin\":true,\"type\":\"pie\"}]},\"layout\":{\"autotypenumbers\":\"strict\",\"colorway\":[\"#636efa\",\"#EF553B\",\"#00cc96\",\"#ab63fa\",\"#FFA15A\",\"#19d3f3\",\"#FF6692\",\"#B6E880\",\"#FF97FF\",\"#FECB52\"],\"font\":{\"color\":\"#2a3f5f\"},\"hovermode\":\"closest\",\"hoverlabel\":{\"align\":\"left\"},\"paper_bgcolor\":\"white\",\"plot_bgcolor\":\"#E5ECF6\",\"polar\":{\"bgcolor\":\"#E5ECF6\",\"angularaxis\":{\"gridcolor\":\"white\",\"linecolor\":\"white\",\"ticks\":\"\"},\"radialaxis\":{\"gridcolor\":\"white\",\"linecolor\":\"white\",\"ticks\":\"\"}},\"ternary\":{\"bgcolor\":\"#E5ECF6\",\"aaxis\":{\"gridcolor\":\"white\",\"linecolor\":\"white\",\"ticks\":\"\"},\"baxis\":{\"gridcolor\":\"white\",\"linecolor\":\"white\",\"ticks\":\"\"},\"caxis\":{\"gridcolor\":\"white\",\"linecolor\":\"white\",\"ticks\":\"\"}},\"coloraxis\":{\"colorbar\":{\"outlinewidth\":0,\"ticks\":\"\"}},\"colorscale\":{\"sequential\":[[0.0,\"#0d0887\"],[0.1111111111111111,\"#46039f\"],[0.2222222222222222,\"#7201a8\"],[0.3333333333333333,\"#9c179e\"],[0.4444444444444444,\"#bd3786\"],[0.5555555555555556,\"#d8576b\"],[0.6666666666666666,\"#ed7953\"],[0.7777777777777778,\"#fb9f3a\"],[0.8888888888888888,\"#fdca26\"],[1.0,\"#f0f921\"]],\"sequentialminus\":[[0.0,\"#0d0887\"],[0.1111111111111111,\"#46039f\"],[0.2222222222222222,\"#7201a8\"],[0.3333333333333333,\"#9c179e\"],[0.4444444444444444,\"#bd3786\"],[0.5555555555555556,\"#d8576b\"],[0.6666666666666666,\"#ed7953\"],[0.7777777777777778,\"#fb9f3a\"],[0.8888888888888888,\"#fdca26\"],[1.0,\"#f0f921\"]],\"diverging\":[[0,\"#8e0152\"],[0.1,\"#c51b7d\"],[0.2,\"#de77ae\"],[0.3,\"#f1b6da\"],[0.4,\"#fde0ef\"],[0.5,\"#f7f7f7\"],[0.6,\"#e6f5d0\"],[0.7,\"#b8e186\"],[0.8,\"#7fbc41\"],[0.9,\"#4d9221\"],[1,\"#276419\"]]},\"xaxis\":{\"gridcolor\":\"white\",\"linecolor\":\"white\",\"ticks\":\"\",\"title\":{\"standoff\":15},\"zerolinecolor\":\"white\",\"automargin\":true,\"zerolinewidth\":2},\"yaxis\":{\"gridcolor\":\"white\",\"linecolor\":\"white\",\"ticks\":\"\",\"title\":{\"standoff\":15},\"zerolinecolor\":\"white\",\"automargin\":true,\"zerolinewidth\":2},\"scene\":{\"xaxis\":{\"backgroundcolor\":\"#E5ECF6\",\"gridcolor\":\"white\",\"linecolor\":\"white\",\"showbackground\":true,\"ticks\":\"\",\"zerolinecolor\":\"white\",\"gridwidth\":2},\"yaxis\":{\"backgroundcolor\":\"#E5ECF6\",\"gridcolor\":\"white\",\"linecolor\":\"white\",\"showbackground\":true,\"ticks\":\"\",\"zerolinecolor\":\"white\",\"gridwidth\":2},\"zaxis\":{\"backgroundcolor\":\"#E5ECF6\",\"gridcolor\":\"white\",\"linecolor\":\"white\",\"showbackground\":true,\"ticks\":\"\",\"zerolinecolor\":\"white\",\"gridwidth\":2}},\"shapedefaults\":{\"line\":{\"color\":\"#2a3f5f\"}},\"annotationdefaults\":{\"arrowcolor\":\"#2a3f5f\",\"arrowhead\":0,\"arrowwidth\":1},\"geo\":{\"bgcolor\":\"white\",\"landcolor\":\"#E5ECF6\",\"subunitcolor\":\"white\",\"showland\":true,\"showlakes\":true,\"lakecolor\":\"white\"},\"title\":{\"x\":0.05},\"mapbox\":{\"style\":\"light\"}}},\"xaxis\":{\"anchor\":\"y\",\"domain\":[0.0,1.0],\"title\":{\"text\":\"ProductType\"},\"tickangle\":-45},\"yaxis\":{\"anchor\":\"x\",\"domain\":[0.0,1.0],\"title\":{\"text\":\"Counts\"}},\"legend\":{\"tracegroupgap\":0},\"title\":{\"text\":\"Value Counts for ProductType\",\"y\":0.9,\"x\":0.5,\"xanchor\":\"center\",\"yanchor\":\"top\"},\"barmode\":\"relative\",\"height\":600,\"width\":1000},                        {\"responsive\": true}                    ).then(function(){\n",
       "                            \n",
       "var gd = document.getElementById('80a0c5cf-b2c3-483a-b01d-7b8bc0898b03');\n",
       "var x = new MutationObserver(function (mutations, observer) {{\n",
       "        var display = window.getComputedStyle(gd).display;\n",
       "        if (!display || display === 'none') {{\n",
       "            console.log([gd, 'removed!']);\n",
       "            Plotly.purge(gd);\n",
       "            observer.disconnect();\n",
       "        }}\n",
       "}});\n",
       "\n",
       "// Listen for the removal of the full notebook cells\n",
       "var notebookContainer = gd.closest('#notebook-container');\n",
       "if (notebookContainer) {{\n",
       "    x.observe(notebookContainer, {childList: true});\n",
       "}}\n",
       "\n",
       "// Listen for the clearing of the current output cell\n",
       "var outputEl = gd.closest('.output');\n",
       "if (outputEl) {{\n",
       "    x.observe(outputEl, {childList: true});\n",
       "}}\n",
       "\n",
       "                        })                };                });            </script>        </div>"
      ]
     },
     "metadata": {},
     "output_type": "display_data"
    },
    {
     "data": {
      "application/vnd.plotly.v1+json": {
       "config": {
        "plotlyServerURL": "https://plot.ly"
       },
       "data": [
        {
         "alignmentgroup": "True",
         "hovertemplate": "Category=%{x}<br>Counts=%{text}<extra></extra>",
         "legendgroup": "",
         "marker": {
          "color": "#636efa",
          "pattern": {
           "shape": ""
          }
         },
         "name": "",
         "offsetgroup": "",
         "orientation": "v",
         "showlegend": false,
         "text": [
          76,
          19,
          1
         ],
         "textposition": "outside",
         "texttemplate": "%{text:.2s}",
         "type": "bar",
         "x": [
          "X1",
          "X2",
          "X3"
         ],
         "xaxis": "x",
         "y": [
          76,
          19,
          1
         ],
         "yaxis": "y"
        }
       ],
       "layout": {
        "barmode": "relative",
        "height": 600,
        "legend": {
         "tracegroupgap": 0
        },
        "template": {
         "data": {
          "bar": [
           {
            "error_x": {
             "color": "#2a3f5f"
            },
            "error_y": {
             "color": "#2a3f5f"
            },
            "marker": {
             "line": {
              "color": "#E5ECF6",
              "width": 0.5
             },
             "pattern": {
              "fillmode": "overlay",
              "size": 10,
              "solidity": 0.2
             }
            },
            "type": "bar"
           }
          ],
          "barpolar": [
           {
            "marker": {
             "line": {
              "color": "#E5ECF6",
              "width": 0.5
             },
             "pattern": {
              "fillmode": "overlay",
              "size": 10,
              "solidity": 0.2
             }
            },
            "type": "barpolar"
           }
          ],
          "carpet": [
           {
            "aaxis": {
             "endlinecolor": "#2a3f5f",
             "gridcolor": "white",
             "linecolor": "white",
             "minorgridcolor": "white",
             "startlinecolor": "#2a3f5f"
            },
            "baxis": {
             "endlinecolor": "#2a3f5f",
             "gridcolor": "white",
             "linecolor": "white",
             "minorgridcolor": "white",
             "startlinecolor": "#2a3f5f"
            },
            "type": "carpet"
           }
          ],
          "choropleth": [
           {
            "colorbar": {
             "outlinewidth": 0,
             "ticks": ""
            },
            "type": "choropleth"
           }
          ],
          "contour": [
           {
            "colorbar": {
             "outlinewidth": 0,
             "ticks": ""
            },
            "colorscale": [
             [
              0,
              "#0d0887"
             ],
             [
              0.1111111111111111,
              "#46039f"
             ],
             [
              0.2222222222222222,
              "#7201a8"
             ],
             [
              0.3333333333333333,
              "#9c179e"
             ],
             [
              0.4444444444444444,
              "#bd3786"
             ],
             [
              0.5555555555555556,
              "#d8576b"
             ],
             [
              0.6666666666666666,
              "#ed7953"
             ],
             [
              0.7777777777777778,
              "#fb9f3a"
             ],
             [
              0.8888888888888888,
              "#fdca26"
             ],
             [
              1,
              "#f0f921"
             ]
            ],
            "type": "contour"
           }
          ],
          "contourcarpet": [
           {
            "colorbar": {
             "outlinewidth": 0,
             "ticks": ""
            },
            "type": "contourcarpet"
           }
          ],
          "heatmap": [
           {
            "colorbar": {
             "outlinewidth": 0,
             "ticks": ""
            },
            "colorscale": [
             [
              0,
              "#0d0887"
             ],
             [
              0.1111111111111111,
              "#46039f"
             ],
             [
              0.2222222222222222,
              "#7201a8"
             ],
             [
              0.3333333333333333,
              "#9c179e"
             ],
             [
              0.4444444444444444,
              "#bd3786"
             ],
             [
              0.5555555555555556,
              "#d8576b"
             ],
             [
              0.6666666666666666,
              "#ed7953"
             ],
             [
              0.7777777777777778,
              "#fb9f3a"
             ],
             [
              0.8888888888888888,
              "#fdca26"
             ],
             [
              1,
              "#f0f921"
             ]
            ],
            "type": "heatmap"
           }
          ],
          "heatmapgl": [
           {
            "colorbar": {
             "outlinewidth": 0,
             "ticks": ""
            },
            "colorscale": [
             [
              0,
              "#0d0887"
             ],
             [
              0.1111111111111111,
              "#46039f"
             ],
             [
              0.2222222222222222,
              "#7201a8"
             ],
             [
              0.3333333333333333,
              "#9c179e"
             ],
             [
              0.4444444444444444,
              "#bd3786"
             ],
             [
              0.5555555555555556,
              "#d8576b"
             ],
             [
              0.6666666666666666,
              "#ed7953"
             ],
             [
              0.7777777777777778,
              "#fb9f3a"
             ],
             [
              0.8888888888888888,
              "#fdca26"
             ],
             [
              1,
              "#f0f921"
             ]
            ],
            "type": "heatmapgl"
           }
          ],
          "histogram": [
           {
            "marker": {
             "pattern": {
              "fillmode": "overlay",
              "size": 10,
              "solidity": 0.2
             }
            },
            "type": "histogram"
           }
          ],
          "histogram2d": [
           {
            "colorbar": {
             "outlinewidth": 0,
             "ticks": ""
            },
            "colorscale": [
             [
              0,
              "#0d0887"
             ],
             [
              0.1111111111111111,
              "#46039f"
             ],
             [
              0.2222222222222222,
              "#7201a8"
             ],
             [
              0.3333333333333333,
              "#9c179e"
             ],
             [
              0.4444444444444444,
              "#bd3786"
             ],
             [
              0.5555555555555556,
              "#d8576b"
             ],
             [
              0.6666666666666666,
              "#ed7953"
             ],
             [
              0.7777777777777778,
              "#fb9f3a"
             ],
             [
              0.8888888888888888,
              "#fdca26"
             ],
             [
              1,
              "#f0f921"
             ]
            ],
            "type": "histogram2d"
           }
          ],
          "histogram2dcontour": [
           {
            "colorbar": {
             "outlinewidth": 0,
             "ticks": ""
            },
            "colorscale": [
             [
              0,
              "#0d0887"
             ],
             [
              0.1111111111111111,
              "#46039f"
             ],
             [
              0.2222222222222222,
              "#7201a8"
             ],
             [
              0.3333333333333333,
              "#9c179e"
             ],
             [
              0.4444444444444444,
              "#bd3786"
             ],
             [
              0.5555555555555556,
              "#d8576b"
             ],
             [
              0.6666666666666666,
              "#ed7953"
             ],
             [
              0.7777777777777778,
              "#fb9f3a"
             ],
             [
              0.8888888888888888,
              "#fdca26"
             ],
             [
              1,
              "#f0f921"
             ]
            ],
            "type": "histogram2dcontour"
           }
          ],
          "mesh3d": [
           {
            "colorbar": {
             "outlinewidth": 0,
             "ticks": ""
            },
            "type": "mesh3d"
           }
          ],
          "parcoords": [
           {
            "line": {
             "colorbar": {
              "outlinewidth": 0,
              "ticks": ""
             }
            },
            "type": "parcoords"
           }
          ],
          "pie": [
           {
            "automargin": true,
            "type": "pie"
           }
          ],
          "scatter": [
           {
            "fillpattern": {
             "fillmode": "overlay",
             "size": 10,
             "solidity": 0.2
            },
            "type": "scatter"
           }
          ],
          "scatter3d": [
           {
            "line": {
             "colorbar": {
              "outlinewidth": 0,
              "ticks": ""
             }
            },
            "marker": {
             "colorbar": {
              "outlinewidth": 0,
              "ticks": ""
             }
            },
            "type": "scatter3d"
           }
          ],
          "scattercarpet": [
           {
            "marker": {
             "colorbar": {
              "outlinewidth": 0,
              "ticks": ""
             }
            },
            "type": "scattercarpet"
           }
          ],
          "scattergeo": [
           {
            "marker": {
             "colorbar": {
              "outlinewidth": 0,
              "ticks": ""
             }
            },
            "type": "scattergeo"
           }
          ],
          "scattergl": [
           {
            "marker": {
             "colorbar": {
              "outlinewidth": 0,
              "ticks": ""
             }
            },
            "type": "scattergl"
           }
          ],
          "scattermapbox": [
           {
            "marker": {
             "colorbar": {
              "outlinewidth": 0,
              "ticks": ""
             }
            },
            "type": "scattermapbox"
           }
          ],
          "scatterpolar": [
           {
            "marker": {
             "colorbar": {
              "outlinewidth": 0,
              "ticks": ""
             }
            },
            "type": "scatterpolar"
           }
          ],
          "scatterpolargl": [
           {
            "marker": {
             "colorbar": {
              "outlinewidth": 0,
              "ticks": ""
             }
            },
            "type": "scatterpolargl"
           }
          ],
          "scatterternary": [
           {
            "marker": {
             "colorbar": {
              "outlinewidth": 0,
              "ticks": ""
             }
            },
            "type": "scatterternary"
           }
          ],
          "surface": [
           {
            "colorbar": {
             "outlinewidth": 0,
             "ticks": ""
            },
            "colorscale": [
             [
              0,
              "#0d0887"
             ],
             [
              0.1111111111111111,
              "#46039f"
             ],
             [
              0.2222222222222222,
              "#7201a8"
             ],
             [
              0.3333333333333333,
              "#9c179e"
             ],
             [
              0.4444444444444444,
              "#bd3786"
             ],
             [
              0.5555555555555556,
              "#d8576b"
             ],
             [
              0.6666666666666666,
              "#ed7953"
             ],
             [
              0.7777777777777778,
              "#fb9f3a"
             ],
             [
              0.8888888888888888,
              "#fdca26"
             ],
             [
              1,
              "#f0f921"
             ]
            ],
            "type": "surface"
           }
          ],
          "table": [
           {
            "cells": {
             "fill": {
              "color": "#EBF0F8"
             },
             "line": {
              "color": "white"
             }
            },
            "header": {
             "fill": {
              "color": "#C8D4E3"
             },
             "line": {
              "color": "white"
             }
            },
            "type": "table"
           }
          ]
         },
         "layout": {
          "annotationdefaults": {
           "arrowcolor": "#2a3f5f",
           "arrowhead": 0,
           "arrowwidth": 1
          },
          "autotypenumbers": "strict",
          "coloraxis": {
           "colorbar": {
            "outlinewidth": 0,
            "ticks": ""
           }
          },
          "colorscale": {
           "diverging": [
            [
             0,
             "#8e0152"
            ],
            [
             0.1,
             "#c51b7d"
            ],
            [
             0.2,
             "#de77ae"
            ],
            [
             0.3,
             "#f1b6da"
            ],
            [
             0.4,
             "#fde0ef"
            ],
            [
             0.5,
             "#f7f7f7"
            ],
            [
             0.6,
             "#e6f5d0"
            ],
            [
             0.7,
             "#b8e186"
            ],
            [
             0.8,
             "#7fbc41"
            ],
            [
             0.9,
             "#4d9221"
            ],
            [
             1,
             "#276419"
            ]
           ],
           "sequential": [
            [
             0,
             "#0d0887"
            ],
            [
             0.1111111111111111,
             "#46039f"
            ],
            [
             0.2222222222222222,
             "#7201a8"
            ],
            [
             0.3333333333333333,
             "#9c179e"
            ],
            [
             0.4444444444444444,
             "#bd3786"
            ],
            [
             0.5555555555555556,
             "#d8576b"
            ],
            [
             0.6666666666666666,
             "#ed7953"
            ],
            [
             0.7777777777777778,
             "#fb9f3a"
            ],
            [
             0.8888888888888888,
             "#fdca26"
            ],
            [
             1,
             "#f0f921"
            ]
           ],
           "sequentialminus": [
            [
             0,
             "#0d0887"
            ],
            [
             0.1111111111111111,
             "#46039f"
            ],
            [
             0.2222222222222222,
             "#7201a8"
            ],
            [
             0.3333333333333333,
             "#9c179e"
            ],
            [
             0.4444444444444444,
             "#bd3786"
            ],
            [
             0.5555555555555556,
             "#d8576b"
            ],
            [
             0.6666666666666666,
             "#ed7953"
            ],
            [
             0.7777777777777778,
             "#fb9f3a"
            ],
            [
             0.8888888888888888,
             "#fdca26"
            ],
            [
             1,
             "#f0f921"
            ]
           ]
          },
          "colorway": [
           "#636efa",
           "#EF553B",
           "#00cc96",
           "#ab63fa",
           "#FFA15A",
           "#19d3f3",
           "#FF6692",
           "#B6E880",
           "#FF97FF",
           "#FECB52"
          ],
          "font": {
           "color": "#2a3f5f"
          },
          "geo": {
           "bgcolor": "white",
           "lakecolor": "white",
           "landcolor": "#E5ECF6",
           "showlakes": true,
           "showland": true,
           "subunitcolor": "white"
          },
          "hoverlabel": {
           "align": "left"
          },
          "hovermode": "closest",
          "mapbox": {
           "style": "light"
          },
          "paper_bgcolor": "white",
          "plot_bgcolor": "#E5ECF6",
          "polar": {
           "angularaxis": {
            "gridcolor": "white",
            "linecolor": "white",
            "ticks": ""
           },
           "bgcolor": "#E5ECF6",
           "radialaxis": {
            "gridcolor": "white",
            "linecolor": "white",
            "ticks": ""
           }
          },
          "scene": {
           "xaxis": {
            "backgroundcolor": "#E5ECF6",
            "gridcolor": "white",
            "gridwidth": 2,
            "linecolor": "white",
            "showbackground": true,
            "ticks": "",
            "zerolinecolor": "white"
           },
           "yaxis": {
            "backgroundcolor": "#E5ECF6",
            "gridcolor": "white",
            "gridwidth": 2,
            "linecolor": "white",
            "showbackground": true,
            "ticks": "",
            "zerolinecolor": "white"
           },
           "zaxis": {
            "backgroundcolor": "#E5ECF6",
            "gridcolor": "white",
            "gridwidth": 2,
            "linecolor": "white",
            "showbackground": true,
            "ticks": "",
            "zerolinecolor": "white"
           }
          },
          "shapedefaults": {
           "line": {
            "color": "#2a3f5f"
           }
          },
          "ternary": {
           "aaxis": {
            "gridcolor": "white",
            "linecolor": "white",
            "ticks": ""
           },
           "baxis": {
            "gridcolor": "white",
            "linecolor": "white",
            "ticks": ""
           },
           "bgcolor": "#E5ECF6",
           "caxis": {
            "gridcolor": "white",
            "linecolor": "white",
            "ticks": ""
           }
          },
          "title": {
           "x": 0.05
          },
          "xaxis": {
           "automargin": true,
           "gridcolor": "white",
           "linecolor": "white",
           "ticks": "",
           "title": {
            "standoff": 15
           },
           "zerolinecolor": "white",
           "zerolinewidth": 2
          },
          "yaxis": {
           "automargin": true,
           "gridcolor": "white",
           "linecolor": "white",
           "ticks": "",
           "title": {
            "standoff": 15
           },
           "zerolinecolor": "white",
           "zerolinewidth": 2
          }
         }
        },
        "title": {
         "text": "Value Counts for Manufacturer",
         "x": 0.5,
         "xanchor": "center",
         "y": 0.9,
         "yanchor": "top"
        },
        "width": 1000,
        "xaxis": {
         "anchor": "y",
         "domain": [
          0,
          1
         ],
         "tickangle": -45,
         "title": {
          "text": "Manufacturer"
         }
        },
        "yaxis": {
         "anchor": "x",
         "domain": [
          0,
          1
         ],
         "title": {
          "text": "Counts"
         }
        }
       }
      },
      "text/html": [
       "<div>                            <div id=\"b120995a-f3e8-49b0-9973-23ea7b12f706\" class=\"plotly-graph-div\" style=\"height:600px; width:1000px;\"></div>            <script type=\"text/javascript\">                require([\"plotly\"], function(Plotly) {                    window.PLOTLYENV=window.PLOTLYENV || {};                                    if (document.getElementById(\"b120995a-f3e8-49b0-9973-23ea7b12f706\")) {                    Plotly.newPlot(                        \"b120995a-f3e8-49b0-9973-23ea7b12f706\",                        [{\"alignmentgroup\":\"True\",\"hovertemplate\":\"Category=%{x}\\u003cbr\\u003eCounts=%{text}\\u003cextra\\u003e\\u003c\\u002fextra\\u003e\",\"legendgroup\":\"\",\"marker\":{\"color\":\"#636efa\",\"pattern\":{\"shape\":\"\"}},\"name\":\"\",\"offsetgroup\":\"\",\"orientation\":\"v\",\"showlegend\":false,\"text\":[76.0,19.0,1.0],\"textposition\":\"outside\",\"x\":[\"X1\",\"X2\",\"X3\"],\"xaxis\":\"x\",\"y\":[76,19,1],\"yaxis\":\"y\",\"type\":\"bar\",\"texttemplate\":\"%{text:.2s}\"}],                        {\"template\":{\"data\":{\"histogram2dcontour\":[{\"type\":\"histogram2dcontour\",\"colorbar\":{\"outlinewidth\":0,\"ticks\":\"\"},\"colorscale\":[[0.0,\"#0d0887\"],[0.1111111111111111,\"#46039f\"],[0.2222222222222222,\"#7201a8\"],[0.3333333333333333,\"#9c179e\"],[0.4444444444444444,\"#bd3786\"],[0.5555555555555556,\"#d8576b\"],[0.6666666666666666,\"#ed7953\"],[0.7777777777777778,\"#fb9f3a\"],[0.8888888888888888,\"#fdca26\"],[1.0,\"#f0f921\"]]}],\"choropleth\":[{\"type\":\"choropleth\",\"colorbar\":{\"outlinewidth\":0,\"ticks\":\"\"}}],\"histogram2d\":[{\"type\":\"histogram2d\",\"colorbar\":{\"outlinewidth\":0,\"ticks\":\"\"},\"colorscale\":[[0.0,\"#0d0887\"],[0.1111111111111111,\"#46039f\"],[0.2222222222222222,\"#7201a8\"],[0.3333333333333333,\"#9c179e\"],[0.4444444444444444,\"#bd3786\"],[0.5555555555555556,\"#d8576b\"],[0.6666666666666666,\"#ed7953\"],[0.7777777777777778,\"#fb9f3a\"],[0.8888888888888888,\"#fdca26\"],[1.0,\"#f0f921\"]]}],\"heatmap\":[{\"type\":\"heatmap\",\"colorbar\":{\"outlinewidth\":0,\"ticks\":\"\"},\"colorscale\":[[0.0,\"#0d0887\"],[0.1111111111111111,\"#46039f\"],[0.2222222222222222,\"#7201a8\"],[0.3333333333333333,\"#9c179e\"],[0.4444444444444444,\"#bd3786\"],[0.5555555555555556,\"#d8576b\"],[0.6666666666666666,\"#ed7953\"],[0.7777777777777778,\"#fb9f3a\"],[0.8888888888888888,\"#fdca26\"],[1.0,\"#f0f921\"]]}],\"heatmapgl\":[{\"type\":\"heatmapgl\",\"colorbar\":{\"outlinewidth\":0,\"ticks\":\"\"},\"colorscale\":[[0.0,\"#0d0887\"],[0.1111111111111111,\"#46039f\"],[0.2222222222222222,\"#7201a8\"],[0.3333333333333333,\"#9c179e\"],[0.4444444444444444,\"#bd3786\"],[0.5555555555555556,\"#d8576b\"],[0.6666666666666666,\"#ed7953\"],[0.7777777777777778,\"#fb9f3a\"],[0.8888888888888888,\"#fdca26\"],[1.0,\"#f0f921\"]]}],\"contourcarpet\":[{\"type\":\"contourcarpet\",\"colorbar\":{\"outlinewidth\":0,\"ticks\":\"\"}}],\"contour\":[{\"type\":\"contour\",\"colorbar\":{\"outlinewidth\":0,\"ticks\":\"\"},\"colorscale\":[[0.0,\"#0d0887\"],[0.1111111111111111,\"#46039f\"],[0.2222222222222222,\"#7201a8\"],[0.3333333333333333,\"#9c179e\"],[0.4444444444444444,\"#bd3786\"],[0.5555555555555556,\"#d8576b\"],[0.6666666666666666,\"#ed7953\"],[0.7777777777777778,\"#fb9f3a\"],[0.8888888888888888,\"#fdca26\"],[1.0,\"#f0f921\"]]}],\"surface\":[{\"type\":\"surface\",\"colorbar\":{\"outlinewidth\":0,\"ticks\":\"\"},\"colorscale\":[[0.0,\"#0d0887\"],[0.1111111111111111,\"#46039f\"],[0.2222222222222222,\"#7201a8\"],[0.3333333333333333,\"#9c179e\"],[0.4444444444444444,\"#bd3786\"],[0.5555555555555556,\"#d8576b\"],[0.6666666666666666,\"#ed7953\"],[0.7777777777777778,\"#fb9f3a\"],[0.8888888888888888,\"#fdca26\"],[1.0,\"#f0f921\"]]}],\"mesh3d\":[{\"type\":\"mesh3d\",\"colorbar\":{\"outlinewidth\":0,\"ticks\":\"\"}}],\"scatter\":[{\"fillpattern\":{\"fillmode\":\"overlay\",\"size\":10,\"solidity\":0.2},\"type\":\"scatter\"}],\"parcoords\":[{\"type\":\"parcoords\",\"line\":{\"colorbar\":{\"outlinewidth\":0,\"ticks\":\"\"}}}],\"scatterpolargl\":[{\"type\":\"scatterpolargl\",\"marker\":{\"colorbar\":{\"outlinewidth\":0,\"ticks\":\"\"}}}],\"bar\":[{\"error_x\":{\"color\":\"#2a3f5f\"},\"error_y\":{\"color\":\"#2a3f5f\"},\"marker\":{\"line\":{\"color\":\"#E5ECF6\",\"width\":0.5},\"pattern\":{\"fillmode\":\"overlay\",\"size\":10,\"solidity\":0.2}},\"type\":\"bar\"}],\"scattergeo\":[{\"type\":\"scattergeo\",\"marker\":{\"colorbar\":{\"outlinewidth\":0,\"ticks\":\"\"}}}],\"scatterpolar\":[{\"type\":\"scatterpolar\",\"marker\":{\"colorbar\":{\"outlinewidth\":0,\"ticks\":\"\"}}}],\"histogram\":[{\"marker\":{\"pattern\":{\"fillmode\":\"overlay\",\"size\":10,\"solidity\":0.2}},\"type\":\"histogram\"}],\"scattergl\":[{\"type\":\"scattergl\",\"marker\":{\"colorbar\":{\"outlinewidth\":0,\"ticks\":\"\"}}}],\"scatter3d\":[{\"type\":\"scatter3d\",\"line\":{\"colorbar\":{\"outlinewidth\":0,\"ticks\":\"\"}},\"marker\":{\"colorbar\":{\"outlinewidth\":0,\"ticks\":\"\"}}}],\"scattermapbox\":[{\"type\":\"scattermapbox\",\"marker\":{\"colorbar\":{\"outlinewidth\":0,\"ticks\":\"\"}}}],\"scatterternary\":[{\"type\":\"scatterternary\",\"marker\":{\"colorbar\":{\"outlinewidth\":0,\"ticks\":\"\"}}}],\"scattercarpet\":[{\"type\":\"scattercarpet\",\"marker\":{\"colorbar\":{\"outlinewidth\":0,\"ticks\":\"\"}}}],\"carpet\":[{\"aaxis\":{\"endlinecolor\":\"#2a3f5f\",\"gridcolor\":\"white\",\"linecolor\":\"white\",\"minorgridcolor\":\"white\",\"startlinecolor\":\"#2a3f5f\"},\"baxis\":{\"endlinecolor\":\"#2a3f5f\",\"gridcolor\":\"white\",\"linecolor\":\"white\",\"minorgridcolor\":\"white\",\"startlinecolor\":\"#2a3f5f\"},\"type\":\"carpet\"}],\"table\":[{\"cells\":{\"fill\":{\"color\":\"#EBF0F8\"},\"line\":{\"color\":\"white\"}},\"header\":{\"fill\":{\"color\":\"#C8D4E3\"},\"line\":{\"color\":\"white\"}},\"type\":\"table\"}],\"barpolar\":[{\"marker\":{\"line\":{\"color\":\"#E5ECF6\",\"width\":0.5},\"pattern\":{\"fillmode\":\"overlay\",\"size\":10,\"solidity\":0.2}},\"type\":\"barpolar\"}],\"pie\":[{\"automargin\":true,\"type\":\"pie\"}]},\"layout\":{\"autotypenumbers\":\"strict\",\"colorway\":[\"#636efa\",\"#EF553B\",\"#00cc96\",\"#ab63fa\",\"#FFA15A\",\"#19d3f3\",\"#FF6692\",\"#B6E880\",\"#FF97FF\",\"#FECB52\"],\"font\":{\"color\":\"#2a3f5f\"},\"hovermode\":\"closest\",\"hoverlabel\":{\"align\":\"left\"},\"paper_bgcolor\":\"white\",\"plot_bgcolor\":\"#E5ECF6\",\"polar\":{\"bgcolor\":\"#E5ECF6\",\"angularaxis\":{\"gridcolor\":\"white\",\"linecolor\":\"white\",\"ticks\":\"\"},\"radialaxis\":{\"gridcolor\":\"white\",\"linecolor\":\"white\",\"ticks\":\"\"}},\"ternary\":{\"bgcolor\":\"#E5ECF6\",\"aaxis\":{\"gridcolor\":\"white\",\"linecolor\":\"white\",\"ticks\":\"\"},\"baxis\":{\"gridcolor\":\"white\",\"linecolor\":\"white\",\"ticks\":\"\"},\"caxis\":{\"gridcolor\":\"white\",\"linecolor\":\"white\",\"ticks\":\"\"}},\"coloraxis\":{\"colorbar\":{\"outlinewidth\":0,\"ticks\":\"\"}},\"colorscale\":{\"sequential\":[[0.0,\"#0d0887\"],[0.1111111111111111,\"#46039f\"],[0.2222222222222222,\"#7201a8\"],[0.3333333333333333,\"#9c179e\"],[0.4444444444444444,\"#bd3786\"],[0.5555555555555556,\"#d8576b\"],[0.6666666666666666,\"#ed7953\"],[0.7777777777777778,\"#fb9f3a\"],[0.8888888888888888,\"#fdca26\"],[1.0,\"#f0f921\"]],\"sequentialminus\":[[0.0,\"#0d0887\"],[0.1111111111111111,\"#46039f\"],[0.2222222222222222,\"#7201a8\"],[0.3333333333333333,\"#9c179e\"],[0.4444444444444444,\"#bd3786\"],[0.5555555555555556,\"#d8576b\"],[0.6666666666666666,\"#ed7953\"],[0.7777777777777778,\"#fb9f3a\"],[0.8888888888888888,\"#fdca26\"],[1.0,\"#f0f921\"]],\"diverging\":[[0,\"#8e0152\"],[0.1,\"#c51b7d\"],[0.2,\"#de77ae\"],[0.3,\"#f1b6da\"],[0.4,\"#fde0ef\"],[0.5,\"#f7f7f7\"],[0.6,\"#e6f5d0\"],[0.7,\"#b8e186\"],[0.8,\"#7fbc41\"],[0.9,\"#4d9221\"],[1,\"#276419\"]]},\"xaxis\":{\"gridcolor\":\"white\",\"linecolor\":\"white\",\"ticks\":\"\",\"title\":{\"standoff\":15},\"zerolinecolor\":\"white\",\"automargin\":true,\"zerolinewidth\":2},\"yaxis\":{\"gridcolor\":\"white\",\"linecolor\":\"white\",\"ticks\":\"\",\"title\":{\"standoff\":15},\"zerolinecolor\":\"white\",\"automargin\":true,\"zerolinewidth\":2},\"scene\":{\"xaxis\":{\"backgroundcolor\":\"#E5ECF6\",\"gridcolor\":\"white\",\"linecolor\":\"white\",\"showbackground\":true,\"ticks\":\"\",\"zerolinecolor\":\"white\",\"gridwidth\":2},\"yaxis\":{\"backgroundcolor\":\"#E5ECF6\",\"gridcolor\":\"white\",\"linecolor\":\"white\",\"showbackground\":true,\"ticks\":\"\",\"zerolinecolor\":\"white\",\"gridwidth\":2},\"zaxis\":{\"backgroundcolor\":\"#E5ECF6\",\"gridcolor\":\"white\",\"linecolor\":\"white\",\"showbackground\":true,\"ticks\":\"\",\"zerolinecolor\":\"white\",\"gridwidth\":2}},\"shapedefaults\":{\"line\":{\"color\":\"#2a3f5f\"}},\"annotationdefaults\":{\"arrowcolor\":\"#2a3f5f\",\"arrowhead\":0,\"arrowwidth\":1},\"geo\":{\"bgcolor\":\"white\",\"landcolor\":\"#E5ECF6\",\"subunitcolor\":\"white\",\"showland\":true,\"showlakes\":true,\"lakecolor\":\"white\"},\"title\":{\"x\":0.05},\"mapbox\":{\"style\":\"light\"}}},\"xaxis\":{\"anchor\":\"y\",\"domain\":[0.0,1.0],\"title\":{\"text\":\"Manufacturer\"},\"tickangle\":-45},\"yaxis\":{\"anchor\":\"x\",\"domain\":[0.0,1.0],\"title\":{\"text\":\"Counts\"}},\"legend\":{\"tracegroupgap\":0},\"title\":{\"text\":\"Value Counts for Manufacturer\",\"y\":0.9,\"x\":0.5,\"xanchor\":\"center\",\"yanchor\":\"top\"},\"barmode\":\"relative\",\"height\":600,\"width\":1000},                        {\"responsive\": true}                    ).then(function(){\n",
       "                            \n",
       "var gd = document.getElementById('b120995a-f3e8-49b0-9973-23ea7b12f706');\n",
       "var x = new MutationObserver(function (mutations, observer) {{\n",
       "        var display = window.getComputedStyle(gd).display;\n",
       "        if (!display || display === 'none') {{\n",
       "            console.log([gd, 'removed!']);\n",
       "            Plotly.purge(gd);\n",
       "            observer.disconnect();\n",
       "        }}\n",
       "}});\n",
       "\n",
       "// Listen for the removal of the full notebook cells\n",
       "var notebookContainer = gd.closest('#notebook-container');\n",
       "if (notebookContainer) {{\n",
       "    x.observe(notebookContainer, {childList: true});\n",
       "}}\n",
       "\n",
       "// Listen for the clearing of the current output cell\n",
       "var outputEl = gd.closest('.output');\n",
       "if (outputEl) {{\n",
       "    x.observe(outputEl, {childList: true});\n",
       "}}\n",
       "\n",
       "                        })                };                });            </script>        </div>"
      ]
     },
     "metadata": {},
     "output_type": "display_data"
    },
    {
     "data": {
      "application/vnd.plotly.v1+json": {
       "config": {
        "plotlyServerURL": "https://plot.ly"
       },
       "data": [
        {
         "alignmentgroup": "True",
         "hovertemplate": "Category=%{x}<br>Counts=%{text}<extra></extra>",
         "legendgroup": "",
         "marker": {
          "color": "#636efa",
          "pattern": {
           "shape": ""
          }
         },
         "name": "",
         "offsetgroup": "",
         "orientation": "v",
         "showlegend": false,
         "text": [
          8,
          6,
          5,
          5,
          4,
          4,
          4,
          3,
          3,
          3,
          3,
          3,
          3,
          2,
          2,
          2,
          2,
          2,
          2,
          2,
          2,
          2,
          2,
          1,
          1,
          1,
          1,
          1,
          1,
          1,
          1,
          1,
          1,
          1,
          1,
          1,
          1,
          1,
          1,
          1,
          1,
          1,
          1,
          1,
          1
         ],
         "textposition": "outside",
         "texttemplate": "%{text:.2s}",
         "type": "bar",
         "x": [
          "A7",
          "A28",
          "A10",
          "A8",
          "A11",
          "A2",
          "A3",
          "A32",
          "A25",
          "A9",
          "A44",
          "A6",
          "A29",
          "A42",
          "A38",
          "A37",
          "A45",
          "A5",
          "A21",
          "A31",
          "A18",
          "A4",
          "A35",
          "A14",
          "A15",
          "A13",
          "A24",
          "A41",
          "A20",
          "A36",
          "A1",
          "A26",
          "A23",
          "A19",
          "A17",
          "A16",
          "A46",
          "A43",
          "A40",
          "A39",
          "A30",
          "A12",
          "A34",
          "A33",
          "A22"
         ],
         "xaxis": "x",
         "y": [
          8,
          6,
          5,
          5,
          4,
          4,
          4,
          3,
          3,
          3,
          3,
          3,
          3,
          2,
          2,
          2,
          2,
          2,
          2,
          2,
          2,
          2,
          2,
          1,
          1,
          1,
          1,
          1,
          1,
          1,
          1,
          1,
          1,
          1,
          1,
          1,
          1,
          1,
          1,
          1,
          1,
          1,
          1,
          1,
          1
         ],
         "yaxis": "y"
        }
       ],
       "layout": {
        "barmode": "relative",
        "height": 600,
        "legend": {
         "tracegroupgap": 0
        },
        "template": {
         "data": {
          "bar": [
           {
            "error_x": {
             "color": "#2a3f5f"
            },
            "error_y": {
             "color": "#2a3f5f"
            },
            "marker": {
             "line": {
              "color": "#E5ECF6",
              "width": 0.5
             },
             "pattern": {
              "fillmode": "overlay",
              "size": 10,
              "solidity": 0.2
             }
            },
            "type": "bar"
           }
          ],
          "barpolar": [
           {
            "marker": {
             "line": {
              "color": "#E5ECF6",
              "width": 0.5
             },
             "pattern": {
              "fillmode": "overlay",
              "size": 10,
              "solidity": 0.2
             }
            },
            "type": "barpolar"
           }
          ],
          "carpet": [
           {
            "aaxis": {
             "endlinecolor": "#2a3f5f",
             "gridcolor": "white",
             "linecolor": "white",
             "minorgridcolor": "white",
             "startlinecolor": "#2a3f5f"
            },
            "baxis": {
             "endlinecolor": "#2a3f5f",
             "gridcolor": "white",
             "linecolor": "white",
             "minorgridcolor": "white",
             "startlinecolor": "#2a3f5f"
            },
            "type": "carpet"
           }
          ],
          "choropleth": [
           {
            "colorbar": {
             "outlinewidth": 0,
             "ticks": ""
            },
            "type": "choropleth"
           }
          ],
          "contour": [
           {
            "colorbar": {
             "outlinewidth": 0,
             "ticks": ""
            },
            "colorscale": [
             [
              0,
              "#0d0887"
             ],
             [
              0.1111111111111111,
              "#46039f"
             ],
             [
              0.2222222222222222,
              "#7201a8"
             ],
             [
              0.3333333333333333,
              "#9c179e"
             ],
             [
              0.4444444444444444,
              "#bd3786"
             ],
             [
              0.5555555555555556,
              "#d8576b"
             ],
             [
              0.6666666666666666,
              "#ed7953"
             ],
             [
              0.7777777777777778,
              "#fb9f3a"
             ],
             [
              0.8888888888888888,
              "#fdca26"
             ],
             [
              1,
              "#f0f921"
             ]
            ],
            "type": "contour"
           }
          ],
          "contourcarpet": [
           {
            "colorbar": {
             "outlinewidth": 0,
             "ticks": ""
            },
            "type": "contourcarpet"
           }
          ],
          "heatmap": [
           {
            "colorbar": {
             "outlinewidth": 0,
             "ticks": ""
            },
            "colorscale": [
             [
              0,
              "#0d0887"
             ],
             [
              0.1111111111111111,
              "#46039f"
             ],
             [
              0.2222222222222222,
              "#7201a8"
             ],
             [
              0.3333333333333333,
              "#9c179e"
             ],
             [
              0.4444444444444444,
              "#bd3786"
             ],
             [
              0.5555555555555556,
              "#d8576b"
             ],
             [
              0.6666666666666666,
              "#ed7953"
             ],
             [
              0.7777777777777778,
              "#fb9f3a"
             ],
             [
              0.8888888888888888,
              "#fdca26"
             ],
             [
              1,
              "#f0f921"
             ]
            ],
            "type": "heatmap"
           }
          ],
          "heatmapgl": [
           {
            "colorbar": {
             "outlinewidth": 0,
             "ticks": ""
            },
            "colorscale": [
             [
              0,
              "#0d0887"
             ],
             [
              0.1111111111111111,
              "#46039f"
             ],
             [
              0.2222222222222222,
              "#7201a8"
             ],
             [
              0.3333333333333333,
              "#9c179e"
             ],
             [
              0.4444444444444444,
              "#bd3786"
             ],
             [
              0.5555555555555556,
              "#d8576b"
             ],
             [
              0.6666666666666666,
              "#ed7953"
             ],
             [
              0.7777777777777778,
              "#fb9f3a"
             ],
             [
              0.8888888888888888,
              "#fdca26"
             ],
             [
              1,
              "#f0f921"
             ]
            ],
            "type": "heatmapgl"
           }
          ],
          "histogram": [
           {
            "marker": {
             "pattern": {
              "fillmode": "overlay",
              "size": 10,
              "solidity": 0.2
             }
            },
            "type": "histogram"
           }
          ],
          "histogram2d": [
           {
            "colorbar": {
             "outlinewidth": 0,
             "ticks": ""
            },
            "colorscale": [
             [
              0,
              "#0d0887"
             ],
             [
              0.1111111111111111,
              "#46039f"
             ],
             [
              0.2222222222222222,
              "#7201a8"
             ],
             [
              0.3333333333333333,
              "#9c179e"
             ],
             [
              0.4444444444444444,
              "#bd3786"
             ],
             [
              0.5555555555555556,
              "#d8576b"
             ],
             [
              0.6666666666666666,
              "#ed7953"
             ],
             [
              0.7777777777777778,
              "#fb9f3a"
             ],
             [
              0.8888888888888888,
              "#fdca26"
             ],
             [
              1,
              "#f0f921"
             ]
            ],
            "type": "histogram2d"
           }
          ],
          "histogram2dcontour": [
           {
            "colorbar": {
             "outlinewidth": 0,
             "ticks": ""
            },
            "colorscale": [
             [
              0,
              "#0d0887"
             ],
             [
              0.1111111111111111,
              "#46039f"
             ],
             [
              0.2222222222222222,
              "#7201a8"
             ],
             [
              0.3333333333333333,
              "#9c179e"
             ],
             [
              0.4444444444444444,
              "#bd3786"
             ],
             [
              0.5555555555555556,
              "#d8576b"
             ],
             [
              0.6666666666666666,
              "#ed7953"
             ],
             [
              0.7777777777777778,
              "#fb9f3a"
             ],
             [
              0.8888888888888888,
              "#fdca26"
             ],
             [
              1,
              "#f0f921"
             ]
            ],
            "type": "histogram2dcontour"
           }
          ],
          "mesh3d": [
           {
            "colorbar": {
             "outlinewidth": 0,
             "ticks": ""
            },
            "type": "mesh3d"
           }
          ],
          "parcoords": [
           {
            "line": {
             "colorbar": {
              "outlinewidth": 0,
              "ticks": ""
             }
            },
            "type": "parcoords"
           }
          ],
          "pie": [
           {
            "automargin": true,
            "type": "pie"
           }
          ],
          "scatter": [
           {
            "fillpattern": {
             "fillmode": "overlay",
             "size": 10,
             "solidity": 0.2
            },
            "type": "scatter"
           }
          ],
          "scatter3d": [
           {
            "line": {
             "colorbar": {
              "outlinewidth": 0,
              "ticks": ""
             }
            },
            "marker": {
             "colorbar": {
              "outlinewidth": 0,
              "ticks": ""
             }
            },
            "type": "scatter3d"
           }
          ],
          "scattercarpet": [
           {
            "marker": {
             "colorbar": {
              "outlinewidth": 0,
              "ticks": ""
             }
            },
            "type": "scattercarpet"
           }
          ],
          "scattergeo": [
           {
            "marker": {
             "colorbar": {
              "outlinewidth": 0,
              "ticks": ""
             }
            },
            "type": "scattergeo"
           }
          ],
          "scattergl": [
           {
            "marker": {
             "colorbar": {
              "outlinewidth": 0,
              "ticks": ""
             }
            },
            "type": "scattergl"
           }
          ],
          "scattermapbox": [
           {
            "marker": {
             "colorbar": {
              "outlinewidth": 0,
              "ticks": ""
             }
            },
            "type": "scattermapbox"
           }
          ],
          "scatterpolar": [
           {
            "marker": {
             "colorbar": {
              "outlinewidth": 0,
              "ticks": ""
             }
            },
            "type": "scatterpolar"
           }
          ],
          "scatterpolargl": [
           {
            "marker": {
             "colorbar": {
              "outlinewidth": 0,
              "ticks": ""
             }
            },
            "type": "scatterpolargl"
           }
          ],
          "scatterternary": [
           {
            "marker": {
             "colorbar": {
              "outlinewidth": 0,
              "ticks": ""
             }
            },
            "type": "scatterternary"
           }
          ],
          "surface": [
           {
            "colorbar": {
             "outlinewidth": 0,
             "ticks": ""
            },
            "colorscale": [
             [
              0,
              "#0d0887"
             ],
             [
              0.1111111111111111,
              "#46039f"
             ],
             [
              0.2222222222222222,
              "#7201a8"
             ],
             [
              0.3333333333333333,
              "#9c179e"
             ],
             [
              0.4444444444444444,
              "#bd3786"
             ],
             [
              0.5555555555555556,
              "#d8576b"
             ],
             [
              0.6666666666666666,
              "#ed7953"
             ],
             [
              0.7777777777777778,
              "#fb9f3a"
             ],
             [
              0.8888888888888888,
              "#fdca26"
             ],
             [
              1,
              "#f0f921"
             ]
            ],
            "type": "surface"
           }
          ],
          "table": [
           {
            "cells": {
             "fill": {
              "color": "#EBF0F8"
             },
             "line": {
              "color": "white"
             }
            },
            "header": {
             "fill": {
              "color": "#C8D4E3"
             },
             "line": {
              "color": "white"
             }
            },
            "type": "table"
           }
          ]
         },
         "layout": {
          "annotationdefaults": {
           "arrowcolor": "#2a3f5f",
           "arrowhead": 0,
           "arrowwidth": 1
          },
          "autotypenumbers": "strict",
          "coloraxis": {
           "colorbar": {
            "outlinewidth": 0,
            "ticks": ""
           }
          },
          "colorscale": {
           "diverging": [
            [
             0,
             "#8e0152"
            ],
            [
             0.1,
             "#c51b7d"
            ],
            [
             0.2,
             "#de77ae"
            ],
            [
             0.3,
             "#f1b6da"
            ],
            [
             0.4,
             "#fde0ef"
            ],
            [
             0.5,
             "#f7f7f7"
            ],
            [
             0.6,
             "#e6f5d0"
            ],
            [
             0.7,
             "#b8e186"
            ],
            [
             0.8,
             "#7fbc41"
            ],
            [
             0.9,
             "#4d9221"
            ],
            [
             1,
             "#276419"
            ]
           ],
           "sequential": [
            [
             0,
             "#0d0887"
            ],
            [
             0.1111111111111111,
             "#46039f"
            ],
            [
             0.2222222222222222,
             "#7201a8"
            ],
            [
             0.3333333333333333,
             "#9c179e"
            ],
            [
             0.4444444444444444,
             "#bd3786"
            ],
            [
             0.5555555555555556,
             "#d8576b"
            ],
            [
             0.6666666666666666,
             "#ed7953"
            ],
            [
             0.7777777777777778,
             "#fb9f3a"
            ],
            [
             0.8888888888888888,
             "#fdca26"
            ],
            [
             1,
             "#f0f921"
            ]
           ],
           "sequentialminus": [
            [
             0,
             "#0d0887"
            ],
            [
             0.1111111111111111,
             "#46039f"
            ],
            [
             0.2222222222222222,
             "#7201a8"
            ],
            [
             0.3333333333333333,
             "#9c179e"
            ],
            [
             0.4444444444444444,
             "#bd3786"
            ],
            [
             0.5555555555555556,
             "#d8576b"
            ],
            [
             0.6666666666666666,
             "#ed7953"
            ],
            [
             0.7777777777777778,
             "#fb9f3a"
            ],
            [
             0.8888888888888888,
             "#fdca26"
            ],
            [
             1,
             "#f0f921"
            ]
           ]
          },
          "colorway": [
           "#636efa",
           "#EF553B",
           "#00cc96",
           "#ab63fa",
           "#FFA15A",
           "#19d3f3",
           "#FF6692",
           "#B6E880",
           "#FF97FF",
           "#FECB52"
          ],
          "font": {
           "color": "#2a3f5f"
          },
          "geo": {
           "bgcolor": "white",
           "lakecolor": "white",
           "landcolor": "#E5ECF6",
           "showlakes": true,
           "showland": true,
           "subunitcolor": "white"
          },
          "hoverlabel": {
           "align": "left"
          },
          "hovermode": "closest",
          "mapbox": {
           "style": "light"
          },
          "paper_bgcolor": "white",
          "plot_bgcolor": "#E5ECF6",
          "polar": {
           "angularaxis": {
            "gridcolor": "white",
            "linecolor": "white",
            "ticks": ""
           },
           "bgcolor": "#E5ECF6",
           "radialaxis": {
            "gridcolor": "white",
            "linecolor": "white",
            "ticks": ""
           }
          },
          "scene": {
           "xaxis": {
            "backgroundcolor": "#E5ECF6",
            "gridcolor": "white",
            "gridwidth": 2,
            "linecolor": "white",
            "showbackground": true,
            "ticks": "",
            "zerolinecolor": "white"
           },
           "yaxis": {
            "backgroundcolor": "#E5ECF6",
            "gridcolor": "white",
            "gridwidth": 2,
            "linecolor": "white",
            "showbackground": true,
            "ticks": "",
            "zerolinecolor": "white"
           },
           "zaxis": {
            "backgroundcolor": "#E5ECF6",
            "gridcolor": "white",
            "gridwidth": 2,
            "linecolor": "white",
            "showbackground": true,
            "ticks": "",
            "zerolinecolor": "white"
           }
          },
          "shapedefaults": {
           "line": {
            "color": "#2a3f5f"
           }
          },
          "ternary": {
           "aaxis": {
            "gridcolor": "white",
            "linecolor": "white",
            "ticks": ""
           },
           "baxis": {
            "gridcolor": "white",
            "linecolor": "white",
            "ticks": ""
           },
           "bgcolor": "#E5ECF6",
           "caxis": {
            "gridcolor": "white",
            "linecolor": "white",
            "ticks": ""
           }
          },
          "title": {
           "x": 0.05
          },
          "xaxis": {
           "automargin": true,
           "gridcolor": "white",
           "linecolor": "white",
           "ticks": "",
           "title": {
            "standoff": 15
           },
           "zerolinecolor": "white",
           "zerolinewidth": 2
          },
          "yaxis": {
           "automargin": true,
           "gridcolor": "white",
           "linecolor": "white",
           "ticks": "",
           "title": {
            "standoff": 15
           },
           "zerolinecolor": "white",
           "zerolinewidth": 2
          }
         }
        },
        "title": {
         "text": "Value Counts for Area Code",
         "x": 0.5,
         "xanchor": "center",
         "y": 0.9,
         "yanchor": "top"
        },
        "width": 1000,
        "xaxis": {
         "anchor": "y",
         "domain": [
          0,
          1
         ],
         "tickangle": -45,
         "title": {
          "text": "Area Code"
         }
        },
        "yaxis": {
         "anchor": "x",
         "domain": [
          0,
          1
         ],
         "title": {
          "text": "Counts"
         }
        }
       }
      },
      "text/html": [
       "<div>                            <div id=\"576ac060-8ec1-438a-8a1d-5bc8a12ccad3\" class=\"plotly-graph-div\" style=\"height:600px; width:1000px;\"></div>            <script type=\"text/javascript\">                require([\"plotly\"], function(Plotly) {                    window.PLOTLYENV=window.PLOTLYENV || {};                                    if (document.getElementById(\"576ac060-8ec1-438a-8a1d-5bc8a12ccad3\")) {                    Plotly.newPlot(                        \"576ac060-8ec1-438a-8a1d-5bc8a12ccad3\",                        [{\"alignmentgroup\":\"True\",\"hovertemplate\":\"Category=%{x}\\u003cbr\\u003eCounts=%{text}\\u003cextra\\u003e\\u003c\\u002fextra\\u003e\",\"legendgroup\":\"\",\"marker\":{\"color\":\"#636efa\",\"pattern\":{\"shape\":\"\"}},\"name\":\"\",\"offsetgroup\":\"\",\"orientation\":\"v\",\"showlegend\":false,\"text\":[8.0,6.0,5.0,5.0,4.0,4.0,4.0,3.0,3.0,3.0,3.0,3.0,3.0,2.0,2.0,2.0,2.0,2.0,2.0,2.0,2.0,2.0,2.0,1.0,1.0,1.0,1.0,1.0,1.0,1.0,1.0,1.0,1.0,1.0,1.0,1.0,1.0,1.0,1.0,1.0,1.0,1.0,1.0,1.0,1.0],\"textposition\":\"outside\",\"x\":[\"A7\",\"A28\",\"A10\",\"A8\",\"A11\",\"A2\",\"A3\",\"A32\",\"A25\",\"A9\",\"A44\",\"A6\",\"A29\",\"A42\",\"A38\",\"A37\",\"A45\",\"A5\",\"A21\",\"A31\",\"A18\",\"A4\",\"A35\",\"A14\",\"A15\",\"A13\",\"A24\",\"A41\",\"A20\",\"A36\",\"A1\",\"A26\",\"A23\",\"A19\",\"A17\",\"A16\",\"A46\",\"A43\",\"A40\",\"A39\",\"A30\",\"A12\",\"A34\",\"A33\",\"A22\"],\"xaxis\":\"x\",\"y\":[8,6,5,5,4,4,4,3,3,3,3,3,3,2,2,2,2,2,2,2,2,2,2,1,1,1,1,1,1,1,1,1,1,1,1,1,1,1,1,1,1,1,1,1,1],\"yaxis\":\"y\",\"type\":\"bar\",\"texttemplate\":\"%{text:.2s}\"}],                        {\"template\":{\"data\":{\"histogram2dcontour\":[{\"type\":\"histogram2dcontour\",\"colorbar\":{\"outlinewidth\":0,\"ticks\":\"\"},\"colorscale\":[[0.0,\"#0d0887\"],[0.1111111111111111,\"#46039f\"],[0.2222222222222222,\"#7201a8\"],[0.3333333333333333,\"#9c179e\"],[0.4444444444444444,\"#bd3786\"],[0.5555555555555556,\"#d8576b\"],[0.6666666666666666,\"#ed7953\"],[0.7777777777777778,\"#fb9f3a\"],[0.8888888888888888,\"#fdca26\"],[1.0,\"#f0f921\"]]}],\"choropleth\":[{\"type\":\"choropleth\",\"colorbar\":{\"outlinewidth\":0,\"ticks\":\"\"}}],\"histogram2d\":[{\"type\":\"histogram2d\",\"colorbar\":{\"outlinewidth\":0,\"ticks\":\"\"},\"colorscale\":[[0.0,\"#0d0887\"],[0.1111111111111111,\"#46039f\"],[0.2222222222222222,\"#7201a8\"],[0.3333333333333333,\"#9c179e\"],[0.4444444444444444,\"#bd3786\"],[0.5555555555555556,\"#d8576b\"],[0.6666666666666666,\"#ed7953\"],[0.7777777777777778,\"#fb9f3a\"],[0.8888888888888888,\"#fdca26\"],[1.0,\"#f0f921\"]]}],\"heatmap\":[{\"type\":\"heatmap\",\"colorbar\":{\"outlinewidth\":0,\"ticks\":\"\"},\"colorscale\":[[0.0,\"#0d0887\"],[0.1111111111111111,\"#46039f\"],[0.2222222222222222,\"#7201a8\"],[0.3333333333333333,\"#9c179e\"],[0.4444444444444444,\"#bd3786\"],[0.5555555555555556,\"#d8576b\"],[0.6666666666666666,\"#ed7953\"],[0.7777777777777778,\"#fb9f3a\"],[0.8888888888888888,\"#fdca26\"],[1.0,\"#f0f921\"]]}],\"heatmapgl\":[{\"type\":\"heatmapgl\",\"colorbar\":{\"outlinewidth\":0,\"ticks\":\"\"},\"colorscale\":[[0.0,\"#0d0887\"],[0.1111111111111111,\"#46039f\"],[0.2222222222222222,\"#7201a8\"],[0.3333333333333333,\"#9c179e\"],[0.4444444444444444,\"#bd3786\"],[0.5555555555555556,\"#d8576b\"],[0.6666666666666666,\"#ed7953\"],[0.7777777777777778,\"#fb9f3a\"],[0.8888888888888888,\"#fdca26\"],[1.0,\"#f0f921\"]]}],\"contourcarpet\":[{\"type\":\"contourcarpet\",\"colorbar\":{\"outlinewidth\":0,\"ticks\":\"\"}}],\"contour\":[{\"type\":\"contour\",\"colorbar\":{\"outlinewidth\":0,\"ticks\":\"\"},\"colorscale\":[[0.0,\"#0d0887\"],[0.1111111111111111,\"#46039f\"],[0.2222222222222222,\"#7201a8\"],[0.3333333333333333,\"#9c179e\"],[0.4444444444444444,\"#bd3786\"],[0.5555555555555556,\"#d8576b\"],[0.6666666666666666,\"#ed7953\"],[0.7777777777777778,\"#fb9f3a\"],[0.8888888888888888,\"#fdca26\"],[1.0,\"#f0f921\"]]}],\"surface\":[{\"type\":\"surface\",\"colorbar\":{\"outlinewidth\":0,\"ticks\":\"\"},\"colorscale\":[[0.0,\"#0d0887\"],[0.1111111111111111,\"#46039f\"],[0.2222222222222222,\"#7201a8\"],[0.3333333333333333,\"#9c179e\"],[0.4444444444444444,\"#bd3786\"],[0.5555555555555556,\"#d8576b\"],[0.6666666666666666,\"#ed7953\"],[0.7777777777777778,\"#fb9f3a\"],[0.8888888888888888,\"#fdca26\"],[1.0,\"#f0f921\"]]}],\"mesh3d\":[{\"type\":\"mesh3d\",\"colorbar\":{\"outlinewidth\":0,\"ticks\":\"\"}}],\"scatter\":[{\"fillpattern\":{\"fillmode\":\"overlay\",\"size\":10,\"solidity\":0.2},\"type\":\"scatter\"}],\"parcoords\":[{\"type\":\"parcoords\",\"line\":{\"colorbar\":{\"outlinewidth\":0,\"ticks\":\"\"}}}],\"scatterpolargl\":[{\"type\":\"scatterpolargl\",\"marker\":{\"colorbar\":{\"outlinewidth\":0,\"ticks\":\"\"}}}],\"bar\":[{\"error_x\":{\"color\":\"#2a3f5f\"},\"error_y\":{\"color\":\"#2a3f5f\"},\"marker\":{\"line\":{\"color\":\"#E5ECF6\",\"width\":0.5},\"pattern\":{\"fillmode\":\"overlay\",\"size\":10,\"solidity\":0.2}},\"type\":\"bar\"}],\"scattergeo\":[{\"type\":\"scattergeo\",\"marker\":{\"colorbar\":{\"outlinewidth\":0,\"ticks\":\"\"}}}],\"scatterpolar\":[{\"type\":\"scatterpolar\",\"marker\":{\"colorbar\":{\"outlinewidth\":0,\"ticks\":\"\"}}}],\"histogram\":[{\"marker\":{\"pattern\":{\"fillmode\":\"overlay\",\"size\":10,\"solidity\":0.2}},\"type\":\"histogram\"}],\"scattergl\":[{\"type\":\"scattergl\",\"marker\":{\"colorbar\":{\"outlinewidth\":0,\"ticks\":\"\"}}}],\"scatter3d\":[{\"type\":\"scatter3d\",\"line\":{\"colorbar\":{\"outlinewidth\":0,\"ticks\":\"\"}},\"marker\":{\"colorbar\":{\"outlinewidth\":0,\"ticks\":\"\"}}}],\"scattermapbox\":[{\"type\":\"scattermapbox\",\"marker\":{\"colorbar\":{\"outlinewidth\":0,\"ticks\":\"\"}}}],\"scatterternary\":[{\"type\":\"scatterternary\",\"marker\":{\"colorbar\":{\"outlinewidth\":0,\"ticks\":\"\"}}}],\"scattercarpet\":[{\"type\":\"scattercarpet\",\"marker\":{\"colorbar\":{\"outlinewidth\":0,\"ticks\":\"\"}}}],\"carpet\":[{\"aaxis\":{\"endlinecolor\":\"#2a3f5f\",\"gridcolor\":\"white\",\"linecolor\":\"white\",\"minorgridcolor\":\"white\",\"startlinecolor\":\"#2a3f5f\"},\"baxis\":{\"endlinecolor\":\"#2a3f5f\",\"gridcolor\":\"white\",\"linecolor\":\"white\",\"minorgridcolor\":\"white\",\"startlinecolor\":\"#2a3f5f\"},\"type\":\"carpet\"}],\"table\":[{\"cells\":{\"fill\":{\"color\":\"#EBF0F8\"},\"line\":{\"color\":\"white\"}},\"header\":{\"fill\":{\"color\":\"#C8D4E3\"},\"line\":{\"color\":\"white\"}},\"type\":\"table\"}],\"barpolar\":[{\"marker\":{\"line\":{\"color\":\"#E5ECF6\",\"width\":0.5},\"pattern\":{\"fillmode\":\"overlay\",\"size\":10,\"solidity\":0.2}},\"type\":\"barpolar\"}],\"pie\":[{\"automargin\":true,\"type\":\"pie\"}]},\"layout\":{\"autotypenumbers\":\"strict\",\"colorway\":[\"#636efa\",\"#EF553B\",\"#00cc96\",\"#ab63fa\",\"#FFA15A\",\"#19d3f3\",\"#FF6692\",\"#B6E880\",\"#FF97FF\",\"#FECB52\"],\"font\":{\"color\":\"#2a3f5f\"},\"hovermode\":\"closest\",\"hoverlabel\":{\"align\":\"left\"},\"paper_bgcolor\":\"white\",\"plot_bgcolor\":\"#E5ECF6\",\"polar\":{\"bgcolor\":\"#E5ECF6\",\"angularaxis\":{\"gridcolor\":\"white\",\"linecolor\":\"white\",\"ticks\":\"\"},\"radialaxis\":{\"gridcolor\":\"white\",\"linecolor\":\"white\",\"ticks\":\"\"}},\"ternary\":{\"bgcolor\":\"#E5ECF6\",\"aaxis\":{\"gridcolor\":\"white\",\"linecolor\":\"white\",\"ticks\":\"\"},\"baxis\":{\"gridcolor\":\"white\",\"linecolor\":\"white\",\"ticks\":\"\"},\"caxis\":{\"gridcolor\":\"white\",\"linecolor\":\"white\",\"ticks\":\"\"}},\"coloraxis\":{\"colorbar\":{\"outlinewidth\":0,\"ticks\":\"\"}},\"colorscale\":{\"sequential\":[[0.0,\"#0d0887\"],[0.1111111111111111,\"#46039f\"],[0.2222222222222222,\"#7201a8\"],[0.3333333333333333,\"#9c179e\"],[0.4444444444444444,\"#bd3786\"],[0.5555555555555556,\"#d8576b\"],[0.6666666666666666,\"#ed7953\"],[0.7777777777777778,\"#fb9f3a\"],[0.8888888888888888,\"#fdca26\"],[1.0,\"#f0f921\"]],\"sequentialminus\":[[0.0,\"#0d0887\"],[0.1111111111111111,\"#46039f\"],[0.2222222222222222,\"#7201a8\"],[0.3333333333333333,\"#9c179e\"],[0.4444444444444444,\"#bd3786\"],[0.5555555555555556,\"#d8576b\"],[0.6666666666666666,\"#ed7953\"],[0.7777777777777778,\"#fb9f3a\"],[0.8888888888888888,\"#fdca26\"],[1.0,\"#f0f921\"]],\"diverging\":[[0,\"#8e0152\"],[0.1,\"#c51b7d\"],[0.2,\"#de77ae\"],[0.3,\"#f1b6da\"],[0.4,\"#fde0ef\"],[0.5,\"#f7f7f7\"],[0.6,\"#e6f5d0\"],[0.7,\"#b8e186\"],[0.8,\"#7fbc41\"],[0.9,\"#4d9221\"],[1,\"#276419\"]]},\"xaxis\":{\"gridcolor\":\"white\",\"linecolor\":\"white\",\"ticks\":\"\",\"title\":{\"standoff\":15},\"zerolinecolor\":\"white\",\"automargin\":true,\"zerolinewidth\":2},\"yaxis\":{\"gridcolor\":\"white\",\"linecolor\":\"white\",\"ticks\":\"\",\"title\":{\"standoff\":15},\"zerolinecolor\":\"white\",\"automargin\":true,\"zerolinewidth\":2},\"scene\":{\"xaxis\":{\"backgroundcolor\":\"#E5ECF6\",\"gridcolor\":\"white\",\"linecolor\":\"white\",\"showbackground\":true,\"ticks\":\"\",\"zerolinecolor\":\"white\",\"gridwidth\":2},\"yaxis\":{\"backgroundcolor\":\"#E5ECF6\",\"gridcolor\":\"white\",\"linecolor\":\"white\",\"showbackground\":true,\"ticks\":\"\",\"zerolinecolor\":\"white\",\"gridwidth\":2},\"zaxis\":{\"backgroundcolor\":\"#E5ECF6\",\"gridcolor\":\"white\",\"linecolor\":\"white\",\"showbackground\":true,\"ticks\":\"\",\"zerolinecolor\":\"white\",\"gridwidth\":2}},\"shapedefaults\":{\"line\":{\"color\":\"#2a3f5f\"}},\"annotationdefaults\":{\"arrowcolor\":\"#2a3f5f\",\"arrowhead\":0,\"arrowwidth\":1},\"geo\":{\"bgcolor\":\"white\",\"landcolor\":\"#E5ECF6\",\"subunitcolor\":\"white\",\"showland\":true,\"showlakes\":true,\"lakecolor\":\"white\"},\"title\":{\"x\":0.05},\"mapbox\":{\"style\":\"light\"}}},\"xaxis\":{\"anchor\":\"y\",\"domain\":[0.0,1.0],\"title\":{\"text\":\"Area Code\"},\"tickangle\":-45},\"yaxis\":{\"anchor\":\"x\",\"domain\":[0.0,1.0],\"title\":{\"text\":\"Counts\"}},\"legend\":{\"tracegroupgap\":0},\"title\":{\"text\":\"Value Counts for Area Code\",\"y\":0.9,\"x\":0.5,\"xanchor\":\"center\",\"yanchor\":\"top\"},\"barmode\":\"relative\",\"height\":600,\"width\":1000},                        {\"responsive\": true}                    ).then(function(){\n",
       "                            \n",
       "var gd = document.getElementById('576ac060-8ec1-438a-8a1d-5bc8a12ccad3');\n",
       "var x = new MutationObserver(function (mutations, observer) {{\n",
       "        var display = window.getComputedStyle(gd).display;\n",
       "        if (!display || display === 'none') {{\n",
       "            console.log([gd, 'removed!']);\n",
       "            Plotly.purge(gd);\n",
       "            observer.disconnect();\n",
       "        }}\n",
       "}});\n",
       "\n",
       "// Listen for the removal of the full notebook cells\n",
       "var notebookContainer = gd.closest('#notebook-container');\n",
       "if (notebookContainer) {{\n",
       "    x.observe(notebookContainer, {childList: true});\n",
       "}}\n",
       "\n",
       "// Listen for the clearing of the current output cell\n",
       "var outputEl = gd.closest('.output');\n",
       "if (outputEl) {{\n",
       "    x.observe(outputEl, {childList: true});\n",
       "}}\n",
       "\n",
       "                        })                };                });            </script>        </div>"
      ]
     },
     "metadata": {},
     "output_type": "display_data"
    },
    {
     "data": {
      "application/vnd.plotly.v1+json": {
       "config": {
        "plotlyServerURL": "https://plot.ly"
       },
       "data": [
        {
         "alignmentgroup": "True",
         "hovertemplate": "Category=%{x}<br>Counts=%{text}<extra></extra>",
         "legendgroup": "",
         "marker": {
          "color": "#636efa",
          "pattern": {
           "shape": ""
          }
         },
         "name": "",
         "offsetgroup": "",
         "orientation": "v",
         "showlegend": false,
         "text": [
          71,
          13,
          9,
          3
         ],
         "textposition": "outside",
         "texttemplate": "%{text:.2s}",
         "type": "bar",
         "x": [
          "DIRECT",
          "RETAIL",
          "ECOM",
          "WHOLESALE"
         ],
         "xaxis": "x",
         "y": [
          71,
          13,
          9,
          3
         ],
         "yaxis": "y"
        }
       ],
       "layout": {
        "barmode": "relative",
        "height": 600,
        "legend": {
         "tracegroupgap": 0
        },
        "template": {
         "data": {
          "bar": [
           {
            "error_x": {
             "color": "#2a3f5f"
            },
            "error_y": {
             "color": "#2a3f5f"
            },
            "marker": {
             "line": {
              "color": "#E5ECF6",
              "width": 0.5
             },
             "pattern": {
              "fillmode": "overlay",
              "size": 10,
              "solidity": 0.2
             }
            },
            "type": "bar"
           }
          ],
          "barpolar": [
           {
            "marker": {
             "line": {
              "color": "#E5ECF6",
              "width": 0.5
             },
             "pattern": {
              "fillmode": "overlay",
              "size": 10,
              "solidity": 0.2
             }
            },
            "type": "barpolar"
           }
          ],
          "carpet": [
           {
            "aaxis": {
             "endlinecolor": "#2a3f5f",
             "gridcolor": "white",
             "linecolor": "white",
             "minorgridcolor": "white",
             "startlinecolor": "#2a3f5f"
            },
            "baxis": {
             "endlinecolor": "#2a3f5f",
             "gridcolor": "white",
             "linecolor": "white",
             "minorgridcolor": "white",
             "startlinecolor": "#2a3f5f"
            },
            "type": "carpet"
           }
          ],
          "choropleth": [
           {
            "colorbar": {
             "outlinewidth": 0,
             "ticks": ""
            },
            "type": "choropleth"
           }
          ],
          "contour": [
           {
            "colorbar": {
             "outlinewidth": 0,
             "ticks": ""
            },
            "colorscale": [
             [
              0,
              "#0d0887"
             ],
             [
              0.1111111111111111,
              "#46039f"
             ],
             [
              0.2222222222222222,
              "#7201a8"
             ],
             [
              0.3333333333333333,
              "#9c179e"
             ],
             [
              0.4444444444444444,
              "#bd3786"
             ],
             [
              0.5555555555555556,
              "#d8576b"
             ],
             [
              0.6666666666666666,
              "#ed7953"
             ],
             [
              0.7777777777777778,
              "#fb9f3a"
             ],
             [
              0.8888888888888888,
              "#fdca26"
             ],
             [
              1,
              "#f0f921"
             ]
            ],
            "type": "contour"
           }
          ],
          "contourcarpet": [
           {
            "colorbar": {
             "outlinewidth": 0,
             "ticks": ""
            },
            "type": "contourcarpet"
           }
          ],
          "heatmap": [
           {
            "colorbar": {
             "outlinewidth": 0,
             "ticks": ""
            },
            "colorscale": [
             [
              0,
              "#0d0887"
             ],
             [
              0.1111111111111111,
              "#46039f"
             ],
             [
              0.2222222222222222,
              "#7201a8"
             ],
             [
              0.3333333333333333,
              "#9c179e"
             ],
             [
              0.4444444444444444,
              "#bd3786"
             ],
             [
              0.5555555555555556,
              "#d8576b"
             ],
             [
              0.6666666666666666,
              "#ed7953"
             ],
             [
              0.7777777777777778,
              "#fb9f3a"
             ],
             [
              0.8888888888888888,
              "#fdca26"
             ],
             [
              1,
              "#f0f921"
             ]
            ],
            "type": "heatmap"
           }
          ],
          "heatmapgl": [
           {
            "colorbar": {
             "outlinewidth": 0,
             "ticks": ""
            },
            "colorscale": [
             [
              0,
              "#0d0887"
             ],
             [
              0.1111111111111111,
              "#46039f"
             ],
             [
              0.2222222222222222,
              "#7201a8"
             ],
             [
              0.3333333333333333,
              "#9c179e"
             ],
             [
              0.4444444444444444,
              "#bd3786"
             ],
             [
              0.5555555555555556,
              "#d8576b"
             ],
             [
              0.6666666666666666,
              "#ed7953"
             ],
             [
              0.7777777777777778,
              "#fb9f3a"
             ],
             [
              0.8888888888888888,
              "#fdca26"
             ],
             [
              1,
              "#f0f921"
             ]
            ],
            "type": "heatmapgl"
           }
          ],
          "histogram": [
           {
            "marker": {
             "pattern": {
              "fillmode": "overlay",
              "size": 10,
              "solidity": 0.2
             }
            },
            "type": "histogram"
           }
          ],
          "histogram2d": [
           {
            "colorbar": {
             "outlinewidth": 0,
             "ticks": ""
            },
            "colorscale": [
             [
              0,
              "#0d0887"
             ],
             [
              0.1111111111111111,
              "#46039f"
             ],
             [
              0.2222222222222222,
              "#7201a8"
             ],
             [
              0.3333333333333333,
              "#9c179e"
             ],
             [
              0.4444444444444444,
              "#bd3786"
             ],
             [
              0.5555555555555556,
              "#d8576b"
             ],
             [
              0.6666666666666666,
              "#ed7953"
             ],
             [
              0.7777777777777778,
              "#fb9f3a"
             ],
             [
              0.8888888888888888,
              "#fdca26"
             ],
             [
              1,
              "#f0f921"
             ]
            ],
            "type": "histogram2d"
           }
          ],
          "histogram2dcontour": [
           {
            "colorbar": {
             "outlinewidth": 0,
             "ticks": ""
            },
            "colorscale": [
             [
              0,
              "#0d0887"
             ],
             [
              0.1111111111111111,
              "#46039f"
             ],
             [
              0.2222222222222222,
              "#7201a8"
             ],
             [
              0.3333333333333333,
              "#9c179e"
             ],
             [
              0.4444444444444444,
              "#bd3786"
             ],
             [
              0.5555555555555556,
              "#d8576b"
             ],
             [
              0.6666666666666666,
              "#ed7953"
             ],
             [
              0.7777777777777778,
              "#fb9f3a"
             ],
             [
              0.8888888888888888,
              "#fdca26"
             ],
             [
              1,
              "#f0f921"
             ]
            ],
            "type": "histogram2dcontour"
           }
          ],
          "mesh3d": [
           {
            "colorbar": {
             "outlinewidth": 0,
             "ticks": ""
            },
            "type": "mesh3d"
           }
          ],
          "parcoords": [
           {
            "line": {
             "colorbar": {
              "outlinewidth": 0,
              "ticks": ""
             }
            },
            "type": "parcoords"
           }
          ],
          "pie": [
           {
            "automargin": true,
            "type": "pie"
           }
          ],
          "scatter": [
           {
            "fillpattern": {
             "fillmode": "overlay",
             "size": 10,
             "solidity": 0.2
            },
            "type": "scatter"
           }
          ],
          "scatter3d": [
           {
            "line": {
             "colorbar": {
              "outlinewidth": 0,
              "ticks": ""
             }
            },
            "marker": {
             "colorbar": {
              "outlinewidth": 0,
              "ticks": ""
             }
            },
            "type": "scatter3d"
           }
          ],
          "scattercarpet": [
           {
            "marker": {
             "colorbar": {
              "outlinewidth": 0,
              "ticks": ""
             }
            },
            "type": "scattercarpet"
           }
          ],
          "scattergeo": [
           {
            "marker": {
             "colorbar": {
              "outlinewidth": 0,
              "ticks": ""
             }
            },
            "type": "scattergeo"
           }
          ],
          "scattergl": [
           {
            "marker": {
             "colorbar": {
              "outlinewidth": 0,
              "ticks": ""
             }
            },
            "type": "scattergl"
           }
          ],
          "scattermapbox": [
           {
            "marker": {
             "colorbar": {
              "outlinewidth": 0,
              "ticks": ""
             }
            },
            "type": "scattermapbox"
           }
          ],
          "scatterpolar": [
           {
            "marker": {
             "colorbar": {
              "outlinewidth": 0,
              "ticks": ""
             }
            },
            "type": "scatterpolar"
           }
          ],
          "scatterpolargl": [
           {
            "marker": {
             "colorbar": {
              "outlinewidth": 0,
              "ticks": ""
             }
            },
            "type": "scatterpolargl"
           }
          ],
          "scatterternary": [
           {
            "marker": {
             "colorbar": {
              "outlinewidth": 0,
              "ticks": ""
             }
            },
            "type": "scatterternary"
           }
          ],
          "surface": [
           {
            "colorbar": {
             "outlinewidth": 0,
             "ticks": ""
            },
            "colorscale": [
             [
              0,
              "#0d0887"
             ],
             [
              0.1111111111111111,
              "#46039f"
             ],
             [
              0.2222222222222222,
              "#7201a8"
             ],
             [
              0.3333333333333333,
              "#9c179e"
             ],
             [
              0.4444444444444444,
              "#bd3786"
             ],
             [
              0.5555555555555556,
              "#d8576b"
             ],
             [
              0.6666666666666666,
              "#ed7953"
             ],
             [
              0.7777777777777778,
              "#fb9f3a"
             ],
             [
              0.8888888888888888,
              "#fdca26"
             ],
             [
              1,
              "#f0f921"
             ]
            ],
            "type": "surface"
           }
          ],
          "table": [
           {
            "cells": {
             "fill": {
              "color": "#EBF0F8"
             },
             "line": {
              "color": "white"
             }
            },
            "header": {
             "fill": {
              "color": "#C8D4E3"
             },
             "line": {
              "color": "white"
             }
            },
            "type": "table"
           }
          ]
         },
         "layout": {
          "annotationdefaults": {
           "arrowcolor": "#2a3f5f",
           "arrowhead": 0,
           "arrowwidth": 1
          },
          "autotypenumbers": "strict",
          "coloraxis": {
           "colorbar": {
            "outlinewidth": 0,
            "ticks": ""
           }
          },
          "colorscale": {
           "diverging": [
            [
             0,
             "#8e0152"
            ],
            [
             0.1,
             "#c51b7d"
            ],
            [
             0.2,
             "#de77ae"
            ],
            [
             0.3,
             "#f1b6da"
            ],
            [
             0.4,
             "#fde0ef"
            ],
            [
             0.5,
             "#f7f7f7"
            ],
            [
             0.6,
             "#e6f5d0"
            ],
            [
             0.7,
             "#b8e186"
            ],
            [
             0.8,
             "#7fbc41"
            ],
            [
             0.9,
             "#4d9221"
            ],
            [
             1,
             "#276419"
            ]
           ],
           "sequential": [
            [
             0,
             "#0d0887"
            ],
            [
             0.1111111111111111,
             "#46039f"
            ],
            [
             0.2222222222222222,
             "#7201a8"
            ],
            [
             0.3333333333333333,
             "#9c179e"
            ],
            [
             0.4444444444444444,
             "#bd3786"
            ],
            [
             0.5555555555555556,
             "#d8576b"
            ],
            [
             0.6666666666666666,
             "#ed7953"
            ],
            [
             0.7777777777777778,
             "#fb9f3a"
            ],
            [
             0.8888888888888888,
             "#fdca26"
            ],
            [
             1,
             "#f0f921"
            ]
           ],
           "sequentialminus": [
            [
             0,
             "#0d0887"
            ],
            [
             0.1111111111111111,
             "#46039f"
            ],
            [
             0.2222222222222222,
             "#7201a8"
            ],
            [
             0.3333333333333333,
             "#9c179e"
            ],
            [
             0.4444444444444444,
             "#bd3786"
            ],
            [
             0.5555555555555556,
             "#d8576b"
            ],
            [
             0.6666666666666666,
             "#ed7953"
            ],
            [
             0.7777777777777778,
             "#fb9f3a"
            ],
            [
             0.8888888888888888,
             "#fdca26"
            ],
            [
             1,
             "#f0f921"
            ]
           ]
          },
          "colorway": [
           "#636efa",
           "#EF553B",
           "#00cc96",
           "#ab63fa",
           "#FFA15A",
           "#19d3f3",
           "#FF6692",
           "#B6E880",
           "#FF97FF",
           "#FECB52"
          ],
          "font": {
           "color": "#2a3f5f"
          },
          "geo": {
           "bgcolor": "white",
           "lakecolor": "white",
           "landcolor": "#E5ECF6",
           "showlakes": true,
           "showland": true,
           "subunitcolor": "white"
          },
          "hoverlabel": {
           "align": "left"
          },
          "hovermode": "closest",
          "mapbox": {
           "style": "light"
          },
          "paper_bgcolor": "white",
          "plot_bgcolor": "#E5ECF6",
          "polar": {
           "angularaxis": {
            "gridcolor": "white",
            "linecolor": "white",
            "ticks": ""
           },
           "bgcolor": "#E5ECF6",
           "radialaxis": {
            "gridcolor": "white",
            "linecolor": "white",
            "ticks": ""
           }
          },
          "scene": {
           "xaxis": {
            "backgroundcolor": "#E5ECF6",
            "gridcolor": "white",
            "gridwidth": 2,
            "linecolor": "white",
            "showbackground": true,
            "ticks": "",
            "zerolinecolor": "white"
           },
           "yaxis": {
            "backgroundcolor": "#E5ECF6",
            "gridcolor": "white",
            "gridwidth": 2,
            "linecolor": "white",
            "showbackground": true,
            "ticks": "",
            "zerolinecolor": "white"
           },
           "zaxis": {
            "backgroundcolor": "#E5ECF6",
            "gridcolor": "white",
            "gridwidth": 2,
            "linecolor": "white",
            "showbackground": true,
            "ticks": "",
            "zerolinecolor": "white"
           }
          },
          "shapedefaults": {
           "line": {
            "color": "#2a3f5f"
           }
          },
          "ternary": {
           "aaxis": {
            "gridcolor": "white",
            "linecolor": "white",
            "ticks": ""
           },
           "baxis": {
            "gridcolor": "white",
            "linecolor": "white",
            "ticks": ""
           },
           "bgcolor": "#E5ECF6",
           "caxis": {
            "gridcolor": "white",
            "linecolor": "white",
            "ticks": ""
           }
          },
          "title": {
           "x": 0.05
          },
          "xaxis": {
           "automargin": true,
           "gridcolor": "white",
           "linecolor": "white",
           "ticks": "",
           "title": {
            "standoff": 15
           },
           "zerolinecolor": "white",
           "zerolinewidth": 2
          },
          "yaxis": {
           "automargin": true,
           "gridcolor": "white",
           "linecolor": "white",
           "ticks": "",
           "title": {
            "standoff": 15
           },
           "zerolinecolor": "white",
           "zerolinewidth": 2
          }
         }
        },
        "title": {
         "text": "Value Counts for Sourcing Channel",
         "x": 0.5,
         "xanchor": "center",
         "y": 0.9,
         "yanchor": "top"
        },
        "width": 1000,
        "xaxis": {
         "anchor": "y",
         "domain": [
          0,
          1
         ],
         "tickangle": -45,
         "title": {
          "text": "Sourcing Channel"
         }
        },
        "yaxis": {
         "anchor": "x",
         "domain": [
          0,
          1
         ],
         "title": {
          "text": "Counts"
         }
        }
       }
      },
      "text/html": [
       "<div>                            <div id=\"5f47bcfc-c4f6-4099-9e54-f7c41a34980a\" class=\"plotly-graph-div\" style=\"height:600px; width:1000px;\"></div>            <script type=\"text/javascript\">                require([\"plotly\"], function(Plotly) {                    window.PLOTLYENV=window.PLOTLYENV || {};                                    if (document.getElementById(\"5f47bcfc-c4f6-4099-9e54-f7c41a34980a\")) {                    Plotly.newPlot(                        \"5f47bcfc-c4f6-4099-9e54-f7c41a34980a\",                        [{\"alignmentgroup\":\"True\",\"hovertemplate\":\"Category=%{x}\\u003cbr\\u003eCounts=%{text}\\u003cextra\\u003e\\u003c\\u002fextra\\u003e\",\"legendgroup\":\"\",\"marker\":{\"color\":\"#636efa\",\"pattern\":{\"shape\":\"\"}},\"name\":\"\",\"offsetgroup\":\"\",\"orientation\":\"v\",\"showlegend\":false,\"text\":[71.0,13.0,9.0,3.0],\"textposition\":\"outside\",\"x\":[\"DIRECT\",\"RETAIL\",\"ECOM\",\"WHOLESALE\"],\"xaxis\":\"x\",\"y\":[71,13,9,3],\"yaxis\":\"y\",\"type\":\"bar\",\"texttemplate\":\"%{text:.2s}\"}],                        {\"template\":{\"data\":{\"histogram2dcontour\":[{\"type\":\"histogram2dcontour\",\"colorbar\":{\"outlinewidth\":0,\"ticks\":\"\"},\"colorscale\":[[0.0,\"#0d0887\"],[0.1111111111111111,\"#46039f\"],[0.2222222222222222,\"#7201a8\"],[0.3333333333333333,\"#9c179e\"],[0.4444444444444444,\"#bd3786\"],[0.5555555555555556,\"#d8576b\"],[0.6666666666666666,\"#ed7953\"],[0.7777777777777778,\"#fb9f3a\"],[0.8888888888888888,\"#fdca26\"],[1.0,\"#f0f921\"]]}],\"choropleth\":[{\"type\":\"choropleth\",\"colorbar\":{\"outlinewidth\":0,\"ticks\":\"\"}}],\"histogram2d\":[{\"type\":\"histogram2d\",\"colorbar\":{\"outlinewidth\":0,\"ticks\":\"\"},\"colorscale\":[[0.0,\"#0d0887\"],[0.1111111111111111,\"#46039f\"],[0.2222222222222222,\"#7201a8\"],[0.3333333333333333,\"#9c179e\"],[0.4444444444444444,\"#bd3786\"],[0.5555555555555556,\"#d8576b\"],[0.6666666666666666,\"#ed7953\"],[0.7777777777777778,\"#fb9f3a\"],[0.8888888888888888,\"#fdca26\"],[1.0,\"#f0f921\"]]}],\"heatmap\":[{\"type\":\"heatmap\",\"colorbar\":{\"outlinewidth\":0,\"ticks\":\"\"},\"colorscale\":[[0.0,\"#0d0887\"],[0.1111111111111111,\"#46039f\"],[0.2222222222222222,\"#7201a8\"],[0.3333333333333333,\"#9c179e\"],[0.4444444444444444,\"#bd3786\"],[0.5555555555555556,\"#d8576b\"],[0.6666666666666666,\"#ed7953\"],[0.7777777777777778,\"#fb9f3a\"],[0.8888888888888888,\"#fdca26\"],[1.0,\"#f0f921\"]]}],\"heatmapgl\":[{\"type\":\"heatmapgl\",\"colorbar\":{\"outlinewidth\":0,\"ticks\":\"\"},\"colorscale\":[[0.0,\"#0d0887\"],[0.1111111111111111,\"#46039f\"],[0.2222222222222222,\"#7201a8\"],[0.3333333333333333,\"#9c179e\"],[0.4444444444444444,\"#bd3786\"],[0.5555555555555556,\"#d8576b\"],[0.6666666666666666,\"#ed7953\"],[0.7777777777777778,\"#fb9f3a\"],[0.8888888888888888,\"#fdca26\"],[1.0,\"#f0f921\"]]}],\"contourcarpet\":[{\"type\":\"contourcarpet\",\"colorbar\":{\"outlinewidth\":0,\"ticks\":\"\"}}],\"contour\":[{\"type\":\"contour\",\"colorbar\":{\"outlinewidth\":0,\"ticks\":\"\"},\"colorscale\":[[0.0,\"#0d0887\"],[0.1111111111111111,\"#46039f\"],[0.2222222222222222,\"#7201a8\"],[0.3333333333333333,\"#9c179e\"],[0.4444444444444444,\"#bd3786\"],[0.5555555555555556,\"#d8576b\"],[0.6666666666666666,\"#ed7953\"],[0.7777777777777778,\"#fb9f3a\"],[0.8888888888888888,\"#fdca26\"],[1.0,\"#f0f921\"]]}],\"surface\":[{\"type\":\"surface\",\"colorbar\":{\"outlinewidth\":0,\"ticks\":\"\"},\"colorscale\":[[0.0,\"#0d0887\"],[0.1111111111111111,\"#46039f\"],[0.2222222222222222,\"#7201a8\"],[0.3333333333333333,\"#9c179e\"],[0.4444444444444444,\"#bd3786\"],[0.5555555555555556,\"#d8576b\"],[0.6666666666666666,\"#ed7953\"],[0.7777777777777778,\"#fb9f3a\"],[0.8888888888888888,\"#fdca26\"],[1.0,\"#f0f921\"]]}],\"mesh3d\":[{\"type\":\"mesh3d\",\"colorbar\":{\"outlinewidth\":0,\"ticks\":\"\"}}],\"scatter\":[{\"fillpattern\":{\"fillmode\":\"overlay\",\"size\":10,\"solidity\":0.2},\"type\":\"scatter\"}],\"parcoords\":[{\"type\":\"parcoords\",\"line\":{\"colorbar\":{\"outlinewidth\":0,\"ticks\":\"\"}}}],\"scatterpolargl\":[{\"type\":\"scatterpolargl\",\"marker\":{\"colorbar\":{\"outlinewidth\":0,\"ticks\":\"\"}}}],\"bar\":[{\"error_x\":{\"color\":\"#2a3f5f\"},\"error_y\":{\"color\":\"#2a3f5f\"},\"marker\":{\"line\":{\"color\":\"#E5ECF6\",\"width\":0.5},\"pattern\":{\"fillmode\":\"overlay\",\"size\":10,\"solidity\":0.2}},\"type\":\"bar\"}],\"scattergeo\":[{\"type\":\"scattergeo\",\"marker\":{\"colorbar\":{\"outlinewidth\":0,\"ticks\":\"\"}}}],\"scatterpolar\":[{\"type\":\"scatterpolar\",\"marker\":{\"colorbar\":{\"outlinewidth\":0,\"ticks\":\"\"}}}],\"histogram\":[{\"marker\":{\"pattern\":{\"fillmode\":\"overlay\",\"size\":10,\"solidity\":0.2}},\"type\":\"histogram\"}],\"scattergl\":[{\"type\":\"scattergl\",\"marker\":{\"colorbar\":{\"outlinewidth\":0,\"ticks\":\"\"}}}],\"scatter3d\":[{\"type\":\"scatter3d\",\"line\":{\"colorbar\":{\"outlinewidth\":0,\"ticks\":\"\"}},\"marker\":{\"colorbar\":{\"outlinewidth\":0,\"ticks\":\"\"}}}],\"scattermapbox\":[{\"type\":\"scattermapbox\",\"marker\":{\"colorbar\":{\"outlinewidth\":0,\"ticks\":\"\"}}}],\"scatterternary\":[{\"type\":\"scatterternary\",\"marker\":{\"colorbar\":{\"outlinewidth\":0,\"ticks\":\"\"}}}],\"scattercarpet\":[{\"type\":\"scattercarpet\",\"marker\":{\"colorbar\":{\"outlinewidth\":0,\"ticks\":\"\"}}}],\"carpet\":[{\"aaxis\":{\"endlinecolor\":\"#2a3f5f\",\"gridcolor\":\"white\",\"linecolor\":\"white\",\"minorgridcolor\":\"white\",\"startlinecolor\":\"#2a3f5f\"},\"baxis\":{\"endlinecolor\":\"#2a3f5f\",\"gridcolor\":\"white\",\"linecolor\":\"white\",\"minorgridcolor\":\"white\",\"startlinecolor\":\"#2a3f5f\"},\"type\":\"carpet\"}],\"table\":[{\"cells\":{\"fill\":{\"color\":\"#EBF0F8\"},\"line\":{\"color\":\"white\"}},\"header\":{\"fill\":{\"color\":\"#C8D4E3\"},\"line\":{\"color\":\"white\"}},\"type\":\"table\"}],\"barpolar\":[{\"marker\":{\"line\":{\"color\":\"#E5ECF6\",\"width\":0.5},\"pattern\":{\"fillmode\":\"overlay\",\"size\":10,\"solidity\":0.2}},\"type\":\"barpolar\"}],\"pie\":[{\"automargin\":true,\"type\":\"pie\"}]},\"layout\":{\"autotypenumbers\":\"strict\",\"colorway\":[\"#636efa\",\"#EF553B\",\"#00cc96\",\"#ab63fa\",\"#FFA15A\",\"#19d3f3\",\"#FF6692\",\"#B6E880\",\"#FF97FF\",\"#FECB52\"],\"font\":{\"color\":\"#2a3f5f\"},\"hovermode\":\"closest\",\"hoverlabel\":{\"align\":\"left\"},\"paper_bgcolor\":\"white\",\"plot_bgcolor\":\"#E5ECF6\",\"polar\":{\"bgcolor\":\"#E5ECF6\",\"angularaxis\":{\"gridcolor\":\"white\",\"linecolor\":\"white\",\"ticks\":\"\"},\"radialaxis\":{\"gridcolor\":\"white\",\"linecolor\":\"white\",\"ticks\":\"\"}},\"ternary\":{\"bgcolor\":\"#E5ECF6\",\"aaxis\":{\"gridcolor\":\"white\",\"linecolor\":\"white\",\"ticks\":\"\"},\"baxis\":{\"gridcolor\":\"white\",\"linecolor\":\"white\",\"ticks\":\"\"},\"caxis\":{\"gridcolor\":\"white\",\"linecolor\":\"white\",\"ticks\":\"\"}},\"coloraxis\":{\"colorbar\":{\"outlinewidth\":0,\"ticks\":\"\"}},\"colorscale\":{\"sequential\":[[0.0,\"#0d0887\"],[0.1111111111111111,\"#46039f\"],[0.2222222222222222,\"#7201a8\"],[0.3333333333333333,\"#9c179e\"],[0.4444444444444444,\"#bd3786\"],[0.5555555555555556,\"#d8576b\"],[0.6666666666666666,\"#ed7953\"],[0.7777777777777778,\"#fb9f3a\"],[0.8888888888888888,\"#fdca26\"],[1.0,\"#f0f921\"]],\"sequentialminus\":[[0.0,\"#0d0887\"],[0.1111111111111111,\"#46039f\"],[0.2222222222222222,\"#7201a8\"],[0.3333333333333333,\"#9c179e\"],[0.4444444444444444,\"#bd3786\"],[0.5555555555555556,\"#d8576b\"],[0.6666666666666666,\"#ed7953\"],[0.7777777777777778,\"#fb9f3a\"],[0.8888888888888888,\"#fdca26\"],[1.0,\"#f0f921\"]],\"diverging\":[[0,\"#8e0152\"],[0.1,\"#c51b7d\"],[0.2,\"#de77ae\"],[0.3,\"#f1b6da\"],[0.4,\"#fde0ef\"],[0.5,\"#f7f7f7\"],[0.6,\"#e6f5d0\"],[0.7,\"#b8e186\"],[0.8,\"#7fbc41\"],[0.9,\"#4d9221\"],[1,\"#276419\"]]},\"xaxis\":{\"gridcolor\":\"white\",\"linecolor\":\"white\",\"ticks\":\"\",\"title\":{\"standoff\":15},\"zerolinecolor\":\"white\",\"automargin\":true,\"zerolinewidth\":2},\"yaxis\":{\"gridcolor\":\"white\",\"linecolor\":\"white\",\"ticks\":\"\",\"title\":{\"standoff\":15},\"zerolinecolor\":\"white\",\"automargin\":true,\"zerolinewidth\":2},\"scene\":{\"xaxis\":{\"backgroundcolor\":\"#E5ECF6\",\"gridcolor\":\"white\",\"linecolor\":\"white\",\"showbackground\":true,\"ticks\":\"\",\"zerolinecolor\":\"white\",\"gridwidth\":2},\"yaxis\":{\"backgroundcolor\":\"#E5ECF6\",\"gridcolor\":\"white\",\"linecolor\":\"white\",\"showbackground\":true,\"ticks\":\"\",\"zerolinecolor\":\"white\",\"gridwidth\":2},\"zaxis\":{\"backgroundcolor\":\"#E5ECF6\",\"gridcolor\":\"white\",\"linecolor\":\"white\",\"showbackground\":true,\"ticks\":\"\",\"zerolinecolor\":\"white\",\"gridwidth\":2}},\"shapedefaults\":{\"line\":{\"color\":\"#2a3f5f\"}},\"annotationdefaults\":{\"arrowcolor\":\"#2a3f5f\",\"arrowhead\":0,\"arrowwidth\":1},\"geo\":{\"bgcolor\":\"white\",\"landcolor\":\"#E5ECF6\",\"subunitcolor\":\"white\",\"showland\":true,\"showlakes\":true,\"lakecolor\":\"white\"},\"title\":{\"x\":0.05},\"mapbox\":{\"style\":\"light\"}}},\"xaxis\":{\"anchor\":\"y\",\"domain\":[0.0,1.0],\"title\":{\"text\":\"Sourcing Channel\"},\"tickangle\":-45},\"yaxis\":{\"anchor\":\"x\",\"domain\":[0.0,1.0],\"title\":{\"text\":\"Counts\"}},\"legend\":{\"tracegroupgap\":0},\"title\":{\"text\":\"Value Counts for Sourcing Channel\",\"y\":0.9,\"x\":0.5,\"xanchor\":\"center\",\"yanchor\":\"top\"},\"barmode\":\"relative\",\"height\":600,\"width\":1000},                        {\"responsive\": true}                    ).then(function(){\n",
       "                            \n",
       "var gd = document.getElementById('5f47bcfc-c4f6-4099-9e54-f7c41a34980a');\n",
       "var x = new MutationObserver(function (mutations, observer) {{\n",
       "        var display = window.getComputedStyle(gd).display;\n",
       "        if (!display || display === 'none') {{\n",
       "            console.log([gd, 'removed!']);\n",
       "            Plotly.purge(gd);\n",
       "            observer.disconnect();\n",
       "        }}\n",
       "}});\n",
       "\n",
       "// Listen for the removal of the full notebook cells\n",
       "var notebookContainer = gd.closest('#notebook-container');\n",
       "if (notebookContainer) {{\n",
       "    x.observe(notebookContainer, {childList: true});\n",
       "}}\n",
       "\n",
       "// Listen for the clearing of the current output cell\n",
       "var outputEl = gd.closest('.output');\n",
       "if (outputEl) {{\n",
       "    x.observe(outputEl, {childList: true});\n",
       "}}\n",
       "\n",
       "                        })                };                });            </script>        </div>"
      ]
     },
     "metadata": {},
     "output_type": "display_data"
    },
    {
     "data": {
      "application/vnd.plotly.v1+json": {
       "config": {
        "plotlyServerURL": "https://plot.ly"
       },
       "data": [
        {
         "alignmentgroup": "True",
         "hovertemplate": "Category=%{x}<br>Counts=%{text}<extra></extra>",
         "legendgroup": "",
         "marker": {
          "color": "#636efa",
          "pattern": {
           "shape": ""
          }
         },
         "name": "",
         "offsetgroup": "",
         "orientation": "v",
         "showlegend": false,
         "text": [
          60,
          35,
          1
         ],
         "textposition": "outside",
         "texttemplate": "%{text:.2s}",
         "type": "bar",
         "x": [
          "Large",
          "Small",
          "ExtraLarge"
         ],
         "xaxis": "x",
         "y": [
          60,
          35,
          1
         ],
         "yaxis": "y"
        }
       ],
       "layout": {
        "barmode": "relative",
        "height": 600,
        "legend": {
         "tracegroupgap": 0
        },
        "template": {
         "data": {
          "bar": [
           {
            "error_x": {
             "color": "#2a3f5f"
            },
            "error_y": {
             "color": "#2a3f5f"
            },
            "marker": {
             "line": {
              "color": "#E5ECF6",
              "width": 0.5
             },
             "pattern": {
              "fillmode": "overlay",
              "size": 10,
              "solidity": 0.2
             }
            },
            "type": "bar"
           }
          ],
          "barpolar": [
           {
            "marker": {
             "line": {
              "color": "#E5ECF6",
              "width": 0.5
             },
             "pattern": {
              "fillmode": "overlay",
              "size": 10,
              "solidity": 0.2
             }
            },
            "type": "barpolar"
           }
          ],
          "carpet": [
           {
            "aaxis": {
             "endlinecolor": "#2a3f5f",
             "gridcolor": "white",
             "linecolor": "white",
             "minorgridcolor": "white",
             "startlinecolor": "#2a3f5f"
            },
            "baxis": {
             "endlinecolor": "#2a3f5f",
             "gridcolor": "white",
             "linecolor": "white",
             "minorgridcolor": "white",
             "startlinecolor": "#2a3f5f"
            },
            "type": "carpet"
           }
          ],
          "choropleth": [
           {
            "colorbar": {
             "outlinewidth": 0,
             "ticks": ""
            },
            "type": "choropleth"
           }
          ],
          "contour": [
           {
            "colorbar": {
             "outlinewidth": 0,
             "ticks": ""
            },
            "colorscale": [
             [
              0,
              "#0d0887"
             ],
             [
              0.1111111111111111,
              "#46039f"
             ],
             [
              0.2222222222222222,
              "#7201a8"
             ],
             [
              0.3333333333333333,
              "#9c179e"
             ],
             [
              0.4444444444444444,
              "#bd3786"
             ],
             [
              0.5555555555555556,
              "#d8576b"
             ],
             [
              0.6666666666666666,
              "#ed7953"
             ],
             [
              0.7777777777777778,
              "#fb9f3a"
             ],
             [
              0.8888888888888888,
              "#fdca26"
             ],
             [
              1,
              "#f0f921"
             ]
            ],
            "type": "contour"
           }
          ],
          "contourcarpet": [
           {
            "colorbar": {
             "outlinewidth": 0,
             "ticks": ""
            },
            "type": "contourcarpet"
           }
          ],
          "heatmap": [
           {
            "colorbar": {
             "outlinewidth": 0,
             "ticks": ""
            },
            "colorscale": [
             [
              0,
              "#0d0887"
             ],
             [
              0.1111111111111111,
              "#46039f"
             ],
             [
              0.2222222222222222,
              "#7201a8"
             ],
             [
              0.3333333333333333,
              "#9c179e"
             ],
             [
              0.4444444444444444,
              "#bd3786"
             ],
             [
              0.5555555555555556,
              "#d8576b"
             ],
             [
              0.6666666666666666,
              "#ed7953"
             ],
             [
              0.7777777777777778,
              "#fb9f3a"
             ],
             [
              0.8888888888888888,
              "#fdca26"
             ],
             [
              1,
              "#f0f921"
             ]
            ],
            "type": "heatmap"
           }
          ],
          "heatmapgl": [
           {
            "colorbar": {
             "outlinewidth": 0,
             "ticks": ""
            },
            "colorscale": [
             [
              0,
              "#0d0887"
             ],
             [
              0.1111111111111111,
              "#46039f"
             ],
             [
              0.2222222222222222,
              "#7201a8"
             ],
             [
              0.3333333333333333,
              "#9c179e"
             ],
             [
              0.4444444444444444,
              "#bd3786"
             ],
             [
              0.5555555555555556,
              "#d8576b"
             ],
             [
              0.6666666666666666,
              "#ed7953"
             ],
             [
              0.7777777777777778,
              "#fb9f3a"
             ],
             [
              0.8888888888888888,
              "#fdca26"
             ],
             [
              1,
              "#f0f921"
             ]
            ],
            "type": "heatmapgl"
           }
          ],
          "histogram": [
           {
            "marker": {
             "pattern": {
              "fillmode": "overlay",
              "size": 10,
              "solidity": 0.2
             }
            },
            "type": "histogram"
           }
          ],
          "histogram2d": [
           {
            "colorbar": {
             "outlinewidth": 0,
             "ticks": ""
            },
            "colorscale": [
             [
              0,
              "#0d0887"
             ],
             [
              0.1111111111111111,
              "#46039f"
             ],
             [
              0.2222222222222222,
              "#7201a8"
             ],
             [
              0.3333333333333333,
              "#9c179e"
             ],
             [
              0.4444444444444444,
              "#bd3786"
             ],
             [
              0.5555555555555556,
              "#d8576b"
             ],
             [
              0.6666666666666666,
              "#ed7953"
             ],
             [
              0.7777777777777778,
              "#fb9f3a"
             ],
             [
              0.8888888888888888,
              "#fdca26"
             ],
             [
              1,
              "#f0f921"
             ]
            ],
            "type": "histogram2d"
           }
          ],
          "histogram2dcontour": [
           {
            "colorbar": {
             "outlinewidth": 0,
             "ticks": ""
            },
            "colorscale": [
             [
              0,
              "#0d0887"
             ],
             [
              0.1111111111111111,
              "#46039f"
             ],
             [
              0.2222222222222222,
              "#7201a8"
             ],
             [
              0.3333333333333333,
              "#9c179e"
             ],
             [
              0.4444444444444444,
              "#bd3786"
             ],
             [
              0.5555555555555556,
              "#d8576b"
             ],
             [
              0.6666666666666666,
              "#ed7953"
             ],
             [
              0.7777777777777778,
              "#fb9f3a"
             ],
             [
              0.8888888888888888,
              "#fdca26"
             ],
             [
              1,
              "#f0f921"
             ]
            ],
            "type": "histogram2dcontour"
           }
          ],
          "mesh3d": [
           {
            "colorbar": {
             "outlinewidth": 0,
             "ticks": ""
            },
            "type": "mesh3d"
           }
          ],
          "parcoords": [
           {
            "line": {
             "colorbar": {
              "outlinewidth": 0,
              "ticks": ""
             }
            },
            "type": "parcoords"
           }
          ],
          "pie": [
           {
            "automargin": true,
            "type": "pie"
           }
          ],
          "scatter": [
           {
            "fillpattern": {
             "fillmode": "overlay",
             "size": 10,
             "solidity": 0.2
            },
            "type": "scatter"
           }
          ],
          "scatter3d": [
           {
            "line": {
             "colorbar": {
              "outlinewidth": 0,
              "ticks": ""
             }
            },
            "marker": {
             "colorbar": {
              "outlinewidth": 0,
              "ticks": ""
             }
            },
            "type": "scatter3d"
           }
          ],
          "scattercarpet": [
           {
            "marker": {
             "colorbar": {
              "outlinewidth": 0,
              "ticks": ""
             }
            },
            "type": "scattercarpet"
           }
          ],
          "scattergeo": [
           {
            "marker": {
             "colorbar": {
              "outlinewidth": 0,
              "ticks": ""
             }
            },
            "type": "scattergeo"
           }
          ],
          "scattergl": [
           {
            "marker": {
             "colorbar": {
              "outlinewidth": 0,
              "ticks": ""
             }
            },
            "type": "scattergl"
           }
          ],
          "scattermapbox": [
           {
            "marker": {
             "colorbar": {
              "outlinewidth": 0,
              "ticks": ""
             }
            },
            "type": "scattermapbox"
           }
          ],
          "scatterpolar": [
           {
            "marker": {
             "colorbar": {
              "outlinewidth": 0,
              "ticks": ""
             }
            },
            "type": "scatterpolar"
           }
          ],
          "scatterpolargl": [
           {
            "marker": {
             "colorbar": {
              "outlinewidth": 0,
              "ticks": ""
             }
            },
            "type": "scatterpolargl"
           }
          ],
          "scatterternary": [
           {
            "marker": {
             "colorbar": {
              "outlinewidth": 0,
              "ticks": ""
             }
            },
            "type": "scatterternary"
           }
          ],
          "surface": [
           {
            "colorbar": {
             "outlinewidth": 0,
             "ticks": ""
            },
            "colorscale": [
             [
              0,
              "#0d0887"
             ],
             [
              0.1111111111111111,
              "#46039f"
             ],
             [
              0.2222222222222222,
              "#7201a8"
             ],
             [
              0.3333333333333333,
              "#9c179e"
             ],
             [
              0.4444444444444444,
              "#bd3786"
             ],
             [
              0.5555555555555556,
              "#d8576b"
             ],
             [
              0.6666666666666666,
              "#ed7953"
             ],
             [
              0.7777777777777778,
              "#fb9f3a"
             ],
             [
              0.8888888888888888,
              "#fdca26"
             ],
             [
              1,
              "#f0f921"
             ]
            ],
            "type": "surface"
           }
          ],
          "table": [
           {
            "cells": {
             "fill": {
              "color": "#EBF0F8"
             },
             "line": {
              "color": "white"
             }
            },
            "header": {
             "fill": {
              "color": "#C8D4E3"
             },
             "line": {
              "color": "white"
             }
            },
            "type": "table"
           }
          ]
         },
         "layout": {
          "annotationdefaults": {
           "arrowcolor": "#2a3f5f",
           "arrowhead": 0,
           "arrowwidth": 1
          },
          "autotypenumbers": "strict",
          "coloraxis": {
           "colorbar": {
            "outlinewidth": 0,
            "ticks": ""
           }
          },
          "colorscale": {
           "diverging": [
            [
             0,
             "#8e0152"
            ],
            [
             0.1,
             "#c51b7d"
            ],
            [
             0.2,
             "#de77ae"
            ],
            [
             0.3,
             "#f1b6da"
            ],
            [
             0.4,
             "#fde0ef"
            ],
            [
             0.5,
             "#f7f7f7"
            ],
            [
             0.6,
             "#e6f5d0"
            ],
            [
             0.7,
             "#b8e186"
            ],
            [
             0.8,
             "#7fbc41"
            ],
            [
             0.9,
             "#4d9221"
            ],
            [
             1,
             "#276419"
            ]
           ],
           "sequential": [
            [
             0,
             "#0d0887"
            ],
            [
             0.1111111111111111,
             "#46039f"
            ],
            [
             0.2222222222222222,
             "#7201a8"
            ],
            [
             0.3333333333333333,
             "#9c179e"
            ],
            [
             0.4444444444444444,
             "#bd3786"
            ],
            [
             0.5555555555555556,
             "#d8576b"
            ],
            [
             0.6666666666666666,
             "#ed7953"
            ],
            [
             0.7777777777777778,
             "#fb9f3a"
            ],
            [
             0.8888888888888888,
             "#fdca26"
            ],
            [
             1,
             "#f0f921"
            ]
           ],
           "sequentialminus": [
            [
             0,
             "#0d0887"
            ],
            [
             0.1111111111111111,
             "#46039f"
            ],
            [
             0.2222222222222222,
             "#7201a8"
            ],
            [
             0.3333333333333333,
             "#9c179e"
            ],
            [
             0.4444444444444444,
             "#bd3786"
            ],
            [
             0.5555555555555556,
             "#d8576b"
            ],
            [
             0.6666666666666666,
             "#ed7953"
            ],
            [
             0.7777777777777778,
             "#fb9f3a"
            ],
            [
             0.8888888888888888,
             "#fdca26"
            ],
            [
             1,
             "#f0f921"
            ]
           ]
          },
          "colorway": [
           "#636efa",
           "#EF553B",
           "#00cc96",
           "#ab63fa",
           "#FFA15A",
           "#19d3f3",
           "#FF6692",
           "#B6E880",
           "#FF97FF",
           "#FECB52"
          ],
          "font": {
           "color": "#2a3f5f"
          },
          "geo": {
           "bgcolor": "white",
           "lakecolor": "white",
           "landcolor": "#E5ECF6",
           "showlakes": true,
           "showland": true,
           "subunitcolor": "white"
          },
          "hoverlabel": {
           "align": "left"
          },
          "hovermode": "closest",
          "mapbox": {
           "style": "light"
          },
          "paper_bgcolor": "white",
          "plot_bgcolor": "#E5ECF6",
          "polar": {
           "angularaxis": {
            "gridcolor": "white",
            "linecolor": "white",
            "ticks": ""
           },
           "bgcolor": "#E5ECF6",
           "radialaxis": {
            "gridcolor": "white",
            "linecolor": "white",
            "ticks": ""
           }
          },
          "scene": {
           "xaxis": {
            "backgroundcolor": "#E5ECF6",
            "gridcolor": "white",
            "gridwidth": 2,
            "linecolor": "white",
            "showbackground": true,
            "ticks": "",
            "zerolinecolor": "white"
           },
           "yaxis": {
            "backgroundcolor": "#E5ECF6",
            "gridcolor": "white",
            "gridwidth": 2,
            "linecolor": "white",
            "showbackground": true,
            "ticks": "",
            "zerolinecolor": "white"
           },
           "zaxis": {
            "backgroundcolor": "#E5ECF6",
            "gridcolor": "white",
            "gridwidth": 2,
            "linecolor": "white",
            "showbackground": true,
            "ticks": "",
            "zerolinecolor": "white"
           }
          },
          "shapedefaults": {
           "line": {
            "color": "#2a3f5f"
           }
          },
          "ternary": {
           "aaxis": {
            "gridcolor": "white",
            "linecolor": "white",
            "ticks": ""
           },
           "baxis": {
            "gridcolor": "white",
            "linecolor": "white",
            "ticks": ""
           },
           "bgcolor": "#E5ECF6",
           "caxis": {
            "gridcolor": "white",
            "linecolor": "white",
            "ticks": ""
           }
          },
          "title": {
           "x": 0.05
          },
          "xaxis": {
           "automargin": true,
           "gridcolor": "white",
           "linecolor": "white",
           "ticks": "",
           "title": {
            "standoff": 15
           },
           "zerolinecolor": "white",
           "zerolinewidth": 2
          },
          "yaxis": {
           "automargin": true,
           "gridcolor": "white",
           "linecolor": "white",
           "ticks": "",
           "title": {
            "standoff": 15
           },
           "zerolinecolor": "white",
           "zerolinewidth": 2
          }
         }
        },
        "title": {
         "text": "Value Counts for Product Size",
         "x": 0.5,
         "xanchor": "center",
         "y": 0.9,
         "yanchor": "top"
        },
        "width": 1000,
        "xaxis": {
         "anchor": "y",
         "domain": [
          0,
          1
         ],
         "tickangle": -45,
         "title": {
          "text": "Product Size"
         }
        },
        "yaxis": {
         "anchor": "x",
         "domain": [
          0,
          1
         ],
         "title": {
          "text": "Counts"
         }
        }
       }
      },
      "text/html": [
       "<div>                            <div id=\"5b57b0d8-9f74-45aa-bf07-a02956bc510e\" class=\"plotly-graph-div\" style=\"height:600px; width:1000px;\"></div>            <script type=\"text/javascript\">                require([\"plotly\"], function(Plotly) {                    window.PLOTLYENV=window.PLOTLYENV || {};                                    if (document.getElementById(\"5b57b0d8-9f74-45aa-bf07-a02956bc510e\")) {                    Plotly.newPlot(                        \"5b57b0d8-9f74-45aa-bf07-a02956bc510e\",                        [{\"alignmentgroup\":\"True\",\"hovertemplate\":\"Category=%{x}\\u003cbr\\u003eCounts=%{text}\\u003cextra\\u003e\\u003c\\u002fextra\\u003e\",\"legendgroup\":\"\",\"marker\":{\"color\":\"#636efa\",\"pattern\":{\"shape\":\"\"}},\"name\":\"\",\"offsetgroup\":\"\",\"orientation\":\"v\",\"showlegend\":false,\"text\":[60.0,35.0,1.0],\"textposition\":\"outside\",\"x\":[\"Large\",\"Small\",\"ExtraLarge\"],\"xaxis\":\"x\",\"y\":[60,35,1],\"yaxis\":\"y\",\"type\":\"bar\",\"texttemplate\":\"%{text:.2s}\"}],                        {\"template\":{\"data\":{\"histogram2dcontour\":[{\"type\":\"histogram2dcontour\",\"colorbar\":{\"outlinewidth\":0,\"ticks\":\"\"},\"colorscale\":[[0.0,\"#0d0887\"],[0.1111111111111111,\"#46039f\"],[0.2222222222222222,\"#7201a8\"],[0.3333333333333333,\"#9c179e\"],[0.4444444444444444,\"#bd3786\"],[0.5555555555555556,\"#d8576b\"],[0.6666666666666666,\"#ed7953\"],[0.7777777777777778,\"#fb9f3a\"],[0.8888888888888888,\"#fdca26\"],[1.0,\"#f0f921\"]]}],\"choropleth\":[{\"type\":\"choropleth\",\"colorbar\":{\"outlinewidth\":0,\"ticks\":\"\"}}],\"histogram2d\":[{\"type\":\"histogram2d\",\"colorbar\":{\"outlinewidth\":0,\"ticks\":\"\"},\"colorscale\":[[0.0,\"#0d0887\"],[0.1111111111111111,\"#46039f\"],[0.2222222222222222,\"#7201a8\"],[0.3333333333333333,\"#9c179e\"],[0.4444444444444444,\"#bd3786\"],[0.5555555555555556,\"#d8576b\"],[0.6666666666666666,\"#ed7953\"],[0.7777777777777778,\"#fb9f3a\"],[0.8888888888888888,\"#fdca26\"],[1.0,\"#f0f921\"]]}],\"heatmap\":[{\"type\":\"heatmap\",\"colorbar\":{\"outlinewidth\":0,\"ticks\":\"\"},\"colorscale\":[[0.0,\"#0d0887\"],[0.1111111111111111,\"#46039f\"],[0.2222222222222222,\"#7201a8\"],[0.3333333333333333,\"#9c179e\"],[0.4444444444444444,\"#bd3786\"],[0.5555555555555556,\"#d8576b\"],[0.6666666666666666,\"#ed7953\"],[0.7777777777777778,\"#fb9f3a\"],[0.8888888888888888,\"#fdca26\"],[1.0,\"#f0f921\"]]}],\"heatmapgl\":[{\"type\":\"heatmapgl\",\"colorbar\":{\"outlinewidth\":0,\"ticks\":\"\"},\"colorscale\":[[0.0,\"#0d0887\"],[0.1111111111111111,\"#46039f\"],[0.2222222222222222,\"#7201a8\"],[0.3333333333333333,\"#9c179e\"],[0.4444444444444444,\"#bd3786\"],[0.5555555555555556,\"#d8576b\"],[0.6666666666666666,\"#ed7953\"],[0.7777777777777778,\"#fb9f3a\"],[0.8888888888888888,\"#fdca26\"],[1.0,\"#f0f921\"]]}],\"contourcarpet\":[{\"type\":\"contourcarpet\",\"colorbar\":{\"outlinewidth\":0,\"ticks\":\"\"}}],\"contour\":[{\"type\":\"contour\",\"colorbar\":{\"outlinewidth\":0,\"ticks\":\"\"},\"colorscale\":[[0.0,\"#0d0887\"],[0.1111111111111111,\"#46039f\"],[0.2222222222222222,\"#7201a8\"],[0.3333333333333333,\"#9c179e\"],[0.4444444444444444,\"#bd3786\"],[0.5555555555555556,\"#d8576b\"],[0.6666666666666666,\"#ed7953\"],[0.7777777777777778,\"#fb9f3a\"],[0.8888888888888888,\"#fdca26\"],[1.0,\"#f0f921\"]]}],\"surface\":[{\"type\":\"surface\",\"colorbar\":{\"outlinewidth\":0,\"ticks\":\"\"},\"colorscale\":[[0.0,\"#0d0887\"],[0.1111111111111111,\"#46039f\"],[0.2222222222222222,\"#7201a8\"],[0.3333333333333333,\"#9c179e\"],[0.4444444444444444,\"#bd3786\"],[0.5555555555555556,\"#d8576b\"],[0.6666666666666666,\"#ed7953\"],[0.7777777777777778,\"#fb9f3a\"],[0.8888888888888888,\"#fdca26\"],[1.0,\"#f0f921\"]]}],\"mesh3d\":[{\"type\":\"mesh3d\",\"colorbar\":{\"outlinewidth\":0,\"ticks\":\"\"}}],\"scatter\":[{\"fillpattern\":{\"fillmode\":\"overlay\",\"size\":10,\"solidity\":0.2},\"type\":\"scatter\"}],\"parcoords\":[{\"type\":\"parcoords\",\"line\":{\"colorbar\":{\"outlinewidth\":0,\"ticks\":\"\"}}}],\"scatterpolargl\":[{\"type\":\"scatterpolargl\",\"marker\":{\"colorbar\":{\"outlinewidth\":0,\"ticks\":\"\"}}}],\"bar\":[{\"error_x\":{\"color\":\"#2a3f5f\"},\"error_y\":{\"color\":\"#2a3f5f\"},\"marker\":{\"line\":{\"color\":\"#E5ECF6\",\"width\":0.5},\"pattern\":{\"fillmode\":\"overlay\",\"size\":10,\"solidity\":0.2}},\"type\":\"bar\"}],\"scattergeo\":[{\"type\":\"scattergeo\",\"marker\":{\"colorbar\":{\"outlinewidth\":0,\"ticks\":\"\"}}}],\"scatterpolar\":[{\"type\":\"scatterpolar\",\"marker\":{\"colorbar\":{\"outlinewidth\":0,\"ticks\":\"\"}}}],\"histogram\":[{\"marker\":{\"pattern\":{\"fillmode\":\"overlay\",\"size\":10,\"solidity\":0.2}},\"type\":\"histogram\"}],\"scattergl\":[{\"type\":\"scattergl\",\"marker\":{\"colorbar\":{\"outlinewidth\":0,\"ticks\":\"\"}}}],\"scatter3d\":[{\"type\":\"scatter3d\",\"line\":{\"colorbar\":{\"outlinewidth\":0,\"ticks\":\"\"}},\"marker\":{\"colorbar\":{\"outlinewidth\":0,\"ticks\":\"\"}}}],\"scattermapbox\":[{\"type\":\"scattermapbox\",\"marker\":{\"colorbar\":{\"outlinewidth\":0,\"ticks\":\"\"}}}],\"scatterternary\":[{\"type\":\"scatterternary\",\"marker\":{\"colorbar\":{\"outlinewidth\":0,\"ticks\":\"\"}}}],\"scattercarpet\":[{\"type\":\"scattercarpet\",\"marker\":{\"colorbar\":{\"outlinewidth\":0,\"ticks\":\"\"}}}],\"carpet\":[{\"aaxis\":{\"endlinecolor\":\"#2a3f5f\",\"gridcolor\":\"white\",\"linecolor\":\"white\",\"minorgridcolor\":\"white\",\"startlinecolor\":\"#2a3f5f\"},\"baxis\":{\"endlinecolor\":\"#2a3f5f\",\"gridcolor\":\"white\",\"linecolor\":\"white\",\"minorgridcolor\":\"white\",\"startlinecolor\":\"#2a3f5f\"},\"type\":\"carpet\"}],\"table\":[{\"cells\":{\"fill\":{\"color\":\"#EBF0F8\"},\"line\":{\"color\":\"white\"}},\"header\":{\"fill\":{\"color\":\"#C8D4E3\"},\"line\":{\"color\":\"white\"}},\"type\":\"table\"}],\"barpolar\":[{\"marker\":{\"line\":{\"color\":\"#E5ECF6\",\"width\":0.5},\"pattern\":{\"fillmode\":\"overlay\",\"size\":10,\"solidity\":0.2}},\"type\":\"barpolar\"}],\"pie\":[{\"automargin\":true,\"type\":\"pie\"}]},\"layout\":{\"autotypenumbers\":\"strict\",\"colorway\":[\"#636efa\",\"#EF553B\",\"#00cc96\",\"#ab63fa\",\"#FFA15A\",\"#19d3f3\",\"#FF6692\",\"#B6E880\",\"#FF97FF\",\"#FECB52\"],\"font\":{\"color\":\"#2a3f5f\"},\"hovermode\":\"closest\",\"hoverlabel\":{\"align\":\"left\"},\"paper_bgcolor\":\"white\",\"plot_bgcolor\":\"#E5ECF6\",\"polar\":{\"bgcolor\":\"#E5ECF6\",\"angularaxis\":{\"gridcolor\":\"white\",\"linecolor\":\"white\",\"ticks\":\"\"},\"radialaxis\":{\"gridcolor\":\"white\",\"linecolor\":\"white\",\"ticks\":\"\"}},\"ternary\":{\"bgcolor\":\"#E5ECF6\",\"aaxis\":{\"gridcolor\":\"white\",\"linecolor\":\"white\",\"ticks\":\"\"},\"baxis\":{\"gridcolor\":\"white\",\"linecolor\":\"white\",\"ticks\":\"\"},\"caxis\":{\"gridcolor\":\"white\",\"linecolor\":\"white\",\"ticks\":\"\"}},\"coloraxis\":{\"colorbar\":{\"outlinewidth\":0,\"ticks\":\"\"}},\"colorscale\":{\"sequential\":[[0.0,\"#0d0887\"],[0.1111111111111111,\"#46039f\"],[0.2222222222222222,\"#7201a8\"],[0.3333333333333333,\"#9c179e\"],[0.4444444444444444,\"#bd3786\"],[0.5555555555555556,\"#d8576b\"],[0.6666666666666666,\"#ed7953\"],[0.7777777777777778,\"#fb9f3a\"],[0.8888888888888888,\"#fdca26\"],[1.0,\"#f0f921\"]],\"sequentialminus\":[[0.0,\"#0d0887\"],[0.1111111111111111,\"#46039f\"],[0.2222222222222222,\"#7201a8\"],[0.3333333333333333,\"#9c179e\"],[0.4444444444444444,\"#bd3786\"],[0.5555555555555556,\"#d8576b\"],[0.6666666666666666,\"#ed7953\"],[0.7777777777777778,\"#fb9f3a\"],[0.8888888888888888,\"#fdca26\"],[1.0,\"#f0f921\"]],\"diverging\":[[0,\"#8e0152\"],[0.1,\"#c51b7d\"],[0.2,\"#de77ae\"],[0.3,\"#f1b6da\"],[0.4,\"#fde0ef\"],[0.5,\"#f7f7f7\"],[0.6,\"#e6f5d0\"],[0.7,\"#b8e186\"],[0.8,\"#7fbc41\"],[0.9,\"#4d9221\"],[1,\"#276419\"]]},\"xaxis\":{\"gridcolor\":\"white\",\"linecolor\":\"white\",\"ticks\":\"\",\"title\":{\"standoff\":15},\"zerolinecolor\":\"white\",\"automargin\":true,\"zerolinewidth\":2},\"yaxis\":{\"gridcolor\":\"white\",\"linecolor\":\"white\",\"ticks\":\"\",\"title\":{\"standoff\":15},\"zerolinecolor\":\"white\",\"automargin\":true,\"zerolinewidth\":2},\"scene\":{\"xaxis\":{\"backgroundcolor\":\"#E5ECF6\",\"gridcolor\":\"white\",\"linecolor\":\"white\",\"showbackground\":true,\"ticks\":\"\",\"zerolinecolor\":\"white\",\"gridwidth\":2},\"yaxis\":{\"backgroundcolor\":\"#E5ECF6\",\"gridcolor\":\"white\",\"linecolor\":\"white\",\"showbackground\":true,\"ticks\":\"\",\"zerolinecolor\":\"white\",\"gridwidth\":2},\"zaxis\":{\"backgroundcolor\":\"#E5ECF6\",\"gridcolor\":\"white\",\"linecolor\":\"white\",\"showbackground\":true,\"ticks\":\"\",\"zerolinecolor\":\"white\",\"gridwidth\":2}},\"shapedefaults\":{\"line\":{\"color\":\"#2a3f5f\"}},\"annotationdefaults\":{\"arrowcolor\":\"#2a3f5f\",\"arrowhead\":0,\"arrowwidth\":1},\"geo\":{\"bgcolor\":\"white\",\"landcolor\":\"#E5ECF6\",\"subunitcolor\":\"white\",\"showland\":true,\"showlakes\":true,\"lakecolor\":\"white\"},\"title\":{\"x\":0.05},\"mapbox\":{\"style\":\"light\"}}},\"xaxis\":{\"anchor\":\"y\",\"domain\":[0.0,1.0],\"title\":{\"text\":\"Product Size\"},\"tickangle\":-45},\"yaxis\":{\"anchor\":\"x\",\"domain\":[0.0,1.0],\"title\":{\"text\":\"Counts\"}},\"legend\":{\"tracegroupgap\":0},\"title\":{\"text\":\"Value Counts for Product Size\",\"y\":0.9,\"x\":0.5,\"xanchor\":\"center\",\"yanchor\":\"top\"},\"barmode\":\"relative\",\"height\":600,\"width\":1000},                        {\"responsive\": true}                    ).then(function(){\n",
       "                            \n",
       "var gd = document.getElementById('5b57b0d8-9f74-45aa-bf07-a02956bc510e');\n",
       "var x = new MutationObserver(function (mutations, observer) {{\n",
       "        var display = window.getComputedStyle(gd).display;\n",
       "        if (!display || display === 'none') {{\n",
       "            console.log([gd, 'removed!']);\n",
       "            Plotly.purge(gd);\n",
       "            observer.disconnect();\n",
       "        }}\n",
       "}});\n",
       "\n",
       "// Listen for the removal of the full notebook cells\n",
       "var notebookContainer = gd.closest('#notebook-container');\n",
       "if (notebookContainer) {{\n",
       "    x.observe(notebookContainer, {childList: true});\n",
       "}}\n",
       "\n",
       "// Listen for the clearing of the current output cell\n",
       "var outputEl = gd.closest('.output');\n",
       "if (outputEl) {{\n",
       "    x.observe(outputEl, {childList: true});\n",
       "}}\n",
       "\n",
       "                        })                };                });            </script>        </div>"
      ]
     },
     "metadata": {},
     "output_type": "display_data"
    },
    {
     "data": {
      "application/vnd.plotly.v1+json": {
       "config": {
        "plotlyServerURL": "https://plot.ly"
       },
       "data": [
        {
         "alignmentgroup": "True",
         "hovertemplate": "Category=%{x}<br>Counts=%{text}<extra></extra>",
         "legendgroup": "",
         "marker": {
          "color": "#636efa",
          "pattern": {
           "shape": ""
          }
         },
         "name": "",
         "offsetgroup": "",
         "orientation": "v",
         "showlegend": false,
         "text": [
          78,
          18
         ],
         "textposition": "outside",
         "texttemplate": "%{text:.2s}",
         "type": "bar",
         "x": [
          "Powder",
          "Liquid"
         ],
         "xaxis": "x",
         "y": [
          78,
          18
         ],
         "yaxis": "y"
        }
       ],
       "layout": {
        "barmode": "relative",
        "height": 600,
        "legend": {
         "tracegroupgap": 0
        },
        "template": {
         "data": {
          "bar": [
           {
            "error_x": {
             "color": "#2a3f5f"
            },
            "error_y": {
             "color": "#2a3f5f"
            },
            "marker": {
             "line": {
              "color": "#E5ECF6",
              "width": 0.5
             },
             "pattern": {
              "fillmode": "overlay",
              "size": 10,
              "solidity": 0.2
             }
            },
            "type": "bar"
           }
          ],
          "barpolar": [
           {
            "marker": {
             "line": {
              "color": "#E5ECF6",
              "width": 0.5
             },
             "pattern": {
              "fillmode": "overlay",
              "size": 10,
              "solidity": 0.2
             }
            },
            "type": "barpolar"
           }
          ],
          "carpet": [
           {
            "aaxis": {
             "endlinecolor": "#2a3f5f",
             "gridcolor": "white",
             "linecolor": "white",
             "minorgridcolor": "white",
             "startlinecolor": "#2a3f5f"
            },
            "baxis": {
             "endlinecolor": "#2a3f5f",
             "gridcolor": "white",
             "linecolor": "white",
             "minorgridcolor": "white",
             "startlinecolor": "#2a3f5f"
            },
            "type": "carpet"
           }
          ],
          "choropleth": [
           {
            "colorbar": {
             "outlinewidth": 0,
             "ticks": ""
            },
            "type": "choropleth"
           }
          ],
          "contour": [
           {
            "colorbar": {
             "outlinewidth": 0,
             "ticks": ""
            },
            "colorscale": [
             [
              0,
              "#0d0887"
             ],
             [
              0.1111111111111111,
              "#46039f"
             ],
             [
              0.2222222222222222,
              "#7201a8"
             ],
             [
              0.3333333333333333,
              "#9c179e"
             ],
             [
              0.4444444444444444,
              "#bd3786"
             ],
             [
              0.5555555555555556,
              "#d8576b"
             ],
             [
              0.6666666666666666,
              "#ed7953"
             ],
             [
              0.7777777777777778,
              "#fb9f3a"
             ],
             [
              0.8888888888888888,
              "#fdca26"
             ],
             [
              1,
              "#f0f921"
             ]
            ],
            "type": "contour"
           }
          ],
          "contourcarpet": [
           {
            "colorbar": {
             "outlinewidth": 0,
             "ticks": ""
            },
            "type": "contourcarpet"
           }
          ],
          "heatmap": [
           {
            "colorbar": {
             "outlinewidth": 0,
             "ticks": ""
            },
            "colorscale": [
             [
              0,
              "#0d0887"
             ],
             [
              0.1111111111111111,
              "#46039f"
             ],
             [
              0.2222222222222222,
              "#7201a8"
             ],
             [
              0.3333333333333333,
              "#9c179e"
             ],
             [
              0.4444444444444444,
              "#bd3786"
             ],
             [
              0.5555555555555556,
              "#d8576b"
             ],
             [
              0.6666666666666666,
              "#ed7953"
             ],
             [
              0.7777777777777778,
              "#fb9f3a"
             ],
             [
              0.8888888888888888,
              "#fdca26"
             ],
             [
              1,
              "#f0f921"
             ]
            ],
            "type": "heatmap"
           }
          ],
          "heatmapgl": [
           {
            "colorbar": {
             "outlinewidth": 0,
             "ticks": ""
            },
            "colorscale": [
             [
              0,
              "#0d0887"
             ],
             [
              0.1111111111111111,
              "#46039f"
             ],
             [
              0.2222222222222222,
              "#7201a8"
             ],
             [
              0.3333333333333333,
              "#9c179e"
             ],
             [
              0.4444444444444444,
              "#bd3786"
             ],
             [
              0.5555555555555556,
              "#d8576b"
             ],
             [
              0.6666666666666666,
              "#ed7953"
             ],
             [
              0.7777777777777778,
              "#fb9f3a"
             ],
             [
              0.8888888888888888,
              "#fdca26"
             ],
             [
              1,
              "#f0f921"
             ]
            ],
            "type": "heatmapgl"
           }
          ],
          "histogram": [
           {
            "marker": {
             "pattern": {
              "fillmode": "overlay",
              "size": 10,
              "solidity": 0.2
             }
            },
            "type": "histogram"
           }
          ],
          "histogram2d": [
           {
            "colorbar": {
             "outlinewidth": 0,
             "ticks": ""
            },
            "colorscale": [
             [
              0,
              "#0d0887"
             ],
             [
              0.1111111111111111,
              "#46039f"
             ],
             [
              0.2222222222222222,
              "#7201a8"
             ],
             [
              0.3333333333333333,
              "#9c179e"
             ],
             [
              0.4444444444444444,
              "#bd3786"
             ],
             [
              0.5555555555555556,
              "#d8576b"
             ],
             [
              0.6666666666666666,
              "#ed7953"
             ],
             [
              0.7777777777777778,
              "#fb9f3a"
             ],
             [
              0.8888888888888888,
              "#fdca26"
             ],
             [
              1,
              "#f0f921"
             ]
            ],
            "type": "histogram2d"
           }
          ],
          "histogram2dcontour": [
           {
            "colorbar": {
             "outlinewidth": 0,
             "ticks": ""
            },
            "colorscale": [
             [
              0,
              "#0d0887"
             ],
             [
              0.1111111111111111,
              "#46039f"
             ],
             [
              0.2222222222222222,
              "#7201a8"
             ],
             [
              0.3333333333333333,
              "#9c179e"
             ],
             [
              0.4444444444444444,
              "#bd3786"
             ],
             [
              0.5555555555555556,
              "#d8576b"
             ],
             [
              0.6666666666666666,
              "#ed7953"
             ],
             [
              0.7777777777777778,
              "#fb9f3a"
             ],
             [
              0.8888888888888888,
              "#fdca26"
             ],
             [
              1,
              "#f0f921"
             ]
            ],
            "type": "histogram2dcontour"
           }
          ],
          "mesh3d": [
           {
            "colorbar": {
             "outlinewidth": 0,
             "ticks": ""
            },
            "type": "mesh3d"
           }
          ],
          "parcoords": [
           {
            "line": {
             "colorbar": {
              "outlinewidth": 0,
              "ticks": ""
             }
            },
            "type": "parcoords"
           }
          ],
          "pie": [
           {
            "automargin": true,
            "type": "pie"
           }
          ],
          "scatter": [
           {
            "fillpattern": {
             "fillmode": "overlay",
             "size": 10,
             "solidity": 0.2
            },
            "type": "scatter"
           }
          ],
          "scatter3d": [
           {
            "line": {
             "colorbar": {
              "outlinewidth": 0,
              "ticks": ""
             }
            },
            "marker": {
             "colorbar": {
              "outlinewidth": 0,
              "ticks": ""
             }
            },
            "type": "scatter3d"
           }
          ],
          "scattercarpet": [
           {
            "marker": {
             "colorbar": {
              "outlinewidth": 0,
              "ticks": ""
             }
            },
            "type": "scattercarpet"
           }
          ],
          "scattergeo": [
           {
            "marker": {
             "colorbar": {
              "outlinewidth": 0,
              "ticks": ""
             }
            },
            "type": "scattergeo"
           }
          ],
          "scattergl": [
           {
            "marker": {
             "colorbar": {
              "outlinewidth": 0,
              "ticks": ""
             }
            },
            "type": "scattergl"
           }
          ],
          "scattermapbox": [
           {
            "marker": {
             "colorbar": {
              "outlinewidth": 0,
              "ticks": ""
             }
            },
            "type": "scattermapbox"
           }
          ],
          "scatterpolar": [
           {
            "marker": {
             "colorbar": {
              "outlinewidth": 0,
              "ticks": ""
             }
            },
            "type": "scatterpolar"
           }
          ],
          "scatterpolargl": [
           {
            "marker": {
             "colorbar": {
              "outlinewidth": 0,
              "ticks": ""
             }
            },
            "type": "scatterpolargl"
           }
          ],
          "scatterternary": [
           {
            "marker": {
             "colorbar": {
              "outlinewidth": 0,
              "ticks": ""
             }
            },
            "type": "scatterternary"
           }
          ],
          "surface": [
           {
            "colorbar": {
             "outlinewidth": 0,
             "ticks": ""
            },
            "colorscale": [
             [
              0,
              "#0d0887"
             ],
             [
              0.1111111111111111,
              "#46039f"
             ],
             [
              0.2222222222222222,
              "#7201a8"
             ],
             [
              0.3333333333333333,
              "#9c179e"
             ],
             [
              0.4444444444444444,
              "#bd3786"
             ],
             [
              0.5555555555555556,
              "#d8576b"
             ],
             [
              0.6666666666666666,
              "#ed7953"
             ],
             [
              0.7777777777777778,
              "#fb9f3a"
             ],
             [
              0.8888888888888888,
              "#fdca26"
             ],
             [
              1,
              "#f0f921"
             ]
            ],
            "type": "surface"
           }
          ],
          "table": [
           {
            "cells": {
             "fill": {
              "color": "#EBF0F8"
             },
             "line": {
              "color": "white"
             }
            },
            "header": {
             "fill": {
              "color": "#C8D4E3"
             },
             "line": {
              "color": "white"
             }
            },
            "type": "table"
           }
          ]
         },
         "layout": {
          "annotationdefaults": {
           "arrowcolor": "#2a3f5f",
           "arrowhead": 0,
           "arrowwidth": 1
          },
          "autotypenumbers": "strict",
          "coloraxis": {
           "colorbar": {
            "outlinewidth": 0,
            "ticks": ""
           }
          },
          "colorscale": {
           "diverging": [
            [
             0,
             "#8e0152"
            ],
            [
             0.1,
             "#c51b7d"
            ],
            [
             0.2,
             "#de77ae"
            ],
            [
             0.3,
             "#f1b6da"
            ],
            [
             0.4,
             "#fde0ef"
            ],
            [
             0.5,
             "#f7f7f7"
            ],
            [
             0.6,
             "#e6f5d0"
            ],
            [
             0.7,
             "#b8e186"
            ],
            [
             0.8,
             "#7fbc41"
            ],
            [
             0.9,
             "#4d9221"
            ],
            [
             1,
             "#276419"
            ]
           ],
           "sequential": [
            [
             0,
             "#0d0887"
            ],
            [
             0.1111111111111111,
             "#46039f"
            ],
            [
             0.2222222222222222,
             "#7201a8"
            ],
            [
             0.3333333333333333,
             "#9c179e"
            ],
            [
             0.4444444444444444,
             "#bd3786"
            ],
            [
             0.5555555555555556,
             "#d8576b"
            ],
            [
             0.6666666666666666,
             "#ed7953"
            ],
            [
             0.7777777777777778,
             "#fb9f3a"
            ],
            [
             0.8888888888888888,
             "#fdca26"
            ],
            [
             1,
             "#f0f921"
            ]
           ],
           "sequentialminus": [
            [
             0,
             "#0d0887"
            ],
            [
             0.1111111111111111,
             "#46039f"
            ],
            [
             0.2222222222222222,
             "#7201a8"
            ],
            [
             0.3333333333333333,
             "#9c179e"
            ],
            [
             0.4444444444444444,
             "#bd3786"
            ],
            [
             0.5555555555555556,
             "#d8576b"
            ],
            [
             0.6666666666666666,
             "#ed7953"
            ],
            [
             0.7777777777777778,
             "#fb9f3a"
            ],
            [
             0.8888888888888888,
             "#fdca26"
            ],
            [
             1,
             "#f0f921"
            ]
           ]
          },
          "colorway": [
           "#636efa",
           "#EF553B",
           "#00cc96",
           "#ab63fa",
           "#FFA15A",
           "#19d3f3",
           "#FF6692",
           "#B6E880",
           "#FF97FF",
           "#FECB52"
          ],
          "font": {
           "color": "#2a3f5f"
          },
          "geo": {
           "bgcolor": "white",
           "lakecolor": "white",
           "landcolor": "#E5ECF6",
           "showlakes": true,
           "showland": true,
           "subunitcolor": "white"
          },
          "hoverlabel": {
           "align": "left"
          },
          "hovermode": "closest",
          "mapbox": {
           "style": "light"
          },
          "paper_bgcolor": "white",
          "plot_bgcolor": "#E5ECF6",
          "polar": {
           "angularaxis": {
            "gridcolor": "white",
            "linecolor": "white",
            "ticks": ""
           },
           "bgcolor": "#E5ECF6",
           "radialaxis": {
            "gridcolor": "white",
            "linecolor": "white",
            "ticks": ""
           }
          },
          "scene": {
           "xaxis": {
            "backgroundcolor": "#E5ECF6",
            "gridcolor": "white",
            "gridwidth": 2,
            "linecolor": "white",
            "showbackground": true,
            "ticks": "",
            "zerolinecolor": "white"
           },
           "yaxis": {
            "backgroundcolor": "#E5ECF6",
            "gridcolor": "white",
            "gridwidth": 2,
            "linecolor": "white",
            "showbackground": true,
            "ticks": "",
            "zerolinecolor": "white"
           },
           "zaxis": {
            "backgroundcolor": "#E5ECF6",
            "gridcolor": "white",
            "gridwidth": 2,
            "linecolor": "white",
            "showbackground": true,
            "ticks": "",
            "zerolinecolor": "white"
           }
          },
          "shapedefaults": {
           "line": {
            "color": "#2a3f5f"
           }
          },
          "ternary": {
           "aaxis": {
            "gridcolor": "white",
            "linecolor": "white",
            "ticks": ""
           },
           "baxis": {
            "gridcolor": "white",
            "linecolor": "white",
            "ticks": ""
           },
           "bgcolor": "#E5ECF6",
           "caxis": {
            "gridcolor": "white",
            "linecolor": "white",
            "ticks": ""
           }
          },
          "title": {
           "x": 0.05
          },
          "xaxis": {
           "automargin": true,
           "gridcolor": "white",
           "linecolor": "white",
           "ticks": "",
           "title": {
            "standoff": 15
           },
           "zerolinecolor": "white",
           "zerolinewidth": 2
          },
          "yaxis": {
           "automargin": true,
           "gridcolor": "white",
           "linecolor": "white",
           "ticks": "",
           "title": {
            "standoff": 15
           },
           "zerolinecolor": "white",
           "zerolinewidth": 2
          }
         }
        },
        "title": {
         "text": "Value Counts for Product Type",
         "x": 0.5,
         "xanchor": "center",
         "y": 0.9,
         "yanchor": "top"
        },
        "width": 1000,
        "xaxis": {
         "anchor": "y",
         "domain": [
          0,
          1
         ],
         "tickangle": -45,
         "title": {
          "text": "Product Type"
         }
        },
        "yaxis": {
         "anchor": "x",
         "domain": [
          0,
          1
         ],
         "title": {
          "text": "Counts"
         }
        }
       }
      },
      "text/html": [
       "<div>                            <div id=\"c0742718-ba56-457e-9bd0-dee06f2537c3\" class=\"plotly-graph-div\" style=\"height:600px; width:1000px;\"></div>            <script type=\"text/javascript\">                require([\"plotly\"], function(Plotly) {                    window.PLOTLYENV=window.PLOTLYENV || {};                                    if (document.getElementById(\"c0742718-ba56-457e-9bd0-dee06f2537c3\")) {                    Plotly.newPlot(                        \"c0742718-ba56-457e-9bd0-dee06f2537c3\",                        [{\"alignmentgroup\":\"True\",\"hovertemplate\":\"Category=%{x}\\u003cbr\\u003eCounts=%{text}\\u003cextra\\u003e\\u003c\\u002fextra\\u003e\",\"legendgroup\":\"\",\"marker\":{\"color\":\"#636efa\",\"pattern\":{\"shape\":\"\"}},\"name\":\"\",\"offsetgroup\":\"\",\"orientation\":\"v\",\"showlegend\":false,\"text\":[78.0,18.0],\"textposition\":\"outside\",\"x\":[\"Powder\",\"Liquid\"],\"xaxis\":\"x\",\"y\":[78,18],\"yaxis\":\"y\",\"type\":\"bar\",\"texttemplate\":\"%{text:.2s}\"}],                        {\"template\":{\"data\":{\"histogram2dcontour\":[{\"type\":\"histogram2dcontour\",\"colorbar\":{\"outlinewidth\":0,\"ticks\":\"\"},\"colorscale\":[[0.0,\"#0d0887\"],[0.1111111111111111,\"#46039f\"],[0.2222222222222222,\"#7201a8\"],[0.3333333333333333,\"#9c179e\"],[0.4444444444444444,\"#bd3786\"],[0.5555555555555556,\"#d8576b\"],[0.6666666666666666,\"#ed7953\"],[0.7777777777777778,\"#fb9f3a\"],[0.8888888888888888,\"#fdca26\"],[1.0,\"#f0f921\"]]}],\"choropleth\":[{\"type\":\"choropleth\",\"colorbar\":{\"outlinewidth\":0,\"ticks\":\"\"}}],\"histogram2d\":[{\"type\":\"histogram2d\",\"colorbar\":{\"outlinewidth\":0,\"ticks\":\"\"},\"colorscale\":[[0.0,\"#0d0887\"],[0.1111111111111111,\"#46039f\"],[0.2222222222222222,\"#7201a8\"],[0.3333333333333333,\"#9c179e\"],[0.4444444444444444,\"#bd3786\"],[0.5555555555555556,\"#d8576b\"],[0.6666666666666666,\"#ed7953\"],[0.7777777777777778,\"#fb9f3a\"],[0.8888888888888888,\"#fdca26\"],[1.0,\"#f0f921\"]]}],\"heatmap\":[{\"type\":\"heatmap\",\"colorbar\":{\"outlinewidth\":0,\"ticks\":\"\"},\"colorscale\":[[0.0,\"#0d0887\"],[0.1111111111111111,\"#46039f\"],[0.2222222222222222,\"#7201a8\"],[0.3333333333333333,\"#9c179e\"],[0.4444444444444444,\"#bd3786\"],[0.5555555555555556,\"#d8576b\"],[0.6666666666666666,\"#ed7953\"],[0.7777777777777778,\"#fb9f3a\"],[0.8888888888888888,\"#fdca26\"],[1.0,\"#f0f921\"]]}],\"heatmapgl\":[{\"type\":\"heatmapgl\",\"colorbar\":{\"outlinewidth\":0,\"ticks\":\"\"},\"colorscale\":[[0.0,\"#0d0887\"],[0.1111111111111111,\"#46039f\"],[0.2222222222222222,\"#7201a8\"],[0.3333333333333333,\"#9c179e\"],[0.4444444444444444,\"#bd3786\"],[0.5555555555555556,\"#d8576b\"],[0.6666666666666666,\"#ed7953\"],[0.7777777777777778,\"#fb9f3a\"],[0.8888888888888888,\"#fdca26\"],[1.0,\"#f0f921\"]]}],\"contourcarpet\":[{\"type\":\"contourcarpet\",\"colorbar\":{\"outlinewidth\":0,\"ticks\":\"\"}}],\"contour\":[{\"type\":\"contour\",\"colorbar\":{\"outlinewidth\":0,\"ticks\":\"\"},\"colorscale\":[[0.0,\"#0d0887\"],[0.1111111111111111,\"#46039f\"],[0.2222222222222222,\"#7201a8\"],[0.3333333333333333,\"#9c179e\"],[0.4444444444444444,\"#bd3786\"],[0.5555555555555556,\"#d8576b\"],[0.6666666666666666,\"#ed7953\"],[0.7777777777777778,\"#fb9f3a\"],[0.8888888888888888,\"#fdca26\"],[1.0,\"#f0f921\"]]}],\"surface\":[{\"type\":\"surface\",\"colorbar\":{\"outlinewidth\":0,\"ticks\":\"\"},\"colorscale\":[[0.0,\"#0d0887\"],[0.1111111111111111,\"#46039f\"],[0.2222222222222222,\"#7201a8\"],[0.3333333333333333,\"#9c179e\"],[0.4444444444444444,\"#bd3786\"],[0.5555555555555556,\"#d8576b\"],[0.6666666666666666,\"#ed7953\"],[0.7777777777777778,\"#fb9f3a\"],[0.8888888888888888,\"#fdca26\"],[1.0,\"#f0f921\"]]}],\"mesh3d\":[{\"type\":\"mesh3d\",\"colorbar\":{\"outlinewidth\":0,\"ticks\":\"\"}}],\"scatter\":[{\"fillpattern\":{\"fillmode\":\"overlay\",\"size\":10,\"solidity\":0.2},\"type\":\"scatter\"}],\"parcoords\":[{\"type\":\"parcoords\",\"line\":{\"colorbar\":{\"outlinewidth\":0,\"ticks\":\"\"}}}],\"scatterpolargl\":[{\"type\":\"scatterpolargl\",\"marker\":{\"colorbar\":{\"outlinewidth\":0,\"ticks\":\"\"}}}],\"bar\":[{\"error_x\":{\"color\":\"#2a3f5f\"},\"error_y\":{\"color\":\"#2a3f5f\"},\"marker\":{\"line\":{\"color\":\"#E5ECF6\",\"width\":0.5},\"pattern\":{\"fillmode\":\"overlay\",\"size\":10,\"solidity\":0.2}},\"type\":\"bar\"}],\"scattergeo\":[{\"type\":\"scattergeo\",\"marker\":{\"colorbar\":{\"outlinewidth\":0,\"ticks\":\"\"}}}],\"scatterpolar\":[{\"type\":\"scatterpolar\",\"marker\":{\"colorbar\":{\"outlinewidth\":0,\"ticks\":\"\"}}}],\"histogram\":[{\"marker\":{\"pattern\":{\"fillmode\":\"overlay\",\"size\":10,\"solidity\":0.2}},\"type\":\"histogram\"}],\"scattergl\":[{\"type\":\"scattergl\",\"marker\":{\"colorbar\":{\"outlinewidth\":0,\"ticks\":\"\"}}}],\"scatter3d\":[{\"type\":\"scatter3d\",\"line\":{\"colorbar\":{\"outlinewidth\":0,\"ticks\":\"\"}},\"marker\":{\"colorbar\":{\"outlinewidth\":0,\"ticks\":\"\"}}}],\"scattermapbox\":[{\"type\":\"scattermapbox\",\"marker\":{\"colorbar\":{\"outlinewidth\":0,\"ticks\":\"\"}}}],\"scatterternary\":[{\"type\":\"scatterternary\",\"marker\":{\"colorbar\":{\"outlinewidth\":0,\"ticks\":\"\"}}}],\"scattercarpet\":[{\"type\":\"scattercarpet\",\"marker\":{\"colorbar\":{\"outlinewidth\":0,\"ticks\":\"\"}}}],\"carpet\":[{\"aaxis\":{\"endlinecolor\":\"#2a3f5f\",\"gridcolor\":\"white\",\"linecolor\":\"white\",\"minorgridcolor\":\"white\",\"startlinecolor\":\"#2a3f5f\"},\"baxis\":{\"endlinecolor\":\"#2a3f5f\",\"gridcolor\":\"white\",\"linecolor\":\"white\",\"minorgridcolor\":\"white\",\"startlinecolor\":\"#2a3f5f\"},\"type\":\"carpet\"}],\"table\":[{\"cells\":{\"fill\":{\"color\":\"#EBF0F8\"},\"line\":{\"color\":\"white\"}},\"header\":{\"fill\":{\"color\":\"#C8D4E3\"},\"line\":{\"color\":\"white\"}},\"type\":\"table\"}],\"barpolar\":[{\"marker\":{\"line\":{\"color\":\"#E5ECF6\",\"width\":0.5},\"pattern\":{\"fillmode\":\"overlay\",\"size\":10,\"solidity\":0.2}},\"type\":\"barpolar\"}],\"pie\":[{\"automargin\":true,\"type\":\"pie\"}]},\"layout\":{\"autotypenumbers\":\"strict\",\"colorway\":[\"#636efa\",\"#EF553B\",\"#00cc96\",\"#ab63fa\",\"#FFA15A\",\"#19d3f3\",\"#FF6692\",\"#B6E880\",\"#FF97FF\",\"#FECB52\"],\"font\":{\"color\":\"#2a3f5f\"},\"hovermode\":\"closest\",\"hoverlabel\":{\"align\":\"left\"},\"paper_bgcolor\":\"white\",\"plot_bgcolor\":\"#E5ECF6\",\"polar\":{\"bgcolor\":\"#E5ECF6\",\"angularaxis\":{\"gridcolor\":\"white\",\"linecolor\":\"white\",\"ticks\":\"\"},\"radialaxis\":{\"gridcolor\":\"white\",\"linecolor\":\"white\",\"ticks\":\"\"}},\"ternary\":{\"bgcolor\":\"#E5ECF6\",\"aaxis\":{\"gridcolor\":\"white\",\"linecolor\":\"white\",\"ticks\":\"\"},\"baxis\":{\"gridcolor\":\"white\",\"linecolor\":\"white\",\"ticks\":\"\"},\"caxis\":{\"gridcolor\":\"white\",\"linecolor\":\"white\",\"ticks\":\"\"}},\"coloraxis\":{\"colorbar\":{\"outlinewidth\":0,\"ticks\":\"\"}},\"colorscale\":{\"sequential\":[[0.0,\"#0d0887\"],[0.1111111111111111,\"#46039f\"],[0.2222222222222222,\"#7201a8\"],[0.3333333333333333,\"#9c179e\"],[0.4444444444444444,\"#bd3786\"],[0.5555555555555556,\"#d8576b\"],[0.6666666666666666,\"#ed7953\"],[0.7777777777777778,\"#fb9f3a\"],[0.8888888888888888,\"#fdca26\"],[1.0,\"#f0f921\"]],\"sequentialminus\":[[0.0,\"#0d0887\"],[0.1111111111111111,\"#46039f\"],[0.2222222222222222,\"#7201a8\"],[0.3333333333333333,\"#9c179e\"],[0.4444444444444444,\"#bd3786\"],[0.5555555555555556,\"#d8576b\"],[0.6666666666666666,\"#ed7953\"],[0.7777777777777778,\"#fb9f3a\"],[0.8888888888888888,\"#fdca26\"],[1.0,\"#f0f921\"]],\"diverging\":[[0,\"#8e0152\"],[0.1,\"#c51b7d\"],[0.2,\"#de77ae\"],[0.3,\"#f1b6da\"],[0.4,\"#fde0ef\"],[0.5,\"#f7f7f7\"],[0.6,\"#e6f5d0\"],[0.7,\"#b8e186\"],[0.8,\"#7fbc41\"],[0.9,\"#4d9221\"],[1,\"#276419\"]]},\"xaxis\":{\"gridcolor\":\"white\",\"linecolor\":\"white\",\"ticks\":\"\",\"title\":{\"standoff\":15},\"zerolinecolor\":\"white\",\"automargin\":true,\"zerolinewidth\":2},\"yaxis\":{\"gridcolor\":\"white\",\"linecolor\":\"white\",\"ticks\":\"\",\"title\":{\"standoff\":15},\"zerolinecolor\":\"white\",\"automargin\":true,\"zerolinewidth\":2},\"scene\":{\"xaxis\":{\"backgroundcolor\":\"#E5ECF6\",\"gridcolor\":\"white\",\"linecolor\":\"white\",\"showbackground\":true,\"ticks\":\"\",\"zerolinecolor\":\"white\",\"gridwidth\":2},\"yaxis\":{\"backgroundcolor\":\"#E5ECF6\",\"gridcolor\":\"white\",\"linecolor\":\"white\",\"showbackground\":true,\"ticks\":\"\",\"zerolinecolor\":\"white\",\"gridwidth\":2},\"zaxis\":{\"backgroundcolor\":\"#E5ECF6\",\"gridcolor\":\"white\",\"linecolor\":\"white\",\"showbackground\":true,\"ticks\":\"\",\"zerolinecolor\":\"white\",\"gridwidth\":2}},\"shapedefaults\":{\"line\":{\"color\":\"#2a3f5f\"}},\"annotationdefaults\":{\"arrowcolor\":\"#2a3f5f\",\"arrowhead\":0,\"arrowwidth\":1},\"geo\":{\"bgcolor\":\"white\",\"landcolor\":\"#E5ECF6\",\"subunitcolor\":\"white\",\"showland\":true,\"showlakes\":true,\"lakecolor\":\"white\"},\"title\":{\"x\":0.05},\"mapbox\":{\"style\":\"light\"}}},\"xaxis\":{\"anchor\":\"y\",\"domain\":[0.0,1.0],\"title\":{\"text\":\"Product Type\"},\"tickangle\":-45},\"yaxis\":{\"anchor\":\"x\",\"domain\":[0.0,1.0],\"title\":{\"text\":\"Counts\"}},\"legend\":{\"tracegroupgap\":0},\"title\":{\"text\":\"Value Counts for Product Type\",\"y\":0.9,\"x\":0.5,\"xanchor\":\"center\",\"yanchor\":\"top\"},\"barmode\":\"relative\",\"height\":600,\"width\":1000},                        {\"responsive\": true}                    ).then(function(){\n",
       "                            \n",
       "var gd = document.getElementById('c0742718-ba56-457e-9bd0-dee06f2537c3');\n",
       "var x = new MutationObserver(function (mutations, observer) {{\n",
       "        var display = window.getComputedStyle(gd).display;\n",
       "        if (!display || display === 'none') {{\n",
       "            console.log([gd, 'removed!']);\n",
       "            Plotly.purge(gd);\n",
       "            observer.disconnect();\n",
       "        }}\n",
       "}});\n",
       "\n",
       "// Listen for the removal of the full notebook cells\n",
       "var notebookContainer = gd.closest('#notebook-container');\n",
       "if (notebookContainer) {{\n",
       "    x.observe(notebookContainer, {childList: true});\n",
       "}}\n",
       "\n",
       "// Listen for the clearing of the current output cell\n",
       "var outputEl = gd.closest('.output');\n",
       "if (outputEl) {{\n",
       "    x.observe(outputEl, {childList: true});\n",
       "}}\n",
       "\n",
       "                        })                };                });            </script>        </div>"
      ]
     },
     "metadata": {},
     "output_type": "display_data"
    }
   ],
   "source": [
    "categorical_columns = test_df.drop(columns=['Month of Sourcing']).select_dtypes(include=['object' , \"datetime64[ns]\"]).columns\n",
    "\n",
    "for column in categorical_columns:\n",
    "    # Prepare the data\n",
    "    data = test_df[column].value_counts().reset_index()\n",
    "    data.columns = [column, 'Counts']\n",
    "\n",
    "    # Create the plot\n",
    "    fig = px.bar(data, \n",
    "                 x=column, \n",
    "                 y='Counts', \n",
    "                 text='Counts',  # Adding text to bars\n",
    "                 labels={column: 'Category', 'Counts': 'Counts'}, \n",
    "                 title=f'Value Counts of {column}')\n",
    "    \n",
    "\n",
    "    # Customizing text position and styling\n",
    "    fig.update_traces(texttemplate='%{text:.2s}', textposition='outside')\n",
    "    \n",
    "    # Customizing layout and axes\n",
    "    fig.update_layout(\n",
    "        xaxis_title=column,\n",
    "        yaxis_title=\"Counts\",\n",
    "        title={\n",
    "            'text': f'Value Counts for {column}',\n",
    "            'y':0.9,\n",
    "            'x':0.5,\n",
    "            'xanchor': 'center',\n",
    "            'yanchor': 'top'\n",
    "        },\n",
    "        xaxis_tickangle=-45 , # Angle the x-axis labels for better readability\n",
    "        height=600,  # Set the height of the plot\n",
    "        width=1000,  # Set the width of the plot\n",
    "    )\n",
    "    \n",
    "    fig.show()"
   ]
  },
  {
   "cell_type": "markdown",
   "metadata": {},
   "source": [
    "# <a id='toc3_'></a>[Forecasting the Sourcing Cost](#toc0_)"
   ]
  },
  {
   "cell_type": "code",
   "execution_count": 51,
   "metadata": {},
   "outputs": [
    {
     "name": "stdout",
     "output_type": "stream",
     "text": [
      "<class 'pandas.core.frame.DataFrame'>\n",
      "Int64Index: 1021 entries, 0 to 422767\n",
      "Data columns (total 11 columns):\n",
      " #   Column             Non-Null Count  Dtype         \n",
      "---  ------             --------------  -----         \n",
      " 0   ProductType        1021 non-null   object        \n",
      " 1   Manufacturer       1021 non-null   object        \n",
      " 2   Area Code          1021 non-null   object        \n",
      " 3   Sourcing Channel   1021 non-null   object        \n",
      " 4   Product Size       1021 non-null   object        \n",
      " 5   Product Type       1021 non-null   object        \n",
      " 6   Month of Sourcing  1021 non-null   datetime64[ns]\n",
      " 7   Sourcing Cost      1021 non-null   float64       \n",
      " 8   Year               1021 non-null   int64         \n",
      " 9   Month              1021 non-null   int64         \n",
      " 10  Quantity           1021 non-null   int64         \n",
      "dtypes: datetime64[ns](1), float64(1), int64(3), object(6)\n",
      "memory usage: 95.7+ KB\n"
     ]
    }
   ],
   "source": [
    "train_df_quantify.info()"
   ]
  },
  {
   "cell_type": "markdown",
   "metadata": {},
   "source": [
    "## <a id='toc3_1_'></a>[Train Test Preparation](#toc0_)"
   ]
  },
  {
   "cell_type": "code",
   "execution_count": 52,
   "metadata": {},
   "outputs": [],
   "source": [
    "import pandas as pd\n",
    "from sklearn.preprocessing import LabelEncoder, MinMaxScaler\n",
    "from sklearn.model_selection import train_test_split\n",
    "from keras.preprocessing.sequence import TimeseriesGenerator\n",
    "from keras.models import Sequential\n",
    "from keras.layers import LSTM, Dense\n",
    "import numpy as np\n",
    "\n",
    "# Load data\n",
    "data = pd.read_csv(\"train_df_quantify.csv\")  # Replace \"your_data.csv\" with your file path\n",
    "\n",
    "\n",
    "\n",
    "# Label encoding for categorical variables\n",
    "label_encoders = {}\n",
    "for column in data.select_dtypes(include=['object']).columns:\n",
    "    le = LabelEncoder()\n",
    "    data[column] = le.fit_transform(data[column])\n",
    "    label_encoders[column] = le\n",
    "\n",
    "\n",
    "train_data = data.copy()\n",
    "\n",
    "# Prepare sequences for LSTM\n",
    "X_train = train_data.drop(columns=['Quantity', 'Month of Sourcing','Sourcing Cost'])\n",
    "y_train  = train_data['Sourcing Cost']\n"
   ]
  },
  {
   "cell_type": "code",
   "execution_count": 53,
   "metadata": {},
   "outputs": [],
   "source": [
    "# Prepare test data\n",
    "test_data = test_df.copy()\n",
    "\n",
    "\n",
    "# Label encoding for categorical variables\n",
    "label_encoders = {}\n",
    "for column in test_data.select_dtypes(include=['object']).columns:\n",
    "    le = LabelEncoder()\n",
    "    test_data[column] = le.fit_transform(test_data[column])\n",
    "    label_encoders[column] = le\n",
    "\n",
    "\n",
    "\n",
    "X_test = test_data.drop(columns=['Month of Sourcing' ,'Sourcing Cost'])\n",
    "\n",
    "\n",
    "# Reshape input data for LSTM\n",
    "X_test_lstm = X_test.values.reshape((X_test.shape[0], X_test.shape[1], 1))\n",
    "\n",
    "\n"
   ]
  },
  {
   "cell_type": "code",
   "execution_count": 54,
   "metadata": {},
   "outputs": [
    {
     "data": {
      "text/plain": [
       "(96, 8)"
      ]
     },
     "execution_count": 54,
     "metadata": {},
     "output_type": "execute_result"
    }
   ],
   "source": [
    "X_test.shape"
   ]
  },
  {
   "cell_type": "markdown",
   "metadata": {},
   "source": [
    "## <a id='toc3_2_'></a>[Models](#toc0_)"
   ]
  },
  {
   "cell_type": "markdown",
   "metadata": {},
   "source": [
    "### <a id='toc3_2_1_'></a>[LSTM Model](#toc0_)"
   ]
  },
  {
   "cell_type": "code",
   "execution_count": 55,
   "metadata": {},
   "outputs": [
    {
     "data": {
      "text/plain": [
       "(1021, 8)"
      ]
     },
     "execution_count": 55,
     "metadata": {},
     "output_type": "execute_result"
    }
   ],
   "source": [
    "X_train.shape"
   ]
  },
  {
   "cell_type": "code",
   "execution_count": 56,
   "metadata": {},
   "outputs": [
    {
     "name": "stdout",
     "output_type": "stream",
     "text": [
      "Epoch 1/50\n",
      "32/32 [==============================] - 1s 4ms/step - loss: 26769.8066\n",
      "Epoch 2/50\n",
      "32/32 [==============================] - 0s 4ms/step - loss: 25779.5898\n",
      "Epoch 3/50\n",
      "32/32 [==============================] - 0s 4ms/step - loss: 25738.2090\n",
      "Epoch 4/50\n",
      "32/32 [==============================] - 0s 4ms/step - loss: 25719.0254\n",
      "Epoch 5/50\n",
      "32/32 [==============================] - 0s 4ms/step - loss: 25724.1816\n",
      "Epoch 6/50\n",
      "32/32 [==============================] - 0s 4ms/step - loss: 25822.6680\n",
      "Epoch 7/50\n",
      "32/32 [==============================] - 0s 4ms/step - loss: 25719.0625\n",
      "Epoch 8/50\n",
      "32/32 [==============================] - 0s 4ms/step - loss: 25754.4629\n",
      "Epoch 9/50\n",
      "32/32 [==============================] - 0s 4ms/step - loss: 25669.1562\n",
      "Epoch 10/50\n",
      "32/32 [==============================] - 0s 4ms/step - loss: 25677.2617\n",
      "Epoch 11/50\n",
      "32/32 [==============================] - 0s 5ms/step - loss: 25621.0059\n",
      "Epoch 12/50\n",
      "32/32 [==============================] - 0s 4ms/step - loss: 25618.2344\n",
      "Epoch 13/50\n",
      "32/32 [==============================] - 0s 4ms/step - loss: 25385.2305\n",
      "Epoch 14/50\n",
      "32/32 [==============================] - 0s 4ms/step - loss: 25216.9707\n",
      "Epoch 15/50\n",
      "32/32 [==============================] - 0s 4ms/step - loss: 25166.4141\n",
      "Epoch 16/50\n",
      "32/32 [==============================] - 0s 4ms/step - loss: 24781.4395\n",
      "Epoch 17/50\n",
      "32/32 [==============================] - 0s 4ms/step - loss: 24805.1270\n",
      "Epoch 18/50\n",
      "32/32 [==============================] - 0s 4ms/step - loss: 25269.4668\n",
      "Epoch 19/50\n",
      "32/32 [==============================] - 0s 4ms/step - loss: 24484.6602\n",
      "Epoch 20/50\n",
      "32/32 [==============================] - 0s 4ms/step - loss: 24494.6113\n",
      "Epoch 21/50\n",
      "32/32 [==============================] - 0s 4ms/step - loss: 24844.4082\n",
      "Epoch 22/50\n",
      "32/32 [==============================] - 0s 4ms/step - loss: 24655.6328\n",
      "Epoch 23/50\n",
      "32/32 [==============================] - 0s 4ms/step - loss: 24272.7910\n",
      "Epoch 24/50\n",
      "32/32 [==============================] - 0s 4ms/step - loss: 24274.3203\n",
      "Epoch 25/50\n",
      "32/32 [==============================] - 0s 4ms/step - loss: 23990.6172\n",
      "Epoch 26/50\n",
      "32/32 [==============================] - 0s 4ms/step - loss: 24391.9375\n",
      "Epoch 27/50\n",
      "32/32 [==============================] - 0s 4ms/step - loss: 24086.9883\n",
      "Epoch 28/50\n",
      "32/32 [==============================] - 0s 4ms/step - loss: 24128.0176\n",
      "Epoch 29/50\n",
      "32/32 [==============================] - 0s 4ms/step - loss: 24098.7656\n",
      "Epoch 30/50\n",
      "32/32 [==============================] - 0s 4ms/step - loss: 23978.8652\n",
      "Epoch 31/50\n",
      "32/32 [==============================] - 0s 4ms/step - loss: 23986.1562\n",
      "Epoch 32/50\n",
      "32/32 [==============================] - 0s 5ms/step - loss: 23728.5645\n",
      "Epoch 33/50\n",
      "32/32 [==============================] - 0s 4ms/step - loss: 23748.4414\n",
      "Epoch 34/50\n",
      "32/32 [==============================] - 0s 4ms/step - loss: 23567.2871\n",
      "Epoch 35/50\n",
      "32/32 [==============================] - 0s 4ms/step - loss: 23474.0215\n",
      "Epoch 36/50\n",
      "32/32 [==============================] - 0s 4ms/step - loss: 23696.2617\n",
      "Epoch 37/50\n",
      "32/32 [==============================] - 0s 4ms/step - loss: 23618.6172\n",
      "Epoch 38/50\n",
      "32/32 [==============================] - 0s 4ms/step - loss: 23508.3125\n",
      "Epoch 39/50\n",
      "32/32 [==============================] - 0s 4ms/step - loss: 23323.3457\n",
      "Epoch 40/50\n",
      "32/32 [==============================] - 0s 4ms/step - loss: 23048.6797\n",
      "Epoch 41/50\n",
      "32/32 [==============================] - 0s 4ms/step - loss: 23493.4902\n",
      "Epoch 42/50\n",
      "32/32 [==============================] - 0s 4ms/step - loss: 23718.7793\n",
      "Epoch 43/50\n",
      "32/32 [==============================] - 0s 4ms/step - loss: 23319.5020\n",
      "Epoch 44/50\n",
      "32/32 [==============================] - 0s 4ms/step - loss: 22821.2578\n",
      "Epoch 45/50\n",
      "32/32 [==============================] - 0s 4ms/step - loss: 22873.3105\n",
      "Epoch 46/50\n",
      "32/32 [==============================] - 0s 4ms/step - loss: 23418.1875\n",
      "Epoch 47/50\n",
      "32/32 [==============================] - 0s 4ms/step - loss: 23240.1484\n",
      "Epoch 48/50\n",
      "32/32 [==============================] - 0s 4ms/step - loss: 23481.0254\n",
      "Epoch 49/50\n",
      "32/32 [==============================] - 0s 5ms/step - loss: 23484.1660\n",
      "Epoch 50/50\n",
      "32/32 [==============================] - 0s 4ms/step - loss: 22343.5625\n"
     ]
    },
    {
     "data": {
      "text/plain": [
       "<keras.src.callbacks.History at 0x152bf425b50>"
      ]
     },
     "execution_count": 56,
     "metadata": {},
     "output_type": "execute_result"
    }
   ],
   "source": [
    "# Step 2: Define the LSTM model\n",
    "model = Sequential()\n",
    "model.add(LSTM(units=100, activation='relu', input_shape=(X_train.shape[1], 1)))\n",
    "model.add(Dense(units=1))\n",
    "\n",
    "# Compile the model\n",
    "model.compile(optimizer='adam', loss='mean_squared_error')\n",
    "\n",
    "# Step 3: Train the model\n",
    "# Reshape input data for LSTM\n",
    "X_train_lstm = X_train.values.reshape((X_train.shape[0], X_train.shape[1], 1))\n",
    "\n",
    "# Fit the model\n",
    "model.fit(X_train_lstm, y_train, epochs=50, batch_size=32)\n",
    "\n"
   ]
  },
  {
   "cell_type": "code",
   "execution_count": 57,
   "metadata": {},
   "outputs": [
    {
     "data": {
      "text/html": [
       "<div>\n",
       "<style scoped>\n",
       "    .dataframe tbody tr th:only-of-type {\n",
       "        vertical-align: middle;\n",
       "    }\n",
       "\n",
       "    .dataframe tbody tr th {\n",
       "        vertical-align: top;\n",
       "    }\n",
       "\n",
       "    .dataframe thead th {\n",
       "        text-align: right;\n",
       "    }\n",
       "</style>\n",
       "<table border=\"1\" class=\"dataframe\">\n",
       "  <thead>\n",
       "    <tr style=\"text-align: right;\">\n",
       "      <th></th>\n",
       "      <th>ProductType</th>\n",
       "      <th>Manufacturer</th>\n",
       "      <th>Area Code</th>\n",
       "      <th>Sourcing Channel</th>\n",
       "      <th>Product Size</th>\n",
       "      <th>Product Type</th>\n",
       "      <th>Month of Sourcing</th>\n",
       "      <th>Sourcing Cost</th>\n",
       "      <th>Year</th>\n",
       "      <th>Month</th>\n",
       "    </tr>\n",
       "  </thead>\n",
       "  <tbody>\n",
       "    <tr>\n",
       "      <th>0</th>\n",
       "      <td>NTM1</td>\n",
       "      <td>X1</td>\n",
       "      <td>A1</td>\n",
       "      <td>DIRECT</td>\n",
       "      <td>Small</td>\n",
       "      <td>Powder</td>\n",
       "      <td>2021-06-21</td>\n",
       "      <td>103.68</td>\n",
       "      <td>2021</td>\n",
       "      <td>6</td>\n",
       "    </tr>\n",
       "    <tr>\n",
       "      <th>1</th>\n",
       "      <td>NTM1</td>\n",
       "      <td>X1</td>\n",
       "      <td>A10</td>\n",
       "      <td>DIRECT</td>\n",
       "      <td>Large</td>\n",
       "      <td>Powder</td>\n",
       "      <td>2021-06-21</td>\n",
       "      <td>155.75</td>\n",
       "      <td>2021</td>\n",
       "      <td>6</td>\n",
       "    </tr>\n",
       "    <tr>\n",
       "      <th>2</th>\n",
       "      <td>NTM1</td>\n",
       "      <td>X1</td>\n",
       "      <td>A10</td>\n",
       "      <td>ECOM</td>\n",
       "      <td>Large</td>\n",
       "      <td>Powder</td>\n",
       "      <td>2021-06-21</td>\n",
       "      <td>143.02</td>\n",
       "      <td>2021</td>\n",
       "      <td>6</td>\n",
       "    </tr>\n",
       "    <tr>\n",
       "      <th>3</th>\n",
       "      <td>NTM1</td>\n",
       "      <td>X1</td>\n",
       "      <td>A11</td>\n",
       "      <td>DIRECT</td>\n",
       "      <td>Large</td>\n",
       "      <td>Powder</td>\n",
       "      <td>2021-06-21</td>\n",
       "      <td>139.39</td>\n",
       "      <td>2021</td>\n",
       "      <td>6</td>\n",
       "    </tr>\n",
       "    <tr>\n",
       "      <th>4</th>\n",
       "      <td>NTM1</td>\n",
       "      <td>X1</td>\n",
       "      <td>A2</td>\n",
       "      <td>DIRECT</td>\n",
       "      <td>Large</td>\n",
       "      <td>Powder</td>\n",
       "      <td>2021-06-21</td>\n",
       "      <td>169.42</td>\n",
       "      <td>2021</td>\n",
       "      <td>6</td>\n",
       "    </tr>\n",
       "  </tbody>\n",
       "</table>\n",
       "</div>"
      ],
      "text/plain": [
       "  ProductType Manufacturer Area Code Sourcing Channel Product Size  \\\n",
       "0        NTM1           X1        A1           DIRECT        Small   \n",
       "1        NTM1           X1       A10           DIRECT        Large   \n",
       "2        NTM1           X1       A10             ECOM        Large   \n",
       "3        NTM1           X1       A11           DIRECT        Large   \n",
       "4        NTM1           X1        A2           DIRECT        Large   \n",
       "\n",
       "  Product Type Month of Sourcing  Sourcing Cost  Year  Month  \n",
       "0       Powder        2021-06-21         103.68  2021      6  \n",
       "1       Powder        2021-06-21         155.75  2021      6  \n",
       "2       Powder        2021-06-21         143.02  2021      6  \n",
       "3       Powder        2021-06-21         139.39  2021      6  \n",
       "4       Powder        2021-06-21         169.42  2021      6  "
      ]
     },
     "execution_count": 57,
     "metadata": {},
     "output_type": "execute_result"
    }
   ],
   "source": [
    "test_df.head()"
   ]
  },
  {
   "cell_type": "code",
   "execution_count": 58,
   "metadata": {},
   "outputs": [
    {
     "name": "stdout",
     "output_type": "stream",
     "text": [
      "3/3 [==============================] - 0s 3ms/step\n",
      "Forecasted quantity for June 2021:\n",
      "[[113.1758  ]\n",
      " [134.86537 ]\n",
      " [157.62425 ]\n",
      " [137.67064 ]\n",
      " [141.0608  ]\n",
      " [234.9983  ]\n",
      " [132.72983 ]\n",
      " [135.42331 ]\n",
      " [137.22021 ]\n",
      " [136.63428 ]\n",
      " [138.15623 ]\n",
      " [146.69362 ]\n",
      " [147.9236  ]\n",
      " [149.21234 ]\n",
      " [152.67252 ]\n",
      " [153.96559 ]\n",
      " [153.27475 ]\n",
      " [151.4819  ]\n",
      " [151.23181 ]\n",
      " [154.58517 ]\n",
      " [153.89302 ]\n",
      " [155.13078 ]\n",
      " [154.52603 ]\n",
      " [ 85.54539 ]\n",
      " [ 55.984722]\n",
      " [ 73.125084]\n",
      " [ 66.12614 ]\n",
      " [ 86.423874]\n",
      " [ 90.52951 ]\n",
      " [ 95.47975 ]\n",
      " [ 97.87636 ]\n",
      " [ 99.68182 ]\n",
      " [ 98.46239 ]\n",
      " [100.83708 ]\n",
      " [ 89.71833 ]\n",
      " [161.26082 ]\n",
      " [177.44241 ]\n",
      " [167.83788 ]\n",
      " [164.6144  ]\n",
      " [151.52126 ]\n",
      " [270.79352 ]\n",
      " [170.16084 ]\n",
      " [172.70796 ]\n",
      " [172.2866  ]\n",
      " [443.07156 ]\n",
      " [149.71579 ]\n",
      " [152.38571 ]\n",
      " [151.8133  ]\n",
      " [145.97762 ]\n",
      " [147.80074 ]\n",
      " [143.37468 ]\n",
      " [145.17552 ]\n",
      " [193.54723 ]\n",
      " [186.74104 ]\n",
      " [158.96779 ]\n",
      " [158.88947 ]\n",
      " [159.02527 ]\n",
      " [159.11717 ]\n",
      " [154.40843 ]\n",
      " [159.2429  ]\n",
      " [151.1008  ]\n",
      " [161.01927 ]\n",
      " [161.09338 ]\n",
      " [162.27116 ]\n",
      " [161.49217 ]\n",
      " [162.77765 ]\n",
      " [162.05336 ]\n",
      " [160.39552 ]\n",
      " [160.43791 ]\n",
      " [163.3079  ]\n",
      " [163.08925 ]\n",
      " [128.7801  ]\n",
      " [ 51.84405 ]\n",
      " [ 59.012417]\n",
      " [ 65.611404]\n",
      " [ 77.9365  ]\n",
      " [ 90.345215]\n",
      " [122.74066 ]\n",
      " [ 81.50862 ]\n",
      " [ 66.50244 ]\n",
      " [ 61.962357]\n",
      " [ 59.774433]\n",
      " [134.58345 ]\n",
      " [167.90433 ]\n",
      " [ 50.753403]\n",
      " [123.60761 ]\n",
      " [115.946526]\n",
      " [ 54.201786]\n",
      " [117.67342 ]\n",
      " [ 70.40615 ]\n",
      " [ 74.85179 ]\n",
      " [ 99.36428 ]\n",
      " [109.9338  ]\n",
      " [111.78575 ]\n",
      " [ 43.26781 ]\n",
      " [ 43.44159 ]]\n"
     ]
    }
   ],
   "source": [
    "# Step 4: Forecast the quantity for June 2021\n",
    "\n",
    "\n",
    "# Make predictions\n",
    "predictions_lstm = model.predict(X_test_lstm)\n",
    "\n",
    "# Display forecast for June 2021\n",
    "print(\"Forecasted quantity for June 2021:\")\n",
    "print(predictions_lstm)\n",
    "\n",
    "\n",
    "\n"
   ]
  },
  {
   "cell_type": "code",
   "execution_count": 59,
   "metadata": {},
   "outputs": [
    {
     "name": "stdout",
     "output_type": "stream",
     "text": [
      "Original and Predicted Sourcing Costs for June 2021:\n"
     ]
    },
    {
     "data": {
      "text/html": [
       "<div>\n",
       "<style scoped>\n",
       "    .dataframe tbody tr th:only-of-type {\n",
       "        vertical-align: middle;\n",
       "    }\n",
       "\n",
       "    .dataframe tbody tr th {\n",
       "        vertical-align: top;\n",
       "    }\n",
       "\n",
       "    .dataframe thead th {\n",
       "        text-align: right;\n",
       "    }\n",
       "</style>\n",
       "<table border=\"1\" class=\"dataframe\">\n",
       "  <thead>\n",
       "    <tr style=\"text-align: right;\">\n",
       "      <th></th>\n",
       "      <th>Original Sourcing Cost</th>\n",
       "      <th>Predicted Sourcing Cost</th>\n",
       "      <th>Difference</th>\n",
       "    </tr>\n",
       "  </thead>\n",
       "  <tbody>\n",
       "    <tr>\n",
       "      <th>0</th>\n",
       "      <td>103.68</td>\n",
       "      <td>113.175797</td>\n",
       "      <td>-9.495797</td>\n",
       "    </tr>\n",
       "    <tr>\n",
       "      <th>1</th>\n",
       "      <td>155.75</td>\n",
       "      <td>134.865372</td>\n",
       "      <td>20.884628</td>\n",
       "    </tr>\n",
       "    <tr>\n",
       "      <th>2</th>\n",
       "      <td>143.02</td>\n",
       "      <td>157.624252</td>\n",
       "      <td>-14.604252</td>\n",
       "    </tr>\n",
       "    <tr>\n",
       "      <th>3</th>\n",
       "      <td>139.39</td>\n",
       "      <td>137.670639</td>\n",
       "      <td>1.719361</td>\n",
       "    </tr>\n",
       "    <tr>\n",
       "      <th>4</th>\n",
       "      <td>169.42</td>\n",
       "      <td>141.060806</td>\n",
       "      <td>28.359194</td>\n",
       "    </tr>\n",
       "    <tr>\n",
       "      <th>...</th>\n",
       "      <td>...</td>\n",
       "      <td>...</td>\n",
       "      <td>...</td>\n",
       "    </tr>\n",
       "    <tr>\n",
       "      <th>91</th>\n",
       "      <td>89.57</td>\n",
       "      <td>99.364281</td>\n",
       "      <td>-9.794281</td>\n",
       "    </tr>\n",
       "    <tr>\n",
       "      <th>92</th>\n",
       "      <td>114.57</td>\n",
       "      <td>109.933800</td>\n",
       "      <td>4.636200</td>\n",
       "    </tr>\n",
       "    <tr>\n",
       "      <th>93</th>\n",
       "      <td>111.26</td>\n",
       "      <td>111.785751</td>\n",
       "      <td>-0.525751</td>\n",
       "    </tr>\n",
       "    <tr>\n",
       "      <th>94</th>\n",
       "      <td>32.32</td>\n",
       "      <td>43.267811</td>\n",
       "      <td>-10.947811</td>\n",
       "    </tr>\n",
       "    <tr>\n",
       "      <th>95</th>\n",
       "      <td>40.73</td>\n",
       "      <td>43.441589</td>\n",
       "      <td>-2.711589</td>\n",
       "    </tr>\n",
       "  </tbody>\n",
       "</table>\n",
       "<p>96 rows × 3 columns</p>\n",
       "</div>"
      ],
      "text/plain": [
       "    Original Sourcing Cost  Predicted Sourcing Cost  Difference\n",
       "0                   103.68               113.175797   -9.495797\n",
       "1                   155.75               134.865372   20.884628\n",
       "2                   143.02               157.624252  -14.604252\n",
       "3                   139.39               137.670639    1.719361\n",
       "4                   169.42               141.060806   28.359194\n",
       "..                     ...                      ...         ...\n",
       "91                   89.57                99.364281   -9.794281\n",
       "92                  114.57               109.933800    4.636200\n",
       "93                  111.26               111.785751   -0.525751\n",
       "94                   32.32                43.267811  -10.947811\n",
       "95                   40.73                43.441589   -2.711589\n",
       "\n",
       "[96 rows x 3 columns]"
      ]
     },
     "execution_count": 59,
     "metadata": {},
     "output_type": "execute_result"
    }
   ],
   "source": [
    "# Extracting original sourcing cost values for June 2021 from the test data\n",
    "original_sourcing_cost = test_df['Sourcing Cost'].values\n",
    "\n",
    "# Creating DataFrame to display original and predicted sourcing cost values side by side\n",
    "cost_comparison_df_lstm = pd.DataFrame({'Original Sourcing Cost': original_sourcing_cost, 'Predicted Sourcing Cost': predictions_lstm.flatten()})\n",
    "\n",
    "# Display the DataFrame\n",
    "print(\"Original and Predicted Sourcing Costs for June 2021:\")\n",
    "#Difference between original and predicted sourcing cost\n",
    "cost_comparison_df_lstm['Difference'] = cost_comparison_df_lstm['Original Sourcing Cost'] - cost_comparison_df_lstm['Predicted Sourcing Cost']\n",
    "cost_comparison_df_lstm"
   ]
  },
  {
   "cell_type": "code",
   "execution_count": 60,
   "metadata": {},
   "outputs": [
    {
     "data": {
      "text/plain": [
       "-27.485716911951698"
      ]
     },
     "execution_count": 60,
     "metadata": {},
     "output_type": "execute_result"
    }
   ],
   "source": [
    "cost_comparison_df_lstm['Difference'].mean()"
   ]
  },
  {
   "cell_type": "markdown",
   "metadata": {},
   "source": [
    "### <a id='toc3_2_2_'></a>[XGBoost Regressor](#toc0_)"
   ]
  },
  {
   "cell_type": "code",
   "execution_count": 61,
   "metadata": {},
   "outputs": [
    {
     "data": {
      "text/plain": [
       "(1021, 8)"
      ]
     },
     "execution_count": 61,
     "metadata": {},
     "output_type": "execute_result"
    }
   ],
   "source": [
    "X_train.shape"
   ]
  },
  {
   "cell_type": "code",
   "execution_count": 62,
   "metadata": {},
   "outputs": [
    {
     "name": "stderr",
     "output_type": "stream",
     "text": [
      "c:\\Users\\jaini\\AppData\\Local\\Programs\\Python\\Python311\\Lib\\site-packages\\xgboost\\compat.py:93: FutureWarning:\n",
      "\n",
      "pandas.Int64Index is deprecated and will be removed from pandas in a future version. Use pandas.Index with the appropriate dtype instead.\n",
      "\n"
     ]
    },
    {
     "data": {
      "text/html": [
       "<style>#sk-container-id-1 {color: black;background-color: white;}#sk-container-id-1 pre{padding: 0;}#sk-container-id-1 div.sk-toggleable {background-color: white;}#sk-container-id-1 label.sk-toggleable__label {cursor: pointer;display: block;width: 100%;margin-bottom: 0;padding: 0.3em;box-sizing: border-box;text-align: center;}#sk-container-id-1 label.sk-toggleable__label-arrow:before {content: \"▸\";float: left;margin-right: 0.25em;color: #696969;}#sk-container-id-1 label.sk-toggleable__label-arrow:hover:before {color: black;}#sk-container-id-1 div.sk-estimator:hover label.sk-toggleable__label-arrow:before {color: black;}#sk-container-id-1 div.sk-toggleable__content {max-height: 0;max-width: 0;overflow: hidden;text-align: left;background-color: #f0f8ff;}#sk-container-id-1 div.sk-toggleable__content pre {margin: 0.2em;color: black;border-radius: 0.25em;background-color: #f0f8ff;}#sk-container-id-1 input.sk-toggleable__control:checked~div.sk-toggleable__content {max-height: 200px;max-width: 100%;overflow: auto;}#sk-container-id-1 input.sk-toggleable__control:checked~label.sk-toggleable__label-arrow:before {content: \"▾\";}#sk-container-id-1 div.sk-estimator input.sk-toggleable__control:checked~label.sk-toggleable__label {background-color: #d4ebff;}#sk-container-id-1 div.sk-label input.sk-toggleable__control:checked~label.sk-toggleable__label {background-color: #d4ebff;}#sk-container-id-1 input.sk-hidden--visually {border: 0;clip: rect(1px 1px 1px 1px);clip: rect(1px, 1px, 1px, 1px);height: 1px;margin: -1px;overflow: hidden;padding: 0;position: absolute;width: 1px;}#sk-container-id-1 div.sk-estimator {font-family: monospace;background-color: #f0f8ff;border: 1px dotted black;border-radius: 0.25em;box-sizing: border-box;margin-bottom: 0.5em;}#sk-container-id-1 div.sk-estimator:hover {background-color: #d4ebff;}#sk-container-id-1 div.sk-parallel-item::after {content: \"\";width: 100%;border-bottom: 1px solid gray;flex-grow: 1;}#sk-container-id-1 div.sk-label:hover label.sk-toggleable__label {background-color: #d4ebff;}#sk-container-id-1 div.sk-serial::before {content: \"\";position: absolute;border-left: 1px solid gray;box-sizing: border-box;top: 0;bottom: 0;left: 50%;z-index: 0;}#sk-container-id-1 div.sk-serial {display: flex;flex-direction: column;align-items: center;background-color: white;padding-right: 0.2em;padding-left: 0.2em;position: relative;}#sk-container-id-1 div.sk-item {position: relative;z-index: 1;}#sk-container-id-1 div.sk-parallel {display: flex;align-items: stretch;justify-content: center;background-color: white;position: relative;}#sk-container-id-1 div.sk-item::before, #sk-container-id-1 div.sk-parallel-item::before {content: \"\";position: absolute;border-left: 1px solid gray;box-sizing: border-box;top: 0;bottom: 0;left: 50%;z-index: -1;}#sk-container-id-1 div.sk-parallel-item {display: flex;flex-direction: column;z-index: 1;position: relative;background-color: white;}#sk-container-id-1 div.sk-parallel-item:first-child::after {align-self: flex-end;width: 50%;}#sk-container-id-1 div.sk-parallel-item:last-child::after {align-self: flex-start;width: 50%;}#sk-container-id-1 div.sk-parallel-item:only-child::after {width: 0;}#sk-container-id-1 div.sk-dashed-wrapped {border: 1px dashed gray;margin: 0 0.4em 0.5em 0.4em;box-sizing: border-box;padding-bottom: 0.4em;background-color: white;}#sk-container-id-1 div.sk-label label {font-family: monospace;font-weight: bold;display: inline-block;line-height: 1.2em;}#sk-container-id-1 div.sk-label-container {text-align: center;}#sk-container-id-1 div.sk-container {/* jupyter's `normalize.less` sets `[hidden] { display: none; }` but bootstrap.min.css set `[hidden] { display: none !important; }` so we also need the `!important` here to be able to override the default hidden behavior on the sphinx rendered scikit-learn.org. See: https://github.com/scikit-learn/scikit-learn/issues/21755 */display: inline-block !important;position: relative;}#sk-container-id-1 div.sk-text-repr-fallback {display: none;}</style><div id=\"sk-container-id-1\" class=\"sk-top-container\"><div class=\"sk-text-repr-fallback\"><pre>XGBRegressor(base_score=0.5, booster=&#x27;gbtree&#x27;, colsample_bylevel=1,\n",
       "             colsample_bynode=1, colsample_bytree=1, gamma=0, gpu_id=-1,\n",
       "             importance_type=&#x27;gain&#x27;, interaction_constraints=&#x27;&#x27;,\n",
       "             learning_rate=0.300000012, max_delta_step=0, max_depth=6,\n",
       "             min_child_weight=1, missing=nan, monotone_constraints=&#x27;()&#x27;,\n",
       "             n_estimators=100, n_jobs=0, num_parallel_tree=1, random_state=0,\n",
       "             reg_alpha=0, reg_lambda=1, scale_pos_weight=1, subsample=1,\n",
       "             tree_method=&#x27;exact&#x27;, validate_parameters=1, verbosity=None)</pre><b>In a Jupyter environment, please rerun this cell to show the HTML representation or trust the notebook. <br />On GitHub, the HTML representation is unable to render, please try loading this page with nbviewer.org.</b></div><div class=\"sk-container\" hidden><div class=\"sk-item\"><div class=\"sk-estimator sk-toggleable\"><input class=\"sk-toggleable__control sk-hidden--visually\" id=\"sk-estimator-id-1\" type=\"checkbox\" checked><label for=\"sk-estimator-id-1\" class=\"sk-toggleable__label sk-toggleable__label-arrow\">XGBRegressor</label><div class=\"sk-toggleable__content\"><pre>XGBRegressor(base_score=0.5, booster=&#x27;gbtree&#x27;, colsample_bylevel=1,\n",
       "             colsample_bynode=1, colsample_bytree=1, gamma=0, gpu_id=-1,\n",
       "             importance_type=&#x27;gain&#x27;, interaction_constraints=&#x27;&#x27;,\n",
       "             learning_rate=0.300000012, max_delta_step=0, max_depth=6,\n",
       "             min_child_weight=1, missing=nan, monotone_constraints=&#x27;()&#x27;,\n",
       "             n_estimators=100, n_jobs=0, num_parallel_tree=1, random_state=0,\n",
       "             reg_alpha=0, reg_lambda=1, scale_pos_weight=1, subsample=1,\n",
       "             tree_method=&#x27;exact&#x27;, validate_parameters=1, verbosity=None)</pre></div></div></div></div></div>"
      ],
      "text/plain": [
       "XGBRegressor(base_score=0.5, booster='gbtree', colsample_bylevel=1,\n",
       "             colsample_bynode=1, colsample_bytree=1, gamma=0, gpu_id=-1,\n",
       "             importance_type='gain', interaction_constraints='',\n",
       "             learning_rate=0.300000012, max_delta_step=0, max_depth=6,\n",
       "             min_child_weight=1, missing=nan, monotone_constraints='()',\n",
       "             n_estimators=100, n_jobs=0, num_parallel_tree=1, random_state=0,\n",
       "             reg_alpha=0, reg_lambda=1, scale_pos_weight=1, subsample=1,\n",
       "             tree_method='exact', validate_parameters=1, verbosity=None)"
      ]
     },
     "execution_count": 62,
     "metadata": {},
     "output_type": "execute_result"
    }
   ],
   "source": [
    "import xgboost as xgb\n",
    "from sklearn.metrics import mean_squared_error\n",
    "\n",
    "xgb_reg = xgb.XGBRegressor()\n",
    "xgb_reg.fit(X_train, y_train)\n",
    "\n"
   ]
  },
  {
   "cell_type": "code",
   "execution_count": 63,
   "metadata": {},
   "outputs": [],
   "source": [
    "#Predictions\n",
    "y_pred = xgb_reg.predict(X_test)\n"
   ]
  },
  {
   "cell_type": "code",
   "execution_count": 64,
   "metadata": {},
   "outputs": [
    {
     "name": "stdout",
     "output_type": "stream",
     "text": [
      "Original and Predicted Sourcing Costs for June 2021:\n",
      "    Original Sourcing Cost  Predicted Sourcing Cost  Difference\n",
      "0                   103.68               116.454384  -12.774384\n",
      "1                   155.75               151.400452    4.349548\n",
      "2                   143.02               154.844589  -11.824589\n",
      "3                   139.39               135.797363    3.592637\n",
      "4                   169.42               162.202789    7.217211\n",
      "..                     ...                      ...         ...\n",
      "91                   89.57                66.181244   23.388756\n",
      "92                  114.57               120.000061   -5.430061\n",
      "93                  111.26               114.907295   -3.647295\n",
      "94                   32.32                17.602777   14.717223\n",
      "95                   40.73                68.420876  -27.690876\n",
      "\n",
      "[96 rows x 3 columns]\n"
     ]
    }
   ],
   "source": [
    "# Extracting original sourcing cost values for June 2021 from the test data\n",
    "original_sourcing_cost = test_df['Sourcing Cost'].values\n",
    "\n",
    "# Creating a DataFrame to display original and predicted sourcing cost values side by side\n",
    "cost_comparison_df_xgb = pd.DataFrame({'Original Sourcing Cost': original_sourcing_cost, 'Predicted Sourcing Cost': y_pred.flatten()})\n",
    "\n",
    "# Display the DataFrame\n",
    "print(\"Original and Predicted Sourcing Costs for June 2021:\")\n",
    "#Difference between original and predicted sourcing cost\n",
    "cost_comparison_df_xgb['Difference'] = cost_comparison_df_xgb['Original Sourcing Cost'] - cost_comparison_df_xgb['Predicted Sourcing Cost']\n",
    "print(cost_comparison_df_xgb)"
   ]
  },
  {
   "cell_type": "code",
   "execution_count": 65,
   "metadata": {},
   "outputs": [
    {
     "data": {
      "text/plain": [
       "-4.207570535739262"
      ]
     },
     "execution_count": 65,
     "metadata": {},
     "output_type": "execute_result"
    }
   ],
   "source": [
    "cost_comparison_df_xgb['Difference'].mean()"
   ]
  },
  {
   "cell_type": "markdown",
   "metadata": {},
   "source": [
    "### <a id='toc3_2_3_'></a>[Random Forest Regressor](#toc0_)"
   ]
  },
  {
   "cell_type": "code",
   "execution_count": 66,
   "metadata": {},
   "outputs": [
    {
     "data": {
      "text/html": [
       "<style>#sk-container-id-2 {color: black;background-color: white;}#sk-container-id-2 pre{padding: 0;}#sk-container-id-2 div.sk-toggleable {background-color: white;}#sk-container-id-2 label.sk-toggleable__label {cursor: pointer;display: block;width: 100%;margin-bottom: 0;padding: 0.3em;box-sizing: border-box;text-align: center;}#sk-container-id-2 label.sk-toggleable__label-arrow:before {content: \"▸\";float: left;margin-right: 0.25em;color: #696969;}#sk-container-id-2 label.sk-toggleable__label-arrow:hover:before {color: black;}#sk-container-id-2 div.sk-estimator:hover label.sk-toggleable__label-arrow:before {color: black;}#sk-container-id-2 div.sk-toggleable__content {max-height: 0;max-width: 0;overflow: hidden;text-align: left;background-color: #f0f8ff;}#sk-container-id-2 div.sk-toggleable__content pre {margin: 0.2em;color: black;border-radius: 0.25em;background-color: #f0f8ff;}#sk-container-id-2 input.sk-toggleable__control:checked~div.sk-toggleable__content {max-height: 200px;max-width: 100%;overflow: auto;}#sk-container-id-2 input.sk-toggleable__control:checked~label.sk-toggleable__label-arrow:before {content: \"▾\";}#sk-container-id-2 div.sk-estimator input.sk-toggleable__control:checked~label.sk-toggleable__label {background-color: #d4ebff;}#sk-container-id-2 div.sk-label input.sk-toggleable__control:checked~label.sk-toggleable__label {background-color: #d4ebff;}#sk-container-id-2 input.sk-hidden--visually {border: 0;clip: rect(1px 1px 1px 1px);clip: rect(1px, 1px, 1px, 1px);height: 1px;margin: -1px;overflow: hidden;padding: 0;position: absolute;width: 1px;}#sk-container-id-2 div.sk-estimator {font-family: monospace;background-color: #f0f8ff;border: 1px dotted black;border-radius: 0.25em;box-sizing: border-box;margin-bottom: 0.5em;}#sk-container-id-2 div.sk-estimator:hover {background-color: #d4ebff;}#sk-container-id-2 div.sk-parallel-item::after {content: \"\";width: 100%;border-bottom: 1px solid gray;flex-grow: 1;}#sk-container-id-2 div.sk-label:hover label.sk-toggleable__label {background-color: #d4ebff;}#sk-container-id-2 div.sk-serial::before {content: \"\";position: absolute;border-left: 1px solid gray;box-sizing: border-box;top: 0;bottom: 0;left: 50%;z-index: 0;}#sk-container-id-2 div.sk-serial {display: flex;flex-direction: column;align-items: center;background-color: white;padding-right: 0.2em;padding-left: 0.2em;position: relative;}#sk-container-id-2 div.sk-item {position: relative;z-index: 1;}#sk-container-id-2 div.sk-parallel {display: flex;align-items: stretch;justify-content: center;background-color: white;position: relative;}#sk-container-id-2 div.sk-item::before, #sk-container-id-2 div.sk-parallel-item::before {content: \"\";position: absolute;border-left: 1px solid gray;box-sizing: border-box;top: 0;bottom: 0;left: 50%;z-index: -1;}#sk-container-id-2 div.sk-parallel-item {display: flex;flex-direction: column;z-index: 1;position: relative;background-color: white;}#sk-container-id-2 div.sk-parallel-item:first-child::after {align-self: flex-end;width: 50%;}#sk-container-id-2 div.sk-parallel-item:last-child::after {align-self: flex-start;width: 50%;}#sk-container-id-2 div.sk-parallel-item:only-child::after {width: 0;}#sk-container-id-2 div.sk-dashed-wrapped {border: 1px dashed gray;margin: 0 0.4em 0.5em 0.4em;box-sizing: border-box;padding-bottom: 0.4em;background-color: white;}#sk-container-id-2 div.sk-label label {font-family: monospace;font-weight: bold;display: inline-block;line-height: 1.2em;}#sk-container-id-2 div.sk-label-container {text-align: center;}#sk-container-id-2 div.sk-container {/* jupyter's `normalize.less` sets `[hidden] { display: none; }` but bootstrap.min.css set `[hidden] { display: none !important; }` so we also need the `!important` here to be able to override the default hidden behavior on the sphinx rendered scikit-learn.org. See: https://github.com/scikit-learn/scikit-learn/issues/21755 */display: inline-block !important;position: relative;}#sk-container-id-2 div.sk-text-repr-fallback {display: none;}</style><div id=\"sk-container-id-2\" class=\"sk-top-container\"><div class=\"sk-text-repr-fallback\"><pre>RandomForestRegressor()</pre><b>In a Jupyter environment, please rerun this cell to show the HTML representation or trust the notebook. <br />On GitHub, the HTML representation is unable to render, please try loading this page with nbviewer.org.</b></div><div class=\"sk-container\" hidden><div class=\"sk-item\"><div class=\"sk-estimator sk-toggleable\"><input class=\"sk-toggleable__control sk-hidden--visually\" id=\"sk-estimator-id-2\" type=\"checkbox\" checked><label for=\"sk-estimator-id-2\" class=\"sk-toggleable__label sk-toggleable__label-arrow\">RandomForestRegressor</label><div class=\"sk-toggleable__content\"><pre>RandomForestRegressor()</pre></div></div></div></div></div>"
      ],
      "text/plain": [
       "RandomForestRegressor()"
      ]
     },
     "execution_count": 66,
     "metadata": {},
     "output_type": "execute_result"
    }
   ],
   "source": [
    "from sklearn.ensemble import RandomForestRegressor\n",
    "\n",
    "# Train Random Forest model\n",
    "rf_reg = RandomForestRegressor()\n",
    "rf_reg.fit(X_train, y_train)\n"
   ]
  },
  {
   "cell_type": "code",
   "execution_count": 67,
   "metadata": {},
   "outputs": [],
   "source": [
    "#Predictions\n",
    "y_pred_rf = rf_reg.predict(X_test)"
   ]
  },
  {
   "cell_type": "code",
   "execution_count": 68,
   "metadata": {},
   "outputs": [
    {
     "name": "stdout",
     "output_type": "stream",
     "text": [
      "Original and Predicted Sourcing Costs for June 2021:\n"
     ]
    },
    {
     "data": {
      "text/html": [
       "<div>\n",
       "<style scoped>\n",
       "    .dataframe tbody tr th:only-of-type {\n",
       "        vertical-align: middle;\n",
       "    }\n",
       "\n",
       "    .dataframe tbody tr th {\n",
       "        vertical-align: top;\n",
       "    }\n",
       "\n",
       "    .dataframe thead th {\n",
       "        text-align: right;\n",
       "    }\n",
       "</style>\n",
       "<table border=\"1\" class=\"dataframe\">\n",
       "  <thead>\n",
       "    <tr style=\"text-align: right;\">\n",
       "      <th></th>\n",
       "      <th>Original Sourcing Cost</th>\n",
       "      <th>Predicted Sourcing Cost</th>\n",
       "      <th>Difference</th>\n",
       "    </tr>\n",
       "  </thead>\n",
       "  <tbody>\n",
       "    <tr>\n",
       "      <th>0</th>\n",
       "      <td>103.68</td>\n",
       "      <td>104.32052</td>\n",
       "      <td>-0.64052</td>\n",
       "    </tr>\n",
       "    <tr>\n",
       "      <th>1</th>\n",
       "      <td>155.75</td>\n",
       "      <td>153.90076</td>\n",
       "      <td>1.84924</td>\n",
       "    </tr>\n",
       "    <tr>\n",
       "      <th>2</th>\n",
       "      <td>143.02</td>\n",
       "      <td>150.95842</td>\n",
       "      <td>-7.93842</td>\n",
       "    </tr>\n",
       "    <tr>\n",
       "      <th>3</th>\n",
       "      <td>139.39</td>\n",
       "      <td>145.41162</td>\n",
       "      <td>-6.02162</td>\n",
       "    </tr>\n",
       "    <tr>\n",
       "      <th>4</th>\n",
       "      <td>169.42</td>\n",
       "      <td>160.18885</td>\n",
       "      <td>9.23115</td>\n",
       "    </tr>\n",
       "    <tr>\n",
       "      <th>...</th>\n",
       "      <td>...</td>\n",
       "      <td>...</td>\n",
       "      <td>...</td>\n",
       "    </tr>\n",
       "    <tr>\n",
       "      <th>91</th>\n",
       "      <td>89.57</td>\n",
       "      <td>65.63639</td>\n",
       "      <td>23.93361</td>\n",
       "    </tr>\n",
       "    <tr>\n",
       "      <th>92</th>\n",
       "      <td>114.57</td>\n",
       "      <td>123.27361</td>\n",
       "      <td>-8.70361</td>\n",
       "    </tr>\n",
       "    <tr>\n",
       "      <th>93</th>\n",
       "      <td>111.26</td>\n",
       "      <td>109.78551</td>\n",
       "      <td>1.47449</td>\n",
       "    </tr>\n",
       "    <tr>\n",
       "      <th>94</th>\n",
       "      <td>32.32</td>\n",
       "      <td>33.49756</td>\n",
       "      <td>-1.17756</td>\n",
       "    </tr>\n",
       "    <tr>\n",
       "      <th>95</th>\n",
       "      <td>40.73</td>\n",
       "      <td>64.57698</td>\n",
       "      <td>-23.84698</td>\n",
       "    </tr>\n",
       "  </tbody>\n",
       "</table>\n",
       "<p>96 rows × 3 columns</p>\n",
       "</div>"
      ],
      "text/plain": [
       "    Original Sourcing Cost  Predicted Sourcing Cost  Difference\n",
       "0                   103.68                104.32052    -0.64052\n",
       "1                   155.75                153.90076     1.84924\n",
       "2                   143.02                150.95842    -7.93842\n",
       "3                   139.39                145.41162    -6.02162\n",
       "4                   169.42                160.18885     9.23115\n",
       "..                     ...                      ...         ...\n",
       "91                   89.57                 65.63639    23.93361\n",
       "92                  114.57                123.27361    -8.70361\n",
       "93                  111.26                109.78551     1.47449\n",
       "94                   32.32                 33.49756    -1.17756\n",
       "95                   40.73                 64.57698   -23.84698\n",
       "\n",
       "[96 rows x 3 columns]"
      ]
     },
     "execution_count": 68,
     "metadata": {},
     "output_type": "execute_result"
    }
   ],
   "source": [
    "# Extracting original sourcing cost values for June 2021 from the test data\n",
    "original_sourcing_cost = test_df['Sourcing Cost'].values\n",
    "\n",
    "# Creating a DataFrame to display original and predicted sourcing cost values side by side\n",
    "cost_comparison_df_rf = pd.DataFrame({'Original Sourcing Cost': original_sourcing_cost, 'Predicted Sourcing Cost': y_pred_rf.flatten()})\n",
    "\n",
    "# Display the DataFrame\n",
    "print(\"Original and Predicted Sourcing Costs for June 2021:\")\n",
    "#Difference between original and predicted sourcing cost\n",
    "cost_comparison_df_rf['Difference'] = cost_comparison_df_rf['Original Sourcing Cost'] - cost_comparison_df_rf['Predicted Sourcing Cost']\n",
    "cost_comparison_df_rf"
   ]
  },
  {
   "cell_type": "code",
   "execution_count": 69,
   "metadata": {},
   "outputs": [
    {
     "data": {
      "text/plain": [
       "-7.709350312499983"
      ]
     },
     "execution_count": 69,
     "metadata": {},
     "output_type": "execute_result"
    }
   ],
   "source": [
    "cost_comparison_df_rf['Difference'].mean()"
   ]
  },
  {
   "cell_type": "code",
   "execution_count": 70,
   "metadata": {},
   "outputs": [
    {
     "name": "stdout",
     "output_type": "stream",
     "text": [
      "Mean Squared Error: 1096.7922305627067\n"
     ]
    }
   ],
   "source": [
    "# Evaluate model performance \n",
    "from sklearn.metrics import mean_squared_error\n",
    "mse = mean_squared_error(original_sourcing_cost, y_pred)\n",
    "print(\"Mean Squared Error:\", mse)\n"
   ]
  },
  {
   "cell_type": "markdown",
   "metadata": {},
   "source": [
    "# <a id='toc4_'></a>[Forecasting the Quantity](#toc0_)"
   ]
  },
  {
   "cell_type": "code",
   "execution_count": 71,
   "metadata": {},
   "outputs": [
    {
     "name": "stdout",
     "output_type": "stream",
     "text": [
      "<class 'pandas.core.frame.DataFrame'>\n",
      "Int64Index: 1021 entries, 0 to 422767\n",
      "Data columns (total 11 columns):\n",
      " #   Column             Non-Null Count  Dtype         \n",
      "---  ------             --------------  -----         \n",
      " 0   ProductType        1021 non-null   object        \n",
      " 1   Manufacturer       1021 non-null   object        \n",
      " 2   Area Code          1021 non-null   object        \n",
      " 3   Sourcing Channel   1021 non-null   object        \n",
      " 4   Product Size       1021 non-null   object        \n",
      " 5   Product Type       1021 non-null   object        \n",
      " 6   Month of Sourcing  1021 non-null   datetime64[ns]\n",
      " 7   Sourcing Cost      1021 non-null   float64       \n",
      " 8   Year               1021 non-null   int64         \n",
      " 9   Month              1021 non-null   int64         \n",
      " 10  Quantity           1021 non-null   int64         \n",
      "dtypes: datetime64[ns](1), float64(1), int64(3), object(6)\n",
      "memory usage: 95.7+ KB\n"
     ]
    }
   ],
   "source": [
    "train_df_quantify.info()"
   ]
  },
  {
   "cell_type": "markdown",
   "metadata": {},
   "source": [
    "## <a id='toc4_1_'></a>[Train Test Split](#toc0_)"
   ]
  },
  {
   "cell_type": "code",
   "execution_count": 72,
   "metadata": {},
   "outputs": [],
   "source": [
    "import pandas as pd\n",
    "from sklearn.preprocessing import LabelEncoder, MinMaxScaler\n",
    "from sklearn.model_selection import train_test_split\n",
    "from keras.preprocessing.sequence import TimeseriesGenerator\n",
    "from keras.models import Sequential\n",
    "from keras.layers import LSTM, Dense\n",
    "import numpy as np\n",
    "\n",
    "# Load data\n",
    "data = pd.read_csv(\"train_df_quantify.csv\")  \n",
    "\n",
    "\n",
    "\n",
    "# Label encoding for categorical variables\n",
    "label_encoders = {}\n",
    "for column in data.select_dtypes(include=['object']).columns:\n",
    "    le = LabelEncoder()\n",
    "    data[column] = le.fit_transform(data[column])\n",
    "    label_encoders[column] = le\n",
    "\n",
    "\n",
    "\n",
    "# Filter data for training (July 2020 to May 2021)\n",
    "train_data = data.copy()\n",
    "\n",
    "# Prepare sequences for LSTM\n",
    "X_train = train_data.drop(columns=['Month of Sourcing','Quantity'])\n",
    "y_train  = train_data['Quantity']"
   ]
  },
  {
   "cell_type": "code",
   "execution_count": 73,
   "metadata": {},
   "outputs": [],
   "source": [
    "# Prepare test data\n",
    "test_data = test_df.copy()\n",
    "\n",
    "\n",
    "# Label encoding for categorical variables\n",
    "label_encoders = {}\n",
    "for column in test_data.select_dtypes(include=['object']).columns:\n",
    "    le = LabelEncoder()\n",
    "    test_data[column] = le.fit_transform(test_data[column])\n",
    "    label_encoders[column] = le\n",
    "\n",
    "\n",
    "X_test = test_data.drop(columns=['Month of Sourcing'])\n",
    "\n",
    "\n",
    "# Reshape input data for LSTM\n",
    "X_test_lstm = X_test.values.reshape((X_test.shape[0], X_test.shape[1], 1))"
   ]
  },
  {
   "cell_type": "code",
   "execution_count": 74,
   "metadata": {},
   "outputs": [
    {
     "data": {
      "text/html": [
       "<div>\n",
       "<style scoped>\n",
       "    .dataframe tbody tr th:only-of-type {\n",
       "        vertical-align: middle;\n",
       "    }\n",
       "\n",
       "    .dataframe tbody tr th {\n",
       "        vertical-align: top;\n",
       "    }\n",
       "\n",
       "    .dataframe thead th {\n",
       "        text-align: right;\n",
       "    }\n",
       "</style>\n",
       "<table border=\"1\" class=\"dataframe\">\n",
       "  <thead>\n",
       "    <tr style=\"text-align: right;\">\n",
       "      <th></th>\n",
       "      <th>ProductType</th>\n",
       "      <th>Manufacturer</th>\n",
       "      <th>Area Code</th>\n",
       "      <th>Sourcing Channel</th>\n",
       "      <th>Product Size</th>\n",
       "      <th>Product Type</th>\n",
       "      <th>Sourcing Cost</th>\n",
       "      <th>Year</th>\n",
       "      <th>Month</th>\n",
       "    </tr>\n",
       "  </thead>\n",
       "  <tbody>\n",
       "    <tr>\n",
       "      <th>0</th>\n",
       "      <td>0</td>\n",
       "      <td>0</td>\n",
       "      <td>0</td>\n",
       "      <td>0</td>\n",
       "      <td>2</td>\n",
       "      <td>1</td>\n",
       "      <td>103.68</td>\n",
       "      <td>2021</td>\n",
       "      <td>6</td>\n",
       "    </tr>\n",
       "    <tr>\n",
       "      <th>1</th>\n",
       "      <td>0</td>\n",
       "      <td>0</td>\n",
       "      <td>1</td>\n",
       "      <td>0</td>\n",
       "      <td>1</td>\n",
       "      <td>1</td>\n",
       "      <td>155.75</td>\n",
       "      <td>2021</td>\n",
       "      <td>6</td>\n",
       "    </tr>\n",
       "    <tr>\n",
       "      <th>2</th>\n",
       "      <td>0</td>\n",
       "      <td>0</td>\n",
       "      <td>1</td>\n",
       "      <td>1</td>\n",
       "      <td>1</td>\n",
       "      <td>1</td>\n",
       "      <td>143.02</td>\n",
       "      <td>2021</td>\n",
       "      <td>6</td>\n",
       "    </tr>\n",
       "    <tr>\n",
       "      <th>3</th>\n",
       "      <td>0</td>\n",
       "      <td>0</td>\n",
       "      <td>2</td>\n",
       "      <td>0</td>\n",
       "      <td>1</td>\n",
       "      <td>1</td>\n",
       "      <td>139.39</td>\n",
       "      <td>2021</td>\n",
       "      <td>6</td>\n",
       "    </tr>\n",
       "    <tr>\n",
       "      <th>4</th>\n",
       "      <td>0</td>\n",
       "      <td>0</td>\n",
       "      <td>11</td>\n",
       "      <td>0</td>\n",
       "      <td>1</td>\n",
       "      <td>1</td>\n",
       "      <td>169.42</td>\n",
       "      <td>2021</td>\n",
       "      <td>6</td>\n",
       "    </tr>\n",
       "  </tbody>\n",
       "</table>\n",
       "</div>"
      ],
      "text/plain": [
       "   ProductType  Manufacturer  Area Code  Sourcing Channel  Product Size  \\\n",
       "0            0             0          0                 0             2   \n",
       "1            0             0          1                 0             1   \n",
       "2            0             0          1                 1             1   \n",
       "3            0             0          2                 0             1   \n",
       "4            0             0         11                 0             1   \n",
       "\n",
       "   Product Type  Sourcing Cost  Year  Month  \n",
       "0             1         103.68  2021      6  \n",
       "1             1         155.75  2021      6  \n",
       "2             1         143.02  2021      6  \n",
       "3             1         139.39  2021      6  \n",
       "4             1         169.42  2021      6  "
      ]
     },
     "execution_count": 74,
     "metadata": {},
     "output_type": "execute_result"
    }
   ],
   "source": [
    "X_test.head()"
   ]
  },
  {
   "cell_type": "markdown",
   "metadata": {},
   "source": [
    "## <a id='toc4_2_'></a>[Models](#toc0_)"
   ]
  },
  {
   "cell_type": "markdown",
   "metadata": {},
   "source": [
    "### <a id='toc4_2_1_'></a>[LSTM Model](#toc0_)"
   ]
  },
  {
   "cell_type": "code",
   "execution_count": 75,
   "metadata": {},
   "outputs": [
    {
     "data": {
      "text/plain": [
       "(1021, 9)"
      ]
     },
     "execution_count": 75,
     "metadata": {},
     "output_type": "execute_result"
    }
   ],
   "source": [
    "X_train.shape"
   ]
  },
  {
   "cell_type": "code",
   "execution_count": 76,
   "metadata": {},
   "outputs": [
    {
     "name": "stdout",
     "output_type": "stream",
     "text": [
      "Epoch 1/100\n",
      "32/32 [==============================] - 1s 4ms/step - loss: 350748.1250\n",
      "Epoch 2/100\n",
      "32/32 [==============================] - 0s 5ms/step - loss: 226602.5312\n",
      "Epoch 3/100\n",
      "32/32 [==============================] - 0s 4ms/step - loss: 223681.8281\n",
      "Epoch 4/100\n",
      "32/32 [==============================] - 0s 5ms/step - loss: 224398.6094\n",
      "Epoch 5/100\n",
      "32/32 [==============================] - 0s 4ms/step - loss: 223398.7344\n",
      "Epoch 6/100\n",
      "32/32 [==============================] - 0s 4ms/step - loss: 221834.7969\n",
      "Epoch 7/100\n",
      "32/32 [==============================] - 0s 4ms/step - loss: 223376.8594\n",
      "Epoch 8/100\n",
      "32/32 [==============================] - 0s 6ms/step - loss: 222088.0781\n",
      "Epoch 9/100\n",
      "32/32 [==============================] - 0s 5ms/step - loss: 220686.0000\n",
      "Epoch 10/100\n",
      "32/32 [==============================] - 0s 5ms/step - loss: 220296.2500\n",
      "Epoch 11/100\n",
      "32/32 [==============================] - 0s 5ms/step - loss: 219844.8281\n",
      "Epoch 12/100\n",
      "32/32 [==============================] - 0s 4ms/step - loss: 219697.3906\n",
      "Epoch 13/100\n",
      "32/32 [==============================] - 0s 4ms/step - loss: 218176.2188\n",
      "Epoch 14/100\n",
      "32/32 [==============================] - 0s 4ms/step - loss: 217873.6562\n",
      "Epoch 15/100\n",
      "32/32 [==============================] - 0s 4ms/step - loss: 218588.1406\n",
      "Epoch 16/100\n",
      "32/32 [==============================] - 0s 4ms/step - loss: 218662.4844\n",
      "Epoch 17/100\n",
      "32/32 [==============================] - 0s 4ms/step - loss: 216499.1719\n",
      "Epoch 18/100\n",
      "32/32 [==============================] - 0s 4ms/step - loss: 217883.7969\n",
      "Epoch 19/100\n",
      "32/32 [==============================] - 0s 5ms/step - loss: 215941.4844\n",
      "Epoch 20/100\n",
      "32/32 [==============================] - 0s 4ms/step - loss: 215997.0625\n",
      "Epoch 21/100\n",
      "32/32 [==============================] - 0s 4ms/step - loss: 216447.5312\n",
      "Epoch 22/100\n",
      "32/32 [==============================] - 0s 4ms/step - loss: 217005.0469\n",
      "Epoch 23/100\n",
      "32/32 [==============================] - 0s 4ms/step - loss: 213281.0781\n",
      "Epoch 24/100\n",
      "32/32 [==============================] - 0s 4ms/step - loss: 212089.7656\n",
      "Epoch 25/100\n",
      "32/32 [==============================] - 0s 4ms/step - loss: 211124.9688\n",
      "Epoch 26/100\n",
      "32/32 [==============================] - 0s 5ms/step - loss: 211226.5312\n",
      "Epoch 27/100\n",
      "32/32 [==============================] - 0s 4ms/step - loss: 211832.7344\n",
      "Epoch 28/100\n",
      "32/32 [==============================] - 0s 4ms/step - loss: 209665.9688\n",
      "Epoch 29/100\n",
      "32/32 [==============================] - 0s 4ms/step - loss: 206732.8281\n",
      "Epoch 30/100\n",
      "32/32 [==============================] - 0s 4ms/step - loss: 211574.7188\n",
      "Epoch 31/100\n",
      "32/32 [==============================] - 0s 4ms/step - loss: 210343.8750\n",
      "Epoch 32/100\n",
      "32/32 [==============================] - 0s 4ms/step - loss: 205486.5781\n",
      "Epoch 33/100\n",
      "32/32 [==============================] - 0s 4ms/step - loss: 203841.2344\n",
      "Epoch 34/100\n",
      "32/32 [==============================] - 0s 4ms/step - loss: 202839.2500\n",
      "Epoch 35/100\n",
      "32/32 [==============================] - 0s 4ms/step - loss: 205430.1875\n",
      "Epoch 36/100\n",
      "32/32 [==============================] - 0s 4ms/step - loss: 206928.0469\n",
      "Epoch 37/100\n",
      "32/32 [==============================] - 0s 4ms/step - loss: 199969.4531\n",
      "Epoch 38/100\n",
      "32/32 [==============================] - 0s 4ms/step - loss: 195735.8750\n",
      "Epoch 39/100\n",
      "32/32 [==============================] - 0s 4ms/step - loss: 193431.1250\n",
      "Epoch 40/100\n",
      "32/32 [==============================] - 0s 4ms/step - loss: 191481.9375\n",
      "Epoch 41/100\n",
      "32/32 [==============================] - 0s 4ms/step - loss: 187912.8438\n",
      "Epoch 42/100\n",
      "32/32 [==============================] - 0s 4ms/step - loss: 184207.9062\n",
      "Epoch 43/100\n",
      "32/32 [==============================] - 0s 4ms/step - loss: 188674.1719\n",
      "Epoch 44/100\n",
      "32/32 [==============================] - 0s 4ms/step - loss: 188872.4062\n",
      "Epoch 45/100\n",
      "32/32 [==============================] - 0s 4ms/step - loss: 189520.1719\n",
      "Epoch 46/100\n",
      "32/32 [==============================] - 0s 4ms/step - loss: 187437.1562\n",
      "Epoch 47/100\n",
      "32/32 [==============================] - 0s 6ms/step - loss: 185892.8281\n",
      "Epoch 48/100\n",
      "32/32 [==============================] - 0s 5ms/step - loss: 190237.4062\n",
      "Epoch 49/100\n",
      "32/32 [==============================] - 0s 5ms/step - loss: 183497.3594\n",
      "Epoch 50/100\n",
      "32/32 [==============================] - 0s 5ms/step - loss: 180633.5156\n",
      "Epoch 51/100\n",
      "32/32 [==============================] - 0s 5ms/step - loss: 181894.4375\n",
      "Epoch 52/100\n",
      "32/32 [==============================] - 0s 4ms/step - loss: 179682.3281\n",
      "Epoch 53/100\n",
      "32/32 [==============================] - 0s 4ms/step - loss: 190475.4219\n",
      "Epoch 54/100\n",
      "32/32 [==============================] - 0s 4ms/step - loss: 183533.3125\n",
      "Epoch 55/100\n",
      "32/32 [==============================] - 0s 4ms/step - loss: 179470.3906\n",
      "Epoch 56/100\n",
      "32/32 [==============================] - 0s 4ms/step - loss: 180979.3906\n",
      "Epoch 57/100\n",
      "32/32 [==============================] - 0s 4ms/step - loss: 183507.8906\n",
      "Epoch 58/100\n",
      "32/32 [==============================] - 0s 5ms/step - loss: 176632.2344\n",
      "Epoch 59/100\n",
      "32/32 [==============================] - 0s 4ms/step - loss: 176226.6562\n",
      "Epoch 60/100\n",
      "32/32 [==============================] - 0s 4ms/step - loss: 172315.5625\n",
      "Epoch 61/100\n",
      "32/32 [==============================] - 0s 4ms/step - loss: 179642.5000\n",
      "Epoch 62/100\n",
      "32/32 [==============================] - 0s 4ms/step - loss: 175907.8281\n",
      "Epoch 63/100\n",
      "32/32 [==============================] - 0s 4ms/step - loss: 180903.1406\n",
      "Epoch 64/100\n",
      "32/32 [==============================] - 0s 4ms/step - loss: 174118.1562\n",
      "Epoch 65/100\n",
      "32/32 [==============================] - 0s 5ms/step - loss: 172750.0156\n",
      "Epoch 66/100\n",
      "32/32 [==============================] - 0s 4ms/step - loss: 171005.7969\n",
      "Epoch 67/100\n",
      "32/32 [==============================] - 0s 4ms/step - loss: 166960.0000\n",
      "Epoch 68/100\n",
      "32/32 [==============================] - 0s 4ms/step - loss: 167055.6719\n",
      "Epoch 69/100\n",
      "32/32 [==============================] - 0s 4ms/step - loss: 170728.0312\n",
      "Epoch 70/100\n",
      "32/32 [==============================] - 0s 4ms/step - loss: 173704.1875\n",
      "Epoch 71/100\n",
      "32/32 [==============================] - 0s 4ms/step - loss: 189369.0938\n",
      "Epoch 72/100\n",
      "32/32 [==============================] - 0s 4ms/step - loss: 173942.8594\n",
      "Epoch 73/100\n",
      "32/32 [==============================] - 0s 4ms/step - loss: 172133.6719\n",
      "Epoch 74/100\n",
      "32/32 [==============================] - 0s 4ms/step - loss: 196300.0781\n",
      "Epoch 75/100\n",
      "32/32 [==============================] - 0s 4ms/step - loss: 187919.1094\n",
      "Epoch 76/100\n",
      "32/32 [==============================] - 0s 4ms/step - loss: 173901.0781\n",
      "Epoch 77/100\n",
      "32/32 [==============================] - 0s 5ms/step - loss: 170274.0312\n",
      "Epoch 78/100\n",
      "32/32 [==============================] - 0s 5ms/step - loss: 175961.0469\n",
      "Epoch 79/100\n",
      "32/32 [==============================] - 0s 4ms/step - loss: 167944.0781\n",
      "Epoch 80/100\n",
      "32/32 [==============================] - 0s 4ms/step - loss: 165631.5469\n",
      "Epoch 81/100\n",
      "32/32 [==============================] - 0s 5ms/step - loss: 167745.9375\n",
      "Epoch 82/100\n",
      "32/32 [==============================] - 0s 5ms/step - loss: 183576.6719\n",
      "Epoch 83/100\n",
      "32/32 [==============================] - 0s 4ms/step - loss: 174272.9375\n",
      "Epoch 84/100\n",
      "32/32 [==============================] - 0s 5ms/step - loss: 170340.8438\n",
      "Epoch 85/100\n",
      "32/32 [==============================] - 0s 4ms/step - loss: 168708.1406\n",
      "Epoch 86/100\n",
      "32/32 [==============================] - 0s 5ms/step - loss: 165686.7188\n",
      "Epoch 87/100\n",
      "32/32 [==============================] - 0s 5ms/step - loss: 166189.0000\n",
      "Epoch 88/100\n",
      "32/32 [==============================] - 0s 5ms/step - loss: 173482.2812\n",
      "Epoch 89/100\n",
      "32/32 [==============================] - 0s 4ms/step - loss: 171090.4375\n",
      "Epoch 90/100\n",
      "32/32 [==============================] - 0s 5ms/step - loss: 164505.3125\n",
      "Epoch 91/100\n",
      "32/32 [==============================] - 0s 4ms/step - loss: 164205.0312\n",
      "Epoch 92/100\n",
      "32/32 [==============================] - 0s 4ms/step - loss: 161973.0156\n",
      "Epoch 93/100\n",
      "32/32 [==============================] - 0s 4ms/step - loss: 165343.4062\n",
      "Epoch 94/100\n",
      "32/32 [==============================] - 0s 4ms/step - loss: 156909.5312\n",
      "Epoch 95/100\n",
      "32/32 [==============================] - 0s 5ms/step - loss: 171660.6562\n",
      "Epoch 96/100\n",
      "32/32 [==============================] - 0s 5ms/step - loss: 159203.0156\n",
      "Epoch 97/100\n",
      "32/32 [==============================] - 0s 4ms/step - loss: 156115.4062\n",
      "Epoch 98/100\n",
      "32/32 [==============================] - 0s 4ms/step - loss: 154288.1250\n",
      "Epoch 99/100\n",
      "32/32 [==============================] - 0s 5ms/step - loss: 155126.2969\n",
      "Epoch 100/100\n",
      "32/32 [==============================] - 0s 6ms/step - loss: 153686.0469\n"
     ]
    },
    {
     "data": {
      "text/plain": [
       "<keras.src.callbacks.History at 0x152c62d8210>"
      ]
     },
     "execution_count": 76,
     "metadata": {},
     "output_type": "execute_result"
    }
   ],
   "source": [
    "# Define the LSTM model\n",
    "model = Sequential()\n",
    "model.add(LSTM(units=100, activation='relu', input_shape=(X_train.shape[1], 1)))\n",
    "model.add(Dense(units=1))\n",
    "\n",
    "# Compile the model\n",
    "model.compile(optimizer='adam', loss='mean_squared_error')\n",
    "\n",
    "# Train the model\n",
    "# Reshape input data for LSTM\n",
    "X_train_lstm = X_train.values.reshape((X_train.shape[0], X_train.shape[1], 1))\n",
    "\n",
    "# Fit the model\n",
    "model.fit(X_train_lstm, y_train, epochs=100, batch_size=32)\n",
    "\n"
   ]
  },
  {
   "cell_type": "code",
   "execution_count": 77,
   "metadata": {},
   "outputs": [
    {
     "data": {
      "text/html": [
       "<div>\n",
       "<style scoped>\n",
       "    .dataframe tbody tr th:only-of-type {\n",
       "        vertical-align: middle;\n",
       "    }\n",
       "\n",
       "    .dataframe tbody tr th {\n",
       "        vertical-align: top;\n",
       "    }\n",
       "\n",
       "    .dataframe thead th {\n",
       "        text-align: right;\n",
       "    }\n",
       "</style>\n",
       "<table border=\"1\" class=\"dataframe\">\n",
       "  <thead>\n",
       "    <tr style=\"text-align: right;\">\n",
       "      <th></th>\n",
       "      <th>ProductType</th>\n",
       "      <th>Manufacturer</th>\n",
       "      <th>Area Code</th>\n",
       "      <th>Sourcing Channel</th>\n",
       "      <th>Product Size</th>\n",
       "      <th>Product Type</th>\n",
       "      <th>Month of Sourcing</th>\n",
       "      <th>Sourcing Cost</th>\n",
       "      <th>Year</th>\n",
       "      <th>Month</th>\n",
       "    </tr>\n",
       "  </thead>\n",
       "  <tbody>\n",
       "    <tr>\n",
       "      <th>0</th>\n",
       "      <td>NTM1</td>\n",
       "      <td>X1</td>\n",
       "      <td>A1</td>\n",
       "      <td>DIRECT</td>\n",
       "      <td>Small</td>\n",
       "      <td>Powder</td>\n",
       "      <td>2021-06-21</td>\n",
       "      <td>103.68</td>\n",
       "      <td>2021</td>\n",
       "      <td>6</td>\n",
       "    </tr>\n",
       "    <tr>\n",
       "      <th>1</th>\n",
       "      <td>NTM1</td>\n",
       "      <td>X1</td>\n",
       "      <td>A10</td>\n",
       "      <td>DIRECT</td>\n",
       "      <td>Large</td>\n",
       "      <td>Powder</td>\n",
       "      <td>2021-06-21</td>\n",
       "      <td>155.75</td>\n",
       "      <td>2021</td>\n",
       "      <td>6</td>\n",
       "    </tr>\n",
       "    <tr>\n",
       "      <th>2</th>\n",
       "      <td>NTM1</td>\n",
       "      <td>X1</td>\n",
       "      <td>A10</td>\n",
       "      <td>ECOM</td>\n",
       "      <td>Large</td>\n",
       "      <td>Powder</td>\n",
       "      <td>2021-06-21</td>\n",
       "      <td>143.02</td>\n",
       "      <td>2021</td>\n",
       "      <td>6</td>\n",
       "    </tr>\n",
       "    <tr>\n",
       "      <th>3</th>\n",
       "      <td>NTM1</td>\n",
       "      <td>X1</td>\n",
       "      <td>A11</td>\n",
       "      <td>DIRECT</td>\n",
       "      <td>Large</td>\n",
       "      <td>Powder</td>\n",
       "      <td>2021-06-21</td>\n",
       "      <td>139.39</td>\n",
       "      <td>2021</td>\n",
       "      <td>6</td>\n",
       "    </tr>\n",
       "    <tr>\n",
       "      <th>4</th>\n",
       "      <td>NTM1</td>\n",
       "      <td>X1</td>\n",
       "      <td>A2</td>\n",
       "      <td>DIRECT</td>\n",
       "      <td>Large</td>\n",
       "      <td>Powder</td>\n",
       "      <td>2021-06-21</td>\n",
       "      <td>169.42</td>\n",
       "      <td>2021</td>\n",
       "      <td>6</td>\n",
       "    </tr>\n",
       "  </tbody>\n",
       "</table>\n",
       "</div>"
      ],
      "text/plain": [
       "  ProductType Manufacturer Area Code Sourcing Channel Product Size  \\\n",
       "0        NTM1           X1        A1           DIRECT        Small   \n",
       "1        NTM1           X1       A10           DIRECT        Large   \n",
       "2        NTM1           X1       A10             ECOM        Large   \n",
       "3        NTM1           X1       A11           DIRECT        Large   \n",
       "4        NTM1           X1        A2           DIRECT        Large   \n",
       "\n",
       "  Product Type Month of Sourcing  Sourcing Cost  Year  Month  \n",
       "0       Powder        2021-06-21         103.68  2021      6  \n",
       "1       Powder        2021-06-21         155.75  2021      6  \n",
       "2       Powder        2021-06-21         143.02  2021      6  \n",
       "3       Powder        2021-06-21         139.39  2021      6  \n",
       "4       Powder        2021-06-21         169.42  2021      6  "
      ]
     },
     "execution_count": 77,
     "metadata": {},
     "output_type": "execute_result"
    }
   ],
   "source": [
    "test_df.head()"
   ]
  },
  {
   "cell_type": "code",
   "execution_count": 78,
   "metadata": {},
   "outputs": [
    {
     "name": "stdout",
     "output_type": "stream",
     "text": [
      "3/3 [==============================] - 0s 3ms/step\n",
      "Forecasted quantity for June 2021:\n",
      "[[ 974.8107  ]\n",
      " [ 661.12775 ]\n",
      " [ 708.8583  ]\n",
      " [ 729.6732  ]\n",
      " [ 364.08652 ]\n",
      " [ 374.5717  ]\n",
      " [ 223.75891 ]\n",
      " [ 223.03369 ]\n",
      " [ 605.63007 ]\n",
      " [ 699.53625 ]\n",
      " [ 675.6361  ]\n",
      " [ 488.39523 ]\n",
      " [ 468.16257 ]\n",
      " [ 517.1162  ]\n",
      " [ 482.92578 ]\n",
      " [ 459.7905  ]\n",
      " [ 497.12122 ]\n",
      " [ 483.11734 ]\n",
      " [ 481.99802 ]\n",
      " [ 451.12033 ]\n",
      " [ 451.73895 ]\n",
      " [ 393.0187  ]\n",
      " [ 395.94272 ]\n",
      " [1452.3019  ]\n",
      " [ 871.1982  ]\n",
      " [ 162.4043  ]\n",
      " [ 291.43753 ]\n",
      " [ 727.5924  ]\n",
      " [ 891.5113  ]\n",
      " [ 210.41986 ]\n",
      " [ 507.50333 ]\n",
      " [ 591.5658  ]\n",
      " [ 342.9808  ]\n",
      " [ 276.2936  ]\n",
      " [ 177.28787 ]\n",
      " [ 878.55206 ]\n",
      " [ 852.0938  ]\n",
      " [ 892.5221  ]\n",
      " [ 883.1294  ]\n",
      " [ 396.146   ]\n",
      " [ 464.04053 ]\n",
      " [ 780.66003 ]\n",
      " [ 338.31705 ]\n",
      " [ 340.8507  ]\n",
      " [ 340.64352 ]\n",
      " [ 352.93576 ]\n",
      " [ 366.7739  ]\n",
      " [ 693.7385  ]\n",
      " [ 853.41785 ]\n",
      " [ 769.66345 ]\n",
      " [ 759.84875 ]\n",
      " [ 873.66895 ]\n",
      " [ 186.34879 ]\n",
      " [ 193.85443 ]\n",
      " [ 798.34515 ]\n",
      " [ 853.36414 ]\n",
      " [ 781.65393 ]\n",
      " [ 758.756   ]\n",
      " [ 204.8772  ]\n",
      " [ 666.16785 ]\n",
      " [  59.047966]\n",
      " [ 577.07855 ]\n",
      " [ 580.43494 ]\n",
      " [ 544.09784 ]\n",
      " [ 543.531   ]\n",
      " [ 520.0669  ]\n",
      " [ 523.4126  ]\n",
      " [ 515.39307 ]\n",
      " [ 515.3463  ]\n",
      " [ 510.29214 ]\n",
      " [ 486.08456 ]\n",
      " [ 508.39606 ]\n",
      " [ 906.56433 ]\n",
      " [1246.2216  ]\n",
      " [ 257.872   ]\n",
      " [ 690.25244 ]\n",
      " [ 351.72934 ]\n",
      " [ 378.06277 ]\n",
      " [ 384.31146 ]\n",
      " [ 428.7573  ]\n",
      " [ 417.39865 ]\n",
      " [ 415.38773 ]\n",
      " [ 327.08762 ]\n",
      " [ 438.46457 ]\n",
      " [ 807.8741  ]\n",
      " [ 908.9346  ]\n",
      " [ 464.1771  ]\n",
      " [1082.7966  ]\n",
      " [ 373.12848 ]\n",
      " [ 800.3204  ]\n",
      " [ 842.11224 ]\n",
      " [ 680.2553  ]\n",
      " [ 566.19666 ]\n",
      " [ 567.1621  ]\n",
      " [ 597.4479  ]\n",
      " [ 689.93585 ]]\n"
     ]
    }
   ],
   "source": [
    "# Step 4: Forecast the quantity for June 2021\n",
    "\n",
    "# Make predictions\n",
    "predictions_lstm = model.predict(X_test_lstm)\n",
    "\n",
    "# Display forecast for July 2021\n",
    "print(\"Forecasted quantity for June 2021:\")\n",
    "print(predictions_lstm)\n",
    "\n",
    "\n",
    "\n"
   ]
  },
  {
   "cell_type": "code",
   "execution_count": 79,
   "metadata": {},
   "outputs": [
    {
     "name": "stdout",
     "output_type": "stream",
     "text": [
      "Predicted quantity for June 2021:\n"
     ]
    },
    {
     "data": {
      "text/html": [
       "<div>\n",
       "<style scoped>\n",
       "    .dataframe tbody tr th:only-of-type {\n",
       "        vertical-align: middle;\n",
       "    }\n",
       "\n",
       "    .dataframe tbody tr th {\n",
       "        vertical-align: top;\n",
       "    }\n",
       "\n",
       "    .dataframe thead th {\n",
       "        text-align: right;\n",
       "    }\n",
       "</style>\n",
       "<table border=\"1\" class=\"dataframe\">\n",
       "  <thead>\n",
       "    <tr style=\"text-align: right;\">\n",
       "      <th></th>\n",
       "      <th>Predicted quantity</th>\n",
       "    </tr>\n",
       "  </thead>\n",
       "  <tbody>\n",
       "    <tr>\n",
       "      <th>0</th>\n",
       "      <td>974.810730</td>\n",
       "    </tr>\n",
       "    <tr>\n",
       "      <th>1</th>\n",
       "      <td>661.127747</td>\n",
       "    </tr>\n",
       "    <tr>\n",
       "      <th>2</th>\n",
       "      <td>708.858276</td>\n",
       "    </tr>\n",
       "    <tr>\n",
       "      <th>3</th>\n",
       "      <td>729.673218</td>\n",
       "    </tr>\n",
       "    <tr>\n",
       "      <th>4</th>\n",
       "      <td>364.086517</td>\n",
       "    </tr>\n",
       "    <tr>\n",
       "      <th>...</th>\n",
       "      <td>...</td>\n",
       "    </tr>\n",
       "    <tr>\n",
       "      <th>91</th>\n",
       "      <td>680.255310</td>\n",
       "    </tr>\n",
       "    <tr>\n",
       "      <th>92</th>\n",
       "      <td>566.196655</td>\n",
       "    </tr>\n",
       "    <tr>\n",
       "      <th>93</th>\n",
       "      <td>567.162109</td>\n",
       "    </tr>\n",
       "    <tr>\n",
       "      <th>94</th>\n",
       "      <td>597.447876</td>\n",
       "    </tr>\n",
       "    <tr>\n",
       "      <th>95</th>\n",
       "      <td>689.935852</td>\n",
       "    </tr>\n",
       "  </tbody>\n",
       "</table>\n",
       "<p>96 rows × 1 columns</p>\n",
       "</div>"
      ],
      "text/plain": [
       "    Predicted quantity\n",
       "0           974.810730\n",
       "1           661.127747\n",
       "2           708.858276\n",
       "3           729.673218\n",
       "4           364.086517\n",
       "..                 ...\n",
       "91          680.255310\n",
       "92          566.196655\n",
       "93          567.162109\n",
       "94          597.447876\n",
       "95          689.935852\n",
       "\n",
       "[96 rows x 1 columns]"
      ]
     },
     "execution_count": 79,
     "metadata": {},
     "output_type": "execute_result"
    }
   ],
   "source": [
    "test_df_lstm = test_df.copy()\n",
    "# Create a DataFrame to display original and predicted quantity values side by side\n",
    "quantity_comparison_df_lstm = pd.DataFrame({'Predicted quantity': predictions_lstm.flatten()})\n",
    "# Display the DataFrame\n",
    "print(\"Predicted quantity for June 2021:\")\n",
    "quantity_comparison_df_lstm\n"
   ]
  },
  {
   "cell_type": "code",
   "execution_count": 80,
   "metadata": {},
   "outputs": [
    {
     "data": {
      "text/html": [
       "<div>\n",
       "<style scoped>\n",
       "    .dataframe tbody tr th:only-of-type {\n",
       "        vertical-align: middle;\n",
       "    }\n",
       "\n",
       "    .dataframe tbody tr th {\n",
       "        vertical-align: top;\n",
       "    }\n",
       "\n",
       "    .dataframe thead th {\n",
       "        text-align: right;\n",
       "    }\n",
       "</style>\n",
       "<table border=\"1\" class=\"dataframe\">\n",
       "  <thead>\n",
       "    <tr style=\"text-align: right;\">\n",
       "      <th></th>\n",
       "      <th>ProductType</th>\n",
       "      <th>Manufacturer</th>\n",
       "      <th>Area Code</th>\n",
       "      <th>Sourcing Channel</th>\n",
       "      <th>Product Size</th>\n",
       "      <th>Product Type</th>\n",
       "      <th>Month of Sourcing</th>\n",
       "      <th>Sourcing Cost</th>\n",
       "      <th>Year</th>\n",
       "      <th>Month</th>\n",
       "      <th>Predicted quantity</th>\n",
       "    </tr>\n",
       "  </thead>\n",
       "  <tbody>\n",
       "    <tr>\n",
       "      <th>0</th>\n",
       "      <td>NTM1</td>\n",
       "      <td>X1</td>\n",
       "      <td>A1</td>\n",
       "      <td>DIRECT</td>\n",
       "      <td>Small</td>\n",
       "      <td>Powder</td>\n",
       "      <td>2021-06-21</td>\n",
       "      <td>103.68</td>\n",
       "      <td>2021</td>\n",
       "      <td>6</td>\n",
       "      <td>974</td>\n",
       "    </tr>\n",
       "    <tr>\n",
       "      <th>1</th>\n",
       "      <td>NTM1</td>\n",
       "      <td>X1</td>\n",
       "      <td>A10</td>\n",
       "      <td>DIRECT</td>\n",
       "      <td>Large</td>\n",
       "      <td>Powder</td>\n",
       "      <td>2021-06-21</td>\n",
       "      <td>155.75</td>\n",
       "      <td>2021</td>\n",
       "      <td>6</td>\n",
       "      <td>661</td>\n",
       "    </tr>\n",
       "    <tr>\n",
       "      <th>2</th>\n",
       "      <td>NTM1</td>\n",
       "      <td>X1</td>\n",
       "      <td>A10</td>\n",
       "      <td>ECOM</td>\n",
       "      <td>Large</td>\n",
       "      <td>Powder</td>\n",
       "      <td>2021-06-21</td>\n",
       "      <td>143.02</td>\n",
       "      <td>2021</td>\n",
       "      <td>6</td>\n",
       "      <td>708</td>\n",
       "    </tr>\n",
       "    <tr>\n",
       "      <th>3</th>\n",
       "      <td>NTM1</td>\n",
       "      <td>X1</td>\n",
       "      <td>A11</td>\n",
       "      <td>DIRECT</td>\n",
       "      <td>Large</td>\n",
       "      <td>Powder</td>\n",
       "      <td>2021-06-21</td>\n",
       "      <td>139.39</td>\n",
       "      <td>2021</td>\n",
       "      <td>6</td>\n",
       "      <td>729</td>\n",
       "    </tr>\n",
       "    <tr>\n",
       "      <th>4</th>\n",
       "      <td>NTM1</td>\n",
       "      <td>X1</td>\n",
       "      <td>A2</td>\n",
       "      <td>DIRECT</td>\n",
       "      <td>Large</td>\n",
       "      <td>Powder</td>\n",
       "      <td>2021-06-21</td>\n",
       "      <td>169.42</td>\n",
       "      <td>2021</td>\n",
       "      <td>6</td>\n",
       "      <td>364</td>\n",
       "    </tr>\n",
       "    <tr>\n",
       "      <th>...</th>\n",
       "      <td>...</td>\n",
       "      <td>...</td>\n",
       "      <td>...</td>\n",
       "      <td>...</td>\n",
       "      <td>...</td>\n",
       "      <td>...</td>\n",
       "      <td>...</td>\n",
       "      <td>...</td>\n",
       "      <td>...</td>\n",
       "      <td>...</td>\n",
       "      <td>...</td>\n",
       "    </tr>\n",
       "    <tr>\n",
       "      <th>91</th>\n",
       "      <td>NTM3</td>\n",
       "      <td>X1</td>\n",
       "      <td>A44</td>\n",
       "      <td>DIRECT</td>\n",
       "      <td>Small</td>\n",
       "      <td>Liquid</td>\n",
       "      <td>2021-06-21</td>\n",
       "      <td>89.57</td>\n",
       "      <td>2021</td>\n",
       "      <td>6</td>\n",
       "      <td>680</td>\n",
       "    </tr>\n",
       "    <tr>\n",
       "      <th>92</th>\n",
       "      <td>NTM3</td>\n",
       "      <td>X1</td>\n",
       "      <td>A8</td>\n",
       "      <td>DIRECT</td>\n",
       "      <td>Large</td>\n",
       "      <td>Powder</td>\n",
       "      <td>2021-06-21</td>\n",
       "      <td>114.57</td>\n",
       "      <td>2021</td>\n",
       "      <td>6</td>\n",
       "      <td>566</td>\n",
       "    </tr>\n",
       "    <tr>\n",
       "      <th>93</th>\n",
       "      <td>NTM3</td>\n",
       "      <td>X1</td>\n",
       "      <td>A8</td>\n",
       "      <td>DIRECT</td>\n",
       "      <td>Small</td>\n",
       "      <td>Powder</td>\n",
       "      <td>2021-06-21</td>\n",
       "      <td>111.26</td>\n",
       "      <td>2021</td>\n",
       "      <td>6</td>\n",
       "      <td>567</td>\n",
       "    </tr>\n",
       "    <tr>\n",
       "      <th>94</th>\n",
       "      <td>NTM3</td>\n",
       "      <td>X2</td>\n",
       "      <td>A20</td>\n",
       "      <td>DIRECT</td>\n",
       "      <td>Large</td>\n",
       "      <td>Powder</td>\n",
       "      <td>2021-06-21</td>\n",
       "      <td>32.32</td>\n",
       "      <td>2021</td>\n",
       "      <td>6</td>\n",
       "      <td>597</td>\n",
       "    </tr>\n",
       "    <tr>\n",
       "      <th>95</th>\n",
       "      <td>NTM3</td>\n",
       "      <td>X3</td>\n",
       "      <td>A22</td>\n",
       "      <td>RETAIL</td>\n",
       "      <td>Large</td>\n",
       "      <td>Powder</td>\n",
       "      <td>2021-06-21</td>\n",
       "      <td>40.73</td>\n",
       "      <td>2021</td>\n",
       "      <td>6</td>\n",
       "      <td>689</td>\n",
       "    </tr>\n",
       "  </tbody>\n",
       "</table>\n",
       "<p>96 rows × 11 columns</p>\n",
       "</div>"
      ],
      "text/plain": [
       "   ProductType Manufacturer Area Code Sourcing Channel Product Size  \\\n",
       "0         NTM1           X1        A1           DIRECT        Small   \n",
       "1         NTM1           X1       A10           DIRECT        Large   \n",
       "2         NTM1           X1       A10             ECOM        Large   \n",
       "3         NTM1           X1       A11           DIRECT        Large   \n",
       "4         NTM1           X1        A2           DIRECT        Large   \n",
       "..         ...          ...       ...              ...          ...   \n",
       "91        NTM3           X1       A44           DIRECT        Small   \n",
       "92        NTM3           X1        A8           DIRECT        Large   \n",
       "93        NTM3           X1        A8           DIRECT        Small   \n",
       "94        NTM3           X2       A20           DIRECT        Large   \n",
       "95        NTM3           X3       A22           RETAIL        Large   \n",
       "\n",
       "   Product Type Month of Sourcing  Sourcing Cost  Year  Month  \\\n",
       "0        Powder        2021-06-21         103.68  2021      6   \n",
       "1        Powder        2021-06-21         155.75  2021      6   \n",
       "2        Powder        2021-06-21         143.02  2021      6   \n",
       "3        Powder        2021-06-21         139.39  2021      6   \n",
       "4        Powder        2021-06-21         169.42  2021      6   \n",
       "..          ...               ...            ...   ...    ...   \n",
       "91       Liquid        2021-06-21          89.57  2021      6   \n",
       "92       Powder        2021-06-21         114.57  2021      6   \n",
       "93       Powder        2021-06-21         111.26  2021      6   \n",
       "94       Powder        2021-06-21          32.32  2021      6   \n",
       "95       Powder        2021-06-21          40.73  2021      6   \n",
       "\n",
       "    Predicted quantity  \n",
       "0                  974  \n",
       "1                  661  \n",
       "2                  708  \n",
       "3                  729  \n",
       "4                  364  \n",
       "..                 ...  \n",
       "91                 680  \n",
       "92                 566  \n",
       "93                 567  \n",
       "94                 597  \n",
       "95                 689  \n",
       "\n",
       "[96 rows x 11 columns]"
      ]
     },
     "execution_count": 80,
     "metadata": {},
     "output_type": "execute_result"
    }
   ],
   "source": [
    "test_df_lstm['Predicted quantity'] = predictions_lstm.flatten().astype(int)\n",
    "test_df_lstm"
   ]
  },
  {
   "cell_type": "markdown",
   "metadata": {},
   "source": [
    "### <a id='toc4_2_2_'></a>[XGBoost Regressor](#toc0_)"
   ]
  },
  {
   "cell_type": "code",
   "execution_count": 81,
   "metadata": {},
   "outputs": [
    {
     "data": {
      "text/plain": [
       "(1021, 9)"
      ]
     },
     "execution_count": 81,
     "metadata": {},
     "output_type": "execute_result"
    }
   ],
   "source": [
    "X_train.shape"
   ]
  },
  {
   "cell_type": "code",
   "execution_count": 82,
   "metadata": {},
   "outputs": [
    {
     "data": {
      "text/html": [
       "<style>#sk-container-id-3 {color: black;background-color: white;}#sk-container-id-3 pre{padding: 0;}#sk-container-id-3 div.sk-toggleable {background-color: white;}#sk-container-id-3 label.sk-toggleable__label {cursor: pointer;display: block;width: 100%;margin-bottom: 0;padding: 0.3em;box-sizing: border-box;text-align: center;}#sk-container-id-3 label.sk-toggleable__label-arrow:before {content: \"▸\";float: left;margin-right: 0.25em;color: #696969;}#sk-container-id-3 label.sk-toggleable__label-arrow:hover:before {color: black;}#sk-container-id-3 div.sk-estimator:hover label.sk-toggleable__label-arrow:before {color: black;}#sk-container-id-3 div.sk-toggleable__content {max-height: 0;max-width: 0;overflow: hidden;text-align: left;background-color: #f0f8ff;}#sk-container-id-3 div.sk-toggleable__content pre {margin: 0.2em;color: black;border-radius: 0.25em;background-color: #f0f8ff;}#sk-container-id-3 input.sk-toggleable__control:checked~div.sk-toggleable__content {max-height: 200px;max-width: 100%;overflow: auto;}#sk-container-id-3 input.sk-toggleable__control:checked~label.sk-toggleable__label-arrow:before {content: \"▾\";}#sk-container-id-3 div.sk-estimator input.sk-toggleable__control:checked~label.sk-toggleable__label {background-color: #d4ebff;}#sk-container-id-3 div.sk-label input.sk-toggleable__control:checked~label.sk-toggleable__label {background-color: #d4ebff;}#sk-container-id-3 input.sk-hidden--visually {border: 0;clip: rect(1px 1px 1px 1px);clip: rect(1px, 1px, 1px, 1px);height: 1px;margin: -1px;overflow: hidden;padding: 0;position: absolute;width: 1px;}#sk-container-id-3 div.sk-estimator {font-family: monospace;background-color: #f0f8ff;border: 1px dotted black;border-radius: 0.25em;box-sizing: border-box;margin-bottom: 0.5em;}#sk-container-id-3 div.sk-estimator:hover {background-color: #d4ebff;}#sk-container-id-3 div.sk-parallel-item::after {content: \"\";width: 100%;border-bottom: 1px solid gray;flex-grow: 1;}#sk-container-id-3 div.sk-label:hover label.sk-toggleable__label {background-color: #d4ebff;}#sk-container-id-3 div.sk-serial::before {content: \"\";position: absolute;border-left: 1px solid gray;box-sizing: border-box;top: 0;bottom: 0;left: 50%;z-index: 0;}#sk-container-id-3 div.sk-serial {display: flex;flex-direction: column;align-items: center;background-color: white;padding-right: 0.2em;padding-left: 0.2em;position: relative;}#sk-container-id-3 div.sk-item {position: relative;z-index: 1;}#sk-container-id-3 div.sk-parallel {display: flex;align-items: stretch;justify-content: center;background-color: white;position: relative;}#sk-container-id-3 div.sk-item::before, #sk-container-id-3 div.sk-parallel-item::before {content: \"\";position: absolute;border-left: 1px solid gray;box-sizing: border-box;top: 0;bottom: 0;left: 50%;z-index: -1;}#sk-container-id-3 div.sk-parallel-item {display: flex;flex-direction: column;z-index: 1;position: relative;background-color: white;}#sk-container-id-3 div.sk-parallel-item:first-child::after {align-self: flex-end;width: 50%;}#sk-container-id-3 div.sk-parallel-item:last-child::after {align-self: flex-start;width: 50%;}#sk-container-id-3 div.sk-parallel-item:only-child::after {width: 0;}#sk-container-id-3 div.sk-dashed-wrapped {border: 1px dashed gray;margin: 0 0.4em 0.5em 0.4em;box-sizing: border-box;padding-bottom: 0.4em;background-color: white;}#sk-container-id-3 div.sk-label label {font-family: monospace;font-weight: bold;display: inline-block;line-height: 1.2em;}#sk-container-id-3 div.sk-label-container {text-align: center;}#sk-container-id-3 div.sk-container {/* jupyter's `normalize.less` sets `[hidden] { display: none; }` but bootstrap.min.css set `[hidden] { display: none !important; }` so we also need the `!important` here to be able to override the default hidden behavior on the sphinx rendered scikit-learn.org. See: https://github.com/scikit-learn/scikit-learn/issues/21755 */display: inline-block !important;position: relative;}#sk-container-id-3 div.sk-text-repr-fallback {display: none;}</style><div id=\"sk-container-id-3\" class=\"sk-top-container\"><div class=\"sk-text-repr-fallback\"><pre>XGBRegressor(base_score=0.5, booster=&#x27;gbtree&#x27;, colsample_bylevel=1,\n",
       "             colsample_bynode=1, colsample_bytree=1, gamma=0, gpu_id=-1,\n",
       "             importance_type=&#x27;gain&#x27;, interaction_constraints=&#x27;&#x27;,\n",
       "             learning_rate=0.300000012, max_delta_step=0, max_depth=6,\n",
       "             min_child_weight=1, missing=nan, monotone_constraints=&#x27;()&#x27;,\n",
       "             n_estimators=100, n_jobs=0, num_parallel_tree=1, random_state=0,\n",
       "             reg_alpha=0, reg_lambda=1, scale_pos_weight=1, subsample=1,\n",
       "             tree_method=&#x27;exact&#x27;, validate_parameters=1, verbosity=None)</pre><b>In a Jupyter environment, please rerun this cell to show the HTML representation or trust the notebook. <br />On GitHub, the HTML representation is unable to render, please try loading this page with nbviewer.org.</b></div><div class=\"sk-container\" hidden><div class=\"sk-item\"><div class=\"sk-estimator sk-toggleable\"><input class=\"sk-toggleable__control sk-hidden--visually\" id=\"sk-estimator-id-3\" type=\"checkbox\" checked><label for=\"sk-estimator-id-3\" class=\"sk-toggleable__label sk-toggleable__label-arrow\">XGBRegressor</label><div class=\"sk-toggleable__content\"><pre>XGBRegressor(base_score=0.5, booster=&#x27;gbtree&#x27;, colsample_bylevel=1,\n",
       "             colsample_bynode=1, colsample_bytree=1, gamma=0, gpu_id=-1,\n",
       "             importance_type=&#x27;gain&#x27;, interaction_constraints=&#x27;&#x27;,\n",
       "             learning_rate=0.300000012, max_delta_step=0, max_depth=6,\n",
       "             min_child_weight=1, missing=nan, monotone_constraints=&#x27;()&#x27;,\n",
       "             n_estimators=100, n_jobs=0, num_parallel_tree=1, random_state=0,\n",
       "             reg_alpha=0, reg_lambda=1, scale_pos_weight=1, subsample=1,\n",
       "             tree_method=&#x27;exact&#x27;, validate_parameters=1, verbosity=None)</pre></div></div></div></div></div>"
      ],
      "text/plain": [
       "XGBRegressor(base_score=0.5, booster='gbtree', colsample_bylevel=1,\n",
       "             colsample_bynode=1, colsample_bytree=1, gamma=0, gpu_id=-1,\n",
       "             importance_type='gain', interaction_constraints='',\n",
       "             learning_rate=0.300000012, max_delta_step=0, max_depth=6,\n",
       "             min_child_weight=1, missing=nan, monotone_constraints='()',\n",
       "             n_estimators=100, n_jobs=0, num_parallel_tree=1, random_state=0,\n",
       "             reg_alpha=0, reg_lambda=1, scale_pos_weight=1, subsample=1,\n",
       "             tree_method='exact', validate_parameters=1, verbosity=None)"
      ]
     },
     "execution_count": 82,
     "metadata": {},
     "output_type": "execute_result"
    }
   ],
   "source": [
    "import xgboost as xgb\n",
    "from sklearn.metrics import mean_squared_error\n",
    "\n",
    "xgb_reg = xgb.XGBRegressor()\n",
    "xgb_reg.fit(X_train, y_train)\n",
    "\n"
   ]
  },
  {
   "cell_type": "code",
   "execution_count": 83,
   "metadata": {},
   "outputs": [],
   "source": [
    "#Predictions\n",
    "y_pred_xgb = xgb_reg.predict(X_test)\n"
   ]
  },
  {
   "cell_type": "code",
   "execution_count": 84,
   "metadata": {},
   "outputs": [
    {
     "name": "stdout",
     "output_type": "stream",
     "text": [
      "Predicted Quantity for June 2021:\n"
     ]
    },
    {
     "data": {
      "text/html": [
       "<div>\n",
       "<style scoped>\n",
       "    .dataframe tbody tr th:only-of-type {\n",
       "        vertical-align: middle;\n",
       "    }\n",
       "\n",
       "    .dataframe tbody tr th {\n",
       "        vertical-align: top;\n",
       "    }\n",
       "\n",
       "    .dataframe thead th {\n",
       "        text-align: right;\n",
       "    }\n",
       "</style>\n",
       "<table border=\"1\" class=\"dataframe\">\n",
       "  <thead>\n",
       "    <tr style=\"text-align: right;\">\n",
       "      <th></th>\n",
       "      <th>Predicted Quantity</th>\n",
       "    </tr>\n",
       "  </thead>\n",
       "  <tbody>\n",
       "    <tr>\n",
       "      <th>0</th>\n",
       "      <td>116.454384</td>\n",
       "    </tr>\n",
       "    <tr>\n",
       "      <th>1</th>\n",
       "      <td>151.400452</td>\n",
       "    </tr>\n",
       "    <tr>\n",
       "      <th>2</th>\n",
       "      <td>154.844589</td>\n",
       "    </tr>\n",
       "    <tr>\n",
       "      <th>3</th>\n",
       "      <td>135.797363</td>\n",
       "    </tr>\n",
       "    <tr>\n",
       "      <th>4</th>\n",
       "      <td>162.202789</td>\n",
       "    </tr>\n",
       "    <tr>\n",
       "      <th>...</th>\n",
       "      <td>...</td>\n",
       "    </tr>\n",
       "    <tr>\n",
       "      <th>91</th>\n",
       "      <td>66.181244</td>\n",
       "    </tr>\n",
       "    <tr>\n",
       "      <th>92</th>\n",
       "      <td>120.000061</td>\n",
       "    </tr>\n",
       "    <tr>\n",
       "      <th>93</th>\n",
       "      <td>114.907295</td>\n",
       "    </tr>\n",
       "    <tr>\n",
       "      <th>94</th>\n",
       "      <td>17.602777</td>\n",
       "    </tr>\n",
       "    <tr>\n",
       "      <th>95</th>\n",
       "      <td>68.420876</td>\n",
       "    </tr>\n",
       "  </tbody>\n",
       "</table>\n",
       "<p>96 rows × 1 columns</p>\n",
       "</div>"
      ],
      "text/plain": [
       "    Predicted Quantity\n",
       "0           116.454384\n",
       "1           151.400452\n",
       "2           154.844589\n",
       "3           135.797363\n",
       "4           162.202789\n",
       "..                 ...\n",
       "91           66.181244\n",
       "92          120.000061\n",
       "93          114.907295\n",
       "94           17.602777\n",
       "95           68.420876\n",
       "\n",
       "[96 rows x 1 columns]"
      ]
     },
     "execution_count": 84,
     "metadata": {},
     "output_type": "execute_result"
    }
   ],
   "source": [
    "test_df_xgb = test_df.copy()\n",
    "\n",
    "# Creating a DataFrame to display original and predicted quantity values side by side\n",
    "quantity_df_xgb = pd.DataFrame({'Predicted Quantity': y_pred.flatten()})\n",
    "\n",
    "# Display the DataFrame\n",
    "print(\"Predicted Quantity for June 2021:\")\n",
    "quantity_df_xgb"
   ]
  },
  {
   "cell_type": "code",
   "execution_count": 85,
   "metadata": {},
   "outputs": [
    {
     "data": {
      "text/html": [
       "<div>\n",
       "<style scoped>\n",
       "    .dataframe tbody tr th:only-of-type {\n",
       "        vertical-align: middle;\n",
       "    }\n",
       "\n",
       "    .dataframe tbody tr th {\n",
       "        vertical-align: top;\n",
       "    }\n",
       "\n",
       "    .dataframe thead th {\n",
       "        text-align: right;\n",
       "    }\n",
       "</style>\n",
       "<table border=\"1\" class=\"dataframe\">\n",
       "  <thead>\n",
       "    <tr style=\"text-align: right;\">\n",
       "      <th></th>\n",
       "      <th>ProductType</th>\n",
       "      <th>Manufacturer</th>\n",
       "      <th>Area Code</th>\n",
       "      <th>Sourcing Channel</th>\n",
       "      <th>Product Size</th>\n",
       "      <th>Product Type</th>\n",
       "      <th>Month of Sourcing</th>\n",
       "      <th>Sourcing Cost</th>\n",
       "      <th>Year</th>\n",
       "      <th>Month</th>\n",
       "      <th>Predicted quantity</th>\n",
       "    </tr>\n",
       "  </thead>\n",
       "  <tbody>\n",
       "    <tr>\n",
       "      <th>0</th>\n",
       "      <td>NTM1</td>\n",
       "      <td>X1</td>\n",
       "      <td>A1</td>\n",
       "      <td>DIRECT</td>\n",
       "      <td>Small</td>\n",
       "      <td>Powder</td>\n",
       "      <td>2021-06-21</td>\n",
       "      <td>103.68</td>\n",
       "      <td>2021</td>\n",
       "      <td>6</td>\n",
       "      <td>974</td>\n",
       "    </tr>\n",
       "    <tr>\n",
       "      <th>1</th>\n",
       "      <td>NTM1</td>\n",
       "      <td>X1</td>\n",
       "      <td>A10</td>\n",
       "      <td>DIRECT</td>\n",
       "      <td>Large</td>\n",
       "      <td>Powder</td>\n",
       "      <td>2021-06-21</td>\n",
       "      <td>155.75</td>\n",
       "      <td>2021</td>\n",
       "      <td>6</td>\n",
       "      <td>661</td>\n",
       "    </tr>\n",
       "    <tr>\n",
       "      <th>2</th>\n",
       "      <td>NTM1</td>\n",
       "      <td>X1</td>\n",
       "      <td>A10</td>\n",
       "      <td>ECOM</td>\n",
       "      <td>Large</td>\n",
       "      <td>Powder</td>\n",
       "      <td>2021-06-21</td>\n",
       "      <td>143.02</td>\n",
       "      <td>2021</td>\n",
       "      <td>6</td>\n",
       "      <td>708</td>\n",
       "    </tr>\n",
       "    <tr>\n",
       "      <th>3</th>\n",
       "      <td>NTM1</td>\n",
       "      <td>X1</td>\n",
       "      <td>A11</td>\n",
       "      <td>DIRECT</td>\n",
       "      <td>Large</td>\n",
       "      <td>Powder</td>\n",
       "      <td>2021-06-21</td>\n",
       "      <td>139.39</td>\n",
       "      <td>2021</td>\n",
       "      <td>6</td>\n",
       "      <td>729</td>\n",
       "    </tr>\n",
       "    <tr>\n",
       "      <th>4</th>\n",
       "      <td>NTM1</td>\n",
       "      <td>X1</td>\n",
       "      <td>A2</td>\n",
       "      <td>DIRECT</td>\n",
       "      <td>Large</td>\n",
       "      <td>Powder</td>\n",
       "      <td>2021-06-21</td>\n",
       "      <td>169.42</td>\n",
       "      <td>2021</td>\n",
       "      <td>6</td>\n",
       "      <td>364</td>\n",
       "    </tr>\n",
       "    <tr>\n",
       "      <th>...</th>\n",
       "      <td>...</td>\n",
       "      <td>...</td>\n",
       "      <td>...</td>\n",
       "      <td>...</td>\n",
       "      <td>...</td>\n",
       "      <td>...</td>\n",
       "      <td>...</td>\n",
       "      <td>...</td>\n",
       "      <td>...</td>\n",
       "      <td>...</td>\n",
       "      <td>...</td>\n",
       "    </tr>\n",
       "    <tr>\n",
       "      <th>91</th>\n",
       "      <td>NTM3</td>\n",
       "      <td>X1</td>\n",
       "      <td>A44</td>\n",
       "      <td>DIRECT</td>\n",
       "      <td>Small</td>\n",
       "      <td>Liquid</td>\n",
       "      <td>2021-06-21</td>\n",
       "      <td>89.57</td>\n",
       "      <td>2021</td>\n",
       "      <td>6</td>\n",
       "      <td>680</td>\n",
       "    </tr>\n",
       "    <tr>\n",
       "      <th>92</th>\n",
       "      <td>NTM3</td>\n",
       "      <td>X1</td>\n",
       "      <td>A8</td>\n",
       "      <td>DIRECT</td>\n",
       "      <td>Large</td>\n",
       "      <td>Powder</td>\n",
       "      <td>2021-06-21</td>\n",
       "      <td>114.57</td>\n",
       "      <td>2021</td>\n",
       "      <td>6</td>\n",
       "      <td>566</td>\n",
       "    </tr>\n",
       "    <tr>\n",
       "      <th>93</th>\n",
       "      <td>NTM3</td>\n",
       "      <td>X1</td>\n",
       "      <td>A8</td>\n",
       "      <td>DIRECT</td>\n",
       "      <td>Small</td>\n",
       "      <td>Powder</td>\n",
       "      <td>2021-06-21</td>\n",
       "      <td>111.26</td>\n",
       "      <td>2021</td>\n",
       "      <td>6</td>\n",
       "      <td>567</td>\n",
       "    </tr>\n",
       "    <tr>\n",
       "      <th>94</th>\n",
       "      <td>NTM3</td>\n",
       "      <td>X2</td>\n",
       "      <td>A20</td>\n",
       "      <td>DIRECT</td>\n",
       "      <td>Large</td>\n",
       "      <td>Powder</td>\n",
       "      <td>2021-06-21</td>\n",
       "      <td>32.32</td>\n",
       "      <td>2021</td>\n",
       "      <td>6</td>\n",
       "      <td>597</td>\n",
       "    </tr>\n",
       "    <tr>\n",
       "      <th>95</th>\n",
       "      <td>NTM3</td>\n",
       "      <td>X3</td>\n",
       "      <td>A22</td>\n",
       "      <td>RETAIL</td>\n",
       "      <td>Large</td>\n",
       "      <td>Powder</td>\n",
       "      <td>2021-06-21</td>\n",
       "      <td>40.73</td>\n",
       "      <td>2021</td>\n",
       "      <td>6</td>\n",
       "      <td>689</td>\n",
       "    </tr>\n",
       "  </tbody>\n",
       "</table>\n",
       "<p>96 rows × 11 columns</p>\n",
       "</div>"
      ],
      "text/plain": [
       "   ProductType Manufacturer Area Code Sourcing Channel Product Size  \\\n",
       "0         NTM1           X1        A1           DIRECT        Small   \n",
       "1         NTM1           X1       A10           DIRECT        Large   \n",
       "2         NTM1           X1       A10             ECOM        Large   \n",
       "3         NTM1           X1       A11           DIRECT        Large   \n",
       "4         NTM1           X1        A2           DIRECT        Large   \n",
       "..         ...          ...       ...              ...          ...   \n",
       "91        NTM3           X1       A44           DIRECT        Small   \n",
       "92        NTM3           X1        A8           DIRECT        Large   \n",
       "93        NTM3           X1        A8           DIRECT        Small   \n",
       "94        NTM3           X2       A20           DIRECT        Large   \n",
       "95        NTM3           X3       A22           RETAIL        Large   \n",
       "\n",
       "   Product Type Month of Sourcing  Sourcing Cost  Year  Month  \\\n",
       "0        Powder        2021-06-21         103.68  2021      6   \n",
       "1        Powder        2021-06-21         155.75  2021      6   \n",
       "2        Powder        2021-06-21         143.02  2021      6   \n",
       "3        Powder        2021-06-21         139.39  2021      6   \n",
       "4        Powder        2021-06-21         169.42  2021      6   \n",
       "..          ...               ...            ...   ...    ...   \n",
       "91       Liquid        2021-06-21          89.57  2021      6   \n",
       "92       Powder        2021-06-21         114.57  2021      6   \n",
       "93       Powder        2021-06-21         111.26  2021      6   \n",
       "94       Powder        2021-06-21          32.32  2021      6   \n",
       "95       Powder        2021-06-21          40.73  2021      6   \n",
       "\n",
       "    Predicted quantity  \n",
       "0                  974  \n",
       "1                  661  \n",
       "2                  708  \n",
       "3                  729  \n",
       "4                  364  \n",
       "..                 ...  \n",
       "91                 680  \n",
       "92                 566  \n",
       "93                 567  \n",
       "94                 597  \n",
       "95                 689  \n",
       "\n",
       "[96 rows x 11 columns]"
      ]
     },
     "execution_count": 85,
     "metadata": {},
     "output_type": "execute_result"
    }
   ],
   "source": [
    "test_df_xgb['Predicted quantity'] = predictions_lstm.flatten().astype(int)\n",
    "test_df_xgb"
   ]
  },
  {
   "cell_type": "markdown",
   "metadata": {},
   "source": [
    "### <a id='toc4_2_3_'></a>[Random Forest Regressor](#toc0_)"
   ]
  },
  {
   "cell_type": "code",
   "execution_count": 86,
   "metadata": {},
   "outputs": [
    {
     "data": {
      "text/html": [
       "<style>#sk-container-id-4 {color: black;background-color: white;}#sk-container-id-4 pre{padding: 0;}#sk-container-id-4 div.sk-toggleable {background-color: white;}#sk-container-id-4 label.sk-toggleable__label {cursor: pointer;display: block;width: 100%;margin-bottom: 0;padding: 0.3em;box-sizing: border-box;text-align: center;}#sk-container-id-4 label.sk-toggleable__label-arrow:before {content: \"▸\";float: left;margin-right: 0.25em;color: #696969;}#sk-container-id-4 label.sk-toggleable__label-arrow:hover:before {color: black;}#sk-container-id-4 div.sk-estimator:hover label.sk-toggleable__label-arrow:before {color: black;}#sk-container-id-4 div.sk-toggleable__content {max-height: 0;max-width: 0;overflow: hidden;text-align: left;background-color: #f0f8ff;}#sk-container-id-4 div.sk-toggleable__content pre {margin: 0.2em;color: black;border-radius: 0.25em;background-color: #f0f8ff;}#sk-container-id-4 input.sk-toggleable__control:checked~div.sk-toggleable__content {max-height: 200px;max-width: 100%;overflow: auto;}#sk-container-id-4 input.sk-toggleable__control:checked~label.sk-toggleable__label-arrow:before {content: \"▾\";}#sk-container-id-4 div.sk-estimator input.sk-toggleable__control:checked~label.sk-toggleable__label {background-color: #d4ebff;}#sk-container-id-4 div.sk-label input.sk-toggleable__control:checked~label.sk-toggleable__label {background-color: #d4ebff;}#sk-container-id-4 input.sk-hidden--visually {border: 0;clip: rect(1px 1px 1px 1px);clip: rect(1px, 1px, 1px, 1px);height: 1px;margin: -1px;overflow: hidden;padding: 0;position: absolute;width: 1px;}#sk-container-id-4 div.sk-estimator {font-family: monospace;background-color: #f0f8ff;border: 1px dotted black;border-radius: 0.25em;box-sizing: border-box;margin-bottom: 0.5em;}#sk-container-id-4 div.sk-estimator:hover {background-color: #d4ebff;}#sk-container-id-4 div.sk-parallel-item::after {content: \"\";width: 100%;border-bottom: 1px solid gray;flex-grow: 1;}#sk-container-id-4 div.sk-label:hover label.sk-toggleable__label {background-color: #d4ebff;}#sk-container-id-4 div.sk-serial::before {content: \"\";position: absolute;border-left: 1px solid gray;box-sizing: border-box;top: 0;bottom: 0;left: 50%;z-index: 0;}#sk-container-id-4 div.sk-serial {display: flex;flex-direction: column;align-items: center;background-color: white;padding-right: 0.2em;padding-left: 0.2em;position: relative;}#sk-container-id-4 div.sk-item {position: relative;z-index: 1;}#sk-container-id-4 div.sk-parallel {display: flex;align-items: stretch;justify-content: center;background-color: white;position: relative;}#sk-container-id-4 div.sk-item::before, #sk-container-id-4 div.sk-parallel-item::before {content: \"\";position: absolute;border-left: 1px solid gray;box-sizing: border-box;top: 0;bottom: 0;left: 50%;z-index: -1;}#sk-container-id-4 div.sk-parallel-item {display: flex;flex-direction: column;z-index: 1;position: relative;background-color: white;}#sk-container-id-4 div.sk-parallel-item:first-child::after {align-self: flex-end;width: 50%;}#sk-container-id-4 div.sk-parallel-item:last-child::after {align-self: flex-start;width: 50%;}#sk-container-id-4 div.sk-parallel-item:only-child::after {width: 0;}#sk-container-id-4 div.sk-dashed-wrapped {border: 1px dashed gray;margin: 0 0.4em 0.5em 0.4em;box-sizing: border-box;padding-bottom: 0.4em;background-color: white;}#sk-container-id-4 div.sk-label label {font-family: monospace;font-weight: bold;display: inline-block;line-height: 1.2em;}#sk-container-id-4 div.sk-label-container {text-align: center;}#sk-container-id-4 div.sk-container {/* jupyter's `normalize.less` sets `[hidden] { display: none; }` but bootstrap.min.css set `[hidden] { display: none !important; }` so we also need the `!important` here to be able to override the default hidden behavior on the sphinx rendered scikit-learn.org. See: https://github.com/scikit-learn/scikit-learn/issues/21755 */display: inline-block !important;position: relative;}#sk-container-id-4 div.sk-text-repr-fallback {display: none;}</style><div id=\"sk-container-id-4\" class=\"sk-top-container\"><div class=\"sk-text-repr-fallback\"><pre>RandomForestRegressor()</pre><b>In a Jupyter environment, please rerun this cell to show the HTML representation or trust the notebook. <br />On GitHub, the HTML representation is unable to render, please try loading this page with nbviewer.org.</b></div><div class=\"sk-container\" hidden><div class=\"sk-item\"><div class=\"sk-estimator sk-toggleable\"><input class=\"sk-toggleable__control sk-hidden--visually\" id=\"sk-estimator-id-4\" type=\"checkbox\" checked><label for=\"sk-estimator-id-4\" class=\"sk-toggleable__label sk-toggleable__label-arrow\">RandomForestRegressor</label><div class=\"sk-toggleable__content\"><pre>RandomForestRegressor()</pre></div></div></div></div></div>"
      ],
      "text/plain": [
       "RandomForestRegressor()"
      ]
     },
     "execution_count": 86,
     "metadata": {},
     "output_type": "execute_result"
    }
   ],
   "source": [
    "from sklearn.ensemble import RandomForestRegressor\n",
    "\n",
    "# Train Random Forest model\n",
    "rf_reg = RandomForestRegressor()\n",
    "rf_reg.fit(X_train, y_train)\n"
   ]
  },
  {
   "cell_type": "code",
   "execution_count": 87,
   "metadata": {},
   "outputs": [],
   "source": [
    "#Predictions\n",
    "y_pred_rf = rf_reg.predict(X_test)"
   ]
  },
  {
   "cell_type": "code",
   "execution_count": 88,
   "metadata": {},
   "outputs": [
    {
     "name": "stdout",
     "output_type": "stream",
     "text": [
      "Predicted Quantity for July 2021:\n"
     ]
    },
    {
     "data": {
      "text/html": [
       "<div>\n",
       "<style scoped>\n",
       "    .dataframe tbody tr th:only-of-type {\n",
       "        vertical-align: middle;\n",
       "    }\n",
       "\n",
       "    .dataframe tbody tr th {\n",
       "        vertical-align: top;\n",
       "    }\n",
       "\n",
       "    .dataframe thead th {\n",
       "        text-align: right;\n",
       "    }\n",
       "</style>\n",
       "<table border=\"1\" class=\"dataframe\">\n",
       "  <thead>\n",
       "    <tr style=\"text-align: right;\">\n",
       "      <th></th>\n",
       "      <th>Predicted Quantity</th>\n",
       "    </tr>\n",
       "  </thead>\n",
       "  <tbody>\n",
       "    <tr>\n",
       "      <th>0</th>\n",
       "      <td>1041.12</td>\n",
       "    </tr>\n",
       "    <tr>\n",
       "      <th>1</th>\n",
       "      <td>503.53</td>\n",
       "    </tr>\n",
       "    <tr>\n",
       "      <th>2</th>\n",
       "      <td>290.26</td>\n",
       "    </tr>\n",
       "    <tr>\n",
       "      <th>3</th>\n",
       "      <td>896.91</td>\n",
       "    </tr>\n",
       "    <tr>\n",
       "      <th>4</th>\n",
       "      <td>422.03</td>\n",
       "    </tr>\n",
       "    <tr>\n",
       "      <th>...</th>\n",
       "      <td>...</td>\n",
       "    </tr>\n",
       "    <tr>\n",
       "      <th>91</th>\n",
       "      <td>698.83</td>\n",
       "    </tr>\n",
       "    <tr>\n",
       "      <th>92</th>\n",
       "      <td>485.11</td>\n",
       "    </tr>\n",
       "    <tr>\n",
       "      <th>93</th>\n",
       "      <td>184.58</td>\n",
       "    </tr>\n",
       "    <tr>\n",
       "      <th>94</th>\n",
       "      <td>283.69</td>\n",
       "    </tr>\n",
       "    <tr>\n",
       "      <th>95</th>\n",
       "      <td>812.60</td>\n",
       "    </tr>\n",
       "  </tbody>\n",
       "</table>\n",
       "<p>96 rows × 1 columns</p>\n",
       "</div>"
      ],
      "text/plain": [
       "    Predicted Quantity\n",
       "0              1041.12\n",
       "1               503.53\n",
       "2               290.26\n",
       "3               896.91\n",
       "4               422.03\n",
       "..                 ...\n",
       "91              698.83\n",
       "92              485.11\n",
       "93              184.58\n",
       "94              283.69\n",
       "95              812.60\n",
       "\n",
       "[96 rows x 1 columns]"
      ]
     },
     "execution_count": 88,
     "metadata": {},
     "output_type": "execute_result"
    }
   ],
   "source": [
    "test_df_rf = test_df.copy()\n",
    "\n",
    "# Creating a DataFrame to display original and predicted quantity values side by side\n",
    "quantity_df_rf = pd.DataFrame({'Predicted Quantity': y_pred_rf.flatten()})\n",
    "\n",
    "# Display the DataFrame\n",
    "print(\"Predicted Quantity for July 2021:\")\n",
    "#Difference between original and predicted quantity\n",
    "quantity_df_rf"
   ]
  },
  {
   "cell_type": "code",
   "execution_count": 89,
   "metadata": {},
   "outputs": [
    {
     "data": {
      "text/html": [
       "<div>\n",
       "<style scoped>\n",
       "    .dataframe tbody tr th:only-of-type {\n",
       "        vertical-align: middle;\n",
       "    }\n",
       "\n",
       "    .dataframe tbody tr th {\n",
       "        vertical-align: top;\n",
       "    }\n",
       "\n",
       "    .dataframe thead th {\n",
       "        text-align: right;\n",
       "    }\n",
       "</style>\n",
       "<table border=\"1\" class=\"dataframe\">\n",
       "  <thead>\n",
       "    <tr style=\"text-align: right;\">\n",
       "      <th></th>\n",
       "      <th>ProductType</th>\n",
       "      <th>Manufacturer</th>\n",
       "      <th>Area Code</th>\n",
       "      <th>Sourcing Channel</th>\n",
       "      <th>Product Size</th>\n",
       "      <th>Product Type</th>\n",
       "      <th>Month of Sourcing</th>\n",
       "      <th>Sourcing Cost</th>\n",
       "      <th>Year</th>\n",
       "      <th>Month</th>\n",
       "      <th>Predicted quantity</th>\n",
       "    </tr>\n",
       "  </thead>\n",
       "  <tbody>\n",
       "    <tr>\n",
       "      <th>0</th>\n",
       "      <td>NTM1</td>\n",
       "      <td>X1</td>\n",
       "      <td>A1</td>\n",
       "      <td>DIRECT</td>\n",
       "      <td>Small</td>\n",
       "      <td>Powder</td>\n",
       "      <td>2021-06-21</td>\n",
       "      <td>103.68</td>\n",
       "      <td>2021</td>\n",
       "      <td>6</td>\n",
       "      <td>974</td>\n",
       "    </tr>\n",
       "    <tr>\n",
       "      <th>1</th>\n",
       "      <td>NTM1</td>\n",
       "      <td>X1</td>\n",
       "      <td>A10</td>\n",
       "      <td>DIRECT</td>\n",
       "      <td>Large</td>\n",
       "      <td>Powder</td>\n",
       "      <td>2021-06-21</td>\n",
       "      <td>155.75</td>\n",
       "      <td>2021</td>\n",
       "      <td>6</td>\n",
       "      <td>661</td>\n",
       "    </tr>\n",
       "    <tr>\n",
       "      <th>2</th>\n",
       "      <td>NTM1</td>\n",
       "      <td>X1</td>\n",
       "      <td>A10</td>\n",
       "      <td>ECOM</td>\n",
       "      <td>Large</td>\n",
       "      <td>Powder</td>\n",
       "      <td>2021-06-21</td>\n",
       "      <td>143.02</td>\n",
       "      <td>2021</td>\n",
       "      <td>6</td>\n",
       "      <td>708</td>\n",
       "    </tr>\n",
       "    <tr>\n",
       "      <th>3</th>\n",
       "      <td>NTM1</td>\n",
       "      <td>X1</td>\n",
       "      <td>A11</td>\n",
       "      <td>DIRECT</td>\n",
       "      <td>Large</td>\n",
       "      <td>Powder</td>\n",
       "      <td>2021-06-21</td>\n",
       "      <td>139.39</td>\n",
       "      <td>2021</td>\n",
       "      <td>6</td>\n",
       "      <td>729</td>\n",
       "    </tr>\n",
       "    <tr>\n",
       "      <th>4</th>\n",
       "      <td>NTM1</td>\n",
       "      <td>X1</td>\n",
       "      <td>A2</td>\n",
       "      <td>DIRECT</td>\n",
       "      <td>Large</td>\n",
       "      <td>Powder</td>\n",
       "      <td>2021-06-21</td>\n",
       "      <td>169.42</td>\n",
       "      <td>2021</td>\n",
       "      <td>6</td>\n",
       "      <td>364</td>\n",
       "    </tr>\n",
       "    <tr>\n",
       "      <th>...</th>\n",
       "      <td>...</td>\n",
       "      <td>...</td>\n",
       "      <td>...</td>\n",
       "      <td>...</td>\n",
       "      <td>...</td>\n",
       "      <td>...</td>\n",
       "      <td>...</td>\n",
       "      <td>...</td>\n",
       "      <td>...</td>\n",
       "      <td>...</td>\n",
       "      <td>...</td>\n",
       "    </tr>\n",
       "    <tr>\n",
       "      <th>91</th>\n",
       "      <td>NTM3</td>\n",
       "      <td>X1</td>\n",
       "      <td>A44</td>\n",
       "      <td>DIRECT</td>\n",
       "      <td>Small</td>\n",
       "      <td>Liquid</td>\n",
       "      <td>2021-06-21</td>\n",
       "      <td>89.57</td>\n",
       "      <td>2021</td>\n",
       "      <td>6</td>\n",
       "      <td>680</td>\n",
       "    </tr>\n",
       "    <tr>\n",
       "      <th>92</th>\n",
       "      <td>NTM3</td>\n",
       "      <td>X1</td>\n",
       "      <td>A8</td>\n",
       "      <td>DIRECT</td>\n",
       "      <td>Large</td>\n",
       "      <td>Powder</td>\n",
       "      <td>2021-06-21</td>\n",
       "      <td>114.57</td>\n",
       "      <td>2021</td>\n",
       "      <td>6</td>\n",
       "      <td>566</td>\n",
       "    </tr>\n",
       "    <tr>\n",
       "      <th>93</th>\n",
       "      <td>NTM3</td>\n",
       "      <td>X1</td>\n",
       "      <td>A8</td>\n",
       "      <td>DIRECT</td>\n",
       "      <td>Small</td>\n",
       "      <td>Powder</td>\n",
       "      <td>2021-06-21</td>\n",
       "      <td>111.26</td>\n",
       "      <td>2021</td>\n",
       "      <td>6</td>\n",
       "      <td>567</td>\n",
       "    </tr>\n",
       "    <tr>\n",
       "      <th>94</th>\n",
       "      <td>NTM3</td>\n",
       "      <td>X2</td>\n",
       "      <td>A20</td>\n",
       "      <td>DIRECT</td>\n",
       "      <td>Large</td>\n",
       "      <td>Powder</td>\n",
       "      <td>2021-06-21</td>\n",
       "      <td>32.32</td>\n",
       "      <td>2021</td>\n",
       "      <td>6</td>\n",
       "      <td>597</td>\n",
       "    </tr>\n",
       "    <tr>\n",
       "      <th>95</th>\n",
       "      <td>NTM3</td>\n",
       "      <td>X3</td>\n",
       "      <td>A22</td>\n",
       "      <td>RETAIL</td>\n",
       "      <td>Large</td>\n",
       "      <td>Powder</td>\n",
       "      <td>2021-06-21</td>\n",
       "      <td>40.73</td>\n",
       "      <td>2021</td>\n",
       "      <td>6</td>\n",
       "      <td>689</td>\n",
       "    </tr>\n",
       "  </tbody>\n",
       "</table>\n",
       "<p>96 rows × 11 columns</p>\n",
       "</div>"
      ],
      "text/plain": [
       "   ProductType Manufacturer Area Code Sourcing Channel Product Size  \\\n",
       "0         NTM1           X1        A1           DIRECT        Small   \n",
       "1         NTM1           X1       A10           DIRECT        Large   \n",
       "2         NTM1           X1       A10             ECOM        Large   \n",
       "3         NTM1           X1       A11           DIRECT        Large   \n",
       "4         NTM1           X1        A2           DIRECT        Large   \n",
       "..         ...          ...       ...              ...          ...   \n",
       "91        NTM3           X1       A44           DIRECT        Small   \n",
       "92        NTM3           X1        A8           DIRECT        Large   \n",
       "93        NTM3           X1        A8           DIRECT        Small   \n",
       "94        NTM3           X2       A20           DIRECT        Large   \n",
       "95        NTM3           X3       A22           RETAIL        Large   \n",
       "\n",
       "   Product Type Month of Sourcing  Sourcing Cost  Year  Month  \\\n",
       "0        Powder        2021-06-21         103.68  2021      6   \n",
       "1        Powder        2021-06-21         155.75  2021      6   \n",
       "2        Powder        2021-06-21         143.02  2021      6   \n",
       "3        Powder        2021-06-21         139.39  2021      6   \n",
       "4        Powder        2021-06-21         169.42  2021      6   \n",
       "..          ...               ...            ...   ...    ...   \n",
       "91       Liquid        2021-06-21          89.57  2021      6   \n",
       "92       Powder        2021-06-21         114.57  2021      6   \n",
       "93       Powder        2021-06-21         111.26  2021      6   \n",
       "94       Powder        2021-06-21          32.32  2021      6   \n",
       "95       Powder        2021-06-21          40.73  2021      6   \n",
       "\n",
       "    Predicted quantity  \n",
       "0                  974  \n",
       "1                  661  \n",
       "2                  708  \n",
       "3                  729  \n",
       "4                  364  \n",
       "..                 ...  \n",
       "91                 680  \n",
       "92                 566  \n",
       "93                 567  \n",
       "94                 597  \n",
       "95                 689  \n",
       "\n",
       "[96 rows x 11 columns]"
      ]
     },
     "execution_count": 89,
     "metadata": {},
     "output_type": "execute_result"
    }
   ],
   "source": [
    "test_df_rf['Predicted quantity'] = predictions_lstm.flatten().astype(int)\n",
    "test_df_rf"
   ]
  },
  {
   "cell_type": "code",
   "execution_count": 90,
   "metadata": {},
   "outputs": [
    {
     "data": {
      "text/plain": [
       "-7.709350312499983"
      ]
     },
     "execution_count": 90,
     "metadata": {},
     "output_type": "execute_result"
    }
   ],
   "source": [
    "cost_comparison_df_rf['Difference'].mean()"
   ]
  },
  {
   "cell_type": "markdown",
   "metadata": {},
   "source": [
    "# <a id='toc5_'></a>[Approach to the Problem Statement](#toc0_)\n",
    "\n",
    "\n"
   ]
  },
  {
   "cell_type": "markdown",
   "metadata": {},
   "source": [
    "<div class=\"alert alert-block alert-warning\">\n",
    "\n",
    "The problem statement involves forecasting the <b>Sourcing Cost</b> and <b>Quantity</b> for different product combinations based on categorical features such as <b>Product Type</b>, <b>Manufacturer</b>, <b>Area Code</b>, <b>Sourcing Channel</b>, <b>Product Size</b>, and <b>Product Type (Powder vs. Liquid)</b>. The dataset contains historical data on the sourcing cost and quantity for various product combinations over different months.\n",
    "\n",
    "So I first tired to find if I can make a quantity column for the given dataset , their are total 96 unique product combinations in the dataset. So I extracted the quantity of the different product combinations and added it to the training data. Then I visualized the data and then I forecasted the <b>Sourcing Cost</b> and <b>Quantity</b> using different models like LSTM, XGBoost Regressor, and Random Forest Regressor.\n",
    "\n",
    "This approach is currently not working as the data is less if more data provided then the models will be able to predict the values more accurately.\n",
    "Detailed explanation is provided below.\n",
    "</div>"
   ]
  },
  {
   "cell_type": "markdown",
   "metadata": {},
   "source": [
    "<div class=\"alert alert-block alert-success\">\n",
    "\n",
    "<div class=\"problem-statement\">\n",
    "\n",
    "<h3>The Problem Statement:</h3>\n",
    "\n",
    "<p>The problem statement involves forecasting the Sourcing Cost and Quantity for different product combinations based on categorical features such as Product Type, Manufacturer, Area Code, Sourcing Channel, Product Size, and Product Type (Powder vs. Liquid). The dataset contains historical data on the sourcing cost and quantity for various product combinations over different months.</p>\n",
    "</div>\n",
    "\n",
    "<div class=\"approach\">\n",
    "\n",
    "<h3>Approach:</h3>\n",
    "\n",
    "<ol>\n",
    "\t<li><strong>Data Preprocessing and Feature Engineering:</strong>\n",
    "\t\t<ul>\n",
    "\t\t\t<li>Read the dataset from the given Excel file containing multiple sheets.</li>\n",
    "\t\t\t<li>Use the 'Training Dataset' and 'Test Dataset' sheets for further analysis.</li>\n",
    "\t\t\t<li>Convert the 'Month of Sourcing' column to datetime format and create new 'Year' and 'Month' columns.</li>\n",
    "\t\t\t<li>Extract the quantity of different product combinations and add it to the training data.</li>\n",
    "\t\t</ul>\n",
    "\t</li>\n",
    "\t<li><strong>Exploratory Data Analysis (EDA):</strong>\n",
    "\t\t<ul>\n",
    "\t\t\t<li>Perform EDA on the training dataset to understand the data distribution, missing values, and category distribution.</li>\n",
    "\t\t\t<li>Create visualizations for categorical features using bar charts.</li>\n",
    "\t\t</ul>\n",
    "\t</li>\n",
    "\t<li><strong>Data Visualization on Training Data (categorical features):</strong>\n",
    "\t\t<ul>\n",
    "\t\t\t<li>Create bar charts for each categorical feature in the training dataset, showing the value counts of each category.</li>\n",
    "\t\t\t<li>This helps in understanding the distribution of categories in the dataset.</li>\n",
    "\t\t</ul>\n",
    "\t</li>\n",
    "\t<li><strong>Forecasting the Sourcing Cost:</strong>\n",
    "\t\t<ul>\n",
    "\t\t\t<li>Use LSTM, XGBoost Regressor, and Random Forest Regressor models for forecasting the sourcing cost.</li>\n",
    "\t\t\t<li>Train the models on the training dataset and make predictions on the test dataset.</li>\n",
    "\t\t\t<li>Compare the original and predicted sourcing costs using a DataFrame and calculate the difference between them.</li>\n",
    "\t\t</ul>\n",
    "\t</li>\n",
    "\t<li><strong>Forecasting the Quantity:</strong>\n",
    "\t\t<ul>\n",
    "\t\t\t<li>Use the LSTM model for forecasting the quantity.</li>\n",
    "\t\t\t<li>Train the model on the training dataset and make predictions on the test dataset.</li>\n",
    "\t\t\t<li>Display the predicted quantity for June 2021.</li>\n",
    "\t\t</ul>\n",
    "\t</li>\n",
    "</ol>\n",
    "</div>\n",
    "\n",
    "<div class=\"improvements\">\n",
    "\n",
    "<h3>Improvements:</h3>\n",
    "\n",
    "<ol>\n",
    "\t<li>Gather more historical data on the sourcing cost and quantity for various product combinations to improve the forecasting accuracy.</li>\n",
    "\t<li>Create additional features such as moving averages, trend, and seasonality components for the sourcing cost and quantity.</li>\n",
    "\t<li>Tune the hyperparameters of the LSTM, XGBoost Regressor, and Random Forest Regressor models to achieve better forecasting results.</li>\n",
    "\t<li>Create ensemble models by combining the predictions of the LSTM, XGBoost Regressor, and Random Forest Regressor models for more accurate and robust forecasting results.</li>\n",
    "</ol>\n",
    "</div>\n",
    "\n",
    "<div class=\"conclusion\">\n",
    "\n",
    "<h3>Conclusion:</h3>\n",
    "\n",
    "<p>The given approach involves proper data preprocessing, exploratory data analysis, and forecasting of sourcing cost and quantity using various machine learning models. The outputs and visualizations provided help in understanding the data distribution and the performance of the models used for forecasting. The approach can be further improved by gathering more data, creating additional features, tuning the models, and using ensemble models.</p>\n",
    "</div>\n",
    "</div>"
   ]
  },
  {
   "cell_type": "markdown",
   "metadata": {},
   "source": [
    "# Author"
   ]
  },
  {
   "cell_type": "markdown",
   "metadata": {},
   "source": [
    "<div class=\"alert alert-block alert-info\">\n",
    "    <p><strong>Name:</strong> Jainil Patel</p>\n",
    "    <p><strong>College:</strong> Symbiosis Institute of Technology, Pune</p>\n",
    "    <p><strong>Branch:</strong> Artificial Intelligence and Machine Learning (AI ML)</p>\n",
    "    <p><strong>Year:</strong> 3rd Year</p>\n",
    "    <p><strong>PRN:</strong> 21070126039</p>\n",
    "    <p><strong>Email:</strong> <a href=\"mailto:jainil24680@gmail.com\">jainil24680@gmail.com</a></p>\n",
    "    <p><strong>LinkedIn:</strong> <a href=\"https://www.linkedin.com/in/jainil-patel-2857ab202/\">Jainil Patel</a></p>\n",
    "    <p><strong>GitHub:</strong> <a href=\"https://github.com/astro215\">astro215</a></p>\n",
    "    <p><strong>Resume:</strong> <a href=\"https://flowcv.com/resume/q3t7eurpt6\">Jainil Patel's Resume</a></p>\n",
    "</div>\n"
   ]
  },
  {
   "cell_type": "markdown",
   "metadata": {},
   "source": [
    "# Acknowledgements\n",
    "Thanks to the company for providing the DS_ML Coding Challenge and the opportunity to work on this interesting problem."
   ]
  }
 ],
 "metadata": {
  "kernelspec": {
   "display_name": "Python 3 (ipykernel)",
   "language": "python",
   "name": "python3"
  },
  "language_info": {
   "codemirror_mode": {
    "name": "ipython",
    "version": 3
   },
   "file_extension": ".py",
   "mimetype": "text/x-python",
   "name": "python",
   "nbconvert_exporter": "python",
   "pygments_lexer": "ipython3",
   "version": "3.11.4"
  }
 },
 "nbformat": 4,
 "nbformat_minor": 4
}
